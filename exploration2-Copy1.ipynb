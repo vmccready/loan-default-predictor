{
 "cells": [
  {
   "cell_type": "code",
   "execution_count": 1,
   "id": "assigned-acceptance",
   "metadata": {},
   "outputs": [],
   "source": [
    "import numpy as np\n",
    "import pandas as pd\n",
    "import matplotlib.pyplot as plt\n",
    "import re\n",
    "import pickle\n",
    "\n",
    "from glob import iglob\n",
    "import datetime"
   ]
  },
  {
   "cell_type": "code",
   "execution_count": 2,
   "id": "alternative-outside",
   "metadata": {},
   "outputs": [],
   "source": [
    "import importlib\n",
    "import src.pipeline as pipeline"
   ]
  },
  {
   "cell_type": "code",
   "execution_count": 338,
   "id": "governing-intervention",
   "metadata": {},
   "outputs": [
    {
     "data": {
      "text/plain": [
       "<module 'src.pipeline' from '/Users/vinsonmccready/galvanize/loan-default-predictor/src/pipeline.py'>"
      ]
     },
     "execution_count": 338,
     "metadata": {},
     "output_type": "execute_result"
    }
   ],
   "source": [
    "importlib.reload(pipeline)"
   ]
  },
  {
   "cell_type": "code",
   "execution_count": 3,
   "id": "laughing-spank",
   "metadata": {},
   "outputs": [],
   "source": [
    "data = pipeline.get_all_data('data/raw/')"
   ]
  },
  {
   "cell_type": "code",
   "execution_count": 4,
   "id": "needed-smith",
   "metadata": {
    "scrolled": true
   },
   "outputs": [
    {
     "data": {
      "text/html": [
       "<div>\n",
       "<style scoped>\n",
       "    .dataframe tbody tr th:only-of-type {\n",
       "        vertical-align: middle;\n",
       "    }\n",
       "\n",
       "    .dataframe tbody tr th {\n",
       "        vertical-align: top;\n",
       "    }\n",
       "\n",
       "    .dataframe thead th {\n",
       "        text-align: right;\n",
       "    }\n",
       "</style>\n",
       "<table border=\"1\" class=\"dataframe\">\n",
       "  <thead>\n",
       "    <tr style=\"text-align: right;\">\n",
       "      <th></th>\n",
       "      <th>id</th>\n",
       "      <th>member_id</th>\n",
       "      <th>loan_amnt</th>\n",
       "      <th>funded_amnt</th>\n",
       "      <th>funded_amnt_inv</th>\n",
       "      <th>term</th>\n",
       "      <th>int_rate</th>\n",
       "      <th>installment</th>\n",
       "      <th>grade</th>\n",
       "      <th>sub_grade</th>\n",
       "      <th>...</th>\n",
       "      <th>sec_app_inq_last_6mths</th>\n",
       "      <th>sec_app_mort_acc</th>\n",
       "      <th>sec_app_open_acc</th>\n",
       "      <th>sec_app_revol_util</th>\n",
       "      <th>sec_app_num_rev_accts</th>\n",
       "      <th>sec_app_chargeoff_within_12_mths</th>\n",
       "      <th>sec_app_collections_12_mths_ex_med</th>\n",
       "      <th>sec_app_mths_since_last_major_derog</th>\n",
       "      <th>year</th>\n",
       "      <th>date</th>\n",
       "    </tr>\n",
       "  </thead>\n",
       "  <tbody>\n",
       "    <tr>\n",
       "      <th>0</th>\n",
       "      <td>145217616</td>\n",
       "      <td>NaN</td>\n",
       "      <td>10000</td>\n",
       "      <td>10000</td>\n",
       "      <td>10000.0</td>\n",
       "      <td>36 months</td>\n",
       "      <td>10.33%</td>\n",
       "      <td>324.23</td>\n",
       "      <td>B</td>\n",
       "      <td>B1</td>\n",
       "      <td>...</td>\n",
       "      <td>NaN</td>\n",
       "      <td>NaN</td>\n",
       "      <td>NaN</td>\n",
       "      <td>NaN</td>\n",
       "      <td>NaN</td>\n",
       "      <td>NaN</td>\n",
       "      <td>NaN</td>\n",
       "      <td>NaN</td>\n",
       "      <td>18</td>\n",
       "      <td>0018-12-01</td>\n",
       "    </tr>\n",
       "    <tr>\n",
       "      <th>1</th>\n",
       "      <td>145640422</td>\n",
       "      <td>NaN</td>\n",
       "      <td>2500</td>\n",
       "      <td>2500</td>\n",
       "      <td>2500.0</td>\n",
       "      <td>36 months</td>\n",
       "      <td>13.56%</td>\n",
       "      <td>84.92</td>\n",
       "      <td>C</td>\n",
       "      <td>C1</td>\n",
       "      <td>...</td>\n",
       "      <td>NaN</td>\n",
       "      <td>NaN</td>\n",
       "      <td>NaN</td>\n",
       "      <td>NaN</td>\n",
       "      <td>NaN</td>\n",
       "      <td>NaN</td>\n",
       "      <td>NaN</td>\n",
       "      <td>NaN</td>\n",
       "      <td>18</td>\n",
       "      <td>0018-12-01</td>\n",
       "    </tr>\n",
       "    <tr>\n",
       "      <th>2</th>\n",
       "      <td>145630143</td>\n",
       "      <td>NaN</td>\n",
       "      <td>12000</td>\n",
       "      <td>12000</td>\n",
       "      <td>12000.0</td>\n",
       "      <td>60 months</td>\n",
       "      <td>13.56%</td>\n",
       "      <td>276.49</td>\n",
       "      <td>C</td>\n",
       "      <td>C1</td>\n",
       "      <td>...</td>\n",
       "      <td>NaN</td>\n",
       "      <td>NaN</td>\n",
       "      <td>NaN</td>\n",
       "      <td>NaN</td>\n",
       "      <td>NaN</td>\n",
       "      <td>NaN</td>\n",
       "      <td>NaN</td>\n",
       "      <td>NaN</td>\n",
       "      <td>18</td>\n",
       "      <td>0018-12-01</td>\n",
       "    </tr>\n",
       "    <tr>\n",
       "      <th>3</th>\n",
       "      <td>145127870</td>\n",
       "      <td>NaN</td>\n",
       "      <td>15000</td>\n",
       "      <td>15000</td>\n",
       "      <td>14975.0</td>\n",
       "      <td>60 months</td>\n",
       "      <td>14.47%</td>\n",
       "      <td>352.69</td>\n",
       "      <td>C</td>\n",
       "      <td>C2</td>\n",
       "      <td>...</td>\n",
       "      <td>0.0</td>\n",
       "      <td>0.0</td>\n",
       "      <td>16.0</td>\n",
       "      <td>48.8</td>\n",
       "      <td>15.0</td>\n",
       "      <td>0.0</td>\n",
       "      <td>0.0</td>\n",
       "      <td>NaN</td>\n",
       "      <td>18</td>\n",
       "      <td>0018-12-01</td>\n",
       "    </tr>\n",
       "    <tr>\n",
       "      <th>4</th>\n",
       "      <td>145558466</td>\n",
       "      <td>NaN</td>\n",
       "      <td>16000</td>\n",
       "      <td>16000</td>\n",
       "      <td>16000.0</td>\n",
       "      <td>60 months</td>\n",
       "      <td>17.97%</td>\n",
       "      <td>406.04</td>\n",
       "      <td>D</td>\n",
       "      <td>D1</td>\n",
       "      <td>...</td>\n",
       "      <td>NaN</td>\n",
       "      <td>NaN</td>\n",
       "      <td>NaN</td>\n",
       "      <td>NaN</td>\n",
       "      <td>NaN</td>\n",
       "      <td>NaN</td>\n",
       "      <td>NaN</td>\n",
       "      <td>NaN</td>\n",
       "      <td>18</td>\n",
       "      <td>0018-12-01</td>\n",
       "    </tr>\n",
       "  </tbody>\n",
       "</table>\n",
       "<p>5 rows × 128 columns</p>\n",
       "</div>"
      ],
      "text/plain": [
       "          id  member_id  loan_amnt  funded_amnt  funded_amnt_inv        term  \\\n",
       "0  145217616        NaN      10000        10000          10000.0   36 months   \n",
       "1  145640422        NaN       2500         2500           2500.0   36 months   \n",
       "2  145630143        NaN      12000        12000          12000.0   60 months   \n",
       "3  145127870        NaN      15000        15000          14975.0   60 months   \n",
       "4  145558466        NaN      16000        16000          16000.0   60 months   \n",
       "\n",
       "  int_rate  installment grade sub_grade  ... sec_app_inq_last_6mths  \\\n",
       "0   10.33%       324.23     B        B1  ...                    NaN   \n",
       "1   13.56%        84.92     C        C1  ...                    NaN   \n",
       "2   13.56%       276.49     C        C1  ...                    NaN   \n",
       "3   14.47%       352.69     C        C2  ...                    0.0   \n",
       "4   17.97%       406.04     D        D1  ...                    NaN   \n",
       "\n",
       "  sec_app_mort_acc sec_app_open_acc  sec_app_revol_util sec_app_num_rev_accts  \\\n",
       "0              NaN              NaN                 NaN                   NaN   \n",
       "1              NaN              NaN                 NaN                   NaN   \n",
       "2              NaN              NaN                 NaN                   NaN   \n",
       "3              0.0             16.0                48.8                  15.0   \n",
       "4              NaN              NaN                 NaN                   NaN   \n",
       "\n",
       "  sec_app_chargeoff_within_12_mths sec_app_collections_12_mths_ex_med  \\\n",
       "0                              NaN                                NaN   \n",
       "1                              NaN                                NaN   \n",
       "2                              NaN                                NaN   \n",
       "3                              0.0                                0.0   \n",
       "4                              NaN                                NaN   \n",
       "\n",
       "  sec_app_mths_since_last_major_derog year        date  \n",
       "0                                 NaN   18  0018-12-01  \n",
       "1                                 NaN   18  0018-12-01  \n",
       "2                                 NaN   18  0018-12-01  \n",
       "3                                 NaN   18  0018-12-01  \n",
       "4                                 NaN   18  0018-12-01  \n",
       "\n",
       "[5 rows x 128 columns]"
      ]
     },
     "execution_count": 4,
     "metadata": {},
     "output_type": "execute_result"
    }
   ],
   "source": [
    "data.head()"
   ]
  },
  {
   "cell_type": "code",
   "execution_count": 11,
   "id": "interior-article",
   "metadata": {},
   "outputs": [],
   "source": [
    "with open('data/X_drop.pickle', 'rb') as f:\n",
    "    cols = pickle.load(f)"
   ]
  },
  {
   "cell_type": "code",
   "execution_count": 12,
   "id": "behind-queensland",
   "metadata": {},
   "outputs": [],
   "source": [
    "drop = cols"
   ]
  },
  {
   "cell_type": "markdown",
   "id": "seventh-flight",
   "metadata": {},
   "source": [
    "## Data\n",
    "The data includes loans that are not complete. I will be looking primarily at loans that are either fully paid off or charged off. "
   ]
  },
  {
   "cell_type": "code",
   "execution_count": 5,
   "id": "presidential-custody",
   "metadata": {
    "scrolled": true
   },
   "outputs": [
    {
     "data": {
      "text/plain": [
       "Current               2086919\n",
       "Fully Paid             552459\n",
       "Charged Off            131231\n",
       "Late (31-120 days)      32304\n",
       "In Grace Period         22089\n",
       "Issued                  21294\n",
       "Late (16-30 days)        8147\n",
       "Default                    29\n",
       "Name: loan_status, dtype: int64"
      ]
     },
     "execution_count": 5,
     "metadata": {},
     "output_type": "execute_result"
    }
   ],
   "source": [
    "data['loan_status'].value_counts()"
   ]
  },
  {
   "cell_type": "markdown",
   "id": "pressing-stroke",
   "metadata": {},
   "source": [
    "Additional analysis may be done on joint applications, but for the purposes of this predictor I will only be using individual applicants. "
   ]
  },
  {
   "cell_type": "code",
   "execution_count": 6,
   "id": "operating-pencil",
   "metadata": {
    "scrolled": true
   },
   "outputs": [
    {
     "data": {
      "text/plain": [
       "INDIVIDUAL    1359464\n",
       "Individual    1284175\n",
       "Joint App      194206\n",
       "JOINT           13707\n",
       "DIRECT_PAY       2920\n",
       "Name: application_type, dtype: int64"
      ]
     },
     "execution_count": 6,
     "metadata": {},
     "output_type": "execute_result"
    }
   ],
   "source": [
    "data['application_type'].value_counts()"
   ]
  },
  {
   "cell_type": "code",
   "execution_count": 7,
   "id": "interpreted-blanket",
   "metadata": {},
   "outputs": [
    {
     "data": {
      "text/plain": [
       "array(['Individual', 'INDIVIDUAL'], dtype=object)"
      ]
     },
     "execution_count": 7,
     "metadata": {},
     "output_type": "execute_result"
    }
   ],
   "source": [
    "# Only use individual loan types\n",
    "data = pipeline.individual_data(data)\n",
    "data['application_type'].unique()"
   ]
  },
  {
   "cell_type": "code",
   "execution_count": 8,
   "id": "sealed-hughes",
   "metadata": {},
   "outputs": [
    {
     "data": {
      "text/plain": [
       "2643639"
      ]
     },
     "execution_count": 8,
     "metadata": {},
     "output_type": "execute_result"
    }
   ],
   "source": [
    "data.shape[0]"
   ]
  },
  {
   "cell_type": "markdown",
   "id": "overall-training",
   "metadata": {},
   "source": [
    "### Missing Data\n",
    "There is a significant amount of missing data in some columns. These however are still very useful columns and the null value generally indicates a 0 value. "
   ]
  },
  {
   "cell_type": "code",
   "execution_count": 9,
   "id": "infrared-ridge",
   "metadata": {
    "scrolled": true
   },
   "outputs": [
    {
     "data": {
      "text/plain": [
       "member_id                              1.000000\n",
       "desc                                   0.963374\n",
       "mths_since_last_delinq                 0.519161\n",
       "mths_since_last_record                 0.850447\n",
       "next_pymnt_d                           0.254702\n",
       "mths_since_last_major_derog            0.744397\n",
       "annual_inc_joint                       1.000000\n",
       "dti_joint                              1.000000\n",
       "verification_status_joint              1.000000\n",
       "open_acc_6m                            0.311407\n",
       "open_il_12m                            0.311406\n",
       "open_il_24m                            0.311406\n",
       "mths_since_rcnt_il                     0.331586\n",
       "total_bal_il                           0.311406\n",
       "il_util                                0.407763\n",
       "open_rv_12m                            0.311406\n",
       "open_rv_24m                            0.311406\n",
       "max_bal_bc                             0.311406\n",
       "all_util                               0.311497\n",
       "inq_fi                                 0.311406\n",
       "total_cu_tl                            0.311407\n",
       "inq_last_12m                           0.311407\n",
       "mths_since_recent_bc_dlq               0.771040\n",
       "mths_since_recent_revol_delinq         0.673056\n",
       "revol_bal_joint                        1.000000\n",
       "sec_app_fico_range_low                 1.000000\n",
       "sec_app_fico_range_high                1.000000\n",
       "sec_app_earliest_cr_line               1.000000\n",
       "sec_app_inq_last_6mths                 1.000000\n",
       "sec_app_mort_acc                       1.000000\n",
       "sec_app_open_acc                       1.000000\n",
       "sec_app_revol_util                     1.000000\n",
       "sec_app_num_rev_accts                  1.000000\n",
       "sec_app_chargeoff_within_12_mths       1.000000\n",
       "sec_app_collections_12_mths_ex_med     1.000000\n",
       "sec_app_mths_since_last_major_derog    1.000000\n",
       "dtype: float64"
      ]
     },
     "execution_count": 9,
     "metadata": {},
     "output_type": "execute_result"
    }
   ],
   "source": [
    "# Columns with missing data\n",
    "\n",
    "data[data.columns[data.isnull().sum()/data.shape[0] > .2]].isnull().sum()/data.shape[0]"
   ]
  },
  {
   "cell_type": "markdown",
   "id": "floral-complex",
   "metadata": {},
   "source": [
    "There are some columns that have 100% missing data; this will be handled before creating my training variable X. "
   ]
  },
  {
   "cell_type": "code",
   "execution_count": 14,
   "id": "warming-season",
   "metadata": {},
   "outputs": [
    {
     "name": "stdout",
     "output_type": "stream",
     "text": [
      "'inq_last_6mths': number of missing values '1' ==> '0.000%'\n",
      "'mths_since_last_delinq': number of missing values '826385' ==> '49.536%'\n",
      "'mths_since_last_record': number of missing values '1384796' ==> '83.009%'\n",
      "'revol_util': number of missing values '1023' ==> '0.061%'\n",
      "'mths_since_last_major_derog': number of missing values '1214925' ==> '72.826%'\n",
      "'open_acc_6m': number of missing values '823247' ==> '49.348%'\n",
      "'open_il_12m': number of missing values '823246' ==> '49.348%'\n",
      "'open_il_24m': number of missing values '823246' ==> '49.348%'\n",
      "'mths_since_rcnt_il': number of missing values '847040' ==> '50.774%'\n",
      "'total_bal_il': number of missing values '823246' ==> '49.348%'\n",
      "'il_util': number of missing values '936831' ==> '56.157%'\n",
      "'open_rv_12m': number of missing values '823246' ==> '49.348%'\n",
      "'open_rv_24m': number of missing values '823246' ==> '49.348%'\n",
      "'max_bal_bc': number of missing values '823246' ==> '49.348%'\n",
      "'all_util': number of missing values '823313' ==> '49.352%'\n",
      "'total_rev_hi_lim': number of missing values '27741' ==> '1.663%'\n",
      "'inq_fi': number of missing values '823246' ==> '49.348%'\n",
      "'total_cu_tl': number of missing values '823247' ==> '49.348%'\n",
      "'inq_last_12m': number of missing values '823247' ==> '49.348%'\n",
      "'acc_open_past_24mths': number of missing values '7495' ==> '0.449%'\n",
      "'avg_cur_bal': number of missing values '27768' ==> '1.665%'\n",
      "'bc_open_to_buy': number of missing values '24570' ==> '1.473%'\n",
      "'bc_util': number of missing values '25465' ==> '1.526%'\n",
      "'mo_sin_old_il_acct': number of missing values '76529' ==> '4.587%'\n",
      "'mo_sin_old_rev_tl_op': number of missing values '27742' ==> '1.663%'\n",
      "'mo_sin_rcnt_rev_tl_op': number of missing values '27742' ==> '1.663%'\n",
      "'mo_sin_rcnt_tl': number of missing values '27741' ==> '1.663%'\n",
      "'mort_acc': number of missing values '7495' ==> '0.449%'\n",
      "'mths_since_recent_bc': number of missing values '23498' ==> '1.409%'\n",
      "'mths_since_recent_bc_dlq': number of missing values '1258290' ==> '75.426%'\n",
      "'mths_since_recent_inq': number of missing values '184984' ==> '11.089%'\n",
      "'mths_since_recent_revol_delinq': number of missing values '1087650' ==> '65.197%'\n",
      "'num_accts_ever_120_pd': number of missing values '27741' ==> '1.663%'\n",
      "'num_actv_bc_tl': number of missing values '27741' ==> '1.663%'\n",
      "'num_actv_rev_tl': number of missing values '27741' ==> '1.663%'\n",
      "'num_bc_sats': number of missing values '16055' ==> '0.962%'\n",
      "'num_bc_tl': number of missing values '27741' ==> '1.663%'\n",
      "'num_il_tl': number of missing values '27741' ==> '1.663%'\n",
      "'num_op_rev_tl': number of missing values '27741' ==> '1.663%'\n",
      "'num_rev_accts': number of missing values '27742' ==> '1.663%'\n",
      "'num_rev_tl_bal_gt_0': number of missing values '27741' ==> '1.663%'\n",
      "'num_sats': number of missing values '16055' ==> '0.962%'\n",
      "'num_tl_120dpd_2m': number of missing values '98717' ==> '5.917%'\n",
      "'num_tl_30dpd': number of missing values '27741' ==> '1.663%'\n",
      "'num_tl_90g_dpd_24m': number of missing values '27741' ==> '1.663%'\n",
      "'num_tl_op_past_12m': number of missing values '27741' ==> '1.663%'\n",
      "'pct_tl_nvr_dlq': number of missing values '27894' ==> '1.672%'\n",
      "'percent_bc_gt_75': number of missing values '25006' ==> '1.499%'\n",
      "'tot_hi_cred_lim': number of missing values '27741' ==> '1.663%'\n",
      "'total_bal_ex_mort': number of missing values '7495' ==> '0.449%'\n",
      "'total_bc_limit': number of missing values '7495' ==> '0.449%'\n",
      "'total_il_high_credit_limit': number of missing values '27741' ==> '1.663%'\n"
     ]
    }
   ],
   "source": [
    "# Missing values\n",
    "pipeline.print_missing(data.drop(drop, axis=1)[data['year'] < 18])"
   ]
  },
  {
   "cell_type": "code",
   "execution_count": 15,
   "id": "coordinate-toyota",
   "metadata": {},
   "outputs": [
    {
     "data": {
      "text/plain": [
       "<AxesSubplot:>"
      ]
     },
     "execution_count": 15,
     "metadata": {},
     "output_type": "execute_result"
    },
    {
     "data": {
      "image/png": "[encoded data removed]",
      "text/plain": [
       "<Figure size 432x288 with 1 Axes>"
      ]
     },
     "metadata": {
      "needs_background": "light"
     },
     "output_type": "display_data"
    }
   ],
   "source": [
    "# Taking a look at values per year\n",
    "\n",
    "data['date'].hist(bins=50)"
   ]
  },
  {
   "cell_type": "code",
   "execution_count": 16,
   "id": "considerable-fever",
   "metadata": {
    "scrolled": false
   },
   "outputs": [
    {
     "name": "stdout",
     "output_type": "stream",
     "text": [
      "12 48.52524968613562\n",
      "13 34.57020042428828\n",
      "14 34.36992899855281\n",
      "15 33.481347364616816\n",
      "16 21.1244878454973\n",
      "17 21.127428152609642\n",
      "18 21.35766216155981\n",
      "19 21.398317451564527\n",
      "20 21.34044473778718\n"
     ]
    }
   ],
   "source": [
    "# Average number of columns with missing values per row for each year\n",
    "\n",
    "for y in np.sort(data['year'].unique()):\n",
    "    print(y, data[data['year']==y].isna().sum().sum()/data[data['year']==y].shape[0])"
   ]
  },
  {
   "cell_type": "markdown",
   "id": "organic-durham",
   "metadata": {},
   "source": [
    "### Preprocessing"
   ]
  },
  {
   "cell_type": "code",
   "execution_count": null,
   "id": "senior-governor",
   "metadata": {},
   "outputs": [],
   "source": [
    "# Clean data (change from string to numeric)\n",
    "\n",
    "data = pipeline.clean_data(data)"
   ]
  },
  {
   "cell_type": "code",
   "execution_count": 14,
   "id": "working-bloom",
   "metadata": {},
   "outputs": [
    {
     "data": {
      "text/plain": [
       "array([18, 13, 12, 14, 15, 20, 19, 17, 16])"
      ]
     },
     "execution_count": 14,
     "metadata": {},
     "output_type": "execute_result"
    }
   ],
   "source": [
    "# Looking at years of data available\n",
    "\n",
    "data['year'].unique()"
   ]
  },
  {
   "cell_type": "code",
   "execution_count": 15,
   "id": "severe-error",
   "metadata": {},
   "outputs": [
    {
     "data": {
      "text/plain": [
       "<matplotlib.legend.Legend at 0x1213963a0>"
      ]
     },
     "execution_count": 15,
     "metadata": {},
     "output_type": "execute_result"
    },
    {
     "data": {
      "image/png": "[encoded data removed]",
      "text/plain": [
       "<Figure size 576x432 with 1 Axes>"
      ]
     },
     "metadata": {
      "needs_background": "light"
     },
     "output_type": "display_data"
    }
   ],
   "source": [
    "# Look at volumes of loans per year\n",
    "fig, ax = plt.subplots(figsize=(8,6))\n",
    "ax.bar(data['year'].value_counts().index,data['year'].value_counts(), label='All Loans')\n",
    "ax.bar(pipeline.completed_filter(data)['year'].value_counts().index,\n",
    "       pipeline.completed_filter(data)['year'].value_counts(), \n",
    "       label='Completed Loans')\n",
    "ax.set_xlabel('Year')\n",
    "ax.set_ylabel('Number of Loans')\n",
    "ax.set_title('Loans per Year')\n",
    "plt.legend()"
   ]
  },
  {
   "cell_type": "markdown",
   "id": "settled-crown",
   "metadata": {},
   "source": [
    "From 2015 on we see fewer and fewer completed loans. This is because the terms can be up to 5 years. We will only be using data from early 2015 which have terms that should be complete from when this data was downloaded. "
   ]
  },
  {
   "cell_type": "code",
   "execution_count": 172,
   "id": "desirable-estimate",
   "metadata": {},
   "outputs": [
    {
     "data": {
      "text/plain": [
       "<AxesSubplot:>"
      ]
     },
     "execution_count": 172,
     "metadata": {},
     "output_type": "execute_result"
    },
    {
     "data": {
      "image/png": "[encoded data removed]",
      "text/plain": [
       "<Figure size 432x288 with 1 Axes>"
      ]
     },
     "metadata": {
      "needs_background": "light"
     },
     "output_type": "display_data"
    }
   ],
   "source": [
    "data['date'].hist(bins=50)"
   ]
  },
  {
   "cell_type": "code",
   "execution_count": 21,
   "id": "generous-deviation",
   "metadata": {},
   "outputs": [
    {
     "data": {
      "text/plain": [
       "year\n",
       "12    0.164491\n",
       "13    0.160649\n",
       "14    0.205134\n",
       "15    0.264148\n",
       "16    0.202681\n",
       "17    0.118006\n",
       "18    0.051843\n",
       "19    0.044889\n",
       "20    0.008303\n",
       "Name: year, dtype: float64"
      ]
     },
     "execution_count": 21,
     "metadata": {},
     "output_type": "execute_result"
    }
   ],
   "source": [
    "data[data['loan_status']=='Charged Off'].groupby('year')['year'].count()/data.groupby('year')['year'].count()"
   ]
  },
  {
   "cell_type": "code",
   "execution_count": null,
   "id": "acute-plane",
   "metadata": {},
   "outputs": [],
   "source": [
    "pipeline.completed_filter(data)[\n",
    "    (pipeline.completed_filter(data)['year']<15)]"
   ]
  },
  {
   "cell_type": "code",
   "execution_count": 56,
   "id": "covered-lender",
   "metadata": {},
   "outputs": [],
   "source": [
    "# with open('data/X_drop.pickle', 'wb') as f:\n",
    "#     pickle.dump(drop, f)"
   ]
  },
  {
   "cell_type": "code",
   "execution_count": 107,
   "id": "inner-giving",
   "metadata": {},
   "outputs": [],
   "source": [
    "with open('data/X_drop.pickle', 'rb') as f:\n",
    "    cols = pickle.load(f)"
   ]
  },
  {
   "cell_type": "code",
   "execution_count": 36,
   "id": "collected-calcium",
   "metadata": {},
   "outputs": [],
   "source": [
    "# cols.extend(['date', 'last_fico_range_high', 'last_fico_range_low'])"
   ]
  },
  {
   "cell_type": "code",
   "execution_count": 117,
   "id": "miniature-twist",
   "metadata": {},
   "outputs": [],
   "source": [
    "drop = cols"
   ]
  },
  {
   "cell_type": "markdown",
   "id": "subjective-volume",
   "metadata": {},
   "source": [
    "### Create X and y variables"
   ]
  },
  {
   "cell_type": "code",
   "execution_count": 186,
   "id": "military-obligation",
   "metadata": {},
   "outputs": [],
   "source": [
    "import src.model as model"
   ]
  },
  {
   "cell_type": "code",
   "execution_count": 339,
   "id": "intimate-observer",
   "metadata": {},
   "outputs": [
    {
     "data": {
      "text/plain": [
       "<module 'src.pipeline' from '/Users/vinsonmccready/galvanize/loan-default-predictor/src/pipeline.py'>"
      ]
     },
     "execution_count": 339,
     "metadata": {},
     "output_type": "execute_result"
    }
   ],
   "source": [
    "importlib.reload(pipeline)"
   ]
  },
  {
   "cell_type": "code",
   "execution_count": 189,
   "id": "simple-filling",
   "metadata": {
    "scrolled": true
   },
   "outputs": [
    {
     "name": "stdout",
     "output_type": "stream",
     "text": [
      "Hello World\n"
     ]
    }
   ],
   "source": [
    "model.hello()"
   ]
  },
  {
   "cell_type": "code",
   "execution_count": null,
   "id": "saved-respondent",
   "metadata": {},
   "outputs": [],
   "source": [
    "# Create dummy numeric columns for categorical data\n",
    "\n",
    "# data = pipeline.create_dummies(data)"
   ]
  },
  {
   "cell_type": "code",
   "execution_count": 341,
   "id": "figured-projection",
   "metadata": {},
   "outputs": [
    {
     "ename": "KeyError",
     "evalue": "\"None of [Index(['home_ownership', 'sub_grade', 'purpose', 'verification_status'], dtype='object')] are in the [columns]\"",
     "output_type": "error",
     "traceback": [
      "\u001b[0;31m---------------------------------------------------------------------------\u001b[0m",
      "\u001b[0;31mKeyError\u001b[0m                                  Traceback (most recent call last)",
      "\u001b[0;32m<ipython-input-341-93fc6725c7dc>\u001b[0m in \u001b[0;36m<module>\u001b[0;34m\u001b[0m\n\u001b[1;32m      1\u001b[0m training = pipeline.completed_filter(\n\u001b[0;32m----> 2\u001b[0;31m     pipeline.create_dummies(\n\u001b[0m\u001b[1;32m      3\u001b[0m     pipeline.date_filter(datetime.date(16, 6,1), datetime.date(15, 1,1), \n\u001b[1;32m      4\u001b[0m     pipeline.term_filter(36,\n\u001b[1;32m      5\u001b[0m                         data))))\n",
      "\u001b[0;32m~/galvanize/loan-default-predictor/src/pipeline.py\u001b[0m in \u001b[0;36mcreate_dummies\u001b[0;34m(data)\u001b[0m\n\u001b[1;32m    103\u001b[0m \u001b[0;32mdef\u001b[0m \u001b[0mcreate_dummies\u001b[0m\u001b[0;34m(\u001b[0m\u001b[0mdata\u001b[0m\u001b[0;34m)\u001b[0m\u001b[0;34m:\u001b[0m\u001b[0;34m\u001b[0m\u001b[0;34m\u001b[0m\u001b[0m\n\u001b[1;32m    104\u001b[0m     \u001b[0mcategorical\u001b[0m \u001b[0;34m=\u001b[0m \u001b[0;34m[\u001b[0m\u001b[0;34m'home_ownership'\u001b[0m\u001b[0;34m,\u001b[0m\u001b[0;34m'sub_grade'\u001b[0m\u001b[0;34m,\u001b[0m \u001b[0;34m'purpose'\u001b[0m\u001b[0;34m,\u001b[0m \u001b[0;34m'verification_status'\u001b[0m\u001b[0;34m]\u001b[0m\u001b[0;34m\u001b[0m\u001b[0;34m\u001b[0m\u001b[0m\n\u001b[0;32m--> 105\u001b[0;31m     \u001b[0mdata\u001b[0m \u001b[0;34m=\u001b[0m \u001b[0mpd\u001b[0m\u001b[0;34m.\u001b[0m\u001b[0mget_dummies\u001b[0m\u001b[0;34m(\u001b[0m\u001b[0mdata\u001b[0m\u001b[0;34m,\u001b[0m \u001b[0mcolumns\u001b[0m\u001b[0;34m=\u001b[0m\u001b[0mcategorical\u001b[0m\u001b[0;34m,\u001b[0m \u001b[0mdrop_first\u001b[0m\u001b[0;34m=\u001b[0m\u001b[0;32mTrue\u001b[0m\u001b[0;34m)\u001b[0m\u001b[0;34m\u001b[0m\u001b[0;34m\u001b[0m\u001b[0m\n\u001b[0m\u001b[1;32m    106\u001b[0m     \u001b[0;32mreturn\u001b[0m \u001b[0mdata\u001b[0m\u001b[0;34m\u001b[0m\u001b[0;34m\u001b[0m\u001b[0m\n\u001b[1;32m    107\u001b[0m \u001b[0;34m\u001b[0m\u001b[0m\n",
      "\u001b[0;32m~/miniforge3/envs/tf/lib/python3.8/site-packages/pandas/core/reshape/reshape.py\u001b[0m in \u001b[0;36mget_dummies\u001b[0;34m(data, prefix, prefix_sep, dummy_na, columns, sparse, drop_first, dtype)\u001b[0m\n\u001b[1;32m    845\u001b[0m             \u001b[0;32mraise\u001b[0m \u001b[0mTypeError\u001b[0m\u001b[0;34m(\u001b[0m\u001b[0;34m\"Input must be a list-like for parameter `columns`\"\u001b[0m\u001b[0;34m)\u001b[0m\u001b[0;34m\u001b[0m\u001b[0;34m\u001b[0m\u001b[0m\n\u001b[1;32m    846\u001b[0m         \u001b[0;32melse\u001b[0m\u001b[0;34m:\u001b[0m\u001b[0;34m\u001b[0m\u001b[0;34m\u001b[0m\u001b[0m\n\u001b[0;32m--> 847\u001b[0;31m             \u001b[0mdata_to_encode\u001b[0m \u001b[0;34m=\u001b[0m \u001b[0mdata\u001b[0m\u001b[0;34m[\u001b[0m\u001b[0mcolumns\u001b[0m\u001b[0;34m]\u001b[0m\u001b[0;34m\u001b[0m\u001b[0;34m\u001b[0m\u001b[0m\n\u001b[0m\u001b[1;32m    848\u001b[0m \u001b[0;34m\u001b[0m\u001b[0m\n\u001b[1;32m    849\u001b[0m         \u001b[0;31m# validate prefixes and separator to avoid silently dropping cols\u001b[0m\u001b[0;34m\u001b[0m\u001b[0;34m\u001b[0m\u001b[0;34m\u001b[0m\u001b[0m\n",
      "\u001b[0;32m~/miniforge3/envs/tf/lib/python3.8/site-packages/pandas/core/frame.py\u001b[0m in \u001b[0;36m__getitem__\u001b[0;34m(self, key)\u001b[0m\n\u001b[1;32m   3028\u001b[0m             \u001b[0;32mif\u001b[0m \u001b[0mis_iterator\u001b[0m\u001b[0;34m(\u001b[0m\u001b[0mkey\u001b[0m\u001b[0;34m)\u001b[0m\u001b[0;34m:\u001b[0m\u001b[0;34m\u001b[0m\u001b[0;34m\u001b[0m\u001b[0m\n\u001b[1;32m   3029\u001b[0m                 \u001b[0mkey\u001b[0m \u001b[0;34m=\u001b[0m \u001b[0mlist\u001b[0m\u001b[0;34m(\u001b[0m\u001b[0mkey\u001b[0m\u001b[0;34m)\u001b[0m\u001b[0;34m\u001b[0m\u001b[0;34m\u001b[0m\u001b[0m\n\u001b[0;32m-> 3030\u001b[0;31m             \u001b[0mindexer\u001b[0m \u001b[0;34m=\u001b[0m \u001b[0mself\u001b[0m\u001b[0;34m.\u001b[0m\u001b[0mloc\u001b[0m\u001b[0;34m.\u001b[0m\u001b[0m_get_listlike_indexer\u001b[0m\u001b[0;34m(\u001b[0m\u001b[0mkey\u001b[0m\u001b[0;34m,\u001b[0m \u001b[0maxis\u001b[0m\u001b[0;34m=\u001b[0m\u001b[0;36m1\u001b[0m\u001b[0;34m,\u001b[0m \u001b[0mraise_missing\u001b[0m\u001b[0;34m=\u001b[0m\u001b[0;32mTrue\u001b[0m\u001b[0;34m)\u001b[0m\u001b[0;34m[\u001b[0m\u001b[0;36m1\u001b[0m\u001b[0;34m]\u001b[0m\u001b[0;34m\u001b[0m\u001b[0;34m\u001b[0m\u001b[0m\n\u001b[0m\u001b[1;32m   3031\u001b[0m \u001b[0;34m\u001b[0m\u001b[0m\n\u001b[1;32m   3032\u001b[0m         \u001b[0;31m# take() does not accept boolean indexers\u001b[0m\u001b[0;34m\u001b[0m\u001b[0;34m\u001b[0m\u001b[0;34m\u001b[0m\u001b[0m\n",
      "\u001b[0;32m~/miniforge3/envs/tf/lib/python3.8/site-packages/pandas/core/indexing.py\u001b[0m in \u001b[0;36m_get_listlike_indexer\u001b[0;34m(self, key, axis, raise_missing)\u001b[0m\n\u001b[1;32m   1264\u001b[0m             \u001b[0mkeyarr\u001b[0m\u001b[0;34m,\u001b[0m \u001b[0mindexer\u001b[0m\u001b[0;34m,\u001b[0m \u001b[0mnew_indexer\u001b[0m \u001b[0;34m=\u001b[0m \u001b[0max\u001b[0m\u001b[0;34m.\u001b[0m\u001b[0m_reindex_non_unique\u001b[0m\u001b[0;34m(\u001b[0m\u001b[0mkeyarr\u001b[0m\u001b[0;34m)\u001b[0m\u001b[0;34m\u001b[0m\u001b[0;34m\u001b[0m\u001b[0m\n\u001b[1;32m   1265\u001b[0m \u001b[0;34m\u001b[0m\u001b[0m\n\u001b[0;32m-> 1266\u001b[0;31m         \u001b[0mself\u001b[0m\u001b[0;34m.\u001b[0m\u001b[0m_validate_read_indexer\u001b[0m\u001b[0;34m(\u001b[0m\u001b[0mkeyarr\u001b[0m\u001b[0;34m,\u001b[0m \u001b[0mindexer\u001b[0m\u001b[0;34m,\u001b[0m \u001b[0maxis\u001b[0m\u001b[0;34m,\u001b[0m \u001b[0mraise_missing\u001b[0m\u001b[0;34m=\u001b[0m\u001b[0mraise_missing\u001b[0m\u001b[0;34m)\u001b[0m\u001b[0;34m\u001b[0m\u001b[0;34m\u001b[0m\u001b[0m\n\u001b[0m\u001b[1;32m   1267\u001b[0m         \u001b[0;32mreturn\u001b[0m \u001b[0mkeyarr\u001b[0m\u001b[0;34m,\u001b[0m \u001b[0mindexer\u001b[0m\u001b[0;34m\u001b[0m\u001b[0;34m\u001b[0m\u001b[0m\n\u001b[1;32m   1268\u001b[0m \u001b[0;34m\u001b[0m\u001b[0m\n",
      "\u001b[0;32m~/miniforge3/envs/tf/lib/python3.8/site-packages/pandas/core/indexing.py\u001b[0m in \u001b[0;36m_validate_read_indexer\u001b[0;34m(self, key, indexer, axis, raise_missing)\u001b[0m\n\u001b[1;32m   1306\u001b[0m             \u001b[0;32mif\u001b[0m \u001b[0mmissing\u001b[0m \u001b[0;34m==\u001b[0m \u001b[0mlen\u001b[0m\u001b[0;34m(\u001b[0m\u001b[0mindexer\u001b[0m\u001b[0;34m)\u001b[0m\u001b[0;34m:\u001b[0m\u001b[0;34m\u001b[0m\u001b[0;34m\u001b[0m\u001b[0m\n\u001b[1;32m   1307\u001b[0m                 \u001b[0maxis_name\u001b[0m \u001b[0;34m=\u001b[0m \u001b[0mself\u001b[0m\u001b[0;34m.\u001b[0m\u001b[0mobj\u001b[0m\u001b[0;34m.\u001b[0m\u001b[0m_get_axis_name\u001b[0m\u001b[0;34m(\u001b[0m\u001b[0maxis\u001b[0m\u001b[0;34m)\u001b[0m\u001b[0;34m\u001b[0m\u001b[0;34m\u001b[0m\u001b[0m\n\u001b[0;32m-> 1308\u001b[0;31m                 \u001b[0;32mraise\u001b[0m \u001b[0mKeyError\u001b[0m\u001b[0;34m(\u001b[0m\u001b[0;34mf\"None of [{key}] are in the [{axis_name}]\"\u001b[0m\u001b[0;34m)\u001b[0m\u001b[0;34m\u001b[0m\u001b[0;34m\u001b[0m\u001b[0m\n\u001b[0m\u001b[1;32m   1309\u001b[0m \u001b[0;34m\u001b[0m\u001b[0m\n\u001b[1;32m   1310\u001b[0m             \u001b[0max\u001b[0m \u001b[0;34m=\u001b[0m \u001b[0mself\u001b[0m\u001b[0;34m.\u001b[0m\u001b[0mobj\u001b[0m\u001b[0;34m.\u001b[0m\u001b[0m_get_axis\u001b[0m\u001b[0;34m(\u001b[0m\u001b[0maxis\u001b[0m\u001b[0;34m)\u001b[0m\u001b[0;34m\u001b[0m\u001b[0;34m\u001b[0m\u001b[0m\n",
      "\u001b[0;31mKeyError\u001b[0m: \"None of [Index(['home_ownership', 'sub_grade', 'purpose', 'verification_status'], dtype='object')] are in the [columns]\""
     ]
    }
   ],
   "source": [
    "training = pipeline.completed_filter(\n",
    "    pipeline.create_dummies(\n",
    "    pipeline.date_filter(datetime.date(16, 6,1), datetime.date(15, 1,1), \n",
    "    pipeline.term_filter(36,\n",
    "                        data))))\n"
   ]
  },
  {
   "cell_type": "code",
   "execution_count": 283,
   "id": "attractive-agriculture",
   "metadata": {
    "scrolled": true
   },
   "outputs": [],
   "source": [
    "\n",
    "X_train = pipeline.create_X(training, drop)\n",
    "y_train = pipeline.create_y(training)"
   ]
  },
  {
   "cell_type": "code",
   "execution_count": 284,
   "id": "documented-forwarding",
   "metadata": {},
   "outputs": [
    {
     "data": {
      "text/plain": [
       "(153665, 124)"
      ]
     },
     "execution_count": 284,
     "metadata": {},
     "output_type": "execute_result"
    }
   ],
   "source": [
    "X_train.shape"
   ]
  },
  {
   "cell_type": "code",
   "execution_count": 285,
   "id": "ancient-bankruptcy",
   "metadata": {},
   "outputs": [],
   "source": [
    "test = pipeline.completed_filter(data[\n",
    "    (data['date']<datetime.date(17, 4,1)) & \n",
    "    (data['date']>=datetime.date(16, 6,1)) &\n",
    "    (data['term']==36)\n",
    "])"
   ]
  },
  {
   "cell_type": "code",
   "execution_count": 286,
   "id": "ranging-burlington",
   "metadata": {},
   "outputs": [],
   "source": [
    "X_test = pipeline.create_X(test, drop)\n",
    "y_test = pipeline.create_y(test)"
   ]
  },
  {
   "cell_type": "code",
   "execution_count": 287,
   "id": "arabic-assessment",
   "metadata": {
    "scrolled": true
   },
   "outputs": [],
   "source": [
    "# validation[~validation['loan_status'].str.lower().isin(['fully paid', 'charged off'])]['loan_status'].unique()"
   ]
  },
  {
   "cell_type": "code",
   "execution_count": 288,
   "id": "sticky-lambda",
   "metadata": {},
   "outputs": [],
   "source": [
    "# X_val = pipeline.create_X(validation[~validation['loan_status'].str.lower().isin(['fully paid', 'charged off'])], drop)\n",
    "# y_val = pipeline.create_y(validation[~validation['loan_status'].str.lower().isin(['fully paid', 'charged off'])])"
   ]
  },
  {
   "cell_type": "code",
   "execution_count": 289,
   "id": "engaging-stationery",
   "metadata": {},
   "outputs": [
    {
     "name": "stdout",
     "output_type": "stream",
     "text": [
      "(153665, 124)\n",
      "(28393, 124)\n"
     ]
    }
   ],
   "source": [
    "print(X_train.shape)\n",
    "print(X_test.shape)\n",
    "# print(X_val.shape)"
   ]
  },
  {
   "cell_type": "code",
   "execution_count": 51,
   "id": "spatial-complement",
   "metadata": {},
   "outputs": [],
   "source": [
    "from sklearn.model_selection import train_test_split\n",
    "from sklearn.ensemble import RandomForestClassifier\n",
    "from sklearn.ensemble import GradientBoostingClassifier\n",
    "\n",
    "from sklearn.metrics import recall_score, precision_score"
   ]
  },
  {
   "cell_type": "code",
   "execution_count": 52,
   "id": "continuous-gender",
   "metadata": {},
   "outputs": [],
   "source": [
    "# X_train, X_test, y_train, y_test = train_test_split(X,y)"
   ]
  },
  {
   "cell_type": "code",
   "execution_count": 290,
   "id": "unable-virgin",
   "metadata": {},
   "outputs": [
    {
     "name": "stdout",
     "output_type": "stream",
     "text": [
      "Recall: 0.07525188916876574\n",
      "Precision: 0.3328690807799443\n"
     ]
    }
   ],
   "source": [
    "rf_model = RandomForestClassifier()\n",
    "rf_model.fit(X_train, y_train)\n",
    "recall = recall_score(y_test, rf_model.predict(X_test))\n",
    "precision = precision_score(y_test, rf_model.predict(X_test))\n",
    "print(f'Recall: {recall}\\nPrecision: {precision}')"
   ]
  },
  {
   "cell_type": "code",
   "execution_count": 291,
   "id": "charged-aberdeen",
   "metadata": {},
   "outputs": [
    {
     "name": "stdout",
     "output_type": "stream",
     "text": [
      "Recall: 0.11838790931989925\n",
      "Precision: 0.33244916003536695\n"
     ]
    }
   ],
   "source": [
    "gb_model = GradientBoostingClassifier()\n",
    "gb_model.fit(X_train, y_train)\n",
    "recall = recall_score(y_test, gb_model.predict(X_test))\n",
    "precision = precision_score(y_test, gb_model.predict(X_test))\n",
    "print(f'Recall: {recall}\\nPrecision: {precision}')"
   ]
  },
  {
   "cell_type": "code",
   "execution_count": 65,
   "id": "upset-object",
   "metadata": {},
   "outputs": [],
   "source": [
    "from sklearn.metrics import roc_auc_score"
   ]
  },
  {
   "cell_type": "code",
   "execution_count": 205,
   "id": "immediate-singapore",
   "metadata": {},
   "outputs": [
    {
     "data": {
      "text/plain": [
       "0.5241740075492559"
      ]
     },
     "execution_count": 205,
     "metadata": {},
     "output_type": "execute_result"
    }
   ],
   "source": [
    "roc_auc_score(y_test, rf_model.predict(X_test))"
   ]
  },
  {
   "cell_type": "code",
   "execution_count": 125,
   "id": "statutory-southeast",
   "metadata": {},
   "outputs": [],
   "source": [
    "def calculate_threshold_values(prob, y):\n",
    "    '''\n",
    "    Build dataframe of the various confusion-matrix ratios by threshold\n",
    "    from a list of predicted probabilities and actual y values\n",
    "    '''\n",
    "    df = pd.DataFrame({'prob': prob, 'y': y})\n",
    "    df.sort_values('prob', inplace=True)\n",
    "    \n",
    "    actual_p = df.y.sum()\n",
    "    actual_n = df.shape[0] - df.y.sum()\n",
    "\n",
    "    df['tn'] = (df.y == 0).cumsum()\n",
    "    df['fn'] = df.y.cumsum()\n",
    "    df['fp'] = actual_n - df.tn\n",
    "    df['tp'] = actual_p - df.fn\n",
    "\n",
    "    df['fpr'] = df.fp/(df.fp + df.tn)\n",
    "    df['tpr'] = df.tp/(df.tp + df.fn)\n",
    "    df['precision'] = df.tp/(df.tp + df.fp)\n",
    "    df = df.reset_index(drop=True)\n",
    "    return df\n",
    "    \n",
    "def plot_roc(ax, df):\n",
    "    ax.plot([1]+list(df.fpr), [1]+list(df.tpr), label=\"ROC\")\n",
    "    ax.plot([0,1],[0,1], 'k', label=\"random\")\n",
    "    ax.set_xlabel('fpr')\n",
    "    ax.set_ylabel('tpr')\n",
    "    ax.set_title('ROC Curve')\n",
    "    ax.legend()\n",
    "    \n",
    "def plot_precision_recall(ax, df):\n",
    "    ax.plot(df.tpr,df.precision, label='precision/recall')\n",
    "    #ax.plot([0,1],[0,1], 'k')\n",
    "    ax.set_xlabel('recall')\n",
    "    ax.set_ylabel('precision')\n",
    "    ax.set_title('Precision/Recall Curve')\n",
    "    ax.plot([0,1],[df.precision[0],df.precision[0]], 'k', label='random')\n",
    "    ax.set_xlim(left=0,right=1)\n",
    "    ax.set_ylim(bottom=0,top=1)"
   ]
  },
  {
   "cell_type": "code",
   "execution_count": 298,
   "id": "ceramic-cache",
   "metadata": {},
   "outputs": [
    {
     "data": {
      "image/png": "[encoded data removed]",
      "text/plain": [
       "<Figure size 864x432 with 2 Axes>"
      ]
     },
     "metadata": {
      "needs_background": "light"
     },
     "output_type": "display_data"
    }
   ],
   "source": [
    "fig, (ax0, ax1) = plt.subplots(1,2, figsize=(12,6))\n",
    "df = calculate_threshold_values(rf_model.predict_proba(X_test)[:,1], y_test)\n",
    "plot_roc(ax0, df)\n",
    "plot_precision_recall(ax1, df)"
   ]
  },
  {
   "cell_type": "code",
   "execution_count": 299,
   "id": "joint-expansion",
   "metadata": {},
   "outputs": [],
   "source": [
    "probabilities = rf_model.predict_proba(X_test)"
   ]
  },
  {
   "cell_type": "code",
   "execution_count": 300,
   "id": "bacterial-humanity",
   "metadata": {
    "scrolled": true
   },
   "outputs": [
    {
     "data": {
      "image/png": "[encoded data removed]",
      "text/plain": [
       "<Figure size 432x288 with 1 Axes>"
      ]
     },
     "metadata": {
      "needs_background": "light"
     },
     "output_type": "display_data"
    }
   ],
   "source": [
    "fig, ax = plt.subplots()\n",
    "ax.hist(probabilities[:,1], bins=50);"
   ]
  },
  {
   "cell_type": "code",
   "execution_count": 301,
   "id": "likely-qualification",
   "metadata": {},
   "outputs": [
    {
     "data": {
      "text/plain": [
       "28282"
      ]
     },
     "execution_count": 301,
     "metadata": {},
     "output_type": "execute_result"
    }
   ],
   "source": [
    "(probabilities > .5).sum()"
   ]
  },
  {
   "cell_type": "code",
   "execution_count": 302,
   "id": "treated-raleigh",
   "metadata": {},
   "outputs": [
    {
     "data": {
      "text/plain": [
       "3176"
      ]
     },
     "execution_count": 302,
     "metadata": {},
     "output_type": "execute_result"
    }
   ],
   "source": [
    "y_test.sum()"
   ]
  },
  {
   "cell_type": "code",
   "execution_count": 303,
   "id": "distinct-creator",
   "metadata": {},
   "outputs": [
    {
     "name": "stderr",
     "output_type": "stream",
     "text": [
      "<ipython-input-303-6ed33272057a>:13: RuntimeWarning: invalid value encountered in long_scalars\n",
      "  p = c[1][1]/(c[1][1]+c[1][0])\n"
     ]
    }
   ],
   "source": [
    "threshold = np.linspace(0,1,50)\n",
    "yhat = rf_model.predict_proba(X_test)[:,1]\n",
    "\n",
    "recall = []\n",
    "precision = []\n",
    "for t in threshold:\n",
    "    c = pd.crosstab(pd.Categorical(y_test, categories=[0,1]), \n",
    "                    pd.Categorical(yhat>t, categories=[0,1]), \n",
    "                    rownames=['actual'], \n",
    "                    colnames=['predicted'],\n",
    "                    dropna=False)\n",
    "    r = c[1][1]/(c[1][1]+c[0][1])\n",
    "    p = c[1][1]/(c[1][1]+c[1][0])\n",
    "    recall.append(r)\n",
    "    precision.append(p)"
   ]
  },
  {
   "cell_type": "code",
   "execution_count": 304,
   "id": "small-lighter",
   "metadata": {},
   "outputs": [
    {
     "data": {
      "image/png": "[encoded data removed]",
      "text/plain": [
       "<Figure size 720x576 with 1 Axes>"
      ]
     },
     "metadata": {
      "needs_background": "light"
     },
     "output_type": "display_data"
    }
   ],
   "source": [
    "fig, ax = plt.subplots(figsize=(10,8))\n",
    "\n",
    "ax.plot(threshold, recall, label='recall')\n",
    "ax.plot(threshold, precision, label='precision')\n",
    "# ax.vlines([.08, .85], 0,1, linestyles='--', colors='green')\n",
    "ax.legend()\n",
    "ax.set_xlabel('Threshold')\n",
    "ax.set_ylabel('Score')\n",
    "ax.set_title('Change in Precision and Recall for Thresholds')\n",
    "plt.show()"
   ]
  },
  {
   "cell_type": "code",
   "execution_count": 305,
   "id": "diagnostic-lyric",
   "metadata": {},
   "outputs": [],
   "source": [
    "y_prob = rf_model.predict_proba(X_test)[:,1]"
   ]
  },
  {
   "cell_type": "code",
   "execution_count": 306,
   "id": "employed-profit",
   "metadata": {},
   "outputs": [],
   "source": [
    "# make predictions based on probabilities and threshold\n",
    "def predict(model, X, threshold=0.5):\n",
    "    '''Return prediction of the fitted binary-classifier model model on X using\n",
    "    the specifed `threshold`. NB: class 1 is the positive class'''\n",
    "    return np.where(model.predict_proba(X)[:,1] > threshold, 1, 0)\n",
    "\n",
    "# create confusion matrix with a given model and Xtest\n",
    "def confusion_matrix(model, X, y,  threshold=0.5):\n",
    "    cf = pd.crosstab(y, predict(model, X, threshold), dropna=False)\n",
    "    cf = cf.add(pd.DataFrame([[0,0],[0,0]], columns=[0, 1], index=[0, 1]), fill_value=0)\n",
    "    cf.index.name = 'actual'\n",
    "    cf.columns.name = 'predicted'\n",
    "    return cf\n",
    "\n",
    "# calculate the payout for a given probability threshold\n",
    "def calculate_payout(cb_matrix, model, X, y, threshold):\n",
    "    return (confusion_matrix(model, X, y, threshold) * cb_matrix).values.sum()"
   ]
  },
  {
   "cell_type": "code",
   "execution_count": 307,
   "id": "sudden-reader",
   "metadata": {},
   "outputs": [
    {
     "data": {
      "text/plain": [
       "array([0, 1])"
      ]
     },
     "execution_count": 307,
     "metadata": {},
     "output_type": "execute_result"
    }
   ],
   "source": [
    "rf_model.classes_"
   ]
  },
  {
   "cell_type": "code",
   "execution_count": 308,
   "id": "african-clause",
   "metadata": {
    "scrolled": true
   },
   "outputs": [],
   "source": [
    "cf = confusion_matrix(rf_model, X_test, y_test)"
   ]
  },
  {
   "cell_type": "code",
   "execution_count": 309,
   "id": "durable-bachelor",
   "metadata": {},
   "outputs": [
    {
     "data": {
      "text/html": [
       "<div>\n",
       "<style scoped>\n",
       "    .dataframe tbody tr th:only-of-type {\n",
       "        vertical-align: middle;\n",
       "    }\n",
       "\n",
       "    .dataframe tbody tr th {\n",
       "        vertical-align: top;\n",
       "    }\n",
       "\n",
       "    .dataframe thead th {\n",
       "        text-align: right;\n",
       "    }\n",
       "</style>\n",
       "<table border=\"1\" class=\"dataframe\">\n",
       "  <thead>\n",
       "    <tr style=\"text-align: right;\">\n",
       "      <th>predicted</th>\n",
       "      <th>0</th>\n",
       "      <th>1</th>\n",
       "    </tr>\n",
       "    <tr>\n",
       "      <th>actual</th>\n",
       "      <th></th>\n",
       "      <th></th>\n",
       "    </tr>\n",
       "  </thead>\n",
       "  <tbody>\n",
       "    <tr>\n",
       "      <th>0</th>\n",
       "      <td>24738</td>\n",
       "      <td>479</td>\n",
       "    </tr>\n",
       "    <tr>\n",
       "      <th>1</th>\n",
       "      <td>2937</td>\n",
       "      <td>239</td>\n",
       "    </tr>\n",
       "  </tbody>\n",
       "</table>\n",
       "</div>"
      ],
      "text/plain": [
       "predicted      0    1\n",
       "actual               \n",
       "0          24738  479\n",
       "1           2937  239"
      ]
     },
     "execution_count": 309,
     "metadata": {},
     "output_type": "execute_result"
    }
   ],
   "source": [
    "cf"
   ]
  },
  {
   "cell_type": "code",
   "execution_count": 310,
   "id": "apart-finnish",
   "metadata": {},
   "outputs": [],
   "source": [
    "cb_matrix = pd.DataFrame([[0, -20], [0, 10]], columns=[0, 1], index=[0,1])\n",
    "cb_matrix.index.name = 'actual'\n",
    "cb_matrix.columns.name = 'predicted'"
   ]
  },
  {
   "cell_type": "code",
   "execution_count": 311,
   "id": "detailed-retention",
   "metadata": {},
   "outputs": [
    {
     "data": {
      "text/html": [
       "<div>\n",
       "<style scoped>\n",
       "    .dataframe tbody tr th:only-of-type {\n",
       "        vertical-align: middle;\n",
       "    }\n",
       "\n",
       "    .dataframe tbody tr th {\n",
       "        vertical-align: top;\n",
       "    }\n",
       "\n",
       "    .dataframe thead th {\n",
       "        text-align: right;\n",
       "    }\n",
       "</style>\n",
       "<table border=\"1\" class=\"dataframe\">\n",
       "  <thead>\n",
       "    <tr style=\"text-align: right;\">\n",
       "      <th>predicted</th>\n",
       "      <th>0</th>\n",
       "      <th>1</th>\n",
       "    </tr>\n",
       "    <tr>\n",
       "      <th>actual</th>\n",
       "      <th></th>\n",
       "      <th></th>\n",
       "    </tr>\n",
       "  </thead>\n",
       "  <tbody>\n",
       "    <tr>\n",
       "      <th>0</th>\n",
       "      <td>0</td>\n",
       "      <td>-20</td>\n",
       "    </tr>\n",
       "    <tr>\n",
       "      <th>1</th>\n",
       "      <td>0</td>\n",
       "      <td>10</td>\n",
       "    </tr>\n",
       "  </tbody>\n",
       "</table>\n",
       "</div>"
      ],
      "text/plain": [
       "predicted  0   1\n",
       "actual          \n",
       "0          0 -20\n",
       "1          0  10"
      ]
     },
     "execution_count": 311,
     "metadata": {},
     "output_type": "execute_result"
    }
   ],
   "source": [
    "cb_matrix"
   ]
  },
  {
   "cell_type": "code",
   "execution_count": 312,
   "id": "accurate-discipline",
   "metadata": {},
   "outputs": [
    {
     "data": {
      "text/plain": [
       "-7190"
      ]
     },
     "execution_count": 312,
     "metadata": {},
     "output_type": "execute_result"
    }
   ],
   "source": [
    "calculate_payout(cb_matrix, rf_model, X_test, y_test, .5)"
   ]
  },
  {
   "cell_type": "code",
   "execution_count": 313,
   "id": "duplicate-phrase",
   "metadata": {},
   "outputs": [
    {
     "data": {
      "text/plain": [
       "201360"
      ]
     },
     "execution_count": 313,
     "metadata": {},
     "output_type": "execute_result"
    }
   ],
   "source": [
    "-10*6414 + 26550 * 10"
   ]
  },
  {
   "cell_type": "code",
   "execution_count": 314,
   "id": "mighty-headset",
   "metadata": {},
   "outputs": [],
   "source": [
    "# Cost benefit\n",
    "def get_profits(model, X, y):\n",
    "    cb_matrix = pd.DataFrame([[0, -20], [0, 10]], columns=[0, 1], index=[0,1])\n",
    "    cb_matrix.index.name = 'actual'\n",
    "    cb_matrix.columns.name = 'predicted'\n",
    "    # calculate the payout with a the cost benefit matrix, \n",
    "    # given threshhold, model, and X\n",
    "    thresholds = np.arange(0.0, 1.0, 0.05)\n",
    "    profits = []\n",
    "    for threshold in thresholds:\n",
    "        profits.append(calculate_payout(cb_matrix, model, X, y, threshold))\n",
    "    return profits\n",
    "    \n",
    "    \n",
    "def profit_curve(profits, ax):\n",
    "    thresholds = np.arange(0.0, 1.0, 0.05)\n",
    "    ax.plot(thresholds, profits)\n",
    "    ax.set_xlabel('Thresholds')\n",
    "    ax.set_ylabel('Profits')\n",
    "    ax.set_title('Profit Curve')\n",
    "    print(profits)"
   ]
  },
  {
   "cell_type": "code",
   "execution_count": 315,
   "id": "statutory-wrong",
   "metadata": {},
   "outputs": [],
   "source": [
    "profits = get_profits(rf_model, X_test, y_test)"
   ]
  },
  {
   "cell_type": "code",
   "execution_count": 317,
   "id": "palestinian-vertex",
   "metadata": {
    "scrolled": false
   },
   "outputs": [
    {
     "data": {
      "text/plain": [
       "Text(0.5, 1.0, 'Profit Curve')"
      ]
     },
     "execution_count": 317,
     "metadata": {},
     "output_type": "execute_result"
    },
    {
     "data": {
      "image/png": "[encoded data removed]",
      "text/plain": [
       "<Figure size 864x576 with 1 Axes>"
      ]
     },
     "metadata": {
      "needs_background": "light"
     },
     "output_type": "display_data"
    }
   ],
   "source": [
    "fig, ax = plt.subplots(figsize=(12, 8))\n",
    "thresholds = np.arange(0.0, 1.0, 0.05)\n",
    "ax.plot(thresholds, profits)\n",
    "ax.set_xlabel('Thresholds')\n",
    "ax.set_ylabel('Profits')\n",
    "ax.set_title('Profit Curve')\n",
    "# ax.set_ylim(-250000, 200000)"
   ]
  },
  {
   "cell_type": "code",
   "execution_count": 318,
   "id": "floral-courtesy",
   "metadata": {},
   "outputs": [],
   "source": [
    "def get_yhat(probs, threshold):\n",
    "    return probs > threshold"
   ]
  },
  {
   "cell_type": "code",
   "execution_count": 319,
   "id": "split-humanity",
   "metadata": {},
   "outputs": [],
   "source": [
    "def get_cf_arrays(y_true, y_hat):\n",
    "    true_positive = (y_true == 1) & (y_hat==1)\n",
    "    true_negative = (y_true == 0) & (y_hat==0)\n",
    "    false_positive = (y_true == 0) & (y_hat==1)\n",
    "    false_negative = (y_true == 1) & (y_hat==0)\n",
    "    return true_positive, true_negative, false_positive, false_negative"
   ]
  },
  {
   "cell_type": "code",
   "execution_count": 320,
   "id": "impressive-citizenship",
   "metadata": {},
   "outputs": [],
   "source": [
    "tp, tn, fp, fn = get_cf_arrays(y_test, get_yhat(probabilities[:,1], .65))"
   ]
  },
  {
   "cell_type": "code",
   "execution_count": 321,
   "id": "above-charm",
   "metadata": {},
   "outputs": [
    {
     "data": {
      "text/plain": [
       "28393"
      ]
     },
     "execution_count": 321,
     "metadata": {},
     "output_type": "execute_result"
    }
   ],
   "source": [
    "tp.sum() + tn.sum() + fp.sum() + fn.sum()"
   ]
  },
  {
   "cell_type": "code",
   "execution_count": 322,
   "id": "wooden-transformation",
   "metadata": {},
   "outputs": [
    {
     "data": {
      "text/plain": [
       "28393"
      ]
     },
     "execution_count": 322,
     "metadata": {},
     "output_type": "execute_result"
    }
   ],
   "source": [
    "y_test.shape[0]"
   ]
  },
  {
   "cell_type": "code",
   "execution_count": 323,
   "id": "attended-driver",
   "metadata": {
    "scrolled": true
   },
   "outputs": [
    {
     "data": {
      "text/html": [
       "<div>\n",
       "<style scoped>\n",
       "    .dataframe tbody tr th:only-of-type {\n",
       "        vertical-align: middle;\n",
       "    }\n",
       "\n",
       "    .dataframe tbody tr th {\n",
       "        vertical-align: top;\n",
       "    }\n",
       "\n",
       "    .dataframe thead th {\n",
       "        text-align: right;\n",
       "    }\n",
       "</style>\n",
       "<table border=\"1\" class=\"dataframe\">\n",
       "  <thead>\n",
       "    <tr style=\"text-align: right;\">\n",
       "      <th></th>\n",
       "      <th>id</th>\n",
       "      <th>member_id</th>\n",
       "      <th>loan_amnt</th>\n",
       "      <th>funded_amnt</th>\n",
       "      <th>funded_amnt_inv</th>\n",
       "      <th>term</th>\n",
       "      <th>int_rate</th>\n",
       "      <th>installment</th>\n",
       "      <th>grade</th>\n",
       "      <th>emp_title</th>\n",
       "      <th>...</th>\n",
       "      <th>purpose_major_purchase</th>\n",
       "      <th>purpose_medical</th>\n",
       "      <th>purpose_moving</th>\n",
       "      <th>purpose_other</th>\n",
       "      <th>purpose_renewable_energy</th>\n",
       "      <th>purpose_small_business</th>\n",
       "      <th>purpose_vacation</th>\n",
       "      <th>purpose_wedding</th>\n",
       "      <th>verification_status_Source Verified</th>\n",
       "      <th>verification_status_Verified</th>\n",
       "    </tr>\n",
       "  </thead>\n",
       "  <tbody>\n",
       "    <tr>\n",
       "      <th>2420469</th>\n",
       "      <td>84060200</td>\n",
       "      <td>NaN</td>\n",
       "      <td>7200</td>\n",
       "      <td>7200</td>\n",
       "      <td>7200.0</td>\n",
       "      <td>36</td>\n",
       "      <td>25.69</td>\n",
       "      <td>288.91</td>\n",
       "      <td>F</td>\n",
       "      <td>Lease Operator</td>\n",
       "      <td>...</td>\n",
       "      <td>0</td>\n",
       "      <td>0</td>\n",
       "      <td>0</td>\n",
       "      <td>0</td>\n",
       "      <td>0</td>\n",
       "      <td>0</td>\n",
       "      <td>0</td>\n",
       "      <td>0</td>\n",
       "      <td>1</td>\n",
       "      <td>0</td>\n",
       "    </tr>\n",
       "    <tr>\n",
       "      <th>2448561</th>\n",
       "      <td>81018384</td>\n",
       "      <td>NaN</td>\n",
       "      <td>4250</td>\n",
       "      <td>4250</td>\n",
       "      <td>4250.0</td>\n",
       "      <td>36</td>\n",
       "      <td>19.99</td>\n",
       "      <td>157.93</td>\n",
       "      <td>D</td>\n",
       "      <td>Prep Cook</td>\n",
       "      <td>...</td>\n",
       "      <td>0</td>\n",
       "      <td>0</td>\n",
       "      <td>0</td>\n",
       "      <td>0</td>\n",
       "      <td>0</td>\n",
       "      <td>0</td>\n",
       "      <td>0</td>\n",
       "      <td>0</td>\n",
       "      <td>0</td>\n",
       "      <td>1</td>\n",
       "    </tr>\n",
       "    <tr>\n",
       "      <th>2528961</th>\n",
       "      <td>89987717</td>\n",
       "      <td>NaN</td>\n",
       "      <td>8500</td>\n",
       "      <td>8500</td>\n",
       "      <td>8500.0</td>\n",
       "      <td>36</td>\n",
       "      <td>26.49</td>\n",
       "      <td>344.70</td>\n",
       "      <td>F</td>\n",
       "      <td>NaN</td>\n",
       "      <td>...</td>\n",
       "      <td>0</td>\n",
       "      <td>0</td>\n",
       "      <td>0</td>\n",
       "      <td>0</td>\n",
       "      <td>0</td>\n",
       "      <td>0</td>\n",
       "      <td>0</td>\n",
       "      <td>0</td>\n",
       "      <td>0</td>\n",
       "      <td>1</td>\n",
       "    </tr>\n",
       "    <tr>\n",
       "      <th>2535912</th>\n",
       "      <td>88969654</td>\n",
       "      <td>NaN</td>\n",
       "      <td>30000</td>\n",
       "      <td>30000</td>\n",
       "      <td>30000.0</td>\n",
       "      <td>36</td>\n",
       "      <td>21.49</td>\n",
       "      <td>1137.82</td>\n",
       "      <td>D</td>\n",
       "      <td>Nurse</td>\n",
       "      <td>...</td>\n",
       "      <td>0</td>\n",
       "      <td>0</td>\n",
       "      <td>0</td>\n",
       "      <td>0</td>\n",
       "      <td>0</td>\n",
       "      <td>0</td>\n",
       "      <td>0</td>\n",
       "      <td>0</td>\n",
       "      <td>0</td>\n",
       "      <td>1</td>\n",
       "    </tr>\n",
       "    <tr>\n",
       "      <th>2540193</th>\n",
       "      <td>88806262</td>\n",
       "      <td>NaN</td>\n",
       "      <td>26600</td>\n",
       "      <td>26600</td>\n",
       "      <td>26350.0</td>\n",
       "      <td>36</td>\n",
       "      <td>25.29</td>\n",
       "      <td>1061.70</td>\n",
       "      <td>E</td>\n",
       "      <td>Police Officer</td>\n",
       "      <td>...</td>\n",
       "      <td>0</td>\n",
       "      <td>0</td>\n",
       "      <td>0</td>\n",
       "      <td>0</td>\n",
       "      <td>0</td>\n",
       "      <td>0</td>\n",
       "      <td>0</td>\n",
       "      <td>0</td>\n",
       "      <td>0</td>\n",
       "      <td>1</td>\n",
       "    </tr>\n",
       "    <tr>\n",
       "      <th>2553850</th>\n",
       "      <td>88077424</td>\n",
       "      <td>NaN</td>\n",
       "      <td>9000</td>\n",
       "      <td>9000</td>\n",
       "      <td>9000.0</td>\n",
       "      <td>36</td>\n",
       "      <td>26.49</td>\n",
       "      <td>364.97</td>\n",
       "      <td>F</td>\n",
       "      <td>Forklift driver</td>\n",
       "      <td>...</td>\n",
       "      <td>0</td>\n",
       "      <td>0</td>\n",
       "      <td>0</td>\n",
       "      <td>0</td>\n",
       "      <td>0</td>\n",
       "      <td>0</td>\n",
       "      <td>0</td>\n",
       "      <td>0</td>\n",
       "      <td>0</td>\n",
       "      <td>1</td>\n",
       "    </tr>\n",
       "    <tr>\n",
       "      <th>2560844</th>\n",
       "      <td>86592746</td>\n",
       "      <td>NaN</td>\n",
       "      <td>10425</td>\n",
       "      <td>10425</td>\n",
       "      <td>10425.0</td>\n",
       "      <td>36</td>\n",
       "      <td>26.99</td>\n",
       "      <td>425.55</td>\n",
       "      <td>F</td>\n",
       "      <td>Manager</td>\n",
       "      <td>...</td>\n",
       "      <td>0</td>\n",
       "      <td>0</td>\n",
       "      <td>0</td>\n",
       "      <td>0</td>\n",
       "      <td>0</td>\n",
       "      <td>0</td>\n",
       "      <td>0</td>\n",
       "      <td>0</td>\n",
       "      <td>0</td>\n",
       "      <td>1</td>\n",
       "    </tr>\n",
       "    <tr>\n",
       "      <th>2571880</th>\n",
       "      <td>85669753</td>\n",
       "      <td>NaN</td>\n",
       "      <td>6850</td>\n",
       "      <td>6850</td>\n",
       "      <td>6850.0</td>\n",
       "      <td>36</td>\n",
       "      <td>29.67</td>\n",
       "      <td>289.56</td>\n",
       "      <td>G</td>\n",
       "      <td>Shift Supervisor</td>\n",
       "      <td>...</td>\n",
       "      <td>0</td>\n",
       "      <td>0</td>\n",
       "      <td>0</td>\n",
       "      <td>0</td>\n",
       "      <td>0</td>\n",
       "      <td>0</td>\n",
       "      <td>0</td>\n",
       "      <td>0</td>\n",
       "      <td>0</td>\n",
       "      <td>1</td>\n",
       "    </tr>\n",
       "    <tr>\n",
       "      <th>2584937</th>\n",
       "      <td>85586509</td>\n",
       "      <td>NaN</td>\n",
       "      <td>30000</td>\n",
       "      <td>30000</td>\n",
       "      <td>30000.0</td>\n",
       "      <td>36</td>\n",
       "      <td>24.49</td>\n",
       "      <td>1184.72</td>\n",
       "      <td>E</td>\n",
       "      <td>Officer</td>\n",
       "      <td>...</td>\n",
       "      <td>0</td>\n",
       "      <td>0</td>\n",
       "      <td>0</td>\n",
       "      <td>0</td>\n",
       "      <td>0</td>\n",
       "      <td>0</td>\n",
       "      <td>0</td>\n",
       "      <td>0</td>\n",
       "      <td>0</td>\n",
       "      <td>1</td>\n",
       "    </tr>\n",
       "    <tr>\n",
       "      <th>2614958</th>\n",
       "      <td>84253649</td>\n",
       "      <td>NaN</td>\n",
       "      <td>25000</td>\n",
       "      <td>25000</td>\n",
       "      <td>25000.0</td>\n",
       "      <td>36</td>\n",
       "      <td>22.39</td>\n",
       "      <td>959.82</td>\n",
       "      <td>E</td>\n",
       "      <td>Manager</td>\n",
       "      <td>...</td>\n",
       "      <td>0</td>\n",
       "      <td>0</td>\n",
       "      <td>0</td>\n",
       "      <td>0</td>\n",
       "      <td>0</td>\n",
       "      <td>0</td>\n",
       "      <td>0</td>\n",
       "      <td>0</td>\n",
       "      <td>0</td>\n",
       "      <td>1</td>\n",
       "    </tr>\n",
       "    <tr>\n",
       "      <th>2616060</th>\n",
       "      <td>84393402</td>\n",
       "      <td>NaN</td>\n",
       "      <td>22850</td>\n",
       "      <td>22850</td>\n",
       "      <td>22850.0</td>\n",
       "      <td>36</td>\n",
       "      <td>23.99</td>\n",
       "      <td>896.36</td>\n",
       "      <td>E</td>\n",
       "      <td>Machinist</td>\n",
       "      <td>...</td>\n",
       "      <td>0</td>\n",
       "      <td>0</td>\n",
       "      <td>0</td>\n",
       "      <td>0</td>\n",
       "      <td>0</td>\n",
       "      <td>0</td>\n",
       "      <td>0</td>\n",
       "      <td>0</td>\n",
       "      <td>1</td>\n",
       "      <td>0</td>\n",
       "    </tr>\n",
       "    <tr>\n",
       "      <th>2616695</th>\n",
       "      <td>83931357</td>\n",
       "      <td>NaN</td>\n",
       "      <td>4500</td>\n",
       "      <td>4500</td>\n",
       "      <td>4500.0</td>\n",
       "      <td>36</td>\n",
       "      <td>16.99</td>\n",
       "      <td>160.42</td>\n",
       "      <td>D</td>\n",
       "      <td>NaN</td>\n",
       "      <td>...</td>\n",
       "      <td>0</td>\n",
       "      <td>0</td>\n",
       "      <td>0</td>\n",
       "      <td>0</td>\n",
       "      <td>0</td>\n",
       "      <td>0</td>\n",
       "      <td>0</td>\n",
       "      <td>0</td>\n",
       "      <td>0</td>\n",
       "      <td>1</td>\n",
       "    </tr>\n",
       "    <tr>\n",
       "      <th>2818708</th>\n",
       "      <td>92539810</td>\n",
       "      <td>NaN</td>\n",
       "      <td>20000</td>\n",
       "      <td>20000</td>\n",
       "      <td>20000.0</td>\n",
       "      <td>36</td>\n",
       "      <td>19.99</td>\n",
       "      <td>743.17</td>\n",
       "      <td>D</td>\n",
       "      <td>Training Specialist</td>\n",
       "      <td>...</td>\n",
       "      <td>0</td>\n",
       "      <td>0</td>\n",
       "      <td>0</td>\n",
       "      <td>0</td>\n",
       "      <td>0</td>\n",
       "      <td>0</td>\n",
       "      <td>0</td>\n",
       "      <td>0</td>\n",
       "      <td>0</td>\n",
       "      <td>1</td>\n",
       "    </tr>\n",
       "  </tbody>\n",
       "</table>\n",
       "<p>13 rows × 178 columns</p>\n",
       "</div>"
      ],
      "text/plain": [
       "               id  member_id  loan_amnt  funded_amnt  funded_amnt_inv  term  \\\n",
       "2420469  84060200        NaN       7200         7200           7200.0    36   \n",
       "2448561  81018384        NaN       4250         4250           4250.0    36   \n",
       "2528961  89987717        NaN       8500         8500           8500.0    36   \n",
       "2535912  88969654        NaN      30000        30000          30000.0    36   \n",
       "2540193  88806262        NaN      26600        26600          26350.0    36   \n",
       "2553850  88077424        NaN       9000         9000           9000.0    36   \n",
       "2560844  86592746        NaN      10425        10425          10425.0    36   \n",
       "2571880  85669753        NaN       6850         6850           6850.0    36   \n",
       "2584937  85586509        NaN      30000        30000          30000.0    36   \n",
       "2614958  84253649        NaN      25000        25000          25000.0    36   \n",
       "2616060  84393402        NaN      22850        22850          22850.0    36   \n",
       "2616695  83931357        NaN       4500         4500           4500.0    36   \n",
       "2818708  92539810        NaN      20000        20000          20000.0    36   \n",
       "\n",
       "         int_rate  installment grade            emp_title  ...  \\\n",
       "2420469     25.69       288.91     F       Lease Operator  ...   \n",
       "2448561     19.99       157.93     D            Prep Cook  ...   \n",
       "2528961     26.49       344.70     F                  NaN  ...   \n",
       "2535912     21.49      1137.82     D                Nurse  ...   \n",
       "2540193     25.29      1061.70     E       Police Officer  ...   \n",
       "2553850     26.49       364.97     F      Forklift driver  ...   \n",
       "2560844     26.99       425.55     F              Manager  ...   \n",
       "2571880     29.67       289.56     G     Shift Supervisor  ...   \n",
       "2584937     24.49      1184.72     E              Officer  ...   \n",
       "2614958     22.39       959.82     E              Manager  ...   \n",
       "2616060     23.99       896.36     E            Machinist  ...   \n",
       "2616695     16.99       160.42     D                  NaN  ...   \n",
       "2818708     19.99       743.17     D  Training Specialist  ...   \n",
       "\n",
       "        purpose_major_purchase  purpose_medical purpose_moving purpose_other  \\\n",
       "2420469                      0                0              0             0   \n",
       "2448561                      0                0              0             0   \n",
       "2528961                      0                0              0             0   \n",
       "2535912                      0                0              0             0   \n",
       "2540193                      0                0              0             0   \n",
       "2553850                      0                0              0             0   \n",
       "2560844                      0                0              0             0   \n",
       "2571880                      0                0              0             0   \n",
       "2584937                      0                0              0             0   \n",
       "2614958                      0                0              0             0   \n",
       "2616060                      0                0              0             0   \n",
       "2616695                      0                0              0             0   \n",
       "2818708                      0                0              0             0   \n",
       "\n",
       "        purpose_renewable_energy purpose_small_business purpose_vacation  \\\n",
       "2420469                        0                      0                0   \n",
       "2448561                        0                      0                0   \n",
       "2528961                        0                      0                0   \n",
       "2535912                        0                      0                0   \n",
       "2540193                        0                      0                0   \n",
       "2553850                        0                      0                0   \n",
       "2560844                        0                      0                0   \n",
       "2571880                        0                      0                0   \n",
       "2584937                        0                      0                0   \n",
       "2614958                        0                      0                0   \n",
       "2616060                        0                      0                0   \n",
       "2616695                        0                      0                0   \n",
       "2818708                        0                      0                0   \n",
       "\n",
       "        purpose_wedding verification_status_Source Verified  \\\n",
       "2420469               0                                   1   \n",
       "2448561               0                                   0   \n",
       "2528961               0                                   0   \n",
       "2535912               0                                   0   \n",
       "2540193               0                                   0   \n",
       "2553850               0                                   0   \n",
       "2560844               0                                   0   \n",
       "2571880               0                                   0   \n",
       "2584937               0                                   0   \n",
       "2614958               0                                   0   \n",
       "2616060               0                                   1   \n",
       "2616695               0                                   0   \n",
       "2818708               0                                   0   \n",
       "\n",
       "        verification_status_Verified  \n",
       "2420469                            0  \n",
       "2448561                            1  \n",
       "2528961                            1  \n",
       "2535912                            1  \n",
       "2540193                            1  \n",
       "2553850                            1  \n",
       "2560844                            1  \n",
       "2571880                            1  \n",
       "2584937                            1  \n",
       "2614958                            1  \n",
       "2616060                            0  \n",
       "2616695                            1  \n",
       "2818708                            1  \n",
       "\n",
       "[13 rows x 178 columns]"
      ]
     },
     "execution_count": 323,
     "metadata": {},
     "output_type": "execute_result"
    }
   ],
   "source": [
    "data.loc[y_test.index[tp]]"
   ]
  },
  {
   "cell_type": "code",
   "execution_count": 324,
   "id": "painful-corporation",
   "metadata": {},
   "outputs": [],
   "source": [
    "payment = [\n",
    "    'loan_amnt', \n",
    "    'funded_amnt',\n",
    "    'out_prncp',\n",
    "    'out_prncp_inv',\n",
    "    'total_pymnt',\n",
    "    'total_pymnt_inv',\n",
    "    'total_rec_prncp',\n",
    "    'total_rec_int',\n",
    "    'total_rec_late_fee']"
   ]
  },
  {
   "cell_type": "code",
   "execution_count": 325,
   "id": "billion-custom",
   "metadata": {},
   "outputs": [
    {
     "data": {
      "text/html": [
       "<div>\n",
       "<style scoped>\n",
       "    .dataframe tbody tr th:only-of-type {\n",
       "        vertical-align: middle;\n",
       "    }\n",
       "\n",
       "    .dataframe tbody tr th {\n",
       "        vertical-align: top;\n",
       "    }\n",
       "\n",
       "    .dataframe thead th {\n",
       "        text-align: right;\n",
       "    }\n",
       "</style>\n",
       "<table border=\"1\" class=\"dataframe\">\n",
       "  <thead>\n",
       "    <tr style=\"text-align: right;\">\n",
       "      <th></th>\n",
       "      <th>loan_amnt</th>\n",
       "      <th>funded_amnt</th>\n",
       "      <th>out_prncp</th>\n",
       "      <th>out_prncp_inv</th>\n",
       "      <th>total_pymnt</th>\n",
       "      <th>total_pymnt_inv</th>\n",
       "      <th>total_rec_prncp</th>\n",
       "      <th>total_rec_int</th>\n",
       "      <th>total_rec_late_fee</th>\n",
       "    </tr>\n",
       "  </thead>\n",
       "  <tbody>\n",
       "    <tr>\n",
       "      <th>2420469</th>\n",
       "      <td>7200</td>\n",
       "      <td>7200</td>\n",
       "      <td>0.0</td>\n",
       "      <td>0.0</td>\n",
       "      <td>1841.04</td>\n",
       "      <td>1841.04</td>\n",
       "      <td>413.03</td>\n",
       "      <td>428.01</td>\n",
       "      <td>0.0</td>\n",
       "    </tr>\n",
       "    <tr>\n",
       "      <th>2448561</th>\n",
       "      <td>4250</td>\n",
       "      <td>4250</td>\n",
       "      <td>0.0</td>\n",
       "      <td>0.0</td>\n",
       "      <td>942.86</td>\n",
       "      <td>942.86</td>\n",
       "      <td>545.05</td>\n",
       "      <td>397.81</td>\n",
       "      <td>0.0</td>\n",
       "    </tr>\n",
       "    <tr>\n",
       "      <th>2528961</th>\n",
       "      <td>8500</td>\n",
       "      <td>8500</td>\n",
       "      <td>0.0</td>\n",
       "      <td>0.0</td>\n",
       "      <td>363.46</td>\n",
       "      <td>363.46</td>\n",
       "      <td>157.06</td>\n",
       "      <td>206.40</td>\n",
       "      <td>0.0</td>\n",
       "    </tr>\n",
       "    <tr>\n",
       "      <th>2535912</th>\n",
       "      <td>30000</td>\n",
       "      <td>30000</td>\n",
       "      <td>0.0</td>\n",
       "      <td>0.0</td>\n",
       "      <td>4515.46</td>\n",
       "      <td>4515.46</td>\n",
       "      <td>2467.59</td>\n",
       "      <td>2047.87</td>\n",
       "      <td>0.0</td>\n",
       "    </tr>\n",
       "    <tr>\n",
       "      <th>2540193</th>\n",
       "      <td>26600</td>\n",
       "      <td>26600</td>\n",
       "      <td>0.0</td>\n",
       "      <td>0.0</td>\n",
       "      <td>15486.95</td>\n",
       "      <td>15341.40</td>\n",
       "      <td>501.11</td>\n",
       "      <td>485.85</td>\n",
       "      <td>0.0</td>\n",
       "    </tr>\n",
       "    <tr>\n",
       "      <th>2553850</th>\n",
       "      <td>9000</td>\n",
       "      <td>9000</td>\n",
       "      <td>0.0</td>\n",
       "      <td>0.0</td>\n",
       "      <td>1164.54</td>\n",
       "      <td>1164.54</td>\n",
       "      <td>509.97</td>\n",
       "      <td>654.57</td>\n",
       "      <td>0.0</td>\n",
       "    </tr>\n",
       "    <tr>\n",
       "      <th>2560844</th>\n",
       "      <td>10425</td>\n",
       "      <td>10425</td>\n",
       "      <td>0.0</td>\n",
       "      <td>0.0</td>\n",
       "      <td>2112.12</td>\n",
       "      <td>2112.12</td>\n",
       "      <td>999.33</td>\n",
       "      <td>1112.79</td>\n",
       "      <td>0.0</td>\n",
       "    </tr>\n",
       "    <tr>\n",
       "      <th>2571880</th>\n",
       "      <td>6850</td>\n",
       "      <td>6850</td>\n",
       "      <td>0.0</td>\n",
       "      <td>0.0</td>\n",
       "      <td>0.00</td>\n",
       "      <td>0.00</td>\n",
       "      <td>0.00</td>\n",
       "      <td>0.00</td>\n",
       "      <td>0.0</td>\n",
       "    </tr>\n",
       "    <tr>\n",
       "      <th>2584937</th>\n",
       "      <td>30000</td>\n",
       "      <td>30000</td>\n",
       "      <td>0.0</td>\n",
       "      <td>0.0</td>\n",
       "      <td>7067.50</td>\n",
       "      <td>7067.50</td>\n",
       "      <td>3614.91</td>\n",
       "      <td>3452.59</td>\n",
       "      <td>0.0</td>\n",
       "    </tr>\n",
       "    <tr>\n",
       "      <th>2614958</th>\n",
       "      <td>25000</td>\n",
       "      <td>25000</td>\n",
       "      <td>0.0</td>\n",
       "      <td>0.0</td>\n",
       "      <td>5727.82</td>\n",
       "      <td>5727.82</td>\n",
       "      <td>3101.73</td>\n",
       "      <td>2626.09</td>\n",
       "      <td>0.0</td>\n",
       "    </tr>\n",
       "    <tr>\n",
       "      <th>2616060</th>\n",
       "      <td>22850</td>\n",
       "      <td>22850</td>\n",
       "      <td>0.0</td>\n",
       "      <td>0.0</td>\n",
       "      <td>4088.41</td>\n",
       "      <td>4088.41</td>\n",
       "      <td>887.89</td>\n",
       "      <td>828.70</td>\n",
       "      <td>0.0</td>\n",
       "    </tr>\n",
       "    <tr>\n",
       "      <th>2616695</th>\n",
       "      <td>4500</td>\n",
       "      <td>4500</td>\n",
       "      <td>0.0</td>\n",
       "      <td>0.0</td>\n",
       "      <td>962.51</td>\n",
       "      <td>962.51</td>\n",
       "      <td>601.17</td>\n",
       "      <td>361.34</td>\n",
       "      <td>0.0</td>\n",
       "    </tr>\n",
       "    <tr>\n",
       "      <th>2818708</th>\n",
       "      <td>20000</td>\n",
       "      <td>20000</td>\n",
       "      <td>0.0</td>\n",
       "      <td>0.0</td>\n",
       "      <td>1441.92</td>\n",
       "      <td>1441.92</td>\n",
       "      <td>826.84</td>\n",
       "      <td>615.08</td>\n",
       "      <td>0.0</td>\n",
       "    </tr>\n",
       "  </tbody>\n",
       "</table>\n",
       "</div>"
      ],
      "text/plain": [
       "         loan_amnt  funded_amnt  out_prncp  out_prncp_inv  total_pymnt  \\\n",
       "2420469       7200         7200        0.0            0.0      1841.04   \n",
       "2448561       4250         4250        0.0            0.0       942.86   \n",
       "2528961       8500         8500        0.0            0.0       363.46   \n",
       "2535912      30000        30000        0.0            0.0      4515.46   \n",
       "2540193      26600        26600        0.0            0.0     15486.95   \n",
       "2553850       9000         9000        0.0            0.0      1164.54   \n",
       "2560844      10425        10425        0.0            0.0      2112.12   \n",
       "2571880       6850         6850        0.0            0.0         0.00   \n",
       "2584937      30000        30000        0.0            0.0      7067.50   \n",
       "2614958      25000        25000        0.0            0.0      5727.82   \n",
       "2616060      22850        22850        0.0            0.0      4088.41   \n",
       "2616695       4500         4500        0.0            0.0       962.51   \n",
       "2818708      20000        20000        0.0            0.0      1441.92   \n",
       "\n",
       "         total_pymnt_inv  total_rec_prncp  total_rec_int  total_rec_late_fee  \n",
       "2420469          1841.04           413.03         428.01                 0.0  \n",
       "2448561           942.86           545.05         397.81                 0.0  \n",
       "2528961           363.46           157.06         206.40                 0.0  \n",
       "2535912          4515.46          2467.59        2047.87                 0.0  \n",
       "2540193         15341.40           501.11         485.85                 0.0  \n",
       "2553850          1164.54           509.97         654.57                 0.0  \n",
       "2560844          2112.12           999.33        1112.79                 0.0  \n",
       "2571880             0.00             0.00           0.00                 0.0  \n",
       "2584937          7067.50          3614.91        3452.59                 0.0  \n",
       "2614958          5727.82          3101.73        2626.09                 0.0  \n",
       "2616060          4088.41           887.89         828.70                 0.0  \n",
       "2616695           962.51           601.17         361.34                 0.0  \n",
       "2818708          1441.92           826.84         615.08                 0.0  "
      ]
     },
     "execution_count": 325,
     "metadata": {},
     "output_type": "execute_result"
    }
   ],
   "source": [
    "data.loc[y_test.index[tp]][payment]"
   ]
  },
  {
   "cell_type": "code",
   "execution_count": 326,
   "id": "smart-planet",
   "metadata": {},
   "outputs": [
    {
     "data": {
      "text/html": [
       "<div>\n",
       "<style scoped>\n",
       "    .dataframe tbody tr th:only-of-type {\n",
       "        vertical-align: middle;\n",
       "    }\n",
       "\n",
       "    .dataframe tbody tr th {\n",
       "        vertical-align: top;\n",
       "    }\n",
       "\n",
       "    .dataframe thead th {\n",
       "        text-align: right;\n",
       "    }\n",
       "</style>\n",
       "<table border=\"1\" class=\"dataframe\">\n",
       "  <thead>\n",
       "    <tr style=\"text-align: right;\">\n",
       "      <th></th>\n",
       "      <th>loan_amnt</th>\n",
       "      <th>funded_amnt</th>\n",
       "      <th>out_prncp</th>\n",
       "      <th>out_prncp_inv</th>\n",
       "      <th>total_pymnt</th>\n",
       "      <th>total_pymnt_inv</th>\n",
       "      <th>total_rec_prncp</th>\n",
       "      <th>total_rec_int</th>\n",
       "      <th>total_rec_late_fee</th>\n",
       "    </tr>\n",
       "  </thead>\n",
       "  <tbody>\n",
       "    <tr>\n",
       "      <th>178659</th>\n",
       "      <td>5000</td>\n",
       "      <td>3400</td>\n",
       "      <td>0.00</td>\n",
       "      <td>0.00</td>\n",
       "      <td>3643.290000</td>\n",
       "      <td>3643.29</td>\n",
       "      <td>3400.00</td>\n",
       "      <td>243.29</td>\n",
       "      <td>0.0</td>\n",
       "    </tr>\n",
       "    <tr>\n",
       "      <th>179511</th>\n",
       "      <td>2875</td>\n",
       "      <td>2850</td>\n",
       "      <td>0.00</td>\n",
       "      <td>0.00</td>\n",
       "      <td>3181.145363</td>\n",
       "      <td>3181.15</td>\n",
       "      <td>2850.00</td>\n",
       "      <td>331.15</td>\n",
       "      <td>0.0</td>\n",
       "    </tr>\n",
       "    <tr>\n",
       "      <th>216117</th>\n",
       "      <td>33425</td>\n",
       "      <td>33325</td>\n",
       "      <td>9488.48</td>\n",
       "      <td>9474.25</td>\n",
       "      <td>42131.039690</td>\n",
       "      <td>42067.83</td>\n",
       "      <td>23836.52</td>\n",
       "      <td>18294.52</td>\n",
       "      <td>0.0</td>\n",
       "    </tr>\n",
       "    <tr>\n",
       "      <th>220369</th>\n",
       "      <td>32000</td>\n",
       "      <td>31900</td>\n",
       "      <td>0.00</td>\n",
       "      <td>0.00</td>\n",
       "      <td>33855.959850</td>\n",
       "      <td>33829.43</td>\n",
       "      <td>31900.00</td>\n",
       "      <td>1955.96</td>\n",
       "      <td>0.0</td>\n",
       "    </tr>\n",
       "    <tr>\n",
       "      <th>221038</th>\n",
       "      <td>25000</td>\n",
       "      <td>24975</td>\n",
       "      <td>0.00</td>\n",
       "      <td>0.00</td>\n",
       "      <td>26453.004910</td>\n",
       "      <td>26453.00</td>\n",
       "      <td>24975.00</td>\n",
       "      <td>1478.00</td>\n",
       "      <td>0.0</td>\n",
       "    </tr>\n",
       "    <tr>\n",
       "      <th>...</th>\n",
       "      <td>...</td>\n",
       "      <td>...</td>\n",
       "      <td>...</td>\n",
       "      <td>...</td>\n",
       "      <td>...</td>\n",
       "      <td>...</td>\n",
       "      <td>...</td>\n",
       "      <td>...</td>\n",
       "      <td>...</td>\n",
       "    </tr>\n",
       "    <tr>\n",
       "      <th>316586</th>\n",
       "      <td>20000</td>\n",
       "      <td>12675</td>\n",
       "      <td>0.00</td>\n",
       "      <td>0.00</td>\n",
       "      <td>17801.931680</td>\n",
       "      <td>17801.93</td>\n",
       "      <td>12675.00</td>\n",
       "      <td>5126.93</td>\n",
       "      <td>0.0</td>\n",
       "    </tr>\n",
       "    <tr>\n",
       "      <th>316592</th>\n",
       "      <td>12000</td>\n",
       "      <td>7775</td>\n",
       "      <td>0.00</td>\n",
       "      <td>0.00</td>\n",
       "      <td>11163.948260</td>\n",
       "      <td>11163.95</td>\n",
       "      <td>7775.00</td>\n",
       "      <td>3388.95</td>\n",
       "      <td>0.0</td>\n",
       "    </tr>\n",
       "    <tr>\n",
       "      <th>2452445</th>\n",
       "      <td>18000</td>\n",
       "      <td>10000</td>\n",
       "      <td>6601.71</td>\n",
       "      <td>6601.71</td>\n",
       "      <td>4485.580000</td>\n",
       "      <td>4485.58</td>\n",
       "      <td>3398.29</td>\n",
       "      <td>1087.29</td>\n",
       "      <td>0.0</td>\n",
       "    </tr>\n",
       "    <tr>\n",
       "      <th>2452523</th>\n",
       "      <td>20000</td>\n",
       "      <td>10000</td>\n",
       "      <td>6908.98</td>\n",
       "      <td>6908.98</td>\n",
       "      <td>3722.610000</td>\n",
       "      <td>3722.61</td>\n",
       "      <td>3091.02</td>\n",
       "      <td>631.59</td>\n",
       "      <td>0.0</td>\n",
       "    </tr>\n",
       "    <tr>\n",
       "      <th>2452770</th>\n",
       "      <td>20000</td>\n",
       "      <td>10000</td>\n",
       "      <td>8428.74</td>\n",
       "      <td>8428.74</td>\n",
       "      <td>2630.990000</td>\n",
       "      <td>2630.99</td>\n",
       "      <td>1571.26</td>\n",
       "      <td>1059.73</td>\n",
       "      <td>0.0</td>\n",
       "    </tr>\n",
       "  </tbody>\n",
       "</table>\n",
       "<p>68 rows × 9 columns</p>\n",
       "</div>"
      ],
      "text/plain": [
       "         loan_amnt  funded_amnt  out_prncp  out_prncp_inv   total_pymnt  \\\n",
       "178659        5000         3400       0.00           0.00   3643.290000   \n",
       "179511        2875         2850       0.00           0.00   3181.145363   \n",
       "216117       33425        33325    9488.48        9474.25  42131.039690   \n",
       "220369       32000        31900       0.00           0.00  33855.959850   \n",
       "221038       25000        24975       0.00           0.00  26453.004910   \n",
       "...            ...          ...        ...            ...           ...   \n",
       "316586       20000        12675       0.00           0.00  17801.931680   \n",
       "316592       12000         7775       0.00           0.00  11163.948260   \n",
       "2452445      18000        10000    6601.71        6601.71   4485.580000   \n",
       "2452523      20000        10000    6908.98        6908.98   3722.610000   \n",
       "2452770      20000        10000    8428.74        8428.74   2630.990000   \n",
       "\n",
       "         total_pymnt_inv  total_rec_prncp  total_rec_int  total_rec_late_fee  \n",
       "178659           3643.29          3400.00         243.29                 0.0  \n",
       "179511           3181.15          2850.00         331.15                 0.0  \n",
       "216117          42067.83         23836.52       18294.52                 0.0  \n",
       "220369          33829.43         31900.00        1955.96                 0.0  \n",
       "221038          26453.00         24975.00        1478.00                 0.0  \n",
       "...                  ...              ...            ...                 ...  \n",
       "316586          17801.93         12675.00        5126.93                 0.0  \n",
       "316592          11163.95          7775.00        3388.95                 0.0  \n",
       "2452445          4485.58          3398.29        1087.29                 0.0  \n",
       "2452523          3722.61          3091.02         631.59                 0.0  \n",
       "2452770          2630.99          1571.26        1059.73                 0.0  \n",
       "\n",
       "[68 rows x 9 columns]"
      ]
     },
     "execution_count": 326,
     "metadata": {},
     "output_type": "execute_result"
    }
   ],
   "source": [
    "data[data.loan_amnt != data.funded_amnt][payment]"
   ]
  },
  {
   "cell_type": "code",
   "execution_count": 327,
   "id": "happy-crack",
   "metadata": {},
   "outputs": [
    {
     "name": "stdout",
     "output_type": "stream",
     "text": [
      "<class 'pandas.core.frame.DataFrame'>\n",
      "RangeIndex: 2854472 entries, 0 to 2854471\n",
      "Data columns (total 9 columns):\n",
      " #   Column              Dtype  \n",
      "---  ------              -----  \n",
      " 0   loan_amnt           int64  \n",
      " 1   funded_amnt         int64  \n",
      " 2   out_prncp           float64\n",
      " 3   out_prncp_inv       float64\n",
      " 4   total_pymnt         float64\n",
      " 5   total_pymnt_inv     float64\n",
      " 6   total_rec_prncp     float64\n",
      " 7   total_rec_int       float64\n",
      " 8   total_rec_late_fee  float64\n",
      "dtypes: float64(7), int64(2)\n",
      "memory usage: 196.0 MB\n"
     ]
    }
   ],
   "source": [
    "data.loc[:,payment].info()"
   ]
  },
  {
   "cell_type": "code",
   "execution_count": 328,
   "id": "american-conjunction",
   "metadata": {
    "scrolled": true
   },
   "outputs": [
    {
     "data": {
      "text/plain": [
       "14657.640000000001"
      ]
     },
     "execution_count": 328,
     "metadata": {},
     "output_type": "execute_result"
    }
   ],
   "source": [
    "(data.loc[y_test.index[tp]]['funded_amnt'].sum()-data.loc[y_test.index[tp]]['total_rec_prncp'].sum())/y_test.index[tp].shape[0]"
   ]
  },
  {
   "cell_type": "code",
   "execution_count": 329,
   "id": "scheduled-vermont",
   "metadata": {},
   "outputs": [
    {
     "data": {
      "text/plain": [
       "6061.88"
      ]
     },
     "execution_count": 329,
     "metadata": {},
     "output_type": "execute_result"
    }
   ],
   "source": [
    "data.loc[y_test.index[fp]]['total_rec_int'].sum()"
   ]
  },
  {
   "cell_type": "code",
   "execution_count": 330,
   "id": "extended-plaintiff",
   "metadata": {},
   "outputs": [],
   "source": [
    "def potential_principal_saved(tp, fp, interest=False):\n",
    "    # Principal remaining\n",
    "    funded = data.loc[y_test.index[tp]]['funded_amnt'].sum()\n",
    "    princ_rec = data.loc[y_test.index[tp]]['total_rec_prncp'].sum()\n",
    "    int_rec = data.loc[y_test.index[tp]]['total_rec_int'].sum()\n",
    "    missed_int = data.loc[y_test.index[fp]]['total_rec_int'].sum()\n",
    "    recovered = data.loc[y_test.index[tp]]['recoveries'].sum()\n",
    "    saved = funded - princ_rec - missed_int - int_rec - recovered\n",
    "    if interest:\n",
    "        saved -= int_rec\n",
    "    return saved\n",
    "    "
   ]
  },
  {
   "cell_type": "code",
   "execution_count": 331,
   "id": "boolean-newton",
   "metadata": {},
   "outputs": [],
   "source": [
    "savings = []\n",
    "for t in threshold:\n",
    "    tp, tn, fp, fn = get_cf_arrays(y_test, get_yhat(probabilities[:,1], t))\n",
    "    savings.append(potential_principal_saved(tp, fp))"
   ]
  },
  {
   "cell_type": "code",
   "execution_count": 332,
   "id": "wrapped-investor",
   "metadata": {},
   "outputs": [
    {
     "data": {
      "text/plain": [
       "[<matplotlib.lines.Line2D at 0x2897c3850>]"
      ]
     },
     "execution_count": 332,
     "metadata": {},
     "output_type": "execute_result"
    },
    {
     "data": {
      "image/png": "[encoded data removed]",
      "text/plain": [
       "<Figure size 432x288 with 1 Axes>"
      ]
     },
     "metadata": {
      "needs_background": "light"
     },
     "output_type": "display_data"
    }
   ],
   "source": [
    "fig, ax = plt.subplots()\n",
    "\n",
    "ax.plot(threshold, savings)"
   ]
  },
  {
   "cell_type": "code",
   "execution_count": 333,
   "id": "stupid-conditioning",
   "metadata": {},
   "outputs": [],
   "source": [
    "savings = []\n",
    "for t in threshold:\n",
    "    tp, tn, fp, fn = get_cf_arrays(y_test, get_yhat(probabilities[:,1], t))\n",
    "    savings.append(potential_principal_saved(tp, fp, True))\n"
   ]
  },
  {
   "cell_type": "code",
   "execution_count": 335,
   "id": "electoral-soldier",
   "metadata": {},
   "outputs": [
    {
     "data": {
      "image/png": "[encoded data removed]",
      "text/plain": [
       "<Figure size 576x432 with 1 Axes>"
      ]
     },
     "metadata": {
      "needs_background": "light"
     },
     "output_type": "display_data"
    }
   ],
   "source": [
    "fig, ax = plt.subplots(figsize=(8,6))\n",
    "\n",
    "ax.plot(threshold, savings)\n",
    "ax.set_xlabel('Threshold')\n",
    "ax.set_ylabel('Dollars Saved')\n",
    "ax.ticklabel_format(style='plain')"
   ]
  },
  {
   "cell_type": "code",
   "execution_count": 106,
   "id": "brazilian-question",
   "metadata": {},
   "outputs": [
    {
     "data": {
      "text/plain": [
       "0.22448979591836732"
      ]
     },
     "execution_count": 106,
     "metadata": {},
     "output_type": "execute_result"
    }
   ],
   "source": [
    "threshold[np.argmax(savings)]"
   ]
  },
  {
   "cell_type": "code",
   "execution_count": 71,
   "id": "dominant-youth",
   "metadata": {},
   "outputs": [],
   "source": [
    "tp, tn, fp, fn = get_cf_arrays(y_test, get_yhat(probabilities[:,1], .8))"
   ]
  },
  {
   "cell_type": "code",
   "execution_count": 72,
   "id": "developing-terrorist",
   "metadata": {},
   "outputs": [
    {
     "data": {
      "text/plain": [
       "59401792.78999999"
      ]
     },
     "execution_count": 72,
     "metadata": {},
     "output_type": "execute_result"
    }
   ],
   "source": [
    "funded = data.loc[y_test.index[tp]]['funded_amnt'].sum()\n",
    "princ_rec = data.loc[y_test.index[tp]]['total_rec_prncp'].sum()\n",
    "int_rec = data.loc[y_test.index[tp]]['total_rec_int'].sum()\n",
    "missed_int = data.loc[y_test.index[fp]]['total_rec_int'].sum()\n",
    "recovered = data.loc[y_test.index[tp]]['recoveries'].sum()\n",
    "saved = funded - princ_rec - missed_int - int_rec - recovered\n",
    "saved"
   ]
  },
  {
   "cell_type": "code",
   "execution_count": 73,
   "id": "three-expert",
   "metadata": {},
   "outputs": [],
   "source": [
    "current_loan_prob = rf_model.predict_proba(X_val)"
   ]
  },
  {
   "cell_type": "code",
   "execution_count": null,
   "id": "tamil-polish",
   "metadata": {},
   "outputs": [],
   "source": [
    "#"
   ]
  },
  {
   "cell_type": "code",
   "execution_count": 74,
   "id": "empty-strain",
   "metadata": {},
   "outputs": [],
   "source": [
    "def interest_calculator(funded, interest, payment):\n",
    "    current_balance = funded\n",
    "    r = interest/100\n",
    "    interest_paid = 0\n",
    "    while current_balance > 0:\n",
    "        accrued = (current_balance * r)/12\n",
    "        interest_paid += accrued\n",
    "        current_balance -= (payment - accrued)\n",
    "        if interest_paid > funded:\n",
    "            return 0\n",
    "    return round(interest_paid,2)\n",
    "    "
   ]
  },
  {
   "cell_type": "code",
   "execution_count": 77,
   "id": "assisted-metro",
   "metadata": {
    "scrolled": false
   },
   "outputs": [
    {
     "name": "stderr",
     "output_type": "stream",
     "text": [
      "<ipython-input-77-39f67147d747>:1: SettingWithCopyWarning: \n",
      "A value is trying to be set on a copy of a slice from a DataFrame.\n",
      "Try using .loc[row_indexer,col_indexer] = value instead\n",
      "\n",
      "See the caveats in the documentation: https://pandas.pydata.org/pandas-docs/stable/user_guide/indexing.html#returning-a-view-versus-a-copy\n",
      "  validation['potential_interest'] = validation.apply(lambda row: interest_calculator(row['funded_amnt'], row['int_rate'], row['installment']), axis=1)\n"
     ]
    }
   ],
   "source": [
    "validation['potential_interest'] = validation.apply(lambda row: interest_calculator(row['funded_amnt'], row['int_rate'], row['installment']), axis=1)"
   ]
  },
  {
   "cell_type": "code",
   "execution_count": 76,
   "id": "patent-swing",
   "metadata": {
    "scrolled": true
   },
   "outputs": [
    {
     "data": {
      "text/plain": [
       "1672.0"
      ]
     },
     "execution_count": 76,
     "metadata": {},
     "output_type": "execute_result"
    }
   ],
   "source": [
    "interest_calculator(data.loc[0, 'funded_amnt'], data.loc[0, 'int_rate'], data.loc[0, 'installment'])"
   ]
  },
  {
   "cell_type": "code",
   "execution_count": 78,
   "id": "metallic-peripheral",
   "metadata": {
    "scrolled": true
   },
   "outputs": [
    {
     "data": {
      "text/plain": [
       "0           1672.00\n",
       "1            556.71\n",
       "2           4589.33\n",
       "4           8361.80\n",
       "5           3850.20\n",
       "             ...   \n",
       "2420059    29067.86\n",
       "2420060     4782.94\n",
       "2420062     1955.40\n",
       "2420063    10565.62\n",
       "2420064     7660.90\n",
       "Name: potential_interest, Length: 1376521, dtype: float64"
      ]
     },
     "execution_count": 78,
     "metadata": {},
     "output_type": "execute_result"
    }
   ],
   "source": [
    "validation['potential_interest']"
   ]
  },
  {
   "cell_type": "code",
   "execution_count": 85,
   "id": "brave-backing",
   "metadata": {},
   "outputs": [
    {
     "data": {
      "text/plain": [
       "127019778.61"
      ]
     },
     "execution_count": 85,
     "metadata": {},
     "output_type": "execute_result"
    }
   ],
   "source": [
    "validation.loc[y_val.index[current_loan_prob[:,1] > .5]]['potential_interest'].sum()"
   ]
  },
  {
   "cell_type": "code",
   "execution_count": 87,
   "id": "lesbian-costume",
   "metadata": {},
   "outputs": [],
   "source": [
    "\n",
    "potential_interest = []\n",
    "for t in threshold:\n",
    "    potential_interest.append(validation.loc[y_val.index[current_loan_prob[:,1] > t]]['potential_interest'].sum())"
   ]
  },
  {
   "cell_type": "code",
   "execution_count": 101,
   "id": "worth-hygiene",
   "metadata": {},
   "outputs": [
    {
     "data": {
      "text/plain": [
       "Text(0, 0.5, 'Dollars Saved')"
      ]
     },
     "execution_count": 101,
     "metadata": {},
     "output_type": "execute_result"
    },
    {
     "data": {
      "image/png": "[encoded data removed]",
      "text/plain": [
       "<Figure size 576x432 with 1 Axes>"
      ]
     },
     "metadata": {
      "needs_background": "light"
     },
     "output_type": "display_data"
    }
   ],
   "source": [
    "fig, ax = plt.subplots(figsize=(8,6))\n",
    "\n",
    "ax.plot(threshold, np.array(potential_interest))\n",
    "ax.set_ylim(0,1000000000)\n",
    "ax.set_xlabel('Threshold')\n",
    "ax.set_ylabel('Dollars Saved')"
   ]
  },
  {
   "cell_type": "code",
   "execution_count": 89,
   "id": "incoming-force",
   "metadata": {},
   "outputs": [],
   "source": [
    "net = np.array(savings)-np.array(potential_interest)"
   ]
  },
  {
   "cell_type": "code",
   "execution_count": 106,
   "id": "frank-development",
   "metadata": {},
   "outputs": [
    {
     "data": {
      "text/plain": [
       "[<matplotlib.lines.Line2D at 0x1757a9fa0>]"
      ]
     },
     "execution_count": 106,
     "metadata": {},
     "output_type": "execute_result"
    },
    {
     "data": {
      "image/png": "[encoded data removed]",
      "text/plain": [
       "<Figure size 432x288 with 1 Axes>"
      ]
     },
     "metadata": {
      "needs_background": "light"
     },
     "output_type": "display_data"
    }
   ],
   "source": [
    "fig, ax = plt.subplots()\n",
    "\n",
    "ax.plot(threshold[net>0],net[net > 0])"
   ]
  },
  {
   "cell_type": "code",
   "execution_count": 103,
   "id": "powered-certificate",
   "metadata": {},
   "outputs": [
    {
     "data": {
      "text/plain": [
       "array([0.73469388, 0.75510204, 0.7755102 , 0.79591837, 0.81632653,\n",
       "       0.83673469, 0.85714286, 0.87755102, 0.89795918, 0.91836735,\n",
       "       0.93877551, 0.95918367, 0.97959184])"
      ]
     },
     "execution_count": 103,
     "metadata": {},
     "output_type": "execute_result"
    }
   ],
   "source": [
    "threshold[net > 0]"
   ]
  },
  {
   "cell_type": "code",
   "execution_count": null,
   "id": "prime-onion",
   "metadata": {},
   "outputs": [],
   "source": []
  }
 ],
 "metadata": {
  "kernelspec": {
   "display_name": "Python 3",
   "language": "python",
   "name": "python3"
  },
  "language_info": {
   "codemirror_mode": {
    "name": "ipython",
    "version": 3
   },
   "file_extension": ".py",
   "mimetype": "text/x-python",
   "name": "python",
   "nbconvert_exporter": "python",
   "pygments_lexer": "ipython3",
   "version": "3.8.8"
  }
 },
 "nbformat": 4,
 "nbformat_minor": 5
}
