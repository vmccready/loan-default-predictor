{
 "cells": [
  {
   "cell_type": "code",
   "execution_count": 1,
   "id": "assigned-acceptance",
   "metadata": {},
   "outputs": [],
   "source": [
    "import numpy as np\n",
    "import pandas as pd\n",
    "import matplotlib.pyplot as plt\n",
    "import re\n",
    "import pickle\n",
    "\n",
    "from glob import iglob\n",
    "import datetime"
   ]
  },
  {
   "cell_type": "code",
   "execution_count": 2,
   "id": "alternative-outside",
   "metadata": {},
   "outputs": [],
   "source": [
    "import importlib\n",
    "import src.pipeline as pipeline"
   ]
  },
  {
   "cell_type": "code",
   "execution_count": 6,
   "id": "governing-intervention",
   "metadata": {},
   "outputs": [
    {
     "data": {
      "text/plain": [
       "<module 'src.pipeline' from '/Users/vinsonmccready/galvanize/loan-default-predictor/src/pipeline.py'>"
      ]
     },
     "execution_count": 6,
     "metadata": {},
     "output_type": "execute_result"
    }
   ],
   "source": [
    "importlib.reload(pipeline)"
   ]
  },
  {
   "cell_type": "code",
   "execution_count": 3,
   "id": "laughing-spank",
   "metadata": {},
   "outputs": [],
   "source": [
    "data = pipeline.get_all_data('data/raw/')"
   ]
  },
  {
   "cell_type": "code",
   "execution_count": 4,
   "id": "needed-smith",
   "metadata": {
    "scrolled": true
   },
   "outputs": [
    {
     "data": {
      "text/html": [
       "<div>\n",
       "<style scoped>\n",
       "    .dataframe tbody tr th:only-of-type {\n",
       "        vertical-align: middle;\n",
       "    }\n",
       "\n",
       "    .dataframe tbody tr th {\n",
       "        vertical-align: top;\n",
       "    }\n",
       "\n",
       "    .dataframe thead th {\n",
       "        text-align: right;\n",
       "    }\n",
       "</style>\n",
       "<table border=\"1\" class=\"dataframe\">\n",
       "  <thead>\n",
       "    <tr style=\"text-align: right;\">\n",
       "      <th></th>\n",
       "      <th>id</th>\n",
       "      <th>member_id</th>\n",
       "      <th>loan_amnt</th>\n",
       "      <th>funded_amnt</th>\n",
       "      <th>funded_amnt_inv</th>\n",
       "      <th>term</th>\n",
       "      <th>int_rate</th>\n",
       "      <th>installment</th>\n",
       "      <th>grade</th>\n",
       "      <th>sub_grade</th>\n",
       "      <th>...</th>\n",
       "      <th>sec_app_mort_acc</th>\n",
       "      <th>sec_app_open_acc</th>\n",
       "      <th>sec_app_revol_util</th>\n",
       "      <th>sec_app_num_rev_accts</th>\n",
       "      <th>sec_app_chargeoff_within_12_mths</th>\n",
       "      <th>sec_app_collections_12_mths_ex_med</th>\n",
       "      <th>sec_app_mths_since_last_major_derog</th>\n",
       "      <th>year</th>\n",
       "      <th>date</th>\n",
       "      <th>days_earlist_cr</th>\n",
       "    </tr>\n",
       "  </thead>\n",
       "  <tbody>\n",
       "    <tr>\n",
       "      <th>0</th>\n",
       "      <td>145217616</td>\n",
       "      <td>NaN</td>\n",
       "      <td>10000</td>\n",
       "      <td>10000</td>\n",
       "      <td>10000.0</td>\n",
       "      <td>36 months</td>\n",
       "      <td>10.33%</td>\n",
       "      <td>324.23</td>\n",
       "      <td>B</td>\n",
       "      <td>B1</td>\n",
       "      <td>...</td>\n",
       "      <td>NaN</td>\n",
       "      <td>NaN</td>\n",
       "      <td>NaN</td>\n",
       "      <td>NaN</td>\n",
       "      <td>NaN</td>\n",
       "      <td>NaN</td>\n",
       "      <td>NaN</td>\n",
       "      <td>18</td>\n",
       "      <td>2018-12-01</td>\n",
       "      <td>8370</td>\n",
       "    </tr>\n",
       "    <tr>\n",
       "      <th>1</th>\n",
       "      <td>145640422</td>\n",
       "      <td>NaN</td>\n",
       "      <td>2500</td>\n",
       "      <td>2500</td>\n",
       "      <td>2500.0</td>\n",
       "      <td>36 months</td>\n",
       "      <td>13.56%</td>\n",
       "      <td>84.92</td>\n",
       "      <td>C</td>\n",
       "      <td>C1</td>\n",
       "      <td>...</td>\n",
       "      <td>NaN</td>\n",
       "      <td>NaN</td>\n",
       "      <td>NaN</td>\n",
       "      <td>NaN</td>\n",
       "      <td>NaN</td>\n",
       "      <td>NaN</td>\n",
       "      <td>NaN</td>\n",
       "      <td>18</td>\n",
       "      <td>2018-12-01</td>\n",
       "      <td>6453</td>\n",
       "    </tr>\n",
       "    <tr>\n",
       "      <th>2</th>\n",
       "      <td>145630143</td>\n",
       "      <td>NaN</td>\n",
       "      <td>12000</td>\n",
       "      <td>12000</td>\n",
       "      <td>12000.0</td>\n",
       "      <td>60 months</td>\n",
       "      <td>13.56%</td>\n",
       "      <td>276.49</td>\n",
       "      <td>C</td>\n",
       "      <td>C1</td>\n",
       "      <td>...</td>\n",
       "      <td>NaN</td>\n",
       "      <td>NaN</td>\n",
       "      <td>NaN</td>\n",
       "      <td>NaN</td>\n",
       "      <td>NaN</td>\n",
       "      <td>NaN</td>\n",
       "      <td>NaN</td>\n",
       "      <td>18</td>\n",
       "      <td>2018-12-01</td>\n",
       "      <td>4870</td>\n",
       "    </tr>\n",
       "    <tr>\n",
       "      <th>3</th>\n",
       "      <td>145127870</td>\n",
       "      <td>NaN</td>\n",
       "      <td>15000</td>\n",
       "      <td>15000</td>\n",
       "      <td>14975.0</td>\n",
       "      <td>60 months</td>\n",
       "      <td>14.47%</td>\n",
       "      <td>352.69</td>\n",
       "      <td>C</td>\n",
       "      <td>C2</td>\n",
       "      <td>...</td>\n",
       "      <td>0.0</td>\n",
       "      <td>16.0</td>\n",
       "      <td>48.8</td>\n",
       "      <td>15.0</td>\n",
       "      <td>0.0</td>\n",
       "      <td>0.0</td>\n",
       "      <td>NaN</td>\n",
       "      <td>18</td>\n",
       "      <td>2018-12-01</td>\n",
       "      <td>7001</td>\n",
       "    </tr>\n",
       "    <tr>\n",
       "      <th>4</th>\n",
       "      <td>145558466</td>\n",
       "      <td>NaN</td>\n",
       "      <td>16000</td>\n",
       "      <td>16000</td>\n",
       "      <td>16000.0</td>\n",
       "      <td>60 months</td>\n",
       "      <td>17.97%</td>\n",
       "      <td>406.04</td>\n",
       "      <td>D</td>\n",
       "      <td>D1</td>\n",
       "      <td>...</td>\n",
       "      <td>NaN</td>\n",
       "      <td>NaN</td>\n",
       "      <td>NaN</td>\n",
       "      <td>NaN</td>\n",
       "      <td>NaN</td>\n",
       "      <td>NaN</td>\n",
       "      <td>NaN</td>\n",
       "      <td>18</td>\n",
       "      <td>2018-12-01</td>\n",
       "      <td>4809</td>\n",
       "    </tr>\n",
       "  </tbody>\n",
       "</table>\n",
       "<p>5 rows × 129 columns</p>\n",
       "</div>"
      ],
      "text/plain": [
       "          id  member_id  loan_amnt  funded_amnt  funded_amnt_inv        term  \\\n",
       "0  145217616        NaN      10000        10000          10000.0   36 months   \n",
       "1  145640422        NaN       2500         2500           2500.0   36 months   \n",
       "2  145630143        NaN      12000        12000          12000.0   60 months   \n",
       "3  145127870        NaN      15000        15000          14975.0   60 months   \n",
       "4  145558466        NaN      16000        16000          16000.0   60 months   \n",
       "\n",
       "  int_rate  installment grade sub_grade  ... sec_app_mort_acc  \\\n",
       "0   10.33%       324.23     B        B1  ...              NaN   \n",
       "1   13.56%        84.92     C        C1  ...              NaN   \n",
       "2   13.56%       276.49     C        C1  ...              NaN   \n",
       "3   14.47%       352.69     C        C2  ...              0.0   \n",
       "4   17.97%       406.04     D        D1  ...              NaN   \n",
       "\n",
       "  sec_app_open_acc sec_app_revol_util  sec_app_num_rev_accts  \\\n",
       "0              NaN                NaN                    NaN   \n",
       "1              NaN                NaN                    NaN   \n",
       "2              NaN                NaN                    NaN   \n",
       "3             16.0               48.8                   15.0   \n",
       "4              NaN                NaN                    NaN   \n",
       "\n",
       "  sec_app_chargeoff_within_12_mths sec_app_collections_12_mths_ex_med  \\\n",
       "0                              NaN                                NaN   \n",
       "1                              NaN                                NaN   \n",
       "2                              NaN                                NaN   \n",
       "3                              0.0                                0.0   \n",
       "4                              NaN                                NaN   \n",
       "\n",
       "  sec_app_mths_since_last_major_derog year        date days_earlist_cr  \n",
       "0                                 NaN   18  2018-12-01            8370  \n",
       "1                                 NaN   18  2018-12-01            6453  \n",
       "2                                 NaN   18  2018-12-01            4870  \n",
       "3                                 NaN   18  2018-12-01            7001  \n",
       "4                                 NaN   18  2018-12-01            4809  \n",
       "\n",
       "[5 rows x 129 columns]"
      ]
     },
     "execution_count": 4,
     "metadata": {},
     "output_type": "execute_result"
    }
   ],
   "source": [
    "data.head()"
   ]
  },
  {
   "cell_type": "code",
   "execution_count": 5,
   "id": "pleasant-pointer",
   "metadata": {},
   "outputs": [],
   "source": [
    "with open('data/X_drop.pickle', 'rb') as f:\n",
    "    cols = pickle.load(f)"
   ]
  },
  {
   "cell_type": "code",
   "execution_count": 6,
   "id": "experienced-union",
   "metadata": {},
   "outputs": [],
   "source": [
    "drop = cols"
   ]
  },
  {
   "cell_type": "markdown",
   "id": "general-coalition",
   "metadata": {},
   "source": [
    "## Data\n",
    "The data includes loans that are not complete. I will be looking primarily at loans that are either fully paid off or charged off. "
   ]
  },
  {
   "cell_type": "code",
   "execution_count": 7,
   "id": "presidential-custody",
   "metadata": {
    "scrolled": true
   },
   "outputs": [
    {
     "data": {
      "text/plain": [
       "Current               2086919\n",
       "Fully Paid             552459\n",
       "Charged Off            131231\n",
       "Late (31-120 days)      32304\n",
       "In Grace Period         22089\n",
       "Issued                  21294\n",
       "Late (16-30 days)        8147\n",
       "Default                    29\n",
       "Name: loan_status, dtype: int64"
      ]
     },
     "execution_count": 7,
     "metadata": {},
     "output_type": "execute_result"
    }
   ],
   "source": [
    "data['loan_status'].value_counts()"
   ]
  },
  {
   "cell_type": "markdown",
   "id": "realistic-closer",
   "metadata": {},
   "source": [
    "Additional analysis may be done on joint applications, but for the purposes of this predictor I will only be using individual applicants. "
   ]
  },
  {
   "cell_type": "code",
   "execution_count": 8,
   "id": "operating-pencil",
   "metadata": {
    "scrolled": true
   },
   "outputs": [
    {
     "data": {
      "text/plain": [
       "INDIVIDUAL    1359464\n",
       "Individual    1284175\n",
       "Joint App      194206\n",
       "JOINT           13707\n",
       "DIRECT_PAY       2920\n",
       "Name: application_type, dtype: int64"
      ]
     },
     "execution_count": 8,
     "metadata": {},
     "output_type": "execute_result"
    }
   ],
   "source": [
    "data['application_type'].value_counts()"
   ]
  },
  {
   "cell_type": "code",
   "execution_count": 9,
   "id": "interpreted-blanket",
   "metadata": {},
   "outputs": [
    {
     "data": {
      "text/plain": [
       "array(['Individual', 'INDIVIDUAL'], dtype=object)"
      ]
     },
     "execution_count": 9,
     "metadata": {},
     "output_type": "execute_result"
    }
   ],
   "source": [
    "# Only use individual loan types\n",
    "data = pipeline.individual_data(data)\n",
    "data['application_type'].unique()"
   ]
  },
  {
   "cell_type": "code",
   "execution_count": 10,
   "id": "sealed-hughes",
   "metadata": {},
   "outputs": [
    {
     "data": {
      "text/plain": [
       "2643639"
      ]
     },
     "execution_count": 10,
     "metadata": {},
     "output_type": "execute_result"
    }
   ],
   "source": [
    "data.shape[0]"
   ]
  },
  {
   "cell_type": "markdown",
   "id": "tutorial-bowling",
   "metadata": {},
   "source": [
    "### Missing Data\n",
    "There is a significant amount of missing data in some columns. These however are still very useful columns and the null value generally indicates a 0 value. "
   ]
  },
  {
   "cell_type": "code",
   "execution_count": 11,
   "id": "infrared-ridge",
   "metadata": {
    "scrolled": true
   },
   "outputs": [
    {
     "data": {
      "text/plain": [
       "member_id                              1.000000\n",
       "desc                                   0.963374\n",
       "mths_since_last_delinq                 0.519161\n",
       "mths_since_last_record                 0.850447\n",
       "next_pymnt_d                           0.254702\n",
       "mths_since_last_major_derog            0.744397\n",
       "annual_inc_joint                       1.000000\n",
       "dti_joint                              1.000000\n",
       "verification_status_joint              1.000000\n",
       "open_acc_6m                            0.311407\n",
       "open_il_12m                            0.311406\n",
       "open_il_24m                            0.311406\n",
       "mths_since_rcnt_il                     0.331586\n",
       "total_bal_il                           0.311406\n",
       "il_util                                0.407763\n",
       "open_rv_12m                            0.311406\n",
       "open_rv_24m                            0.311406\n",
       "max_bal_bc                             0.311406\n",
       "all_util                               0.311497\n",
       "inq_fi                                 0.311406\n",
       "total_cu_tl                            0.311407\n",
       "inq_last_12m                           0.311407\n",
       "mths_since_recent_bc_dlq               0.771040\n",
       "mths_since_recent_revol_delinq         0.673056\n",
       "revol_bal_joint                        1.000000\n",
       "sec_app_fico_range_low                 1.000000\n",
       "sec_app_fico_range_high                1.000000\n",
       "sec_app_earliest_cr_line               1.000000\n",
       "sec_app_inq_last_6mths                 1.000000\n",
       "sec_app_mort_acc                       1.000000\n",
       "sec_app_open_acc                       1.000000\n",
       "sec_app_revol_util                     1.000000\n",
       "sec_app_num_rev_accts                  1.000000\n",
       "sec_app_chargeoff_within_12_mths       1.000000\n",
       "sec_app_collections_12_mths_ex_med     1.000000\n",
       "sec_app_mths_since_last_major_derog    1.000000\n",
       "dtype: float64"
      ]
     },
     "execution_count": 11,
     "metadata": {},
     "output_type": "execute_result"
    }
   ],
   "source": [
    "# Columns with missing data\n",
    "\n",
    "data[data.columns[data.isnull().sum()/data.shape[0] > .2]].isnull().sum()/data.shape[0]"
   ]
  },
  {
   "cell_type": "markdown",
   "id": "crude-validity",
   "metadata": {},
   "source": [
    "There are some columns that have 100% missing data; this will be handled before creating my training variable X. "
   ]
  },
  {
   "cell_type": "code",
   "execution_count": 12,
   "id": "random-princeton",
   "metadata": {
    "scrolled": true
   },
   "outputs": [
    {
     "data": {
      "text/plain": [
       "<AxesSubplot:>"
      ]
     },
     "execution_count": 12,
     "metadata": {},
     "output_type": "execute_result"
    },
    {
     "data": {
      "image/png": "[encoded data removed]",
      "text/plain": [
       "<Figure size 432x288 with 1 Axes>"
      ]
     },
     "metadata": {
      "needs_background": "light"
     },
     "output_type": "display_data"
    }
   ],
   "source": [
    "# Taking a look at values per year\n",
    "\n",
    "data['date'].hist(bins=50)"
   ]
  },
  {
   "cell_type": "code",
   "execution_count": 13,
   "id": "breeding-identifier",
   "metadata": {
    "scrolled": false
   },
   "outputs": [
    {
     "name": "stdout",
     "output_type": "stream",
     "text": [
      "12 48.52524968613562\n",
      "13 34.57020042428828\n",
      "14 34.36992899855281\n",
      "15 33.481347364616816\n",
      "16 21.1244878454973\n",
      "17 21.127428152609642\n",
      "18 21.35766216155981\n",
      "19 21.398317451564527\n",
      "20 21.34044473778718\n"
     ]
    }
   ],
   "source": [
    "# Average number of columns with missing values per row for each year\n",
    "\n",
    "for y in np.sort(data['year'].unique()):\n",
    "    print(y, data[data['year']==y].isna().sum().sum()/data[data['year']==y].shape[0])"
   ]
  },
  {
   "cell_type": "markdown",
   "id": "difficult-clearing",
   "metadata": {},
   "source": [
    "### Preprocessing"
   ]
  },
  {
   "cell_type": "code",
   "execution_count": 14,
   "id": "ahead-glasgow",
   "metadata": {},
   "outputs": [],
   "source": [
    "# Clean data (change from string to numeric)\n",
    "\n",
    "data = pipeline.clean_data(data)"
   ]
  },
  {
   "cell_type": "code",
   "execution_count": 15,
   "id": "working-bloom",
   "metadata": {},
   "outputs": [
    {
     "data": {
      "text/plain": [
       "array([12, 13, 14, 15, 16, 17, 18, 19, 20])"
      ]
     },
     "execution_count": 15,
     "metadata": {},
     "output_type": "execute_result"
    }
   ],
   "source": [
    "# Looking at years of data available\n",
    "\n",
    "np.sort(data['year'].unique())"
   ]
  },
  {
   "cell_type": "code",
   "execution_count": 16,
   "id": "severe-error",
   "metadata": {},
   "outputs": [
    {
     "data": {
      "image/png": "[encoded data removed]",
      "text/plain": [
       "<Figure size 576x432 with 1 Axes>"
      ]
     },
     "metadata": {
      "needs_background": "light"
     },
     "output_type": "display_data"
    }
   ],
   "source": [
    "# Look at volumes of loans per year\n",
    "fig, ax = plt.subplots(figsize=(8,6))\n",
    "ax.bar(data['year'].value_counts().index,data['year'].value_counts(), label='All Loans')\n",
    "ax.bar(pipeline.completed_filter(data)['year'].value_counts().index,\n",
    "       pipeline.completed_filter(data)['year'].value_counts(), \n",
    "       label='Completed Loans')\n",
    "ax.set_xlabel('Year')\n",
    "ax.set_ylabel('Number of Loans')\n",
    "ax.set_title('Loans per Year')\n",
    "plt.legend()\n",
    "plt.savefig('img/loans_per_year.jpg')"
   ]
  },
  {
   "cell_type": "code",
   "execution_count": 17,
   "id": "ceramic-chicken",
   "metadata": {},
   "outputs": [
    {
     "data": {
      "text/plain": [
       "<matplotlib.legend.Legend at 0x37089ed90>"
      ]
     },
     "execution_count": 17,
     "metadata": {},
     "output_type": "execute_result"
    },
    {
     "data": {
      "image/png": "[encoded data removed]",
      "text/plain": [
       "<Figure size 576x432 with 1 Axes>"
      ]
     },
     "metadata": {
      "needs_background": "light"
     },
     "output_type": "display_data"
    }
   ],
   "source": [
    "# Look at volumes of loans per year\n",
    "fig, ax = plt.subplots(figsize=(8,6))\n",
    "ax.bar(pipeline.term_filter(36,data)['year'].value_counts().index,pipeline.term_filter(36,data)['year'].value_counts(), label='All Loans')\n",
    "ax.bar(pipeline.completed_filter(pipeline.term_filter(36,data))['year'].value_counts().index,\n",
    "       pipeline.completed_filter(pipeline.term_filter(36,data))['year'].value_counts(), \n",
    "       label='Completed Loans')\n",
    "ax.set_xlabel('Year')\n",
    "ax.set_ylabel('Number of Loans')\n",
    "ax.set_title('Loans per Year')\n",
    "plt.legend()\n",
    "# plt.savefig('img/loans_per_year.jpg')"
   ]
  },
  {
   "cell_type": "markdown",
   "id": "caring-polls",
   "metadata": {},
   "source": [
    "From 2015 on we see fewer and fewer completed loans. This is because the terms can be up to 5 years. We will only be using data from early 2015 which have terms that should be complete from when this data was downloaded. "
   ]
  },
  {
   "cell_type": "code",
   "execution_count": 18,
   "id": "generous-deviation",
   "metadata": {},
   "outputs": [
    {
     "data": {
      "text/plain": [
       "year\n",
       "12    0.160774\n",
       "13    0.148375\n",
       "14    0.147541\n",
       "15    0.104954\n",
       "16    0.037019\n",
       "17    0.012335\n",
       "18    0.002672\n",
       "19    0.001715\n",
       "20    0.000155\n",
       "Name: year, dtype: float64"
      ]
     },
     "execution_count": 18,
     "metadata": {},
     "output_type": "execute_result"
    }
   ],
   "source": [
    "# Looking at ratio of charged off loans per year. \n",
    "# Recent years are lower because they are not complete yet\n",
    "\n",
    "data[data['loan_status']=='Charged Off'].groupby('year')['year'].count()/data.groupby('year')['year'].count()"
   ]
  },
  {
   "cell_type": "code",
   "execution_count": 19,
   "id": "hourly-beijing",
   "metadata": {},
   "outputs": [],
   "source": [
    "# with open('data/X_drop.pickle', 'wb') as f:\n",
    "#     pickle.dump(drop, f)"
   ]
  },
  {
   "cell_type": "code",
   "execution_count": 20,
   "id": "correct-steal",
   "metadata": {},
   "outputs": [
    {
     "data": {
      "text/plain": [
       "0.04917728933489028"
      ]
     },
     "execution_count": 20,
     "metadata": {},
     "output_type": "execute_result"
    }
   ],
   "source": [
    "\n",
    "\n",
    "(data['loan_status']=='Charged Off').sum()/data.shape[0]"
   ]
  },
  {
   "cell_type": "code",
   "execution_count": 21,
   "id": "unsigned-suspect",
   "metadata": {},
   "outputs": [],
   "source": [
    "def ratio_defaulted(column, data):\n",
    "    ratios = (data[data['loan_status']=='Charged Off'][column].value_counts(dropna=False)/\n",
    "              data[column].value_counts(dropna=False)).sort_index().values\n",
    "    vals = (data[data['loan_status']=='Charged Off'][column].value_counts(dropna=False)/\n",
    "            data[column].value_counts(dropna=False)).sort_index().index.values\n",
    "    if type(vals[-1])==float:\n",
    "        vals[-1]='NA'\n",
    "    return vals, ratios"
   ]
  },
  {
   "cell_type": "code",
   "execution_count": 22,
   "id": "fluid-wrapping",
   "metadata": {},
   "outputs": [],
   "source": [
    "def plot_defaultrate_categorical(column, ax):\n",
    "    ax.bar(ratio_defaulted(column, data)[0],\n",
    "           ratio_defaulted(column, data)[1])"
   ]
  },
  {
   "cell_type": "code",
   "execution_count": 23,
   "id": "vertical-montreal",
   "metadata": {},
   "outputs": [
    {
     "data": {
      "image/png": "[encoded data removed]",
      "text/plain": [
       "<Figure size 1440x360 with 1 Axes>"
      ]
     },
     "metadata": {
      "needs_background": "light"
     },
     "output_type": "display_data"
    }
   ],
   "source": [
    "fig, ax = plt.subplots(figsize=(20,5))\n",
    "\n",
    "plot_defaultrate_categorical('sub_grade', ax=ax)\n",
    "plt.xticks(rotation=45)\n",
    "plt.show()"
   ]
  },
  {
   "cell_type": "code",
   "execution_count": 24,
   "id": "operational-investigation",
   "metadata": {
    "scrolled": false
   },
   "outputs": [
    {
     "name": "stdout",
     "output_type": "stream",
     "text": [
      "'inq_last_6mths': number of missing values '1' ==> '0.000%'\n",
      "'mths_since_last_delinq': number of missing values '1341074' ==> '51.773%'\n",
      "'mths_since_last_record': number of missing values '2196381' ==> '84.793%'\n",
      "'revol_util': number of missing values '2006' ==> '0.077%'\n",
      "'mths_since_last_major_derog': number of missing values '1919932' ==> '74.121%'\n",
      "'open_acc_6m': number of missing values '769880' ==> '29.722%'\n",
      "'open_il_12m': number of missing values '769879' ==> '29.722%'\n",
      "'open_il_24m': number of missing values '769879' ==> '29.722%'\n",
      "'mths_since_rcnt_il': number of missing values '823228' ==> '31.782%'\n",
      "'total_bal_il': number of missing values '769879' ==> '29.722%'\n",
      "'il_util': number of missing values '1024610' ==> '39.556%'\n",
      "'open_rv_12m': number of missing values '769879' ==> '29.722%'\n",
      "'open_rv_24m': number of missing values '769879' ==> '29.722%'\n",
      "'max_bal_bc': number of missing values '769879' ==> '29.722%'\n",
      "'all_util': number of missing values '770119' ==> '29.731%'\n",
      "'inq_fi': number of missing values '769879' ==> '29.722%'\n",
      "'total_cu_tl': number of missing values '769880' ==> '29.722%'\n",
      "'inq_last_12m': number of missing values '769880' ==> '29.722%'\n",
      "'avg_cur_bal': number of missing values '89' ==> '0.003%'\n",
      "'bc_open_to_buy': number of missing values '26918' ==> '1.039%'\n",
      "'bc_util': number of missing values '28229' ==> '1.090%'\n",
      "'mo_sin_old_il_acct': number of missing values '77167' ==> '2.979%'\n",
      "'mths_since_recent_bc': number of missing values '25269' ==> '0.976%'\n",
      "'mths_since_recent_bc_dlq': number of missing values '1991694' ==> '76.891%'\n",
      "'mths_since_recent_inq': number of missing values '285815' ==> '11.034%'\n",
      "'mths_since_recent_revol_delinq': number of missing values '1739865' ==> '67.169%'\n",
      "'num_rev_accts': number of missing values '1' ==> '0.000%'\n",
      "'num_tl_120dpd_2m': number of missing values '91202' ==> '3.521%'\n",
      "'pct_tl_nvr_dlq': number of missing values '155' ==> '0.006%'\n",
      "'percent_bc_gt_75': number of missing values '27398' ==> '1.058%'\n"
     ]
    }
   ],
   "source": [
    "# Missing values\n",
    "pipeline.print_missing(data.drop(drop, axis=1)[data['year'] > 12])"
   ]
  },
  {
   "cell_type": "code",
   "execution_count": 25,
   "id": "julian-aberdeen",
   "metadata": {},
   "outputs": [
    {
     "data": {
      "text/plain": [
       "<AxesSubplot:>"
      ]
     },
     "execution_count": 25,
     "metadata": {},
     "output_type": "execute_result"
    },
    {
     "data": {
      "image/png": "[encoded data removed]",
      "text/plain": [
       "<Figure size 432x288 with 1 Axes>"
      ]
     },
     "metadata": {
      "needs_background": "light"
     },
     "output_type": "display_data"
    }
   ],
   "source": [
    "data['home_ownership'].hist()"
   ]
  },
  {
   "cell_type": "code",
   "execution_count": 26,
   "id": "baking-phone",
   "metadata": {
    "scrolled": false
   },
   "outputs": [
    {
     "data": {
      "image/png": "[encoded data removed]",
      "text/plain": [
       "<Figure size 1440x360 with 1 Axes>"
      ]
     },
     "metadata": {
      "needs_background": "light"
     },
     "output_type": "display_data"
    }
   ],
   "source": [
    "fig, ax = plt.subplots(figsize=(20,5))\n",
    "\n",
    "plot_defaultrate_categorical('emp_length', ax=ax)\n",
    "plt.xticks(rotation=45)\n",
    "plt.show()"
   ]
  },
  {
   "cell_type": "code",
   "execution_count": 27,
   "id": "damaged-glenn",
   "metadata": {},
   "outputs": [
    {
     "data": {
      "text/plain": [
       "['member_id',\n",
       " 'desc',\n",
       " 'next_pymnt_d',\n",
       " 'annual_inc_joint',\n",
       " 'dti_joint',\n",
       " 'verification_status_joint',\n",
       " 'revol_bal_joint',\n",
       " 'sec_app_fico_range_low',\n",
       " 'sec_app_fico_range_high',\n",
       " 'sec_app_earliest_cr_line',\n",
       " 'sec_app_inq_last_6mths',\n",
       " 'sec_app_mort_acc',\n",
       " 'sec_app_open_acc',\n",
       " 'sec_app_revol_util',\n",
       " 'sec_app_num_rev_accts',\n",
       " 'sec_app_chargeoff_within_12_mths',\n",
       " 'sec_app_collections_12_mths_ex_med',\n",
       " 'sec_app_mths_since_last_major_derog',\n",
       " 'funded_amnt_inv',\n",
       " 'grade',\n",
       " 'emp_title',\n",
       " 'emp_length',\n",
       " 'pymnt_plan',\n",
       " 'url',\n",
       " 'title',\n",
       " 'zip_code',\n",
       " 'earliest_cr_line',\n",
       " 'fico_range_high',\n",
       " 'initial_list_status',\n",
       " 'out_prncp',\n",
       " 'out_prncp_inv',\n",
       " 'total_pymnt',\n",
       " 'total_pymnt_inv',\n",
       " 'total_rec_prncp',\n",
       " 'total_rec_int',\n",
       " 'total_rec_late_fee',\n",
       " 'recoveries',\n",
       " 'collection_recovery_fee',\n",
       " 'last_credit_pull_d',\n",
       " 'last_pymnt_d',\n",
       " 'last_pymnt_amnt',\n",
       " 'next_pymnt_d',\n",
       " 'acc_now_delinq',\n",
       " 'tot_coll_amt',\n",
       " 'tot_cur_bal',\n",
       " 'delinq_amnt',\n",
       " 'application_type',\n",
       " 'issue_d',\n",
       " 'id',\n",
       " 'loan_status',\n",
       " 'year',\n",
       " 'date',\n",
       " 'last_fico_range_high',\n",
       " 'last_fico_range_low']"
      ]
     },
     "execution_count": 27,
     "metadata": {},
     "output_type": "execute_result"
    }
   ],
   "source": [
    "drop"
   ]
  },
  {
   "cell_type": "code",
   "execution_count": 28,
   "id": "exempt-plaza",
   "metadata": {},
   "outputs": [],
   "source": [
    "drop.append('addr_state')"
   ]
  },
  {
   "cell_type": "markdown",
   "id": "extensive-dining",
   "metadata": {},
   "source": [
    "### Create X and y variables"
   ]
  },
  {
   "cell_type": "code",
   "execution_count": 186,
   "id": "certain-oracle",
   "metadata": {},
   "outputs": [],
   "source": [
    "import src.model as model"
   ]
  },
  {
   "cell_type": "code",
   "execution_count": 339,
   "id": "active-powder",
   "metadata": {},
   "outputs": [
    {
     "data": {
      "text/plain": [
       "<module 'src.pipeline' from '/Users/vinsonmccready/galvanize/loan-default-predictor/src/pipeline.py'>"
      ]
     },
     "execution_count": 339,
     "metadata": {},
     "output_type": "execute_result"
    }
   ],
   "source": [
    "importlib.reload(pipeline)"
   ]
  },
  {
   "cell_type": "code",
   "execution_count": 219,
   "id": "genetic-stuff",
   "metadata": {},
   "outputs": [],
   "source": [
    "# Create training set using earlier data. Only looking at completed loans. \n",
    "# Only looking at 36 month loans. \n",
    "\n",
    "training = pipeline.completed_filter(\n",
    "    pipeline.date_filter(datetime.date(2012, 1,1), datetime.date(2014, 6,1), \n",
    "    pipeline.create_dummies(data)))"
   ]
  },
  {
   "cell_type": "code",
   "execution_count": 220,
   "id": "attractive-agriculture",
   "metadata": {
    "scrolled": true
   },
   "outputs": [],
   "source": [
    "X_train = pipeline.create_X(training, drop)\n",
    "y_train = pipeline.create_y(training)"
   ]
  },
  {
   "cell_type": "code",
   "execution_count": 221,
   "id": "rational-afghanistan",
   "metadata": {},
   "outputs": [
    {
     "data": {
      "text/plain": [
       "(252164, 125)"
      ]
     },
     "execution_count": 221,
     "metadata": {},
     "output_type": "execute_result"
    }
   ],
   "source": [
    "X_train.shape"
   ]
  },
  {
   "cell_type": "code",
   "execution_count": 198,
   "id": "apparent-glenn",
   "metadata": {},
   "outputs": [
    {
     "data": {
      "text/plain": [
       "Current               144387\n",
       "Fully Paid             21127\n",
       "Charged Off             3108\n",
       "Late (31-120 days)      2979\n",
       "In Grace Period         2044\n",
       "Late (16-30 days)        716\n",
       "Default                    2\n",
       "Name: loan_status, dtype: int64"
      ]
     },
     "execution_count": 198,
     "metadata": {},
     "output_type": "execute_result"
    }
   ],
   "source": [
    "pipeline.date_filter(datetime.date(2014, 6,1), datetime.date(2015, 1,1), \n",
    "    pipeline.term_filter(36,data))['loan_status'].value_counts()"
   ]
  },
  {
   "cell_type": "code",
   "execution_count": 222,
   "id": "successful-evolution",
   "metadata": {},
   "outputs": [],
   "source": [
    "# Holdout data will be later data that has completed 36 month loans. \n",
    "\n",
    "test = pipeline.completed_filter(\n",
    "    pipeline.date_filter(datetime.date(2014, 6,1), datetime.date(2015, 1,1), \n",
    "    pipeline.create_dummies(data)))"
   ]
  },
  {
   "cell_type": "code",
   "execution_count": 223,
   "id": "regular-anatomy",
   "metadata": {},
   "outputs": [],
   "source": [
    "X_test = pipeline.create_X(test, drop)\n",
    "y_test = pipeline.create_y(test)"
   ]
  },
  {
   "cell_type": "code",
   "execution_count": 209,
   "id": "distributed-context",
   "metadata": {
    "scrolled": true
   },
   "outputs": [],
   "source": [
    "# validation[~validation['loan_status'].str.lower().isin(['fully paid', 'charged off'])]['loan_status'].unique()"
   ]
  },
  {
   "cell_type": "code",
   "execution_count": 210,
   "id": "linear-shore",
   "metadata": {},
   "outputs": [],
   "source": [
    "# X_val = pipeline.create_X(validation[~validation['loan_status'].str.lower().isin(['fully paid', 'charged off'])], drop)\n",
    "# y_val = pipeline.create_y(validation[~validation['loan_status'].str.lower().isin(['fully paid', 'charged off'])])"
   ]
  },
  {
   "cell_type": "code",
   "execution_count": 224,
   "id": "prospective-utility",
   "metadata": {},
   "outputs": [],
   "source": [
    "for c in X_train.columns:\n",
    "    if c not in X_test.columns:\n",
    "        print(c)"
   ]
  },
  {
   "cell_type": "code",
   "execution_count": 225,
   "id": "hundred-prospect",
   "metadata": {
    "scrolled": true
   },
   "outputs": [
    {
     "name": "stdout",
     "output_type": "stream",
     "text": [
      "(252164, 125)\n",
      "(93986, 125)\n"
     ]
    }
   ],
   "source": [
    "print(X_train.shape)\n",
    "print(X_test.shape)"
   ]
  },
  {
   "cell_type": "code",
   "execution_count": 226,
   "id": "vietnamese-parts",
   "metadata": {},
   "outputs": [
    {
     "data": {
      "text/plain": [
       "0.2715181279791998"
      ]
     },
     "execution_count": 226,
     "metadata": {},
     "output_type": "execute_result"
    }
   ],
   "source": [
    "# Make sure validation set is ok ratio of data. \n",
    "X_test.shape[0]/(X_test.shape[0] + X_train.shape[0])"
   ]
  },
  {
   "cell_type": "code",
   "execution_count": 231,
   "id": "concerned-carpet",
   "metadata": {},
   "outputs": [
    {
     "data": {
      "text/plain": [
       "0.23202391845594025"
      ]
     },
     "execution_count": 231,
     "metadata": {},
     "output_type": "execute_result"
    }
   ],
   "source": [
    "y_test.sum()/y_test.shape[0]"
   ]
  },
  {
   "cell_type": "markdown",
   "id": "confirmed-clarity",
   "metadata": {},
   "source": [
    "### Models"
   ]
  },
  {
   "cell_type": "code",
   "execution_count": 39,
   "id": "spatial-complement",
   "metadata": {},
   "outputs": [],
   "source": [
    "from sklearn.model_selection import train_test_split\n",
    "from sklearn.ensemble import RandomForestClassifier\n",
    "from sklearn.ensemble import GradientBoostingClassifier\n",
    "\n",
    "from sklearn.metrics import recall_score, precision_score, roc_auc_score"
   ]
  },
  {
   "cell_type": "code",
   "execution_count": 44,
   "id": "continuous-gender",
   "metadata": {},
   "outputs": [],
   "source": [
    "# X_train, X_test, y_train, y_test = train_test_split(X,y)"
   ]
  },
  {
   "cell_type": "code",
   "execution_count": 227,
   "id": "unable-virgin",
   "metadata": {},
   "outputs": [
    {
     "name": "stdout",
     "output_type": "stream",
     "text": [
      "Recall: 0.035172192415279496\n",
      "Precision: 0.6126198083067093\n"
     ]
    }
   ],
   "source": [
    "rf_model = RandomForestClassifier(n_jobs=-1, random_state=1)\n",
    "rf_model.fit(X_train, y_train)\n",
    "recall = recall_score(y_test, rf_model.predict(X_test))\n",
    "precision = precision_score(y_test, rf_model.predict(X_test))\n",
    "print(f'Recall: {recall}\\nPrecision: {precision}')"
   ]
  },
  {
   "cell_type": "code",
   "execution_count": 228,
   "id": "charged-aberdeen",
   "metadata": {},
   "outputs": [
    {
     "name": "stdout",
     "output_type": "stream",
     "text": [
      "Recall: 0.04888338606869354\n",
      "Precision: 0.6263219741480611\n"
     ]
    }
   ],
   "source": [
    "gb_model = GradientBoostingClassifier()\n",
    "gb_model.fit(X_train, y_train)\n",
    "recall = recall_score(y_test, gb_model.predict(X_test))\n",
    "precision = precision_score(y_test, gb_model.predict(X_test))\n",
    "print(f'Recall: {recall}\\nPrecision: {precision}')"
   ]
  },
  {
   "cell_type": "code",
   "execution_count": 229,
   "id": "radical-cameroon",
   "metadata": {},
   "outputs": [
    {
     "data": {
      "text/plain": [
       "0.5142263932469449"
      ]
     },
     "execution_count": 229,
     "metadata": {},
     "output_type": "execute_result"
    }
   ],
   "source": [
    "roc_auc_score(y_test, rf_model.predict(X_test))"
   ]
  },
  {
   "cell_type": "code",
   "execution_count": 230,
   "id": "bulgarian-gentleman",
   "metadata": {},
   "outputs": [
    {
     "data": {
      "text/plain": [
       "0.5200359794611468"
      ]
     },
     "execution_count": 230,
     "metadata": {},
     "output_type": "execute_result"
    }
   ],
   "source": [
    "roc_auc_score(y_test, gb_model.predict(X_test))"
   ]
  },
  {
   "cell_type": "code",
   "execution_count": 393,
   "id": "quality-solid",
   "metadata": {},
   "outputs": [],
   "source": [
    "from sklearn.model_selection import GridSearchCV\n",
    "from sklearn.metrics import roc_auc_score"
   ]
  },
  {
   "cell_type": "code",
   "execution_count": 399,
   "id": "worse-christmas",
   "metadata": {
    "collapsed": true
   },
   "outputs": [
    {
     "name": "stdout",
     "output_type": "stream",
     "text": [
      "Fitting 5 folds for each of 18 candidates, totalling 90 fits\n"
     ]
    },
    {
     "ename": "KeyboardInterrupt",
     "evalue": "",
     "output_type": "error",
     "traceback": [
      "\u001b[0;31m---------------------------------------------------------------------------\u001b[0m",
      "\u001b[0;31mKeyboardInterrupt\u001b[0m                         Traceback (most recent call last)",
      "\u001b[0;32m<ipython-input-399-facd6a9db26b>\u001b[0m in \u001b[0;36m<module>\u001b[0;34m\u001b[0m\n\u001b[1;32m     11\u001b[0m                                 \u001b[0mverbose\u001b[0m\u001b[0;34m=\u001b[0m\u001b[0;32mTrue\u001b[0m\u001b[0;34m,\u001b[0m\u001b[0;34m\u001b[0m\u001b[0;34m\u001b[0m\u001b[0m\n\u001b[1;32m     12\u001b[0m                                 scoring=roc_auc_score)\n\u001b[0;32m---> 13\u001b[0;31m \u001b[0mmodel_gridsearch\u001b[0m\u001b[0;34m.\u001b[0m\u001b[0mfit\u001b[0m\u001b[0;34m(\u001b[0m\u001b[0mX_train\u001b[0m\u001b[0;34m,\u001b[0m \u001b[0my_train\u001b[0m\u001b[0;34m)\u001b[0m\u001b[0;34m\u001b[0m\u001b[0;34m\u001b[0m\u001b[0m\n\u001b[0m\u001b[1;32m     14\u001b[0m \u001b[0mbest_params\u001b[0m \u001b[0;34m=\u001b[0m \u001b[0mmodel_gridsearch\u001b[0m\u001b[0;34m.\u001b[0m\u001b[0mbest_params_\u001b[0m\u001b[0;34m\u001b[0m\u001b[0;34m\u001b[0m\u001b[0m\n\u001b[1;32m     15\u001b[0m \u001b[0mmodel_best\u001b[0m \u001b[0;34m=\u001b[0m \u001b[0mmodel_gridsearch\u001b[0m\u001b[0;34m.\u001b[0m\u001b[0mbest_estimator_\u001b[0m\u001b[0;34m\u001b[0m\u001b[0;34m\u001b[0m\u001b[0m\n",
      "\u001b[0;32m~/miniforge3/envs/tf/lib/python3.8/site-packages/sklearn/utils/validation.py\u001b[0m in \u001b[0;36minner_f\u001b[0;34m(*args, **kwargs)\u001b[0m\n\u001b[1;32m     61\u001b[0m             \u001b[0mextra_args\u001b[0m \u001b[0;34m=\u001b[0m \u001b[0mlen\u001b[0m\u001b[0;34m(\u001b[0m\u001b[0margs\u001b[0m\u001b[0;34m)\u001b[0m \u001b[0;34m-\u001b[0m \u001b[0mlen\u001b[0m\u001b[0;34m(\u001b[0m\u001b[0mall_args\u001b[0m\u001b[0;34m)\u001b[0m\u001b[0;34m\u001b[0m\u001b[0;34m\u001b[0m\u001b[0m\n\u001b[1;32m     62\u001b[0m             \u001b[0;32mif\u001b[0m \u001b[0mextra_args\u001b[0m \u001b[0;34m<=\u001b[0m \u001b[0;36m0\u001b[0m\u001b[0;34m:\u001b[0m\u001b[0;34m\u001b[0m\u001b[0;34m\u001b[0m\u001b[0m\n\u001b[0;32m---> 63\u001b[0;31m                 \u001b[0;32mreturn\u001b[0m \u001b[0mf\u001b[0m\u001b[0;34m(\u001b[0m\u001b[0;34m*\u001b[0m\u001b[0margs\u001b[0m\u001b[0;34m,\u001b[0m \u001b[0;34m**\u001b[0m\u001b[0mkwargs\u001b[0m\u001b[0;34m)\u001b[0m\u001b[0;34m\u001b[0m\u001b[0;34m\u001b[0m\u001b[0m\n\u001b[0m\u001b[1;32m     64\u001b[0m \u001b[0;34m\u001b[0m\u001b[0m\n\u001b[1;32m     65\u001b[0m             \u001b[0;31m# extra_args > 0\u001b[0m\u001b[0;34m\u001b[0m\u001b[0;34m\u001b[0m\u001b[0;34m\u001b[0m\u001b[0m\n",
      "\u001b[0;32m~/miniforge3/envs/tf/lib/python3.8/site-packages/sklearn/model_selection/_search.py\u001b[0m in \u001b[0;36mfit\u001b[0;34m(self, X, y, groups, **fit_params)\u001b[0m\n\u001b[1;32m    839\u001b[0m                 \u001b[0;32mreturn\u001b[0m \u001b[0mresults\u001b[0m\u001b[0;34m\u001b[0m\u001b[0;34m\u001b[0m\u001b[0m\n\u001b[1;32m    840\u001b[0m \u001b[0;34m\u001b[0m\u001b[0m\n\u001b[0;32m--> 841\u001b[0;31m             \u001b[0mself\u001b[0m\u001b[0;34m.\u001b[0m\u001b[0m_run_search\u001b[0m\u001b[0;34m(\u001b[0m\u001b[0mevaluate_candidates\u001b[0m\u001b[0;34m)\u001b[0m\u001b[0;34m\u001b[0m\u001b[0;34m\u001b[0m\u001b[0m\n\u001b[0m\u001b[1;32m    842\u001b[0m \u001b[0;34m\u001b[0m\u001b[0m\n\u001b[1;32m    843\u001b[0m             \u001b[0;31m# multimetric is determined here because in the case of a callable\u001b[0m\u001b[0;34m\u001b[0m\u001b[0;34m\u001b[0m\u001b[0;34m\u001b[0m\u001b[0m\n",
      "\u001b[0;32m~/miniforge3/envs/tf/lib/python3.8/site-packages/sklearn/model_selection/_search.py\u001b[0m in \u001b[0;36m_run_search\u001b[0;34m(self, evaluate_candidates)\u001b[0m\n\u001b[1;32m   1286\u001b[0m     \u001b[0;32mdef\u001b[0m \u001b[0m_run_search\u001b[0m\u001b[0;34m(\u001b[0m\u001b[0mself\u001b[0m\u001b[0;34m,\u001b[0m \u001b[0mevaluate_candidates\u001b[0m\u001b[0;34m)\u001b[0m\u001b[0;34m:\u001b[0m\u001b[0;34m\u001b[0m\u001b[0;34m\u001b[0m\u001b[0m\n\u001b[1;32m   1287\u001b[0m         \u001b[0;34m\"\"\"Search all candidates in param_grid\"\"\"\u001b[0m\u001b[0;34m\u001b[0m\u001b[0;34m\u001b[0m\u001b[0m\n\u001b[0;32m-> 1288\u001b[0;31m         \u001b[0mevaluate_candidates\u001b[0m\u001b[0;34m(\u001b[0m\u001b[0mParameterGrid\u001b[0m\u001b[0;34m(\u001b[0m\u001b[0mself\u001b[0m\u001b[0;34m.\u001b[0m\u001b[0mparam_grid\u001b[0m\u001b[0;34m)\u001b[0m\u001b[0;34m)\u001b[0m\u001b[0;34m\u001b[0m\u001b[0;34m\u001b[0m\u001b[0m\n\u001b[0m\u001b[1;32m   1289\u001b[0m \u001b[0;34m\u001b[0m\u001b[0m\n\u001b[1;32m   1290\u001b[0m \u001b[0;34m\u001b[0m\u001b[0m\n",
      "\u001b[0;32m~/miniforge3/envs/tf/lib/python3.8/site-packages/sklearn/model_selection/_search.py\u001b[0m in \u001b[0;36mevaluate_candidates\u001b[0;34m(candidate_params, cv, more_results)\u001b[0m\n\u001b[1;32m    793\u001b[0m                               n_splits, n_candidates, n_candidates * n_splits))\n\u001b[1;32m    794\u001b[0m \u001b[0;34m\u001b[0m\u001b[0m\n\u001b[0;32m--> 795\u001b[0;31m                 out = parallel(delayed(_fit_and_score)(clone(base_estimator),\n\u001b[0m\u001b[1;32m    796\u001b[0m                                                        \u001b[0mX\u001b[0m\u001b[0;34m,\u001b[0m \u001b[0my\u001b[0m\u001b[0;34m,\u001b[0m\u001b[0;34m\u001b[0m\u001b[0;34m\u001b[0m\u001b[0m\n\u001b[1;32m    797\u001b[0m                                                        \u001b[0mtrain\u001b[0m\u001b[0;34m=\u001b[0m\u001b[0mtrain\u001b[0m\u001b[0;34m,\u001b[0m \u001b[0mtest\u001b[0m\u001b[0;34m=\u001b[0m\u001b[0mtest\u001b[0m\u001b[0;34m,\u001b[0m\u001b[0;34m\u001b[0m\u001b[0;34m\u001b[0m\u001b[0m\n",
      "\u001b[0;32m~/miniforge3/envs/tf/lib/python3.8/site-packages/joblib/parallel.py\u001b[0m in \u001b[0;36m__call__\u001b[0;34m(self, iterable)\u001b[0m\n\u001b[1;32m   1052\u001b[0m \u001b[0;34m\u001b[0m\u001b[0m\n\u001b[1;32m   1053\u001b[0m             \u001b[0;32mwith\u001b[0m \u001b[0mself\u001b[0m\u001b[0;34m.\u001b[0m\u001b[0m_backend\u001b[0m\u001b[0;34m.\u001b[0m\u001b[0mretrieval_context\u001b[0m\u001b[0;34m(\u001b[0m\u001b[0;34m)\u001b[0m\u001b[0;34m:\u001b[0m\u001b[0;34m\u001b[0m\u001b[0;34m\u001b[0m\u001b[0m\n\u001b[0;32m-> 1054\u001b[0;31m                 \u001b[0mself\u001b[0m\u001b[0;34m.\u001b[0m\u001b[0mretrieve\u001b[0m\u001b[0;34m(\u001b[0m\u001b[0;34m)\u001b[0m\u001b[0;34m\u001b[0m\u001b[0;34m\u001b[0m\u001b[0m\n\u001b[0m\u001b[1;32m   1055\u001b[0m             \u001b[0;31m# Make sure that we get a last message telling us we are done\u001b[0m\u001b[0;34m\u001b[0m\u001b[0;34m\u001b[0m\u001b[0;34m\u001b[0m\u001b[0m\n\u001b[1;32m   1056\u001b[0m             \u001b[0melapsed_time\u001b[0m \u001b[0;34m=\u001b[0m \u001b[0mtime\u001b[0m\u001b[0;34m.\u001b[0m\u001b[0mtime\u001b[0m\u001b[0;34m(\u001b[0m\u001b[0;34m)\u001b[0m \u001b[0;34m-\u001b[0m \u001b[0mself\u001b[0m\u001b[0;34m.\u001b[0m\u001b[0m_start_time\u001b[0m\u001b[0;34m\u001b[0m\u001b[0;34m\u001b[0m\u001b[0m\n",
      "\u001b[0;32m~/miniforge3/envs/tf/lib/python3.8/site-packages/joblib/parallel.py\u001b[0m in \u001b[0;36mretrieve\u001b[0;34m(self)\u001b[0m\n\u001b[1;32m    931\u001b[0m             \u001b[0;32mtry\u001b[0m\u001b[0;34m:\u001b[0m\u001b[0;34m\u001b[0m\u001b[0;34m\u001b[0m\u001b[0m\n\u001b[1;32m    932\u001b[0m                 \u001b[0;32mif\u001b[0m \u001b[0mgetattr\u001b[0m\u001b[0;34m(\u001b[0m\u001b[0mself\u001b[0m\u001b[0;34m.\u001b[0m\u001b[0m_backend\u001b[0m\u001b[0;34m,\u001b[0m \u001b[0;34m'supports_timeout'\u001b[0m\u001b[0;34m,\u001b[0m \u001b[0;32mFalse\u001b[0m\u001b[0;34m)\u001b[0m\u001b[0;34m:\u001b[0m\u001b[0;34m\u001b[0m\u001b[0;34m\u001b[0m\u001b[0m\n\u001b[0;32m--> 933\u001b[0;31m                     \u001b[0mself\u001b[0m\u001b[0;34m.\u001b[0m\u001b[0m_output\u001b[0m\u001b[0;34m.\u001b[0m\u001b[0mextend\u001b[0m\u001b[0;34m(\u001b[0m\u001b[0mjob\u001b[0m\u001b[0;34m.\u001b[0m\u001b[0mget\u001b[0m\u001b[0;34m(\u001b[0m\u001b[0mtimeout\u001b[0m\u001b[0;34m=\u001b[0m\u001b[0mself\u001b[0m\u001b[0;34m.\u001b[0m\u001b[0mtimeout\u001b[0m\u001b[0;34m)\u001b[0m\u001b[0;34m)\u001b[0m\u001b[0;34m\u001b[0m\u001b[0;34m\u001b[0m\u001b[0m\n\u001b[0m\u001b[1;32m    934\u001b[0m                 \u001b[0;32melse\u001b[0m\u001b[0;34m:\u001b[0m\u001b[0;34m\u001b[0m\u001b[0;34m\u001b[0m\u001b[0m\n\u001b[1;32m    935\u001b[0m                     \u001b[0mself\u001b[0m\u001b[0;34m.\u001b[0m\u001b[0m_output\u001b[0m\u001b[0;34m.\u001b[0m\u001b[0mextend\u001b[0m\u001b[0;34m(\u001b[0m\u001b[0mjob\u001b[0m\u001b[0;34m.\u001b[0m\u001b[0mget\u001b[0m\u001b[0;34m(\u001b[0m\u001b[0;34m)\u001b[0m\u001b[0;34m)\u001b[0m\u001b[0;34m\u001b[0m\u001b[0;34m\u001b[0m\u001b[0m\n",
      "\u001b[0;32m~/miniforge3/envs/tf/lib/python3.8/site-packages/joblib/_parallel_backends.py\u001b[0m in \u001b[0;36mwrap_future_result\u001b[0;34m(future, timeout)\u001b[0m\n\u001b[1;32m    540\u001b[0m         AsyncResults.get from multiprocessing.\"\"\"\n\u001b[1;32m    541\u001b[0m         \u001b[0;32mtry\u001b[0m\u001b[0;34m:\u001b[0m\u001b[0;34m\u001b[0m\u001b[0;34m\u001b[0m\u001b[0m\n\u001b[0;32m--> 542\u001b[0;31m             \u001b[0;32mreturn\u001b[0m \u001b[0mfuture\u001b[0m\u001b[0;34m.\u001b[0m\u001b[0mresult\u001b[0m\u001b[0;34m(\u001b[0m\u001b[0mtimeout\u001b[0m\u001b[0;34m=\u001b[0m\u001b[0mtimeout\u001b[0m\u001b[0;34m)\u001b[0m\u001b[0;34m\u001b[0m\u001b[0;34m\u001b[0m\u001b[0m\n\u001b[0m\u001b[1;32m    543\u001b[0m         \u001b[0;32mexcept\u001b[0m \u001b[0mCfTimeoutError\u001b[0m \u001b[0;32mas\u001b[0m \u001b[0me\u001b[0m\u001b[0;34m:\u001b[0m\u001b[0;34m\u001b[0m\u001b[0;34m\u001b[0m\u001b[0m\n\u001b[1;32m    544\u001b[0m             \u001b[0;32mraise\u001b[0m \u001b[0mTimeoutError\u001b[0m \u001b[0;32mfrom\u001b[0m \u001b[0me\u001b[0m\u001b[0;34m\u001b[0m\u001b[0;34m\u001b[0m\u001b[0m\n",
      "\u001b[0;32m~/miniforge3/envs/tf/lib/python3.8/concurrent/futures/_base.py\u001b[0m in \u001b[0;36mresult\u001b[0;34m(self, timeout)\u001b[0m\n\u001b[1;32m    432\u001b[0m                 \u001b[0;32mreturn\u001b[0m \u001b[0mself\u001b[0m\u001b[0;34m.\u001b[0m\u001b[0m__get_result\u001b[0m\u001b[0;34m(\u001b[0m\u001b[0;34m)\u001b[0m\u001b[0;34m\u001b[0m\u001b[0;34m\u001b[0m\u001b[0m\n\u001b[1;32m    433\u001b[0m \u001b[0;34m\u001b[0m\u001b[0m\n\u001b[0;32m--> 434\u001b[0;31m             \u001b[0mself\u001b[0m\u001b[0;34m.\u001b[0m\u001b[0m_condition\u001b[0m\u001b[0;34m.\u001b[0m\u001b[0mwait\u001b[0m\u001b[0;34m(\u001b[0m\u001b[0mtimeout\u001b[0m\u001b[0;34m)\u001b[0m\u001b[0;34m\u001b[0m\u001b[0;34m\u001b[0m\u001b[0m\n\u001b[0m\u001b[1;32m    435\u001b[0m \u001b[0;34m\u001b[0m\u001b[0m\n\u001b[1;32m    436\u001b[0m             \u001b[0;32mif\u001b[0m \u001b[0mself\u001b[0m\u001b[0;34m.\u001b[0m\u001b[0m_state\u001b[0m \u001b[0;32min\u001b[0m \u001b[0;34m[\u001b[0m\u001b[0mCANCELLED\u001b[0m\u001b[0;34m,\u001b[0m \u001b[0mCANCELLED_AND_NOTIFIED\u001b[0m\u001b[0;34m]\u001b[0m\u001b[0;34m:\u001b[0m\u001b[0;34m\u001b[0m\u001b[0;34m\u001b[0m\u001b[0m\n",
      "\u001b[0;32m~/miniforge3/envs/tf/lib/python3.8/threading.py\u001b[0m in \u001b[0;36mwait\u001b[0;34m(self, timeout)\u001b[0m\n\u001b[1;32m    300\u001b[0m         \u001b[0;32mtry\u001b[0m\u001b[0;34m:\u001b[0m    \u001b[0;31m# restore state no matter what (e.g., KeyboardInterrupt)\u001b[0m\u001b[0;34m\u001b[0m\u001b[0;34m\u001b[0m\u001b[0m\n\u001b[1;32m    301\u001b[0m             \u001b[0;32mif\u001b[0m \u001b[0mtimeout\u001b[0m \u001b[0;32mis\u001b[0m \u001b[0;32mNone\u001b[0m\u001b[0;34m:\u001b[0m\u001b[0;34m\u001b[0m\u001b[0;34m\u001b[0m\u001b[0m\n\u001b[0;32m--> 302\u001b[0;31m                 \u001b[0mwaiter\u001b[0m\u001b[0;34m.\u001b[0m\u001b[0macquire\u001b[0m\u001b[0;34m(\u001b[0m\u001b[0;34m)\u001b[0m\u001b[0;34m\u001b[0m\u001b[0;34m\u001b[0m\u001b[0m\n\u001b[0m\u001b[1;32m    303\u001b[0m                 \u001b[0mgotit\u001b[0m \u001b[0;34m=\u001b[0m \u001b[0;32mTrue\u001b[0m\u001b[0;34m\u001b[0m\u001b[0;34m\u001b[0m\u001b[0m\n\u001b[1;32m    304\u001b[0m             \u001b[0;32melse\u001b[0m\u001b[0;34m:\u001b[0m\u001b[0;34m\u001b[0m\u001b[0;34m\u001b[0m\u001b[0m\n",
      "\u001b[0;31mKeyboardInterrupt\u001b[0m: "
     ]
    }
   ],
   "source": [
    "gradient_boosting_grid = {'learning_rate': [ 0.1],\n",
    "                          'max_depth': [2, 4, 6],\n",
    "                          'min_samples_leaf': [1, 2, 5],\n",
    "                          'max_features': [1.0, 0.3],\n",
    "                          'n_estimators': [100],\n",
    "                          'random_state': [1]}\n",
    "\n",
    "model_gridsearch = GridSearchCV(GradientBoostingClassifier(),\n",
    "                                gradient_boosting_grid,\n",
    "                                n_jobs=-1,\n",
    "                                verbose=True,\n",
    "                                scoring=roc_auc_score)\n",
    "model_gridsearch.fit(X_train, y_train)\n",
    "best_params = model_gridsearch.best_params_ \n",
    "model_best = model_gridsearch.best_estimator_\n",
    "print(\"\\nResult of gridsearch:\")\n",
    "print(\"{0:<20s} | {1:<8s} | {2}\".format(\"Parameter\", \"Optimal\", \"Gridsearch values\"))\n",
    "print(\"-\" * 55)\n",
    "for param, vals in parameter_grid.items():\n",
    "    print(\"{0:<20s} | {1:<8s} | {2}\".format(str(param), \n",
    "                                            str(best_params[param]),\n",
    "                                            str(vals)))"
   ]
  },
  {
   "cell_type": "code",
   "execution_count": 162,
   "id": "whole-manitoba",
   "metadata": {},
   "outputs": [
    {
     "data": {
      "text/plain": [
       "0.18617013592962284"
      ]
     },
     "execution_count": 162,
     "metadata": {},
     "output_type": "execute_result"
    }
   ],
   "source": [
    "y_test.sum()/y_test.shape[0]"
   ]
  },
  {
   "cell_type": "code",
   "execution_count": 60,
   "id": "statutory-southeast",
   "metadata": {},
   "outputs": [],
   "source": [
    "def calculate_threshold_values(prob, y):\n",
    "    '''\n",
    "    Build dataframe of the various confusion-matrix ratios by threshold\n",
    "    from a list of predicted probabilities and actual y values\n",
    "    '''\n",
    "    df = pd.DataFrame({'prob': prob, 'y': y})\n",
    "    df.sort_values('prob', inplace=True)\n",
    "    \n",
    "    actual_p = df.y.sum()\n",
    "    actual_n = df.shape[0] - df.y.sum()\n",
    "\n",
    "    df['tn'] = (df.y == 0).cumsum()\n",
    "    df['fn'] = df.y.cumsum()\n",
    "    df['fp'] = actual_n - df.tn\n",
    "    df['tp'] = actual_p - df.fn\n",
    "\n",
    "    df['fpr'] = df.fp/(df.fp + df.tn)\n",
    "    df['tpr'] = df.tp/(df.tp + df.fn)\n",
    "    df['precision'] = df.tp/(df.tp + df.fp)\n",
    "    df = df.reset_index(drop=True)\n",
    "    return df\n",
    "    \n",
    "def plot_roc(ax, df):\n",
    "    ax.plot([1]+list(df.fpr), [1]+list(df.tpr), label=\"ROC\")\n",
    "    ax.plot([0,1],[0,1], 'k', label=\"random\")\n",
    "    ax.set_xlabel('False Positive Rate')\n",
    "    ax.set_ylabel('True Positive Rate')\n",
    "    ax.set_title('ROC Curve')\n",
    "    ax.legend()\n",
    "    \n",
    "def plot_precision_recall(ax, df):\n",
    "    ax.plot(df.tpr,df.precision, label='precision/recall')\n",
    "    #ax.plot([0,1],[0,1], 'k')\n",
    "    ax.set_xlabel('recall')\n",
    "    ax.set_ylabel('precision')\n",
    "    ax.set_title('Precision/Recall Curve')\n",
    "    ax.plot([0,1],[df.precision[0],df.precision[0]], 'k', label='random')\n",
    "    ax.set_xlim(left=0,right=1)\n",
    "    ax.set_ylim(bottom=0,top=1)"
   ]
  },
  {
   "cell_type": "code",
   "execution_count": 233,
   "id": "ceramic-cache",
   "metadata": {},
   "outputs": [
    {
     "data": {
      "image/png": "[encoded data removed]",
      "text/plain": [
       "<Figure size 864x432 with 2 Axes>"
      ]
     },
     "metadata": {
      "needs_background": "light"
     },
     "output_type": "display_data"
    }
   ],
   "source": [
    "fig, (ax0, ax1) = plt.subplots(1,2, figsize=(12,6))\n",
    "df = calculate_threshold_values(gb_model.predict_proba(X_test)[:,1], y_test)\n",
    "plot_roc(ax0, df)\n",
    "plot_precision_recall(ax1, df)"
   ]
  },
  {
   "cell_type": "code",
   "execution_count": 407,
   "id": "unlimited-piece",
   "metadata": {},
   "outputs": [
    {
     "data": {
      "image/png": "[encoded data removed]",
      "text/plain": [
       "<Figure size 432x432 with 1 Axes>"
      ]
     },
     "metadata": {
      "needs_background": "light"
     },
     "output_type": "display_data"
    }
   ],
   "source": [
    "fig, ax = plt.subplots(figsize=(6,6))\n",
    "df = calculate_threshold_values(gb_model.predict_proba(X_test)[:,1], y_test)\n",
    "plot_roc(ax, df)\n",
    "plt.savefig('img/roc_plot.jpg')"
   ]
  },
  {
   "cell_type": "code",
   "execution_count": 234,
   "id": "joint-expansion",
   "metadata": {},
   "outputs": [],
   "source": [
    "probabilities = gb_model.predict_proba(X_test)"
   ]
  },
  {
   "cell_type": "code",
   "execution_count": 235,
   "id": "bacterial-humanity",
   "metadata": {
    "scrolled": true
   },
   "outputs": [
    {
     "data": {
      "image/png": "[encoded data removed]",
      "text/plain": [
       "<Figure size 432x288 with 1 Axes>"
      ]
     },
     "metadata": {
      "needs_background": "light"
     },
     "output_type": "display_data"
    }
   ],
   "source": [
    "fig, ax = plt.subplots()\n",
    "ax.hist(probabilities[:,1], bins=50);"
   ]
  },
  {
   "cell_type": "code",
   "execution_count": 236,
   "id": "likely-qualification",
   "metadata": {},
   "outputs": [
    {
     "data": {
      "text/plain": [
       "93986"
      ]
     },
     "execution_count": 236,
     "metadata": {},
     "output_type": "execute_result"
    }
   ],
   "source": [
    "(probabilities > .5).sum()"
   ]
  },
  {
   "cell_type": "code",
   "execution_count": 237,
   "id": "treated-raleigh",
   "metadata": {},
   "outputs": [
    {
     "data": {
      "text/plain": [
       "21807"
      ]
     },
     "execution_count": 237,
     "metadata": {},
     "output_type": "execute_result"
    }
   ],
   "source": [
    "y_test.sum()"
   ]
  },
  {
   "cell_type": "code",
   "execution_count": 238,
   "id": "distinct-creator",
   "metadata": {},
   "outputs": [
    {
     "name": "stderr",
     "output_type": "stream",
     "text": [
      "<ipython-input-238-699a34eff20f>:13: RuntimeWarning: invalid value encountered in long_scalars\n",
      "  p = c[1][1]/(c[1][1]+c[1][0])\n"
     ]
    }
   ],
   "source": [
    "threshold = np.linspace(0,1,100)\n",
    "yhat = gb_model.predict_proba(X_test)[:,1]\n",
    "\n",
    "recall = []\n",
    "precision = []\n",
    "for t in threshold:\n",
    "    c = pd.crosstab(pd.Categorical(y_test, categories=[0,1]), \n",
    "                    pd.Categorical(yhat>t, categories=[0,1]), \n",
    "                    rownames=['actual'], \n",
    "                    colnames=['predicted'],\n",
    "                    dropna=False)\n",
    "    r = c[1][1]/(c[1][1]+c[0][1])\n",
    "    p = c[1][1]/(c[1][1]+c[1][0])\n",
    "    recall.append(r)\n",
    "    precision.append(p)"
   ]
  },
  {
   "cell_type": "code",
   "execution_count": 239,
   "id": "small-lighter",
   "metadata": {},
   "outputs": [
    {
     "data": {
      "image/png": "[encoded data removed]",
      "text/plain": [
       "<Figure size 720x576 with 1 Axes>"
      ]
     },
     "metadata": {
      "needs_background": "light"
     },
     "output_type": "display_data"
    },
    {
     "data": {
      "text/plain": [
       "<Figure size 432x288 with 0 Axes>"
      ]
     },
     "metadata": {},
     "output_type": "display_data"
    }
   ],
   "source": [
    "fig, ax = plt.subplots(figsize=(10,8))\n",
    "\n",
    "ax.plot(threshold, recall, label='recall')\n",
    "ax.plot(threshold, precision, label='precision')\n",
    "# ax.vlines([.08, .85], 0,1, linestyles='--', colors='green')\n",
    "ax.legend()\n",
    "ax.set_xlabel('Threshold')\n",
    "ax.set_ylabel('Score')\n",
    "ax.set_title('Change in Precision and Recall for Thresholds')\n",
    "plt.show()\n",
    "plt.savefig('img/recall_precision.jpg')"
   ]
  },
  {
   "cell_type": "code",
   "execution_count": 240,
   "id": "diagnostic-lyric",
   "metadata": {},
   "outputs": [],
   "source": [
    "y_prob = gb_model.predict_proba(X_test)[:,1]"
   ]
  },
  {
   "cell_type": "code",
   "execution_count": 241,
   "id": "employed-profit",
   "metadata": {},
   "outputs": [],
   "source": [
    "# make predictions based on probabilities and threshold\n",
    "def predict(model, X, threshold=0.5):\n",
    "    '''Return prediction of the fitted binary-classifier model model on X using\n",
    "    the specifed `threshold`. NB: class 1 is the positive class'''\n",
    "    return np.where(model.predict_proba(X)[:,1] > threshold, 1, 0)\n",
    "\n",
    "# create confusion matrix with a given model and Xtest\n",
    "def confusion_matrix(model, X, y,  threshold=0.5):\n",
    "    cf = pd.crosstab(y, predict(model, X, threshold), dropna=False)\n",
    "    cf = cf.add(pd.DataFrame([[0,0],[0,0]], columns=[0, 1], index=[0, 1]), fill_value=0)\n",
    "    cf.index.name = 'actual'\n",
    "    cf.columns.name = 'predicted'\n",
    "    return cf\n",
    "\n",
    "# calculate the payout for a given probability threshold\n",
    "def calculate_payout(cb_matrix, model, X, y, threshold):\n",
    "    return (confusion_matrix(model, X, y, threshold) * cb_matrix).values.sum()"
   ]
  },
  {
   "cell_type": "code",
   "execution_count": 242,
   "id": "sudden-reader",
   "metadata": {},
   "outputs": [
    {
     "data": {
      "text/plain": [
       "array([0, 1])"
      ]
     },
     "execution_count": 242,
     "metadata": {},
     "output_type": "execute_result"
    }
   ],
   "source": [
    "gb_model.classes_"
   ]
  },
  {
   "cell_type": "code",
   "execution_count": 243,
   "id": "african-clause",
   "metadata": {
    "scrolled": true
   },
   "outputs": [],
   "source": [
    "cf = confusion_matrix(gb_model, X_test, y_test)"
   ]
  },
  {
   "cell_type": "code",
   "execution_count": 244,
   "id": "durable-bachelor",
   "metadata": {},
   "outputs": [
    {
     "data": {
      "text/html": [
       "<div>\n",
       "<style scoped>\n",
       "    .dataframe tbody tr th:only-of-type {\n",
       "        vertical-align: middle;\n",
       "    }\n",
       "\n",
       "    .dataframe tbody tr th {\n",
       "        vertical-align: top;\n",
       "    }\n",
       "\n",
       "    .dataframe thead th {\n",
       "        text-align: right;\n",
       "    }\n",
       "</style>\n",
       "<table border=\"1\" class=\"dataframe\">\n",
       "  <thead>\n",
       "    <tr style=\"text-align: right;\">\n",
       "      <th>predicted</th>\n",
       "      <th>0</th>\n",
       "      <th>1</th>\n",
       "    </tr>\n",
       "    <tr>\n",
       "      <th>actual</th>\n",
       "      <th></th>\n",
       "      <th></th>\n",
       "    </tr>\n",
       "  </thead>\n",
       "  <tbody>\n",
       "    <tr>\n",
       "      <th>0</th>\n",
       "      <td>71543</td>\n",
       "      <td>636</td>\n",
       "    </tr>\n",
       "    <tr>\n",
       "      <th>1</th>\n",
       "      <td>20741</td>\n",
       "      <td>1066</td>\n",
       "    </tr>\n",
       "  </tbody>\n",
       "</table>\n",
       "</div>"
      ],
      "text/plain": [
       "predicted      0     1\n",
       "actual                \n",
       "0          71543   636\n",
       "1          20741  1066"
      ]
     },
     "execution_count": 244,
     "metadata": {},
     "output_type": "execute_result"
    }
   ],
   "source": [
    "cf"
   ]
  },
  {
   "cell_type": "code",
   "execution_count": 245,
   "id": "mighty-headset",
   "metadata": {},
   "outputs": [],
   "source": [
    "# Cost benefit\n",
    "def get_profits(model, X, y):\n",
    "    cb_matrix = pd.DataFrame([[0, -1991], [0, 8538]], columns=[0, 1], index=[0,1])\n",
    "    cb_matrix.index.name = 'actual'\n",
    "    cb_matrix.columns.name = 'predicted'\n",
    "    # calculate the payout with a the cost benefit matrix, \n",
    "    # given threshhold, model, and X\n",
    "    thresholds = np.arange(0.0, 1.0, 0.01)\n",
    "    profits = []\n",
    "    for threshold in thresholds:\n",
    "        profits.append(calculate_payout(cb_matrix, model, X, y, threshold))\n",
    "    return profits\n",
    "    \n",
    "    \n",
    "def profit_curve(profits, ax):\n",
    "    thresholds = np.arange(0.0, 1.0, 0.01)\n",
    "    ax.plot(thresholds, profits)\n",
    "    ax.set_xlabel('Thresholds')\n",
    "    ax.set_ylabel('Profits')\n",
    "    ax.set_title('Profit Curve')\n",
    "    print(profits)"
   ]
  },
  {
   "cell_type": "code",
   "execution_count": 246,
   "id": "statutory-wrong",
   "metadata": {},
   "outputs": [],
   "source": [
    "profits = get_profits(gb_model, X_test, y_test)"
   ]
  },
  {
   "cell_type": "code",
   "execution_count": 247,
   "id": "palestinian-vertex",
   "metadata": {
    "scrolled": false
   },
   "outputs": [
    {
     "data": {
      "image/png": "[encoded data removed]",
      "text/plain": [
       "<Figure size 576x432 with 1 Axes>"
      ]
     },
     "metadata": {
      "needs_background": "light"
     },
     "output_type": "display_data"
    }
   ],
   "source": [
    "fig, ax = plt.subplots(figsize=(8, 6))\n",
    "thresholds = np.arange(0.0, 1.0, 0.01)\n",
    "ax.plot(thresholds, np.array(profits)/1000000)\n",
    "ax.plot([0,1], [0,0], color='black')\n",
    "ax.plot([threshold[np.argmax(profits)],threshold[np.argmax(profits)]], \n",
    "        [0,np.max(profits)/1000000], linestyle='--', label=f'Max Profit at {threshold[np.argmax(profits)]:.2f}')\n",
    "ax.set_xlabel('Probability Threshold')\n",
    "ax.set_ylabel('Profits in Millions of Dollars')\n",
    "ax.set_title('Profit Curve')\n",
    "# ax.set_ylim(-1, 3)\n",
    "ax.ticklabel_format(style='plain')\n",
    "plt.legend()\n",
    "# ax.set_ylim(-250000, 200000)\n",
    "plt.savefig('img/profit_curve.jpg')"
   ]
  },
  {
   "cell_type": "code",
   "execution_count": 151,
   "id": "other-guyana",
   "metadata": {},
   "outputs": [
    {
     "data": {
      "text/plain": [
       "15"
      ]
     },
     "execution_count": 151,
     "metadata": {},
     "output_type": "execute_result"
    }
   ],
   "source": [
    "np.argmax(profits)"
   ]
  },
  {
   "cell_type": "code",
   "execution_count": 135,
   "id": "cardiovascular-capacity",
   "metadata": {},
   "outputs": [
    {
     "data": {
      "text/plain": [
       "3152928"
      ]
     },
     "execution_count": 135,
     "metadata": {},
     "output_type": "execute_result"
    }
   ],
   "source": [
    "profits[35]"
   ]
  },
  {
   "cell_type": "code",
   "execution_count": 136,
   "id": "irish-pocket",
   "metadata": {},
   "outputs": [
    {
     "data": {
      "text/plain": [
       "0.3535353535353536"
      ]
     },
     "execution_count": 136,
     "metadata": {},
     "output_type": "execute_result"
    }
   ],
   "source": [
    "threshold[35]"
   ]
  },
  {
   "cell_type": "code",
   "execution_count": 137,
   "id": "painful-average",
   "metadata": {},
   "outputs": [
    {
     "data": {
      "text/plain": [
       "1.1149573078854846"
      ]
     },
     "execution_count": 137,
     "metadata": {},
     "output_type": "execute_result"
    }
   ],
   "source": [
    ".26 * 8538/1991"
   ]
  },
  {
   "cell_type": "code",
   "execution_count": 138,
   "id": "automotive-large",
   "metadata": {},
   "outputs": [
    {
     "data": {
      "text/plain": [
       "0.18617013592962284"
      ]
     },
     "execution_count": 138,
     "metadata": {},
     "output_type": "execute_result"
    }
   ],
   "source": [
    "y_test.sum()/y_test.shape[0]"
   ]
  },
  {
   "cell_type": "code",
   "execution_count": 139,
   "id": "floral-courtesy",
   "metadata": {},
   "outputs": [],
   "source": [
    "def get_yhat(probs, threshold):\n",
    "    return probs > threshold"
   ]
  },
  {
   "cell_type": "code",
   "execution_count": 140,
   "id": "split-humanity",
   "metadata": {},
   "outputs": [],
   "source": [
    "def get_cf_arrays(y_true, y_hat):\n",
    "    true_positive = (y_true == 1) & (y_hat==1)\n",
    "    true_negative = (y_true == 0) & (y_hat==0)\n",
    "    false_positive = (y_true == 0) & (y_hat==1)\n",
    "    false_negative = (y_true == 1) & (y_hat==0)\n",
    "    return true_positive, true_negative, false_positive, false_negative"
   ]
  },
  {
   "cell_type": "code",
   "execution_count": 141,
   "id": "impressive-citizenship",
   "metadata": {},
   "outputs": [],
   "source": [
    "tp, tn, fp, fn = get_cf_arrays(y_test, get_yhat(probabilities[:,1], .65))"
   ]
  },
  {
   "cell_type": "code",
   "execution_count": 142,
   "id": "above-charm",
   "metadata": {},
   "outputs": [
    {
     "data": {
      "text/plain": [
       "69227"
      ]
     },
     "execution_count": 142,
     "metadata": {},
     "output_type": "execute_result"
    }
   ],
   "source": [
    "tp.sum() + tn.sum() + fp.sum() + fn.sum()"
   ]
  },
  {
   "cell_type": "code",
   "execution_count": 143,
   "id": "wooden-transformation",
   "metadata": {},
   "outputs": [
    {
     "data": {
      "text/plain": [
       "69227"
      ]
     },
     "execution_count": 143,
     "metadata": {},
     "output_type": "execute_result"
    }
   ],
   "source": [
    "y_test.shape[0]"
   ]
  },
  {
   "cell_type": "code",
   "execution_count": 144,
   "id": "painful-corporation",
   "metadata": {},
   "outputs": [],
   "source": [
    "payment = [\n",
    "    'loan_amnt', \n",
    "    'funded_amnt',\n",
    "    'out_prncp',\n",
    "    'out_prncp_inv',\n",
    "    'total_pymnt',\n",
    "    'total_pymnt_inv',\n",
    "    'total_rec_prncp',\n",
    "    'total_rec_int',\n",
    "    'total_rec_late_fee']"
   ]
  },
  {
   "cell_type": "code",
   "execution_count": 145,
   "id": "scheduled-vermont",
   "metadata": {},
   "outputs": [
    {
     "data": {
      "text/plain": [
       "0.0"
      ]
     },
     "execution_count": 145,
     "metadata": {},
     "output_type": "execute_result"
    }
   ],
   "source": [
    "data.loc[y_test.index[fp]]['total_rec_int'].sum()"
   ]
  },
  {
   "cell_type": "code",
   "execution_count": 99,
   "id": "signed-portsmouth",
   "metadata": {},
   "outputs": [],
   "source": [
    "validation = pipeline.date_filter(datetime.date(2016, 1,1), datetime.date(2016, 4,1), \n",
    "    pipeline.term_filter(36, ))"
   ]
  },
  {
   "cell_type": "code",
   "execution_count": 103,
   "id": "particular-eugene",
   "metadata": {},
   "outputs": [],
   "source": [
    "X_val = pipeline.create_X(pipeline.date_filter(datetime.date(2016, 1,1), datetime.date(2017, 4,1), \n",
    "    pipeline.term_filter(36, \n",
    "    pipeline.create_dummies(data))), drop)"
   ]
  },
  {
   "cell_type": "code",
   "execution_count": 112,
   "id": "opened-slovakia",
   "metadata": {},
   "outputs": [],
   "source": [
    "y_val = pipeline.create_y(pipeline.date_filter(datetime.date(2016, 1,1), datetime.date(2017, 4,1), \n",
    "    pipeline.term_filter(36, validation)))"
   ]
  },
  {
   "cell_type": "code",
   "execution_count": 129,
   "id": "northern-darwin",
   "metadata": {},
   "outputs": [
    {
     "data": {
      "text/plain": [
       "Current               311717\n",
       "Fully Paid             51602\n",
       "Charged Off            10637\n",
       "Late (31-120 days)      6346\n",
       "In Grace Period         4191\n",
       "Late (16-30 days)       1463\n",
       "Default                    5\n",
       "Name: loan_status, dtype: int64"
      ]
     },
     "execution_count": 129,
     "metadata": {},
     "output_type": "execute_result"
    }
   ],
   "source": [
    "validation['loan_status'].value_counts()"
   ]
  },
  {
   "cell_type": "code",
   "execution_count": 101,
   "id": "thermal-pakistan",
   "metadata": {},
   "outputs": [],
   "source": [
    "validation['potential_interest'] = validation.apply(lambda row: interest_calculator(row['funded_amnt'], row['int_rate'], row['installment']), axis=1)"
   ]
  },
  {
   "cell_type": "code",
   "execution_count": 116,
   "id": "architectural-variable",
   "metadata": {},
   "outputs": [],
   "source": [
    "val_prob = gb_model.predict_proba(X_val)"
   ]
  },
  {
   "cell_type": "code",
   "execution_count": 119,
   "id": "extended-plaintiff",
   "metadata": {},
   "outputs": [],
   "source": [
    "def savings_potential(tp, fp, interest=False):\n",
    "    # Principal remaining\n",
    "    funded = validation.loc[y_val.index[tp]]['funded_amnt'].sum()\n",
    "    princ_rec = validation.loc[y_val.index[tp]]['total_rec_prncp'].sum()\n",
    "    int_rec = validation.loc[y_val.index[tp]]['total_rec_int'].sum()\n",
    "    missed_int = validation.loc[y_val.index[fp]]['total_rec_int'].sum()\n",
    "    recovered = validation.loc[y_val.index[tp]]['recoveries'].sum()\n",
    "    saved = funded - princ_rec - missed_int - int_rec - recovered\n",
    "    if interest:\n",
    "        saved -= int_rec\n",
    "    return saved\n",
    "    "
   ]
  },
  {
   "cell_type": "code",
   "execution_count": 120,
   "id": "prostate-album",
   "metadata": {
    "scrolled": true
   },
   "outputs": [],
   "source": [
    "savings = []\n",
    "for t in threshold:\n",
    "    tp, tn, fp, fn = get_cf_arrays(y_val, get_yhat(val_prob[:,1], t))\n",
    "    savings.append(savings_potential(tp, fp))"
   ]
  },
  {
   "cell_type": "code",
   "execution_count": 121,
   "id": "interesting-virgin",
   "metadata": {},
   "outputs": [
    {
     "data": {
      "text/plain": [
       "[<matplotlib.lines.Line2D at 0x44275c3a0>]"
      ]
     },
     "execution_count": 121,
     "metadata": {},
     "output_type": "execute_result"
    },
    {
     "data": {
      "image/png": "[encoded data removed]",
      "text/plain": [
       "<Figure size 432x288 with 1 Axes>"
      ]
     },
     "metadata": {
      "needs_background": "light"
     },
     "output_type": "display_data"
    }
   ],
   "source": [
    "fig, ax = plt.subplots()\n",
    "\n",
    "ax.plot(threshold, savings)"
   ]
  },
  {
   "cell_type": "code",
   "execution_count": 248,
   "id": "adjacent-zealand",
   "metadata": {},
   "outputs": [],
   "source": [
    "def potential_principal_saved(tp, fp, interest=False):\n",
    "    # Principal remaining\n",
    "    funded = data.loc[y_test.index[tp]]['funded_amnt'].sum()\n",
    "    princ_rec = data.loc[y_test.index[tp]]['total_rec_prncp'].sum()\n",
    "    int_rec = data.loc[y_test.index[tp]]['total_rec_int'].sum()\n",
    "    missed_int = data.loc[y_test.index[fp]]['total_rec_int'].sum()\n",
    "    recovered = data.loc[y_test.index[tp]]['recoveries'].sum()\n",
    "    saved = funded - princ_rec - missed_int - int_rec - recovered\n",
    "    if interest:\n",
    "        saved -= int_rec\n",
    "    return saved"
   ]
  },
  {
   "cell_type": "code",
   "execution_count": 249,
   "id": "therapeutic-darwin",
   "metadata": {},
   "outputs": [],
   "source": [
    "probabilities = gb_model.predict_proba(X_test)"
   ]
  },
  {
   "cell_type": "code",
   "execution_count": 250,
   "id": "boolean-newton",
   "metadata": {},
   "outputs": [],
   "source": [
    "savings = []\n",
    "for t in threshold:\n",
    "    tp, tn, fp, fn = get_cf_arrays(y_test, get_yhat(probabilities[:,1], t))\n",
    "    savings.append(potential_principal_saved(tp, fp))"
   ]
  },
  {
   "cell_type": "code",
   "execution_count": 252,
   "id": "wrapped-investor",
   "metadata": {
    "scrolled": false
   },
   "outputs": [
    {
     "data": {
      "image/png": "[encoded data removed]",
      "text/plain": [
       "<Figure size 576x432 with 1 Axes>"
      ]
     },
     "metadata": {
      "needs_background": "light"
     },
     "output_type": "display_data"
    }
   ],
   "source": [
    "fig, ax = plt.subplots(figsize=(8,6))\n",
    "ax.ticklabel_format(style='plain')\n",
    "ax.plot(threshold, np.array(savings)/1000000)\n",
    "ax.plot([0,1], [0,0], color='black')\n",
    "ax.plot([threshold[np.argmax(savings)],threshold[np.argmax(savings)]], \n",
    "        [0,np.max(savings)/1000000], linestyle='--', label=f'Max Profit at {threshold[np.argmax(savings)]:.2f}')\n",
    "ax.set_xlabel('Probability Threshold')\n",
    "ax.set_ylabel('Profits in Millions of Dollars')\n",
    "ax.set_title('Profit Curve Using Individual Loans')\n",
    "plt.legend()\n",
    "ax.ticklabel_format(style='plain')\n",
    "plt.savefig('img/profit_curve_real.jpg')"
   ]
  },
  {
   "cell_type": "code",
   "execution_count": 379,
   "id": "stupid-conditioning",
   "metadata": {},
   "outputs": [],
   "source": [
    "savings = []\n",
    "for t in threshold:\n",
    "    tp, tn, fp, fn = get_cf_arrays(y_test, get_yhat(probabilities[:,1], t))\n",
    "    savings.append(potential_principal_saved(tp, fp, True))\n"
   ]
  },
  {
   "cell_type": "code",
   "execution_count": 380,
   "id": "electoral-soldier",
   "metadata": {},
   "outputs": [
    {
     "data": {
      "image/png": "[encoded data removed]",
      "text/plain": [
       "<Figure size 576x432 with 1 Axes>"
      ]
     },
     "metadata": {
      "needs_background": "light"
     },
     "output_type": "display_data"
    }
   ],
   "source": [
    "fig, ax = plt.subplots(figsize=(8,6))\n",
    "\n",
    "ax.plot(threshold, savings)\n",
    "ax.set_xlabel('Threshold')\n",
    "ax.set_ylabel('Dollars Saved')\n",
    "ax.ticklabel_format(style='plain')"
   ]
  },
  {
   "cell_type": "code",
   "execution_count": 462,
   "id": "statutory-array",
   "metadata": {},
   "outputs": [
    {
     "data": {
      "text/plain": [
       "62239"
      ]
     },
     "execution_count": 462,
     "metadata": {},
     "output_type": "execute_result"
    }
   ],
   "source": [
    "(probabilities[:,1]>0).sum()"
   ]
  },
  {
   "cell_type": "code",
   "execution_count": 463,
   "id": "strategic-skirt",
   "metadata": {},
   "outputs": [
    {
     "data": {
      "text/plain": [
       "(62239,)"
      ]
     },
     "execution_count": 463,
     "metadata": {},
     "output_type": "execute_result"
    }
   ],
   "source": [
    "y_test.shape"
   ]
  },
  {
   "cell_type": "markdown",
   "id": "alert-framing",
   "metadata": {},
   "source": [
    "### Find savings from future loans"
   ]
  },
  {
   "cell_type": "code",
   "execution_count": 106,
   "id": "brazilian-question",
   "metadata": {},
   "outputs": [
    {
     "data": {
      "text/plain": [
       "0.22448979591836732"
      ]
     },
     "execution_count": 106,
     "metadata": {},
     "output_type": "execute_result"
    }
   ],
   "source": [
    "threshold[np.argmax(savings)]"
   ]
  },
  {
   "cell_type": "code",
   "execution_count": 71,
   "id": "dominant-youth",
   "metadata": {},
   "outputs": [],
   "source": [
    "tp, tn, fp, fn = get_cf_arrays(y_test, get_yhat(probabilities[:,1], .8))"
   ]
  },
  {
   "cell_type": "code",
   "execution_count": 72,
   "id": "random-replica",
   "metadata": {},
   "outputs": [
    {
     "data": {
      "text/plain": [
       "59401792.78999999"
      ]
     },
     "execution_count": 72,
     "metadata": {},
     "output_type": "execute_result"
    }
   ],
   "source": [
    "funded = data.loc[y_test.index[tp]]['funded_amnt'].sum()\n",
    "princ_rec = data.loc[y_test.index[tp]]['total_rec_prncp'].sum()\n",
    "int_rec = data.loc[y_test.index[tp]]['total_rec_int'].sum()\n",
    "missed_int = data.loc[y_test.index[fp]]['total_rec_int'].sum()\n",
    "recovered = data.loc[y_test.index[tp]]['recoveries'].sum()\n",
    "saved = funded - princ_rec - missed_int - int_rec - recovered\n",
    "saved"
   ]
  },
  {
   "cell_type": "code",
   "execution_count": 73,
   "id": "restricted-killing",
   "metadata": {},
   "outputs": [],
   "source": [
    "current_loan_prob = rf_model.predict_proba(X_val)"
   ]
  },
  {
   "cell_type": "code",
   "execution_count": 1,
   "id": "pointed-complement",
   "metadata": {},
   "outputs": [],
   "source": [
    "#"
   ]
  },
  {
   "cell_type": "code",
   "execution_count": 94,
   "id": "upper-growing",
   "metadata": {},
   "outputs": [],
   "source": [
    "def interest_calculator(funded, interest, payment):\n",
    "    current_balance = funded\n",
    "    r = interest/100\n",
    "    interest_paid = 0\n",
    "    while current_balance > 0:\n",
    "        accrued = (current_balance * r)/12\n",
    "        interest_paid += accrued\n",
    "        current_balance -= (payment - accrued)\n",
    "        if interest_paid > funded:\n",
    "            return 0\n",
    "    return round(interest_paid,2)\n",
    "    "
   ]
  },
  {
   "cell_type": "code",
   "execution_count": null,
   "id": "specialized-knitting",
   "metadata": {},
   "outputs": [],
   "source": []
  },
  {
   "cell_type": "code",
   "execution_count": null,
   "id": "geological-entrance",
   "metadata": {
    "scrolled": true
   },
   "outputs": [],
   "source": [
    "validation = validation.copy()\n",
    "validation['potential_interest'] = validation.apply(lambda row: interest_calculator(row['funded_amnt'], row['int_rate'], row['installment']), axis=1)"
   ]
  },
  {
   "cell_type": "code",
   "execution_count": 76,
   "id": "valued-champagne",
   "metadata": {
    "scrolled": true
   },
   "outputs": [
    {
     "data": {
      "text/plain": [
       "1672.0"
      ]
     },
     "execution_count": 76,
     "metadata": {},
     "output_type": "execute_result"
    }
   ],
   "source": [
    "interest_calculator(data.loc[0, 'funded_amnt'], data.loc[0, 'int_rate'], data.loc[0, 'installment'])"
   ]
  },
  {
   "cell_type": "code",
   "execution_count": 78,
   "id": "useful-spain",
   "metadata": {
    "scrolled": true
   },
   "outputs": [
    {
     "data": {
      "text/plain": [
       "0           1672.00\n",
       "1            556.71\n",
       "2           4589.33\n",
       "4           8361.80\n",
       "5           3850.20\n",
       "             ...   \n",
       "2420059    29067.86\n",
       "2420060     4782.94\n",
       "2420062     1955.40\n",
       "2420063    10565.62\n",
       "2420064     7660.90\n",
       "Name: potential_interest, Length: 1376521, dtype: float64"
      ]
     },
     "execution_count": 78,
     "metadata": {},
     "output_type": "execute_result"
    }
   ],
   "source": [
    "validation['potential_interest']"
   ]
  },
  {
   "cell_type": "code",
   "execution_count": 85,
   "id": "early-vertical",
   "metadata": {},
   "outputs": [
    {
     "data": {
      "text/plain": [
       "127019778.61"
      ]
     },
     "execution_count": 85,
     "metadata": {},
     "output_type": "execute_result"
    }
   ],
   "source": [
    "validation.loc[y_val.index[current_loan_prob[:,1] > .5]]['potential_interest'].sum()"
   ]
  },
  {
   "cell_type": "code",
   "execution_count": 87,
   "id": "impossible-makeup",
   "metadata": {},
   "outputs": [],
   "source": [
    "\n",
    "potential_interest = []\n",
    "for t in threshold:\n",
    "    potential_interest.append(validation.loc[y_val.index[current_loan_prob[:,1] > t]]['potential_interest'].sum())"
   ]
  },
  {
   "cell_type": "code",
   "execution_count": 101,
   "id": "recreational-audio",
   "metadata": {},
   "outputs": [
    {
     "data": {
      "text/plain": [
       "Text(0, 0.5, 'Dollars Saved')"
      ]
     },
     "execution_count": 101,
     "metadata": {},
     "output_type": "execute_result"
    },
    {
     "data": {
      "image/png": "[encoded data removed]",
      "text/plain": [
       "<Figure size 576x432 with 1 Axes>"
      ]
     },
     "metadata": {
      "needs_background": "light"
     },
     "output_type": "display_data"
    }
   ],
   "source": [
    "fig, ax = plt.subplots(figsize=(8,6))\n",
    "\n",
    "ax.plot(threshold, np.array(potential_interest))\n",
    "ax.set_ylim(0,1000000000)\n",
    "ax.set_xlabel('Threshold')\n",
    "ax.set_ylabel('Dollars Saved')"
   ]
  },
  {
   "cell_type": "code",
   "execution_count": 89,
   "id": "offshore-frank",
   "metadata": {},
   "outputs": [],
   "source": [
    "net = np.array(savings)-np.array(potential_interest)"
   ]
  },
  {
   "cell_type": "code",
   "execution_count": 106,
   "id": "czech-scheduling",
   "metadata": {},
   "outputs": [
    {
     "data": {
      "text/plain": [
       "[<matplotlib.lines.Line2D at 0x1757a9fa0>]"
      ]
     },
     "execution_count": 106,
     "metadata": {},
     "output_type": "execute_result"
    },
    {
     "data": {
      "image/png": "[encoded data removed]",
      "text/plain": [
       "<Figure size 432x288 with 1 Axes>"
      ]
     },
     "metadata": {
      "needs_background": "light"
     },
     "output_type": "display_data"
    }
   ],
   "source": [
    "fig, ax = plt.subplots()\n",
    "\n",
    "ax.plot(threshold[net>0],net[net > 0])"
   ]
  },
  {
   "cell_type": "code",
   "execution_count": 103,
   "id": "surrounded-terrorist",
   "metadata": {},
   "outputs": [
    {
     "data": {
      "text/plain": [
       "array([0.73469388, 0.75510204, 0.7755102 , 0.79591837, 0.81632653,\n",
       "       0.83673469, 0.85714286, 0.87755102, 0.89795918, 0.91836735,\n",
       "       0.93877551, 0.95918367, 0.97959184])"
      ]
     },
     "execution_count": 103,
     "metadata": {},
     "output_type": "execute_result"
    }
   ],
   "source": [
    "threshold[net > 0]"
   ]
  },
  {
   "cell_type": "markdown",
   "id": "sound-costs",
   "metadata": {},
   "source": [
    "## Calculating how much is saved"
   ]
  },
  {
   "cell_type": "code",
   "execution_count": 544,
   "id": "weighted-violence",
   "metadata": {},
   "outputs": [],
   "source": [
    "loans2012_2017 = pipeline.completed_filter(\n",
    "    pipeline.date_filter(datetime.date(2017, 1,1), datetime.date(2017, 1,1), \n",
    "    data))"
   ]
  },
  {
   "cell_type": "code",
   "execution_count": 545,
   "id": "imperial-disposal",
   "metadata": {},
   "outputs": [],
   "source": [
    "funded = loans2012_2017['funded_amnt'].sum()\n",
    "princ_rec = loans2012_2017['total_rec_prncp'].sum()\n",
    "int_rec = loans2012_2017['total_rec_int'].sum()\n",
    "recovered = loans2012_2017['recoveries'].sum()\n"
   ]
  },
  {
   "cell_type": "code",
   "execution_count": 554,
   "id": "cultural-business",
   "metadata": {},
   "outputs": [],
   "source": [
    "date_range = []\n",
    "for y in range(2012, 2018):\n",
    "    for m in range(1,13):\n",
    "        date_range.append(datetime.date(y,m,1))"
   ]
  },
  {
   "cell_type": "code",
   "execution_count": 567,
   "id": "horizontal-vehicle",
   "metadata": {},
   "outputs": [],
   "source": [
    "completed = pipeline.term_filter(36,data)"
   ]
  },
  {
   "cell_type": "code",
   "execution_count": 568,
   "id": "regulated-identity",
   "metadata": {},
   "outputs": [],
   "source": [
    "profits = []\n",
    "completed_loans = []\n",
    "for month in date_range:\n",
    "    month_data = completed[completed['date']==month]\n",
    "    funded = month_data['funded_amnt'].sum()\n",
    "    princ_rec = month_data['total_rec_prncp'].sum()\n",
    "    int_rec = month_data['total_rec_int'].sum()\n",
    "    recovered = month_data['recoveries'].sum()\n",
    "    profits.append(princ_rec+int_rec+recovered-funded)\n",
    "    completed_loans.append(month_data.shape[0])"
   ]
  },
  {
   "cell_type": "code",
   "execution_count": 569,
   "id": "uniform-peeing",
   "metadata": {},
   "outputs": [
    {
     "data": {
      "text/plain": [
       "[<matplotlib.lines.Line2D at 0x1213f5a00>]"
      ]
     },
     "execution_count": 569,
     "metadata": {},
     "output_type": "execute_result"
    },
    {
     "data": {
      "image/png": "[encoded data removed]",
      "text/plain": [
       "<Figure size 1440x360 with 1 Axes>"
      ]
     },
     "metadata": {
      "needs_background": "light"
     },
     "output_type": "display_data"
    }
   ],
   "source": [
    "fig, ax = plt.subplots(figsize=(20,5))\n",
    "\n",
    "ax.plot(date_range, profits)"
   ]
  },
  {
   "cell_type": "code",
   "execution_count": 536,
   "id": "upset-notification",
   "metadata": {
    "scrolled": true
   },
   "outputs": [
    {
     "data": {
      "text/plain": [
       "1911.0410812153877"
      ]
     },
     "execution_count": 536,
     "metadata": {},
     "output_type": "execute_result"
    }
   ],
   "source": [
    "data[data['loan_status']=='Fully Paid']['total_rec_int'].mean()"
   ]
  },
  {
   "cell_type": "code",
   "execution_count": 538,
   "id": "optional-gibraltar",
   "metadata": {},
   "outputs": [
    {
     "data": {
      "text/plain": [
       "-8538.164347304839"
      ]
     },
     "execution_count": 538,
     "metadata": {},
     "output_type": "execute_result"
    }
   ],
   "source": [
    "data[data['loan_status']=='Charged Off']['total_rec_int'].mean() + data[data['loan_status']=='Charged Off']['total_rec_prncp'].mean() + data[data['loan_status']=='Charged Off']['recoveries'].mean() - data[data['loan_status']=='Charged Off']['funded_amnt'].mean()"
   ]
  },
  {
   "cell_type": "code",
   "execution_count": 546,
   "id": "static-politics",
   "metadata": {
    "scrolled": true
   },
   "outputs": [
    {
     "data": {
      "text/plain": [
       "-351745455.95999956"
      ]
     },
     "execution_count": 546,
     "metadata": {},
     "output_type": "execute_result"
    }
   ],
   "source": [
    "princ_rec + int_rec + recovered - funded"
   ]
  },
  {
   "cell_type": "code",
   "execution_count": 492,
   "id": "developed-shareware",
   "metadata": {},
   "outputs": [
    {
     "data": {
      "text/plain": [
       "7926490.57"
      ]
     },
     "execution_count": 492,
     "metadata": {},
     "output_type": "execute_result"
    }
   ],
   "source": [
    "recovered"
   ]
  },
  {
   "cell_type": "code",
   "execution_count": 475,
   "id": "adult-carolina",
   "metadata": {},
   "outputs": [
    {
     "data": {
      "text/plain": [
       "0.06195930863514992"
      ]
     },
     "execution_count": 475,
     "metadata": {},
     "output_type": "execute_result"
    }
   ],
   "source": [
    "int_rec/funded"
   ]
  },
  {
   "cell_type": "code",
   "execution_count": 445,
   "id": "confirmed-romantic",
   "metadata": {},
   "outputs": [],
   "source": [
    "b = funded - princ_rec - int_rec - recovered"
   ]
  },
  {
   "cell_type": "code",
   "execution_count": 446,
   "id": "respiratory-benchmark",
   "metadata": {},
   "outputs": [
    {
     "data": {
      "text/plain": [
       "-157428232.6400001"
      ]
     },
     "execution_count": 446,
     "metadata": {},
     "output_type": "execute_result"
    }
   ],
   "source": [
    "a+b"
   ]
  },
  {
   "cell_type": "code",
   "execution_count": 481,
   "id": "wired-separation",
   "metadata": {},
   "outputs": [
    {
     "data": {
      "text/plain": [
       "count    130007.000000\n",
       "mean      15421.807095\n",
       "std        8617.264813\n",
       "min        1000.000000\n",
       "25%        9000.000000\n",
       "50%       14025.000000\n",
       "75%       20000.000000\n",
       "max       40000.000000\n",
       "Name: funded_amnt, dtype: float64"
      ]
     },
     "execution_count": 481,
     "metadata": {},
     "output_type": "execute_result"
    }
   ],
   "source": [
    "data[data['loan_status']=='Charged Off']['funded_amnt'].describe()"
   ]
  },
  {
   "cell_type": "code",
   "execution_count": null,
   "id": "african-allowance",
   "metadata": {},
   "outputs": [],
   "source": []
  },
  {
   "cell_type": "code",
   "execution_count": 330,
   "id": "advanced-metadata",
   "metadata": {},
   "outputs": [
    {
     "data": {
      "text/plain": [
       "(2643639, 129)"
      ]
     },
     "execution_count": 330,
     "metadata": {},
     "output_type": "execute_result"
    }
   ],
   "source": [
    "data.shape"
   ]
  },
  {
   "cell_type": "code",
   "execution_count": 451,
   "id": "guilty-chancellor",
   "metadata": {},
   "outputs": [
    {
     "data": {
      "text/plain": [
       "0.1661021801365338"
      ]
     },
     "execution_count": 451,
     "metadata": {},
     "output_type": "execute_result"
    }
   ],
   "source": [
    "loans2012_2017['loan_status'].value_counts()[1]/(loans2012_2017['loan_status'].value_counts()[0]+loans2012_2017['loan_status'].value_counts()[1])"
   ]
  },
  {
   "cell_type": "code",
   "execution_count": 551,
   "id": "indirect-chrome",
   "metadata": {},
   "outputs": [
    {
     "data": {
      "text/plain": [
       "year  loan_status       \n",
       "12    Fully Paid             37567\n",
       "      Charged Off             5903\n",
       "13    Fully Paid             88044\n",
       "      Charged Off            12378\n",
       "14    Fully Paid            108778\n",
       "      Current                31114\n",
       "      Charged Off            20709\n",
       "      Late (31-120 days)      1045\n",
       "      In Grace Period          726\n",
       "      Late (16-30 days)        194\n",
       "      Default                    4\n",
       "15    Current               156183\n",
       "      Fully Paid             92682\n",
       "      Charged Off            25800\n",
       "      Late (31-120 days)      4521\n",
       "      In Grace Period         2900\n",
       "      Late (16-30 days)        840\n",
       "      Default                    8\n",
       "16    Current               246925\n",
       "      Fully Paid             47827\n",
       "      Charged Off            10590\n",
       "      Late (31-120 days)      5905\n",
       "      In Grace Period         3654\n",
       "      Late (16-30 days)       1301\n",
       "      Default                    3\n",
       "17    Current               257362\n",
       "      Fully Paid             28769\n",
       "      Late (31-120 days)      3505\n",
       "      Charged Off             3447\n",
       "      In Grace Period         2387\n",
       "      Late (16-30 days)        987\n",
       "      Default                    5\n",
       "18    Current               283375\n",
       "      Fully Paid             15655\n",
       "      Late (31-120 days)      2151\n",
       "      In Grace Period         1617\n",
       "      Charged Off              775\n",
       "      Late (16-30 days)        719\n",
       "19    Current               282133\n",
       "      Fully Paid             12376\n",
       "      Issued                 10756\n",
       "      Late (31-120 days)      1821\n",
       "      In Grace Period         1358\n",
       "      Late (16-30 days)        677\n",
       "      Charged Off              563\n",
       "20    Current                66947\n",
       "      Fully Paid              1487\n",
       "      Issued                  1391\n",
       "      In Grace Period          311\n",
       "      Late (31-120 days)       111\n",
       "      Late (16-30 days)         82\n",
       "      Charged Off                9\n",
       "Name: loan_status, dtype: int64"
      ]
     },
     "execution_count": 551,
     "metadata": {},
     "output_type": "execute_result"
    }
   ],
   "source": [
    "data[data['term']==36].groupby('year')['loan_status'].value_counts()"
   ]
  },
  {
   "cell_type": "code",
   "execution_count": null,
   "id": "lined-description",
   "metadata": {},
   "outputs": [],
   "source": []
  }
 ],
 "metadata": {
  "kernelspec": {
   "display_name": "Python 3",
   "language": "python",
   "name": "python3"
  },
  "language_info": {
   "codemirror_mode": {
    "name": "ipython",
    "version": 3
   },
   "file_extension": ".py",
   "mimetype": "text/x-python",
   "name": "python",
   "nbconvert_exporter": "python",
   "pygments_lexer": "ipython3",
   "version": "3.8.8"
  }
 },
 "nbformat": 4,
 "nbformat_minor": 5
}
