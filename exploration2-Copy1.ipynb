{
 "cells": [
  {
   "cell_type": "code",
   "execution_count": 1,
   "id": "assigned-acceptance",
   "metadata": {},
   "outputs": [],
   "source": [
    "import numpy as np\n",
    "import pandas as pd\n",
    "import matplotlib.pyplot as plt\n",
    "import re\n",
    "import pickle\n",
    "\n",
    "from glob import iglob\n",
    "import datetime"
   ]
  },
  {
   "cell_type": "code",
   "execution_count": 2,
   "id": "alternative-outside",
   "metadata": {},
   "outputs": [],
   "source": [
    "import importlib\n",
    "import src.pipeline as pipeline"
   ]
  },
  {
   "cell_type": "code",
   "execution_count": 265,
   "id": "governing-intervention",
   "metadata": {},
   "outputs": [
    {
     "data": {
      "text/plain": [
       "<module 'src.pipeline' from '/Users/vinsonmccready/galvanize/loan-default-predictor/src/pipeline.py'>"
      ]
     },
     "execution_count": 265,
     "metadata": {},
     "output_type": "execute_result"
    }
   ],
   "source": [
    "importlib.reload(pipeline)"
   ]
  },
  {
   "cell_type": "code",
   "execution_count": 3,
   "id": "laughing-spank",
   "metadata": {},
   "outputs": [],
   "source": [
    "data = pipeline.get_all_data('data/raw/')"
   ]
  },
  {
   "cell_type": "code",
   "execution_count": 4,
   "id": "needed-smith",
   "metadata": {
    "scrolled": true
   },
   "outputs": [
    {
     "data": {
      "text/html": [
       "<div>\n",
       "<style scoped>\n",
       "    .dataframe tbody tr th:only-of-type {\n",
       "        vertical-align: middle;\n",
       "    }\n",
       "\n",
       "    .dataframe tbody tr th {\n",
       "        vertical-align: top;\n",
       "    }\n",
       "\n",
       "    .dataframe thead th {\n",
       "        text-align: right;\n",
       "    }\n",
       "</style>\n",
       "<table border=\"1\" class=\"dataframe\">\n",
       "  <thead>\n",
       "    <tr style=\"text-align: right;\">\n",
       "      <th></th>\n",
       "      <th>id</th>\n",
       "      <th>member_id</th>\n",
       "      <th>loan_amnt</th>\n",
       "      <th>funded_amnt</th>\n",
       "      <th>funded_amnt_inv</th>\n",
       "      <th>term</th>\n",
       "      <th>int_rate</th>\n",
       "      <th>installment</th>\n",
       "      <th>grade</th>\n",
       "      <th>sub_grade</th>\n",
       "      <th>...</th>\n",
       "      <th>sec_app_inq_last_6mths</th>\n",
       "      <th>sec_app_mort_acc</th>\n",
       "      <th>sec_app_open_acc</th>\n",
       "      <th>sec_app_revol_util</th>\n",
       "      <th>sec_app_num_rev_accts</th>\n",
       "      <th>sec_app_chargeoff_within_12_mths</th>\n",
       "      <th>sec_app_collections_12_mths_ex_med</th>\n",
       "      <th>sec_app_mths_since_last_major_derog</th>\n",
       "      <th>year</th>\n",
       "      <th>date</th>\n",
       "    </tr>\n",
       "  </thead>\n",
       "  <tbody>\n",
       "    <tr>\n",
       "      <th>0</th>\n",
       "      <td>145217616</td>\n",
       "      <td>NaN</td>\n",
       "      <td>10000</td>\n",
       "      <td>10000</td>\n",
       "      <td>10000.0</td>\n",
       "      <td>36 months</td>\n",
       "      <td>10.33%</td>\n",
       "      <td>324.23</td>\n",
       "      <td>B</td>\n",
       "      <td>B1</td>\n",
       "      <td>...</td>\n",
       "      <td>NaN</td>\n",
       "      <td>NaN</td>\n",
       "      <td>NaN</td>\n",
       "      <td>NaN</td>\n",
       "      <td>NaN</td>\n",
       "      <td>NaN</td>\n",
       "      <td>NaN</td>\n",
       "      <td>NaN</td>\n",
       "      <td>18</td>\n",
       "      <td>0018-12-01</td>\n",
       "    </tr>\n",
       "    <tr>\n",
       "      <th>1</th>\n",
       "      <td>145640422</td>\n",
       "      <td>NaN</td>\n",
       "      <td>2500</td>\n",
       "      <td>2500</td>\n",
       "      <td>2500.0</td>\n",
       "      <td>36 months</td>\n",
       "      <td>13.56%</td>\n",
       "      <td>84.92</td>\n",
       "      <td>C</td>\n",
       "      <td>C1</td>\n",
       "      <td>...</td>\n",
       "      <td>NaN</td>\n",
       "      <td>NaN</td>\n",
       "      <td>NaN</td>\n",
       "      <td>NaN</td>\n",
       "      <td>NaN</td>\n",
       "      <td>NaN</td>\n",
       "      <td>NaN</td>\n",
       "      <td>NaN</td>\n",
       "      <td>18</td>\n",
       "      <td>0018-12-01</td>\n",
       "    </tr>\n",
       "    <tr>\n",
       "      <th>2</th>\n",
       "      <td>145630143</td>\n",
       "      <td>NaN</td>\n",
       "      <td>12000</td>\n",
       "      <td>12000</td>\n",
       "      <td>12000.0</td>\n",
       "      <td>60 months</td>\n",
       "      <td>13.56%</td>\n",
       "      <td>276.49</td>\n",
       "      <td>C</td>\n",
       "      <td>C1</td>\n",
       "      <td>...</td>\n",
       "      <td>NaN</td>\n",
       "      <td>NaN</td>\n",
       "      <td>NaN</td>\n",
       "      <td>NaN</td>\n",
       "      <td>NaN</td>\n",
       "      <td>NaN</td>\n",
       "      <td>NaN</td>\n",
       "      <td>NaN</td>\n",
       "      <td>18</td>\n",
       "      <td>0018-12-01</td>\n",
       "    </tr>\n",
       "    <tr>\n",
       "      <th>3</th>\n",
       "      <td>145127870</td>\n",
       "      <td>NaN</td>\n",
       "      <td>15000</td>\n",
       "      <td>15000</td>\n",
       "      <td>14975.0</td>\n",
       "      <td>60 months</td>\n",
       "      <td>14.47%</td>\n",
       "      <td>352.69</td>\n",
       "      <td>C</td>\n",
       "      <td>C2</td>\n",
       "      <td>...</td>\n",
       "      <td>0.0</td>\n",
       "      <td>0.0</td>\n",
       "      <td>16.0</td>\n",
       "      <td>48.8</td>\n",
       "      <td>15.0</td>\n",
       "      <td>0.0</td>\n",
       "      <td>0.0</td>\n",
       "      <td>NaN</td>\n",
       "      <td>18</td>\n",
       "      <td>0018-12-01</td>\n",
       "    </tr>\n",
       "    <tr>\n",
       "      <th>4</th>\n",
       "      <td>145558466</td>\n",
       "      <td>NaN</td>\n",
       "      <td>16000</td>\n",
       "      <td>16000</td>\n",
       "      <td>16000.0</td>\n",
       "      <td>60 months</td>\n",
       "      <td>17.97%</td>\n",
       "      <td>406.04</td>\n",
       "      <td>D</td>\n",
       "      <td>D1</td>\n",
       "      <td>...</td>\n",
       "      <td>NaN</td>\n",
       "      <td>NaN</td>\n",
       "      <td>NaN</td>\n",
       "      <td>NaN</td>\n",
       "      <td>NaN</td>\n",
       "      <td>NaN</td>\n",
       "      <td>NaN</td>\n",
       "      <td>NaN</td>\n",
       "      <td>18</td>\n",
       "      <td>0018-12-01</td>\n",
       "    </tr>\n",
       "  </tbody>\n",
       "</table>\n",
       "<p>5 rows × 128 columns</p>\n",
       "</div>"
      ],
      "text/plain": [
       "          id  member_id  loan_amnt  funded_amnt  funded_amnt_inv        term  \\\n",
       "0  145217616        NaN      10000        10000          10000.0   36 months   \n",
       "1  145640422        NaN       2500         2500           2500.0   36 months   \n",
       "2  145630143        NaN      12000        12000          12000.0   60 months   \n",
       "3  145127870        NaN      15000        15000          14975.0   60 months   \n",
       "4  145558466        NaN      16000        16000          16000.0   60 months   \n",
       "\n",
       "  int_rate  installment grade sub_grade  ... sec_app_inq_last_6mths  \\\n",
       "0   10.33%       324.23     B        B1  ...                    NaN   \n",
       "1   13.56%        84.92     C        C1  ...                    NaN   \n",
       "2   13.56%       276.49     C        C1  ...                    NaN   \n",
       "3   14.47%       352.69     C        C2  ...                    0.0   \n",
       "4   17.97%       406.04     D        D1  ...                    NaN   \n",
       "\n",
       "  sec_app_mort_acc sec_app_open_acc  sec_app_revol_util sec_app_num_rev_accts  \\\n",
       "0              NaN              NaN                 NaN                   NaN   \n",
       "1              NaN              NaN                 NaN                   NaN   \n",
       "2              NaN              NaN                 NaN                   NaN   \n",
       "3              0.0             16.0                48.8                  15.0   \n",
       "4              NaN              NaN                 NaN                   NaN   \n",
       "\n",
       "  sec_app_chargeoff_within_12_mths sec_app_collections_12_mths_ex_med  \\\n",
       "0                              NaN                                NaN   \n",
       "1                              NaN                                NaN   \n",
       "2                              NaN                                NaN   \n",
       "3                              0.0                                0.0   \n",
       "4                              NaN                                NaN   \n",
       "\n",
       "  sec_app_mths_since_last_major_derog year        date  \n",
       "0                                 NaN   18  0018-12-01  \n",
       "1                                 NaN   18  0018-12-01  \n",
       "2                                 NaN   18  0018-12-01  \n",
       "3                                 NaN   18  0018-12-01  \n",
       "4                                 NaN   18  0018-12-01  \n",
       "\n",
       "[5 rows x 128 columns]"
      ]
     },
     "execution_count": 4,
     "metadata": {},
     "output_type": "execute_result"
    }
   ],
   "source": [
    "data.head()"
   ]
  },
  {
   "cell_type": "code",
   "execution_count": 11,
   "id": "pregnant-pendant",
   "metadata": {},
   "outputs": [],
   "source": [
    "with open('data/X_drop.pickle', 'rb') as f:\n",
    "    cols = pickle.load(f)"
   ]
  },
  {
   "cell_type": "code",
   "execution_count": 12,
   "id": "fifth-runner",
   "metadata": {},
   "outputs": [],
   "source": [
    "drop = cols"
   ]
  },
  {
   "cell_type": "markdown",
   "id": "after-barcelona",
   "metadata": {},
   "source": [
    "## Data\n",
    "The data includes loans that are not complete. I will be looking primarily at loans that are either fully paid off or charged off. "
   ]
  },
  {
   "cell_type": "code",
   "execution_count": 5,
   "id": "presidential-custody",
   "metadata": {
    "scrolled": true
   },
   "outputs": [
    {
     "data": {
      "text/plain": [
       "Current               2086919\n",
       "Fully Paid             552459\n",
       "Charged Off            131231\n",
       "Late (31-120 days)      32304\n",
       "In Grace Period         22089\n",
       "Issued                  21294\n",
       "Late (16-30 days)        8147\n",
       "Default                    29\n",
       "Name: loan_status, dtype: int64"
      ]
     },
     "execution_count": 5,
     "metadata": {},
     "output_type": "execute_result"
    }
   ],
   "source": [
    "data['loan_status'].value_counts()"
   ]
  },
  {
   "cell_type": "markdown",
   "id": "banned-laugh",
   "metadata": {},
   "source": [
    "Additional analysis may be done on joint applications, but for the purposes of this predictor I will only be using individual applicants. "
   ]
  },
  {
   "cell_type": "code",
   "execution_count": 6,
   "id": "operating-pencil",
   "metadata": {
    "scrolled": true
   },
   "outputs": [
    {
     "data": {
      "text/plain": [
       "INDIVIDUAL    1359464\n",
       "Individual    1284175\n",
       "Joint App      194206\n",
       "JOINT           13707\n",
       "DIRECT_PAY       2920\n",
       "Name: application_type, dtype: int64"
      ]
     },
     "execution_count": 6,
     "metadata": {},
     "output_type": "execute_result"
    }
   ],
   "source": [
    "data['application_type'].value_counts()"
   ]
  },
  {
   "cell_type": "code",
   "execution_count": 7,
   "id": "interpreted-blanket",
   "metadata": {},
   "outputs": [
    {
     "data": {
      "text/plain": [
       "array(['Individual', 'INDIVIDUAL'], dtype=object)"
      ]
     },
     "execution_count": 7,
     "metadata": {},
     "output_type": "execute_result"
    }
   ],
   "source": [
    "# Only use individual loan types\n",
    "data = pipeline.individual_data(data)\n",
    "data['application_type'].unique()"
   ]
  },
  {
   "cell_type": "code",
   "execution_count": 8,
   "id": "sealed-hughes",
   "metadata": {},
   "outputs": [
    {
     "data": {
      "text/plain": [
       "2643639"
      ]
     },
     "execution_count": 8,
     "metadata": {},
     "output_type": "execute_result"
    }
   ],
   "source": [
    "data.shape[0]"
   ]
  },
  {
   "cell_type": "markdown",
   "id": "working-nature",
   "metadata": {},
   "source": [
    "### Missing Data\n",
    "There is a significant amount of missing data in some columns. These however are still very useful columns and the null value generally indicates a 0 value. "
   ]
  },
  {
   "cell_type": "code",
   "execution_count": 9,
   "id": "infrared-ridge",
   "metadata": {
    "scrolled": true
   },
   "outputs": [
    {
     "data": {
      "text/plain": [
       "member_id                              1.000000\n",
       "desc                                   0.963374\n",
       "mths_since_last_delinq                 0.519161\n",
       "mths_since_last_record                 0.850447\n",
       "next_pymnt_d                           0.254702\n",
       "mths_since_last_major_derog            0.744397\n",
       "annual_inc_joint                       1.000000\n",
       "dti_joint                              1.000000\n",
       "verification_status_joint              1.000000\n",
       "open_acc_6m                            0.311407\n",
       "open_il_12m                            0.311406\n",
       "open_il_24m                            0.311406\n",
       "mths_since_rcnt_il                     0.331586\n",
       "total_bal_il                           0.311406\n",
       "il_util                                0.407763\n",
       "open_rv_12m                            0.311406\n",
       "open_rv_24m                            0.311406\n",
       "max_bal_bc                             0.311406\n",
       "all_util                               0.311497\n",
       "inq_fi                                 0.311406\n",
       "total_cu_tl                            0.311407\n",
       "inq_last_12m                           0.311407\n",
       "mths_since_recent_bc_dlq               0.771040\n",
       "mths_since_recent_revol_delinq         0.673056\n",
       "revol_bal_joint                        1.000000\n",
       "sec_app_fico_range_low                 1.000000\n",
       "sec_app_fico_range_high                1.000000\n",
       "sec_app_earliest_cr_line               1.000000\n",
       "sec_app_inq_last_6mths                 1.000000\n",
       "sec_app_mort_acc                       1.000000\n",
       "sec_app_open_acc                       1.000000\n",
       "sec_app_revol_util                     1.000000\n",
       "sec_app_num_rev_accts                  1.000000\n",
       "sec_app_chargeoff_within_12_mths       1.000000\n",
       "sec_app_collections_12_mths_ex_med     1.000000\n",
       "sec_app_mths_since_last_major_derog    1.000000\n",
       "dtype: float64"
      ]
     },
     "execution_count": 9,
     "metadata": {},
     "output_type": "execute_result"
    }
   ],
   "source": [
    "# Columns with missing data\n",
    "\n",
    "data[data.columns[data.isnull().sum()/data.shape[0] > .2]].isnull().sum()/data.shape[0]"
   ]
  },
  {
   "cell_type": "markdown",
   "id": "stylish-holly",
   "metadata": {},
   "source": [
    "There are some columns that have 100% missing data; this will be handled before creating my training variable X. "
   ]
  },
  {
   "cell_type": "code",
   "execution_count": 15,
   "id": "improving-senate",
   "metadata": {
    "scrolled": true
   },
   "outputs": [
    {
     "data": {
      "text/plain": [
       "<AxesSubplot:>"
      ]
     },
     "execution_count": 15,
     "metadata": {},
     "output_type": "execute_result"
    },
    {
     "data": {
      "image/png": "[encoded data removed]",
      "text/plain": [
       "<Figure size 432x288 with 1 Axes>"
      ]
     },
     "metadata": {
      "needs_background": "light"
     },
     "output_type": "display_data"
    }
   ],
   "source": [
    "# Taking a look at values per year\n",
    "\n",
    "data['date'].hist(bins=50)"
   ]
  },
  {
   "cell_type": "code",
   "execution_count": 16,
   "id": "favorite-recording",
   "metadata": {
    "scrolled": false
   },
   "outputs": [
    {
     "name": "stdout",
     "output_type": "stream",
     "text": [
      "12 48.52524968613562\n",
      "13 34.57020042428828\n",
      "14 34.36992899855281\n",
      "15 33.481347364616816\n",
      "16 21.1244878454973\n",
      "17 21.127428152609642\n",
      "18 21.35766216155981\n",
      "19 21.398317451564527\n",
      "20 21.34044473778718\n"
     ]
    }
   ],
   "source": [
    "# Average number of columns with missing values per row for each year\n",
    "\n",
    "for y in np.sort(data['year'].unique()):\n",
    "    print(y, data[data['year']==y].isna().sum().sum()/data[data['year']==y].shape[0])"
   ]
  },
  {
   "cell_type": "markdown",
   "id": "center-hacker",
   "metadata": {},
   "source": [
    "### Preprocessing"
   ]
  },
  {
   "cell_type": "code",
   "execution_count": 17,
   "id": "expected-tracker",
   "metadata": {},
   "outputs": [],
   "source": [
    "# Clean data (change from string to numeric)\n",
    "\n",
    "data = pipeline.clean_data(data)"
   ]
  },
  {
   "cell_type": "code",
   "execution_count": 18,
   "id": "working-bloom",
   "metadata": {},
   "outputs": [
    {
     "data": {
      "text/plain": [
       "array([12, 13, 14, 15, 16, 17, 18, 19, 20])"
      ]
     },
     "execution_count": 18,
     "metadata": {},
     "output_type": "execute_result"
    }
   ],
   "source": [
    "# Looking at years of data available\n",
    "\n",
    "np.sort(data['year'].unique())"
   ]
  },
  {
   "cell_type": "code",
   "execution_count": 19,
   "id": "severe-error",
   "metadata": {},
   "outputs": [
    {
     "data": {
      "text/plain": [
       "<matplotlib.legend.Legend at 0x11d498eb0>"
      ]
     },
     "execution_count": 19,
     "metadata": {},
     "output_type": "execute_result"
    },
    {
     "data": {
      "image/png": "[encoded data removed]",
      "text/plain": [
       "<Figure size 576x432 with 1 Axes>"
      ]
     },
     "metadata": {
      "needs_background": "light"
     },
     "output_type": "display_data"
    }
   ],
   "source": [
    "# Look at volumes of loans per year\n",
    "fig, ax = plt.subplots(figsize=(8,6))\n",
    "ax.bar(data['year'].value_counts().index,data['year'].value_counts(), label='All Loans')\n",
    "ax.bar(pipeline.completed_filter(data)['year'].value_counts().index,\n",
    "       pipeline.completed_filter(data)['year'].value_counts(), \n",
    "       label='Completed Loans')\n",
    "ax.set_xlabel('Year')\n",
    "ax.set_ylabel('Number of Loans')\n",
    "ax.set_title('Loans per Year')\n",
    "plt.legend()"
   ]
  },
  {
   "cell_type": "markdown",
   "id": "improved-wyoming",
   "metadata": {},
   "source": [
    "From 2015 on we see fewer and fewer completed loans. This is because the terms can be up to 5 years. We will only be using data from early 2015 which have terms that should be complete from when this data was downloaded. "
   ]
  },
  {
   "cell_type": "code",
   "execution_count": 20,
   "id": "generous-deviation",
   "metadata": {},
   "outputs": [
    {
     "data": {
      "text/plain": [
       "year\n",
       "12    0.160774\n",
       "13    0.148375\n",
       "14    0.147541\n",
       "15    0.104954\n",
       "16    0.037019\n",
       "17    0.012335\n",
       "18    0.002672\n",
       "19    0.001715\n",
       "20    0.000155\n",
       "Name: year, dtype: float64"
      ]
     },
     "execution_count": 20,
     "metadata": {},
     "output_type": "execute_result"
    }
   ],
   "source": [
    "# Looking at ratio of charged off loans per year. \n",
    "# Recent years are lower because they are not complete yet\n",
    "\n",
    "data[data['loan_status']=='Charged Off'].groupby('year')['year'].count()/data.groupby('year')['year'].count()"
   ]
  },
  {
   "cell_type": "code",
   "execution_count": 100,
   "id": "hindu-lithuania",
   "metadata": {},
   "outputs": [],
   "source": [
    "# with open('data/X_drop.pickle', 'wb') as f:\n",
    "#     pickle.dump(drop, f)"
   ]
  },
  {
   "cell_type": "code",
   "execution_count": 157,
   "id": "comprehensive-convertible",
   "metadata": {},
   "outputs": [
    {
     "data": {
      "text/plain": [
       "0.04917728933489028"
      ]
     },
     "execution_count": 157,
     "metadata": {},
     "output_type": "execute_result"
    }
   ],
   "source": [
    "\n",
    "\n",
    "(data['loan_status']=='Charged Off').sum()/data.shape[0]"
   ]
  },
  {
   "cell_type": "code",
   "execution_count": 188,
   "id": "growing-respect",
   "metadata": {},
   "outputs": [],
   "source": [
    "def ratio_defaulted(column, data):\n",
    "    ratios = (data[data['loan_status']=='Charged Off'][column].value_counts(dropna=False)/\n",
    "              data[column].value_counts(dropna=False)).sort_index().values\n",
    "    vals = (data[data['loan_status']=='Charged Off'][column].value_counts(dropna=False)/\n",
    "            data[column].value_counts(dropna=False)).sort_index().index.values\n",
    "    if type(vals[-1])==float:\n",
    "        vals[-1]='NA'\n",
    "    return vals, ratios"
   ]
  },
  {
   "cell_type": "code",
   "execution_count": 250,
   "id": "acting-southeast",
   "metadata": {},
   "outputs": [],
   "source": [
    "def plot_defaultrate_categorical(column, ax):\n",
    "    ax.bar(ratio_defaulted(column, data)[0],\n",
    "           ratio_defaulted(column, data)[1])"
   ]
  },
  {
   "cell_type": "code",
   "execution_count": 242,
   "id": "retired-illustration",
   "metadata": {},
   "outputs": [
    {
     "data": {
      "image/png": "[encoded data removed]",
      "text/plain": [
       "<Figure size 1440x360 with 1 Axes>"
      ]
     },
     "metadata": {
      "needs_background": "light"
     },
     "output_type": "display_data"
    }
   ],
   "source": [
    "fig, ax = plt.subplots(figsize=(20,5))\n",
    "\n",
    "plot_defaultrate_categorical('sub_grade', ax=ax)\n",
    "plt.xticks(rotation=45)\n",
    "plt.show()"
   ]
  },
  {
   "cell_type": "code",
   "execution_count": 182,
   "id": "laden-label",
   "metadata": {
    "scrolled": false
   },
   "outputs": [
    {
     "name": "stdout",
     "output_type": "stream",
     "text": [
      "'inq_last_6mths': number of missing values '1' ==> '0.000%'\n",
      "'mths_since_last_delinq': number of missing values '1341074' ==> '51.773%'\n",
      "'mths_since_last_record': number of missing values '2196381' ==> '84.793%'\n",
      "'revol_util': number of missing values '2006' ==> '0.077%'\n",
      "'mths_since_last_major_derog': number of missing values '1919932' ==> '74.121%'\n",
      "'open_acc_6m': number of missing values '769880' ==> '29.722%'\n",
      "'open_il_12m': number of missing values '769879' ==> '29.722%'\n",
      "'open_il_24m': number of missing values '769879' ==> '29.722%'\n",
      "'mths_since_rcnt_il': number of missing values '823228' ==> '31.782%'\n",
      "'total_bal_il': number of missing values '769879' ==> '29.722%'\n",
      "'il_util': number of missing values '1024610' ==> '39.556%'\n",
      "'open_rv_12m': number of missing values '769879' ==> '29.722%'\n",
      "'open_rv_24m': number of missing values '769879' ==> '29.722%'\n",
      "'max_bal_bc': number of missing values '769879' ==> '29.722%'\n",
      "'all_util': number of missing values '770119' ==> '29.731%'\n",
      "'inq_fi': number of missing values '769879' ==> '29.722%'\n",
      "'total_cu_tl': number of missing values '769880' ==> '29.722%'\n",
      "'inq_last_12m': number of missing values '769880' ==> '29.722%'\n",
      "'avg_cur_bal': number of missing values '89' ==> '0.003%'\n",
      "'bc_open_to_buy': number of missing values '26918' ==> '1.039%'\n",
      "'bc_util': number of missing values '28229' ==> '1.090%'\n",
      "'mo_sin_old_il_acct': number of missing values '77167' ==> '2.979%'\n",
      "'mths_since_recent_bc': number of missing values '25269' ==> '0.976%'\n",
      "'mths_since_recent_bc_dlq': number of missing values '1991694' ==> '76.891%'\n",
      "'mths_since_recent_inq': number of missing values '285815' ==> '11.034%'\n",
      "'mths_since_recent_revol_delinq': number of missing values '1739865' ==> '67.169%'\n",
      "'num_rev_accts': number of missing values '1' ==> '0.000%'\n",
      "'num_tl_120dpd_2m': number of missing values '91202' ==> '3.521%'\n",
      "'pct_tl_nvr_dlq': number of missing values '155' ==> '0.006%'\n",
      "'percent_bc_gt_75': number of missing values '27398' ==> '1.058%'\n"
     ]
    }
   ],
   "source": [
    "# Missing values\n",
    "pipeline.print_missing(data.drop(drop, axis=1)[data['year'] > 12])"
   ]
  },
  {
   "cell_type": "code",
   "execution_count": 254,
   "id": "anticipated-chambers",
   "metadata": {},
   "outputs": [
    {
     "data": {
      "text/plain": [
       "<AxesSubplot:>"
      ]
     },
     "execution_count": 254,
     "metadata": {},
     "output_type": "execute_result"
    },
    {
     "data": {
      "image/png": "[encoded data removed]",
      "text/plain": [
       "<Figure size 432x288 with 1 Axes>"
      ]
     },
     "metadata": {
      "needs_background": "light"
     },
     "output_type": "display_data"
    }
   ],
   "source": [
    "data['home_ownership'].hist()"
   ]
  },
  {
   "cell_type": "code",
   "execution_count": 256,
   "id": "vietnamese-spell",
   "metadata": {},
   "outputs": [
    {
     "data": {
      "text/plain": [
       "0          0018-12-01\n",
       "1          0018-12-01\n",
       "2          0018-12-01\n",
       "4          0018-12-01\n",
       "5          0018-12-01\n",
       "              ...    \n",
       "2854467    0016-10-01\n",
       "2854468    0016-10-01\n",
       "2854469    0016-10-01\n",
       "2854470    0016-10-01\n",
       "2854471    0016-10-01\n",
       "Name: date, Length: 2643639, dtype: object"
      ]
     },
     "execution_count": 256,
     "metadata": {},
     "output_type": "execute_result"
    }
   ],
   "source": [
    "data['date']"
   ]
  },
  {
   "cell_type": "code",
   "execution_count": 273,
   "id": "small-prison",
   "metadata": {
    "scrolled": true
   },
   "outputs": [],
   "source": [
    "data['earliest_cr_line'] = data['earliest_cr_line'].apply(pipeline.get_date)"
   ]
  },
  {
   "cell_type": "code",
   "execution_count": 276,
   "id": "lovely-pizza",
   "metadata": {},
   "outputs": [],
   "source": [
    "data['date'] = data['issue_d'].apply(pipeline.get_date)"
   ]
  },
  {
   "cell_type": "code",
   "execution_count": 285,
   "id": "minute-fossil",
   "metadata": {
    "scrolled": true
   },
   "outputs": [],
   "source": [
    "data['days_earlist_cr'] = (data['date']-data['earliest_cr_line']).apply(lambda x: x.days)"
   ]
  },
  {
   "cell_type": "code",
   "execution_count": 251,
   "id": "fossil-lawsuit",
   "metadata": {
    "scrolled": false
   },
   "outputs": [
    {
     "data": {
      "image/png": "[encoded data removed]",
      "text/plain": [
       "<Figure size 1440x360 with 1 Axes>"
      ]
     },
     "metadata": {
      "needs_background": "light"
     },
     "output_type": "display_data"
    }
   ],
   "source": [
    "fig, ax = plt.subplots(figsize=(20,5))\n",
    "\n",
    "plot_defaultrate_categorical('emp_length', ax=ax)\n",
    "plt.xticks(rotation=45)\n",
    "plt.show()"
   ]
  },
  {
   "cell_type": "code",
   "execution_count": 252,
   "id": "median-veteran",
   "metadata": {},
   "outputs": [
    {
     "data": {
      "text/plain": [
       "['member_id',\n",
       " 'desc',\n",
       " 'next_pymnt_d',\n",
       " 'annual_inc_joint',\n",
       " 'dti_joint',\n",
       " 'verification_status_joint',\n",
       " 'revol_bal_joint',\n",
       " 'sec_app_fico_range_low',\n",
       " 'sec_app_fico_range_high',\n",
       " 'sec_app_earliest_cr_line',\n",
       " 'sec_app_inq_last_6mths',\n",
       " 'sec_app_mort_acc',\n",
       " 'sec_app_open_acc',\n",
       " 'sec_app_revol_util',\n",
       " 'sec_app_num_rev_accts',\n",
       " 'sec_app_chargeoff_within_12_mths',\n",
       " 'sec_app_collections_12_mths_ex_med',\n",
       " 'sec_app_mths_since_last_major_derog',\n",
       " 'funded_amnt_inv',\n",
       " 'grade',\n",
       " 'emp_title',\n",
       " 'emp_length',\n",
       " 'pymnt_plan',\n",
       " 'url',\n",
       " 'title',\n",
       " 'zip_code',\n",
       " 'earliest_cr_line',\n",
       " 'fico_range_high',\n",
       " 'initial_list_status',\n",
       " 'out_prncp',\n",
       " 'out_prncp_inv',\n",
       " 'total_pymnt',\n",
       " 'total_pymnt_inv',\n",
       " 'total_rec_prncp',\n",
       " 'total_rec_int',\n",
       " 'total_rec_late_fee',\n",
       " 'recoveries',\n",
       " 'collection_recovery_fee',\n",
       " 'last_credit_pull_d',\n",
       " 'last_pymnt_d',\n",
       " 'last_pymnt_amnt',\n",
       " 'next_pymnt_d',\n",
       " 'acc_now_delinq',\n",
       " 'tot_coll_amt',\n",
       " 'tot_cur_bal',\n",
       " 'delinq_amnt',\n",
       " 'application_type',\n",
       " 'issue_d',\n",
       " 'id',\n",
       " 'loan_status',\n",
       " 'year',\n",
       " 'date',\n",
       " 'last_fico_range_high',\n",
       " 'last_fico_range_low',\n",
       " 'addr_state']"
      ]
     },
     "execution_count": 252,
     "metadata": {},
     "output_type": "execute_result"
    }
   ],
   "source": [
    "drop"
   ]
  },
  {
   "cell_type": "markdown",
   "id": "inside-publication",
   "metadata": {},
   "source": [
    "### Create X and y variables"
   ]
  },
  {
   "cell_type": "code",
   "execution_count": 186,
   "id": "ongoing-vienna",
   "metadata": {},
   "outputs": [],
   "source": [
    "import src.model as model"
   ]
  },
  {
   "cell_type": "code",
   "execution_count": 339,
   "id": "suitable-holder",
   "metadata": {},
   "outputs": [
    {
     "data": {
      "text/plain": [
       "<module 'src.pipeline' from '/Users/vinsonmccready/galvanize/loan-default-predictor/src/pipeline.py'>"
      ]
     },
     "execution_count": 339,
     "metadata": {},
     "output_type": "execute_result"
    }
   ],
   "source": [
    "importlib.reload(pipeline)"
   ]
  },
  {
   "cell_type": "code",
   "execution_count": 303,
   "id": "forward-decrease",
   "metadata": {},
   "outputs": [],
   "source": [
    "# Create training set using earlier data. Only looking at completed loans. \n",
    "# Only looking at 36 month loans. \n",
    "\n",
    "training = pipeline.completed_filter(\n",
    "    pipeline.date_filter(datetime.date(2012, 1,1), datetime.date(2016, 1,1), \n",
    "    pipeline.term_filter(36,\n",
    "    pipeline.create_dummies(data))))"
   ]
  },
  {
   "cell_type": "code",
   "execution_count": 304,
   "id": "attractive-agriculture",
   "metadata": {
    "scrolled": true
   },
   "outputs": [],
   "source": [
    "X_train = pipeline.create_X(training, drop)\n",
    "y_train = pipeline.create_y(training)"
   ]
  },
  {
   "cell_type": "code",
   "execution_count": 305,
   "id": "removed-savage",
   "metadata": {},
   "outputs": [
    {
     "data": {
      "text/plain": [
       "(391861, 125)"
      ]
     },
     "execution_count": 305,
     "metadata": {},
     "output_type": "execute_result"
    }
   ],
   "source": [
    "X_train.shape"
   ]
  },
  {
   "cell_type": "code",
   "execution_count": 306,
   "id": "editorial-bench",
   "metadata": {},
   "outputs": [],
   "source": [
    "# drop.append('addr_state')"
   ]
  },
  {
   "cell_type": "code",
   "execution_count": 307,
   "id": "collaborative-lithuania",
   "metadata": {},
   "outputs": [],
   "source": [
    "# Holdout data will be later data that has completed 36 month loans. \n",
    "\n",
    "test = pipeline.completed_filter(\n",
    "    pipeline.date_filter(datetime.date(2016, 1,1), datetime.date(2017, 4,1), \n",
    "    pipeline.term_filter(36,\n",
    "    pipeline.create_dummies(data))))"
   ]
  },
  {
   "cell_type": "code",
   "execution_count": 308,
   "id": "contemporary-character",
   "metadata": {},
   "outputs": [],
   "source": [
    "X_test = pipeline.create_X(test, drop)\n",
    "y_test = pipeline.create_y(test)"
   ]
  },
  {
   "cell_type": "code",
   "execution_count": 309,
   "id": "bigger-idaho",
   "metadata": {
    "scrolled": true
   },
   "outputs": [],
   "source": [
    "# validation[~validation['loan_status'].str.lower().isin(['fully paid', 'charged off'])]['loan_status'].unique()"
   ]
  },
  {
   "cell_type": "code",
   "execution_count": 310,
   "id": "described-sequence",
   "metadata": {},
   "outputs": [],
   "source": [
    "# X_val = pipeline.create_X(validation[~validation['loan_status'].str.lower().isin(['fully paid', 'charged off'])], drop)\n",
    "# y_val = pipeline.create_y(validation[~validation['loan_status'].str.lower().isin(['fully paid', 'charged off'])])"
   ]
  },
  {
   "cell_type": "code",
   "execution_count": 311,
   "id": "quality-speech",
   "metadata": {},
   "outputs": [],
   "source": [
    "for c in X_train.columns:\n",
    "    if c not in X_test.columns:\n",
    "        print(c)"
   ]
  },
  {
   "cell_type": "code",
   "execution_count": 312,
   "id": "serial-arrest",
   "metadata": {
    "scrolled": true
   },
   "outputs": [
    {
     "name": "stdout",
     "output_type": "stream",
     "text": [
      "(391861, 125)\n",
      "(62239, 125)\n"
     ]
    }
   ],
   "source": [
    "print(X_train.shape)\n",
    "print(X_test.shape)"
   ]
  },
  {
   "cell_type": "code",
   "execution_count": 313,
   "id": "other-active",
   "metadata": {},
   "outputs": [
    {
     "data": {
      "text/plain": [
       "0.13706011891653821"
      ]
     },
     "execution_count": 313,
     "metadata": {},
     "output_type": "execute_result"
    }
   ],
   "source": [
    "# Make sure validation set is ok ratio of data. \n",
    "X_test.shape[0]/(X_test.shape[0] + X_train.shape[0])"
   ]
  },
  {
   "cell_type": "markdown",
   "id": "major-sensitivity",
   "metadata": {},
   "source": [
    "### Models"
   ]
  },
  {
   "cell_type": "code",
   "execution_count": 37,
   "id": "spatial-complement",
   "metadata": {},
   "outputs": [],
   "source": [
    "from sklearn.model_selection import train_test_split\n",
    "from sklearn.ensemble import RandomForestClassifier\n",
    "from sklearn.ensemble import GradientBoostingClassifier\n",
    "\n",
    "from sklearn.metrics import recall_score, precision_score"
   ]
  },
  {
   "cell_type": "code",
   "execution_count": 52,
   "id": "continuous-gender",
   "metadata": {},
   "outputs": [],
   "source": [
    "# X_train, X_test, y_train, y_test = train_test_split(X,y)"
   ]
  },
  {
   "cell_type": "code",
   "execution_count": 314,
   "id": "unable-virgin",
   "metadata": {},
   "outputs": [
    {
     "name": "stdout",
     "output_type": "stream",
     "text": [
      "Recall: 0.05697095045595563\n",
      "Precision: 0.5083892617449665\n"
     ]
    }
   ],
   "source": [
    "rf_model = RandomForestClassifier(n_jobs=-1, random_state=1)\n",
    "rf_model.fit(X_train, y_train)\n",
    "recall = recall_score(y_test, rf_model.predict(X_test))\n",
    "precision = precision_score(y_test, rf_model.predict(X_test))\n",
    "print(f'Recall: {recall}\\nPrecision: {precision}')"
   ]
  },
  {
   "cell_type": "code",
   "execution_count": 319,
   "id": "charged-aberdeen",
   "metadata": {},
   "outputs": [
    {
     "name": "stdout",
     "output_type": "stream",
     "text": [
      "Recall: 0.05565478988436589\n",
      "Precision: 0.5229681978798587\n"
     ]
    }
   ],
   "source": [
    "gb_model = GradientBoostingClassifier()\n",
    "gb_model.fit(X_train, y_train)\n",
    "recall = recall_score(y_test, gb_model.predict(X_test))\n",
    "precision = precision_score(y_test, gb_model.predict(X_test))\n",
    "print(f'Recall: {recall}\\nPrecision: {precision}')"
   ]
  },
  {
   "cell_type": "code",
   "execution_count": 50,
   "id": "discrete-settlement",
   "metadata": {},
   "outputs": [],
   "source": [
    "from sklearn.metrics import roc_auc_score"
   ]
  },
  {
   "cell_type": "code",
   "execution_count": 230,
   "id": "purple-ballot",
   "metadata": {},
   "outputs": [
    {
     "data": {
      "text/plain": [
       "0.5229111017510572"
      ]
     },
     "execution_count": 230,
     "metadata": {},
     "output_type": "execute_result"
    }
   ],
   "source": [
    "roc_auc_score(y_test, rf_model.predict(X_test))"
   ]
  },
  {
   "cell_type": "code",
   "execution_count": 52,
   "id": "statutory-southeast",
   "metadata": {},
   "outputs": [],
   "source": [
    "def calculate_threshold_values(prob, y):\n",
    "    '''\n",
    "    Build dataframe of the various confusion-matrix ratios by threshold\n",
    "    from a list of predicted probabilities and actual y values\n",
    "    '''\n",
    "    df = pd.DataFrame({'prob': prob, 'y': y})\n",
    "    df.sort_values('prob', inplace=True)\n",
    "    \n",
    "    actual_p = df.y.sum()\n",
    "    actual_n = df.shape[0] - df.y.sum()\n",
    "\n",
    "    df['tn'] = (df.y == 0).cumsum()\n",
    "    df['fn'] = df.y.cumsum()\n",
    "    df['fp'] = actual_n - df.tn\n",
    "    df['tp'] = actual_p - df.fn\n",
    "\n",
    "    df['fpr'] = df.fp/(df.fp + df.tn)\n",
    "    df['tpr'] = df.tp/(df.tp + df.fn)\n",
    "    df['precision'] = df.tp/(df.tp + df.fp)\n",
    "    df = df.reset_index(drop=True)\n",
    "    return df\n",
    "    \n",
    "def plot_roc(ax, df):\n",
    "    ax.plot([1]+list(df.fpr), [1]+list(df.tpr), label=\"ROC\")\n",
    "    ax.plot([0,1],[0,1], 'k', label=\"random\")\n",
    "    ax.set_xlabel('fpr')\n",
    "    ax.set_ylabel('tpr')\n",
    "    ax.set_title('ROC Curve')\n",
    "    ax.legend()\n",
    "    \n",
    "def plot_precision_recall(ax, df):\n",
    "    ax.plot(df.tpr,df.precision, label='precision/recall')\n",
    "    #ax.plot([0,1],[0,1], 'k')\n",
    "    ax.set_xlabel('recall')\n",
    "    ax.set_ylabel('precision')\n",
    "    ax.set_title('Precision/Recall Curve')\n",
    "    ax.plot([0,1],[df.precision[0],df.precision[0]], 'k', label='random')\n",
    "    ax.set_xlim(left=0,right=1)\n",
    "    ax.set_ylim(bottom=0,top=1)"
   ]
  },
  {
   "cell_type": "code",
   "execution_count": 231,
   "id": "ceramic-cache",
   "metadata": {},
   "outputs": [
    {
     "data": {
      "image/png": "[encoded data removed]",
      "text/plain": [
       "<Figure size 864x432 with 2 Axes>"
      ]
     },
     "metadata": {
      "needs_background": "light"
     },
     "output_type": "display_data"
    }
   ],
   "source": [
    "fig, (ax0, ax1) = plt.subplots(1,2, figsize=(12,6))\n",
    "df = calculate_threshold_values(rf_model.predict_proba(X_test)[:,1], y_test)\n",
    "plot_roc(ax0, df)\n",
    "plot_precision_recall(ax1, df)"
   ]
  },
  {
   "cell_type": "code",
   "execution_count": 232,
   "id": "joint-expansion",
   "metadata": {},
   "outputs": [],
   "source": [
    "probabilities = rf_model.predict_proba(X_test)"
   ]
  },
  {
   "cell_type": "code",
   "execution_count": 233,
   "id": "bacterial-humanity",
   "metadata": {
    "scrolled": true
   },
   "outputs": [
    {
     "data": {
      "image/png": "[encoded data removed]",
      "text/plain": [
       "<Figure size 432x288 with 1 Axes>"
      ]
     },
     "metadata": {
      "needs_background": "light"
     },
     "output_type": "display_data"
    }
   ],
   "source": [
    "fig, ax = plt.subplots()\n",
    "ax.hist(probabilities[:,1], bins=50);"
   ]
  },
  {
   "cell_type": "code",
   "execution_count": 234,
   "id": "likely-qualification",
   "metadata": {},
   "outputs": [
    {
     "data": {
      "text/plain": [
       "61951"
      ]
     },
     "execution_count": 234,
     "metadata": {},
     "output_type": "execute_result"
    }
   ],
   "source": [
    "(probabilities > .5).sum()"
   ]
  },
  {
   "cell_type": "code",
   "execution_count": 235,
   "id": "treated-raleigh",
   "metadata": {},
   "outputs": [
    {
     "data": {
      "text/plain": [
       "10637"
      ]
     },
     "execution_count": 235,
     "metadata": {},
     "output_type": "execute_result"
    }
   ],
   "source": [
    "y_test.sum()"
   ]
  },
  {
   "cell_type": "code",
   "execution_count": 236,
   "id": "distinct-creator",
   "metadata": {},
   "outputs": [
    {
     "name": "stderr",
     "output_type": "stream",
     "text": [
      "<ipython-input-236-6ed33272057a>:13: RuntimeWarning: invalid value encountered in long_scalars\n",
      "  p = c[1][1]/(c[1][1]+c[1][0])\n"
     ]
    }
   ],
   "source": [
    "threshold = np.linspace(0,1,50)\n",
    "yhat = rf_model.predict_proba(X_test)[:,1]\n",
    "\n",
    "recall = []\n",
    "precision = []\n",
    "for t in threshold:\n",
    "    c = pd.crosstab(pd.Categorical(y_test, categories=[0,1]), \n",
    "                    pd.Categorical(yhat>t, categories=[0,1]), \n",
    "                    rownames=['actual'], \n",
    "                    colnames=['predicted'],\n",
    "                    dropna=False)\n",
    "    r = c[1][1]/(c[1][1]+c[0][1])\n",
    "    p = c[1][1]/(c[1][1]+c[1][0])\n",
    "    recall.append(r)\n",
    "    precision.append(p)"
   ]
  },
  {
   "cell_type": "code",
   "execution_count": 237,
   "id": "small-lighter",
   "metadata": {},
   "outputs": [
    {
     "data": {
      "image/png": "[encoded data removed]",
      "text/plain": [
       "<Figure size 720x576 with 1 Axes>"
      ]
     },
     "metadata": {
      "needs_background": "light"
     },
     "output_type": "display_data"
    }
   ],
   "source": [
    "fig, ax = plt.subplots(figsize=(10,8))\n",
    "\n",
    "ax.plot(threshold, recall, label='recall')\n",
    "ax.plot(threshold, precision, label='precision')\n",
    "# ax.vlines([.08, .85], 0,1, linestyles='--', colors='green')\n",
    "ax.legend()\n",
    "ax.set_xlabel('Threshold')\n",
    "ax.set_ylabel('Score')\n",
    "ax.set_title('Change in Precision and Recall for Thresholds')\n",
    "plt.show()"
   ]
  },
  {
   "cell_type": "code",
   "execution_count": 60,
   "id": "diagnostic-lyric",
   "metadata": {},
   "outputs": [],
   "source": [
    "y_prob = rf_model.predict_proba(X_test)[:,1]"
   ]
  },
  {
   "cell_type": "code",
   "execution_count": 61,
   "id": "employed-profit",
   "metadata": {},
   "outputs": [],
   "source": [
    "# make predictions based on probabilities and threshold\n",
    "def predict(model, X, threshold=0.5):\n",
    "    '''Return prediction of the fitted binary-classifier model model on X using\n",
    "    the specifed `threshold`. NB: class 1 is the positive class'''\n",
    "    return np.where(model.predict_proba(X)[:,1] > threshold, 1, 0)\n",
    "\n",
    "# create confusion matrix with a given model and Xtest\n",
    "def confusion_matrix(model, X, y,  threshold=0.5):\n",
    "    cf = pd.crosstab(y, predict(model, X, threshold), dropna=False)\n",
    "    cf = cf.add(pd.DataFrame([[0,0],[0,0]], columns=[0, 1], index=[0, 1]), fill_value=0)\n",
    "    cf.index.name = 'actual'\n",
    "    cf.columns.name = 'predicted'\n",
    "    return cf\n",
    "\n",
    "# calculate the payout for a given probability threshold\n",
    "def calculate_payout(cb_matrix, model, X, y, threshold):\n",
    "    return (confusion_matrix(model, X, y, threshold) * cb_matrix).values.sum()"
   ]
  },
  {
   "cell_type": "code",
   "execution_count": 62,
   "id": "sudden-reader",
   "metadata": {},
   "outputs": [
    {
     "data": {
      "text/plain": [
       "array([0, 1])"
      ]
     },
     "execution_count": 62,
     "metadata": {},
     "output_type": "execute_result"
    }
   ],
   "source": [
    "rf_model.classes_"
   ]
  },
  {
   "cell_type": "code",
   "execution_count": 63,
   "id": "african-clause",
   "metadata": {
    "scrolled": true
   },
   "outputs": [],
   "source": [
    "cf = confusion_matrix(rf_model, X_test, y_test)"
   ]
  },
  {
   "cell_type": "code",
   "execution_count": 64,
   "id": "durable-bachelor",
   "metadata": {},
   "outputs": [
    {
     "data": {
      "text/html": [
       "<div>\n",
       "<style scoped>\n",
       "    .dataframe tbody tr th:only-of-type {\n",
       "        vertical-align: middle;\n",
       "    }\n",
       "\n",
       "    .dataframe tbody tr th {\n",
       "        vertical-align: top;\n",
       "    }\n",
       "\n",
       "    .dataframe thead th {\n",
       "        text-align: right;\n",
       "    }\n",
       "</style>\n",
       "<table border=\"1\" class=\"dataframe\">\n",
       "  <thead>\n",
       "    <tr style=\"text-align: right;\">\n",
       "      <th>predicted</th>\n",
       "      <th>0</th>\n",
       "      <th>1</th>\n",
       "    </tr>\n",
       "    <tr>\n",
       "      <th>actual</th>\n",
       "      <th></th>\n",
       "      <th></th>\n",
       "    </tr>\n",
       "  </thead>\n",
       "  <tbody>\n",
       "    <tr>\n",
       "      <th>0</th>\n",
       "      <td>51015</td>\n",
       "      <td>587</td>\n",
       "    </tr>\n",
       "    <tr>\n",
       "      <th>1</th>\n",
       "      <td>10041</td>\n",
       "      <td>596</td>\n",
       "    </tr>\n",
       "  </tbody>\n",
       "</table>\n",
       "</div>"
      ],
      "text/plain": [
       "predicted      0    1\n",
       "actual               \n",
       "0          51015  587\n",
       "1          10041  596"
      ]
     },
     "execution_count": 64,
     "metadata": {},
     "output_type": "execute_result"
    }
   ],
   "source": [
    "cf"
   ]
  },
  {
   "cell_type": "code",
   "execution_count": 65,
   "id": "apart-finnish",
   "metadata": {},
   "outputs": [],
   "source": [
    "cb_matrix = pd.DataFrame([[0, -20], [0, 10]], columns=[0, 1], index=[0,1])\n",
    "cb_matrix.index.name = 'actual'\n",
    "cb_matrix.columns.name = 'predicted'"
   ]
  },
  {
   "cell_type": "code",
   "execution_count": 66,
   "id": "detailed-retention",
   "metadata": {},
   "outputs": [
    {
     "data": {
      "text/html": [
       "<div>\n",
       "<style scoped>\n",
       "    .dataframe tbody tr th:only-of-type {\n",
       "        vertical-align: middle;\n",
       "    }\n",
       "\n",
       "    .dataframe tbody tr th {\n",
       "        vertical-align: top;\n",
       "    }\n",
       "\n",
       "    .dataframe thead th {\n",
       "        text-align: right;\n",
       "    }\n",
       "</style>\n",
       "<table border=\"1\" class=\"dataframe\">\n",
       "  <thead>\n",
       "    <tr style=\"text-align: right;\">\n",
       "      <th>predicted</th>\n",
       "      <th>0</th>\n",
       "      <th>1</th>\n",
       "    </tr>\n",
       "    <tr>\n",
       "      <th>actual</th>\n",
       "      <th></th>\n",
       "      <th></th>\n",
       "    </tr>\n",
       "  </thead>\n",
       "  <tbody>\n",
       "    <tr>\n",
       "      <th>0</th>\n",
       "      <td>0</td>\n",
       "      <td>-20</td>\n",
       "    </tr>\n",
       "    <tr>\n",
       "      <th>1</th>\n",
       "      <td>0</td>\n",
       "      <td>10</td>\n",
       "    </tr>\n",
       "  </tbody>\n",
       "</table>\n",
       "</div>"
      ],
      "text/plain": [
       "predicted  0   1\n",
       "actual          \n",
       "0          0 -20\n",
       "1          0  10"
      ]
     },
     "execution_count": 66,
     "metadata": {},
     "output_type": "execute_result"
    }
   ],
   "source": [
    "cb_matrix"
   ]
  },
  {
   "cell_type": "code",
   "execution_count": 67,
   "id": "accurate-discipline",
   "metadata": {},
   "outputs": [
    {
     "data": {
      "text/plain": [
       "-5780"
      ]
     },
     "execution_count": 67,
     "metadata": {},
     "output_type": "execute_result"
    }
   ],
   "source": [
    "calculate_payout(cb_matrix, rf_model, X_test, y_test, .5)"
   ]
  },
  {
   "cell_type": "code",
   "execution_count": 68,
   "id": "duplicate-phrase",
   "metadata": {},
   "outputs": [
    {
     "data": {
      "text/plain": [
       "201360"
      ]
     },
     "execution_count": 68,
     "metadata": {},
     "output_type": "execute_result"
    }
   ],
   "source": [
    "-10*6414 + 26550 * 10"
   ]
  },
  {
   "cell_type": "code",
   "execution_count": 69,
   "id": "mighty-headset",
   "metadata": {},
   "outputs": [],
   "source": [
    "# Cost benefit\n",
    "def get_profits(model, X, y):\n",
    "    cb_matrix = pd.DataFrame([[0, -20], [0, 10]], columns=[0, 1], index=[0,1])\n",
    "    cb_matrix.index.name = 'actual'\n",
    "    cb_matrix.columns.name = 'predicted'\n",
    "    # calculate the payout with a the cost benefit matrix, \n",
    "    # given threshhold, model, and X\n",
    "    thresholds = np.arange(0.0, 1.0, 0.05)\n",
    "    profits = []\n",
    "    for threshold in thresholds:\n",
    "        profits.append(calculate_payout(cb_matrix, model, X, y, threshold))\n",
    "    return profits\n",
    "    \n",
    "    \n",
    "def profit_curve(profits, ax):\n",
    "    thresholds = np.arange(0.0, 1.0, 0.05)\n",
    "    ax.plot(thresholds, profits)\n",
    "    ax.set_xlabel('Thresholds')\n",
    "    ax.set_ylabel('Profits')\n",
    "    ax.set_title('Profit Curve')\n",
    "    print(profits)"
   ]
  },
  {
   "cell_type": "code",
   "execution_count": 70,
   "id": "statutory-wrong",
   "metadata": {},
   "outputs": [],
   "source": [
    "profits = get_profits(rf_model, X_test, y_test)"
   ]
  },
  {
   "cell_type": "code",
   "execution_count": 71,
   "id": "palestinian-vertex",
   "metadata": {
    "scrolled": false
   },
   "outputs": [
    {
     "data": {
      "text/plain": [
       "Text(0.5, 1.0, 'Profit Curve')"
      ]
     },
     "execution_count": 71,
     "metadata": {},
     "output_type": "execute_result"
    },
    {
     "data": {
      "image/png": "[encoded data removed]",
      "text/plain": [
       "<Figure size 864x576 with 1 Axes>"
      ]
     },
     "metadata": {
      "needs_background": "light"
     },
     "output_type": "display_data"
    }
   ],
   "source": [
    "fig, ax = plt.subplots(figsize=(12, 8))\n",
    "thresholds = np.arange(0.0, 1.0, 0.05)\n",
    "ax.plot(thresholds, profits)\n",
    "ax.set_xlabel('Thresholds')\n",
    "ax.set_ylabel('Profits')\n",
    "ax.set_title('Profit Curve')\n",
    "# ax.set_ylim(-250000, 200000)"
   ]
  },
  {
   "cell_type": "code",
   "execution_count": 72,
   "id": "floral-courtesy",
   "metadata": {},
   "outputs": [],
   "source": [
    "def get_yhat(probs, threshold):\n",
    "    return probs > threshold"
   ]
  },
  {
   "cell_type": "code",
   "execution_count": 73,
   "id": "split-humanity",
   "metadata": {},
   "outputs": [],
   "source": [
    "def get_cf_arrays(y_true, y_hat):\n",
    "    true_positive = (y_true == 1) & (y_hat==1)\n",
    "    true_negative = (y_true == 0) & (y_hat==0)\n",
    "    false_positive = (y_true == 0) & (y_hat==1)\n",
    "    false_negative = (y_true == 1) & (y_hat==0)\n",
    "    return true_positive, true_negative, false_positive, false_negative"
   ]
  },
  {
   "cell_type": "code",
   "execution_count": 74,
   "id": "impressive-citizenship",
   "metadata": {},
   "outputs": [],
   "source": [
    "tp, tn, fp, fn = get_cf_arrays(y_test, get_yhat(probabilities[:,1], .65))"
   ]
  },
  {
   "cell_type": "code",
   "execution_count": 75,
   "id": "above-charm",
   "metadata": {},
   "outputs": [
    {
     "data": {
      "text/plain": [
       "62239"
      ]
     },
     "execution_count": 75,
     "metadata": {},
     "output_type": "execute_result"
    }
   ],
   "source": [
    "tp.sum() + tn.sum() + fp.sum() + fn.sum()"
   ]
  },
  {
   "cell_type": "code",
   "execution_count": 76,
   "id": "wooden-transformation",
   "metadata": {},
   "outputs": [
    {
     "data": {
      "text/plain": [
       "62239"
      ]
     },
     "execution_count": 76,
     "metadata": {},
     "output_type": "execute_result"
    }
   ],
   "source": [
    "y_test.shape[0]"
   ]
  },
  {
   "cell_type": "code",
   "execution_count": 77,
   "id": "attended-driver",
   "metadata": {
    "scrolled": true
   },
   "outputs": [
    {
     "data": {
      "text/html": [
       "<div>\n",
       "<style scoped>\n",
       "    .dataframe tbody tr th:only-of-type {\n",
       "        vertical-align: middle;\n",
       "    }\n",
       "\n",
       "    .dataframe tbody tr th {\n",
       "        vertical-align: top;\n",
       "    }\n",
       "\n",
       "    .dataframe thead th {\n",
       "        text-align: right;\n",
       "    }\n",
       "</style>\n",
       "<table border=\"1\" class=\"dataframe\">\n",
       "  <thead>\n",
       "    <tr style=\"text-align: right;\">\n",
       "      <th></th>\n",
       "      <th>id</th>\n",
       "      <th>member_id</th>\n",
       "      <th>loan_amnt</th>\n",
       "      <th>funded_amnt</th>\n",
       "      <th>funded_amnt_inv</th>\n",
       "      <th>term</th>\n",
       "      <th>int_rate</th>\n",
       "      <th>installment</th>\n",
       "      <th>grade</th>\n",
       "      <th>sub_grade</th>\n",
       "      <th>...</th>\n",
       "      <th>sec_app_inq_last_6mths</th>\n",
       "      <th>sec_app_mort_acc</th>\n",
       "      <th>sec_app_open_acc</th>\n",
       "      <th>sec_app_revol_util</th>\n",
       "      <th>sec_app_num_rev_accts</th>\n",
       "      <th>sec_app_chargeoff_within_12_mths</th>\n",
       "      <th>sec_app_collections_12_mths_ex_med</th>\n",
       "      <th>sec_app_mths_since_last_major_derog</th>\n",
       "      <th>year</th>\n",
       "      <th>date</th>\n",
       "    </tr>\n",
       "  </thead>\n",
       "  <tbody>\n",
       "    <tr>\n",
       "      <th>2420469</th>\n",
       "      <td>84060200</td>\n",
       "      <td>NaN</td>\n",
       "      <td>7200</td>\n",
       "      <td>7200</td>\n",
       "      <td>7200.0</td>\n",
       "      <td>36</td>\n",
       "      <td>25.69</td>\n",
       "      <td>288.91</td>\n",
       "      <td>F</td>\n",
       "      <td>F1</td>\n",
       "      <td>...</td>\n",
       "      <td>NaN</td>\n",
       "      <td>NaN</td>\n",
       "      <td>NaN</td>\n",
       "      <td>NaN</td>\n",
       "      <td>NaN</td>\n",
       "      <td>NaN</td>\n",
       "      <td>NaN</td>\n",
       "      <td>NaN</td>\n",
       "      <td>16</td>\n",
       "      <td>0016-06-01</td>\n",
       "    </tr>\n",
       "    <tr>\n",
       "      <th>2456240</th>\n",
       "      <td>78982417</td>\n",
       "      <td>NaN</td>\n",
       "      <td>15200</td>\n",
       "      <td>15200</td>\n",
       "      <td>15200.0</td>\n",
       "      <td>36</td>\n",
       "      <td>23.99</td>\n",
       "      <td>596.26</td>\n",
       "      <td>E</td>\n",
       "      <td>E4</td>\n",
       "      <td>...</td>\n",
       "      <td>NaN</td>\n",
       "      <td>NaN</td>\n",
       "      <td>NaN</td>\n",
       "      <td>NaN</td>\n",
       "      <td>NaN</td>\n",
       "      <td>NaN</td>\n",
       "      <td>NaN</td>\n",
       "      <td>NaN</td>\n",
       "      <td>16</td>\n",
       "      <td>0016-05-01</td>\n",
       "    </tr>\n",
       "    <tr>\n",
       "      <th>2470362</th>\n",
       "      <td>77376812</td>\n",
       "      <td>NaN</td>\n",
       "      <td>33575</td>\n",
       "      <td>33575</td>\n",
       "      <td>33325.0</td>\n",
       "      <td>36</td>\n",
       "      <td>25.88</td>\n",
       "      <td>1350.62</td>\n",
       "      <td>F</td>\n",
       "      <td>F4</td>\n",
       "      <td>...</td>\n",
       "      <td>NaN</td>\n",
       "      <td>NaN</td>\n",
       "      <td>NaN</td>\n",
       "      <td>NaN</td>\n",
       "      <td>NaN</td>\n",
       "      <td>NaN</td>\n",
       "      <td>NaN</td>\n",
       "      <td>NaN</td>\n",
       "      <td>16</td>\n",
       "      <td>0016-05-01</td>\n",
       "    </tr>\n",
       "    <tr>\n",
       "      <th>2492357</th>\n",
       "      <td>75131935</td>\n",
       "      <td>NaN</td>\n",
       "      <td>6600</td>\n",
       "      <td>6600</td>\n",
       "      <td>6600.0</td>\n",
       "      <td>36</td>\n",
       "      <td>13.67</td>\n",
       "      <td>224.52</td>\n",
       "      <td>C</td>\n",
       "      <td>C3</td>\n",
       "      <td>...</td>\n",
       "      <td>NaN</td>\n",
       "      <td>NaN</td>\n",
       "      <td>NaN</td>\n",
       "      <td>NaN</td>\n",
       "      <td>NaN</td>\n",
       "      <td>NaN</td>\n",
       "      <td>NaN</td>\n",
       "      <td>NaN</td>\n",
       "      <td>16</td>\n",
       "      <td>0016-04-01</td>\n",
       "    </tr>\n",
       "    <tr>\n",
       "      <th>2499638</th>\n",
       "      <td>77210339</td>\n",
       "      <td>NaN</td>\n",
       "      <td>5775</td>\n",
       "      <td>5775</td>\n",
       "      <td>5775.0</td>\n",
       "      <td>36</td>\n",
       "      <td>22.45</td>\n",
       "      <td>221.90</td>\n",
       "      <td>E</td>\n",
       "      <td>E5</td>\n",
       "      <td>...</td>\n",
       "      <td>NaN</td>\n",
       "      <td>NaN</td>\n",
       "      <td>NaN</td>\n",
       "      <td>NaN</td>\n",
       "      <td>NaN</td>\n",
       "      <td>NaN</td>\n",
       "      <td>NaN</td>\n",
       "      <td>NaN</td>\n",
       "      <td>16</td>\n",
       "      <td>0016-04-01</td>\n",
       "    </tr>\n",
       "    <tr>\n",
       "      <th>2509007</th>\n",
       "      <td>75350223</td>\n",
       "      <td>NaN</td>\n",
       "      <td>6000</td>\n",
       "      <td>6000</td>\n",
       "      <td>5950.0</td>\n",
       "      <td>36</td>\n",
       "      <td>28.34</td>\n",
       "      <td>249.29</td>\n",
       "      <td>G</td>\n",
       "      <td>G3</td>\n",
       "      <td>...</td>\n",
       "      <td>NaN</td>\n",
       "      <td>NaN</td>\n",
       "      <td>NaN</td>\n",
       "      <td>NaN</td>\n",
       "      <td>NaN</td>\n",
       "      <td>NaN</td>\n",
       "      <td>NaN</td>\n",
       "      <td>NaN</td>\n",
       "      <td>16</td>\n",
       "      <td>0016-04-01</td>\n",
       "    </tr>\n",
       "    <tr>\n",
       "      <th>2540854</th>\n",
       "      <td>88222196</td>\n",
       "      <td>NaN</td>\n",
       "      <td>2075</td>\n",
       "      <td>2075</td>\n",
       "      <td>2075.0</td>\n",
       "      <td>36</td>\n",
       "      <td>27.79</td>\n",
       "      <td>85.60</td>\n",
       "      <td>F</td>\n",
       "      <td>F5</td>\n",
       "      <td>...</td>\n",
       "      <td>NaN</td>\n",
       "      <td>NaN</td>\n",
       "      <td>NaN</td>\n",
       "      <td>NaN</td>\n",
       "      <td>NaN</td>\n",
       "      <td>NaN</td>\n",
       "      <td>NaN</td>\n",
       "      <td>NaN</td>\n",
       "      <td>16</td>\n",
       "      <td>0016-09-01</td>\n",
       "    </tr>\n",
       "    <tr>\n",
       "      <th>2553850</th>\n",
       "      <td>88077424</td>\n",
       "      <td>NaN</td>\n",
       "      <td>9000</td>\n",
       "      <td>9000</td>\n",
       "      <td>9000.0</td>\n",
       "      <td>36</td>\n",
       "      <td>26.49</td>\n",
       "      <td>364.97</td>\n",
       "      <td>F</td>\n",
       "      <td>F2</td>\n",
       "      <td>...</td>\n",
       "      <td>NaN</td>\n",
       "      <td>NaN</td>\n",
       "      <td>NaN</td>\n",
       "      <td>NaN</td>\n",
       "      <td>NaN</td>\n",
       "      <td>NaN</td>\n",
       "      <td>NaN</td>\n",
       "      <td>NaN</td>\n",
       "      <td>16</td>\n",
       "      <td>0016-08-01</td>\n",
       "    </tr>\n",
       "    <tr>\n",
       "      <th>2557556</th>\n",
       "      <td>88022186</td>\n",
       "      <td>NaN</td>\n",
       "      <td>10000</td>\n",
       "      <td>10000</td>\n",
       "      <td>10000.0</td>\n",
       "      <td>36</td>\n",
       "      <td>27.79</td>\n",
       "      <td>412.51</td>\n",
       "      <td>F</td>\n",
       "      <td>F5</td>\n",
       "      <td>...</td>\n",
       "      <td>NaN</td>\n",
       "      <td>NaN</td>\n",
       "      <td>NaN</td>\n",
       "      <td>NaN</td>\n",
       "      <td>NaN</td>\n",
       "      <td>NaN</td>\n",
       "      <td>NaN</td>\n",
       "      <td>NaN</td>\n",
       "      <td>16</td>\n",
       "      <td>0016-08-01</td>\n",
       "    </tr>\n",
       "    <tr>\n",
       "      <th>2620874</th>\n",
       "      <td>74904477</td>\n",
       "      <td>NaN</td>\n",
       "      <td>28000</td>\n",
       "      <td>28000</td>\n",
       "      <td>28000.0</td>\n",
       "      <td>36</td>\n",
       "      <td>26.57</td>\n",
       "      <td>1136.66</td>\n",
       "      <td>F</td>\n",
       "      <td>F5</td>\n",
       "      <td>...</td>\n",
       "      <td>NaN</td>\n",
       "      <td>NaN</td>\n",
       "      <td>NaN</td>\n",
       "      <td>NaN</td>\n",
       "      <td>NaN</td>\n",
       "      <td>NaN</td>\n",
       "      <td>NaN</td>\n",
       "      <td>NaN</td>\n",
       "      <td>16</td>\n",
       "      <td>0016-03-01</td>\n",
       "    </tr>\n",
       "  </tbody>\n",
       "</table>\n",
       "<p>10 rows × 128 columns</p>\n",
       "</div>"
      ],
      "text/plain": [
       "               id  member_id  loan_amnt  funded_amnt  funded_amnt_inv  term  \\\n",
       "2420469  84060200        NaN       7200         7200           7200.0    36   \n",
       "2456240  78982417        NaN      15200        15200          15200.0    36   \n",
       "2470362  77376812        NaN      33575        33575          33325.0    36   \n",
       "2492357  75131935        NaN       6600         6600           6600.0    36   \n",
       "2499638  77210339        NaN       5775         5775           5775.0    36   \n",
       "2509007  75350223        NaN       6000         6000           5950.0    36   \n",
       "2540854  88222196        NaN       2075         2075           2075.0    36   \n",
       "2553850  88077424        NaN       9000         9000           9000.0    36   \n",
       "2557556  88022186        NaN      10000        10000          10000.0    36   \n",
       "2620874  74904477        NaN      28000        28000          28000.0    36   \n",
       "\n",
       "         int_rate  installment grade sub_grade  ... sec_app_inq_last_6mths  \\\n",
       "2420469     25.69       288.91     F        F1  ...                    NaN   \n",
       "2456240     23.99       596.26     E        E4  ...                    NaN   \n",
       "2470362     25.88      1350.62     F        F4  ...                    NaN   \n",
       "2492357     13.67       224.52     C        C3  ...                    NaN   \n",
       "2499638     22.45       221.90     E        E5  ...                    NaN   \n",
       "2509007     28.34       249.29     G        G3  ...                    NaN   \n",
       "2540854     27.79        85.60     F        F5  ...                    NaN   \n",
       "2553850     26.49       364.97     F        F2  ...                    NaN   \n",
       "2557556     27.79       412.51     F        F5  ...                    NaN   \n",
       "2620874     26.57      1136.66     F        F5  ...                    NaN   \n",
       "\n",
       "        sec_app_mort_acc sec_app_open_acc  sec_app_revol_util  \\\n",
       "2420469              NaN              NaN                 NaN   \n",
       "2456240              NaN              NaN                 NaN   \n",
       "2470362              NaN              NaN                 NaN   \n",
       "2492357              NaN              NaN                 NaN   \n",
       "2499638              NaN              NaN                 NaN   \n",
       "2509007              NaN              NaN                 NaN   \n",
       "2540854              NaN              NaN                 NaN   \n",
       "2553850              NaN              NaN                 NaN   \n",
       "2557556              NaN              NaN                 NaN   \n",
       "2620874              NaN              NaN                 NaN   \n",
       "\n",
       "        sec_app_num_rev_accts sec_app_chargeoff_within_12_mths  \\\n",
       "2420469                   NaN                              NaN   \n",
       "2456240                   NaN                              NaN   \n",
       "2470362                   NaN                              NaN   \n",
       "2492357                   NaN                              NaN   \n",
       "2499638                   NaN                              NaN   \n",
       "2509007                   NaN                              NaN   \n",
       "2540854                   NaN                              NaN   \n",
       "2553850                   NaN                              NaN   \n",
       "2557556                   NaN                              NaN   \n",
       "2620874                   NaN                              NaN   \n",
       "\n",
       "        sec_app_collections_12_mths_ex_med  \\\n",
       "2420469                                NaN   \n",
       "2456240                                NaN   \n",
       "2470362                                NaN   \n",
       "2492357                                NaN   \n",
       "2499638                                NaN   \n",
       "2509007                                NaN   \n",
       "2540854                                NaN   \n",
       "2553850                                NaN   \n",
       "2557556                                NaN   \n",
       "2620874                                NaN   \n",
       "\n",
       "        sec_app_mths_since_last_major_derog year        date  \n",
       "2420469                                 NaN   16  0016-06-01  \n",
       "2456240                                 NaN   16  0016-05-01  \n",
       "2470362                                 NaN   16  0016-05-01  \n",
       "2492357                                 NaN   16  0016-04-01  \n",
       "2499638                                 NaN   16  0016-04-01  \n",
       "2509007                                 NaN   16  0016-04-01  \n",
       "2540854                                 NaN   16  0016-09-01  \n",
       "2553850                                 NaN   16  0016-08-01  \n",
       "2557556                                 NaN   16  0016-08-01  \n",
       "2620874                                 NaN   16  0016-03-01  \n",
       "\n",
       "[10 rows x 128 columns]"
      ]
     },
     "execution_count": 77,
     "metadata": {},
     "output_type": "execute_result"
    }
   ],
   "source": [
    "data.loc[y_test.index[tp]]"
   ]
  },
  {
   "cell_type": "code",
   "execution_count": 78,
   "id": "painful-corporation",
   "metadata": {},
   "outputs": [],
   "source": [
    "payment = [\n",
    "    'loan_amnt', \n",
    "    'funded_amnt',\n",
    "    'out_prncp',\n",
    "    'out_prncp_inv',\n",
    "    'total_pymnt',\n",
    "    'total_pymnt_inv',\n",
    "    'total_rec_prncp',\n",
    "    'total_rec_int',\n",
    "    'total_rec_late_fee']"
   ]
  },
  {
   "cell_type": "code",
   "execution_count": 79,
   "id": "billion-custom",
   "metadata": {},
   "outputs": [
    {
     "data": {
      "text/html": [
       "<div>\n",
       "<style scoped>\n",
       "    .dataframe tbody tr th:only-of-type {\n",
       "        vertical-align: middle;\n",
       "    }\n",
       "\n",
       "    .dataframe tbody tr th {\n",
       "        vertical-align: top;\n",
       "    }\n",
       "\n",
       "    .dataframe thead th {\n",
       "        text-align: right;\n",
       "    }\n",
       "</style>\n",
       "<table border=\"1\" class=\"dataframe\">\n",
       "  <thead>\n",
       "    <tr style=\"text-align: right;\">\n",
       "      <th></th>\n",
       "      <th>loan_amnt</th>\n",
       "      <th>funded_amnt</th>\n",
       "      <th>out_prncp</th>\n",
       "      <th>out_prncp_inv</th>\n",
       "      <th>total_pymnt</th>\n",
       "      <th>total_pymnt_inv</th>\n",
       "      <th>total_rec_prncp</th>\n",
       "      <th>total_rec_int</th>\n",
       "      <th>total_rec_late_fee</th>\n",
       "    </tr>\n",
       "  </thead>\n",
       "  <tbody>\n",
       "    <tr>\n",
       "      <th>2420469</th>\n",
       "      <td>7200</td>\n",
       "      <td>7200</td>\n",
       "      <td>0.0</td>\n",
       "      <td>0.0</td>\n",
       "      <td>1841.04</td>\n",
       "      <td>1841.04</td>\n",
       "      <td>413.03</td>\n",
       "      <td>428.01</td>\n",
       "      <td>0.0</td>\n",
       "    </tr>\n",
       "    <tr>\n",
       "      <th>2456240</th>\n",
       "      <td>15200</td>\n",
       "      <td>15200</td>\n",
       "      <td>0.0</td>\n",
       "      <td>0.0</td>\n",
       "      <td>3320.68</td>\n",
       "      <td>3320.68</td>\n",
       "      <td>894.81</td>\n",
       "      <td>883.83</td>\n",
       "      <td>0.0</td>\n",
       "    </tr>\n",
       "    <tr>\n",
       "      <th>2470362</th>\n",
       "      <td>33575</td>\n",
       "      <td>33575</td>\n",
       "      <td>0.0</td>\n",
       "      <td>0.0</td>\n",
       "      <td>8055.45</td>\n",
       "      <td>7995.47</td>\n",
       "      <td>3967.72</td>\n",
       "      <td>4087.73</td>\n",
       "      <td>0.0</td>\n",
       "    </tr>\n",
       "    <tr>\n",
       "      <th>2492357</th>\n",
       "      <td>6600</td>\n",
       "      <td>6600</td>\n",
       "      <td>0.0</td>\n",
       "      <td>0.0</td>\n",
       "      <td>1120.09</td>\n",
       "      <td>1120.09</td>\n",
       "      <td>763.88</td>\n",
       "      <td>356.21</td>\n",
       "      <td>0.0</td>\n",
       "    </tr>\n",
       "    <tr>\n",
       "      <th>2499638</th>\n",
       "      <td>5775</td>\n",
       "      <td>5775</td>\n",
       "      <td>0.0</td>\n",
       "      <td>0.0</td>\n",
       "      <td>2455.62</td>\n",
       "      <td>2455.62</td>\n",
       "      <td>1376.44</td>\n",
       "      <td>1079.18</td>\n",
       "      <td>0.0</td>\n",
       "    </tr>\n",
       "    <tr>\n",
       "      <th>2509007</th>\n",
       "      <td>6000</td>\n",
       "      <td>6000</td>\n",
       "      <td>0.0</td>\n",
       "      <td>0.0</td>\n",
       "      <td>987.71</td>\n",
       "      <td>979.48</td>\n",
       "      <td>445.85</td>\n",
       "      <td>541.86</td>\n",
       "      <td>0.0</td>\n",
       "    </tr>\n",
       "    <tr>\n",
       "      <th>2540854</th>\n",
       "      <td>2075</td>\n",
       "      <td>2075</td>\n",
       "      <td>0.0</td>\n",
       "      <td>0.0</td>\n",
       "      <td>218.00</td>\n",
       "      <td>218.00</td>\n",
       "      <td>79.67</td>\n",
       "      <td>138.33</td>\n",
       "      <td>0.0</td>\n",
       "    </tr>\n",
       "    <tr>\n",
       "      <th>2553850</th>\n",
       "      <td>9000</td>\n",
       "      <td>9000</td>\n",
       "      <td>0.0</td>\n",
       "      <td>0.0</td>\n",
       "      <td>1164.54</td>\n",
       "      <td>1164.54</td>\n",
       "      <td>509.97</td>\n",
       "      <td>654.57</td>\n",
       "      <td>0.0</td>\n",
       "    </tr>\n",
       "    <tr>\n",
       "      <th>2557556</th>\n",
       "      <td>10000</td>\n",
       "      <td>10000</td>\n",
       "      <td>0.0</td>\n",
       "      <td>0.0</td>\n",
       "      <td>2097.29</td>\n",
       "      <td>2097.29</td>\n",
       "      <td>947.52</td>\n",
       "      <td>1149.77</td>\n",
       "      <td>0.0</td>\n",
       "    </tr>\n",
       "    <tr>\n",
       "      <th>2620874</th>\n",
       "      <td>28000</td>\n",
       "      <td>28000</td>\n",
       "      <td>0.0</td>\n",
       "      <td>0.0</td>\n",
       "      <td>10188.61</td>\n",
       "      <td>10188.61</td>\n",
       "      <td>5084.10</td>\n",
       "      <td>5104.51</td>\n",
       "      <td>0.0</td>\n",
       "    </tr>\n",
       "  </tbody>\n",
       "</table>\n",
       "</div>"
      ],
      "text/plain": [
       "         loan_amnt  funded_amnt  out_prncp  out_prncp_inv  total_pymnt  \\\n",
       "2420469       7200         7200        0.0            0.0      1841.04   \n",
       "2456240      15200        15200        0.0            0.0      3320.68   \n",
       "2470362      33575        33575        0.0            0.0      8055.45   \n",
       "2492357       6600         6600        0.0            0.0      1120.09   \n",
       "2499638       5775         5775        0.0            0.0      2455.62   \n",
       "2509007       6000         6000        0.0            0.0       987.71   \n",
       "2540854       2075         2075        0.0            0.0       218.00   \n",
       "2553850       9000         9000        0.0            0.0      1164.54   \n",
       "2557556      10000        10000        0.0            0.0      2097.29   \n",
       "2620874      28000        28000        0.0            0.0     10188.61   \n",
       "\n",
       "         total_pymnt_inv  total_rec_prncp  total_rec_int  total_rec_late_fee  \n",
       "2420469          1841.04           413.03         428.01                 0.0  \n",
       "2456240          3320.68           894.81         883.83                 0.0  \n",
       "2470362          7995.47          3967.72        4087.73                 0.0  \n",
       "2492357          1120.09           763.88         356.21                 0.0  \n",
       "2499638          2455.62          1376.44        1079.18                 0.0  \n",
       "2509007           979.48           445.85         541.86                 0.0  \n",
       "2540854           218.00            79.67         138.33                 0.0  \n",
       "2553850          1164.54           509.97         654.57                 0.0  \n",
       "2557556          2097.29           947.52        1149.77                 0.0  \n",
       "2620874         10188.61          5084.10        5104.51                 0.0  "
      ]
     },
     "execution_count": 79,
     "metadata": {},
     "output_type": "execute_result"
    }
   ],
   "source": [
    "data.loc[y_test.index[tp]][payment]"
   ]
  },
  {
   "cell_type": "code",
   "execution_count": 80,
   "id": "smart-planet",
   "metadata": {},
   "outputs": [
    {
     "data": {
      "text/html": [
       "<div>\n",
       "<style scoped>\n",
       "    .dataframe tbody tr th:only-of-type {\n",
       "        vertical-align: middle;\n",
       "    }\n",
       "\n",
       "    .dataframe tbody tr th {\n",
       "        vertical-align: top;\n",
       "    }\n",
       "\n",
       "    .dataframe thead th {\n",
       "        text-align: right;\n",
       "    }\n",
       "</style>\n",
       "<table border=\"1\" class=\"dataframe\">\n",
       "  <thead>\n",
       "    <tr style=\"text-align: right;\">\n",
       "      <th></th>\n",
       "      <th>loan_amnt</th>\n",
       "      <th>funded_amnt</th>\n",
       "      <th>out_prncp</th>\n",
       "      <th>out_prncp_inv</th>\n",
       "      <th>total_pymnt</th>\n",
       "      <th>total_pymnt_inv</th>\n",
       "      <th>total_rec_prncp</th>\n",
       "      <th>total_rec_int</th>\n",
       "      <th>total_rec_late_fee</th>\n",
       "    </tr>\n",
       "  </thead>\n",
       "  <tbody>\n",
       "    <tr>\n",
       "      <th>178659</th>\n",
       "      <td>5000</td>\n",
       "      <td>3400</td>\n",
       "      <td>0.00</td>\n",
       "      <td>0.00</td>\n",
       "      <td>3643.290000</td>\n",
       "      <td>3643.29</td>\n",
       "      <td>3400.00</td>\n",
       "      <td>243.29</td>\n",
       "      <td>0.0</td>\n",
       "    </tr>\n",
       "    <tr>\n",
       "      <th>179511</th>\n",
       "      <td>2875</td>\n",
       "      <td>2850</td>\n",
       "      <td>0.00</td>\n",
       "      <td>0.00</td>\n",
       "      <td>3181.145363</td>\n",
       "      <td>3181.15</td>\n",
       "      <td>2850.00</td>\n",
       "      <td>331.15</td>\n",
       "      <td>0.0</td>\n",
       "    </tr>\n",
       "    <tr>\n",
       "      <th>216117</th>\n",
       "      <td>33425</td>\n",
       "      <td>33325</td>\n",
       "      <td>9488.48</td>\n",
       "      <td>9474.25</td>\n",
       "      <td>42131.039690</td>\n",
       "      <td>42067.83</td>\n",
       "      <td>23836.52</td>\n",
       "      <td>18294.52</td>\n",
       "      <td>0.0</td>\n",
       "    </tr>\n",
       "    <tr>\n",
       "      <th>220369</th>\n",
       "      <td>32000</td>\n",
       "      <td>31900</td>\n",
       "      <td>0.00</td>\n",
       "      <td>0.00</td>\n",
       "      <td>33855.959850</td>\n",
       "      <td>33829.43</td>\n",
       "      <td>31900.00</td>\n",
       "      <td>1955.96</td>\n",
       "      <td>0.0</td>\n",
       "    </tr>\n",
       "    <tr>\n",
       "      <th>221038</th>\n",
       "      <td>25000</td>\n",
       "      <td>24975</td>\n",
       "      <td>0.00</td>\n",
       "      <td>0.00</td>\n",
       "      <td>26453.004910</td>\n",
       "      <td>26453.00</td>\n",
       "      <td>24975.00</td>\n",
       "      <td>1478.00</td>\n",
       "      <td>0.0</td>\n",
       "    </tr>\n",
       "    <tr>\n",
       "      <th>...</th>\n",
       "      <td>...</td>\n",
       "      <td>...</td>\n",
       "      <td>...</td>\n",
       "      <td>...</td>\n",
       "      <td>...</td>\n",
       "      <td>...</td>\n",
       "      <td>...</td>\n",
       "      <td>...</td>\n",
       "      <td>...</td>\n",
       "    </tr>\n",
       "    <tr>\n",
       "      <th>316583</th>\n",
       "      <td>35000</td>\n",
       "      <td>22550</td>\n",
       "      <td>0.00</td>\n",
       "      <td>0.00</td>\n",
       "      <td>22724.800000</td>\n",
       "      <td>22724.80</td>\n",
       "      <td>14480.92</td>\n",
       "      <td>8232.35</td>\n",
       "      <td>0.0</td>\n",
       "    </tr>\n",
       "    <tr>\n",
       "      <th>316586</th>\n",
       "      <td>20000</td>\n",
       "      <td>12675</td>\n",
       "      <td>0.00</td>\n",
       "      <td>0.00</td>\n",
       "      <td>17801.931680</td>\n",
       "      <td>17801.93</td>\n",
       "      <td>12675.00</td>\n",
       "      <td>5126.93</td>\n",
       "      <td>0.0</td>\n",
       "    </tr>\n",
       "    <tr>\n",
       "      <th>316592</th>\n",
       "      <td>12000</td>\n",
       "      <td>7775</td>\n",
       "      <td>0.00</td>\n",
       "      <td>0.00</td>\n",
       "      <td>11163.948260</td>\n",
       "      <td>11163.95</td>\n",
       "      <td>7775.00</td>\n",
       "      <td>3388.95</td>\n",
       "      <td>0.0</td>\n",
       "    </tr>\n",
       "    <tr>\n",
       "      <th>2452445</th>\n",
       "      <td>18000</td>\n",
       "      <td>10000</td>\n",
       "      <td>6601.71</td>\n",
       "      <td>6601.71</td>\n",
       "      <td>4485.580000</td>\n",
       "      <td>4485.58</td>\n",
       "      <td>3398.29</td>\n",
       "      <td>1087.29</td>\n",
       "      <td>0.0</td>\n",
       "    </tr>\n",
       "    <tr>\n",
       "      <th>2452770</th>\n",
       "      <td>20000</td>\n",
       "      <td>10000</td>\n",
       "      <td>8428.74</td>\n",
       "      <td>8428.74</td>\n",
       "      <td>2630.990000</td>\n",
       "      <td>2630.99</td>\n",
       "      <td>1571.26</td>\n",
       "      <td>1059.73</td>\n",
       "      <td>0.0</td>\n",
       "    </tr>\n",
       "  </tbody>\n",
       "</table>\n",
       "<p>67 rows × 9 columns</p>\n",
       "</div>"
      ],
      "text/plain": [
       "         loan_amnt  funded_amnt  out_prncp  out_prncp_inv   total_pymnt  \\\n",
       "178659        5000         3400       0.00           0.00   3643.290000   \n",
       "179511        2875         2850       0.00           0.00   3181.145363   \n",
       "216117       33425        33325    9488.48        9474.25  42131.039690   \n",
       "220369       32000        31900       0.00           0.00  33855.959850   \n",
       "221038       25000        24975       0.00           0.00  26453.004910   \n",
       "...            ...          ...        ...            ...           ...   \n",
       "316583       35000        22550       0.00           0.00  22724.800000   \n",
       "316586       20000        12675       0.00           0.00  17801.931680   \n",
       "316592       12000         7775       0.00           0.00  11163.948260   \n",
       "2452445      18000        10000    6601.71        6601.71   4485.580000   \n",
       "2452770      20000        10000    8428.74        8428.74   2630.990000   \n",
       "\n",
       "         total_pymnt_inv  total_rec_prncp  total_rec_int  total_rec_late_fee  \n",
       "178659           3643.29          3400.00         243.29                 0.0  \n",
       "179511           3181.15          2850.00         331.15                 0.0  \n",
       "216117          42067.83         23836.52       18294.52                 0.0  \n",
       "220369          33829.43         31900.00        1955.96                 0.0  \n",
       "221038          26453.00         24975.00        1478.00                 0.0  \n",
       "...                  ...              ...            ...                 ...  \n",
       "316583          22724.80         14480.92        8232.35                 0.0  \n",
       "316586          17801.93         12675.00        5126.93                 0.0  \n",
       "316592          11163.95          7775.00        3388.95                 0.0  \n",
       "2452445          4485.58          3398.29        1087.29                 0.0  \n",
       "2452770          2630.99          1571.26        1059.73                 0.0  \n",
       "\n",
       "[67 rows x 9 columns]"
      ]
     },
     "execution_count": 80,
     "metadata": {},
     "output_type": "execute_result"
    }
   ],
   "source": [
    "data[data.loan_amnt != data.funded_amnt][payment]"
   ]
  },
  {
   "cell_type": "code",
   "execution_count": 81,
   "id": "happy-crack",
   "metadata": {},
   "outputs": [
    {
     "name": "stdout",
     "output_type": "stream",
     "text": [
      "<class 'pandas.core.frame.DataFrame'>\n",
      "Int64Index: 2643639 entries, 0 to 2854471\n",
      "Data columns (total 9 columns):\n",
      " #   Column              Dtype  \n",
      "---  ------              -----  \n",
      " 0   loan_amnt           int64  \n",
      " 1   funded_amnt         int64  \n",
      " 2   out_prncp           float64\n",
      " 3   out_prncp_inv       float64\n",
      " 4   total_pymnt         float64\n",
      " 5   total_pymnt_inv     float64\n",
      " 6   total_rec_prncp     float64\n",
      " 7   total_rec_int       float64\n",
      " 8   total_rec_late_fee  float64\n",
      "dtypes: float64(7), int64(2)\n",
      "memory usage: 266.2 MB\n"
     ]
    }
   ],
   "source": [
    "data.loc[:,payment].info()"
   ]
  },
  {
   "cell_type": "code",
   "execution_count": 82,
   "id": "american-conjunction",
   "metadata": {
    "scrolled": true
   },
   "outputs": [
    {
     "data": {
      "text/plain": [
       "10894.201"
      ]
     },
     "execution_count": 82,
     "metadata": {},
     "output_type": "execute_result"
    }
   ],
   "source": [
    "(data.loc[y_test.index[tp]]['funded_amnt'].sum()-data.loc[y_test.index[tp]]['total_rec_prncp'].sum())/y_test.index[tp].shape[0]"
   ]
  },
  {
   "cell_type": "code",
   "execution_count": 83,
   "id": "scheduled-vermont",
   "metadata": {},
   "outputs": [
    {
     "data": {
      "text/plain": [
       "2646.08"
      ]
     },
     "execution_count": 83,
     "metadata": {},
     "output_type": "execute_result"
    }
   ],
   "source": [
    "data.loc[y_test.index[fp]]['total_rec_int'].sum()"
   ]
  },
  {
   "cell_type": "code",
   "execution_count": 84,
   "id": "extended-plaintiff",
   "metadata": {},
   "outputs": [],
   "source": [
    "def potential_principal_saved(tp, fp, interest=False):\n",
    "    # Principal remaining\n",
    "    funded = data.loc[y_test.index[tp]]['funded_amnt'].sum()\n",
    "    princ_rec = data.loc[y_test.index[tp]]['total_rec_prncp'].sum()\n",
    "    int_rec = data.loc[y_test.index[tp]]['total_rec_int'].sum()\n",
    "    missed_int = data.loc[y_test.index[fp]]['total_rec_int'].sum()\n",
    "    recovered = data.loc[y_test.index[tp]]['recoveries'].sum()\n",
    "    saved = funded - princ_rec - missed_int - int_rec - recovered\n",
    "    if interest:\n",
    "        saved -= int_rec\n",
    "    return saved\n",
    "    "
   ]
  },
  {
   "cell_type": "code",
   "execution_count": 85,
   "id": "boolean-newton",
   "metadata": {},
   "outputs": [],
   "source": [
    "savings = []\n",
    "for t in threshold:\n",
    "    tp, tn, fp, fn = get_cf_arrays(y_test, get_yhat(probabilities[:,1], t))\n",
    "    savings.append(potential_principal_saved(tp, fp))"
   ]
  },
  {
   "cell_type": "code",
   "execution_count": 86,
   "id": "wrapped-investor",
   "metadata": {},
   "outputs": [
    {
     "data": {
      "text/plain": [
       "[<matplotlib.lines.Line2D at 0x28ef3ec40>]"
      ]
     },
     "execution_count": 86,
     "metadata": {},
     "output_type": "execute_result"
    },
    {
     "data": {
      "image/png": "[encoded data removed]",
      "text/plain": [
       "<Figure size 432x288 with 1 Axes>"
      ]
     },
     "metadata": {
      "needs_background": "light"
     },
     "output_type": "display_data"
    }
   ],
   "source": [
    "fig, ax = plt.subplots()\n",
    "\n",
    "ax.plot(threshold, savings)"
   ]
  },
  {
   "cell_type": "code",
   "execution_count": 87,
   "id": "stupid-conditioning",
   "metadata": {},
   "outputs": [],
   "source": [
    "savings = []\n",
    "for t in threshold:\n",
    "    tp, tn, fp, fn = get_cf_arrays(y_test, get_yhat(probabilities[:,1], t))\n",
    "    savings.append(potential_principal_saved(tp, fp, True))\n"
   ]
  },
  {
   "cell_type": "code",
   "execution_count": 88,
   "id": "electoral-soldier",
   "metadata": {},
   "outputs": [
    {
     "data": {
      "image/png": "[encoded data removed]",
      "text/plain": [
       "<Figure size 576x432 with 1 Axes>"
      ]
     },
     "metadata": {
      "needs_background": "light"
     },
     "output_type": "display_data"
    }
   ],
   "source": [
    "fig, ax = plt.subplots(figsize=(8,6))\n",
    "\n",
    "ax.plot(threshold, savings)\n",
    "ax.set_xlabel('Threshold')\n",
    "ax.set_ylabel('Dollars Saved')\n",
    "ax.ticklabel_format(style='plain')"
   ]
  },
  {
   "cell_type": "markdown",
   "id": "tested-duncan",
   "metadata": {},
   "source": [
    "### Find savings from future loans"
   ]
  },
  {
   "cell_type": "code",
   "execution_count": 106,
   "id": "brazilian-question",
   "metadata": {},
   "outputs": [
    {
     "data": {
      "text/plain": [
       "0.22448979591836732"
      ]
     },
     "execution_count": 106,
     "metadata": {},
     "output_type": "execute_result"
    }
   ],
   "source": [
    "threshold[np.argmax(savings)]"
   ]
  },
  {
   "cell_type": "code",
   "execution_count": 71,
   "id": "dominant-youth",
   "metadata": {},
   "outputs": [],
   "source": [
    "tp, tn, fp, fn = get_cf_arrays(y_test, get_yhat(probabilities[:,1], .8))"
   ]
  },
  {
   "cell_type": "code",
   "execution_count": 72,
   "id": "smaller-clone",
   "metadata": {},
   "outputs": [
    {
     "data": {
      "text/plain": [
       "59401792.78999999"
      ]
     },
     "execution_count": 72,
     "metadata": {},
     "output_type": "execute_result"
    }
   ],
   "source": [
    "funded = data.loc[y_test.index[tp]]['funded_amnt'].sum()\n",
    "princ_rec = data.loc[y_test.index[tp]]['total_rec_prncp'].sum()\n",
    "int_rec = data.loc[y_test.index[tp]]['total_rec_int'].sum()\n",
    "missed_int = data.loc[y_test.index[fp]]['total_rec_int'].sum()\n",
    "recovered = data.loc[y_test.index[tp]]['recoveries'].sum()\n",
    "saved = funded - princ_rec - missed_int - int_rec - recovered\n",
    "saved"
   ]
  },
  {
   "cell_type": "code",
   "execution_count": 73,
   "id": "digital-objective",
   "metadata": {},
   "outputs": [],
   "source": [
    "current_loan_prob = rf_model.predict_proba(X_val)"
   ]
  },
  {
   "cell_type": "code",
   "execution_count": null,
   "id": "fatal-perspective",
   "metadata": {},
   "outputs": [],
   "source": [
    "#"
   ]
  },
  {
   "cell_type": "code",
   "execution_count": 74,
   "id": "hungry-therapy",
   "metadata": {},
   "outputs": [],
   "source": [
    "def interest_calculator(funded, interest, payment):\n",
    "    current_balance = funded\n",
    "    r = interest/100\n",
    "    interest_paid = 0\n",
    "    while current_balance > 0:\n",
    "        accrued = (current_balance * r)/12\n",
    "        interest_paid += accrued\n",
    "        current_balance -= (payment - accrued)\n",
    "        if interest_paid > funded:\n",
    "            return 0\n",
    "    return round(interest_paid,2)\n",
    "    "
   ]
  },
  {
   "cell_type": "code",
   "execution_count": 77,
   "id": "designing-victoria",
   "metadata": {
    "scrolled": false
   },
   "outputs": [
    {
     "name": "stderr",
     "output_type": "stream",
     "text": [
      "<ipython-input-77-39f67147d747>:1: SettingWithCopyWarning: \n",
      "A value is trying to be set on a copy of a slice from a DataFrame.\n",
      "Try using .loc[row_indexer,col_indexer] = value instead\n",
      "\n",
      "See the caveats in the documentation: https://pandas.pydata.org/pandas-docs/stable/user_guide/indexing.html#returning-a-view-versus-a-copy\n",
      "  validation['potential_interest'] = validation.apply(lambda row: interest_calculator(row['funded_amnt'], row['int_rate'], row['installment']), axis=1)\n"
     ]
    }
   ],
   "source": [
    "validation['potential_interest'] = validation.apply(lambda row: interest_calculator(row['funded_amnt'], row['int_rate'], row['installment']), axis=1)"
   ]
  },
  {
   "cell_type": "code",
   "execution_count": 76,
   "id": "opened-springfield",
   "metadata": {
    "scrolled": true
   },
   "outputs": [
    {
     "data": {
      "text/plain": [
       "1672.0"
      ]
     },
     "execution_count": 76,
     "metadata": {},
     "output_type": "execute_result"
    }
   ],
   "source": [
    "interest_calculator(data.loc[0, 'funded_amnt'], data.loc[0, 'int_rate'], data.loc[0, 'installment'])"
   ]
  },
  {
   "cell_type": "code",
   "execution_count": 78,
   "id": "super-completion",
   "metadata": {
    "scrolled": true
   },
   "outputs": [
    {
     "data": {
      "text/plain": [
       "0           1672.00\n",
       "1            556.71\n",
       "2           4589.33\n",
       "4           8361.80\n",
       "5           3850.20\n",
       "             ...   \n",
       "2420059    29067.86\n",
       "2420060     4782.94\n",
       "2420062     1955.40\n",
       "2420063    10565.62\n",
       "2420064     7660.90\n",
       "Name: potential_interest, Length: 1376521, dtype: float64"
      ]
     },
     "execution_count": 78,
     "metadata": {},
     "output_type": "execute_result"
    }
   ],
   "source": [
    "validation['potential_interest']"
   ]
  },
  {
   "cell_type": "code",
   "execution_count": 85,
   "id": "former-ensemble",
   "metadata": {},
   "outputs": [
    {
     "data": {
      "text/plain": [
       "127019778.61"
      ]
     },
     "execution_count": 85,
     "metadata": {},
     "output_type": "execute_result"
    }
   ],
   "source": [
    "validation.loc[y_val.index[current_loan_prob[:,1] > .5]]['potential_interest'].sum()"
   ]
  },
  {
   "cell_type": "code",
   "execution_count": 87,
   "id": "simplified-prevention",
   "metadata": {},
   "outputs": [],
   "source": [
    "\n",
    "potential_interest = []\n",
    "for t in threshold:\n",
    "    potential_interest.append(validation.loc[y_val.index[current_loan_prob[:,1] > t]]['potential_interest'].sum())"
   ]
  },
  {
   "cell_type": "code",
   "execution_count": 101,
   "id": "daily-history",
   "metadata": {},
   "outputs": [
    {
     "data": {
      "text/plain": [
       "Text(0, 0.5, 'Dollars Saved')"
      ]
     },
     "execution_count": 101,
     "metadata": {},
     "output_type": "execute_result"
    },
    {
     "data": {
      "image/png": "[encoded data removed]",
      "text/plain": [
       "<Figure size 576x432 with 1 Axes>"
      ]
     },
     "metadata": {
      "needs_background": "light"
     },
     "output_type": "display_data"
    }
   ],
   "source": [
    "fig, ax = plt.subplots(figsize=(8,6))\n",
    "\n",
    "ax.plot(threshold, np.array(potential_interest))\n",
    "ax.set_ylim(0,1000000000)\n",
    "ax.set_xlabel('Threshold')\n",
    "ax.set_ylabel('Dollars Saved')"
   ]
  },
  {
   "cell_type": "code",
   "execution_count": 89,
   "id": "acceptable-hello",
   "metadata": {},
   "outputs": [],
   "source": [
    "net = np.array(savings)-np.array(potential_interest)"
   ]
  },
  {
   "cell_type": "code",
   "execution_count": 106,
   "id": "excellent-mineral",
   "metadata": {},
   "outputs": [
    {
     "data": {
      "text/plain": [
       "[<matplotlib.lines.Line2D at 0x1757a9fa0>]"
      ]
     },
     "execution_count": 106,
     "metadata": {},
     "output_type": "execute_result"
    },
    {
     "data": {
      "image/png": "[encoded data removed]",
      "text/plain": [
       "<Figure size 432x288 with 1 Axes>"
      ]
     },
     "metadata": {
      "needs_background": "light"
     },
     "output_type": "display_data"
    }
   ],
   "source": [
    "fig, ax = plt.subplots()\n",
    "\n",
    "ax.plot(threshold[net>0],net[net > 0])"
   ]
  },
  {
   "cell_type": "code",
   "execution_count": 103,
   "id": "common-singles",
   "metadata": {},
   "outputs": [
    {
     "data": {
      "text/plain": [
       "array([0.73469388, 0.75510204, 0.7755102 , 0.79591837, 0.81632653,\n",
       "       0.83673469, 0.85714286, 0.87755102, 0.89795918, 0.91836735,\n",
       "       0.93877551, 0.95918367, 0.97959184])"
      ]
     },
     "execution_count": 103,
     "metadata": {},
     "output_type": "execute_result"
    }
   ],
   "source": [
    "threshold[net > 0]"
   ]
  },
  {
   "cell_type": "code",
   "execution_count": 320,
   "id": "provincial-stability",
   "metadata": {},
   "outputs": [],
   "source": [
    "loans2012_2017 = pipeline.completed_filter(\n",
    "    pipeline.date_filter(datetime.date(2012, 1,1), datetime.date(2017, 4,1), \n",
    "    pipeline.term_filter(36, data)))"
   ]
  },
  {
   "cell_type": "code",
   "execution_count": 325,
   "id": "dynamic-detector",
   "metadata": {},
   "outputs": [],
   "source": [
    "funded = loans2012_2017[loans2012_2017['loan_status']=='Fully Paid']['funded_amnt'].sum()\n",
    "princ_rec = loans2012_2017[loans2012_2017['loan_status']=='Fully Paid']['total_rec_prncp'].sum()\n",
    "int_rec = loans2012_2017[loans2012_2017['loan_status']=='Fully Paid']['total_rec_int'].sum()\n",
    "recovered = loans2012_2017[loans2012_2017['loan_status']=='Fully Paid']['recoveries'].sum()\n"
   ]
  },
  {
   "cell_type": "code",
   "execution_count": 323,
   "id": "separate-mediterranean",
   "metadata": {},
   "outputs": [],
   "source": [
    "a = funded - princ_rec - int_rec - recovered"
   ]
  },
  {
   "cell_type": "code",
   "execution_count": 327,
   "id": "capital-privilege",
   "metadata": {},
   "outputs": [],
   "source": [
    "b = funded - princ_rec - int_rec - recovered"
   ]
  },
  {
   "cell_type": "code",
   "execution_count": 328,
   "id": "entitled-institution",
   "metadata": {},
   "outputs": [
    {
     "data": {
      "text/plain": [
       "-157428232.6400001"
      ]
     },
     "execution_count": 328,
     "metadata": {},
     "output_type": "execute_result"
    }
   ],
   "source": [
    "a+b"
   ]
  },
  {
   "cell_type": "code",
   "execution_count": 329,
   "id": "regulated-printer",
   "metadata": {},
   "outputs": [
    {
     "data": {
      "text/plain": [
       "471319912.18000007"
      ]
     },
     "execution_count": 329,
     "metadata": {},
     "output_type": "execute_result"
    }
   ],
   "source": [
    "a"
   ]
  },
  {
   "cell_type": "code",
   "execution_count": null,
   "id": "civilian-growing",
   "metadata": {},
   "outputs": [],
   "source": []
  }
 ],
 "metadata": {
  "kernelspec": {
   "display_name": "Python 3",
   "language": "python",
   "name": "python3"
  },
  "language_info": {
   "codemirror_mode": {
    "name": "ipython",
    "version": 3
   },
   "file_extension": ".py",
   "mimetype": "text/x-python",
   "name": "python",
   "nbconvert_exporter": "python",
   "pygments_lexer": "ipython3",
   "version": "3.8.8"
  }
 },
 "nbformat": 4,
 "nbformat_minor": 5
}
