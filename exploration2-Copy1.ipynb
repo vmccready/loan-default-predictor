{
 "cells": [
  {
   "cell_type": "code",
   "execution_count": 1,
   "id": "assigned-acceptance",
   "metadata": {},
   "outputs": [],
   "source": [
    "import numpy as np\n",
    "import pandas as pd\n",
    "import matplotlib.pyplot as plt\n",
    "import re\n",
    "\n",
    "from glob import iglob"
   ]
  },
  {
   "cell_type": "code",
   "execution_count": 2,
   "id": "stainless-catering",
   "metadata": {},
   "outputs": [],
   "source": [
    "dfs = []\n",
    "\n",
    "# Read all files into dataframes\n",
    "for f in iglob('data/raw/' + '*.csv'):\n",
    "    temp_df = pd.read_csv(f, skiprows=[0], low_memory=False)\n",
    "    dfs.append(temp_df)"
   ]
  },
  {
   "cell_type": "code",
   "execution_count": 3,
   "id": "incorporated-accommodation",
   "metadata": {},
   "outputs": [],
   "source": [
    "# Get the columns that are consistent in all years\n",
    "dropped_cols = []\n",
    "cols = list(dfs[0].columns)\n",
    "for i in range(1,len(dfs)):\n",
    "    column_difference = set(cols).difference(set(dfs[i].columns))\n",
    "    for c in column_difference:\n",
    "        cols.remove(c)\n",
    "        dropped_cols.append(c)"
   ]
  },
  {
   "cell_type": "code",
   "execution_count": 4,
   "id": "distant-saskatchewan",
   "metadata": {},
   "outputs": [
    {
     "data": {
      "text/plain": [
       "['hardship_start_date',\n",
       " 'debt_settlement_flag',\n",
       " 'hardship_loan_status',\n",
       " 'hardship_last_payment_amount',\n",
       " 'debt_settlement_flag_date',\n",
       " 'hardship_end_date',\n",
       " 'orig_projected_additional_accrued_interest',\n",
       " 'settlement_status',\n",
       " 'payment_plan_start_date',\n",
       " 'deferral_term',\n",
       " 'open_act_il',\n",
       " 'hardship_status',\n",
       " 'hardship_amount',\n",
       " 'hardship_reason',\n",
       " 'hardship_payoff_balance_amount',\n",
       " 'settlement_amount',\n",
       " 'settlement_term',\n",
       " 'sec_app_open_act_il',\n",
       " 'hardship_dpd',\n",
       " 'settlement_date',\n",
       " 'hardship_type',\n",
       " 'disbursement_method',\n",
       " 'hardship_length',\n",
       " 'hardship_flag',\n",
       " 'settlement_percentage']"
      ]
     },
     "execution_count": 4,
     "metadata": {},
     "output_type": "execute_result"
    }
   ],
   "source": [
    "dropped_cols"
   ]
  },
  {
   "cell_type": "code",
   "execution_count": 6,
   "id": "cosmetic-fifty",
   "metadata": {},
   "outputs": [
    {
     "data": {
      "text/html": [
       "<div>\n",
       "<style scoped>\n",
       "    .dataframe tbody tr th:only-of-type {\n",
       "        vertical-align: middle;\n",
       "    }\n",
       "\n",
       "    .dataframe tbody tr th {\n",
       "        vertical-align: top;\n",
       "    }\n",
       "\n",
       "    .dataframe thead th {\n",
       "        text-align: right;\n",
       "    }\n",
       "</style>\n",
       "<table border=\"1\" class=\"dataframe\">\n",
       "  <thead>\n",
       "    <tr style=\"text-align: right;\">\n",
       "      <th></th>\n",
       "      <th>id</th>\n",
       "      <th>member_id</th>\n",
       "      <th>loan_amnt</th>\n",
       "      <th>funded_amnt</th>\n",
       "      <th>funded_amnt_inv</th>\n",
       "      <th>term</th>\n",
       "      <th>int_rate</th>\n",
       "      <th>installment</th>\n",
       "      <th>grade</th>\n",
       "      <th>sub_grade</th>\n",
       "      <th>...</th>\n",
       "      <th>sec_app_fico_range_high</th>\n",
       "      <th>sec_app_earliest_cr_line</th>\n",
       "      <th>sec_app_inq_last_6mths</th>\n",
       "      <th>sec_app_mort_acc</th>\n",
       "      <th>sec_app_open_acc</th>\n",
       "      <th>sec_app_revol_util</th>\n",
       "      <th>sec_app_num_rev_accts</th>\n",
       "      <th>sec_app_chargeoff_within_12_mths</th>\n",
       "      <th>sec_app_collections_12_mths_ex_med</th>\n",
       "      <th>sec_app_mths_since_last_major_derog</th>\n",
       "    </tr>\n",
       "  </thead>\n",
       "  <tbody>\n",
       "    <tr>\n",
       "      <th>0</th>\n",
       "      <td>145217616</td>\n",
       "      <td>NaN</td>\n",
       "      <td>10000</td>\n",
       "      <td>10000</td>\n",
       "      <td>10000.0</td>\n",
       "      <td>36 months</td>\n",
       "      <td>10.33%</td>\n",
       "      <td>324.23</td>\n",
       "      <td>B</td>\n",
       "      <td>B1</td>\n",
       "      <td>...</td>\n",
       "      <td>NaN</td>\n",
       "      <td>NaN</td>\n",
       "      <td>NaN</td>\n",
       "      <td>NaN</td>\n",
       "      <td>NaN</td>\n",
       "      <td>NaN</td>\n",
       "      <td>NaN</td>\n",
       "      <td>NaN</td>\n",
       "      <td>NaN</td>\n",
       "      <td>NaN</td>\n",
       "    </tr>\n",
       "    <tr>\n",
       "      <th>1</th>\n",
       "      <td>145640422</td>\n",
       "      <td>NaN</td>\n",
       "      <td>2500</td>\n",
       "      <td>2500</td>\n",
       "      <td>2500.0</td>\n",
       "      <td>36 months</td>\n",
       "      <td>13.56%</td>\n",
       "      <td>84.92</td>\n",
       "      <td>C</td>\n",
       "      <td>C1</td>\n",
       "      <td>...</td>\n",
       "      <td>NaN</td>\n",
       "      <td>NaN</td>\n",
       "      <td>NaN</td>\n",
       "      <td>NaN</td>\n",
       "      <td>NaN</td>\n",
       "      <td>NaN</td>\n",
       "      <td>NaN</td>\n",
       "      <td>NaN</td>\n",
       "      <td>NaN</td>\n",
       "      <td>NaN</td>\n",
       "    </tr>\n",
       "    <tr>\n",
       "      <th>2</th>\n",
       "      <td>145630143</td>\n",
       "      <td>NaN</td>\n",
       "      <td>12000</td>\n",
       "      <td>12000</td>\n",
       "      <td>12000.0</td>\n",
       "      <td>60 months</td>\n",
       "      <td>13.56%</td>\n",
       "      <td>276.49</td>\n",
       "      <td>C</td>\n",
       "      <td>C1</td>\n",
       "      <td>...</td>\n",
       "      <td>NaN</td>\n",
       "      <td>NaN</td>\n",
       "      <td>NaN</td>\n",
       "      <td>NaN</td>\n",
       "      <td>NaN</td>\n",
       "      <td>NaN</td>\n",
       "      <td>NaN</td>\n",
       "      <td>NaN</td>\n",
       "      <td>NaN</td>\n",
       "      <td>NaN</td>\n",
       "    </tr>\n",
       "    <tr>\n",
       "      <th>3</th>\n",
       "      <td>145127870</td>\n",
       "      <td>NaN</td>\n",
       "      <td>15000</td>\n",
       "      <td>15000</td>\n",
       "      <td>14975.0</td>\n",
       "      <td>60 months</td>\n",
       "      <td>14.47%</td>\n",
       "      <td>352.69</td>\n",
       "      <td>C</td>\n",
       "      <td>C2</td>\n",
       "      <td>...</td>\n",
       "      <td>664.0</td>\n",
       "      <td>Oct-99</td>\n",
       "      <td>0.0</td>\n",
       "      <td>0.0</td>\n",
       "      <td>16.0</td>\n",
       "      <td>48.8</td>\n",
       "      <td>15.0</td>\n",
       "      <td>0.0</td>\n",
       "      <td>0.0</td>\n",
       "      <td>NaN</td>\n",
       "    </tr>\n",
       "    <tr>\n",
       "      <th>4</th>\n",
       "      <td>145558466</td>\n",
       "      <td>NaN</td>\n",
       "      <td>16000</td>\n",
       "      <td>16000</td>\n",
       "      <td>16000.0</td>\n",
       "      <td>60 months</td>\n",
       "      <td>17.97%</td>\n",
       "      <td>406.04</td>\n",
       "      <td>D</td>\n",
       "      <td>D1</td>\n",
       "      <td>...</td>\n",
       "      <td>NaN</td>\n",
       "      <td>NaN</td>\n",
       "      <td>NaN</td>\n",
       "      <td>NaN</td>\n",
       "      <td>NaN</td>\n",
       "      <td>NaN</td>\n",
       "      <td>NaN</td>\n",
       "      <td>NaN</td>\n",
       "      <td>NaN</td>\n",
       "      <td>NaN</td>\n",
       "    </tr>\n",
       "    <tr>\n",
       "      <th>...</th>\n",
       "      <td>...</td>\n",
       "      <td>...</td>\n",
       "      <td>...</td>\n",
       "      <td>...</td>\n",
       "      <td>...</td>\n",
       "      <td>...</td>\n",
       "      <td>...</td>\n",
       "      <td>...</td>\n",
       "      <td>...</td>\n",
       "      <td>...</td>\n",
       "      <td>...</td>\n",
       "      <td>...</td>\n",
       "      <td>...</td>\n",
       "      <td>...</td>\n",
       "      <td>...</td>\n",
       "      <td>...</td>\n",
       "      <td>...</td>\n",
       "      <td>...</td>\n",
       "      <td>...</td>\n",
       "      <td>...</td>\n",
       "      <td>...</td>\n",
       "    </tr>\n",
       "    <tr>\n",
       "      <th>2854467</th>\n",
       "      <td>89885898</td>\n",
       "      <td>NaN</td>\n",
       "      <td>24000</td>\n",
       "      <td>24000</td>\n",
       "      <td>24000.0</td>\n",
       "      <td>60 months</td>\n",
       "      <td>12.79%</td>\n",
       "      <td>543.50</td>\n",
       "      <td>C</td>\n",
       "      <td>C1</td>\n",
       "      <td>...</td>\n",
       "      <td>NaN</td>\n",
       "      <td>NaN</td>\n",
       "      <td>NaN</td>\n",
       "      <td>NaN</td>\n",
       "      <td>NaN</td>\n",
       "      <td>NaN</td>\n",
       "      <td>NaN</td>\n",
       "      <td>NaN</td>\n",
       "      <td>NaN</td>\n",
       "      <td>NaN</td>\n",
       "    </tr>\n",
       "    <tr>\n",
       "      <th>2854468</th>\n",
       "      <td>88977788</td>\n",
       "      <td>NaN</td>\n",
       "      <td>24000</td>\n",
       "      <td>24000</td>\n",
       "      <td>24000.0</td>\n",
       "      <td>60 months</td>\n",
       "      <td>10.49%</td>\n",
       "      <td>515.74</td>\n",
       "      <td>B</td>\n",
       "      <td>B3</td>\n",
       "      <td>...</td>\n",
       "      <td>NaN</td>\n",
       "      <td>NaN</td>\n",
       "      <td>NaN</td>\n",
       "      <td>NaN</td>\n",
       "      <td>NaN</td>\n",
       "      <td>NaN</td>\n",
       "      <td>NaN</td>\n",
       "      <td>NaN</td>\n",
       "      <td>NaN</td>\n",
       "      <td>NaN</td>\n",
       "    </tr>\n",
       "    <tr>\n",
       "      <th>2854469</th>\n",
       "      <td>88985880</td>\n",
       "      <td>NaN</td>\n",
       "      <td>40000</td>\n",
       "      <td>40000</td>\n",
       "      <td>40000.0</td>\n",
       "      <td>60 months</td>\n",
       "      <td>10.49%</td>\n",
       "      <td>859.56</td>\n",
       "      <td>B</td>\n",
       "      <td>B3</td>\n",
       "      <td>...</td>\n",
       "      <td>NaN</td>\n",
       "      <td>NaN</td>\n",
       "      <td>NaN</td>\n",
       "      <td>NaN</td>\n",
       "      <td>NaN</td>\n",
       "      <td>NaN</td>\n",
       "      <td>NaN</td>\n",
       "      <td>NaN</td>\n",
       "      <td>NaN</td>\n",
       "      <td>NaN</td>\n",
       "    </tr>\n",
       "    <tr>\n",
       "      <th>2854470</th>\n",
       "      <td>88224441</td>\n",
       "      <td>NaN</td>\n",
       "      <td>24000</td>\n",
       "      <td>24000</td>\n",
       "      <td>24000.0</td>\n",
       "      <td>60 months</td>\n",
       "      <td>14.49%</td>\n",
       "      <td>564.56</td>\n",
       "      <td>C</td>\n",
       "      <td>C4</td>\n",
       "      <td>...</td>\n",
       "      <td>NaN</td>\n",
       "      <td>NaN</td>\n",
       "      <td>NaN</td>\n",
       "      <td>NaN</td>\n",
       "      <td>NaN</td>\n",
       "      <td>NaN</td>\n",
       "      <td>NaN</td>\n",
       "      <td>NaN</td>\n",
       "      <td>NaN</td>\n",
       "      <td>NaN</td>\n",
       "    </tr>\n",
       "    <tr>\n",
       "      <th>2854471</th>\n",
       "      <td>88215728</td>\n",
       "      <td>NaN</td>\n",
       "      <td>14000</td>\n",
       "      <td>14000</td>\n",
       "      <td>14000.0</td>\n",
       "      <td>60 months</td>\n",
       "      <td>14.49%</td>\n",
       "      <td>329.33</td>\n",
       "      <td>C</td>\n",
       "      <td>C4</td>\n",
       "      <td>...</td>\n",
       "      <td>NaN</td>\n",
       "      <td>NaN</td>\n",
       "      <td>NaN</td>\n",
       "      <td>NaN</td>\n",
       "      <td>NaN</td>\n",
       "      <td>NaN</td>\n",
       "      <td>NaN</td>\n",
       "      <td>NaN</td>\n",
       "      <td>NaN</td>\n",
       "      <td>NaN</td>\n",
       "    </tr>\n",
       "  </tbody>\n",
       "</table>\n",
       "<p>2854472 rows × 126 columns</p>\n",
       "</div>"
      ],
      "text/plain": [
       "                id  member_id  loan_amnt  funded_amnt  funded_amnt_inv  \\\n",
       "0        145217616        NaN      10000        10000          10000.0   \n",
       "1        145640422        NaN       2500         2500           2500.0   \n",
       "2        145630143        NaN      12000        12000          12000.0   \n",
       "3        145127870        NaN      15000        15000          14975.0   \n",
       "4        145558466        NaN      16000        16000          16000.0   \n",
       "...            ...        ...        ...          ...              ...   \n",
       "2854467   89885898        NaN      24000        24000          24000.0   \n",
       "2854468   88977788        NaN      24000        24000          24000.0   \n",
       "2854469   88985880        NaN      40000        40000          40000.0   \n",
       "2854470   88224441        NaN      24000        24000          24000.0   \n",
       "2854471   88215728        NaN      14000        14000          14000.0   \n",
       "\n",
       "               term int_rate  installment grade sub_grade  ...  \\\n",
       "0         36 months   10.33%       324.23     B        B1  ...   \n",
       "1         36 months   13.56%        84.92     C        C1  ...   \n",
       "2         60 months   13.56%       276.49     C        C1  ...   \n",
       "3         60 months   14.47%       352.69     C        C2  ...   \n",
       "4         60 months   17.97%       406.04     D        D1  ...   \n",
       "...             ...      ...          ...   ...       ...  ...   \n",
       "2854467   60 months   12.79%       543.50     C        C1  ...   \n",
       "2854468   60 months   10.49%       515.74     B        B3  ...   \n",
       "2854469   60 months   10.49%       859.56     B        B3  ...   \n",
       "2854470   60 months   14.49%       564.56     C        C4  ...   \n",
       "2854471   60 months   14.49%       329.33     C        C4  ...   \n",
       "\n",
       "        sec_app_fico_range_high sec_app_earliest_cr_line  \\\n",
       "0                           NaN                      NaN   \n",
       "1                           NaN                      NaN   \n",
       "2                           NaN                      NaN   \n",
       "3                         664.0                   Oct-99   \n",
       "4                           NaN                      NaN   \n",
       "...                         ...                      ...   \n",
       "2854467                     NaN                      NaN   \n",
       "2854468                     NaN                      NaN   \n",
       "2854469                     NaN                      NaN   \n",
       "2854470                     NaN                      NaN   \n",
       "2854471                     NaN                      NaN   \n",
       "\n",
       "        sec_app_inq_last_6mths  sec_app_mort_acc sec_app_open_acc  \\\n",
       "0                          NaN               NaN              NaN   \n",
       "1                          NaN               NaN              NaN   \n",
       "2                          NaN               NaN              NaN   \n",
       "3                          0.0               0.0             16.0   \n",
       "4                          NaN               NaN              NaN   \n",
       "...                        ...               ...              ...   \n",
       "2854467                    NaN               NaN              NaN   \n",
       "2854468                    NaN               NaN              NaN   \n",
       "2854469                    NaN               NaN              NaN   \n",
       "2854470                    NaN               NaN              NaN   \n",
       "2854471                    NaN               NaN              NaN   \n",
       "\n",
       "        sec_app_revol_util sec_app_num_rev_accts  \\\n",
       "0                      NaN                   NaN   \n",
       "1                      NaN                   NaN   \n",
       "2                      NaN                   NaN   \n",
       "3                     48.8                  15.0   \n",
       "4                      NaN                   NaN   \n",
       "...                    ...                   ...   \n",
       "2854467                NaN                   NaN   \n",
       "2854468                NaN                   NaN   \n",
       "2854469                NaN                   NaN   \n",
       "2854470                NaN                   NaN   \n",
       "2854471                NaN                   NaN   \n",
       "\n",
       "        sec_app_chargeoff_within_12_mths sec_app_collections_12_mths_ex_med  \\\n",
       "0                                    NaN                                NaN   \n",
       "1                                    NaN                                NaN   \n",
       "2                                    NaN                                NaN   \n",
       "3                                    0.0                                0.0   \n",
       "4                                    NaN                                NaN   \n",
       "...                                  ...                                ...   \n",
       "2854467                              NaN                                NaN   \n",
       "2854468                              NaN                                NaN   \n",
       "2854469                              NaN                                NaN   \n",
       "2854470                              NaN                                NaN   \n",
       "2854471                              NaN                                NaN   \n",
       "\n",
       "        sec_app_mths_since_last_major_derog  \n",
       "0                                       NaN  \n",
       "1                                       NaN  \n",
       "2                                       NaN  \n",
       "3                                       NaN  \n",
       "4                                       NaN  \n",
       "...                                     ...  \n",
       "2854467                                 NaN  \n",
       "2854468                                 NaN  \n",
       "2854469                                 NaN  \n",
       "2854470                                 NaN  \n",
       "2854471                                 NaN  \n",
       "\n",
       "[2854472 rows x 126 columns]"
      ]
     },
     "execution_count": 6,
     "metadata": {},
     "output_type": "execute_result"
    }
   ],
   "source": [
    "data = dfs[0][cols]\n",
    "for i in range(1, len(dfs)):\n",
    "    data = data.append(dfs[i][cols])\n",
    "\n",
    "data = data.reset_index(drop=True)"
   ]
  },
  {
   "cell_type": "code",
   "execution_count": null,
   "id": "together-inspector",
   "metadata": {},
   "outputs": [],
   "source": []
  },
  {
   "cell_type": "code",
   "execution_count": null,
   "id": "binary-boost",
   "metadata": {},
   "outputs": [],
   "source": []
  },
  {
   "cell_type": "code",
   "execution_count": null,
   "id": "sound-handling",
   "metadata": {},
   "outputs": [],
   "source": []
  },
  {
   "cell_type": "code",
   "execution_count": 2,
   "id": "humanitarian-floating",
   "metadata": {},
   "outputs": [],
   "source": [
    "# data for 2015: 128 columns\n",
    "data = pd.read_csv('data/raw/LoanStats3d_securev1.csv',skiprows=[0], low_memory=False)"
   ]
  },
  {
   "cell_type": "code",
   "execution_count": 3,
   "id": "needed-smith",
   "metadata": {
    "scrolled": false
   },
   "outputs": [
    {
     "data": {
      "text/html": [
       "<div>\n",
       "<style scoped>\n",
       "    .dataframe tbody tr th:only-of-type {\n",
       "        vertical-align: middle;\n",
       "    }\n",
       "\n",
       "    .dataframe tbody tr th {\n",
       "        vertical-align: top;\n",
       "    }\n",
       "\n",
       "    .dataframe thead th {\n",
       "        text-align: right;\n",
       "    }\n",
       "</style>\n",
       "<table border=\"1\" class=\"dataframe\">\n",
       "  <thead>\n",
       "    <tr style=\"text-align: right;\">\n",
       "      <th></th>\n",
       "      <th>id</th>\n",
       "      <th>member_id</th>\n",
       "      <th>loan_amnt</th>\n",
       "      <th>funded_amnt</th>\n",
       "      <th>funded_amnt_inv</th>\n",
       "      <th>term</th>\n",
       "      <th>int_rate</th>\n",
       "      <th>installment</th>\n",
       "      <th>grade</th>\n",
       "      <th>sub_grade</th>\n",
       "      <th>...</th>\n",
       "      <th>sec_app_earliest_cr_line</th>\n",
       "      <th>sec_app_inq_last_6mths</th>\n",
       "      <th>sec_app_mort_acc</th>\n",
       "      <th>sec_app_open_acc</th>\n",
       "      <th>sec_app_revol_util</th>\n",
       "      <th>sec_app_open_il_6m</th>\n",
       "      <th>sec_app_num_rev_accts</th>\n",
       "      <th>sec_app_chargeoff_within_12_mths</th>\n",
       "      <th>sec_app_collections_12_mths_ex_med</th>\n",
       "      <th>sec_app_mths_since_last_major_derog</th>\n",
       "    </tr>\n",
       "  </thead>\n",
       "  <tbody>\n",
       "    <tr>\n",
       "      <th>0</th>\n",
       "      <td>68407277</td>\n",
       "      <td>NaN</td>\n",
       "      <td>3600</td>\n",
       "      <td>3600</td>\n",
       "      <td>3600.0</td>\n",
       "      <td>36 months</td>\n",
       "      <td>13.99%</td>\n",
       "      <td>123.03</td>\n",
       "      <td>C</td>\n",
       "      <td>C4</td>\n",
       "      <td>...</td>\n",
       "      <td>NaN</td>\n",
       "      <td>NaN</td>\n",
       "      <td>NaN</td>\n",
       "      <td>NaN</td>\n",
       "      <td>NaN</td>\n",
       "      <td>NaN</td>\n",
       "      <td>NaN</td>\n",
       "      <td>NaN</td>\n",
       "      <td>NaN</td>\n",
       "      <td>NaN</td>\n",
       "    </tr>\n",
       "    <tr>\n",
       "      <th>1</th>\n",
       "      <td>66310712</td>\n",
       "      <td>NaN</td>\n",
       "      <td>35000</td>\n",
       "      <td>35000</td>\n",
       "      <td>35000.0</td>\n",
       "      <td>60 months</td>\n",
       "      <td>14.85%</td>\n",
       "      <td>829.90</td>\n",
       "      <td>C</td>\n",
       "      <td>C5</td>\n",
       "      <td>...</td>\n",
       "      <td>NaN</td>\n",
       "      <td>NaN</td>\n",
       "      <td>NaN</td>\n",
       "      <td>NaN</td>\n",
       "      <td>NaN</td>\n",
       "      <td>NaN</td>\n",
       "      <td>NaN</td>\n",
       "      <td>NaN</td>\n",
       "      <td>NaN</td>\n",
       "      <td>NaN</td>\n",
       "    </tr>\n",
       "    <tr>\n",
       "      <th>2</th>\n",
       "      <td>68566886</td>\n",
       "      <td>NaN</td>\n",
       "      <td>29900</td>\n",
       "      <td>29900</td>\n",
       "      <td>29900.0</td>\n",
       "      <td>60 months</td>\n",
       "      <td>12.88%</td>\n",
       "      <td>678.49</td>\n",
       "      <td>C</td>\n",
       "      <td>C2</td>\n",
       "      <td>...</td>\n",
       "      <td>NaN</td>\n",
       "      <td>NaN</td>\n",
       "      <td>NaN</td>\n",
       "      <td>NaN</td>\n",
       "      <td>NaN</td>\n",
       "      <td>NaN</td>\n",
       "      <td>NaN</td>\n",
       "      <td>NaN</td>\n",
       "      <td>NaN</td>\n",
       "      <td>NaN</td>\n",
       "    </tr>\n",
       "    <tr>\n",
       "      <th>3</th>\n",
       "      <td>68495092</td>\n",
       "      <td>NaN</td>\n",
       "      <td>8650</td>\n",
       "      <td>8650</td>\n",
       "      <td>8650.0</td>\n",
       "      <td>36 months</td>\n",
       "      <td>19.89%</td>\n",
       "      <td>320.99</td>\n",
       "      <td>E</td>\n",
       "      <td>E3</td>\n",
       "      <td>...</td>\n",
       "      <td>NaN</td>\n",
       "      <td>NaN</td>\n",
       "      <td>NaN</td>\n",
       "      <td>NaN</td>\n",
       "      <td>NaN</td>\n",
       "      <td>NaN</td>\n",
       "      <td>NaN</td>\n",
       "      <td>NaN</td>\n",
       "      <td>NaN</td>\n",
       "      <td>NaN</td>\n",
       "    </tr>\n",
       "    <tr>\n",
       "      <th>4</th>\n",
       "      <td>68577849</td>\n",
       "      <td>NaN</td>\n",
       "      <td>18000</td>\n",
       "      <td>18000</td>\n",
       "      <td>18000.0</td>\n",
       "      <td>60 months</td>\n",
       "      <td>11.99%</td>\n",
       "      <td>400.31</td>\n",
       "      <td>C</td>\n",
       "      <td>C1</td>\n",
       "      <td>...</td>\n",
       "      <td>NaN</td>\n",
       "      <td>NaN</td>\n",
       "      <td>NaN</td>\n",
       "      <td>NaN</td>\n",
       "      <td>NaN</td>\n",
       "      <td>NaN</td>\n",
       "      <td>NaN</td>\n",
       "      <td>NaN</td>\n",
       "      <td>NaN</td>\n",
       "      <td>NaN</td>\n",
       "    </tr>\n",
       "  </tbody>\n",
       "</table>\n",
       "<p>5 rows × 128 columns</p>\n",
       "</div>"
      ],
      "text/plain": [
       "         id  member_id  loan_amnt  funded_amnt  funded_amnt_inv        term  \\\n",
       "0  68407277        NaN       3600         3600           3600.0   36 months   \n",
       "1  66310712        NaN      35000        35000          35000.0   60 months   \n",
       "2  68566886        NaN      29900        29900          29900.0   60 months   \n",
       "3  68495092        NaN       8650         8650           8650.0   36 months   \n",
       "4  68577849        NaN      18000        18000          18000.0   60 months   \n",
       "\n",
       "  int_rate  installment grade sub_grade  ... sec_app_earliest_cr_line  \\\n",
       "0   13.99%       123.03     C        C4  ...                      NaN   \n",
       "1   14.85%       829.90     C        C5  ...                      NaN   \n",
       "2   12.88%       678.49     C        C2  ...                      NaN   \n",
       "3   19.89%       320.99     E        E3  ...                      NaN   \n",
       "4   11.99%       400.31     C        C1  ...                      NaN   \n",
       "\n",
       "  sec_app_inq_last_6mths sec_app_mort_acc  sec_app_open_acc  \\\n",
       "0                    NaN              NaN               NaN   \n",
       "1                    NaN              NaN               NaN   \n",
       "2                    NaN              NaN               NaN   \n",
       "3                    NaN              NaN               NaN   \n",
       "4                    NaN              NaN               NaN   \n",
       "\n",
       "  sec_app_revol_util sec_app_open_il_6m sec_app_num_rev_accts  \\\n",
       "0                NaN                NaN                   NaN   \n",
       "1                NaN                NaN                   NaN   \n",
       "2                NaN                NaN                   NaN   \n",
       "3                NaN                NaN                   NaN   \n",
       "4                NaN                NaN                   NaN   \n",
       "\n",
       "  sec_app_chargeoff_within_12_mths sec_app_collections_12_mths_ex_med  \\\n",
       "0                              NaN                                NaN   \n",
       "1                              NaN                                NaN   \n",
       "2                              NaN                                NaN   \n",
       "3                              NaN                                NaN   \n",
       "4                              NaN                                NaN   \n",
       "\n",
       "  sec_app_mths_since_last_major_derog  \n",
       "0                                 NaN  \n",
       "1                                 NaN  \n",
       "2                                 NaN  \n",
       "3                                 NaN  \n",
       "4                                 NaN  \n",
       "\n",
       "[5 rows x 128 columns]"
      ]
     },
     "execution_count": 3,
     "metadata": {},
     "output_type": "execute_result"
    }
   ],
   "source": [
    "data.head()"
   ]
  },
  {
   "cell_type": "code",
   "execution_count": 7,
   "id": "presidential-custody",
   "metadata": {},
   "outputs": [
    {
     "data": {
      "text/plain": [
       "Current               2086919\n",
       "Fully Paid             552459\n",
       "Charged Off            131231\n",
       "Late (31-120 days)      32304\n",
       "In Grace Period         22089\n",
       "Issued                  21294\n",
       "Late (16-30 days)        8147\n",
       "Default                    29\n",
       "Name: loan_status, dtype: int64"
      ]
     },
     "execution_count": 7,
     "metadata": {},
     "output_type": "execute_result"
    }
   ],
   "source": [
    "data['loan_status'].value_counts()"
   ]
  },
  {
   "cell_type": "code",
   "execution_count": 8,
   "id": "necessary-cliff",
   "metadata": {},
   "outputs": [],
   "source": [
    "data = data[data['loan_status'].str.lower().isin(['fully paid', 'charged off'])]"
   ]
  },
  {
   "cell_type": "code",
   "execution_count": 9,
   "id": "operating-pencil",
   "metadata": {},
   "outputs": [
    {
     "data": {
      "text/plain": [
       "INDIVIDUAL    595373\n",
       "Individual     77967\n",
       "Joint App       8214\n",
       "JOINT           1411\n",
       "DIRECT_PAY       725\n",
       "Name: application_type, dtype: int64"
      ]
     },
     "execution_count": 9,
     "metadata": {},
     "output_type": "execute_result"
    }
   ],
   "source": [
    "data['application_type'].value_counts()"
   ]
  },
  {
   "cell_type": "code",
   "execution_count": 10,
   "id": "communist-messenger",
   "metadata": {},
   "outputs": [],
   "source": [
    "data = data[data['application_type'].str.lower()=='individual']"
   ]
  },
  {
   "cell_type": "code",
   "execution_count": 11,
   "id": "sealed-hughes",
   "metadata": {},
   "outputs": [
    {
     "data": {
      "text/plain": [
       "673340"
      ]
     },
     "execution_count": 11,
     "metadata": {},
     "output_type": "execute_result"
    }
   ],
   "source": [
    "data.shape[0]"
   ]
  },
  {
   "cell_type": "code",
   "execution_count": 13,
   "id": "lesbian-stopping",
   "metadata": {},
   "outputs": [],
   "source": [
    "# (data['open_il_6m'][data['open_il_6m'].isnull() == False]).sum()"
   ]
  },
  {
   "cell_type": "code",
   "execution_count": 14,
   "id": "infrared-ridge",
   "metadata": {
    "scrolled": true
   },
   "outputs": [
    {
     "data": {
      "text/plain": [
       "member_id                              1.000000\n",
       "desc                                   0.864689\n",
       "mths_since_last_delinq                 0.515172\n",
       "mths_since_last_record                 0.838423\n",
       "next_pymnt_d                           1.000000\n",
       "mths_since_last_major_derog            0.743672\n",
       "annual_inc_joint                       1.000000\n",
       "dti_joint                              1.000000\n",
       "verification_status_joint              1.000000\n",
       "open_acc_6m                            0.752694\n",
       "open_il_12m                            0.752693\n",
       "open_il_24m                            0.752693\n",
       "mths_since_rcnt_il                     0.758284\n",
       "total_bal_il                           0.752693\n",
       "il_util                                0.786271\n",
       "open_rv_12m                            0.752693\n",
       "open_rv_24m                            0.752693\n",
       "max_bal_bc                             0.752693\n",
       "all_util                               0.752730\n",
       "inq_fi                                 0.752693\n",
       "total_cu_tl                            0.752694\n",
       "inq_last_12m                           0.752694\n",
       "mths_since_recent_bc_dlq               0.762184\n",
       "mths_since_recent_revol_delinq         0.665093\n",
       "revol_bal_joint                        1.000000\n",
       "sec_app_fico_range_low                 1.000000\n",
       "sec_app_fico_range_high                1.000000\n",
       "sec_app_earliest_cr_line               1.000000\n",
       "sec_app_inq_last_6mths                 1.000000\n",
       "sec_app_mort_acc                       1.000000\n",
       "sec_app_open_acc                       1.000000\n",
       "sec_app_revol_util                     1.000000\n",
       "sec_app_num_rev_accts                  1.000000\n",
       "sec_app_chargeoff_within_12_mths       1.000000\n",
       "sec_app_collections_12_mths_ex_med     1.000000\n",
       "sec_app_mths_since_last_major_derog    1.000000\n",
       "dtype: float64"
      ]
     },
     "execution_count": 14,
     "metadata": {},
     "output_type": "execute_result"
    }
   ],
   "source": [
    "# Columns with missing data\n",
    "\n",
    "data[data.columns[data.isnull().sum()/data.shape[0] > .2]].isnull().sum()/data.shape[0]"
   ]
  },
  {
   "cell_type": "code",
   "execution_count": 16,
   "id": "important-advancement",
   "metadata": {},
   "outputs": [],
   "source": [
    "drop = ['member_id', \n",
    "        'desc', 'next_pymnt_d', 'annual_inc_joint', 'dti_joint', 'verification_status_joint', \n",
    "        'revol_bal_joint', 'sec_app_fico_range_low', \n",
    "        'sec_app_fico_range_high',\n",
    "        'sec_app_earliest_cr_line', \n",
    "        'sec_app_inq_last_6mths',\n",
    "        'sec_app_mort_acc', \n",
    "        'sec_app_open_acc',\n",
    "        'sec_app_revol_util',\n",
    "#         'sec_app_open_il_6m', \n",
    "        'sec_app_num_rev_accts',\n",
    "        'sec_app_chargeoff_within_12_mths',\n",
    "        'sec_app_collections_12_mths_ex_med',\n",
    "        'sec_app_mths_since_last_major_derog',\n",
    "        'funded_amnt_inv', \n",
    "        'grade',\n",
    "        'emp_title', \n",
    "        'emp_length',\n",
    "        'pymnt_plan',\n",
    "        'url',\n",
    "        'title',\n",
    "        'zip_code',\n",
    "        'addr_state',\n",
    "        'earliest_cr_line',\n",
    "        'fico_range_high',\n",
    "        'initial_list_status',\n",
    "        'out_prncp',\n",
    "        'out_prncp_inv',\n",
    "        'total_pymnt',\n",
    "        'total_pymnt_inv',\n",
    "        'total_rec_prncp',\n",
    "        'total_rec_int',\n",
    "        'total_rec_late_fee',\n",
    "        'recoveries',\n",
    "        'collection_recovery_fee',\n",
    "        'last_credit_pull_d', \n",
    "        'last_pymnt_d',\n",
    "        'last_pymnt_amnt',\n",
    "        'next_pymnt_d',\n",
    "        'acc_now_delinq',\n",
    "        'tot_coll_amt',\n",
    "        'tot_cur_bal',\n",
    "        'delinq_amnt' \n",
    "       ]\n",
    "data = data.drop(drop, axis=1)"
   ]
  },
  {
   "cell_type": "code",
   "execution_count": 17,
   "id": "cardiovascular-colorado",
   "metadata": {},
   "outputs": [
    {
     "data": {
      "text/plain": [
       "array(['credit_card', 'debt_consolidation', 'other', 'house',\n",
       "       'small_business', 'moving', 'home_improvement', 'car', 'vacation',\n",
       "       'medical', 'major_purchase', 'renewable_energy', 'wedding',\n",
       "       'educational'], dtype=object)"
      ]
     },
     "execution_count": 17,
     "metadata": {},
     "output_type": "execute_result"
    }
   ],
   "source": [
    "data.purpose.unique()"
   ]
  },
  {
   "cell_type": "code",
   "execution_count": 18,
   "id": "confused-differential",
   "metadata": {},
   "outputs": [
    {
     "data": {
      "text/plain": [
       "array([' 36 months', ' 60 months'], dtype=object)"
      ]
     },
     "execution_count": 18,
     "metadata": {},
     "output_type": "execute_result"
    }
   ],
   "source": [
    "data.term.unique()"
   ]
  },
  {
   "cell_type": "code",
   "execution_count": 19,
   "id": "valuable-operation",
   "metadata": {},
   "outputs": [],
   "source": [
    "terms = {' 60 months': 60, ' 36 months': 36}\n",
    "data['term'] = data['term'].apply(lambda x: terms[x])"
   ]
  },
  {
   "cell_type": "code",
   "execution_count": 20,
   "id": "expected-inquiry",
   "metadata": {},
   "outputs": [],
   "source": [
    "def convert_pct(x):\n",
    "    \"\"\"\n",
    "    Converts string with % to a float, handles 'None's.\n",
    "    \"\"\"\n",
    "    if x is None or pd.isnull(x):\n",
    "        return None\n",
    "    return float(re.sub('%', '', x))"
   ]
  },
  {
   "cell_type": "code",
   "execution_count": 21,
   "id": "secure-beatles",
   "metadata": {
    "scrolled": true
   },
   "outputs": [],
   "source": [
    "percent = ['revol_util', 'int_rate']\n",
    "for p in percent:\n",
    "    data[p] = data[p].apply(convert_pct)"
   ]
  },
  {
   "cell_type": "code",
   "execution_count": 22,
   "id": "warming-season",
   "metadata": {},
   "outputs": [
    {
     "name": "stdout",
     "output_type": "stream",
     "text": [
      "'inq_last_6mths': number of missing values '1' ==> '0.000%'\n",
      "'mths_since_last_delinq': number of missing values '346886' ==> '51.517%'\n",
      "'mths_since_last_record': number of missing values '564544' ==> '83.842%'\n",
      "'revol_util': number of missing values '434' ==> '0.064%'\n",
      "'mths_since_last_major_derog': number of missing values '500744' ==> '74.367%'\n",
      "'open_acc_6m': number of missing values '506819' ==> '75.269%'\n",
      "'open_il_12m': number of missing values '506818' ==> '75.269%'\n",
      "'open_il_24m': number of missing values '506818' ==> '75.269%'\n",
      "'mths_since_rcnt_il': number of missing values '510583' ==> '75.828%'\n",
      "'total_bal_il': number of missing values '506818' ==> '75.269%'\n",
      "'il_util': number of missing values '529428' ==> '78.627%'\n",
      "'open_rv_12m': number of missing values '506818' ==> '75.269%'\n",
      "'open_rv_24m': number of missing values '506818' ==> '75.269%'\n",
      "'max_bal_bc': number of missing values '506818' ==> '75.269%'\n",
      "'all_util': number of missing values '506843' ==> '75.273%'\n",
      "'total_rev_hi_lim': number of missing values '27444' ==> '4.076%'\n",
      "'inq_fi': number of missing values '506818' ==> '75.269%'\n",
      "'total_cu_tl': number of missing values '506819' ==> '75.269%'\n",
      "'inq_last_12m': number of missing values '506819' ==> '75.269%'\n",
      "'acc_open_past_24mths': number of missing values '7494' ==> '1.113%'\n",
      "'avg_cur_bal': number of missing values '27463' ==> '4.079%'\n",
      "'bc_open_to_buy': number of missing values '14570' ==> '2.164%'\n",
      "'bc_util': number of missing values '15001' ==> '2.228%'\n",
      "'mo_sin_old_il_acct': number of missing values '46286' ==> '6.874%'\n",
      "'mo_sin_old_rev_tl_op': number of missing values '27445' ==> '4.076%'\n",
      "'mo_sin_rcnt_rev_tl_op': number of missing values '27445' ==> '4.076%'\n",
      "'mo_sin_rcnt_tl': number of missing values '27444' ==> '4.076%'\n",
      "'mort_acc': number of missing values '7494' ==> '1.113%'\n",
      "'mths_since_recent_bc': number of missing values '14016' ==> '2.082%'\n",
      "'mths_since_recent_bc_dlq': number of missing values '513209' ==> '76.218%'\n",
      "'mths_since_recent_inq': number of missing values '66954' ==> '9.944%'\n",
      "'mths_since_recent_revol_delinq': number of missing values '447834' ==> '66.509%'\n",
      "'num_accts_ever_120_pd': number of missing values '27444' ==> '4.076%'\n",
      "'num_actv_bc_tl': number of missing values '27444' ==> '4.076%'\n",
      "'num_actv_rev_tl': number of missing values '27444' ==> '4.076%'\n",
      "'num_bc_sats': number of missing values '16039' ==> '2.382%'\n",
      "'num_bc_tl': number of missing values '27444' ==> '4.076%'\n",
      "'num_il_tl': number of missing values '27444' ==> '4.076%'\n",
      "'num_op_rev_tl': number of missing values '27444' ==> '4.076%'\n",
      "'num_rev_accts': number of missing values '27445' ==> '4.076%'\n",
      "'num_rev_tl_bal_gt_0': number of missing values '27444' ==> '4.076%'\n",
      "'num_sats': number of missing values '16039' ==> '2.382%'\n",
      "'num_tl_120dpd_2m': number of missing values '48428' ==> '7.192%'\n",
      "'num_tl_30dpd': number of missing values '27444' ==> '4.076%'\n",
      "'num_tl_90g_dpd_24m': number of missing values '27444' ==> '4.076%'\n",
      "'num_tl_op_past_12m': number of missing values '27444' ==> '4.076%'\n",
      "'pct_tl_nvr_dlq': number of missing values '27576' ==> '4.095%'\n",
      "'percent_bc_gt_75': number of missing values '14796' ==> '2.197%'\n",
      "'tot_hi_cred_lim': number of missing values '27444' ==> '4.076%'\n",
      "'total_bal_ex_mort': number of missing values '7494' ==> '1.113%'\n",
      "'total_bc_limit': number of missing values '7494' ==> '1.113%'\n",
      "'total_il_high_credit_limit': number of missing values '27444' ==> '4.076%'\n"
     ]
    }
   ],
   "source": [
    "# Missing values\n",
    "for column in data.columns:\n",
    "    if data[column].isna().sum() != 0:\n",
    "        missing = data[column].isna().sum()\n",
    "        portion = (missing / data.shape[0]) * 100\n",
    "        print(f\"'{column}': number of missing values '{missing}' ==> '{portion:.3f}%'\")"
   ]
  },
  {
   "cell_type": "code",
   "execution_count": 23,
   "id": "objective-battle",
   "metadata": {},
   "outputs": [
    {
     "data": {
      "text/plain": [
       "<AxesSubplot:>"
      ]
     },
     "execution_count": 23,
     "metadata": {},
     "output_type": "execute_result"
    },
    {
     "data": {
      "image/png": "[encoded data removed]",
      "text/plain": [
       "<Figure size 432x288 with 1 Axes>"
      ]
     },
     "metadata": {
      "needs_background": "light"
     },
     "output_type": "display_data"
    }
   ],
   "source": [
    "fig, ax = plt.subplots()\n",
    "\n",
    "data[data['mths_since_last_major_derog'].isna()]['loan_status'].hist(ax = ax, alpha=.5, color='blue')\n",
    "data[~data['mths_since_last_major_derog'].isna()]['loan_status'].hist(ax = ax, alpha=.5, color='green')"
   ]
  },
  {
   "cell_type": "code",
   "execution_count": 24,
   "id": "derived-cookie",
   "metadata": {},
   "outputs": [
    {
     "data": {
      "text/plain": [
       "<AxesSubplot:>"
      ]
     },
     "execution_count": 24,
     "metadata": {},
     "output_type": "execute_result"
    },
    {
     "data": {
      "image/png": "[encoded data removed]",
      "text/plain": [
       "<Figure size 432x288 with 1 Axes>"
      ]
     },
     "metadata": {
      "needs_background": "light"
     },
     "output_type": "display_data"
    }
   ],
   "source": [
    "data['mths_since_last_major_derog'].hist(bins = 50)"
   ]
  },
  {
   "cell_type": "code",
   "execution_count": 25,
   "id": "entertaining-daily",
   "metadata": {
    "scrolled": false
   },
   "outputs": [
    {
     "data": {
      "text/plain": [
       "array(['Dec-18', 'Nov-18', 'Oct-18', 'Dec-13', 'Nov-13', 'Oct-13',\n",
       "       'Sep-13', 'Aug-13', 'Jul-13', 'Jun-13', 'May-13', 'Apr-13',\n",
       "       'Mar-13', 'Feb-13', 'Jan-13', 'Dec-12', 'Nov-12', 'Oct-12',\n",
       "       'Sep-12', 'Aug-12', 'Jul-12', 'Jun-12', 'May-12', 'Apr-12',\n",
       "       'Mar-12', 'Feb-12', 'Jan-12', 'Dec-14', 'Nov-14', 'Oct-14',\n",
       "       'Sep-14', 'Aug-14', 'Jul-14', 'Jun-14', 'May-14', 'Apr-14',\n",
       "       'Mar-14', 'Feb-14', 'Jan-14', 'Dec-15', 'Nov-15', 'Oct-15',\n",
       "       'Sep-15', 'Aug-15', 'Jul-15', 'Jun-15', 'May-15', 'Apr-15',\n",
       "       'Mar-15', 'Feb-15', 'Jan-15', 'Jun-18', 'May-18', 'Apr-18',\n",
       "       'Sep-18', 'Aug-18', 'Jul-18', 'Mar-18', 'Feb-18', 'Jan-18',\n",
       "       'Jun-20', 'May-20', 'Apr-20', 'Dec-19', 'Nov-19', 'Oct-19',\n",
       "       '20-Mar', '20-Feb', '20-Jan', 'Mar-19', 'Feb-19', 'Jan-19',\n",
       "       '19-Jun', '19-May', '19-Apr', '19-Sep', '19-Aug', '19-Jul',\n",
       "       'Mar-17', 'Feb-17', 'Jan-17', 'Jun-17', 'May-17', 'Apr-17',\n",
       "       'Sep-17', 'Aug-17', 'Jul-17', 'Dec-17', 'Nov-17', 'Oct-17',\n",
       "       'Jun-16', 'May-16', 'Apr-16', '16-Sep', '16-Aug', '16-Jul',\n",
       "       'Mar-16', 'Feb-16', 'Jan-16', 'Dec-16', 'Nov-16', 'Oct-16'],\n",
       "      dtype=object)"
      ]
     },
     "execution_count": 25,
     "metadata": {},
     "output_type": "execute_result"
    }
   ],
   "source": [
    "data['issue_d'].unique()"
   ]
  },
  {
   "cell_type": "code",
   "execution_count": 26,
   "id": "russian-worse",
   "metadata": {},
   "outputs": [
    {
     "data": {
      "text/plain": [
       "array(['Dec-18', 'Nov-18', 'Oct-18', 'Dec-15', 'Jun-18', 'May-18',\n",
       "       'Apr-18', 'Sep-18', 'Aug-18', 'Jul-18', 'Mar-18', 'Feb-18',\n",
       "       'Jan-18', 'Jun-20', 'May-20', 'Apr-20', 'Dec-19', 'Nov-19',\n",
       "       'Oct-19', '20-Mar', '20-Feb', '20-Jan', 'Mar-19', 'Feb-19',\n",
       "       'Jan-19', '19-Jun', '19-May', '19-Apr', '19-Sep', '19-Aug',\n",
       "       '19-Jul', 'Mar-17', 'Feb-17', 'Jan-17', 'Jun-17', 'May-17',\n",
       "       'Apr-17', 'Sep-17', 'Aug-17', 'Jul-17', 'Dec-17', 'Nov-17',\n",
       "       'Oct-17', 'Jun-16', 'May-16', 'Apr-16', '16-Sep', '16-Aug',\n",
       "       '16-Jul', 'Mar-16', 'Feb-16', 'Jan-16', 'Dec-16', 'Nov-16',\n",
       "       'Oct-16'], dtype=object)"
      ]
     },
     "execution_count": 26,
     "metadata": {},
     "output_type": "execute_result"
    }
   ],
   "source": [
    "data[~data['open_acc_6m'].isna()]['issue_d'].unique()"
   ]
  },
  {
   "cell_type": "code",
   "execution_count": 27,
   "id": "grand-advantage",
   "metadata": {},
   "outputs": [
    {
     "name": "stdout",
     "output_type": "stream",
     "text": [
      "<class 'pandas.core.frame.DataFrame'>\n",
      "Int64Index: 673340 entries, 126 to 103532\n",
      "Data columns (total 80 columns):\n",
      " #   Column                          Non-Null Count   Dtype  \n",
      "---  ------                          --------------   -----  \n",
      " 0   id                              673340 non-null  int64  \n",
      " 1   loan_amnt                       673340 non-null  int64  \n",
      " 2   funded_amnt                     673340 non-null  int64  \n",
      " 3   term                            673340 non-null  int64  \n",
      " 4   int_rate                        673340 non-null  float64\n",
      " 5   installment                     673340 non-null  float64\n",
      " 6   sub_grade                       673340 non-null  object \n",
      " 7   home_ownership                  673340 non-null  object \n",
      " 8   annual_inc                      673340 non-null  float64\n",
      " 9   verification_status             673340 non-null  object \n",
      " 10  issue_d                         673340 non-null  object \n",
      " 11  loan_status                     673340 non-null  object \n",
      " 12  purpose                         673340 non-null  object \n",
      " 13  dti                             673340 non-null  float64\n",
      " 14  delinq_2yrs                     673340 non-null  int64  \n",
      " 15  fico_range_low                  673340 non-null  int64  \n",
      " 16  inq_last_6mths                  673339 non-null  float64\n",
      " 17  mths_since_last_delinq          326454 non-null  float64\n",
      " 18  mths_since_last_record          108796 non-null  float64\n",
      " 19  open_acc                        673340 non-null  int64  \n",
      " 20  pub_rec                         673340 non-null  int64  \n",
      " 21  revol_bal                       673340 non-null  int64  \n",
      " 22  revol_util                      672906 non-null  float64\n",
      " 23  total_acc                       673340 non-null  int64  \n",
      " 24  last_fico_range_high            673340 non-null  int64  \n",
      " 25  last_fico_range_low             673340 non-null  int64  \n",
      " 26  collections_12_mths_ex_med      673340 non-null  int64  \n",
      " 27  mths_since_last_major_derog     172596 non-null  float64\n",
      " 28  policy_code                     673340 non-null  int64  \n",
      " 29  application_type                673340 non-null  object \n",
      " 30  open_acc_6m                     166521 non-null  float64\n",
      " 31  open_il_12m                     166522 non-null  float64\n",
      " 32  open_il_24m                     166522 non-null  float64\n",
      " 33  mths_since_rcnt_il              162757 non-null  float64\n",
      " 34  total_bal_il                    166522 non-null  float64\n",
      " 35  il_util                         143912 non-null  float64\n",
      " 36  open_rv_12m                     166522 non-null  float64\n",
      " 37  open_rv_24m                     166522 non-null  float64\n",
      " 38  max_bal_bc                      166522 non-null  float64\n",
      " 39  all_util                        166497 non-null  float64\n",
      " 40  total_rev_hi_lim                645896 non-null  float64\n",
      " 41  inq_fi                          166522 non-null  float64\n",
      " 42  total_cu_tl                     166521 non-null  float64\n",
      " 43  inq_last_12m                    166521 non-null  float64\n",
      " 44  acc_open_past_24mths            665846 non-null  float64\n",
      " 45  avg_cur_bal                     645877 non-null  float64\n",
      " 46  bc_open_to_buy                  658770 non-null  float64\n",
      " 47  bc_util                         658339 non-null  float64\n",
      " 48  chargeoff_within_12_mths        673340 non-null  int64  \n",
      " 49  mo_sin_old_il_acct              627054 non-null  float64\n",
      " 50  mo_sin_old_rev_tl_op            645895 non-null  float64\n",
      " 51  mo_sin_rcnt_rev_tl_op           645895 non-null  float64\n",
      " 52  mo_sin_rcnt_tl                  645896 non-null  float64\n",
      " 53  mort_acc                        665846 non-null  float64\n",
      " 54  mths_since_recent_bc            659324 non-null  float64\n",
      " 55  mths_since_recent_bc_dlq        160131 non-null  float64\n",
      " 56  mths_since_recent_inq           606386 non-null  float64\n",
      " 57  mths_since_recent_revol_delinq  225506 non-null  float64\n",
      " 58  num_accts_ever_120_pd           645896 non-null  float64\n",
      " 59  num_actv_bc_tl                  645896 non-null  float64\n",
      " 60  num_actv_rev_tl                 645896 non-null  float64\n",
      " 61  num_bc_sats                     657301 non-null  float64\n",
      " 62  num_bc_tl                       645896 non-null  float64\n",
      " 63  num_il_tl                       645896 non-null  float64\n",
      " 64  num_op_rev_tl                   645896 non-null  float64\n",
      " 65  num_rev_accts                   645895 non-null  float64\n",
      " 66  num_rev_tl_bal_gt_0             645896 non-null  float64\n",
      " 67  num_sats                        657301 non-null  float64\n",
      " 68  num_tl_120dpd_2m                624912 non-null  float64\n",
      " 69  num_tl_30dpd                    645896 non-null  float64\n",
      " 70  num_tl_90g_dpd_24m              645896 non-null  float64\n",
      " 71  num_tl_op_past_12m              645896 non-null  float64\n",
      " 72  pct_tl_nvr_dlq                  645764 non-null  float64\n",
      " 73  percent_bc_gt_75                658544 non-null  float64\n",
      " 74  pub_rec_bankruptcies            673340 non-null  int64  \n",
      " 75  tax_liens                       673340 non-null  int64  \n",
      " 76  tot_hi_cred_lim                 645896 non-null  float64\n",
      " 77  total_bal_ex_mort               665846 non-null  float64\n",
      " 78  total_bc_limit                  665846 non-null  float64\n",
      " 79  total_il_high_credit_limit      645896 non-null  float64\n",
      "dtypes: float64(56), int64(17), object(7)\n",
      "memory usage: 416.1+ MB\n"
     ]
    }
   ],
   "source": [
    "data.info()"
   ]
  },
  {
   "cell_type": "code",
   "execution_count": 29,
   "id": "furnished-suite",
   "metadata": {},
   "outputs": [],
   "source": [
    "drop = [\n",
    "#     'last_credit_pull_d', \n",
    "    'application_type', \n",
    "    'issue_d', \n",
    "    'id']\n",
    "data = data.drop(drop, axis=1)"
   ]
  },
  {
   "cell_type": "code",
   "execution_count": 30,
   "id": "attractive-agriculture",
   "metadata": {},
   "outputs": [],
   "source": [
    "X = data.drop('loan_status', axis=1)\n",
    "y = data['loan_status']"
   ]
  },
  {
   "cell_type": "code",
   "execution_count": 31,
   "id": "fuzzy-title",
   "metadata": {},
   "outputs": [],
   "source": [
    "X.fillna(value=0.0, inplace=True)"
   ]
  },
  {
   "cell_type": "code",
   "execution_count": 32,
   "id": "insured-climate",
   "metadata": {},
   "outputs": [],
   "source": [
    "y = y.apply(lambda x: 1 if x=='Charged Off' else 0)"
   ]
  },
  {
   "cell_type": "code",
   "execution_count": 33,
   "id": "eleven-noise",
   "metadata": {},
   "outputs": [],
   "source": [
    "dummies = ['sub_grade', 'verification_status', 'purpose','home_ownership']\n",
    "X = pd.get_dummies(X, columns=dummies, drop_first=True)"
   ]
  },
  {
   "cell_type": "code",
   "execution_count": 34,
   "id": "annoying-toilet",
   "metadata": {},
   "outputs": [],
   "source": [
    "# data['earliest_cr_line'] = data.earliest_cr_line.str.split('-', expand=True)[1]"
   ]
  },
  {
   "cell_type": "code",
   "execution_count": 35,
   "id": "spatial-complement",
   "metadata": {},
   "outputs": [],
   "source": [
    "from sklearn.model_selection import train_test_split\n",
    "from sklearn.ensemble import RandomForestClassifier\n",
    "from sklearn.ensemble import GradientBoostingClassifier\n",
    "\n",
    "from sklearn.metrics import recall_score, precision_score"
   ]
  },
  {
   "cell_type": "code",
   "execution_count": 36,
   "id": "continuous-gender",
   "metadata": {},
   "outputs": [],
   "source": [
    "X_train, X_test, y_train, y_test = train_test_split(X,y)"
   ]
  },
  {
   "cell_type": "code",
   "execution_count": 37,
   "id": "unable-virgin",
   "metadata": {},
   "outputs": [
    {
     "name": "stdout",
     "output_type": "stream",
     "text": [
      "Recall: 0.82068560477265\n",
      "Precision: 0.8054240990171095\n"
     ]
    }
   ],
   "source": [
    "rf_model = RandomForestClassifier()\n",
    "rf_model.fit(X_train, y_train)\n",
    "recall = recall_score(y_test, rf_model.predict(X_test))\n",
    "precision = precision_score(y_test, rf_model.predict(X_test))\n",
    "print(f'Recall: {recall}\\nPrecision: {precision}')"
   ]
  },
  {
   "cell_type": "code",
   "execution_count": 38,
   "id": "charged-aberdeen",
   "metadata": {},
   "outputs": [
    {
     "name": "stdout",
     "output_type": "stream",
     "text": [
      "Recall: 0.82068560477265\n",
      "Precision: 0.8054240990171095\n"
     ]
    }
   ],
   "source": [
    "gb_model = GradientBoostingClassifier()\n",
    "gb_model.fit(X_train, y_train)\n",
    "recall = recall_score(y_test, rf_model.predict(X_test))\n",
    "precision = precision_score(y_test, rf_model.predict(X_test))\n",
    "print(f'Recall: {recall}\\nPrecision: {precision}')"
   ]
  },
  {
   "cell_type": "code",
   "execution_count": 48,
   "id": "second-bench",
   "metadata": {},
   "outputs": [
    {
     "name": "stdout",
     "output_type": "stream",
     "text": [
      "Recall: 0.8295879570956075\n",
      "Precision: 0.7997020262216925\n"
     ]
    }
   ],
   "source": [
    "recall = recall_score(y_test, gb_model.predict(X_test))\n",
    "precision = precision_score(y_test, gb_model.predict(X_test))\n",
    "print(f'Recall: {recall}\\nPrecision: {precision}')"
   ]
  },
  {
   "cell_type": "code",
   "execution_count": 39,
   "id": "statutory-southeast",
   "metadata": {},
   "outputs": [],
   "source": [
    "def calculate_threshold_values(prob, y):\n",
    "    '''\n",
    "    Build dataframe of the various confusion-matrix ratios by threshold\n",
    "    from a list of predicted probabilities and actual y values\n",
    "    '''\n",
    "    df = pd.DataFrame({'prob': prob, 'y': y})\n",
    "    df.sort_values('prob', inplace=True)\n",
    "    \n",
    "    actual_p = df.y.sum()\n",
    "    actual_n = df.shape[0] - df.y.sum()\n",
    "\n",
    "    df['tn'] = (df.y == 0).cumsum()\n",
    "    df['fn'] = df.y.cumsum()\n",
    "    df['fp'] = actual_n - df.tn\n",
    "    df['tp'] = actual_p - df.fn\n",
    "\n",
    "    df['fpr'] = df.fp/(df.fp + df.tn)\n",
    "    df['tpr'] = df.tp/(df.tp + df.fn)\n",
    "    df['precision'] = df.tp/(df.tp + df.fp)\n",
    "    df = df.reset_index(drop=True)\n",
    "    return df\n",
    "    \n",
    "def plot_roc(ax, df):\n",
    "    ax.plot([1]+list(df.fpr), [1]+list(df.tpr), label=\"ROC\")\n",
    "    ax.plot([0,1],[0,1], 'k', label=\"random\")\n",
    "    ax.set_xlabel('fpr')\n",
    "    ax.set_ylabel('tpr')\n",
    "    ax.set_title('ROC Curve')\n",
    "    ax.legend()\n",
    "    \n",
    "def plot_precision_recall(ax, df):\n",
    "    ax.plot(df.tpr,df.precision, label='precision/recall')\n",
    "    #ax.plot([0,1],[0,1], 'k')\n",
    "    ax.set_xlabel('recall')\n",
    "    ax.set_ylabel('precision')\n",
    "    ax.set_title('Precision/Recall Curve')\n",
    "    ax.plot([0,1],[df.precision[0],df.precision[0]], 'k', label='random')\n",
    "    ax.set_xlim(left=0,right=1)\n",
    "    ax.set_ylim(bottom=0,top=1)"
   ]
  },
  {
   "cell_type": "code",
   "execution_count": 59,
   "id": "ceramic-cache",
   "metadata": {},
   "outputs": [
    {
     "data": {
      "image/png": "[encoded data removed]",
      "text/plain": [
       "<Figure size 864x432 with 2 Axes>"
      ]
     },
     "metadata": {
      "needs_background": "light"
     },
     "output_type": "display_data"
    }
   ],
   "source": [
    "fig, (ax0, ax1) = plt.subplots(1,2, figsize=(12,6))\n",
    "df = calculate_threshold_values(rf_model.predict_proba(X_test)[:,1], y_test)\n",
    "plot_roc(ax0, df)\n",
    "plot_precision_recall(ax1, df)"
   ]
  },
  {
   "cell_type": "code",
   "execution_count": 65,
   "id": "joint-expansion",
   "metadata": {},
   "outputs": [],
   "source": [
    "probabilities = rf_model.predict_proba(X_test)"
   ]
  },
  {
   "cell_type": "code",
   "execution_count": 69,
   "id": "bacterial-humanity",
   "metadata": {},
   "outputs": [
    {
     "data": {
      "image/png": "[encoded data removed]",
      "text/plain": [
       "<Figure size 432x288 with 1 Axes>"
      ]
     },
     "metadata": {
      "needs_background": "light"
     },
     "output_type": "display_data"
    }
   ],
   "source": [
    "fig, ax = plt.subplots()\n",
    "ax.hist(probabilities[:,1], bins=50);"
   ]
  },
  {
   "cell_type": "code",
   "execution_count": 62,
   "id": "likely-qualification",
   "metadata": {},
   "outputs": [
    {
     "data": {
      "text/plain": [
       "32964"
      ]
     },
     "execution_count": 62,
     "metadata": {},
     "output_type": "execute_result"
    }
   ],
   "source": [
    "(probabilities > .5).sum()"
   ]
  },
  {
   "cell_type": "code",
   "execution_count": 63,
   "id": "treated-raleigh",
   "metadata": {},
   "outputs": [
    {
     "data": {
      "text/plain": [
       "130007"
      ]
     },
     "execution_count": 63,
     "metadata": {},
     "output_type": "execute_result"
    }
   ],
   "source": [
    "y.sum()"
   ]
  },
  {
   "cell_type": "code",
   "execution_count": 64,
   "id": "distinct-creator",
   "metadata": {},
   "outputs": [
    {
     "name": "stderr",
     "output_type": "stream",
     "text": [
      "<ipython-input-64-6ed33272057a>:13: RuntimeWarning: invalid value encountered in long_scalars\n",
      "  p = c[1][1]/(c[1][1]+c[1][0])\n"
     ]
    }
   ],
   "source": [
    "threshold = np.linspace(0,1,50)\n",
    "yhat = rf_model.predict_proba(X_test)[:,1]\n",
    "\n",
    "recall = []\n",
    "precision = []\n",
    "for t in threshold:\n",
    "    c = pd.crosstab(pd.Categorical(y_test, categories=[0,1]), \n",
    "                    pd.Categorical(yhat>t, categories=[0,1]), \n",
    "                    rownames=['actual'], \n",
    "                    colnames=['predicted'],\n",
    "                    dropna=False)\n",
    "    r = c[1][1]/(c[1][1]+c[0][1])\n",
    "    p = c[1][1]/(c[1][1]+c[1][0])\n",
    "    recall.append(r)\n",
    "    precision.append(p)"
   ]
  },
  {
   "cell_type": "code",
   "execution_count": 58,
   "id": "small-lighter",
   "metadata": {},
   "outputs": [
    {
     "data": {
      "image/png": "[encoded data removed]",
      "text/plain": [
       "<Figure size 720x576 with 1 Axes>"
      ]
     },
     "metadata": {
      "needs_background": "light"
     },
     "output_type": "display_data"
    }
   ],
   "source": [
    "fig, ax = plt.subplots(figsize=(10,8))\n",
    "\n",
    "ax.plot(threshold, recall, label='recall')\n",
    "ax.plot(threshold, precision, label='precision')\n",
    "# ax.vlines([.08, .85], 0,1, linestyles='--', colors='green')\n",
    "ax.legend()\n",
    "ax.set_xlabel('Threshold')\n",
    "ax.set_ylabel('Score')\n",
    "ax.set_title('Change in Precision and Recall for Thresholds')\n",
    "plt.show()"
   ]
  },
  {
   "cell_type": "code",
   "execution_count": 82,
   "id": "brutal-bolivia",
   "metadata": {},
   "outputs": [],
   "source": [
    "y_prob = rf_model.predict_proba(X_test)[:,1]"
   ]
  },
  {
   "cell_type": "code",
   "execution_count": 99,
   "id": "employed-profit",
   "metadata": {},
   "outputs": [],
   "source": [
    "# make predictions based on probabilities and threshold\n",
    "def predict(model, X, threshold=0.5):\n",
    "    '''Return prediction of the fitted binary-classifier model model on X using\n",
    "    the specifed `threshold`. NB: class 1 is the positive class'''\n",
    "    return np.where(model.predict_proba(X)[:,1] > threshold, 1, 0)\n",
    "\n",
    "# create confusion matrix with a given model and Xtest\n",
    "def confusion_matrix(model, X, y,  threshold=0.5):\n",
    "    cf = pd.crosstab(y, predict(model, X, threshold), dropna=False)\n",
    "    cf = cf.add(pd.DataFrame([[0,0],[0,0]], columns=[0, 1], index=[0, 1]), fill_value=0)\n",
    "    cf.index.name = 'actual'\n",
    "    cf.columns.name = 'predicted'\n",
    "    return cf\n",
    "\n",
    "# calculate the payout for a given probability threshold\n",
    "def calculate_payout(cb_matrix, model, X, y, threshold):\n",
    "    return (confusion_matrix(model, X, y, threshold) * cb_matrix).values.sum()"
   ]
  },
  {
   "cell_type": "code",
   "execution_count": 89,
   "id": "failing-effects",
   "metadata": {},
   "outputs": [
    {
     "data": {
      "text/plain": [
       "array([0, 1])"
      ]
     },
     "execution_count": 89,
     "metadata": {},
     "output_type": "execute_result"
    }
   ],
   "source": [
    "rf_model.classes_"
   ]
  },
  {
   "cell_type": "code",
   "execution_count": 92,
   "id": "established-pension",
   "metadata": {
    "scrolled": true
   },
   "outputs": [],
   "source": [
    "cf = confusion_matrix(rf_model, X_test, y_test)"
   ]
  },
  {
   "cell_type": "code",
   "execution_count": 101,
   "id": "peripheral-fighter",
   "metadata": {},
   "outputs": [
    {
     "data": {
      "text/html": [
       "<div>\n",
       "<style scoped>\n",
       "    .dataframe tbody tr th:only-of-type {\n",
       "        vertical-align: middle;\n",
       "    }\n",
       "\n",
       "    .dataframe tbody tr th {\n",
       "        vertical-align: top;\n",
       "    }\n",
       "\n",
       "    .dataframe thead th {\n",
       "        text-align: right;\n",
       "    }\n",
       "</style>\n",
       "<table border=\"1\" class=\"dataframe\">\n",
       "  <thead>\n",
       "    <tr style=\"text-align: right;\">\n",
       "      <th>predicted</th>\n",
       "      <th>0</th>\n",
       "      <th>1</th>\n",
       "    </tr>\n",
       "    <tr>\n",
       "      <th>actual</th>\n",
       "      <th></th>\n",
       "      <th></th>\n",
       "    </tr>\n",
       "  </thead>\n",
       "  <tbody>\n",
       "    <tr>\n",
       "      <th>0</th>\n",
       "      <td>129570</td>\n",
       "      <td>6414</td>\n",
       "    </tr>\n",
       "    <tr>\n",
       "      <th>1</th>\n",
       "      <td>5801</td>\n",
       "      <td>26550</td>\n",
       "    </tr>\n",
       "  </tbody>\n",
       "</table>\n",
       "</div>"
      ],
      "text/plain": [
       "predicted       0      1\n",
       "actual                  \n",
       "0          129570   6414\n",
       "1            5801  26550"
      ]
     },
     "execution_count": 101,
     "metadata": {},
     "output_type": "execute_result"
    }
   ],
   "source": [
    "cf"
   ]
  },
  {
   "cell_type": "code",
   "execution_count": 96,
   "id": "worldwide-irish",
   "metadata": {},
   "outputs": [],
   "source": [
    "cb_matrix = pd.DataFrame([[0, -20], [0, 10]], columns=[0, 1], index=[0,1])\n",
    "cb_matrix.index.name = 'actual'\n",
    "cb_matrix.columns.name = 'predicted'"
   ]
  },
  {
   "cell_type": "code",
   "execution_count": 97,
   "id": "explicit-valentine",
   "metadata": {},
   "outputs": [
    {
     "data": {
      "text/html": [
       "<div>\n",
       "<style scoped>\n",
       "    .dataframe tbody tr th:only-of-type {\n",
       "        vertical-align: middle;\n",
       "    }\n",
       "\n",
       "    .dataframe tbody tr th {\n",
       "        vertical-align: top;\n",
       "    }\n",
       "\n",
       "    .dataframe thead th {\n",
       "        text-align: right;\n",
       "    }\n",
       "</style>\n",
       "<table border=\"1\" class=\"dataframe\">\n",
       "  <thead>\n",
       "    <tr style=\"text-align: right;\">\n",
       "      <th>predicted</th>\n",
       "      <th>0</th>\n",
       "      <th>1</th>\n",
       "    </tr>\n",
       "    <tr>\n",
       "      <th>actual</th>\n",
       "      <th></th>\n",
       "      <th></th>\n",
       "    </tr>\n",
       "  </thead>\n",
       "  <tbody>\n",
       "    <tr>\n",
       "      <th>0</th>\n",
       "      <td>0</td>\n",
       "      <td>-20</td>\n",
       "    </tr>\n",
       "    <tr>\n",
       "      <th>1</th>\n",
       "      <td>0</td>\n",
       "      <td>10</td>\n",
       "    </tr>\n",
       "  </tbody>\n",
       "</table>\n",
       "</div>"
      ],
      "text/plain": [
       "predicted  0   1\n",
       "actual          \n",
       "0          0 -20\n",
       "1          0  10"
      ]
     },
     "execution_count": 97,
     "metadata": {},
     "output_type": "execute_result"
    }
   ],
   "source": [
    "cb_matrix"
   ]
  },
  {
   "cell_type": "code",
   "execution_count": null,
   "id": "liberal-procedure",
   "metadata": {},
   "outputs": [],
   "source": [
    "calculate_payout(cb_matrix, rf_model, X_test, y_test, .5)"
   ]
  },
  {
   "cell_type": "code",
   "execution_count": 104,
   "id": "exempt-frederick",
   "metadata": {},
   "outputs": [
    {
     "data": {
      "text/plain": [
       "201360"
      ]
     },
     "execution_count": 104,
     "metadata": {},
     "output_type": "execute_result"
    }
   ],
   "source": [
    "-10*6414 + 26550 * 10"
   ]
  },
  {
   "cell_type": "code",
   "execution_count": 110,
   "id": "competent-russian",
   "metadata": {},
   "outputs": [],
   "source": [
    "def profit_curve(model, X, y, ax):\n",
    "    cb_matrix = pd.DataFrame([[0, -20], [0, 10]], columns=[0, 1], index=[0,1])\n",
    "    cb_matrix.index.name = 'actual'\n",
    "    cb_matrix.columns.name = 'predicted'\n",
    "    # calculate the payout with a the cost benefit matrix, \n",
    "    # given threshhold, model, and X\n",
    "    thresholds = np.arange(0.0, 1.0, 0.05)\n",
    "    profits = []\n",
    "    for threshold in thresholds:\n",
    "        profits.append(calculate_payout(cb_matrix, model, X, y, threshold))\n",
    "    ax.plot(thresholds, profits)\n",
    "    ax.set_xlabel('Thresholds')\n",
    "    ax.set_ylabel('Profits')\n",
    "    ax.set_title('Profit Curve')\n",
    "    print(profits)"
   ]
  },
  {
   "cell_type": "code",
   "execution_count": 111,
   "id": "requested-discussion",
   "metadata": {
    "scrolled": false
   },
   "outputs": [
    {
     "data": {
      "image/png": "[encoded data removed]",
      "text/plain": [
       "<Figure size 864x576 with 1 Axes>"
      ]
     },
     "metadata": {
      "needs_background": "light"
     },
     "output_type": "display_data"
    }
   ],
   "source": [
    "fig, ax = plt.subplots(figsize=(12, 8))\n",
    "profit_curve(rf_model, X_test, y_test, ax)"
   ]
  },
  {
   "cell_type": "code",
   "execution_count": 112,
   "id": "guided-increase",
   "metadata": {},
   "outputs": [],
   "source": [
    "y_hat = predict(rf_model, X_test, threshold=.65)"
   ]
  },
  {
   "cell_type": "code",
   "execution_count": 114,
   "id": "polished-romantic",
   "metadata": {},
   "outputs": [
    {
     "data": {
      "text/plain": [
       "26825     0\n",
       "164124    0\n",
       "35983     0\n",
       "80212     0\n",
       "225715    0\n",
       "         ..\n",
       "26599     0\n",
       "118287    0\n",
       "26991     0\n",
       "102344    0\n",
       "37437     0\n",
       "Name: loan_status, Length: 168335, dtype: int64"
      ]
     },
     "execution_count": 114,
     "metadata": {},
     "output_type": "execute_result"
    }
   ],
   "source": [
    "y_test"
   ]
  },
  {
   "cell_type": "code",
   "execution_count": 131,
   "id": "disturbed-mission",
   "metadata": {},
   "outputs": [
    {
     "data": {
      "text/plain": [
       "array([ 26825, 164124,  35983, ...,  26991, 102344,  37437])"
      ]
     },
     "execution_count": 131,
     "metadata": {},
     "output_type": "execute_result"
    }
   ],
   "source": [
    "y_test.index.values"
   ]
  },
  {
   "cell_type": "code",
   "execution_count": 137,
   "id": "demanding-engineer",
   "metadata": {
    "scrolled": false
   },
   "outputs": [
    {
     "data": {
      "text/html": [
       "<div>\n",
       "<style scoped>\n",
       "    .dataframe tbody tr th:only-of-type {\n",
       "        vertical-align: middle;\n",
       "    }\n",
       "\n",
       "    .dataframe tbody tr th {\n",
       "        vertical-align: top;\n",
       "    }\n",
       "\n",
       "    .dataframe thead th {\n",
       "        text-align: right;\n",
       "    }\n",
       "</style>\n",
       "<table border=\"1\" class=\"dataframe\">\n",
       "  <thead>\n",
       "    <tr style=\"text-align: right;\">\n",
       "      <th></th>\n",
       "      <th>loan_amnt</th>\n",
       "      <th>funded_amnt</th>\n",
       "      <th>term</th>\n",
       "      <th>int_rate</th>\n",
       "      <th>installment</th>\n",
       "      <th>sub_grade</th>\n",
       "      <th>home_ownership</th>\n",
       "      <th>annual_inc</th>\n",
       "      <th>verification_status</th>\n",
       "      <th>loan_status</th>\n",
       "      <th>...</th>\n",
       "      <th>num_tl_90g_dpd_24m</th>\n",
       "      <th>num_tl_op_past_12m</th>\n",
       "      <th>pct_tl_nvr_dlq</th>\n",
       "      <th>percent_bc_gt_75</th>\n",
       "      <th>pub_rec_bankruptcies</th>\n",
       "      <th>tax_liens</th>\n",
       "      <th>tot_hi_cred_lim</th>\n",
       "      <th>total_bal_ex_mort</th>\n",
       "      <th>total_bc_limit</th>\n",
       "      <th>total_il_high_credit_limit</th>\n",
       "    </tr>\n",
       "  </thead>\n",
       "  <tbody>\n",
       "    <tr>\n",
       "      <th>0</th>\n",
       "      <td>4500</td>\n",
       "      <td>4500</td>\n",
       "      <td>36</td>\n",
       "      <td>11.31</td>\n",
       "      <td>147.99</td>\n",
       "      <td>B3</td>\n",
       "      <td>RENT</td>\n",
       "      <td>38500.0</td>\n",
       "      <td>Not Verified</td>\n",
       "      <td>Fully Paid</td>\n",
       "      <td>...</td>\n",
       "      <td>0.0</td>\n",
       "      <td>4.0</td>\n",
       "      <td>91.7</td>\n",
       "      <td>0.0</td>\n",
       "      <td>0</td>\n",
       "      <td>0</td>\n",
       "      <td>53795.0</td>\n",
       "      <td>29137.0</td>\n",
       "      <td>15100.0</td>\n",
       "      <td>24595.0</td>\n",
       "    </tr>\n",
       "    <tr>\n",
       "      <th>1</th>\n",
       "      <td>30000</td>\n",
       "      <td>30000</td>\n",
       "      <td>36</td>\n",
       "      <td>15.02</td>\n",
       "      <td>1040.26</td>\n",
       "      <td>C3</td>\n",
       "      <td>RENT</td>\n",
       "      <td>90000.0</td>\n",
       "      <td>Verified</td>\n",
       "      <td>Fully Paid</td>\n",
       "      <td>...</td>\n",
       "      <td>0.0</td>\n",
       "      <td>3.0</td>\n",
       "      <td>100.0</td>\n",
       "      <td>50.0</td>\n",
       "      <td>0</td>\n",
       "      <td>0</td>\n",
       "      <td>89849.0</td>\n",
       "      <td>51370.0</td>\n",
       "      <td>41600.0</td>\n",
       "      <td>36249.0</td>\n",
       "    </tr>\n",
       "    <tr>\n",
       "      <th>2</th>\n",
       "      <td>2500</td>\n",
       "      <td>2500</td>\n",
       "      <td>36</td>\n",
       "      <td>13.56</td>\n",
       "      <td>84.92</td>\n",
       "      <td>C1</td>\n",
       "      <td>RENT</td>\n",
       "      <td>42000.0</td>\n",
       "      <td>Not Verified</td>\n",
       "      <td>Fully Paid</td>\n",
       "      <td>...</td>\n",
       "      <td>0.0</td>\n",
       "      <td>1.0</td>\n",
       "      <td>83.3</td>\n",
       "      <td>0.0</td>\n",
       "      <td>0</td>\n",
       "      <td>0</td>\n",
       "      <td>32582.0</td>\n",
       "      <td>18649.0</td>\n",
       "      <td>10500.0</td>\n",
       "      <td>22082.0</td>\n",
       "    </tr>\n",
       "    <tr>\n",
       "      <th>3</th>\n",
       "      <td>2000</td>\n",
       "      <td>2000</td>\n",
       "      <td>36</td>\n",
       "      <td>16.91</td>\n",
       "      <td>71.22</td>\n",
       "      <td>C5</td>\n",
       "      <td>MORTGAGE</td>\n",
       "      <td>71000.0</td>\n",
       "      <td>Source Verified</td>\n",
       "      <td>Fully Paid</td>\n",
       "      <td>...</td>\n",
       "      <td>1.0</td>\n",
       "      <td>2.0</td>\n",
       "      <td>86.4</td>\n",
       "      <td>100.0</td>\n",
       "      <td>0</td>\n",
       "      <td>0</td>\n",
       "      <td>208459.0</td>\n",
       "      <td>56421.0</td>\n",
       "      <td>6000.0</td>\n",
       "      <td>84596.0</td>\n",
       "    </tr>\n",
       "    <tr>\n",
       "      <th>4</th>\n",
       "      <td>20000</td>\n",
       "      <td>20000</td>\n",
       "      <td>60</td>\n",
       "      <td>17.97</td>\n",
       "      <td>507.55</td>\n",
       "      <td>D1</td>\n",
       "      <td>RENT</td>\n",
       "      <td>57000.0</td>\n",
       "      <td>Not Verified</td>\n",
       "      <td>Fully Paid</td>\n",
       "      <td>...</td>\n",
       "      <td>0.0</td>\n",
       "      <td>2.0</td>\n",
       "      <td>100.0</td>\n",
       "      <td>33.3</td>\n",
       "      <td>0</td>\n",
       "      <td>0</td>\n",
       "      <td>72700.0</td>\n",
       "      <td>33356.0</td>\n",
       "      <td>64800.0</td>\n",
       "      <td>0.0</td>\n",
       "    </tr>\n",
       "    <tr>\n",
       "      <th>...</th>\n",
       "      <td>...</td>\n",
       "      <td>...</td>\n",
       "      <td>...</td>\n",
       "      <td>...</td>\n",
       "      <td>...</td>\n",
       "      <td>...</td>\n",
       "      <td>...</td>\n",
       "      <td>...</td>\n",
       "      <td>...</td>\n",
       "      <td>...</td>\n",
       "      <td>...</td>\n",
       "      <td>...</td>\n",
       "      <td>...</td>\n",
       "      <td>...</td>\n",
       "      <td>...</td>\n",
       "      <td>...</td>\n",
       "      <td>...</td>\n",
       "      <td>...</td>\n",
       "      <td>...</td>\n",
       "      <td>...</td>\n",
       "      <td>...</td>\n",
       "    </tr>\n",
       "    <tr>\n",
       "      <th>673335</th>\n",
       "      <td>5000</td>\n",
       "      <td>5000</td>\n",
       "      <td>36</td>\n",
       "      <td>21.49</td>\n",
       "      <td>189.64</td>\n",
       "      <td>D5</td>\n",
       "      <td>RENT</td>\n",
       "      <td>43000.0</td>\n",
       "      <td>Verified</td>\n",
       "      <td>Fully Paid</td>\n",
       "      <td>...</td>\n",
       "      <td>1.0</td>\n",
       "      <td>0.0</td>\n",
       "      <td>94.1</td>\n",
       "      <td>0.0</td>\n",
       "      <td>0</td>\n",
       "      <td>0</td>\n",
       "      <td>64546.0</td>\n",
       "      <td>60559.0</td>\n",
       "      <td>4000.0</td>\n",
       "      <td>59646.0</td>\n",
       "    </tr>\n",
       "    <tr>\n",
       "      <th>673336</th>\n",
       "      <td>32000</td>\n",
       "      <td>32000</td>\n",
       "      <td>60</td>\n",
       "      <td>13.99</td>\n",
       "      <td>744.42</td>\n",
       "      <td>C3</td>\n",
       "      <td>MORTGAGE</td>\n",
       "      <td>125000.0</td>\n",
       "      <td>Source Verified</td>\n",
       "      <td>Charged Off</td>\n",
       "      <td>...</td>\n",
       "      <td>0.0</td>\n",
       "      <td>2.0</td>\n",
       "      <td>97.3</td>\n",
       "      <td>25.0</td>\n",
       "      <td>0</td>\n",
       "      <td>0</td>\n",
       "      <td>557391.0</td>\n",
       "      <td>138125.0</td>\n",
       "      <td>94600.0</td>\n",
       "      <td>124725.0</td>\n",
       "    </tr>\n",
       "    <tr>\n",
       "      <th>673337</th>\n",
       "      <td>40000</td>\n",
       "      <td>40000</td>\n",
       "      <td>60</td>\n",
       "      <td>15.59</td>\n",
       "      <td>964.03</td>\n",
       "      <td>C5</td>\n",
       "      <td>MORTGAGE</td>\n",
       "      <td>220000.0</td>\n",
       "      <td>Verified</td>\n",
       "      <td>Fully Paid</td>\n",
       "      <td>...</td>\n",
       "      <td>0.0</td>\n",
       "      <td>3.0</td>\n",
       "      <td>100.0</td>\n",
       "      <td>0.0</td>\n",
       "      <td>0</td>\n",
       "      <td>0</td>\n",
       "      <td>558214.0</td>\n",
       "      <td>73480.0</td>\n",
       "      <td>141000.0</td>\n",
       "      <td>35551.0</td>\n",
       "    </tr>\n",
       "    <tr>\n",
       "      <th>673338</th>\n",
       "      <td>15000</td>\n",
       "      <td>15000</td>\n",
       "      <td>36</td>\n",
       "      <td>10.49</td>\n",
       "      <td>487.47</td>\n",
       "      <td>B3</td>\n",
       "      <td>MORTGAGE</td>\n",
       "      <td>60000.0</td>\n",
       "      <td>Not Verified</td>\n",
       "      <td>Fully Paid</td>\n",
       "      <td>...</td>\n",
       "      <td>0.0</td>\n",
       "      <td>2.0</td>\n",
       "      <td>100.0</td>\n",
       "      <td>50.0</td>\n",
       "      <td>0</td>\n",
       "      <td>0</td>\n",
       "      <td>297396.0</td>\n",
       "      <td>48654.0</td>\n",
       "      <td>78700.0</td>\n",
       "      <td>0.0</td>\n",
       "    </tr>\n",
       "    <tr>\n",
       "      <th>673339</th>\n",
       "      <td>36400</td>\n",
       "      <td>36400</td>\n",
       "      <td>60</td>\n",
       "      <td>14.49</td>\n",
       "      <td>856.24</td>\n",
       "      <td>C4</td>\n",
       "      <td>RENT</td>\n",
       "      <td>95000.0</td>\n",
       "      <td>Verified</td>\n",
       "      <td>Charged Off</td>\n",
       "      <td>...</td>\n",
       "      <td>0.0</td>\n",
       "      <td>2.0</td>\n",
       "      <td>100.0</td>\n",
       "      <td>75.0</td>\n",
       "      <td>0</td>\n",
       "      <td>0</td>\n",
       "      <td>529965.0</td>\n",
       "      <td>137277.0</td>\n",
       "      <td>43500.0</td>\n",
       "      <td>90665.0</td>\n",
       "    </tr>\n",
       "  </tbody>\n",
       "</table>\n",
       "<p>673340 rows × 77 columns</p>\n",
       "</div>"
      ],
      "text/plain": [
       "        loan_amnt  funded_amnt  term  int_rate  installment sub_grade  \\\n",
       "0            4500         4500    36     11.31       147.99        B3   \n",
       "1           30000        30000    36     15.02      1040.26        C3   \n",
       "2            2500         2500    36     13.56        84.92        C1   \n",
       "3            2000         2000    36     16.91        71.22        C5   \n",
       "4           20000        20000    60     17.97       507.55        D1   \n",
       "...           ...          ...   ...       ...          ...       ...   \n",
       "673335       5000         5000    36     21.49       189.64        D5   \n",
       "673336      32000        32000    60     13.99       744.42        C3   \n",
       "673337      40000        40000    60     15.59       964.03        C5   \n",
       "673338      15000        15000    36     10.49       487.47        B3   \n",
       "673339      36400        36400    60     14.49       856.24        C4   \n",
       "\n",
       "       home_ownership  annual_inc verification_status  loan_status  ...  \\\n",
       "0                RENT     38500.0        Not Verified   Fully Paid  ...   \n",
       "1                RENT     90000.0            Verified   Fully Paid  ...   \n",
       "2                RENT     42000.0        Not Verified   Fully Paid  ...   \n",
       "3            MORTGAGE     71000.0     Source Verified   Fully Paid  ...   \n",
       "4                RENT     57000.0        Not Verified   Fully Paid  ...   \n",
       "...               ...         ...                 ...          ...  ...   \n",
       "673335           RENT     43000.0            Verified   Fully Paid  ...   \n",
       "673336       MORTGAGE    125000.0     Source Verified  Charged Off  ...   \n",
       "673337       MORTGAGE    220000.0            Verified   Fully Paid  ...   \n",
       "673338       MORTGAGE     60000.0        Not Verified   Fully Paid  ...   \n",
       "673339           RENT     95000.0            Verified  Charged Off  ...   \n",
       "\n",
       "       num_tl_90g_dpd_24m  num_tl_op_past_12m  pct_tl_nvr_dlq  \\\n",
       "0                     0.0                 4.0            91.7   \n",
       "1                     0.0                 3.0           100.0   \n",
       "2                     0.0                 1.0            83.3   \n",
       "3                     1.0                 2.0            86.4   \n",
       "4                     0.0                 2.0           100.0   \n",
       "...                   ...                 ...             ...   \n",
       "673335                1.0                 0.0            94.1   \n",
       "673336                0.0                 2.0            97.3   \n",
       "673337                0.0                 3.0           100.0   \n",
       "673338                0.0                 2.0           100.0   \n",
       "673339                0.0                 2.0           100.0   \n",
       "\n",
       "        percent_bc_gt_75  pub_rec_bankruptcies  tax_liens  tot_hi_cred_lim  \\\n",
       "0                    0.0                     0          0          53795.0   \n",
       "1                   50.0                     0          0          89849.0   \n",
       "2                    0.0                     0          0          32582.0   \n",
       "3                  100.0                     0          0         208459.0   \n",
       "4                   33.3                     0          0          72700.0   \n",
       "...                  ...                   ...        ...              ...   \n",
       "673335               0.0                     0          0          64546.0   \n",
       "673336              25.0                     0          0         557391.0   \n",
       "673337               0.0                     0          0         558214.0   \n",
       "673338              50.0                     0          0         297396.0   \n",
       "673339              75.0                     0          0         529965.0   \n",
       "\n",
       "        total_bal_ex_mort  total_bc_limit  total_il_high_credit_limit  \n",
       "0                 29137.0         15100.0                     24595.0  \n",
       "1                 51370.0         41600.0                     36249.0  \n",
       "2                 18649.0         10500.0                     22082.0  \n",
       "3                 56421.0          6000.0                     84596.0  \n",
       "4                 33356.0         64800.0                         0.0  \n",
       "...                   ...             ...                         ...  \n",
       "673335            60559.0          4000.0                     59646.0  \n",
       "673336           138125.0         94600.0                    124725.0  \n",
       "673337            73480.0        141000.0                     35551.0  \n",
       "673338            48654.0         78700.0                         0.0  \n",
       "673339           137277.0         43500.0                     90665.0  \n",
       "\n",
       "[673340 rows x 77 columns]"
      ]
     },
     "execution_count": 137,
     "metadata": {},
     "output_type": "execute_result"
    }
   ],
   "source": [
    "data.reset_index(drop=True)"
   ]
  },
  {
   "cell_type": "code",
   "execution_count": null,
   "id": "cordless-spouse",
   "metadata": {},
   "outputs": [],
   "source": []
  }
 ],
 "metadata": {
  "kernelspec": {
   "display_name": "Python 3",
   "language": "python",
   "name": "python3"
  },
  "language_info": {
   "codemirror_mode": {
    "name": "ipython",
    "version": 3
   },
   "file_extension": ".py",
   "mimetype": "text/x-python",
   "name": "python",
   "nbconvert_exporter": "python",
   "pygments_lexer": "ipython3",
   "version": "3.8.8"
  }
 },
 "nbformat": 4,
 "nbformat_minor": 5
}
