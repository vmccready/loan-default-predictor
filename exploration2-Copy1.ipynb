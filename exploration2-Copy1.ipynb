{
 "cells": [
  {
   "cell_type": "code",
   "execution_count": 1,
   "id": "assigned-acceptance",
   "metadata": {},
   "outputs": [],
   "source": [
    "import numpy as np\n",
    "import pandas as pd\n",
    "import matplotlib.pyplot as plt\n",
    "import re\n",
    "\n",
    "from glob import iglob"
   ]
  },
  {
   "cell_type": "code",
   "execution_count": 2,
   "id": "alternative-outside",
   "metadata": {},
   "outputs": [],
   "source": [
    "import importlib\n",
    "import src.pipeline as pipeline"
   ]
  },
  {
   "cell_type": "code",
   "execution_count": 12,
   "id": "governing-intervention",
   "metadata": {},
   "outputs": [
    {
     "data": {
      "text/plain": [
       "<module 'src.pipeline' from '/Users/vinsonmccready/galvanize/loan-default-predictor/src/pipeline.py'>"
      ]
     },
     "execution_count": 12,
     "metadata": {},
     "output_type": "execute_result"
    }
   ],
   "source": [
    "importlib.reload(pipeline)"
   ]
  },
  {
   "cell_type": "code",
   "execution_count": 3,
   "id": "laughing-spank",
   "metadata": {},
   "outputs": [],
   "source": [
    "data = pipeline.get_all_data('data/raw/')"
   ]
  },
  {
   "cell_type": "code",
   "execution_count": 4,
   "id": "needed-smith",
   "metadata": {
    "scrolled": true
   },
   "outputs": [
    {
     "data": {
      "text/html": [
       "<div>\n",
       "<style scoped>\n",
       "    .dataframe tbody tr th:only-of-type {\n",
       "        vertical-align: middle;\n",
       "    }\n",
       "\n",
       "    .dataframe tbody tr th {\n",
       "        vertical-align: top;\n",
       "    }\n",
       "\n",
       "    .dataframe thead th {\n",
       "        text-align: right;\n",
       "    }\n",
       "</style>\n",
       "<table border=\"1\" class=\"dataframe\">\n",
       "  <thead>\n",
       "    <tr style=\"text-align: right;\">\n",
       "      <th></th>\n",
       "      <th>id</th>\n",
       "      <th>member_id</th>\n",
       "      <th>loan_amnt</th>\n",
       "      <th>funded_amnt</th>\n",
       "      <th>funded_amnt_inv</th>\n",
       "      <th>term</th>\n",
       "      <th>int_rate</th>\n",
       "      <th>installment</th>\n",
       "      <th>grade</th>\n",
       "      <th>sub_grade</th>\n",
       "      <th>...</th>\n",
       "      <th>sec_app_earliest_cr_line</th>\n",
       "      <th>sec_app_inq_last_6mths</th>\n",
       "      <th>sec_app_mort_acc</th>\n",
       "      <th>sec_app_open_acc</th>\n",
       "      <th>sec_app_revol_util</th>\n",
       "      <th>sec_app_num_rev_accts</th>\n",
       "      <th>sec_app_chargeoff_within_12_mths</th>\n",
       "      <th>sec_app_collections_12_mths_ex_med</th>\n",
       "      <th>sec_app_mths_since_last_major_derog</th>\n",
       "      <th>year</th>\n",
       "    </tr>\n",
       "  </thead>\n",
       "  <tbody>\n",
       "    <tr>\n",
       "      <th>0</th>\n",
       "      <td>145217616</td>\n",
       "      <td>NaN</td>\n",
       "      <td>10000</td>\n",
       "      <td>10000</td>\n",
       "      <td>10000.0</td>\n",
       "      <td>36 months</td>\n",
       "      <td>10.33%</td>\n",
       "      <td>324.23</td>\n",
       "      <td>B</td>\n",
       "      <td>B1</td>\n",
       "      <td>...</td>\n",
       "      <td>NaN</td>\n",
       "      <td>NaN</td>\n",
       "      <td>NaN</td>\n",
       "      <td>NaN</td>\n",
       "      <td>NaN</td>\n",
       "      <td>NaN</td>\n",
       "      <td>NaN</td>\n",
       "      <td>NaN</td>\n",
       "      <td>NaN</td>\n",
       "      <td>18</td>\n",
       "    </tr>\n",
       "    <tr>\n",
       "      <th>1</th>\n",
       "      <td>145640422</td>\n",
       "      <td>NaN</td>\n",
       "      <td>2500</td>\n",
       "      <td>2500</td>\n",
       "      <td>2500.0</td>\n",
       "      <td>36 months</td>\n",
       "      <td>13.56%</td>\n",
       "      <td>84.92</td>\n",
       "      <td>C</td>\n",
       "      <td>C1</td>\n",
       "      <td>...</td>\n",
       "      <td>NaN</td>\n",
       "      <td>NaN</td>\n",
       "      <td>NaN</td>\n",
       "      <td>NaN</td>\n",
       "      <td>NaN</td>\n",
       "      <td>NaN</td>\n",
       "      <td>NaN</td>\n",
       "      <td>NaN</td>\n",
       "      <td>NaN</td>\n",
       "      <td>18</td>\n",
       "    </tr>\n",
       "    <tr>\n",
       "      <th>2</th>\n",
       "      <td>145630143</td>\n",
       "      <td>NaN</td>\n",
       "      <td>12000</td>\n",
       "      <td>12000</td>\n",
       "      <td>12000.0</td>\n",
       "      <td>60 months</td>\n",
       "      <td>13.56%</td>\n",
       "      <td>276.49</td>\n",
       "      <td>C</td>\n",
       "      <td>C1</td>\n",
       "      <td>...</td>\n",
       "      <td>NaN</td>\n",
       "      <td>NaN</td>\n",
       "      <td>NaN</td>\n",
       "      <td>NaN</td>\n",
       "      <td>NaN</td>\n",
       "      <td>NaN</td>\n",
       "      <td>NaN</td>\n",
       "      <td>NaN</td>\n",
       "      <td>NaN</td>\n",
       "      <td>18</td>\n",
       "    </tr>\n",
       "    <tr>\n",
       "      <th>3</th>\n",
       "      <td>145127870</td>\n",
       "      <td>NaN</td>\n",
       "      <td>15000</td>\n",
       "      <td>15000</td>\n",
       "      <td>14975.0</td>\n",
       "      <td>60 months</td>\n",
       "      <td>14.47%</td>\n",
       "      <td>352.69</td>\n",
       "      <td>C</td>\n",
       "      <td>C2</td>\n",
       "      <td>...</td>\n",
       "      <td>Oct-99</td>\n",
       "      <td>0.0</td>\n",
       "      <td>0.0</td>\n",
       "      <td>16.0</td>\n",
       "      <td>48.8</td>\n",
       "      <td>15.0</td>\n",
       "      <td>0.0</td>\n",
       "      <td>0.0</td>\n",
       "      <td>NaN</td>\n",
       "      <td>18</td>\n",
       "    </tr>\n",
       "    <tr>\n",
       "      <th>4</th>\n",
       "      <td>145558466</td>\n",
       "      <td>NaN</td>\n",
       "      <td>16000</td>\n",
       "      <td>16000</td>\n",
       "      <td>16000.0</td>\n",
       "      <td>60 months</td>\n",
       "      <td>17.97%</td>\n",
       "      <td>406.04</td>\n",
       "      <td>D</td>\n",
       "      <td>D1</td>\n",
       "      <td>...</td>\n",
       "      <td>NaN</td>\n",
       "      <td>NaN</td>\n",
       "      <td>NaN</td>\n",
       "      <td>NaN</td>\n",
       "      <td>NaN</td>\n",
       "      <td>NaN</td>\n",
       "      <td>NaN</td>\n",
       "      <td>NaN</td>\n",
       "      <td>NaN</td>\n",
       "      <td>18</td>\n",
       "    </tr>\n",
       "  </tbody>\n",
       "</table>\n",
       "<p>5 rows × 127 columns</p>\n",
       "</div>"
      ],
      "text/plain": [
       "          id  member_id  loan_amnt  funded_amnt  funded_amnt_inv        term  \\\n",
       "0  145217616        NaN      10000        10000          10000.0   36 months   \n",
       "1  145640422        NaN       2500         2500           2500.0   36 months   \n",
       "2  145630143        NaN      12000        12000          12000.0   60 months   \n",
       "3  145127870        NaN      15000        15000          14975.0   60 months   \n",
       "4  145558466        NaN      16000        16000          16000.0   60 months   \n",
       "\n",
       "  int_rate  installment grade sub_grade  ... sec_app_earliest_cr_line  \\\n",
       "0   10.33%       324.23     B        B1  ...                      NaN   \n",
       "1   13.56%        84.92     C        C1  ...                      NaN   \n",
       "2   13.56%       276.49     C        C1  ...                      NaN   \n",
       "3   14.47%       352.69     C        C2  ...                   Oct-99   \n",
       "4   17.97%       406.04     D        D1  ...                      NaN   \n",
       "\n",
       "  sec_app_inq_last_6mths sec_app_mort_acc  sec_app_open_acc  \\\n",
       "0                    NaN              NaN               NaN   \n",
       "1                    NaN              NaN               NaN   \n",
       "2                    NaN              NaN               NaN   \n",
       "3                    0.0              0.0              16.0   \n",
       "4                    NaN              NaN               NaN   \n",
       "\n",
       "  sec_app_revol_util sec_app_num_rev_accts sec_app_chargeoff_within_12_mths  \\\n",
       "0                NaN                   NaN                              NaN   \n",
       "1                NaN                   NaN                              NaN   \n",
       "2                NaN                   NaN                              NaN   \n",
       "3               48.8                  15.0                              0.0   \n",
       "4                NaN                   NaN                              NaN   \n",
       "\n",
       "  sec_app_collections_12_mths_ex_med sec_app_mths_since_last_major_derog year  \n",
       "0                                NaN                                 NaN   18  \n",
       "1                                NaN                                 NaN   18  \n",
       "2                                NaN                                 NaN   18  \n",
       "3                                0.0                                 NaN   18  \n",
       "4                                NaN                                 NaN   18  \n",
       "\n",
       "[5 rows x 127 columns]"
      ]
     },
     "execution_count": 4,
     "metadata": {},
     "output_type": "execute_result"
    }
   ],
   "source": [
    "data.head()"
   ]
  },
  {
   "cell_type": "code",
   "execution_count": 5,
   "id": "presidential-custody",
   "metadata": {},
   "outputs": [
    {
     "data": {
      "text/plain": [
       "Current               2086919\n",
       "Fully Paid             552459\n",
       "Charged Off            131231\n",
       "Late (31-120 days)      32304\n",
       "In Grace Period         22089\n",
       "Issued                  21294\n",
       "Late (16-30 days)        8147\n",
       "Default                    29\n",
       "Name: loan_status, dtype: int64"
      ]
     },
     "execution_count": 5,
     "metadata": {},
     "output_type": "execute_result"
    }
   ],
   "source": [
    "data['loan_status'].value_counts()"
   ]
  },
  {
   "cell_type": "code",
   "execution_count": 6,
   "id": "operating-pencil",
   "metadata": {},
   "outputs": [
    {
     "data": {
      "text/plain": [
       "INDIVIDUAL    1359464\n",
       "Individual    1284175\n",
       "Joint App      194206\n",
       "JOINT           13707\n",
       "DIRECT_PAY       2920\n",
       "Name: application_type, dtype: int64"
      ]
     },
     "execution_count": 6,
     "metadata": {},
     "output_type": "execute_result"
    }
   ],
   "source": [
    "data['application_type'].value_counts()"
   ]
  },
  {
   "cell_type": "code",
   "execution_count": 14,
   "id": "interpreted-blanket",
   "metadata": {},
   "outputs": [],
   "source": [
    "# Only use individual loan types\n",
    "data = pipeline.filter_data(data)\n",
    "data['application_type'].unique()"
   ]
  },
  {
   "cell_type": "code",
   "execution_count": 8,
   "id": "sealed-hughes",
   "metadata": {},
   "outputs": [
    {
     "data": {
      "text/plain": [
       "673340"
      ]
     },
     "execution_count": 8,
     "metadata": {},
     "output_type": "execute_result"
    }
   ],
   "source": [
    "data.shape[0]"
   ]
  },
  {
   "cell_type": "code",
   "execution_count": 9,
   "id": "finnish-probability",
   "metadata": {},
   "outputs": [
    {
     "data": {
      "text/plain": [
       "2854472"
      ]
     },
     "execution_count": 9,
     "metadata": {},
     "output_type": "execute_result"
    }
   ],
   "source": [
    "all_data.shape[0]"
   ]
  },
  {
   "cell_type": "code",
   "execution_count": 15,
   "id": "infrared-ridge",
   "metadata": {
    "scrolled": true
   },
   "outputs": [
    {
     "data": {
      "text/plain": [
       "member_id                              1.000000\n",
       "desc                                   0.963374\n",
       "mths_since_last_delinq                 0.519161\n",
       "mths_since_last_record                 0.850447\n",
       "next_pymnt_d                           0.254702\n",
       "mths_since_last_major_derog            0.744397\n",
       "annual_inc_joint                       1.000000\n",
       "dti_joint                              1.000000\n",
       "verification_status_joint              1.000000\n",
       "open_acc_6m                            0.311407\n",
       "open_il_12m                            0.311406\n",
       "open_il_24m                            0.311406\n",
       "mths_since_rcnt_il                     0.331586\n",
       "total_bal_il                           0.311406\n",
       "il_util                                0.407763\n",
       "open_rv_12m                            0.311406\n",
       "open_rv_24m                            0.311406\n",
       "max_bal_bc                             0.311406\n",
       "all_util                               0.311497\n",
       "inq_fi                                 0.311406\n",
       "total_cu_tl                            0.311407\n",
       "inq_last_12m                           0.311407\n",
       "mths_since_recent_bc_dlq               0.771040\n",
       "mths_since_recent_revol_delinq         0.673056\n",
       "revol_bal_joint                        1.000000\n",
       "sec_app_fico_range_low                 1.000000\n",
       "sec_app_fico_range_high                1.000000\n",
       "sec_app_earliest_cr_line               1.000000\n",
       "sec_app_inq_last_6mths                 1.000000\n",
       "sec_app_mort_acc                       1.000000\n",
       "sec_app_open_acc                       1.000000\n",
       "sec_app_revol_util                     1.000000\n",
       "sec_app_num_rev_accts                  1.000000\n",
       "sec_app_chargeoff_within_12_mths       1.000000\n",
       "sec_app_collections_12_mths_ex_med     1.000000\n",
       "sec_app_mths_since_last_major_derog    1.000000\n",
       "dtype: float64"
      ]
     },
     "execution_count": 15,
     "metadata": {},
     "output_type": "execute_result"
    }
   ],
   "source": [
    "# Columns with missing data\n",
    "\n",
    "data[data.columns[data.isnull().sum()/data.shape[0] > .2]].isnull().sum()/data.shape[0]"
   ]
  },
  {
   "cell_type": "code",
   "execution_count": 8,
   "id": "important-advancement",
   "metadata": {},
   "outputs": [],
   "source": [
    "drop = ['member_id', \n",
    "        'desc', 'next_pymnt_d', 'annual_inc_joint', 'dti_joint', 'verification_status_joint', \n",
    "        'revol_bal_joint', 'sec_app_fico_range_low', \n",
    "        'sec_app_fico_range_high',\n",
    "        'sec_app_earliest_cr_line', \n",
    "        'sec_app_inq_last_6mths',\n",
    "        'sec_app_mort_acc', \n",
    "        'sec_app_open_acc',\n",
    "        'sec_app_revol_util',\n",
    "#         'sec_app_open_il_6m', \n",
    "        'sec_app_num_rev_accts',\n",
    "        'sec_app_chargeoff_within_12_mths',\n",
    "        'sec_app_collections_12_mths_ex_med',\n",
    "        'sec_app_mths_since_last_major_derog',\n",
    "        'funded_amnt_inv', \n",
    "        'grade',\n",
    "        'emp_title', \n",
    "        'emp_length',\n",
    "        'pymnt_plan',\n",
    "        'url',\n",
    "        'title',\n",
    "        'zip_code',\n",
    "        'addr_state',\n",
    "        'earliest_cr_line',\n",
    "        'fico_range_high',\n",
    "        'initial_list_status',\n",
    "        'out_prncp',\n",
    "        'out_prncp_inv',\n",
    "        'total_pymnt',\n",
    "        'total_pymnt_inv',\n",
    "        'total_rec_prncp',\n",
    "        'total_rec_int',\n",
    "        'total_rec_late_fee',\n",
    "        'recoveries',\n",
    "        'collection_recovery_fee',\n",
    "        'last_credit_pull_d', \n",
    "        'last_pymnt_d',\n",
    "        'last_pymnt_amnt',\n",
    "        'next_pymnt_d',\n",
    "        'acc_now_delinq',\n",
    "        'tot_coll_amt',\n",
    "        'tot_cur_bal',\n",
    "        'delinq_amnt' \n",
    "       ]\n",
    "# data = data.drop(drop, axis=1)"
   ]
  },
  {
   "cell_type": "code",
   "execution_count": 16,
   "id": "cardiovascular-colorado",
   "metadata": {},
   "outputs": [
    {
     "data": {
      "text/plain": [
       "array(['debt_consolidation', 'credit_card', 'home_improvement', 'other',\n",
       "       'major_purchase', 'vacation', 'house', 'car', 'small_business',\n",
       "       'renewable_energy', 'medical', 'moving', 'wedding', 'educational'],\n",
       "      dtype=object)"
      ]
     },
     "execution_count": 16,
     "metadata": {},
     "output_type": "execute_result"
    }
   ],
   "source": [
    "data.purpose.unique()"
   ]
  },
  {
   "cell_type": "code",
   "execution_count": 17,
   "id": "warming-season",
   "metadata": {
    "scrolled": false
   },
   "outputs": [
    {
     "name": "stdout",
     "output_type": "stream",
     "text": [
      "'member_id': number of missing values '2643639' ==> '100.000%'\n",
      "'emp_title': number of missing values '221805' ==> '8.390%'\n",
      "'emp_length': number of missing values '172991' ==> '6.544%'\n",
      "'desc': number of missing values '2546814' ==> '96.337%'\n",
      "'title': number of missing values '22178' ==> '0.839%'\n",
      "'zip_code': number of missing values '1' ==> '0.000%'\n",
      "'inq_last_6mths': number of missing values '1' ==> '0.000%'\n",
      "'mths_since_last_delinq': number of missing values '1372475' ==> '51.916%'\n",
      "'mths_since_last_record': number of missing values '2248274' ==> '85.045%'\n",
      "'revol_util': number of missing values '2053' ==> '0.078%'\n",
      "'last_pymnt_d': number of missing values '20363' ==> '0.770%'\n",
      "'next_pymnt_d': number of missing values '673340' ==> '25.470%'\n",
      "'last_credit_pull_d': number of missing values '77' ==> '0.003%'\n",
      "'mths_since_last_major_derog': number of missing values '1967916' ==> '74.440%'\n",
      "'annual_inc_joint': number of missing values '2643639' ==> '100.000%'\n",
      "'dti_joint': number of missing values '2643639' ==> '100.000%'\n",
      "'verification_status_joint': number of missing values '2643639' ==> '100.000%'\n",
      "'tot_coll_amt': number of missing values '27741' ==> '1.049%'\n",
      "'tot_cur_bal': number of missing values '27741' ==> '1.049%'\n",
      "'open_acc_6m': number of missing values '823247' ==> '31.141%'\n",
      "'open_il_12m': number of missing values '823246' ==> '31.141%'\n",
      "'open_il_24m': number of missing values '823246' ==> '31.141%'\n",
      "'mths_since_rcnt_il': number of missing values '876595' ==> '33.159%'\n",
      "'total_bal_il': number of missing values '823246' ==> '31.141%'\n",
      "'il_util': number of missing values '1077977' ==> '40.776%'\n",
      "'open_rv_12m': number of missing values '823246' ==> '31.141%'\n",
      "'open_rv_24m': number of missing values '823246' ==> '31.141%'\n",
      "'max_bal_bc': number of missing values '823246' ==> '31.141%'\n",
      "'all_util': number of missing values '823486' ==> '31.150%'\n",
      "'total_rev_hi_lim': number of missing values '27741' ==> '1.049%'\n",
      "'inq_fi': number of missing values '823246' ==> '31.141%'\n",
      "'total_cu_tl': number of missing values '823247' ==> '31.141%'\n",
      "'inq_last_12m': number of missing values '823247' ==> '31.141%'\n",
      "'acc_open_past_24mths': number of missing values '7495' ==> '0.284%'\n",
      "'avg_cur_bal': number of missing values '27830' ==> '1.053%'\n",
      "'bc_open_to_buy': number of missing values '34937' ==> '1.322%'\n",
      "'bc_util': number of missing values '36275' ==> '1.372%'\n",
      "'mo_sin_old_il_acct': number of missing values '106084' ==> '4.013%'\n",
      "'mo_sin_old_rev_tl_op': number of missing values '27742' ==> '1.049%'\n",
      "'mo_sin_rcnt_rev_tl_op': number of missing values '27742' ==> '1.049%'\n",
      "'mo_sin_rcnt_tl': number of missing values '27741' ==> '1.049%'\n",
      "'mort_acc': number of missing values '7495' ==> '0.284%'\n",
      "'mths_since_recent_bc': number of missing values '33217' ==> '1.256%'\n",
      "'mths_since_recent_bc_dlq': number of missing values '2038352' ==> '77.104%'\n",
      "'mths_since_recent_inq': number of missing values '299101' ==> '11.314%'\n",
      "'mths_since_recent_revol_delinq': number of missing values '1779316' ==> '67.306%'\n",
      "'num_accts_ever_120_pd': number of missing values '27741' ==> '1.049%'\n",
      "'num_actv_bc_tl': number of missing values '27741' ==> '1.049%'\n",
      "'num_actv_rev_tl': number of missing values '27741' ==> '1.049%'\n",
      "'num_bc_sats': number of missing values '16055' ==> '0.607%'\n",
      "'num_bc_tl': number of missing values '27741' ==> '1.049%'\n",
      "'num_il_tl': number of missing values '27741' ==> '1.049%'\n",
      "'num_op_rev_tl': number of missing values '27741' ==> '1.049%'\n",
      "'num_rev_accts': number of missing values '27742' ==> '1.049%'\n",
      "'num_rev_tl_bal_gt_0': number of missing values '27741' ==> '1.049%'\n",
      "'num_sats': number of missing values '16055' ==> '0.607%'\n",
      "'num_tl_120dpd_2m': number of missing values '118943' ==> '4.499%'\n",
      "'num_tl_30dpd': number of missing values '27741' ==> '1.049%'\n",
      "'num_tl_90g_dpd_24m': number of missing values '27741' ==> '1.049%'\n",
      "'num_tl_op_past_12m': number of missing values '27741' ==> '1.049%'\n",
      "'pct_tl_nvr_dlq': number of missing values '27896' ==> '1.055%'\n",
      "'percent_bc_gt_75': number of missing values '35417' ==> '1.340%'\n",
      "'tot_hi_cred_lim': number of missing values '27741' ==> '1.049%'\n",
      "'total_bal_ex_mort': number of missing values '7495' ==> '0.284%'\n",
      "'total_bc_limit': number of missing values '7495' ==> '0.284%'\n",
      "'total_il_high_credit_limit': number of missing values '27741' ==> '1.049%'\n",
      "'revol_bal_joint': number of missing values '2643639' ==> '100.000%'\n",
      "'sec_app_fico_range_low': number of missing values '2643639' ==> '100.000%'\n",
      "'sec_app_fico_range_high': number of missing values '2643639' ==> '100.000%'\n",
      "'sec_app_earliest_cr_line': number of missing values '2643639' ==> '100.000%'\n",
      "'sec_app_inq_last_6mths': number of missing values '2643639' ==> '100.000%'\n",
      "'sec_app_mort_acc': number of missing values '2643639' ==> '100.000%'\n",
      "'sec_app_open_acc': number of missing values '2643639' ==> '100.000%'\n",
      "'sec_app_revol_util': number of missing values '2643639' ==> '100.000%'\n",
      "'sec_app_num_rev_accts': number of missing values '2643639' ==> '100.000%'\n",
      "'sec_app_chargeoff_within_12_mths': number of missing values '2643639' ==> '100.000%'\n",
      "'sec_app_collections_12_mths_ex_med': number of missing values '2643639' ==> '100.000%'\n",
      "'sec_app_mths_since_last_major_derog': number of missing values '2643639' ==> '100.000%'\n"
     ]
    }
   ],
   "source": [
    "# Missing values\n",
    "for column in data.columns:\n",
    "    if data[column].isna().sum() != 0:\n",
    "        missing = data[column].isna().sum()\n",
    "        portion = (missing / data.shape[0]) * 100\n",
    "        print(f\"'{column}': number of missing values '{missing}' ==> '{portion:.3f}%'\")"
   ]
  },
  {
   "cell_type": "code",
   "execution_count": 13,
   "id": "objective-battle",
   "metadata": {},
   "outputs": [
    {
     "data": {
      "text/plain": [
       "<AxesSubplot:>"
      ]
     },
     "execution_count": 13,
     "metadata": {},
     "output_type": "execute_result"
    },
    {
     "data": {
      "image/png": "[encoded data removed]",
      "text/plain": [
       "<Figure size 432x288 with 1 Axes>"
      ]
     },
     "metadata": {
      "needs_background": "light"
     },
     "output_type": "display_data"
    }
   ],
   "source": [
    "fig, ax = plt.subplots()\n",
    "\n",
    "data[data['mths_since_last_major_derog'].isna()]['loan_status'].hist(ax = ax, alpha=.5, color='blue')\n",
    "data[~data['mths_since_last_major_derog'].isna()]['loan_status'].hist(ax = ax, alpha=.5, color='green')"
   ]
  },
  {
   "cell_type": "code",
   "execution_count": 14,
   "id": "derived-cookie",
   "metadata": {},
   "outputs": [
    {
     "data": {
      "text/plain": [
       "<AxesSubplot:>"
      ]
     },
     "execution_count": 14,
     "metadata": {},
     "output_type": "execute_result"
    },
    {
     "data": {
      "image/png": "[encoded data removed]",
      "text/plain": [
       "<Figure size 432x288 with 1 Axes>"
      ]
     },
     "metadata": {
      "needs_background": "light"
     },
     "output_type": "display_data"
    }
   ],
   "source": [
    "data['mths_since_last_major_derog'].hist(bins = 50)"
   ]
  },
  {
   "cell_type": "code",
   "execution_count": 20,
   "id": "configured-details",
   "metadata": {},
   "outputs": [],
   "source": [
    "# Clean data\n",
    "\n",
    "data = pipeline.clean_data(data)"
   ]
  },
  {
   "cell_type": "code",
   "execution_count": 21,
   "id": "working-bloom",
   "metadata": {},
   "outputs": [
    {
     "data": {
      "text/plain": [
       "array([18, 13, 12, 14, 15, 20, 19, 17, 16])"
      ]
     },
     "execution_count": 21,
     "metadata": {},
     "output_type": "execute_result"
    }
   ],
   "source": [
    "# Create Test and Validation Set\n",
    "\n",
    "data['year'].unique()"
   ]
  },
  {
   "cell_type": "code",
   "execution_count": 22,
   "id": "severe-error",
   "metadata": {},
   "outputs": [
    {
     "data": {
      "text/plain": [
       "<BarContainer object of 9 artists>"
      ]
     },
     "execution_count": 22,
     "metadata": {},
     "output_type": "execute_result"
    },
    {
     "data": {
      "image/png": "[encoded data removed]",
      "text/plain": [
       "<Figure size 432x288 with 1 Axes>"
      ]
     },
     "metadata": {
      "needs_background": "light"
     },
     "output_type": "display_data"
    }
   ],
   "source": [
    "fig, ax = plt.subplots()\n",
    "\n",
    "ax.bar(data['year'].value_counts().index,data['year'].value_counts() )"
   ]
  },
  {
   "cell_type": "code",
   "execution_count": 23,
   "id": "sufficient-entrepreneur",
   "metadata": {},
   "outputs": [
    {
     "data": {
      "text/plain": [
       "0.5206917434642173"
      ]
     },
     "execution_count": 23,
     "metadata": {},
     "output_type": "execute_result"
    }
   ],
   "source": [
    "(data['year'] >= 17).sum()/data.shape[0]"
   ]
  },
  {
   "cell_type": "code",
   "execution_count": 18,
   "id": "common-alliance",
   "metadata": {},
   "outputs": [
    {
     "data": {
      "text/plain": [
       "0.08287779507415319"
      ]
     },
     "execution_count": 18,
     "metadata": {},
     "output_type": "execute_result"
    }
   ],
   "source": [
    "(data[data['year'] >= 17]['loan_status']=='Charged Off').sum()/data[data['year'] >= 17].shape[0]"
   ]
  },
  {
   "cell_type": "code",
   "execution_count": 20,
   "id": "pressed-sweet",
   "metadata": {},
   "outputs": [
    {
     "data": {
      "text/plain": [
       "0.2085436880049994"
      ]
     },
     "execution_count": 20,
     "metadata": {},
     "output_type": "execute_result"
    }
   ],
   "source": [
    "(data[data['year'] < 17]['loan_status']=='Charged Off').sum()/data[data['year'] < 17].shape[0]"
   ]
  },
  {
   "cell_type": "code",
   "execution_count": 21,
   "id": "generous-deviation",
   "metadata": {},
   "outputs": [
    {
     "data": {
      "text/plain": [
       "year\n",
       "12    0.164491\n",
       "13    0.160649\n",
       "14    0.205134\n",
       "15    0.264148\n",
       "16    0.202681\n",
       "17    0.118006\n",
       "18    0.051843\n",
       "19    0.044889\n",
       "20    0.008303\n",
       "Name: year, dtype: float64"
      ]
     },
     "execution_count": 21,
     "metadata": {},
     "output_type": "execute_result"
    }
   ],
   "source": [
    "data[data['loan_status']=='Charged Off'].groupby('year')['year'].count()/data.groupby('year')['year'].count()"
   ]
  },
  {
   "cell_type": "code",
   "execution_count": 54,
   "id": "marine-proceeding",
   "metadata": {},
   "outputs": [],
   "source": [
    "validation = data[data['year'] >= 17]"
   ]
  },
  {
   "cell_type": "code",
   "execution_count": 39,
   "id": "configured-croatia",
   "metadata": {},
   "outputs": [],
   "source": [
    "drop.extend([\n",
    "    'application_type', \n",
    "    'issue_d', \n",
    "    'id',\n",
    "    'loan_status',\n",
    "    'year'])"
   ]
  },
  {
   "cell_type": "code",
   "execution_count": 55,
   "id": "armed-polymer",
   "metadata": {},
   "outputs": [],
   "source": [
    "training = pipeline.completed_filter(data[data['year'] < 17])"
   ]
  },
  {
   "cell_type": "code",
   "execution_count": 56,
   "id": "attractive-agriculture",
   "metadata": {},
   "outputs": [],
   "source": [
    "\n",
    "X_train = pipeline.create_X(training, drop)\n",
    "y_train = pipeline.create_y(training)"
   ]
  },
  {
   "cell_type": "code",
   "execution_count": 57,
   "id": "neutral-bernard",
   "metadata": {},
   "outputs": [],
   "source": [
    "X_test = pipeline.create_X(pipeline.completed_filter(validation), drop)\n",
    "y_test = pipeline.create_y(pipeline.completed_filter(validation))"
   ]
  },
  {
   "cell_type": "code",
   "execution_count": 58,
   "id": "passing-milan",
   "metadata": {},
   "outputs": [
    {
     "name": "stdout",
     "output_type": "stream",
     "text": [
      "(590471, 126)\n",
      "(82869, 122)\n"
     ]
    }
   ],
   "source": [
    "print(X_train.shape)\n",
    "print(X_test.shape)"
   ]
  },
  {
   "cell_type": "code",
   "execution_count": 59,
   "id": "hybrid-television",
   "metadata": {},
   "outputs": [
    {
     "name": "stdout",
     "output_type": "stream",
     "text": [
      "home_ownership_NONE\n",
      "home_ownership_OTHER\n",
      "purpose_educational\n",
      "purpose_wedding\n"
     ]
    }
   ],
   "source": [
    "for c in X_train.columns:\n",
    "    if c not in X_test.columns:\n",
    "        print(c)"
   ]
  },
  {
   "cell_type": "code",
   "execution_count": 34,
   "id": "spatial-complement",
   "metadata": {},
   "outputs": [],
   "source": [
    "from sklearn.model_selection import train_test_split\n",
    "from sklearn.ensemble import RandomForestClassifier\n",
    "from sklearn.ensemble import GradientBoostingClassifier\n",
    "\n",
    "from sklearn.metrics import recall_score, precision_score"
   ]
  },
  {
   "cell_type": "code",
   "execution_count": 340,
   "id": "continuous-gender",
   "metadata": {},
   "outputs": [],
   "source": [
    "X_train, X_test, y_train, y_test = train_test_split(X,y)"
   ]
  },
  {
   "cell_type": "code",
   "execution_count": 42,
   "id": "unable-virgin",
   "metadata": {},
   "outputs": [
    {
     "ename": "ValueError",
     "evalue": "X has 122 features, but DecisionTreeClassifier is expecting 126 features as input.",
     "output_type": "error",
     "traceback": [
      "\u001b[0;31m---------------------------------------------------------------------------\u001b[0m",
      "\u001b[0;31mValueError\u001b[0m                                Traceback (most recent call last)",
      "\u001b[0;32m<ipython-input-42-d23b71ed91f3>\u001b[0m in \u001b[0;36m<module>\u001b[0;34m\u001b[0m\n\u001b[1;32m      1\u001b[0m \u001b[0mrf_model\u001b[0m \u001b[0;34m=\u001b[0m \u001b[0mRandomForestClassifier\u001b[0m\u001b[0;34m(\u001b[0m\u001b[0;34m)\u001b[0m\u001b[0;34m\u001b[0m\u001b[0;34m\u001b[0m\u001b[0m\n\u001b[1;32m      2\u001b[0m \u001b[0mrf_model\u001b[0m\u001b[0;34m.\u001b[0m\u001b[0mfit\u001b[0m\u001b[0;34m(\u001b[0m\u001b[0mX_train\u001b[0m\u001b[0;34m,\u001b[0m \u001b[0my_train\u001b[0m\u001b[0;34m)\u001b[0m\u001b[0;34m\u001b[0m\u001b[0;34m\u001b[0m\u001b[0m\n\u001b[0;32m----> 3\u001b[0;31m \u001b[0mrecall\u001b[0m \u001b[0;34m=\u001b[0m \u001b[0mrecall_score\u001b[0m\u001b[0;34m(\u001b[0m\u001b[0my_test\u001b[0m\u001b[0;34m,\u001b[0m \u001b[0mrf_model\u001b[0m\u001b[0;34m.\u001b[0m\u001b[0mpredict\u001b[0m\u001b[0;34m(\u001b[0m\u001b[0mX_test\u001b[0m\u001b[0;34m)\u001b[0m\u001b[0;34m)\u001b[0m\u001b[0;34m\u001b[0m\u001b[0;34m\u001b[0m\u001b[0m\n\u001b[0m\u001b[1;32m      4\u001b[0m \u001b[0mprecision\u001b[0m \u001b[0;34m=\u001b[0m \u001b[0mprecision_score\u001b[0m\u001b[0;34m(\u001b[0m\u001b[0my_test\u001b[0m\u001b[0;34m,\u001b[0m \u001b[0mrf_model\u001b[0m\u001b[0;34m.\u001b[0m\u001b[0mpredict\u001b[0m\u001b[0;34m(\u001b[0m\u001b[0mX_test\u001b[0m\u001b[0;34m)\u001b[0m\u001b[0;34m)\u001b[0m\u001b[0;34m\u001b[0m\u001b[0;34m\u001b[0m\u001b[0m\n\u001b[1;32m      5\u001b[0m \u001b[0mprint\u001b[0m\u001b[0;34m(\u001b[0m\u001b[0;34mf'Recall: {recall}\\nPrecision: {precision}'\u001b[0m\u001b[0;34m)\u001b[0m\u001b[0;34m\u001b[0m\u001b[0;34m\u001b[0m\u001b[0m\n",
      "\u001b[0;32m~/miniforge3/envs/tf/lib/python3.8/site-packages/sklearn/ensemble/_forest.py\u001b[0m in \u001b[0;36mpredict\u001b[0;34m(self, X)\u001b[0m\n\u001b[1;32m    628\u001b[0m             \u001b[0mThe\u001b[0m \u001b[0mpredicted\u001b[0m \u001b[0mclasses\u001b[0m\u001b[0;34m.\u001b[0m\u001b[0;34m\u001b[0m\u001b[0;34m\u001b[0m\u001b[0m\n\u001b[1;32m    629\u001b[0m         \"\"\"\n\u001b[0;32m--> 630\u001b[0;31m         \u001b[0mproba\u001b[0m \u001b[0;34m=\u001b[0m \u001b[0mself\u001b[0m\u001b[0;34m.\u001b[0m\u001b[0mpredict_proba\u001b[0m\u001b[0;34m(\u001b[0m\u001b[0mX\u001b[0m\u001b[0;34m)\u001b[0m\u001b[0;34m\u001b[0m\u001b[0;34m\u001b[0m\u001b[0m\n\u001b[0m\u001b[1;32m    631\u001b[0m \u001b[0;34m\u001b[0m\u001b[0m\n\u001b[1;32m    632\u001b[0m         \u001b[0;32mif\u001b[0m \u001b[0mself\u001b[0m\u001b[0;34m.\u001b[0m\u001b[0mn_outputs_\u001b[0m \u001b[0;34m==\u001b[0m \u001b[0;36m1\u001b[0m\u001b[0;34m:\u001b[0m\u001b[0;34m\u001b[0m\u001b[0;34m\u001b[0m\u001b[0m\n",
      "\u001b[0;32m~/miniforge3/envs/tf/lib/python3.8/site-packages/sklearn/ensemble/_forest.py\u001b[0m in \u001b[0;36mpredict_proba\u001b[0;34m(self, X)\u001b[0m\n\u001b[1;32m    672\u001b[0m         \u001b[0mcheck_is_fitted\u001b[0m\u001b[0;34m(\u001b[0m\u001b[0mself\u001b[0m\u001b[0;34m)\u001b[0m\u001b[0;34m\u001b[0m\u001b[0;34m\u001b[0m\u001b[0m\n\u001b[1;32m    673\u001b[0m         \u001b[0;31m# Check data\u001b[0m\u001b[0;34m\u001b[0m\u001b[0;34m\u001b[0m\u001b[0;34m\u001b[0m\u001b[0m\n\u001b[0;32m--> 674\u001b[0;31m         \u001b[0mX\u001b[0m \u001b[0;34m=\u001b[0m \u001b[0mself\u001b[0m\u001b[0;34m.\u001b[0m\u001b[0m_validate_X_predict\u001b[0m\u001b[0;34m(\u001b[0m\u001b[0mX\u001b[0m\u001b[0;34m)\u001b[0m\u001b[0;34m\u001b[0m\u001b[0;34m\u001b[0m\u001b[0m\n\u001b[0m\u001b[1;32m    675\u001b[0m \u001b[0;34m\u001b[0m\u001b[0m\n\u001b[1;32m    676\u001b[0m         \u001b[0;31m# Assign chunk of trees to jobs\u001b[0m\u001b[0;34m\u001b[0m\u001b[0;34m\u001b[0m\u001b[0;34m\u001b[0m\u001b[0m\n",
      "\u001b[0;32m~/miniforge3/envs/tf/lib/python3.8/site-packages/sklearn/ensemble/_forest.py\u001b[0m in \u001b[0;36m_validate_X_predict\u001b[0;34m(self, X)\u001b[0m\n\u001b[1;32m    420\u001b[0m         \u001b[0mcheck_is_fitted\u001b[0m\u001b[0;34m(\u001b[0m\u001b[0mself\u001b[0m\u001b[0;34m)\u001b[0m\u001b[0;34m\u001b[0m\u001b[0;34m\u001b[0m\u001b[0m\n\u001b[1;32m    421\u001b[0m \u001b[0;34m\u001b[0m\u001b[0m\n\u001b[0;32m--> 422\u001b[0;31m         \u001b[0;32mreturn\u001b[0m \u001b[0mself\u001b[0m\u001b[0;34m.\u001b[0m\u001b[0mestimators_\u001b[0m\u001b[0;34m[\u001b[0m\u001b[0;36m0\u001b[0m\u001b[0;34m]\u001b[0m\u001b[0;34m.\u001b[0m\u001b[0m_validate_X_predict\u001b[0m\u001b[0;34m(\u001b[0m\u001b[0mX\u001b[0m\u001b[0;34m,\u001b[0m \u001b[0mcheck_input\u001b[0m\u001b[0;34m=\u001b[0m\u001b[0;32mTrue\u001b[0m\u001b[0;34m)\u001b[0m\u001b[0;34m\u001b[0m\u001b[0;34m\u001b[0m\u001b[0m\n\u001b[0m\u001b[1;32m    423\u001b[0m \u001b[0;34m\u001b[0m\u001b[0m\n\u001b[1;32m    424\u001b[0m     \u001b[0;34m@\u001b[0m\u001b[0mproperty\u001b[0m\u001b[0;34m\u001b[0m\u001b[0;34m\u001b[0m\u001b[0m\n",
      "\u001b[0;32m~/miniforge3/envs/tf/lib/python3.8/site-packages/sklearn/tree/_classes.py\u001b[0m in \u001b[0;36m_validate_X_predict\u001b[0;34m(self, X, check_input)\u001b[0m\n\u001b[1;32m    400\u001b[0m         \u001b[0;34m\"\"\"Validate the training data on predict (probabilities).\"\"\"\u001b[0m\u001b[0;34m\u001b[0m\u001b[0;34m\u001b[0m\u001b[0m\n\u001b[1;32m    401\u001b[0m         \u001b[0;32mif\u001b[0m \u001b[0mcheck_input\u001b[0m\u001b[0;34m:\u001b[0m\u001b[0;34m\u001b[0m\u001b[0;34m\u001b[0m\u001b[0m\n\u001b[0;32m--> 402\u001b[0;31m             X = self._validate_data(X, dtype=DTYPE, accept_sparse=\"csr\",\n\u001b[0m\u001b[1;32m    403\u001b[0m                                     reset=False)\n\u001b[1;32m    404\u001b[0m             if issparse(X) and (X.indices.dtype != np.intc or\n",
      "\u001b[0;32m~/miniforge3/envs/tf/lib/python3.8/site-packages/sklearn/base.py\u001b[0m in \u001b[0;36m_validate_data\u001b[0;34m(self, X, y, reset, validate_separately, **check_params)\u001b[0m\n\u001b[1;32m    435\u001b[0m \u001b[0;34m\u001b[0m\u001b[0m\n\u001b[1;32m    436\u001b[0m         \u001b[0;32mif\u001b[0m \u001b[0mcheck_params\u001b[0m\u001b[0;34m.\u001b[0m\u001b[0mget\u001b[0m\u001b[0;34m(\u001b[0m\u001b[0;34m'ensure_2d'\u001b[0m\u001b[0;34m,\u001b[0m \u001b[0;32mTrue\u001b[0m\u001b[0;34m)\u001b[0m\u001b[0;34m:\u001b[0m\u001b[0;34m\u001b[0m\u001b[0;34m\u001b[0m\u001b[0m\n\u001b[0;32m--> 437\u001b[0;31m             \u001b[0mself\u001b[0m\u001b[0;34m.\u001b[0m\u001b[0m_check_n_features\u001b[0m\u001b[0;34m(\u001b[0m\u001b[0mX\u001b[0m\u001b[0;34m,\u001b[0m \u001b[0mreset\u001b[0m\u001b[0;34m=\u001b[0m\u001b[0mreset\u001b[0m\u001b[0;34m)\u001b[0m\u001b[0;34m\u001b[0m\u001b[0;34m\u001b[0m\u001b[0m\n\u001b[0m\u001b[1;32m    438\u001b[0m \u001b[0;34m\u001b[0m\u001b[0m\n\u001b[1;32m    439\u001b[0m         \u001b[0;32mreturn\u001b[0m \u001b[0mout\u001b[0m\u001b[0;34m\u001b[0m\u001b[0;34m\u001b[0m\u001b[0m\n",
      "\u001b[0;32m~/miniforge3/envs/tf/lib/python3.8/site-packages/sklearn/base.py\u001b[0m in \u001b[0;36m_check_n_features\u001b[0;34m(self, X, reset)\u001b[0m\n\u001b[1;32m    363\u001b[0m \u001b[0;34m\u001b[0m\u001b[0m\n\u001b[1;32m    364\u001b[0m         \u001b[0;32mif\u001b[0m \u001b[0mn_features\u001b[0m \u001b[0;34m!=\u001b[0m \u001b[0mself\u001b[0m\u001b[0;34m.\u001b[0m\u001b[0mn_features_in_\u001b[0m\u001b[0;34m:\u001b[0m\u001b[0;34m\u001b[0m\u001b[0;34m\u001b[0m\u001b[0m\n\u001b[0;32m--> 365\u001b[0;31m             raise ValueError(\n\u001b[0m\u001b[1;32m    366\u001b[0m                 \u001b[0;34mf\"X has {n_features} features, but {self.__class__.__name__} \"\u001b[0m\u001b[0;34m\u001b[0m\u001b[0;34m\u001b[0m\u001b[0m\n\u001b[1;32m    367\u001b[0m                 f\"is expecting {self.n_features_in_} features as input.\")\n",
      "\u001b[0;31mValueError\u001b[0m: X has 122 features, but DecisionTreeClassifier is expecting 126 features as input."
     ]
    }
   ],
   "source": [
    "rf_model = RandomForestClassifier()\n",
    "rf_model.fit(X_train, y_train)\n",
    "recall = recall_score(y_test, rf_model.predict(X_test))\n",
    "precision = precision_score(y_test, rf_model.predict(X_test))\n",
    "print(f'Recall: {recall}\\nPrecision: {precision}')"
   ]
  },
  {
   "cell_type": "code",
   "execution_count": null,
   "id": "charged-aberdeen",
   "metadata": {},
   "outputs": [],
   "source": [
    "gb_model = GradientBoostingClassifier()\n",
    "gb_model.fit(X_train, y_train)\n",
    "recall = recall_score(y_test, gb_model.predict(X_test))\n",
    "precision = precision_score(y_test, gb_model.predict(X_test))\n",
    "print(f'Recall: {recall}\\nPrecision: {precision}')"
   ]
  },
  {
   "cell_type": "code",
   "execution_count": null,
   "id": "statutory-southeast",
   "metadata": {},
   "outputs": [],
   "source": [
    "def calculate_threshold_values(prob, y):\n",
    "    '''\n",
    "    Build dataframe of the various confusion-matrix ratios by threshold\n",
    "    from a list of predicted probabilities and actual y values\n",
    "    '''\n",
    "    df = pd.DataFrame({'prob': prob, 'y': y})\n",
    "    df.sort_values('prob', inplace=True)\n",
    "    \n",
    "    actual_p = df.y.sum()\n",
    "    actual_n = df.shape[0] - df.y.sum()\n",
    "\n",
    "    df['tn'] = (df.y == 0).cumsum()\n",
    "    df['fn'] = df.y.cumsum()\n",
    "    df['fp'] = actual_n - df.tn\n",
    "    df['tp'] = actual_p - df.fn\n",
    "\n",
    "    df['fpr'] = df.fp/(df.fp + df.tn)\n",
    "    df['tpr'] = df.tp/(df.tp + df.fn)\n",
    "    df['precision'] = df.tp/(df.tp + df.fp)\n",
    "    df = df.reset_index(drop=True)\n",
    "    return df\n",
    "    \n",
    "def plot_roc(ax, df):\n",
    "    ax.plot([1]+list(df.fpr), [1]+list(df.tpr), label=\"ROC\")\n",
    "    ax.plot([0,1],[0,1], 'k', label=\"random\")\n",
    "    ax.set_xlabel('fpr')\n",
    "    ax.set_ylabel('tpr')\n",
    "    ax.set_title('ROC Curve')\n",
    "    ax.legend()\n",
    "    \n",
    "def plot_precision_recall(ax, df):\n",
    "    ax.plot(df.tpr,df.precision, label='precision/recall')\n",
    "    #ax.plot([0,1],[0,1], 'k')\n",
    "    ax.set_xlabel('recall')\n",
    "    ax.set_ylabel('precision')\n",
    "    ax.set_title('Precision/Recall Curve')\n",
    "    ax.plot([0,1],[df.precision[0],df.precision[0]], 'k', label='random')\n",
    "    ax.set_xlim(left=0,right=1)\n",
    "    ax.set_ylim(bottom=0,top=1)"
   ]
  },
  {
   "cell_type": "code",
   "execution_count": null,
   "id": "ceramic-cache",
   "metadata": {},
   "outputs": [],
   "source": [
    "fig, (ax0, ax1) = plt.subplots(1,2, figsize=(12,6))\n",
    "df = calculate_threshold_values(rf_model.predict_proba(X_test)[:,1], y_test)\n",
    "plot_roc(ax0, df)\n",
    "plot_precision_recall(ax1, df)"
   ]
  },
  {
   "cell_type": "code",
   "execution_count": null,
   "id": "joint-expansion",
   "metadata": {},
   "outputs": [],
   "source": [
    "probabilities = rf_model.predict_proba(X_test)"
   ]
  },
  {
   "cell_type": "code",
   "execution_count": null,
   "id": "bacterial-humanity",
   "metadata": {},
   "outputs": [],
   "source": [
    "fig, ax = plt.subplots()\n",
    "ax.hist(probabilities[:,1], bins=50);"
   ]
  },
  {
   "cell_type": "code",
   "execution_count": null,
   "id": "likely-qualification",
   "metadata": {},
   "outputs": [],
   "source": [
    "(probabilities > .5).sum()"
   ]
  },
  {
   "cell_type": "code",
   "execution_count": null,
   "id": "treated-raleigh",
   "metadata": {},
   "outputs": [],
   "source": [
    "y.sum()"
   ]
  },
  {
   "cell_type": "code",
   "execution_count": null,
   "id": "distinct-creator",
   "metadata": {},
   "outputs": [],
   "source": [
    "threshold = np.linspace(0,1,50)\n",
    "yhat = rf_model.predict_proba(X_test)[:,1]\n",
    "\n",
    "recall = []\n",
    "precision = []\n",
    "for t in threshold:\n",
    "    c = pd.crosstab(pd.Categorical(y_test, categories=[0,1]), \n",
    "                    pd.Categorical(yhat>t, categories=[0,1]), \n",
    "                    rownames=['actual'], \n",
    "                    colnames=['predicted'],\n",
    "                    dropna=False)\n",
    "    r = c[1][1]/(c[1][1]+c[0][1])\n",
    "    p = c[1][1]/(c[1][1]+c[1][0])\n",
    "    recall.append(r)\n",
    "    precision.append(p)"
   ]
  },
  {
   "cell_type": "code",
   "execution_count": null,
   "id": "small-lighter",
   "metadata": {},
   "outputs": [],
   "source": [
    "fig, ax = plt.subplots(figsize=(10,8))\n",
    "\n",
    "ax.plot(threshold, recall, label='recall')\n",
    "ax.plot(threshold, precision, label='precision')\n",
    "# ax.vlines([.08, .85], 0,1, linestyles='--', colors='green')\n",
    "ax.legend()\n",
    "ax.set_xlabel('Threshold')\n",
    "ax.set_ylabel('Score')\n",
    "ax.set_title('Change in Precision and Recall for Thresholds')\n",
    "plt.show()"
   ]
  },
  {
   "cell_type": "code",
   "execution_count": null,
   "id": "diagnostic-lyric",
   "metadata": {},
   "outputs": [],
   "source": [
    "y_prob = rf_model.predict_proba(X_test)[:,1]"
   ]
  },
  {
   "cell_type": "code",
   "execution_count": null,
   "id": "employed-profit",
   "metadata": {},
   "outputs": [],
   "source": [
    "# make predictions based on probabilities and threshold\n",
    "def predict(model, X, threshold=0.5):\n",
    "    '''Return prediction of the fitted binary-classifier model model on X using\n",
    "    the specifed `threshold`. NB: class 1 is the positive class'''\n",
    "    return np.where(model.predict_proba(X)[:,1] > threshold, 1, 0)\n",
    "\n",
    "# create confusion matrix with a given model and Xtest\n",
    "def confusion_matrix(model, X, y,  threshold=0.5):\n",
    "    cf = pd.crosstab(y, predict(model, X, threshold), dropna=False)\n",
    "    cf = cf.add(pd.DataFrame([[0,0],[0,0]], columns=[0, 1], index=[0, 1]), fill_value=0)\n",
    "    cf.index.name = 'actual'\n",
    "    cf.columns.name = 'predicted'\n",
    "    return cf\n",
    "\n",
    "# calculate the payout for a given probability threshold\n",
    "def calculate_payout(cb_matrix, model, X, y, threshold):\n",
    "    return (confusion_matrix(model, X, y, threshold) * cb_matrix).values.sum()"
   ]
  },
  {
   "cell_type": "code",
   "execution_count": null,
   "id": "sudden-reader",
   "metadata": {},
   "outputs": [],
   "source": [
    "rf_model.classes_"
   ]
  },
  {
   "cell_type": "code",
   "execution_count": null,
   "id": "african-clause",
   "metadata": {
    "scrolled": true
   },
   "outputs": [],
   "source": [
    "cf = confusion_matrix(rf_model, X_test, y_test)"
   ]
  },
  {
   "cell_type": "code",
   "execution_count": null,
   "id": "durable-bachelor",
   "metadata": {},
   "outputs": [],
   "source": [
    "cf"
   ]
  },
  {
   "cell_type": "code",
   "execution_count": null,
   "id": "apart-finnish",
   "metadata": {},
   "outputs": [],
   "source": [
    "cb_matrix = pd.DataFrame([[0, -20], [0, 10]], columns=[0, 1], index=[0,1])\n",
    "cb_matrix.index.name = 'actual'\n",
    "cb_matrix.columns.name = 'predicted'"
   ]
  },
  {
   "cell_type": "code",
   "execution_count": null,
   "id": "detailed-retention",
   "metadata": {},
   "outputs": [],
   "source": [
    "cb_matrix"
   ]
  },
  {
   "cell_type": "code",
   "execution_count": null,
   "id": "accurate-discipline",
   "metadata": {},
   "outputs": [],
   "source": [
    "calculate_payout(cb_matrix, rf_model, X_test, y_test, .5)"
   ]
  },
  {
   "cell_type": "code",
   "execution_count": null,
   "id": "duplicate-phrase",
   "metadata": {},
   "outputs": [],
   "source": [
    "-10*6414 + 26550 * 10"
   ]
  },
  {
   "cell_type": "code",
   "execution_count": null,
   "id": "mighty-headset",
   "metadata": {},
   "outputs": [],
   "source": [
    "# Cost benefit\n",
    "def get_profits(model, X, y):\n",
    "    cb_matrix = pd.DataFrame([[0, -20], [0, 10]], columns=[0, 1], index=[0,1])\n",
    "    cb_matrix.index.name = 'actual'\n",
    "    cb_matrix.columns.name = 'predicted'\n",
    "    # calculate the payout with a the cost benefit matrix, \n",
    "    # given threshhold, model, and X\n",
    "    thresholds = np.arange(0.0, 1.0, 0.05)\n",
    "    profits = []\n",
    "    for threshold in thresholds:\n",
    "        profits.append(calculate_payout(cb_matrix, model, X, y, threshold))\n",
    "    return profits\n",
    "    \n",
    "    \n",
    "def profit_curve(profits, ax):\n",
    "    thresholds = np.arange(0.0, 1.0, 0.05)\n",
    "    ax.plot(thresholds, profits)\n",
    "    ax.set_xlabel('Thresholds')\n",
    "    ax.set_ylabel('Profits')\n",
    "    ax.set_title('Profit Curve')\n",
    "    print(profits)"
   ]
  },
  {
   "cell_type": "code",
   "execution_count": null,
   "id": "statutory-wrong",
   "metadata": {},
   "outputs": [],
   "source": [
    "profits = get_profits(rf_model, X_test, y_test)"
   ]
  },
  {
   "cell_type": "code",
   "execution_count": null,
   "id": "palestinian-vertex",
   "metadata": {
    "scrolled": false
   },
   "outputs": [],
   "source": [
    "fig, ax = plt.subplots(figsize=(12, 8))\n",
    "thresholds = np.arange(0.0, 1.0, 0.05)\n",
    "ax.plot(thresholds, profits)\n",
    "ax.set_xlabel('Thresholds')\n",
    "ax.set_ylabel('Profits')\n",
    "ax.set_title('Profit Curve')\n",
    "ax.set_ylim(-250000, 200000)"
   ]
  },
  {
   "cell_type": "code",
   "execution_count": null,
   "id": "floral-courtesy",
   "metadata": {},
   "outputs": [],
   "source": [
    "def get_yhat(probs, threshold):\n",
    "    return probs > threshold"
   ]
  },
  {
   "cell_type": "code",
   "execution_count": null,
   "id": "split-humanity",
   "metadata": {},
   "outputs": [],
   "source": [
    "def get_cf_arrays(y_true, y_hat):\n",
    "    true_positive = (y_true == 1) & (y_hat==1)\n",
    "    true_negative = (y_true == 0) & (y_hat==0)\n",
    "    false_positive = (y_true == 0) & (y_hat==1)\n",
    "    false_negative = (y_true == 1) & (y_hat==0)\n",
    "    return true_positive, true_negative, false_positive, false_negative"
   ]
  },
  {
   "cell_type": "code",
   "execution_count": null,
   "id": "impressive-citizenship",
   "metadata": {},
   "outputs": [],
   "source": [
    "tp, tn, fp, fn = get_cf_arrays(y_test, get_yhat(probabilities[:,1], .65))"
   ]
  },
  {
   "cell_type": "code",
   "execution_count": null,
   "id": "above-charm",
   "metadata": {},
   "outputs": [],
   "source": [
    "tp.sum() + tn.sum() + fp.sum() + fn.sum()"
   ]
  },
  {
   "cell_type": "code",
   "execution_count": null,
   "id": "wooden-transformation",
   "metadata": {},
   "outputs": [],
   "source": [
    "y_test.shape[0]"
   ]
  },
  {
   "cell_type": "code",
   "execution_count": null,
   "id": "attended-driver",
   "metadata": {
    "scrolled": true
   },
   "outputs": [],
   "source": [
    "data.loc[y_test.index[tp]]"
   ]
  },
  {
   "cell_type": "code",
   "execution_count": null,
   "id": "painful-corporation",
   "metadata": {},
   "outputs": [],
   "source": [
    "payment = [\n",
    "    'loan_amnt', \n",
    "    'funded_amnt',\n",
    "    'out_prncp',\n",
    "    'out_prncp_inv',\n",
    "    'total_pymnt',\n",
    "    'total_pymnt_inv',\n",
    "    'total_rec_prncp',\n",
    "    'total_rec_int',\n",
    "    'total_rec_late_fee']"
   ]
  },
  {
   "cell_type": "code",
   "execution_count": null,
   "id": "billion-custom",
   "metadata": {},
   "outputs": [],
   "source": [
    "data.loc[y_test.index[tp]][payment]"
   ]
  },
  {
   "cell_type": "code",
   "execution_count": null,
   "id": "smart-planet",
   "metadata": {},
   "outputs": [],
   "source": [
    "data[data.loan_amnt != data.funded_amnt][payment]"
   ]
  },
  {
   "cell_type": "code",
   "execution_count": null,
   "id": "happy-crack",
   "metadata": {},
   "outputs": [],
   "source": [
    "data.loc[:,payment].info()"
   ]
  },
  {
   "cell_type": "code",
   "execution_count": null,
   "id": "american-conjunction",
   "metadata": {
    "scrolled": true
   },
   "outputs": [],
   "source": [
    "(data.loc[y_test.index[tp]]['funded_amnt'].sum()-data.loc[y_test.index[tp]]['total_rec_prncp'].sum())/y_test.index[tp].shape[0]"
   ]
  },
  {
   "cell_type": "code",
   "execution_count": null,
   "id": "scheduled-vermont",
   "metadata": {},
   "outputs": [],
   "source": [
    "data.loc[y_test.index[fp]]['total_rec_int'].sum()"
   ]
  },
  {
   "cell_type": "code",
   "execution_count": null,
   "id": "extended-plaintiff",
   "metadata": {},
   "outputs": [],
   "source": [
    "def potential_principal_saved(tp, fp, interest=False):\n",
    "    # Principal remaining\n",
    "    funded = data.loc[y_test.index[tp]]['funded_amnt'].sum()\n",
    "    princ_rec = data.loc[y_test.index[tp]]['total_rec_prncp'].sum()\n",
    "    int_rec = data.loc[y_test.index[tp]]['total_rec_int'].sum()\n",
    "    missed_int = data.loc[y_test.index[fp]]['total_rec_int'].sum()\n",
    "    saved = funded - princ_rec - missed_int\n",
    "    if interest:\n",
    "        saved -= int_rec\n",
    "    return saved\n",
    "    "
   ]
  },
  {
   "cell_type": "code",
   "execution_count": null,
   "id": "boolean-newton",
   "metadata": {},
   "outputs": [],
   "source": [
    "savings = []\n",
    "for t in threshold:\n",
    "    tp, tn, fp, fn = get_cf_arrays(y_test, get_yhat(probabilities[:,1], t))\n",
    "    savings.append(potential_principal_saved(tp, fp))"
   ]
  },
  {
   "cell_type": "code",
   "execution_count": null,
   "id": "wrapped-investor",
   "metadata": {},
   "outputs": [],
   "source": [
    "fig, ax = plt.subplots()\n",
    "\n",
    "ax.plot(threshold, savings)"
   ]
  },
  {
   "cell_type": "code",
   "execution_count": null,
   "id": "stupid-conditioning",
   "metadata": {},
   "outputs": [],
   "source": [
    "savings = []\n",
    "for t in threshold:\n",
    "    tp, tn, fp, fn = get_cf_arrays(y_test, get_yhat(probabilities[:,1], t))\n",
    "    savings.append(potential_principal_saved(tp, fp, True))\n"
   ]
  },
  {
   "cell_type": "code",
   "execution_count": null,
   "id": "electoral-soldier",
   "metadata": {},
   "outputs": [],
   "source": [
    "fig, ax = plt.subplots(figsize=(8,6))\n",
    "\n",
    "ax.plot(threshold, savings)\n",
    "ax.set_xlabel('Threshold')\n",
    "ax.set_ylabel('Dollars Saved')"
   ]
  },
  {
   "cell_type": "code",
   "execution_count": null,
   "id": "brazilian-question",
   "metadata": {},
   "outputs": [],
   "source": [
    "threshold[np.argmax(savings)]"
   ]
  },
  {
   "cell_type": "code",
   "execution_count": null,
   "id": "dominant-youth",
   "metadata": {},
   "outputs": [],
   "source": []
  }
 ],
 "metadata": {
  "kernelspec": {
   "display_name": "Python 3",
   "language": "python",
   "name": "python3"
  },
  "language_info": {
   "codemirror_mode": {
    "name": "ipython",
    "version": 3
   },
   "file_extension": ".py",
   "mimetype": "text/x-python",
   "name": "python",
   "nbconvert_exporter": "python",
   "pygments_lexer": "ipython3",
   "version": "3.8.8"
  }
 },
 "nbformat": 4,
 "nbformat_minor": 5
}
