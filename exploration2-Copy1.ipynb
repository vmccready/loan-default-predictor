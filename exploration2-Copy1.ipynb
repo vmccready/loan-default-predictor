{
 "cells": [
  {
   "cell_type": "code",
   "execution_count": 107,
   "id": "assigned-acceptance",
   "metadata": {},
   "outputs": [],
   "source": [
    "import numpy as np\n",
    "import pandas as pd\n",
    "import matplotlib.pyplot as plt\n",
    "import re\n",
    "import pickle\n",
    "\n",
    "from glob import iglob"
   ]
  },
  {
   "cell_type": "code",
   "execution_count": 3,
   "id": "alternative-outside",
   "metadata": {},
   "outputs": [],
   "source": [
    "import importlib\n",
    "import src.pipeline as pipeline"
   ]
  },
  {
   "cell_type": "code",
   "execution_count": 112,
   "id": "governing-intervention",
   "metadata": {},
   "outputs": [
    {
     "data": {
      "text/plain": [
       "<module 'src.pipeline' from '/Users/vinsonmccready/galvanize/loan-default-predictor/src/pipeline.py'>"
      ]
     },
     "execution_count": 112,
     "metadata": {},
     "output_type": "execute_result"
    }
   ],
   "source": [
    "importlib.reload(pipeline)"
   ]
  },
  {
   "cell_type": "code",
   "execution_count": 4,
   "id": "laughing-spank",
   "metadata": {},
   "outputs": [],
   "source": [
    "data = pipeline.get_all_data('data/raw/')"
   ]
  },
  {
   "cell_type": "code",
   "execution_count": 5,
   "id": "needed-smith",
   "metadata": {
    "scrolled": true
   },
   "outputs": [
    {
     "data": {
      "text/html": [
       "<div>\n",
       "<style scoped>\n",
       "    .dataframe tbody tr th:only-of-type {\n",
       "        vertical-align: middle;\n",
       "    }\n",
       "\n",
       "    .dataframe tbody tr th {\n",
       "        vertical-align: top;\n",
       "    }\n",
       "\n",
       "    .dataframe thead th {\n",
       "        text-align: right;\n",
       "    }\n",
       "</style>\n",
       "<table border=\"1\" class=\"dataframe\">\n",
       "  <thead>\n",
       "    <tr style=\"text-align: right;\">\n",
       "      <th></th>\n",
       "      <th>id</th>\n",
       "      <th>member_id</th>\n",
       "      <th>loan_amnt</th>\n",
       "      <th>funded_amnt</th>\n",
       "      <th>funded_amnt_inv</th>\n",
       "      <th>term</th>\n",
       "      <th>int_rate</th>\n",
       "      <th>installment</th>\n",
       "      <th>grade</th>\n",
       "      <th>sub_grade</th>\n",
       "      <th>...</th>\n",
       "      <th>sec_app_earliest_cr_line</th>\n",
       "      <th>sec_app_inq_last_6mths</th>\n",
       "      <th>sec_app_mort_acc</th>\n",
       "      <th>sec_app_open_acc</th>\n",
       "      <th>sec_app_revol_util</th>\n",
       "      <th>sec_app_num_rev_accts</th>\n",
       "      <th>sec_app_chargeoff_within_12_mths</th>\n",
       "      <th>sec_app_collections_12_mths_ex_med</th>\n",
       "      <th>sec_app_mths_since_last_major_derog</th>\n",
       "      <th>year</th>\n",
       "    </tr>\n",
       "  </thead>\n",
       "  <tbody>\n",
       "    <tr>\n",
       "      <th>0</th>\n",
       "      <td>145217616</td>\n",
       "      <td>NaN</td>\n",
       "      <td>10000</td>\n",
       "      <td>10000</td>\n",
       "      <td>10000.0</td>\n",
       "      <td>36 months</td>\n",
       "      <td>10.33%</td>\n",
       "      <td>324.23</td>\n",
       "      <td>B</td>\n",
       "      <td>B1</td>\n",
       "      <td>...</td>\n",
       "      <td>NaN</td>\n",
       "      <td>NaN</td>\n",
       "      <td>NaN</td>\n",
       "      <td>NaN</td>\n",
       "      <td>NaN</td>\n",
       "      <td>NaN</td>\n",
       "      <td>NaN</td>\n",
       "      <td>NaN</td>\n",
       "      <td>NaN</td>\n",
       "      <td>18</td>\n",
       "    </tr>\n",
       "    <tr>\n",
       "      <th>1</th>\n",
       "      <td>145640422</td>\n",
       "      <td>NaN</td>\n",
       "      <td>2500</td>\n",
       "      <td>2500</td>\n",
       "      <td>2500.0</td>\n",
       "      <td>36 months</td>\n",
       "      <td>13.56%</td>\n",
       "      <td>84.92</td>\n",
       "      <td>C</td>\n",
       "      <td>C1</td>\n",
       "      <td>...</td>\n",
       "      <td>NaN</td>\n",
       "      <td>NaN</td>\n",
       "      <td>NaN</td>\n",
       "      <td>NaN</td>\n",
       "      <td>NaN</td>\n",
       "      <td>NaN</td>\n",
       "      <td>NaN</td>\n",
       "      <td>NaN</td>\n",
       "      <td>NaN</td>\n",
       "      <td>18</td>\n",
       "    </tr>\n",
       "    <tr>\n",
       "      <th>2</th>\n",
       "      <td>145630143</td>\n",
       "      <td>NaN</td>\n",
       "      <td>12000</td>\n",
       "      <td>12000</td>\n",
       "      <td>12000.0</td>\n",
       "      <td>60 months</td>\n",
       "      <td>13.56%</td>\n",
       "      <td>276.49</td>\n",
       "      <td>C</td>\n",
       "      <td>C1</td>\n",
       "      <td>...</td>\n",
       "      <td>NaN</td>\n",
       "      <td>NaN</td>\n",
       "      <td>NaN</td>\n",
       "      <td>NaN</td>\n",
       "      <td>NaN</td>\n",
       "      <td>NaN</td>\n",
       "      <td>NaN</td>\n",
       "      <td>NaN</td>\n",
       "      <td>NaN</td>\n",
       "      <td>18</td>\n",
       "    </tr>\n",
       "    <tr>\n",
       "      <th>3</th>\n",
       "      <td>145127870</td>\n",
       "      <td>NaN</td>\n",
       "      <td>15000</td>\n",
       "      <td>15000</td>\n",
       "      <td>14975.0</td>\n",
       "      <td>60 months</td>\n",
       "      <td>14.47%</td>\n",
       "      <td>352.69</td>\n",
       "      <td>C</td>\n",
       "      <td>C2</td>\n",
       "      <td>...</td>\n",
       "      <td>Oct-99</td>\n",
       "      <td>0.0</td>\n",
       "      <td>0.0</td>\n",
       "      <td>16.0</td>\n",
       "      <td>48.8</td>\n",
       "      <td>15.0</td>\n",
       "      <td>0.0</td>\n",
       "      <td>0.0</td>\n",
       "      <td>NaN</td>\n",
       "      <td>18</td>\n",
       "    </tr>\n",
       "    <tr>\n",
       "      <th>4</th>\n",
       "      <td>145558466</td>\n",
       "      <td>NaN</td>\n",
       "      <td>16000</td>\n",
       "      <td>16000</td>\n",
       "      <td>16000.0</td>\n",
       "      <td>60 months</td>\n",
       "      <td>17.97%</td>\n",
       "      <td>406.04</td>\n",
       "      <td>D</td>\n",
       "      <td>D1</td>\n",
       "      <td>...</td>\n",
       "      <td>NaN</td>\n",
       "      <td>NaN</td>\n",
       "      <td>NaN</td>\n",
       "      <td>NaN</td>\n",
       "      <td>NaN</td>\n",
       "      <td>NaN</td>\n",
       "      <td>NaN</td>\n",
       "      <td>NaN</td>\n",
       "      <td>NaN</td>\n",
       "      <td>18</td>\n",
       "    </tr>\n",
       "  </tbody>\n",
       "</table>\n",
       "<p>5 rows × 127 columns</p>\n",
       "</div>"
      ],
      "text/plain": [
       "          id  member_id  loan_amnt  funded_amnt  funded_amnt_inv        term  \\\n",
       "0  145217616        NaN      10000        10000          10000.0   36 months   \n",
       "1  145640422        NaN       2500         2500           2500.0   36 months   \n",
       "2  145630143        NaN      12000        12000          12000.0   60 months   \n",
       "3  145127870        NaN      15000        15000          14975.0   60 months   \n",
       "4  145558466        NaN      16000        16000          16000.0   60 months   \n",
       "\n",
       "  int_rate  installment grade sub_grade  ... sec_app_earliest_cr_line  \\\n",
       "0   10.33%       324.23     B        B1  ...                      NaN   \n",
       "1   13.56%        84.92     C        C1  ...                      NaN   \n",
       "2   13.56%       276.49     C        C1  ...                      NaN   \n",
       "3   14.47%       352.69     C        C2  ...                   Oct-99   \n",
       "4   17.97%       406.04     D        D1  ...                      NaN   \n",
       "\n",
       "  sec_app_inq_last_6mths sec_app_mort_acc  sec_app_open_acc  \\\n",
       "0                    NaN              NaN               NaN   \n",
       "1                    NaN              NaN               NaN   \n",
       "2                    NaN              NaN               NaN   \n",
       "3                    0.0              0.0              16.0   \n",
       "4                    NaN              NaN               NaN   \n",
       "\n",
       "  sec_app_revol_util sec_app_num_rev_accts sec_app_chargeoff_within_12_mths  \\\n",
       "0                NaN                   NaN                              NaN   \n",
       "1                NaN                   NaN                              NaN   \n",
       "2                NaN                   NaN                              NaN   \n",
       "3               48.8                  15.0                              0.0   \n",
       "4                NaN                   NaN                              NaN   \n",
       "\n",
       "  sec_app_collections_12_mths_ex_med sec_app_mths_since_last_major_derog year  \n",
       "0                                NaN                                 NaN   18  \n",
       "1                                NaN                                 NaN   18  \n",
       "2                                NaN                                 NaN   18  \n",
       "3                                0.0                                 NaN   18  \n",
       "4                                NaN                                 NaN   18  \n",
       "\n",
       "[5 rows x 127 columns]"
      ]
     },
     "execution_count": 5,
     "metadata": {},
     "output_type": "execute_result"
    }
   ],
   "source": [
    "data.head()"
   ]
  },
  {
   "cell_type": "code",
   "execution_count": 6,
   "id": "presidential-custody",
   "metadata": {},
   "outputs": [
    {
     "data": {
      "text/plain": [
       "Current               2086919\n",
       "Fully Paid             552459\n",
       "Charged Off            131231\n",
       "Late (31-120 days)      32304\n",
       "In Grace Period         22089\n",
       "Issued                  21294\n",
       "Late (16-30 days)        8147\n",
       "Default                    29\n",
       "Name: loan_status, dtype: int64"
      ]
     },
     "execution_count": 6,
     "metadata": {},
     "output_type": "execute_result"
    }
   ],
   "source": [
    "data['loan_status'].value_counts()"
   ]
  },
  {
   "cell_type": "code",
   "execution_count": 7,
   "id": "operating-pencil",
   "metadata": {},
   "outputs": [
    {
     "data": {
      "text/plain": [
       "INDIVIDUAL    1359464\n",
       "Individual    1284175\n",
       "Joint App      194206\n",
       "JOINT           13707\n",
       "DIRECT_PAY       2920\n",
       "Name: application_type, dtype: int64"
      ]
     },
     "execution_count": 7,
     "metadata": {},
     "output_type": "execute_result"
    }
   ],
   "source": [
    "data['application_type'].value_counts()"
   ]
  },
  {
   "cell_type": "code",
   "execution_count": 8,
   "id": "interpreted-blanket",
   "metadata": {},
   "outputs": [
    {
     "data": {
      "text/plain": [
       "array(['Individual', 'INDIVIDUAL'], dtype=object)"
      ]
     },
     "execution_count": 8,
     "metadata": {},
     "output_type": "execute_result"
    }
   ],
   "source": [
    "# Only use individual loan types\n",
    "data = pipeline.filter_data(data)\n",
    "data['application_type'].unique()"
   ]
  },
  {
   "cell_type": "code",
   "execution_count": 9,
   "id": "sealed-hughes",
   "metadata": {},
   "outputs": [
    {
     "data": {
      "text/plain": [
       "2643639"
      ]
     },
     "execution_count": 9,
     "metadata": {},
     "output_type": "execute_result"
    }
   ],
   "source": [
    "data.shape[0]"
   ]
  },
  {
   "cell_type": "code",
   "execution_count": 11,
   "id": "infrared-ridge",
   "metadata": {
    "scrolled": true
   },
   "outputs": [
    {
     "data": {
      "text/plain": [
       "member_id                              1.000000\n",
       "desc                                   0.963374\n",
       "mths_since_last_delinq                 0.519161\n",
       "mths_since_last_record                 0.850447\n",
       "next_pymnt_d                           0.254702\n",
       "mths_since_last_major_derog            0.744397\n",
       "annual_inc_joint                       1.000000\n",
       "dti_joint                              1.000000\n",
       "verification_status_joint              1.000000\n",
       "open_acc_6m                            0.311407\n",
       "open_il_12m                            0.311406\n",
       "open_il_24m                            0.311406\n",
       "mths_since_rcnt_il                     0.331586\n",
       "total_bal_il                           0.311406\n",
       "il_util                                0.407763\n",
       "open_rv_12m                            0.311406\n",
       "open_rv_24m                            0.311406\n",
       "max_bal_bc                             0.311406\n",
       "all_util                               0.311497\n",
       "inq_fi                                 0.311406\n",
       "total_cu_tl                            0.311407\n",
       "inq_last_12m                           0.311407\n",
       "mths_since_recent_bc_dlq               0.771040\n",
       "mths_since_recent_revol_delinq         0.673056\n",
       "revol_bal_joint                        1.000000\n",
       "sec_app_fico_range_low                 1.000000\n",
       "sec_app_fico_range_high                1.000000\n",
       "sec_app_earliest_cr_line               1.000000\n",
       "sec_app_inq_last_6mths                 1.000000\n",
       "sec_app_mort_acc                       1.000000\n",
       "sec_app_open_acc                       1.000000\n",
       "sec_app_revol_util                     1.000000\n",
       "sec_app_num_rev_accts                  1.000000\n",
       "sec_app_chargeoff_within_12_mths       1.000000\n",
       "sec_app_collections_12_mths_ex_med     1.000000\n",
       "sec_app_mths_since_last_major_derog    1.000000\n",
       "dtype: float64"
      ]
     },
     "execution_count": 11,
     "metadata": {},
     "output_type": "execute_result"
    }
   ],
   "source": [
    "# Columns with missing data\n",
    "\n",
    "data[data.columns[data.isnull().sum()/data.shape[0] > .2]].isnull().sum()/data.shape[0]"
   ]
  },
  {
   "cell_type": "code",
   "execution_count": 12,
   "id": "important-advancement",
   "metadata": {},
   "outputs": [],
   "source": [
    "drop = ['member_id', \n",
    "        'desc', 'next_pymnt_d', 'annual_inc_joint', 'dti_joint', 'verification_status_joint', \n",
    "        'revol_bal_joint', 'sec_app_fico_range_low', \n",
    "        'sec_app_fico_range_high',\n",
    "        'sec_app_earliest_cr_line', \n",
    "        'sec_app_inq_last_6mths',\n",
    "        'sec_app_mort_acc', \n",
    "        'sec_app_open_acc',\n",
    "        'sec_app_revol_util',\n",
    "#         'sec_app_open_il_6m', \n",
    "        'sec_app_num_rev_accts',\n",
    "        'sec_app_chargeoff_within_12_mths',\n",
    "        'sec_app_collections_12_mths_ex_med',\n",
    "        'sec_app_mths_since_last_major_derog',\n",
    "        'funded_amnt_inv', \n",
    "        'grade',\n",
    "        'emp_title', \n",
    "        'emp_length',\n",
    "        'pymnt_plan',\n",
    "        'url',\n",
    "        'title',\n",
    "        'zip_code',\n",
    "        'addr_state',\n",
    "        'earliest_cr_line',\n",
    "        'fico_range_high',\n",
    "        'initial_list_status',\n",
    "        'out_prncp',\n",
    "        'out_prncp_inv',\n",
    "        'total_pymnt',\n",
    "        'total_pymnt_inv',\n",
    "        'total_rec_prncp',\n",
    "        'total_rec_int',\n",
    "        'total_rec_late_fee',\n",
    "        'recoveries',\n",
    "        'collection_recovery_fee',\n",
    "        'last_credit_pull_d', \n",
    "        'last_pymnt_d',\n",
    "        'last_pymnt_amnt',\n",
    "        'next_pymnt_d',\n",
    "        'acc_now_delinq',\n",
    "        'tot_coll_amt',\n",
    "        'tot_cur_bal',\n",
    "        'delinq_amnt', \n",
    "        'application_type', \n",
    "        'issue_d', \n",
    "        'id',\n",
    "        'loan_status',\n",
    "        'year'\n",
    "       ]\n",
    "# data = data.drop(drop, axis=1)"
   ]
  },
  {
   "cell_type": "code",
   "execution_count": 13,
   "id": "cardiovascular-colorado",
   "metadata": {},
   "outputs": [
    {
     "data": {
      "text/plain": [
       "array(['debt_consolidation', 'credit_card', 'home_improvement', 'other',\n",
       "       'major_purchase', 'vacation', 'house', 'car', 'small_business',\n",
       "       'renewable_energy', 'medical', 'moving', 'wedding', 'educational'],\n",
       "      dtype=object)"
      ]
     },
     "execution_count": 13,
     "metadata": {},
     "output_type": "execute_result"
    }
   ],
   "source": [
    "data.purpose.unique()"
   ]
  },
  {
   "cell_type": "code",
   "execution_count": 113,
   "id": "warming-season",
   "metadata": {
    "collapsed": true
   },
   "outputs": [
    {
     "name": "stdout",
     "output_type": "stream",
     "text": [
      "'member_id': number of missing values '2643639' ==> '100.000%'\n",
      "'emp_title': number of missing values '221805' ==> '8.390%'\n",
      "'emp_length': number of missing values '172991' ==> '6.544%'\n",
      "'desc': number of missing values '2546814' ==> '96.337%'\n",
      "'title': number of missing values '22178' ==> '0.839%'\n",
      "'zip_code': number of missing values '1' ==> '0.000%'\n",
      "'inq_last_6mths': number of missing values '1' ==> '0.000%'\n",
      "'mths_since_last_delinq': number of missing values '1372475' ==> '51.916%'\n",
      "'mths_since_last_record': number of missing values '2248274' ==> '85.045%'\n",
      "'revol_util': number of missing values '2053' ==> '0.078%'\n",
      "'last_pymnt_d': number of missing values '20363' ==> '0.770%'\n",
      "'next_pymnt_d': number of missing values '673340' ==> '25.470%'\n",
      "'last_credit_pull_d': number of missing values '77' ==> '0.003%'\n",
      "'mths_since_last_major_derog': number of missing values '1967916' ==> '74.440%'\n",
      "'annual_inc_joint': number of missing values '2643639' ==> '100.000%'\n",
      "'dti_joint': number of missing values '2643639' ==> '100.000%'\n",
      "'verification_status_joint': number of missing values '2643639' ==> '100.000%'\n",
      "'tot_coll_amt': number of missing values '27741' ==> '1.049%'\n",
      "'tot_cur_bal': number of missing values '27741' ==> '1.049%'\n",
      "'open_acc_6m': number of missing values '823247' ==> '31.141%'\n",
      "'open_il_12m': number of missing values '823246' ==> '31.141%'\n",
      "'open_il_24m': number of missing values '823246' ==> '31.141%'\n",
      "'mths_since_rcnt_il': number of missing values '876595' ==> '33.159%'\n",
      "'total_bal_il': number of missing values '823246' ==> '31.141%'\n",
      "'il_util': number of missing values '1077977' ==> '40.776%'\n",
      "'open_rv_12m': number of missing values '823246' ==> '31.141%'\n",
      "'open_rv_24m': number of missing values '823246' ==> '31.141%'\n",
      "'max_bal_bc': number of missing values '823246' ==> '31.141%'\n",
      "'all_util': number of missing values '823486' ==> '31.150%'\n",
      "'total_rev_hi_lim': number of missing values '27741' ==> '1.049%'\n",
      "'inq_fi': number of missing values '823246' ==> '31.141%'\n",
      "'total_cu_tl': number of missing values '823247' ==> '31.141%'\n",
      "'inq_last_12m': number of missing values '823247' ==> '31.141%'\n",
      "'acc_open_past_24mths': number of missing values '7495' ==> '0.284%'\n",
      "'avg_cur_bal': number of missing values '27830' ==> '1.053%'\n",
      "'bc_open_to_buy': number of missing values '34937' ==> '1.322%'\n",
      "'bc_util': number of missing values '36275' ==> '1.372%'\n",
      "'mo_sin_old_il_acct': number of missing values '106084' ==> '4.013%'\n",
      "'mo_sin_old_rev_tl_op': number of missing values '27742' ==> '1.049%'\n",
      "'mo_sin_rcnt_rev_tl_op': number of missing values '27742' ==> '1.049%'\n",
      "'mo_sin_rcnt_tl': number of missing values '27741' ==> '1.049%'\n",
      "'mort_acc': number of missing values '7495' ==> '0.284%'\n",
      "'mths_since_recent_bc': number of missing values '33217' ==> '1.256%'\n",
      "'mths_since_recent_bc_dlq': number of missing values '2038352' ==> '77.104%'\n",
      "'mths_since_recent_inq': number of missing values '299101' ==> '11.314%'\n",
      "'mths_since_recent_revol_delinq': number of missing values '1779316' ==> '67.306%'\n",
      "'num_accts_ever_120_pd': number of missing values '27741' ==> '1.049%'\n",
      "'num_actv_bc_tl': number of missing values '27741' ==> '1.049%'\n",
      "'num_actv_rev_tl': number of missing values '27741' ==> '1.049%'\n",
      "'num_bc_sats': number of missing values '16055' ==> '0.607%'\n",
      "'num_bc_tl': number of missing values '27741' ==> '1.049%'\n",
      "'num_il_tl': number of missing values '27741' ==> '1.049%'\n",
      "'num_op_rev_tl': number of missing values '27741' ==> '1.049%'\n",
      "'num_rev_accts': number of missing values '27742' ==> '1.049%'\n",
      "'num_rev_tl_bal_gt_0': number of missing values '27741' ==> '1.049%'\n",
      "'num_sats': number of missing values '16055' ==> '0.607%'\n",
      "'num_tl_120dpd_2m': number of missing values '118943' ==> '4.499%'\n",
      "'num_tl_30dpd': number of missing values '27741' ==> '1.049%'\n",
      "'num_tl_90g_dpd_24m': number of missing values '27741' ==> '1.049%'\n",
      "'num_tl_op_past_12m': number of missing values '27741' ==> '1.049%'\n",
      "'pct_tl_nvr_dlq': number of missing values '27896' ==> '1.055%'\n",
      "'percent_bc_gt_75': number of missing values '35417' ==> '1.340%'\n",
      "'tot_hi_cred_lim': number of missing values '27741' ==> '1.049%'\n",
      "'total_bal_ex_mort': number of missing values '7495' ==> '0.284%'\n",
      "'total_bc_limit': number of missing values '7495' ==> '0.284%'\n",
      "'total_il_high_credit_limit': number of missing values '27741' ==> '1.049%'\n",
      "'revol_bal_joint': number of missing values '2643639' ==> '100.000%'\n",
      "'sec_app_fico_range_low': number of missing values '2643639' ==> '100.000%'\n",
      "'sec_app_fico_range_high': number of missing values '2643639' ==> '100.000%'\n",
      "'sec_app_earliest_cr_line': number of missing values '2643639' ==> '100.000%'\n",
      "'sec_app_inq_last_6mths': number of missing values '2643639' ==> '100.000%'\n",
      "'sec_app_mort_acc': number of missing values '2643639' ==> '100.000%'\n",
      "'sec_app_open_acc': number of missing values '2643639' ==> '100.000%'\n",
      "'sec_app_revol_util': number of missing values '2643639' ==> '100.000%'\n",
      "'sec_app_num_rev_accts': number of missing values '2643639' ==> '100.000%'\n",
      "'sec_app_chargeoff_within_12_mths': number of missing values '2643639' ==> '100.000%'\n",
      "'sec_app_collections_12_mths_ex_med': number of missing values '2643639' ==> '100.000%'\n",
      "'sec_app_mths_since_last_major_derog': number of missing values '2643639' ==> '100.000%'\n"
     ]
    }
   ],
   "source": [
    "# Missing values\n",
    "pipeline.print_missing(data)"
   ]
  },
  {
   "cell_type": "code",
   "execution_count": 15,
   "id": "objective-battle",
   "metadata": {},
   "outputs": [
    {
     "data": {
      "text/plain": [
       "<AxesSubplot:>"
      ]
     },
     "execution_count": 15,
     "metadata": {},
     "output_type": "execute_result"
    },
    {
     "data": {
      "image/png": "[encoded data removed]",
      "text/plain": [
       "<Figure size 432x288 with 1 Axes>"
      ]
     },
     "metadata": {
      "needs_background": "light"
     },
     "output_type": "display_data"
    }
   ],
   "source": [
    "fig, ax = plt.subplots()\n",
    "\n",
    "data[data['mths_since_last_major_derog'].isna()]['loan_status'].hist(ax = ax, alpha=.5, color='blue')\n",
    "data[~data['mths_since_last_major_derog'].isna()]['loan_status'].hist(ax = ax, alpha=.5, color='green')"
   ]
  },
  {
   "cell_type": "code",
   "execution_count": 16,
   "id": "derived-cookie",
   "metadata": {},
   "outputs": [
    {
     "data": {
      "text/plain": [
       "<AxesSubplot:>"
      ]
     },
     "execution_count": 16,
     "metadata": {},
     "output_type": "execute_result"
    },
    {
     "data": {
      "image/png": "[encoded data removed]",
      "text/plain": [
       "<Figure size 432x288 with 1 Axes>"
      ]
     },
     "metadata": {
      "needs_background": "light"
     },
     "output_type": "display_data"
    }
   ],
   "source": [
    "data['mths_since_last_major_derog'].hist(bins = 50)"
   ]
  },
  {
   "cell_type": "code",
   "execution_count": 17,
   "id": "illegal-selection",
   "metadata": {},
   "outputs": [],
   "source": [
    "# Clean data\n",
    "\n",
    "data = pipeline.clean_data(data)"
   ]
  },
  {
   "cell_type": "code",
   "execution_count": 18,
   "id": "working-bloom",
   "metadata": {},
   "outputs": [
    {
     "data": {
      "text/plain": [
       "array([18, 13, 12, 14, 15, 20, 19, 17, 16])"
      ]
     },
     "execution_count": 18,
     "metadata": {},
     "output_type": "execute_result"
    }
   ],
   "source": [
    "# Create Test and Validation Set\n",
    "\n",
    "data['year'].unique()"
   ]
  },
  {
   "cell_type": "code",
   "execution_count": 19,
   "id": "severe-error",
   "metadata": {},
   "outputs": [
    {
     "data": {
      "text/plain": [
       "<BarContainer object of 9 artists>"
      ]
     },
     "execution_count": 19,
     "metadata": {},
     "output_type": "execute_result"
    },
    {
     "data": {
      "image/png": "[encoded data removed]",
      "text/plain": [
       "<Figure size 432x288 with 1 Axes>"
      ]
     },
     "metadata": {
      "needs_background": "light"
     },
     "output_type": "display_data"
    }
   ],
   "source": [
    "fig, ax = plt.subplots()\n",
    "\n",
    "ax.bar(data['year'].value_counts().index,data['year'].value_counts() )"
   ]
  },
  {
   "cell_type": "code",
   "execution_count": 23,
   "id": "sufficient-entrepreneur",
   "metadata": {},
   "outputs": [
    {
     "data": {
      "text/plain": [
       "0.5206917434642173"
      ]
     },
     "execution_count": 23,
     "metadata": {},
     "output_type": "execute_result"
    }
   ],
   "source": [
    "(data['year'] >= 17).sum()/data.shape[0]"
   ]
  },
  {
   "cell_type": "code",
   "execution_count": 18,
   "id": "common-alliance",
   "metadata": {},
   "outputs": [
    {
     "data": {
      "text/plain": [
       "0.08287779507415319"
      ]
     },
     "execution_count": 18,
     "metadata": {},
     "output_type": "execute_result"
    }
   ],
   "source": [
    "(data[data['year'] >= 17]['loan_status']=='Charged Off').sum()/data[data['year'] >= 17].shape[0]"
   ]
  },
  {
   "cell_type": "code",
   "execution_count": 20,
   "id": "pressed-sweet",
   "metadata": {},
   "outputs": [
    {
     "data": {
      "text/plain": [
       "0.2085436880049994"
      ]
     },
     "execution_count": 20,
     "metadata": {},
     "output_type": "execute_result"
    }
   ],
   "source": [
    "(data[data['year'] < 17]['loan_status']=='Charged Off').sum()/data[data['year'] < 17].shape[0]"
   ]
  },
  {
   "cell_type": "code",
   "execution_count": 21,
   "id": "generous-deviation",
   "metadata": {},
   "outputs": [
    {
     "data": {
      "text/plain": [
       "year\n",
       "12    0.164491\n",
       "13    0.160649\n",
       "14    0.205134\n",
       "15    0.264148\n",
       "16    0.202681\n",
       "17    0.118006\n",
       "18    0.051843\n",
       "19    0.044889\n",
       "20    0.008303\n",
       "Name: year, dtype: float64"
      ]
     },
     "execution_count": 21,
     "metadata": {},
     "output_type": "execute_result"
    }
   ],
   "source": [
    "data[data['loan_status']=='Charged Off'].groupby('year')['year'].count()/data.groupby('year')['year'].count()"
   ]
  },
  {
   "cell_type": "code",
   "execution_count": 20,
   "id": "rural-italic",
   "metadata": {},
   "outputs": [],
   "source": [
    "data = pipeline.create_dummies(data)"
   ]
  },
  {
   "cell_type": "code",
   "execution_count": 21,
   "id": "marine-proceeding",
   "metadata": {},
   "outputs": [],
   "source": [
    "validation = data[data['year'] >= 17]"
   ]
  },
  {
   "cell_type": "code",
   "execution_count": 22,
   "id": "configured-croatia",
   "metadata": {},
   "outputs": [],
   "source": [
    "# drop.extend([\n",
    "#     'application_type', \n",
    "#     'issue_d', \n",
    "#     'id',\n",
    "#     'loan_status',\n",
    "#     'year'])"
   ]
  },
  {
   "cell_type": "code",
   "execution_count": 108,
   "id": "humanitarian-regulation",
   "metadata": {},
   "outputs": [],
   "source": [
    "with open('data/X_drop.pickle', 'wb') as f:\n",
    "    pickle.dump(drop, f)"
   ]
  },
  {
   "cell_type": "code",
   "execution_count": 110,
   "id": "stretch-shower",
   "metadata": {},
   "outputs": [],
   "source": [
    "with open('data/X_drop.pickle', 'rb') as f:\n",
    "    cols = pickle.load(f)"
   ]
  },
  {
   "cell_type": "code",
   "execution_count": 111,
   "id": "addressed-browser",
   "metadata": {},
   "outputs": [
    {
     "data": {
      "text/plain": [
       "['member_id',\n",
       " 'desc',\n",
       " 'next_pymnt_d',\n",
       " 'annual_inc_joint',\n",
       " 'dti_joint',\n",
       " 'verification_status_joint',\n",
       " 'revol_bal_joint',\n",
       " 'sec_app_fico_range_low',\n",
       " 'sec_app_fico_range_high',\n",
       " 'sec_app_earliest_cr_line',\n",
       " 'sec_app_inq_last_6mths',\n",
       " 'sec_app_mort_acc',\n",
       " 'sec_app_open_acc',\n",
       " 'sec_app_revol_util',\n",
       " 'sec_app_num_rev_accts',\n",
       " 'sec_app_chargeoff_within_12_mths',\n",
       " 'sec_app_collections_12_mths_ex_med',\n",
       " 'sec_app_mths_since_last_major_derog',\n",
       " 'funded_amnt_inv',\n",
       " 'grade',\n",
       " 'emp_title',\n",
       " 'emp_length',\n",
       " 'pymnt_plan',\n",
       " 'url',\n",
       " 'title',\n",
       " 'zip_code',\n",
       " 'addr_state',\n",
       " 'earliest_cr_line',\n",
       " 'fico_range_high',\n",
       " 'initial_list_status',\n",
       " 'out_prncp',\n",
       " 'out_prncp_inv',\n",
       " 'total_pymnt',\n",
       " 'total_pymnt_inv',\n",
       " 'total_rec_prncp',\n",
       " 'total_rec_int',\n",
       " 'total_rec_late_fee',\n",
       " 'recoveries',\n",
       " 'collection_recovery_fee',\n",
       " 'last_credit_pull_d',\n",
       " 'last_pymnt_d',\n",
       " 'last_pymnt_amnt',\n",
       " 'next_pymnt_d',\n",
       " 'acc_now_delinq',\n",
       " 'tot_coll_amt',\n",
       " 'tot_cur_bal',\n",
       " 'delinq_amnt',\n",
       " 'application_type',\n",
       " 'issue_d',\n",
       " 'id',\n",
       " 'loan_status',\n",
       " 'year']"
      ]
     },
     "execution_count": 111,
     "metadata": {},
     "output_type": "execute_result"
    }
   ],
   "source": [
    "cols"
   ]
  },
  {
   "cell_type": "code",
   "execution_count": 23,
   "id": "tight-consideration",
   "metadata": {},
   "outputs": [],
   "source": [
    "training = pipeline.completed_filter(data[data['year'] < 17])"
   ]
  },
  {
   "cell_type": "code",
   "execution_count": 24,
   "id": "attractive-agriculture",
   "metadata": {
    "scrolled": true
   },
   "outputs": [],
   "source": [
    "\n",
    "X_train = pipeline.create_X(training, drop)\n",
    "y_train = pipeline.create_y(training)"
   ]
  },
  {
   "cell_type": "code",
   "execution_count": 25,
   "id": "mathematical-judgment",
   "metadata": {},
   "outputs": [],
   "source": [
    "X_test = pipeline.create_X(pipeline.completed_filter(validation), drop)\n",
    "y_test = pipeline.create_y(pipeline.completed_filter(validation))"
   ]
  },
  {
   "cell_type": "code",
   "execution_count": 26,
   "id": "cooperative-public",
   "metadata": {},
   "outputs": [
    {
     "data": {
      "text/plain": [
       "array(['Current', 'Late (31-120 days)', 'In Grace Period',\n",
       "       'Late (16-30 days)', 'Issued', 'Default'], dtype=object)"
      ]
     },
     "execution_count": 26,
     "metadata": {},
     "output_type": "execute_result"
    }
   ],
   "source": [
    "validation[~validation['loan_status'].str.lower().isin(['fully paid', 'charged off'])]['loan_status'].unique()"
   ]
  },
  {
   "cell_type": "code",
   "execution_count": 27,
   "id": "adopted-advocacy",
   "metadata": {},
   "outputs": [],
   "source": [
    "X_val = pipeline.create_X(validation[~validation['loan_status'].str.lower().isin(['fully paid', 'charged off'])], drop)\n",
    "y_val = pipeline.create_y(validation[~validation['loan_status'].str.lower().isin(['fully paid', 'charged off'])])"
   ]
  },
  {
   "cell_type": "code",
   "execution_count": 28,
   "id": "occupied-yukon",
   "metadata": {},
   "outputs": [
    {
     "name": "stdout",
     "output_type": "stream",
     "text": [
      "(590471, 126)\n",
      "(82869, 126)\n",
      "(1293652, 126)\n"
     ]
    }
   ],
   "source": [
    "print(X_train.shape)\n",
    "print(X_test.shape)\n",
    "print(X_val.shape)"
   ]
  },
  {
   "cell_type": "code",
   "execution_count": 29,
   "id": "spatial-complement",
   "metadata": {},
   "outputs": [],
   "source": [
    "from sklearn.model_selection import train_test_split\n",
    "from sklearn.ensemble import RandomForestClassifier\n",
    "from sklearn.ensemble import GradientBoostingClassifier\n",
    "\n",
    "from sklearn.metrics import recall_score, precision_score"
   ]
  },
  {
   "cell_type": "code",
   "execution_count": 30,
   "id": "continuous-gender",
   "metadata": {},
   "outputs": [],
   "source": [
    "# X_train, X_test, y_train, y_test = train_test_split(X,y)"
   ]
  },
  {
   "cell_type": "code",
   "execution_count": 31,
   "id": "unable-virgin",
   "metadata": {},
   "outputs": [
    {
     "name": "stdout",
     "output_type": "stream",
     "text": [
      "Recall: 0.8163948747815958\n",
      "Precision: 0.89368823716927\n"
     ]
    }
   ],
   "source": [
    "rf_model = RandomForestClassifier()\n",
    "rf_model.fit(X_train, y_train)\n",
    "recall = recall_score(y_test, rf_model.predict(X_test))\n",
    "precision = precision_score(y_test, rf_model.predict(X_test))\n",
    "print(f'Recall: {recall}\\nPrecision: {precision}')"
   ]
  },
  {
   "cell_type": "code",
   "execution_count": 32,
   "id": "charged-aberdeen",
   "metadata": {},
   "outputs": [
    {
     "name": "stdout",
     "output_type": "stream",
     "text": [
      "Recall: 0.8118811881188119\n",
      "Precision: 0.8925884424523771\n"
     ]
    }
   ],
   "source": [
    "gb_model = GradientBoostingClassifier()\n",
    "gb_model.fit(X_train, y_train)\n",
    "recall = recall_score(y_test, gb_model.predict(X_test))\n",
    "precision = precision_score(y_test, gb_model.predict(X_test))\n",
    "print(f'Recall: {recall}\\nPrecision: {precision}')"
   ]
  },
  {
   "cell_type": "code",
   "execution_count": 33,
   "id": "statutory-southeast",
   "metadata": {},
   "outputs": [],
   "source": [
    "def calculate_threshold_values(prob, y):\n",
    "    '''\n",
    "    Build dataframe of the various confusion-matrix ratios by threshold\n",
    "    from a list of predicted probabilities and actual y values\n",
    "    '''\n",
    "    df = pd.DataFrame({'prob': prob, 'y': y})\n",
    "    df.sort_values('prob', inplace=True)\n",
    "    \n",
    "    actual_p = df.y.sum()\n",
    "    actual_n = df.shape[0] - df.y.sum()\n",
    "\n",
    "    df['tn'] = (df.y == 0).cumsum()\n",
    "    df['fn'] = df.y.cumsum()\n",
    "    df['fp'] = actual_n - df.tn\n",
    "    df['tp'] = actual_p - df.fn\n",
    "\n",
    "    df['fpr'] = df.fp/(df.fp + df.tn)\n",
    "    df['tpr'] = df.tp/(df.tp + df.fn)\n",
    "    df['precision'] = df.tp/(df.tp + df.fp)\n",
    "    df = df.reset_index(drop=True)\n",
    "    return df\n",
    "    \n",
    "def plot_roc(ax, df):\n",
    "    ax.plot([1]+list(df.fpr), [1]+list(df.tpr), label=\"ROC\")\n",
    "    ax.plot([0,1],[0,1], 'k', label=\"random\")\n",
    "    ax.set_xlabel('fpr')\n",
    "    ax.set_ylabel('tpr')\n",
    "    ax.set_title('ROC Curve')\n",
    "    ax.legend()\n",
    "    \n",
    "def plot_precision_recall(ax, df):\n",
    "    ax.plot(df.tpr,df.precision, label='precision/recall')\n",
    "    #ax.plot([0,1],[0,1], 'k')\n",
    "    ax.set_xlabel('recall')\n",
    "    ax.set_ylabel('precision')\n",
    "    ax.set_title('Precision/Recall Curve')\n",
    "    ax.plot([0,1],[df.precision[0],df.precision[0]], 'k', label='random')\n",
    "    ax.set_xlim(left=0,right=1)\n",
    "    ax.set_ylim(bottom=0,top=1)"
   ]
  },
  {
   "cell_type": "code",
   "execution_count": 34,
   "id": "ceramic-cache",
   "metadata": {},
   "outputs": [
    {
     "data": {
      "image/png": "[encoded data removed]",
      "text/plain": [
       "<Figure size 864x432 with 2 Axes>"
      ]
     },
     "metadata": {
      "needs_background": "light"
     },
     "output_type": "display_data"
    }
   ],
   "source": [
    "fig, (ax0, ax1) = plt.subplots(1,2, figsize=(12,6))\n",
    "df = calculate_threshold_values(rf_model.predict_proba(X_test)[:,1], y_test)\n",
    "plot_roc(ax0, df)\n",
    "plot_precision_recall(ax1, df)"
   ]
  },
  {
   "cell_type": "code",
   "execution_count": 35,
   "id": "joint-expansion",
   "metadata": {},
   "outputs": [],
   "source": [
    "probabilities = rf_model.predict_proba(X_test)"
   ]
  },
  {
   "cell_type": "code",
   "execution_count": 36,
   "id": "bacterial-humanity",
   "metadata": {},
   "outputs": [
    {
     "data": {
      "image/png": "[encoded data removed]",
      "text/plain": [
       "<Figure size 432x288 with 1 Axes>"
      ]
     },
     "metadata": {
      "needs_background": "light"
     },
     "output_type": "display_data"
    }
   ],
   "source": [
    "fig, ax = plt.subplots()\n",
    "ax.hist(probabilities[:,1], bins=50);"
   ]
  },
  {
   "cell_type": "code",
   "execution_count": 37,
   "id": "likely-qualification",
   "metadata": {},
   "outputs": [
    {
     "data": {
      "text/plain": [
       "82827"
      ]
     },
     "execution_count": 37,
     "metadata": {},
     "output_type": "execute_result"
    }
   ],
   "source": [
    "(probabilities > .5).sum()"
   ]
  },
  {
   "cell_type": "code",
   "execution_count": 38,
   "id": "treated-raleigh",
   "metadata": {},
   "outputs": [
    {
     "data": {
      "text/plain": [
       "6868"
      ]
     },
     "execution_count": 38,
     "metadata": {},
     "output_type": "execute_result"
    }
   ],
   "source": [
    "y_test.sum()"
   ]
  },
  {
   "cell_type": "code",
   "execution_count": 39,
   "id": "distinct-creator",
   "metadata": {},
   "outputs": [
    {
     "name": "stderr",
     "output_type": "stream",
     "text": [
      "<ipython-input-39-6ed33272057a>:13: RuntimeWarning: invalid value encountered in long_scalars\n",
      "  p = c[1][1]/(c[1][1]+c[1][0])\n"
     ]
    }
   ],
   "source": [
    "threshold = np.linspace(0,1,50)\n",
    "yhat = rf_model.predict_proba(X_test)[:,1]\n",
    "\n",
    "recall = []\n",
    "precision = []\n",
    "for t in threshold:\n",
    "    c = pd.crosstab(pd.Categorical(y_test, categories=[0,1]), \n",
    "                    pd.Categorical(yhat>t, categories=[0,1]), \n",
    "                    rownames=['actual'], \n",
    "                    colnames=['predicted'],\n",
    "                    dropna=False)\n",
    "    r = c[1][1]/(c[1][1]+c[0][1])\n",
    "    p = c[1][1]/(c[1][1]+c[1][0])\n",
    "    recall.append(r)\n",
    "    precision.append(p)"
   ]
  },
  {
   "cell_type": "code",
   "execution_count": 40,
   "id": "small-lighter",
   "metadata": {},
   "outputs": [
    {
     "data": {
      "image/png": "[encoded data removed]",
      "text/plain": [
       "<Figure size 720x576 with 1 Axes>"
      ]
     },
     "metadata": {
      "needs_background": "light"
     },
     "output_type": "display_data"
    }
   ],
   "source": [
    "fig, ax = plt.subplots(figsize=(10,8))\n",
    "\n",
    "ax.plot(threshold, recall, label='recall')\n",
    "ax.plot(threshold, precision, label='precision')\n",
    "# ax.vlines([.08, .85], 0,1, linestyles='--', colors='green')\n",
    "ax.legend()\n",
    "ax.set_xlabel('Threshold')\n",
    "ax.set_ylabel('Score')\n",
    "ax.set_title('Change in Precision and Recall for Thresholds')\n",
    "plt.show()"
   ]
  },
  {
   "cell_type": "code",
   "execution_count": 41,
   "id": "diagnostic-lyric",
   "metadata": {},
   "outputs": [],
   "source": [
    "y_prob = rf_model.predict_proba(X_test)[:,1]"
   ]
  },
  {
   "cell_type": "code",
   "execution_count": 42,
   "id": "employed-profit",
   "metadata": {},
   "outputs": [],
   "source": [
    "# make predictions based on probabilities and threshold\n",
    "def predict(model, X, threshold=0.5):\n",
    "    '''Return prediction of the fitted binary-classifier model model on X using\n",
    "    the specifed `threshold`. NB: class 1 is the positive class'''\n",
    "    return np.where(model.predict_proba(X)[:,1] > threshold, 1, 0)\n",
    "\n",
    "# create confusion matrix with a given model and Xtest\n",
    "def confusion_matrix(model, X, y,  threshold=0.5):\n",
    "    cf = pd.crosstab(y, predict(model, X, threshold), dropna=False)\n",
    "    cf = cf.add(pd.DataFrame([[0,0],[0,0]], columns=[0, 1], index=[0, 1]), fill_value=0)\n",
    "    cf.index.name = 'actual'\n",
    "    cf.columns.name = 'predicted'\n",
    "    return cf\n",
    "\n",
    "# calculate the payout for a given probability threshold\n",
    "def calculate_payout(cb_matrix, model, X, y, threshold):\n",
    "    return (confusion_matrix(model, X, y, threshold) * cb_matrix).values.sum()"
   ]
  },
  {
   "cell_type": "code",
   "execution_count": 43,
   "id": "sudden-reader",
   "metadata": {},
   "outputs": [
    {
     "data": {
      "text/plain": [
       "array([0, 1])"
      ]
     },
     "execution_count": 43,
     "metadata": {},
     "output_type": "execute_result"
    }
   ],
   "source": [
    "rf_model.classes_"
   ]
  },
  {
   "cell_type": "code",
   "execution_count": 44,
   "id": "african-clause",
   "metadata": {
    "scrolled": true
   },
   "outputs": [],
   "source": [
    "cf = confusion_matrix(rf_model, X_test, y_test)"
   ]
  },
  {
   "cell_type": "code",
   "execution_count": 45,
   "id": "durable-bachelor",
   "metadata": {},
   "outputs": [
    {
     "data": {
      "text/html": [
       "<div>\n",
       "<style scoped>\n",
       "    .dataframe tbody tr th:only-of-type {\n",
       "        vertical-align: middle;\n",
       "    }\n",
       "\n",
       "    .dataframe tbody tr th {\n",
       "        vertical-align: top;\n",
       "    }\n",
       "\n",
       "    .dataframe thead th {\n",
       "        text-align: right;\n",
       "    }\n",
       "</style>\n",
       "<table border=\"1\" class=\"dataframe\">\n",
       "  <thead>\n",
       "    <tr style=\"text-align: right;\">\n",
       "      <th>predicted</th>\n",
       "      <th>0</th>\n",
       "      <th>1</th>\n",
       "    </tr>\n",
       "    <tr>\n",
       "      <th>actual</th>\n",
       "      <th></th>\n",
       "      <th></th>\n",
       "    </tr>\n",
       "  </thead>\n",
       "  <tbody>\n",
       "    <tr>\n",
       "      <th>0</th>\n",
       "      <td>75334</td>\n",
       "      <td>667</td>\n",
       "    </tr>\n",
       "    <tr>\n",
       "      <th>1</th>\n",
       "      <td>1261</td>\n",
       "      <td>5607</td>\n",
       "    </tr>\n",
       "  </tbody>\n",
       "</table>\n",
       "</div>"
      ],
      "text/plain": [
       "predicted      0     1\n",
       "actual                \n",
       "0          75334   667\n",
       "1           1261  5607"
      ]
     },
     "execution_count": 45,
     "metadata": {},
     "output_type": "execute_result"
    }
   ],
   "source": [
    "cf"
   ]
  },
  {
   "cell_type": "code",
   "execution_count": 46,
   "id": "apart-finnish",
   "metadata": {},
   "outputs": [],
   "source": [
    "cb_matrix = pd.DataFrame([[0, -20], [0, 10]], columns=[0, 1], index=[0,1])\n",
    "cb_matrix.index.name = 'actual'\n",
    "cb_matrix.columns.name = 'predicted'"
   ]
  },
  {
   "cell_type": "code",
   "execution_count": 47,
   "id": "detailed-retention",
   "metadata": {},
   "outputs": [
    {
     "data": {
      "text/html": [
       "<div>\n",
       "<style scoped>\n",
       "    .dataframe tbody tr th:only-of-type {\n",
       "        vertical-align: middle;\n",
       "    }\n",
       "\n",
       "    .dataframe tbody tr th {\n",
       "        vertical-align: top;\n",
       "    }\n",
       "\n",
       "    .dataframe thead th {\n",
       "        text-align: right;\n",
       "    }\n",
       "</style>\n",
       "<table border=\"1\" class=\"dataframe\">\n",
       "  <thead>\n",
       "    <tr style=\"text-align: right;\">\n",
       "      <th>predicted</th>\n",
       "      <th>0</th>\n",
       "      <th>1</th>\n",
       "    </tr>\n",
       "    <tr>\n",
       "      <th>actual</th>\n",
       "      <th></th>\n",
       "      <th></th>\n",
       "    </tr>\n",
       "  </thead>\n",
       "  <tbody>\n",
       "    <tr>\n",
       "      <th>0</th>\n",
       "      <td>0</td>\n",
       "      <td>-20</td>\n",
       "    </tr>\n",
       "    <tr>\n",
       "      <th>1</th>\n",
       "      <td>0</td>\n",
       "      <td>10</td>\n",
       "    </tr>\n",
       "  </tbody>\n",
       "</table>\n",
       "</div>"
      ],
      "text/plain": [
       "predicted  0   1\n",
       "actual          \n",
       "0          0 -20\n",
       "1          0  10"
      ]
     },
     "execution_count": 47,
     "metadata": {},
     "output_type": "execute_result"
    }
   ],
   "source": [
    "cb_matrix"
   ]
  },
  {
   "cell_type": "code",
   "execution_count": 48,
   "id": "accurate-discipline",
   "metadata": {},
   "outputs": [
    {
     "data": {
      "text/plain": [
       "42730"
      ]
     },
     "execution_count": 48,
     "metadata": {},
     "output_type": "execute_result"
    }
   ],
   "source": [
    "calculate_payout(cb_matrix, rf_model, X_test, y_test, .5)"
   ]
  },
  {
   "cell_type": "code",
   "execution_count": 49,
   "id": "duplicate-phrase",
   "metadata": {},
   "outputs": [
    {
     "data": {
      "text/plain": [
       "201360"
      ]
     },
     "execution_count": 49,
     "metadata": {},
     "output_type": "execute_result"
    }
   ],
   "source": [
    "-10*6414 + 26550 * 10"
   ]
  },
  {
   "cell_type": "code",
   "execution_count": 50,
   "id": "mighty-headset",
   "metadata": {},
   "outputs": [],
   "source": [
    "# Cost benefit\n",
    "def get_profits(model, X, y):\n",
    "    cb_matrix = pd.DataFrame([[0, -20], [0, 10]], columns=[0, 1], index=[0,1])\n",
    "    cb_matrix.index.name = 'actual'\n",
    "    cb_matrix.columns.name = 'predicted'\n",
    "    # calculate the payout with a the cost benefit matrix, \n",
    "    # given threshhold, model, and X\n",
    "    thresholds = np.arange(0.0, 1.0, 0.05)\n",
    "    profits = []\n",
    "    for threshold in thresholds:\n",
    "        profits.append(calculate_payout(cb_matrix, model, X, y, threshold))\n",
    "    return profits\n",
    "    \n",
    "    \n",
    "def profit_curve(profits, ax):\n",
    "    thresholds = np.arange(0.0, 1.0, 0.05)\n",
    "    ax.plot(thresholds, profits)\n",
    "    ax.set_xlabel('Thresholds')\n",
    "    ax.set_ylabel('Profits')\n",
    "    ax.set_title('Profit Curve')\n",
    "    print(profits)"
   ]
  },
  {
   "cell_type": "code",
   "execution_count": 51,
   "id": "statutory-wrong",
   "metadata": {},
   "outputs": [],
   "source": [
    "profits = get_profits(rf_model, X_test, y_test)"
   ]
  },
  {
   "cell_type": "code",
   "execution_count": 52,
   "id": "palestinian-vertex",
   "metadata": {
    "scrolled": false
   },
   "outputs": [
    {
     "data": {
      "text/plain": [
       "(-250000.0, 200000.0)"
      ]
     },
     "execution_count": 52,
     "metadata": {},
     "output_type": "execute_result"
    },
    {
     "data": {
      "image/png": "[encoded data removed]",
      "text/plain": [
       "<Figure size 864x576 with 1 Axes>"
      ]
     },
     "metadata": {
      "needs_background": "light"
     },
     "output_type": "display_data"
    }
   ],
   "source": [
    "fig, ax = plt.subplots(figsize=(12, 8))\n",
    "thresholds = np.arange(0.0, 1.0, 0.05)\n",
    "ax.plot(thresholds, profits)\n",
    "ax.set_xlabel('Thresholds')\n",
    "ax.set_ylabel('Profits')\n",
    "ax.set_title('Profit Curve')\n",
    "ax.set_ylim(-250000, 200000)"
   ]
  },
  {
   "cell_type": "code",
   "execution_count": 53,
   "id": "floral-courtesy",
   "metadata": {},
   "outputs": [],
   "source": [
    "def get_yhat(probs, threshold):\n",
    "    return probs > threshold"
   ]
  },
  {
   "cell_type": "code",
   "execution_count": 54,
   "id": "split-humanity",
   "metadata": {},
   "outputs": [],
   "source": [
    "def get_cf_arrays(y_true, y_hat):\n",
    "    true_positive = (y_true == 1) & (y_hat==1)\n",
    "    true_negative = (y_true == 0) & (y_hat==0)\n",
    "    false_positive = (y_true == 0) & (y_hat==1)\n",
    "    false_negative = (y_true == 1) & (y_hat==0)\n",
    "    return true_positive, true_negative, false_positive, false_negative"
   ]
  },
  {
   "cell_type": "code",
   "execution_count": 55,
   "id": "impressive-citizenship",
   "metadata": {},
   "outputs": [],
   "source": [
    "tp, tn, fp, fn = get_cf_arrays(y_test, get_yhat(probabilities[:,1], .65))"
   ]
  },
  {
   "cell_type": "code",
   "execution_count": 56,
   "id": "above-charm",
   "metadata": {},
   "outputs": [
    {
     "data": {
      "text/plain": [
       "82869"
      ]
     },
     "execution_count": 56,
     "metadata": {},
     "output_type": "execute_result"
    }
   ],
   "source": [
    "tp.sum() + tn.sum() + fp.sum() + fn.sum()"
   ]
  },
  {
   "cell_type": "code",
   "execution_count": 57,
   "id": "wooden-transformation",
   "metadata": {},
   "outputs": [
    {
     "data": {
      "text/plain": [
       "82869"
      ]
     },
     "execution_count": 57,
     "metadata": {},
     "output_type": "execute_result"
    }
   ],
   "source": [
    "y_test.shape[0]"
   ]
  },
  {
   "cell_type": "code",
   "execution_count": 58,
   "id": "attended-driver",
   "metadata": {
    "scrolled": true
   },
   "outputs": [
    {
     "data": {
      "text/html": [
       "<div>\n",
       "<style scoped>\n",
       "    .dataframe tbody tr th:only-of-type {\n",
       "        vertical-align: middle;\n",
       "    }\n",
       "\n",
       "    .dataframe tbody tr th {\n",
       "        vertical-align: top;\n",
       "    }\n",
       "\n",
       "    .dataframe thead th {\n",
       "        text-align: right;\n",
       "    }\n",
       "</style>\n",
       "<table border=\"1\" class=\"dataframe\">\n",
       "  <thead>\n",
       "    <tr style=\"text-align: right;\">\n",
       "      <th></th>\n",
       "      <th>id</th>\n",
       "      <th>member_id</th>\n",
       "      <th>loan_amnt</th>\n",
       "      <th>funded_amnt</th>\n",
       "      <th>funded_amnt_inv</th>\n",
       "      <th>term</th>\n",
       "      <th>int_rate</th>\n",
       "      <th>installment</th>\n",
       "      <th>grade</th>\n",
       "      <th>emp_title</th>\n",
       "      <th>...</th>\n",
       "      <th>purpose_major_purchase</th>\n",
       "      <th>purpose_medical</th>\n",
       "      <th>purpose_moving</th>\n",
       "      <th>purpose_other</th>\n",
       "      <th>purpose_renewable_energy</th>\n",
       "      <th>purpose_small_business</th>\n",
       "      <th>purpose_vacation</th>\n",
       "      <th>purpose_wedding</th>\n",
       "      <th>verification_status_Source Verified</th>\n",
       "      <th>verification_status_Verified</th>\n",
       "    </tr>\n",
       "  </thead>\n",
       "  <tbody>\n",
       "    <tr>\n",
       "      <th>5520</th>\n",
       "      <td>145455851</td>\n",
       "      <td>NaN</td>\n",
       "      <td>8000</td>\n",
       "      <td>8000</td>\n",
       "      <td>8000.0</td>\n",
       "      <td>36</td>\n",
       "      <td>6.46</td>\n",
       "      <td>245.05</td>\n",
       "      <td>A</td>\n",
       "      <td>Meat Cutter</td>\n",
       "      <td>...</td>\n",
       "      <td>0</td>\n",
       "      <td>0</td>\n",
       "      <td>0</td>\n",
       "      <td>0</td>\n",
       "      <td>0</td>\n",
       "      <td>0</td>\n",
       "      <td>0</td>\n",
       "      <td>0</td>\n",
       "      <td>0</td>\n",
       "      <td>0</td>\n",
       "    </tr>\n",
       "    <tr>\n",
       "      <th>18076</th>\n",
       "      <td>145038052</td>\n",
       "      <td>NaN</td>\n",
       "      <td>30000</td>\n",
       "      <td>30000</td>\n",
       "      <td>30000.0</td>\n",
       "      <td>36</td>\n",
       "      <td>18.94</td>\n",
       "      <td>1098.78</td>\n",
       "      <td>D</td>\n",
       "      <td>General Manager</td>\n",
       "      <td>...</td>\n",
       "      <td>0</td>\n",
       "      <td>0</td>\n",
       "      <td>0</td>\n",
       "      <td>0</td>\n",
       "      <td>0</td>\n",
       "      <td>0</td>\n",
       "      <td>0</td>\n",
       "      <td>0</td>\n",
       "      <td>1</td>\n",
       "      <td>0</td>\n",
       "    </tr>\n",
       "    <tr>\n",
       "      <th>19348</th>\n",
       "      <td>145011883</td>\n",
       "      <td>NaN</td>\n",
       "      <td>14700</td>\n",
       "      <td>14700</td>\n",
       "      <td>14700.0</td>\n",
       "      <td>60</td>\n",
       "      <td>27.27</td>\n",
       "      <td>451.25</td>\n",
       "      <td>E</td>\n",
       "      <td>Teacher</td>\n",
       "      <td>...</td>\n",
       "      <td>0</td>\n",
       "      <td>0</td>\n",
       "      <td>0</td>\n",
       "      <td>1</td>\n",
       "      <td>0</td>\n",
       "      <td>0</td>\n",
       "      <td>0</td>\n",
       "      <td>0</td>\n",
       "      <td>0</td>\n",
       "      <td>0</td>\n",
       "    </tr>\n",
       "    <tr>\n",
       "      <th>24744</th>\n",
       "      <td>144852610</td>\n",
       "      <td>NaN</td>\n",
       "      <td>8000</td>\n",
       "      <td>8000</td>\n",
       "      <td>8000.0</td>\n",
       "      <td>36</td>\n",
       "      <td>8.19</td>\n",
       "      <td>251.40</td>\n",
       "      <td>A</td>\n",
       "      <td>Sub metro repair worker</td>\n",
       "      <td>...</td>\n",
       "      <td>0</td>\n",
       "      <td>0</td>\n",
       "      <td>0</td>\n",
       "      <td>0</td>\n",
       "      <td>0</td>\n",
       "      <td>0</td>\n",
       "      <td>0</td>\n",
       "      <td>0</td>\n",
       "      <td>0</td>\n",
       "      <td>0</td>\n",
       "    </tr>\n",
       "    <tr>\n",
       "      <th>25032</th>\n",
       "      <td>144766517</td>\n",
       "      <td>NaN</td>\n",
       "      <td>30000</td>\n",
       "      <td>30000</td>\n",
       "      <td>30000.0</td>\n",
       "      <td>36</td>\n",
       "      <td>15.02</td>\n",
       "      <td>1040.26</td>\n",
       "      <td>C</td>\n",
       "      <td>DRIVER</td>\n",
       "      <td>...</td>\n",
       "      <td>0</td>\n",
       "      <td>0</td>\n",
       "      <td>0</td>\n",
       "      <td>0</td>\n",
       "      <td>0</td>\n",
       "      <td>0</td>\n",
       "      <td>0</td>\n",
       "      <td>0</td>\n",
       "      <td>0</td>\n",
       "      <td>0</td>\n",
       "    </tr>\n",
       "    <tr>\n",
       "      <th>...</th>\n",
       "      <td>...</td>\n",
       "      <td>...</td>\n",
       "      <td>...</td>\n",
       "      <td>...</td>\n",
       "      <td>...</td>\n",
       "      <td>...</td>\n",
       "      <td>...</td>\n",
       "      <td>...</td>\n",
       "      <td>...</td>\n",
       "      <td>...</td>\n",
       "      <td>...</td>\n",
       "      <td>...</td>\n",
       "      <td>...</td>\n",
       "      <td>...</td>\n",
       "      <td>...</td>\n",
       "      <td>...</td>\n",
       "      <td>...</td>\n",
       "      <td>...</td>\n",
       "      <td>...</td>\n",
       "      <td>...</td>\n",
       "      <td>...</td>\n",
       "    </tr>\n",
       "    <tr>\n",
       "      <th>2418797</th>\n",
       "      <td>119975458</td>\n",
       "      <td>NaN</td>\n",
       "      <td>33000</td>\n",
       "      <td>33000</td>\n",
       "      <td>33000.0</td>\n",
       "      <td>36</td>\n",
       "      <td>25.82</td>\n",
       "      <td>1326.43</td>\n",
       "      <td>E</td>\n",
       "      <td>Horse Groomer</td>\n",
       "      <td>...</td>\n",
       "      <td>1</td>\n",
       "      <td>0</td>\n",
       "      <td>0</td>\n",
       "      <td>0</td>\n",
       "      <td>0</td>\n",
       "      <td>0</td>\n",
       "      <td>0</td>\n",
       "      <td>0</td>\n",
       "      <td>0</td>\n",
       "      <td>1</td>\n",
       "    </tr>\n",
       "    <tr>\n",
       "      <th>2418820</th>\n",
       "      <td>119417176</td>\n",
       "      <td>NaN</td>\n",
       "      <td>15425</td>\n",
       "      <td>15425</td>\n",
       "      <td>15425.0</td>\n",
       "      <td>60</td>\n",
       "      <td>19.03</td>\n",
       "      <td>400.39</td>\n",
       "      <td>D</td>\n",
       "      <td>Rolloff Driver</td>\n",
       "      <td>...</td>\n",
       "      <td>0</td>\n",
       "      <td>0</td>\n",
       "      <td>0</td>\n",
       "      <td>0</td>\n",
       "      <td>0</td>\n",
       "      <td>0</td>\n",
       "      <td>0</td>\n",
       "      <td>0</td>\n",
       "      <td>0</td>\n",
       "      <td>1</td>\n",
       "    </tr>\n",
       "    <tr>\n",
       "      <th>2418942</th>\n",
       "      <td>120086143</td>\n",
       "      <td>NaN</td>\n",
       "      <td>22250</td>\n",
       "      <td>22250</td>\n",
       "      <td>22250.0</td>\n",
       "      <td>60</td>\n",
       "      <td>18.06</td>\n",
       "      <td>565.74</td>\n",
       "      <td>D</td>\n",
       "      <td>Sr Military Admissions Consultant</td>\n",
       "      <td>...</td>\n",
       "      <td>0</td>\n",
       "      <td>0</td>\n",
       "      <td>0</td>\n",
       "      <td>0</td>\n",
       "      <td>0</td>\n",
       "      <td>0</td>\n",
       "      <td>0</td>\n",
       "      <td>0</td>\n",
       "      <td>0</td>\n",
       "      <td>1</td>\n",
       "    </tr>\n",
       "    <tr>\n",
       "      <th>2419797</th>\n",
       "      <td>120057235</td>\n",
       "      <td>NaN</td>\n",
       "      <td>35000</td>\n",
       "      <td>35000</td>\n",
       "      <td>35000.0</td>\n",
       "      <td>36</td>\n",
       "      <td>11.99</td>\n",
       "      <td>1162.34</td>\n",
       "      <td>B</td>\n",
       "      <td>Teacher / Investment Advisor</td>\n",
       "      <td>...</td>\n",
       "      <td>0</td>\n",
       "      <td>0</td>\n",
       "      <td>0</td>\n",
       "      <td>0</td>\n",
       "      <td>0</td>\n",
       "      <td>0</td>\n",
       "      <td>0</td>\n",
       "      <td>0</td>\n",
       "      <td>1</td>\n",
       "      <td>0</td>\n",
       "    </tr>\n",
       "    <tr>\n",
       "      <th>2419925</th>\n",
       "      <td>120025088</td>\n",
       "      <td>NaN</td>\n",
       "      <td>16000</td>\n",
       "      <td>16000</td>\n",
       "      <td>15725.0</td>\n",
       "      <td>36</td>\n",
       "      <td>30.75</td>\n",
       "      <td>685.82</td>\n",
       "      <td>F</td>\n",
       "      <td>correctional officer</td>\n",
       "      <td>...</td>\n",
       "      <td>0</td>\n",
       "      <td>0</td>\n",
       "      <td>0</td>\n",
       "      <td>0</td>\n",
       "      <td>0</td>\n",
       "      <td>0</td>\n",
       "      <td>0</td>\n",
       "      <td>0</td>\n",
       "      <td>1</td>\n",
       "      <td>0</td>\n",
       "    </tr>\n",
       "  </tbody>\n",
       "</table>\n",
       "<p>5271 rows × 177 columns</p>\n",
       "</div>"
      ],
      "text/plain": [
       "                id  member_id  loan_amnt  funded_amnt  funded_amnt_inv  term  \\\n",
       "5520     145455851        NaN       8000         8000           8000.0    36   \n",
       "18076    145038052        NaN      30000        30000          30000.0    36   \n",
       "19348    145011883        NaN      14700        14700          14700.0    60   \n",
       "24744    144852610        NaN       8000         8000           8000.0    36   \n",
       "25032    144766517        NaN      30000        30000          30000.0    36   \n",
       "...            ...        ...        ...          ...              ...   ...   \n",
       "2418797  119975458        NaN      33000        33000          33000.0    36   \n",
       "2418820  119417176        NaN      15425        15425          15425.0    60   \n",
       "2418942  120086143        NaN      22250        22250          22250.0    60   \n",
       "2419797  120057235        NaN      35000        35000          35000.0    36   \n",
       "2419925  120025088        NaN      16000        16000          15725.0    36   \n",
       "\n",
       "         int_rate  installment grade                          emp_title  ...  \\\n",
       "5520         6.46       245.05     A                        Meat Cutter  ...   \n",
       "18076       18.94      1098.78     D                    General Manager  ...   \n",
       "19348       27.27       451.25     E                            Teacher  ...   \n",
       "24744        8.19       251.40     A            Sub metro repair worker  ...   \n",
       "25032       15.02      1040.26     C                             DRIVER  ...   \n",
       "...           ...          ...   ...                                ...  ...   \n",
       "2418797     25.82      1326.43     E                     Horse Groomer   ...   \n",
       "2418820     19.03       400.39     D                     Rolloff Driver  ...   \n",
       "2418942     18.06       565.74     D  Sr Military Admissions Consultant  ...   \n",
       "2419797     11.99      1162.34     B       Teacher / Investment Advisor  ...   \n",
       "2419925     30.75       685.82     F               correctional officer  ...   \n",
       "\n",
       "        purpose_major_purchase  purpose_medical purpose_moving purpose_other  \\\n",
       "5520                         0                0              0             0   \n",
       "18076                        0                0              0             0   \n",
       "19348                        0                0              0             1   \n",
       "24744                        0                0              0             0   \n",
       "25032                        0                0              0             0   \n",
       "...                        ...              ...            ...           ...   \n",
       "2418797                      1                0              0             0   \n",
       "2418820                      0                0              0             0   \n",
       "2418942                      0                0              0             0   \n",
       "2419797                      0                0              0             0   \n",
       "2419925                      0                0              0             0   \n",
       "\n",
       "        purpose_renewable_energy purpose_small_business purpose_vacation  \\\n",
       "5520                           0                      0                0   \n",
       "18076                          0                      0                0   \n",
       "19348                          0                      0                0   \n",
       "24744                          0                      0                0   \n",
       "25032                          0                      0                0   \n",
       "...                          ...                    ...              ...   \n",
       "2418797                        0                      0                0   \n",
       "2418820                        0                      0                0   \n",
       "2418942                        0                      0                0   \n",
       "2419797                        0                      0                0   \n",
       "2419925                        0                      0                0   \n",
       "\n",
       "        purpose_wedding verification_status_Source Verified  \\\n",
       "5520                  0                                   0   \n",
       "18076                 0                                   1   \n",
       "19348                 0                                   0   \n",
       "24744                 0                                   0   \n",
       "25032                 0                                   0   \n",
       "...                 ...                                 ...   \n",
       "2418797               0                                   0   \n",
       "2418820               0                                   0   \n",
       "2418942               0                                   0   \n",
       "2419797               0                                   1   \n",
       "2419925               0                                   1   \n",
       "\n",
       "        verification_status_Verified  \n",
       "5520                               0  \n",
       "18076                              0  \n",
       "19348                              0  \n",
       "24744                              0  \n",
       "25032                              0  \n",
       "...                              ...  \n",
       "2418797                            1  \n",
       "2418820                            1  \n",
       "2418942                            1  \n",
       "2419797                            0  \n",
       "2419925                            0  \n",
       "\n",
       "[5271 rows x 177 columns]"
      ]
     },
     "execution_count": 58,
     "metadata": {},
     "output_type": "execute_result"
    }
   ],
   "source": [
    "data.loc[y_test.index[tp]]"
   ]
  },
  {
   "cell_type": "code",
   "execution_count": 59,
   "id": "painful-corporation",
   "metadata": {},
   "outputs": [],
   "source": [
    "payment = [\n",
    "    'loan_amnt', \n",
    "    'funded_amnt',\n",
    "    'out_prncp',\n",
    "    'out_prncp_inv',\n",
    "    'total_pymnt',\n",
    "    'total_pymnt_inv',\n",
    "    'total_rec_prncp',\n",
    "    'total_rec_int',\n",
    "    'total_rec_late_fee']"
   ]
  },
  {
   "cell_type": "code",
   "execution_count": 60,
   "id": "billion-custom",
   "metadata": {},
   "outputs": [
    {
     "data": {
      "text/html": [
       "<div>\n",
       "<style scoped>\n",
       "    .dataframe tbody tr th:only-of-type {\n",
       "        vertical-align: middle;\n",
       "    }\n",
       "\n",
       "    .dataframe tbody tr th {\n",
       "        vertical-align: top;\n",
       "    }\n",
       "\n",
       "    .dataframe thead th {\n",
       "        text-align: right;\n",
       "    }\n",
       "</style>\n",
       "<table border=\"1\" class=\"dataframe\">\n",
       "  <thead>\n",
       "    <tr style=\"text-align: right;\">\n",
       "      <th></th>\n",
       "      <th>loan_amnt</th>\n",
       "      <th>funded_amnt</th>\n",
       "      <th>out_prncp</th>\n",
       "      <th>out_prncp_inv</th>\n",
       "      <th>total_pymnt</th>\n",
       "      <th>total_pymnt_inv</th>\n",
       "      <th>total_rec_prncp</th>\n",
       "      <th>total_rec_int</th>\n",
       "      <th>total_rec_late_fee</th>\n",
       "    </tr>\n",
       "  </thead>\n",
       "  <tbody>\n",
       "    <tr>\n",
       "      <th>5520</th>\n",
       "      <td>8000</td>\n",
       "      <td>8000</td>\n",
       "      <td>0.0</td>\n",
       "      <td>0.0</td>\n",
       "      <td>0.00</td>\n",
       "      <td>0.00</td>\n",
       "      <td>0.00</td>\n",
       "      <td>0.00</td>\n",
       "      <td>0.0</td>\n",
       "    </tr>\n",
       "    <tr>\n",
       "      <th>18076</th>\n",
       "      <td>30000</td>\n",
       "      <td>30000</td>\n",
       "      <td>0.0</td>\n",
       "      <td>0.0</td>\n",
       "      <td>0.00</td>\n",
       "      <td>0.00</td>\n",
       "      <td>0.00</td>\n",
       "      <td>0.00</td>\n",
       "      <td>0.0</td>\n",
       "    </tr>\n",
       "    <tr>\n",
       "      <th>19348</th>\n",
       "      <td>14700</td>\n",
       "      <td>14700</td>\n",
       "      <td>0.0</td>\n",
       "      <td>0.0</td>\n",
       "      <td>857.96</td>\n",
       "      <td>857.96</td>\n",
       "      <td>237.05</td>\n",
       "      <td>620.91</td>\n",
       "      <td>0.0</td>\n",
       "    </tr>\n",
       "    <tr>\n",
       "      <th>24744</th>\n",
       "      <td>8000</td>\n",
       "      <td>8000</td>\n",
       "      <td>0.0</td>\n",
       "      <td>0.0</td>\n",
       "      <td>247.76</td>\n",
       "      <td>247.76</td>\n",
       "      <td>196.80</td>\n",
       "      <td>50.96</td>\n",
       "      <td>0.0</td>\n",
       "    </tr>\n",
       "    <tr>\n",
       "      <th>25032</th>\n",
       "      <td>30000</td>\n",
       "      <td>30000</td>\n",
       "      <td>0.0</td>\n",
       "      <td>0.0</td>\n",
       "      <td>1015.23</td>\n",
       "      <td>1015.23</td>\n",
       "      <td>664.76</td>\n",
       "      <td>350.47</td>\n",
       "      <td>0.0</td>\n",
       "    </tr>\n",
       "    <tr>\n",
       "      <th>...</th>\n",
       "      <td>...</td>\n",
       "      <td>...</td>\n",
       "      <td>...</td>\n",
       "      <td>...</td>\n",
       "      <td>...</td>\n",
       "      <td>...</td>\n",
       "      <td>...</td>\n",
       "      <td>...</td>\n",
       "      <td>...</td>\n",
       "    </tr>\n",
       "    <tr>\n",
       "      <th>2418797</th>\n",
       "      <td>33000</td>\n",
       "      <td>33000</td>\n",
       "      <td>0.0</td>\n",
       "      <td>0.0</td>\n",
       "      <td>0.00</td>\n",
       "      <td>0.00</td>\n",
       "      <td>0.00</td>\n",
       "      <td>0.00</td>\n",
       "      <td>0.0</td>\n",
       "    </tr>\n",
       "    <tr>\n",
       "      <th>2418820</th>\n",
       "      <td>15425</td>\n",
       "      <td>15425</td>\n",
       "      <td>0.0</td>\n",
       "      <td>0.0</td>\n",
       "      <td>0.00</td>\n",
       "      <td>0.00</td>\n",
       "      <td>0.00</td>\n",
       "      <td>0.00</td>\n",
       "      <td>0.0</td>\n",
       "    </tr>\n",
       "    <tr>\n",
       "      <th>2418942</th>\n",
       "      <td>22250</td>\n",
       "      <td>22250</td>\n",
       "      <td>0.0</td>\n",
       "      <td>0.0</td>\n",
       "      <td>2207.15</td>\n",
       "      <td>2207.15</td>\n",
       "      <td>944.57</td>\n",
       "      <td>1262.58</td>\n",
       "      <td>0.0</td>\n",
       "    </tr>\n",
       "    <tr>\n",
       "      <th>2419797</th>\n",
       "      <td>35000</td>\n",
       "      <td>35000</td>\n",
       "      <td>0.0</td>\n",
       "      <td>0.0</td>\n",
       "      <td>0.00</td>\n",
       "      <td>0.00</td>\n",
       "      <td>0.00</td>\n",
       "      <td>0.00</td>\n",
       "      <td>0.0</td>\n",
       "    </tr>\n",
       "    <tr>\n",
       "      <th>2419925</th>\n",
       "      <td>16000</td>\n",
       "      <td>16000</td>\n",
       "      <td>0.0</td>\n",
       "      <td>0.0</td>\n",
       "      <td>658.49</td>\n",
       "      <td>647.17</td>\n",
       "      <td>275.82</td>\n",
       "      <td>382.67</td>\n",
       "      <td>0.0</td>\n",
       "    </tr>\n",
       "  </tbody>\n",
       "</table>\n",
       "<p>5271 rows × 9 columns</p>\n",
       "</div>"
      ],
      "text/plain": [
       "         loan_amnt  funded_amnt  out_prncp  out_prncp_inv  total_pymnt  \\\n",
       "5520          8000         8000        0.0            0.0         0.00   \n",
       "18076        30000        30000        0.0            0.0         0.00   \n",
       "19348        14700        14700        0.0            0.0       857.96   \n",
       "24744         8000         8000        0.0            0.0       247.76   \n",
       "25032        30000        30000        0.0            0.0      1015.23   \n",
       "...            ...          ...        ...            ...          ...   \n",
       "2418797      33000        33000        0.0            0.0         0.00   \n",
       "2418820      15425        15425        0.0            0.0         0.00   \n",
       "2418942      22250        22250        0.0            0.0      2207.15   \n",
       "2419797      35000        35000        0.0            0.0         0.00   \n",
       "2419925      16000        16000        0.0            0.0       658.49   \n",
       "\n",
       "         total_pymnt_inv  total_rec_prncp  total_rec_int  total_rec_late_fee  \n",
       "5520                0.00             0.00           0.00                 0.0  \n",
       "18076               0.00             0.00           0.00                 0.0  \n",
       "19348             857.96           237.05         620.91                 0.0  \n",
       "24744             247.76           196.80          50.96                 0.0  \n",
       "25032            1015.23           664.76         350.47                 0.0  \n",
       "...                  ...              ...            ...                 ...  \n",
       "2418797             0.00             0.00           0.00                 0.0  \n",
       "2418820             0.00             0.00           0.00                 0.0  \n",
       "2418942          2207.15           944.57        1262.58                 0.0  \n",
       "2419797             0.00             0.00           0.00                 0.0  \n",
       "2419925           647.17           275.82         382.67                 0.0  \n",
       "\n",
       "[5271 rows x 9 columns]"
      ]
     },
     "execution_count": 60,
     "metadata": {},
     "output_type": "execute_result"
    }
   ],
   "source": [
    "data.loc[y_test.index[tp]][payment]"
   ]
  },
  {
   "cell_type": "code",
   "execution_count": 61,
   "id": "smart-planet",
   "metadata": {},
   "outputs": [
    {
     "data": {
      "text/html": [
       "<div>\n",
       "<style scoped>\n",
       "    .dataframe tbody tr th:only-of-type {\n",
       "        vertical-align: middle;\n",
       "    }\n",
       "\n",
       "    .dataframe tbody tr th {\n",
       "        vertical-align: top;\n",
       "    }\n",
       "\n",
       "    .dataframe thead th {\n",
       "        text-align: right;\n",
       "    }\n",
       "</style>\n",
       "<table border=\"1\" class=\"dataframe\">\n",
       "  <thead>\n",
       "    <tr style=\"text-align: right;\">\n",
       "      <th></th>\n",
       "      <th>loan_amnt</th>\n",
       "      <th>funded_amnt</th>\n",
       "      <th>out_prncp</th>\n",
       "      <th>out_prncp_inv</th>\n",
       "      <th>total_pymnt</th>\n",
       "      <th>total_pymnt_inv</th>\n",
       "      <th>total_rec_prncp</th>\n",
       "      <th>total_rec_int</th>\n",
       "      <th>total_rec_late_fee</th>\n",
       "    </tr>\n",
       "  </thead>\n",
       "  <tbody>\n",
       "    <tr>\n",
       "      <th>178659</th>\n",
       "      <td>5000</td>\n",
       "      <td>3400</td>\n",
       "      <td>0.00</td>\n",
       "      <td>0.00</td>\n",
       "      <td>3643.290000</td>\n",
       "      <td>3643.29</td>\n",
       "      <td>3400.00</td>\n",
       "      <td>243.29</td>\n",
       "      <td>0.0</td>\n",
       "    </tr>\n",
       "    <tr>\n",
       "      <th>179511</th>\n",
       "      <td>2875</td>\n",
       "      <td>2850</td>\n",
       "      <td>0.00</td>\n",
       "      <td>0.00</td>\n",
       "      <td>3181.145363</td>\n",
       "      <td>3181.15</td>\n",
       "      <td>2850.00</td>\n",
       "      <td>331.15</td>\n",
       "      <td>0.0</td>\n",
       "    </tr>\n",
       "    <tr>\n",
       "      <th>216117</th>\n",
       "      <td>33425</td>\n",
       "      <td>33325</td>\n",
       "      <td>9488.48</td>\n",
       "      <td>9474.25</td>\n",
       "      <td>42131.039690</td>\n",
       "      <td>42067.83</td>\n",
       "      <td>23836.52</td>\n",
       "      <td>18294.52</td>\n",
       "      <td>0.0</td>\n",
       "    </tr>\n",
       "    <tr>\n",
       "      <th>220369</th>\n",
       "      <td>32000</td>\n",
       "      <td>31900</td>\n",
       "      <td>0.00</td>\n",
       "      <td>0.00</td>\n",
       "      <td>33855.959850</td>\n",
       "      <td>33829.43</td>\n",
       "      <td>31900.00</td>\n",
       "      <td>1955.96</td>\n",
       "      <td>0.0</td>\n",
       "    </tr>\n",
       "    <tr>\n",
       "      <th>221038</th>\n",
       "      <td>25000</td>\n",
       "      <td>24975</td>\n",
       "      <td>0.00</td>\n",
       "      <td>0.00</td>\n",
       "      <td>26453.004910</td>\n",
       "      <td>26453.00</td>\n",
       "      <td>24975.00</td>\n",
       "      <td>1478.00</td>\n",
       "      <td>0.0</td>\n",
       "    </tr>\n",
       "    <tr>\n",
       "      <th>...</th>\n",
       "      <td>...</td>\n",
       "      <td>...</td>\n",
       "      <td>...</td>\n",
       "      <td>...</td>\n",
       "      <td>...</td>\n",
       "      <td>...</td>\n",
       "      <td>...</td>\n",
       "      <td>...</td>\n",
       "      <td>...</td>\n",
       "    </tr>\n",
       "    <tr>\n",
       "      <th>316583</th>\n",
       "      <td>35000</td>\n",
       "      <td>22550</td>\n",
       "      <td>0.00</td>\n",
       "      <td>0.00</td>\n",
       "      <td>22724.800000</td>\n",
       "      <td>22724.80</td>\n",
       "      <td>14480.92</td>\n",
       "      <td>8232.35</td>\n",
       "      <td>0.0</td>\n",
       "    </tr>\n",
       "    <tr>\n",
       "      <th>316586</th>\n",
       "      <td>20000</td>\n",
       "      <td>12675</td>\n",
       "      <td>0.00</td>\n",
       "      <td>0.00</td>\n",
       "      <td>17801.931680</td>\n",
       "      <td>17801.93</td>\n",
       "      <td>12675.00</td>\n",
       "      <td>5126.93</td>\n",
       "      <td>0.0</td>\n",
       "    </tr>\n",
       "    <tr>\n",
       "      <th>316592</th>\n",
       "      <td>12000</td>\n",
       "      <td>7775</td>\n",
       "      <td>0.00</td>\n",
       "      <td>0.00</td>\n",
       "      <td>11163.948260</td>\n",
       "      <td>11163.95</td>\n",
       "      <td>7775.00</td>\n",
       "      <td>3388.95</td>\n",
       "      <td>0.0</td>\n",
       "    </tr>\n",
       "    <tr>\n",
       "      <th>2452445</th>\n",
       "      <td>18000</td>\n",
       "      <td>10000</td>\n",
       "      <td>6601.71</td>\n",
       "      <td>6601.71</td>\n",
       "      <td>4485.580000</td>\n",
       "      <td>4485.58</td>\n",
       "      <td>3398.29</td>\n",
       "      <td>1087.29</td>\n",
       "      <td>0.0</td>\n",
       "    </tr>\n",
       "    <tr>\n",
       "      <th>2452770</th>\n",
       "      <td>20000</td>\n",
       "      <td>10000</td>\n",
       "      <td>8428.74</td>\n",
       "      <td>8428.74</td>\n",
       "      <td>2630.990000</td>\n",
       "      <td>2630.99</td>\n",
       "      <td>1571.26</td>\n",
       "      <td>1059.73</td>\n",
       "      <td>0.0</td>\n",
       "    </tr>\n",
       "  </tbody>\n",
       "</table>\n",
       "<p>67 rows × 9 columns</p>\n",
       "</div>"
      ],
      "text/plain": [
       "         loan_amnt  funded_amnt  out_prncp  out_prncp_inv   total_pymnt  \\\n",
       "178659        5000         3400       0.00           0.00   3643.290000   \n",
       "179511        2875         2850       0.00           0.00   3181.145363   \n",
       "216117       33425        33325    9488.48        9474.25  42131.039690   \n",
       "220369       32000        31900       0.00           0.00  33855.959850   \n",
       "221038       25000        24975       0.00           0.00  26453.004910   \n",
       "...            ...          ...        ...            ...           ...   \n",
       "316583       35000        22550       0.00           0.00  22724.800000   \n",
       "316586       20000        12675       0.00           0.00  17801.931680   \n",
       "316592       12000         7775       0.00           0.00  11163.948260   \n",
       "2452445      18000        10000    6601.71        6601.71   4485.580000   \n",
       "2452770      20000        10000    8428.74        8428.74   2630.990000   \n",
       "\n",
       "         total_pymnt_inv  total_rec_prncp  total_rec_int  total_rec_late_fee  \n",
       "178659           3643.29          3400.00         243.29                 0.0  \n",
       "179511           3181.15          2850.00         331.15                 0.0  \n",
       "216117          42067.83         23836.52       18294.52                 0.0  \n",
       "220369          33829.43         31900.00        1955.96                 0.0  \n",
       "221038          26453.00         24975.00        1478.00                 0.0  \n",
       "...                  ...              ...            ...                 ...  \n",
       "316583          22724.80         14480.92        8232.35                 0.0  \n",
       "316586          17801.93         12675.00        5126.93                 0.0  \n",
       "316592          11163.95          7775.00        3388.95                 0.0  \n",
       "2452445          4485.58          3398.29        1087.29                 0.0  \n",
       "2452770          2630.99          1571.26        1059.73                 0.0  \n",
       "\n",
       "[67 rows x 9 columns]"
      ]
     },
     "execution_count": 61,
     "metadata": {},
     "output_type": "execute_result"
    }
   ],
   "source": [
    "data[data.loan_amnt != data.funded_amnt][payment]"
   ]
  },
  {
   "cell_type": "code",
   "execution_count": 62,
   "id": "happy-crack",
   "metadata": {},
   "outputs": [
    {
     "name": "stdout",
     "output_type": "stream",
     "text": [
      "<class 'pandas.core.frame.DataFrame'>\n",
      "Int64Index: 2643639 entries, 0 to 2854471\n",
      "Data columns (total 9 columns):\n",
      " #   Column              Dtype  \n",
      "---  ------              -----  \n",
      " 0   loan_amnt           int64  \n",
      " 1   funded_amnt         int64  \n",
      " 2   out_prncp           float64\n",
      " 3   out_prncp_inv       float64\n",
      " 4   total_pymnt         float64\n",
      " 5   total_pymnt_inv     float64\n",
      " 6   total_rec_prncp     float64\n",
      " 7   total_rec_int       float64\n",
      " 8   total_rec_late_fee  float64\n",
      "dtypes: float64(7), int64(2)\n",
      "memory usage: 266.2 MB\n"
     ]
    }
   ],
   "source": [
    "data.loc[:,payment].info()"
   ]
  },
  {
   "cell_type": "code",
   "execution_count": 63,
   "id": "american-conjunction",
   "metadata": {
    "scrolled": true
   },
   "outputs": [
    {
     "data": {
      "text/plain": [
       "14483.39396319484"
      ]
     },
     "execution_count": 63,
     "metadata": {},
     "output_type": "execute_result"
    }
   ],
   "source": [
    "(data.loc[y_test.index[tp]]['funded_amnt'].sum()-data.loc[y_test.index[tp]]['total_rec_prncp'].sum())/y_test.index[tp].shape[0]"
   ]
  },
  {
   "cell_type": "code",
   "execution_count": 64,
   "id": "scheduled-vermont",
   "metadata": {},
   "outputs": [
    {
     "data": {
      "text/plain": [
       "294807.62"
      ]
     },
     "execution_count": 64,
     "metadata": {},
     "output_type": "execute_result"
    }
   ],
   "source": [
    "data.loc[y_test.index[fp]]['total_rec_int'].sum()"
   ]
  },
  {
   "cell_type": "code",
   "execution_count": 65,
   "id": "extended-plaintiff",
   "metadata": {},
   "outputs": [],
   "source": [
    "def potential_principal_saved(tp, fp, interest=False):\n",
    "    # Principal remaining\n",
    "    funded = data.loc[y_test.index[tp]]['funded_amnt'].sum()\n",
    "    princ_rec = data.loc[y_test.index[tp]]['total_rec_prncp'].sum()\n",
    "    int_rec = data.loc[y_test.index[tp]]['total_rec_int'].sum()\n",
    "    missed_int = data.loc[y_test.index[fp]]['total_rec_int'].sum()\n",
    "    recovered = data.loc[y_test.index[tp]]['recoveries'].sum()\n",
    "    saved = funded - princ_rec - missed_int - int_rec - recovered\n",
    "    if interest:\n",
    "        saved -= int_rec\n",
    "    return saved\n",
    "    "
   ]
  },
  {
   "cell_type": "code",
   "execution_count": 66,
   "id": "boolean-newton",
   "metadata": {},
   "outputs": [],
   "source": [
    "savings = []\n",
    "for t in threshold:\n",
    "    tp, tn, fp, fn = get_cf_arrays(y_test, get_yhat(probabilities[:,1], t))\n",
    "    savings.append(potential_principal_saved(tp, fp))"
   ]
  },
  {
   "cell_type": "code",
   "execution_count": 67,
   "id": "wrapped-investor",
   "metadata": {},
   "outputs": [
    {
     "data": {
      "text/plain": [
       "[<matplotlib.lines.Line2D at 0x15929c8e0>]"
      ]
     },
     "execution_count": 67,
     "metadata": {},
     "output_type": "execute_result"
    },
    {
     "data": {
      "image/png": "[encoded data removed]",
      "text/plain": [
       "<Figure size 432x288 with 1 Axes>"
      ]
     },
     "metadata": {
      "needs_background": "light"
     },
     "output_type": "display_data"
    }
   ],
   "source": [
    "fig, ax = plt.subplots()\n",
    "\n",
    "ax.plot(threshold, savings)"
   ]
  },
  {
   "cell_type": "code",
   "execution_count": 68,
   "id": "stupid-conditioning",
   "metadata": {},
   "outputs": [],
   "source": [
    "savings = []\n",
    "for t in threshold:\n",
    "    tp, tn, fp, fn = get_cf_arrays(y_test, get_yhat(probabilities[:,1], t))\n",
    "    savings.append(potential_principal_saved(tp, fp, True))\n"
   ]
  },
  {
   "cell_type": "code",
   "execution_count": 69,
   "id": "electoral-soldier",
   "metadata": {},
   "outputs": [
    {
     "data": {
      "text/plain": [
       "Text(0, 0.5, 'Dollars Saved')"
      ]
     },
     "execution_count": 69,
     "metadata": {},
     "output_type": "execute_result"
    },
    {
     "data": {
      "image/png": "[encoded data removed]",
      "text/plain": [
       "<Figure size 576x432 with 1 Axes>"
      ]
     },
     "metadata": {
      "needs_background": "light"
     },
     "output_type": "display_data"
    }
   ],
   "source": [
    "fig, ax = plt.subplots(figsize=(8,6))\n",
    "\n",
    "ax.plot(threshold, savings)\n",
    "ax.set_xlabel('Threshold')\n",
    "ax.set_ylabel('Dollars Saved')"
   ]
  },
  {
   "cell_type": "code",
   "execution_count": 70,
   "id": "brazilian-question",
   "metadata": {},
   "outputs": [
    {
     "data": {
      "text/plain": [
       "0.16326530612244897"
      ]
     },
     "execution_count": 70,
     "metadata": {},
     "output_type": "execute_result"
    }
   ],
   "source": [
    "threshold[np.argmax(savings)]"
   ]
  },
  {
   "cell_type": "code",
   "execution_count": 71,
   "id": "dominant-youth",
   "metadata": {},
   "outputs": [],
   "source": [
    "tp, tn, fp, fn = get_cf_arrays(y_test, get_yhat(probabilities[:,1], .8))"
   ]
  },
  {
   "cell_type": "code",
   "execution_count": 72,
   "id": "knowing-liberal",
   "metadata": {},
   "outputs": [
    {
     "data": {
      "text/plain": [
       "59401792.78999999"
      ]
     },
     "execution_count": 72,
     "metadata": {},
     "output_type": "execute_result"
    }
   ],
   "source": [
    "funded = data.loc[y_test.index[tp]]['funded_amnt'].sum()\n",
    "princ_rec = data.loc[y_test.index[tp]]['total_rec_prncp'].sum()\n",
    "int_rec = data.loc[y_test.index[tp]]['total_rec_int'].sum()\n",
    "missed_int = data.loc[y_test.index[fp]]['total_rec_int'].sum()\n",
    "recovered = data.loc[y_test.index[tp]]['recoveries'].sum()\n",
    "saved = funded - princ_rec - missed_int - int_rec - recovered\n",
    "saved"
   ]
  },
  {
   "cell_type": "code",
   "execution_count": 73,
   "id": "configured-pipeline",
   "metadata": {},
   "outputs": [],
   "source": [
    "current_loan_prob = rf_model.predict_proba(X_val)"
   ]
  },
  {
   "cell_type": "code",
   "execution_count": 74,
   "id": "standing-survey",
   "metadata": {},
   "outputs": [],
   "source": [
    "def interest_calculator(funded, interest, payment):\n",
    "    current_balance = funded\n",
    "    r = interest/100\n",
    "    interest_paid = 0\n",
    "    while current_balance > 0:\n",
    "        accrued = (current_balance * r)/12\n",
    "        interest_paid += accrued\n",
    "        current_balance -= (payment - accrued)\n",
    "        if interest_paid > funded:\n",
    "            return 0\n",
    "    return round(interest_paid,2)\n",
    "    "
   ]
  },
  {
   "cell_type": "code",
   "execution_count": 77,
   "id": "ordinary-encyclopedia",
   "metadata": {
    "scrolled": false
   },
   "outputs": [
    {
     "name": "stderr",
     "output_type": "stream",
     "text": [
      "<ipython-input-77-39f67147d747>:1: SettingWithCopyWarning: \n",
      "A value is trying to be set on a copy of a slice from a DataFrame.\n",
      "Try using .loc[row_indexer,col_indexer] = value instead\n",
      "\n",
      "See the caveats in the documentation: https://pandas.pydata.org/pandas-docs/stable/user_guide/indexing.html#returning-a-view-versus-a-copy\n",
      "  validation['potential_interest'] = validation.apply(lambda row: interest_calculator(row['funded_amnt'], row['int_rate'], row['installment']), axis=1)\n"
     ]
    }
   ],
   "source": [
    "validation['potential_interest'] = validation.apply(lambda row: interest_calculator(row['funded_amnt'], row['int_rate'], row['installment']), axis=1)"
   ]
  },
  {
   "cell_type": "code",
   "execution_count": 76,
   "id": "chinese-baker",
   "metadata": {
    "scrolled": true
   },
   "outputs": [
    {
     "data": {
      "text/plain": [
       "1672.0"
      ]
     },
     "execution_count": 76,
     "metadata": {},
     "output_type": "execute_result"
    }
   ],
   "source": [
    "interest_calculator(data.loc[0, 'funded_amnt'], data.loc[0, 'int_rate'], data.loc[0, 'installment'])"
   ]
  },
  {
   "cell_type": "code",
   "execution_count": 78,
   "id": "adopted-eagle",
   "metadata": {
    "scrolled": true
   },
   "outputs": [
    {
     "data": {
      "text/plain": [
       "0           1672.00\n",
       "1            556.71\n",
       "2           4589.33\n",
       "4           8361.80\n",
       "5           3850.20\n",
       "             ...   \n",
       "2420059    29067.86\n",
       "2420060     4782.94\n",
       "2420062     1955.40\n",
       "2420063    10565.62\n",
       "2420064     7660.90\n",
       "Name: potential_interest, Length: 1376521, dtype: float64"
      ]
     },
     "execution_count": 78,
     "metadata": {},
     "output_type": "execute_result"
    }
   ],
   "source": [
    "validation['potential_interest']"
   ]
  },
  {
   "cell_type": "code",
   "execution_count": 85,
   "id": "promotional-regular",
   "metadata": {},
   "outputs": [
    {
     "data": {
      "text/plain": [
       "127019778.61"
      ]
     },
     "execution_count": 85,
     "metadata": {},
     "output_type": "execute_result"
    }
   ],
   "source": [
    "validation.loc[y_val.index[current_loan_prob[:,1] > .5]]['potential_interest'].sum()"
   ]
  },
  {
   "cell_type": "code",
   "execution_count": 87,
   "id": "acute-transcription",
   "metadata": {},
   "outputs": [],
   "source": [
    "\n",
    "potential_interest = []\n",
    "for t in threshold:\n",
    "    potential_interest.append(validation.loc[y_val.index[current_loan_prob[:,1] > t]]['potential_interest'].sum())"
   ]
  },
  {
   "cell_type": "code",
   "execution_count": 101,
   "id": "romantic-consortium",
   "metadata": {},
   "outputs": [
    {
     "data": {
      "text/plain": [
       "Text(0, 0.5, 'Dollars Saved')"
      ]
     },
     "execution_count": 101,
     "metadata": {},
     "output_type": "execute_result"
    },
    {
     "data": {
      "image/png": "[encoded data removed]",
      "text/plain": [
       "<Figure size 576x432 with 1 Axes>"
      ]
     },
     "metadata": {
      "needs_background": "light"
     },
     "output_type": "display_data"
    }
   ],
   "source": [
    "fig, ax = plt.subplots(figsize=(8,6))\n",
    "\n",
    "ax.plot(threshold, np.array(potential_interest))\n",
    "ax.set_ylim(0,1000000000)\n",
    "ax.set_xlabel('Threshold')\n",
    "ax.set_ylabel('Dollars Saved')"
   ]
  },
  {
   "cell_type": "code",
   "execution_count": 89,
   "id": "correct-first",
   "metadata": {},
   "outputs": [],
   "source": [
    "net = np.array(savings)-np.array(potential_interest)"
   ]
  },
  {
   "cell_type": "code",
   "execution_count": 106,
   "id": "iraqi-plasma",
   "metadata": {},
   "outputs": [
    {
     "data": {
      "text/plain": [
       "[<matplotlib.lines.Line2D at 0x1757a9fa0>]"
      ]
     },
     "execution_count": 106,
     "metadata": {},
     "output_type": "execute_result"
    },
    {
     "data": {
      "image/png": "[encoded data removed]",
      "text/plain": [
       "<Figure size 432x288 with 1 Axes>"
      ]
     },
     "metadata": {
      "needs_background": "light"
     },
     "output_type": "display_data"
    }
   ],
   "source": [
    "fig, ax = plt.subplots()\n",
    "\n",
    "ax.plot(threshold[net>0],net[net > 0])"
   ]
  },
  {
   "cell_type": "code",
   "execution_count": 103,
   "id": "progressive-prime",
   "metadata": {},
   "outputs": [
    {
     "data": {
      "text/plain": [
       "array([0.73469388, 0.75510204, 0.7755102 , 0.79591837, 0.81632653,\n",
       "       0.83673469, 0.85714286, 0.87755102, 0.89795918, 0.91836735,\n",
       "       0.93877551, 0.95918367, 0.97959184])"
      ]
     },
     "execution_count": 103,
     "metadata": {},
     "output_type": "execute_result"
    }
   ],
   "source": [
    "threshold[net > 0]"
   ]
  },
  {
   "cell_type": "code",
   "execution_count": null,
   "id": "parental-seventh",
   "metadata": {},
   "outputs": [],
   "source": []
  }
 ],
 "metadata": {
  "kernelspec": {
   "display_name": "Python 3",
   "language": "python",
   "name": "python3"
  },
  "language_info": {
   "codemirror_mode": {
    "name": "ipython",
    "version": 3
   },
   "file_extension": ".py",
   "mimetype": "text/x-python",
   "name": "python",
   "nbconvert_exporter": "python",
   "pygments_lexer": "ipython3",
   "version": "3.8.8"
  }
 },
 "nbformat": 4,
 "nbformat_minor": 5
}
