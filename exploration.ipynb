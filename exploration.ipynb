{
 "cells": [
  {
   "cell_type": "code",
   "execution_count": 1,
   "id": "retained-mixer",
   "metadata": {},
   "outputs": [],
   "source": [
    "import numpy as np\n",
    "import pandas as pd\n",
    "import matplotlib.pyplot as plt\n",
    "import importlib\n",
    "\n",
    "from glob import iglob"
   ]
  },
  {
   "cell_type": "code",
   "execution_count": 3,
   "id": "unable-indicator",
   "metadata": {
    "scrolled": true
   },
   "outputs": [],
   "source": [
    "# data = pd.read_csv('data/raw/LoanStats3d_securev1.csv',skiprows=[0], low_memory=False)\n",
    "# data = get_all_data('data/raw/')\n",
    "# data = data.drop('Unnamed: 0', axis=1)"
   ]
  },
  {
   "cell_type": "markdown",
   "id": "metallic-request",
   "metadata": {},
   "source": [
    "### Get data for all years"
   ]
  },
  {
   "cell_type": "code",
   "execution_count": 2,
   "id": "representative-definition",
   "metadata": {},
   "outputs": [],
   "source": [
    "import src.pipeline as pipeline"
   ]
  },
  {
   "cell_type": "code",
   "execution_count": 31,
   "id": "colored-passing",
   "metadata": {},
   "outputs": [
    {
     "data": {
      "text/plain": [
       "<module 'src.pipeline' from '/Users/vinsonmccready/galvanize/loan-default-predictor/src/pipeline.py'>"
      ]
     },
     "execution_count": 31,
     "metadata": {},
     "output_type": "execute_result"
    }
   ],
   "source": [
    "importlib.reload(pipeline)"
   ]
  },
  {
   "cell_type": "code",
   "execution_count": 3,
   "id": "rational-testimony",
   "metadata": {},
   "outputs": [],
   "source": [
    "data = pipeline.get_all_data('data/raw/')"
   ]
  },
  {
   "cell_type": "code",
   "execution_count": 4,
   "id": "supposed-harvest",
   "metadata": {
    "scrolled": true
   },
   "outputs": [
    {
     "data": {
      "text/plain": [
       "(2854472, 126)"
      ]
     },
     "execution_count": 4,
     "metadata": {},
     "output_type": "execute_result"
    }
   ],
   "source": [
    "data.shape"
   ]
  },
  {
   "cell_type": "markdown",
   "id": "victorian-costa",
   "metadata": {},
   "source": [
    "### Exploration"
   ]
  },
  {
   "cell_type": "code",
   "execution_count": 5,
   "id": "simple-adams",
   "metadata": {},
   "outputs": [
    {
     "data": {
      "text/html": [
       "<div>\n",
       "<style scoped>\n",
       "    .dataframe tbody tr th:only-of-type {\n",
       "        vertical-align: middle;\n",
       "    }\n",
       "\n",
       "    .dataframe tbody tr th {\n",
       "        vertical-align: top;\n",
       "    }\n",
       "\n",
       "    .dataframe thead th {\n",
       "        text-align: right;\n",
       "    }\n",
       "</style>\n",
       "<table border=\"1\" class=\"dataframe\">\n",
       "  <thead>\n",
       "    <tr style=\"text-align: right;\">\n",
       "      <th></th>\n",
       "      <th>id</th>\n",
       "      <th>member_id</th>\n",
       "      <th>loan_amnt</th>\n",
       "      <th>funded_amnt</th>\n",
       "      <th>funded_amnt_inv</th>\n",
       "      <th>term</th>\n",
       "      <th>int_rate</th>\n",
       "      <th>installment</th>\n",
       "      <th>grade</th>\n",
       "      <th>sub_grade</th>\n",
       "      <th>...</th>\n",
       "      <th>sec_app_fico_range_high</th>\n",
       "      <th>sec_app_earliest_cr_line</th>\n",
       "      <th>sec_app_inq_last_6mths</th>\n",
       "      <th>sec_app_mort_acc</th>\n",
       "      <th>sec_app_open_acc</th>\n",
       "      <th>sec_app_revol_util</th>\n",
       "      <th>sec_app_num_rev_accts</th>\n",
       "      <th>sec_app_chargeoff_within_12_mths</th>\n",
       "      <th>sec_app_collections_12_mths_ex_med</th>\n",
       "      <th>sec_app_mths_since_last_major_derog</th>\n",
       "    </tr>\n",
       "  </thead>\n",
       "  <tbody>\n",
       "    <tr>\n",
       "      <th>0</th>\n",
       "      <td>145217616</td>\n",
       "      <td>NaN</td>\n",
       "      <td>10000</td>\n",
       "      <td>10000</td>\n",
       "      <td>10000.0</td>\n",
       "      <td>36 months</td>\n",
       "      <td>10.33%</td>\n",
       "      <td>324.23</td>\n",
       "      <td>B</td>\n",
       "      <td>B1</td>\n",
       "      <td>...</td>\n",
       "      <td>NaN</td>\n",
       "      <td>NaN</td>\n",
       "      <td>NaN</td>\n",
       "      <td>NaN</td>\n",
       "      <td>NaN</td>\n",
       "      <td>NaN</td>\n",
       "      <td>NaN</td>\n",
       "      <td>NaN</td>\n",
       "      <td>NaN</td>\n",
       "      <td>NaN</td>\n",
       "    </tr>\n",
       "    <tr>\n",
       "      <th>1</th>\n",
       "      <td>145640422</td>\n",
       "      <td>NaN</td>\n",
       "      <td>2500</td>\n",
       "      <td>2500</td>\n",
       "      <td>2500.0</td>\n",
       "      <td>36 months</td>\n",
       "      <td>13.56%</td>\n",
       "      <td>84.92</td>\n",
       "      <td>C</td>\n",
       "      <td>C1</td>\n",
       "      <td>...</td>\n",
       "      <td>NaN</td>\n",
       "      <td>NaN</td>\n",
       "      <td>NaN</td>\n",
       "      <td>NaN</td>\n",
       "      <td>NaN</td>\n",
       "      <td>NaN</td>\n",
       "      <td>NaN</td>\n",
       "      <td>NaN</td>\n",
       "      <td>NaN</td>\n",
       "      <td>NaN</td>\n",
       "    </tr>\n",
       "    <tr>\n",
       "      <th>2</th>\n",
       "      <td>145630143</td>\n",
       "      <td>NaN</td>\n",
       "      <td>12000</td>\n",
       "      <td>12000</td>\n",
       "      <td>12000.0</td>\n",
       "      <td>60 months</td>\n",
       "      <td>13.56%</td>\n",
       "      <td>276.49</td>\n",
       "      <td>C</td>\n",
       "      <td>C1</td>\n",
       "      <td>...</td>\n",
       "      <td>NaN</td>\n",
       "      <td>NaN</td>\n",
       "      <td>NaN</td>\n",
       "      <td>NaN</td>\n",
       "      <td>NaN</td>\n",
       "      <td>NaN</td>\n",
       "      <td>NaN</td>\n",
       "      <td>NaN</td>\n",
       "      <td>NaN</td>\n",
       "      <td>NaN</td>\n",
       "    </tr>\n",
       "    <tr>\n",
       "      <th>3</th>\n",
       "      <td>145127870</td>\n",
       "      <td>NaN</td>\n",
       "      <td>15000</td>\n",
       "      <td>15000</td>\n",
       "      <td>14975.0</td>\n",
       "      <td>60 months</td>\n",
       "      <td>14.47%</td>\n",
       "      <td>352.69</td>\n",
       "      <td>C</td>\n",
       "      <td>C2</td>\n",
       "      <td>...</td>\n",
       "      <td>664.0</td>\n",
       "      <td>Oct-99</td>\n",
       "      <td>0.0</td>\n",
       "      <td>0.0</td>\n",
       "      <td>16.0</td>\n",
       "      <td>48.8</td>\n",
       "      <td>15.0</td>\n",
       "      <td>0.0</td>\n",
       "      <td>0.0</td>\n",
       "      <td>NaN</td>\n",
       "    </tr>\n",
       "    <tr>\n",
       "      <th>4</th>\n",
       "      <td>145558466</td>\n",
       "      <td>NaN</td>\n",
       "      <td>16000</td>\n",
       "      <td>16000</td>\n",
       "      <td>16000.0</td>\n",
       "      <td>60 months</td>\n",
       "      <td>17.97%</td>\n",
       "      <td>406.04</td>\n",
       "      <td>D</td>\n",
       "      <td>D1</td>\n",
       "      <td>...</td>\n",
       "      <td>NaN</td>\n",
       "      <td>NaN</td>\n",
       "      <td>NaN</td>\n",
       "      <td>NaN</td>\n",
       "      <td>NaN</td>\n",
       "      <td>NaN</td>\n",
       "      <td>NaN</td>\n",
       "      <td>NaN</td>\n",
       "      <td>NaN</td>\n",
       "      <td>NaN</td>\n",
       "    </tr>\n",
       "    <tr>\n",
       "      <th>...</th>\n",
       "      <td>...</td>\n",
       "      <td>...</td>\n",
       "      <td>...</td>\n",
       "      <td>...</td>\n",
       "      <td>...</td>\n",
       "      <td>...</td>\n",
       "      <td>...</td>\n",
       "      <td>...</td>\n",
       "      <td>...</td>\n",
       "      <td>...</td>\n",
       "      <td>...</td>\n",
       "      <td>...</td>\n",
       "      <td>...</td>\n",
       "      <td>...</td>\n",
       "      <td>...</td>\n",
       "      <td>...</td>\n",
       "      <td>...</td>\n",
       "      <td>...</td>\n",
       "      <td>...</td>\n",
       "      <td>...</td>\n",
       "      <td>...</td>\n",
       "    </tr>\n",
       "    <tr>\n",
       "      <th>103541</th>\n",
       "      <td>89885898</td>\n",
       "      <td>NaN</td>\n",
       "      <td>24000</td>\n",
       "      <td>24000</td>\n",
       "      <td>24000.0</td>\n",
       "      <td>60 months</td>\n",
       "      <td>12.79%</td>\n",
       "      <td>543.50</td>\n",
       "      <td>C</td>\n",
       "      <td>C1</td>\n",
       "      <td>...</td>\n",
       "      <td>NaN</td>\n",
       "      <td>NaN</td>\n",
       "      <td>NaN</td>\n",
       "      <td>NaN</td>\n",
       "      <td>NaN</td>\n",
       "      <td>NaN</td>\n",
       "      <td>NaN</td>\n",
       "      <td>NaN</td>\n",
       "      <td>NaN</td>\n",
       "      <td>NaN</td>\n",
       "    </tr>\n",
       "    <tr>\n",
       "      <th>103542</th>\n",
       "      <td>88977788</td>\n",
       "      <td>NaN</td>\n",
       "      <td>24000</td>\n",
       "      <td>24000</td>\n",
       "      <td>24000.0</td>\n",
       "      <td>60 months</td>\n",
       "      <td>10.49%</td>\n",
       "      <td>515.74</td>\n",
       "      <td>B</td>\n",
       "      <td>B3</td>\n",
       "      <td>...</td>\n",
       "      <td>NaN</td>\n",
       "      <td>NaN</td>\n",
       "      <td>NaN</td>\n",
       "      <td>NaN</td>\n",
       "      <td>NaN</td>\n",
       "      <td>NaN</td>\n",
       "      <td>NaN</td>\n",
       "      <td>NaN</td>\n",
       "      <td>NaN</td>\n",
       "      <td>NaN</td>\n",
       "    </tr>\n",
       "    <tr>\n",
       "      <th>103543</th>\n",
       "      <td>88985880</td>\n",
       "      <td>NaN</td>\n",
       "      <td>40000</td>\n",
       "      <td>40000</td>\n",
       "      <td>40000.0</td>\n",
       "      <td>60 months</td>\n",
       "      <td>10.49%</td>\n",
       "      <td>859.56</td>\n",
       "      <td>B</td>\n",
       "      <td>B3</td>\n",
       "      <td>...</td>\n",
       "      <td>NaN</td>\n",
       "      <td>NaN</td>\n",
       "      <td>NaN</td>\n",
       "      <td>NaN</td>\n",
       "      <td>NaN</td>\n",
       "      <td>NaN</td>\n",
       "      <td>NaN</td>\n",
       "      <td>NaN</td>\n",
       "      <td>NaN</td>\n",
       "      <td>NaN</td>\n",
       "    </tr>\n",
       "    <tr>\n",
       "      <th>103544</th>\n",
       "      <td>88224441</td>\n",
       "      <td>NaN</td>\n",
       "      <td>24000</td>\n",
       "      <td>24000</td>\n",
       "      <td>24000.0</td>\n",
       "      <td>60 months</td>\n",
       "      <td>14.49%</td>\n",
       "      <td>564.56</td>\n",
       "      <td>C</td>\n",
       "      <td>C4</td>\n",
       "      <td>...</td>\n",
       "      <td>NaN</td>\n",
       "      <td>NaN</td>\n",
       "      <td>NaN</td>\n",
       "      <td>NaN</td>\n",
       "      <td>NaN</td>\n",
       "      <td>NaN</td>\n",
       "      <td>NaN</td>\n",
       "      <td>NaN</td>\n",
       "      <td>NaN</td>\n",
       "      <td>NaN</td>\n",
       "    </tr>\n",
       "    <tr>\n",
       "      <th>103545</th>\n",
       "      <td>88215728</td>\n",
       "      <td>NaN</td>\n",
       "      <td>14000</td>\n",
       "      <td>14000</td>\n",
       "      <td>14000.0</td>\n",
       "      <td>60 months</td>\n",
       "      <td>14.49%</td>\n",
       "      <td>329.33</td>\n",
       "      <td>C</td>\n",
       "      <td>C4</td>\n",
       "      <td>...</td>\n",
       "      <td>NaN</td>\n",
       "      <td>NaN</td>\n",
       "      <td>NaN</td>\n",
       "      <td>NaN</td>\n",
       "      <td>NaN</td>\n",
       "      <td>NaN</td>\n",
       "      <td>NaN</td>\n",
       "      <td>NaN</td>\n",
       "      <td>NaN</td>\n",
       "      <td>NaN</td>\n",
       "    </tr>\n",
       "  </tbody>\n",
       "</table>\n",
       "<p>2854472 rows × 126 columns</p>\n",
       "</div>"
      ],
      "text/plain": [
       "               id  member_id  loan_amnt  funded_amnt  funded_amnt_inv  \\\n",
       "0       145217616        NaN      10000        10000          10000.0   \n",
       "1       145640422        NaN       2500         2500           2500.0   \n",
       "2       145630143        NaN      12000        12000          12000.0   \n",
       "3       145127870        NaN      15000        15000          14975.0   \n",
       "4       145558466        NaN      16000        16000          16000.0   \n",
       "...           ...        ...        ...          ...              ...   \n",
       "103541   89885898        NaN      24000        24000          24000.0   \n",
       "103542   88977788        NaN      24000        24000          24000.0   \n",
       "103543   88985880        NaN      40000        40000          40000.0   \n",
       "103544   88224441        NaN      24000        24000          24000.0   \n",
       "103545   88215728        NaN      14000        14000          14000.0   \n",
       "\n",
       "              term int_rate  installment grade sub_grade  ...  \\\n",
       "0        36 months   10.33%       324.23     B        B1  ...   \n",
       "1        36 months   13.56%        84.92     C        C1  ...   \n",
       "2        60 months   13.56%       276.49     C        C1  ...   \n",
       "3        60 months   14.47%       352.69     C        C2  ...   \n",
       "4        60 months   17.97%       406.04     D        D1  ...   \n",
       "...            ...      ...          ...   ...       ...  ...   \n",
       "103541   60 months   12.79%       543.50     C        C1  ...   \n",
       "103542   60 months   10.49%       515.74     B        B3  ...   \n",
       "103543   60 months   10.49%       859.56     B        B3  ...   \n",
       "103544   60 months   14.49%       564.56     C        C4  ...   \n",
       "103545   60 months   14.49%       329.33     C        C4  ...   \n",
       "\n",
       "       sec_app_fico_range_high sec_app_earliest_cr_line  \\\n",
       "0                          NaN                      NaN   \n",
       "1                          NaN                      NaN   \n",
       "2                          NaN                      NaN   \n",
       "3                        664.0                   Oct-99   \n",
       "4                          NaN                      NaN   \n",
       "...                        ...                      ...   \n",
       "103541                     NaN                      NaN   \n",
       "103542                     NaN                      NaN   \n",
       "103543                     NaN                      NaN   \n",
       "103544                     NaN                      NaN   \n",
       "103545                     NaN                      NaN   \n",
       "\n",
       "       sec_app_inq_last_6mths  sec_app_mort_acc sec_app_open_acc  \\\n",
       "0                         NaN               NaN              NaN   \n",
       "1                         NaN               NaN              NaN   \n",
       "2                         NaN               NaN              NaN   \n",
       "3                         0.0               0.0             16.0   \n",
       "4                         NaN               NaN              NaN   \n",
       "...                       ...               ...              ...   \n",
       "103541                    NaN               NaN              NaN   \n",
       "103542                    NaN               NaN              NaN   \n",
       "103543                    NaN               NaN              NaN   \n",
       "103544                    NaN               NaN              NaN   \n",
       "103545                    NaN               NaN              NaN   \n",
       "\n",
       "       sec_app_revol_util sec_app_num_rev_accts  \\\n",
       "0                     NaN                   NaN   \n",
       "1                     NaN                   NaN   \n",
       "2                     NaN                   NaN   \n",
       "3                    48.8                  15.0   \n",
       "4                     NaN                   NaN   \n",
       "...                   ...                   ...   \n",
       "103541                NaN                   NaN   \n",
       "103542                NaN                   NaN   \n",
       "103543                NaN                   NaN   \n",
       "103544                NaN                   NaN   \n",
       "103545                NaN                   NaN   \n",
       "\n",
       "       sec_app_chargeoff_within_12_mths sec_app_collections_12_mths_ex_med  \\\n",
       "0                                   NaN                                NaN   \n",
       "1                                   NaN                                NaN   \n",
       "2                                   NaN                                NaN   \n",
       "3                                   0.0                                0.0   \n",
       "4                                   NaN                                NaN   \n",
       "...                                 ...                                ...   \n",
       "103541                              NaN                                NaN   \n",
       "103542                              NaN                                NaN   \n",
       "103543                              NaN                                NaN   \n",
       "103544                              NaN                                NaN   \n",
       "103545                              NaN                                NaN   \n",
       "\n",
       "       sec_app_mths_since_last_major_derog  \n",
       "0                                      NaN  \n",
       "1                                      NaN  \n",
       "2                                      NaN  \n",
       "3                                      NaN  \n",
       "4                                      NaN  \n",
       "...                                    ...  \n",
       "103541                                 NaN  \n",
       "103542                                 NaN  \n",
       "103543                                 NaN  \n",
       "103544                                 NaN  \n",
       "103545                                 NaN  \n",
       "\n",
       "[2854472 rows x 126 columns]"
      ]
     },
     "execution_count": 5,
     "metadata": {},
     "output_type": "execute_result"
    }
   ],
   "source": [
    "data.reset_index"
   ]
  },
  {
   "cell_type": "code",
   "execution_count": 6,
   "id": "patent-numbers",
   "metadata": {},
   "outputs": [],
   "source": [
    "data = pipeline.clean_data(data)"
   ]
  },
  {
   "cell_type": "code",
   "execution_count": 103,
   "id": "thrown-market",
   "metadata": {
    "scrolled": false
   },
   "outputs": [
    {
     "name": "stdout",
     "output_type": "stream",
     "text": [
      "<class 'pandas.core.frame.DataFrame'>\n",
      "Int64Index: 673340 entries, 126 to 103532\n",
      "Data columns (total 90 columns):\n",
      " #   Column                      Non-Null Count   Dtype  \n",
      "---  ------                      --------------   -----  \n",
      " 0   id                          673340 non-null  int64  \n",
      " 1   loan_amnt                   673340 non-null  int64  \n",
      " 2   funded_amnt                 673340 non-null  int64  \n",
      " 3   funded_amnt_inv             673340 non-null  float64\n",
      " 4   term                        673340 non-null  object \n",
      " 5   int_rate                    673340 non-null  float64\n",
      " 6   installment                 673340 non-null  float64\n",
      " 7   grade                       673340 non-null  object \n",
      " 8   sub_grade                   673340 non-null  object \n",
      " 9   emp_title                   632353 non-null  object \n",
      " 10  emp_length                  638162 non-null  object \n",
      " 11  home_ownership              673340 non-null  object \n",
      " 12  annual_inc                  673340 non-null  float64\n",
      " 13  verification_status         673340 non-null  object \n",
      " 14  issue_d                     673340 non-null  object \n",
      " 15  loan_status                 673340 non-null  object \n",
      " 16  pymnt_plan                  673340 non-null  object \n",
      " 17  url                         673340 non-null  object \n",
      " 18  purpose                     673340 non-null  object \n",
      " 19  title                       668853 non-null  object \n",
      " 20  zip_code                    673340 non-null  object \n",
      " 21  addr_state                  673340 non-null  object \n",
      " 22  dti                         673340 non-null  float64\n",
      " 23  delinq_2yrs                 673340 non-null  int64  \n",
      " 24  earliest_cr_line            673340 non-null  object \n",
      " 25  fico_range_low              673340 non-null  int64  \n",
      " 26  fico_range_high             673340 non-null  int64  \n",
      " 27  inq_last_6mths              673339 non-null  float64\n",
      " 28  open_acc                    673340 non-null  int64  \n",
      " 29  pub_rec                     673340 non-null  int64  \n",
      " 30  revol_bal                   673340 non-null  int64  \n",
      " 31  revol_util                  672906 non-null  float64\n",
      " 32  total_acc                   673340 non-null  int64  \n",
      " 33  initial_list_status         673340 non-null  object \n",
      " 34  out_prncp                   673340 non-null  float64\n",
      " 35  out_prncp_inv               673340 non-null  float64\n",
      " 36  total_pymnt                 673340 non-null  float64\n",
      " 37  total_pymnt_inv             673340 non-null  float64\n",
      " 38  total_rec_prncp             673340 non-null  float64\n",
      " 39  total_rec_int               673340 non-null  float64\n",
      " 40  total_rec_late_fee          673340 non-null  float64\n",
      " 41  recoveries                  673340 non-null  float64\n",
      " 42  collection_recovery_fee     673340 non-null  float64\n",
      " 43  last_pymnt_d                671272 non-null  object \n",
      " 44  last_pymnt_amnt             673340 non-null  float64\n",
      " 45  last_credit_pull_d          673308 non-null  object \n",
      " 46  last_fico_range_high        673340 non-null  int64  \n",
      " 47  last_fico_range_low         673340 non-null  int64  \n",
      " 48  collections_12_mths_ex_med  673340 non-null  int64  \n",
      " 49  policy_code                 673340 non-null  int64  \n",
      " 50  application_type            673340 non-null  object \n",
      " 51  acc_now_delinq              673340 non-null  int64  \n",
      " 52  tot_coll_amt                645896 non-null  float64\n",
      " 53  tot_cur_bal                 645896 non-null  float64\n",
      " 54  total_rev_hi_lim            645896 non-null  float64\n",
      " 55  acc_open_past_24mths        665846 non-null  float64\n",
      " 56  avg_cur_bal                 645877 non-null  float64\n",
      " 57  bc_open_to_buy              658770 non-null  float64\n",
      " 58  bc_util                     658339 non-null  float64\n",
      " 59  chargeoff_within_12_mths    673340 non-null  int64  \n",
      " 60  delinq_amnt                 673340 non-null  int64  \n",
      " 61  mo_sin_old_il_acct          627054 non-null  float64\n",
      " 62  mo_sin_old_rev_tl_op        645895 non-null  float64\n",
      " 63  mo_sin_rcnt_rev_tl_op       645895 non-null  float64\n",
      " 64  mo_sin_rcnt_tl              645896 non-null  float64\n",
      " 65  mort_acc                    665846 non-null  float64\n",
      " 66  mths_since_recent_bc        659324 non-null  float64\n",
      " 67  mths_since_recent_inq       606386 non-null  float64\n",
      " 68  num_accts_ever_120_pd       645896 non-null  float64\n",
      " 69  num_actv_bc_tl              645896 non-null  float64\n",
      " 70  num_actv_rev_tl             645896 non-null  float64\n",
      " 71  num_bc_sats                 657301 non-null  float64\n",
      " 72  num_bc_tl                   645896 non-null  float64\n",
      " 73  num_il_tl                   645896 non-null  float64\n",
      " 74  num_op_rev_tl               645896 non-null  float64\n",
      " 75  num_rev_accts               645895 non-null  float64\n",
      " 76  num_rev_tl_bal_gt_0         645896 non-null  float64\n",
      " 77  num_sats                    657301 non-null  float64\n",
      " 78  num_tl_120dpd_2m            624912 non-null  float64\n",
      " 79  num_tl_30dpd                645896 non-null  float64\n",
      " 80  num_tl_90g_dpd_24m          645896 non-null  float64\n",
      " 81  num_tl_op_past_12m          645896 non-null  float64\n",
      " 82  pct_tl_nvr_dlq              645764 non-null  float64\n",
      " 83  percent_bc_gt_75            658544 non-null  float64\n",
      " 84  pub_rec_bankruptcies        673340 non-null  int64  \n",
      " 85  tax_liens                   673340 non-null  int64  \n",
      " 86  tot_hi_cred_lim             645896 non-null  float64\n",
      " 87  total_bal_ex_mort           665846 non-null  float64\n",
      " 88  total_bc_limit              665846 non-null  float64\n",
      " 89  total_il_high_credit_limit  645896 non-null  float64\n",
      "dtypes: float64(51), int64(19), object(20)\n",
      "memory usage: 483.6+ MB\n"
     ]
    }
   ],
   "source": [
    "data.info()"
   ]
  },
  {
   "cell_type": "code",
   "execution_count": 11,
   "id": "continued-friendship",
   "metadata": {
    "scrolled": true
   },
   "outputs": [
    {
     "data": {
      "text/plain": [
       "<matplotlib.collections.PathCollection at 0x141448580>"
      ]
     },
     "execution_count": 11,
     "metadata": {},
     "output_type": "execute_result"
    },
    {
     "data": {
      "image/png": "[encoded data removed]",
      "text/plain": [
       "<Figure size 720x720 with 1 Axes>"
      ]
     },
     "metadata": {
      "needs_background": "light"
     },
     "output_type": "display_data"
    }
   ],
   "source": [
    "fig, ax = plt.subplots(figsize=(10,10))\n",
    "\n",
    "ax.scatter(data.loan_amnt, data.funded_amnt)\n",
    "ax.scatter(data.loan_amnt, data.funded_amnt_inv)\n"
   ]
  },
  {
   "cell_type": "code",
   "execution_count": 14,
   "id": "objective-canberra",
   "metadata": {},
   "outputs": [],
   "source": [
    "import pickle"
   ]
  },
  {
   "cell_type": "code",
   "execution_count": 94,
   "id": "relative-fifteen",
   "metadata": {},
   "outputs": [],
   "source": [
    "X_short = ['loan_amnt', \n",
    "            'term', \n",
    "            'int_rate', \n",
    "            'installment', \n",
    "            'sub_grade',\n",
    "            'home_ownership', \n",
    "            'annual_inc',\n",
    "            'purpose',\n",
    "            'dti',\n",
    "            'delinq_2yrs',\n",
    "            'fico_range_low',\n",
    "            'mo_sin_old_il_acct',\n",
    "            'mo_sin_old_rev_tl_op',\n",
    "            'mort_acc',\n",
    "            'total_acc',\n",
    "            'revol_bal',\n",
    "           'open_acc',\n",
    "           'pub_rec_bankruptcies',\n",
    "           'pub_rec',\n",
    "           'revol_util',\n",
    "           'verification_status',\n",
    "           'loan_status']"
   ]
  },
  {
   "cell_type": "code",
   "execution_count": 22,
   "id": "trying-demand",
   "metadata": {},
   "outputs": [],
   "source": [
    "# Select useable columns:\n",
    "             \n",
    "X_columns = ['loan_amnt', \n",
    "             'term', \n",
    "             'int_rate', \n",
    "             'installment', \n",
    "             'purpose',\n",
    "             'fico_range_low',\n",
    "             'sub_grade',\n",
    "             'emp_length',\n",
    "             'home_ownership',\n",
    "             'annual_inc',\n",
    "             'dti',\n",
    "             'delinq_2yrs',\n",
    "             'earliest_cr_line',\n",
    "             'inq_last_6mths',\n",
    "             'mths_since_last_delinq',\n",
    "             'mths_since_last_record',\n",
    "             'open_acc',\n",
    "             'pub_rec',\n",
    "             'revol_bal',\n",
    "             'revol_util',\n",
    "             'total_acc',\n",
    "             'collections_12_mths_ex_med',\n",
    "             'mths_since_last_major_derog',\n",
    "             'acc_now_delinq',\n",
    "             'tot_coll_amt',\n",
    "             'il_util',\n",
    "             'open_rv_12m',\n",
    "             'open_rv_24m',\n",
    "             'max_bal_bc',\n",
    "             'all_util',\n",
    "             'total_rev_hi_lim',\n",
    "             'inq_fi', \n",
    "             'total_cu_tl',\n",
    "             'inq_last_12m',\n",
    "             'acc_open_past_24mths',\n",
    "             'avg_cur_bal',\n",
    "             'bc_open_to_buy',\n",
    "             'bc_util',\n",
    "             'chargeoff_within_12_mths',\n",
    "             'delinq_amnt',\n",
    "             'mo_sin_old_il_acct',\n",
    "             'mo_sin_old_rev_tl_op',\n",
    "             'mo_sin_rcnt_rev_tl_op',\n",
    "             'mo_sin_rcnt_tl',\n",
    "             'mort_acc',\n",
    "             'mths_since_recent_bc',\n",
    "             'mths_since_recent_bc_dlq',\n",
    "             'mths_since_recent_inq',\n",
    "             'mths_since_recent_revol_delinq',\n",
    "             'num_accts_ever_120_pd',\n",
    "             'num_actv_bc_tl',\n",
    "             'num_actv_rev_tl',\n",
    "             'num_bc_sats',\n",
    "             'num_bc_tl',\n",
    "             'num_il_tl',\n",
    "             'num_op_rev_tl',\n",
    "             'num_rev_accts',\n",
    "             'num_rev_tl_bal_gt_0',\n",
    "             'num_sats',\n",
    "             'num_tl_120dpd_2m', #may be leakage\n",
    "             'num_tl_30dpd', #may be leakage\n",
    "             'num_tl_90g_dpd_24m',\n",
    "             'num_tl_op_past_12m',\n",
    "             'pct_tl_nvr_dlq',\n",
    "             'percent_bc_gt_75',\n",
    "             'pub_rec_bankruptcies',\n",
    "             'tax_liens',\n",
    "             'tot_hi_cred_lim',\n",
    "             'total_bal_ex_mort',\n",
    "             'total_bc_limit',\n",
    "             'total_il_high_credit_limit']\n",
    "\n",
    "X_joint = ['application_type',\n",
    "           'annual_inc_joint',\n",
    "           'dti_joint',\n",
    "           'verification_status_joint',\n",
    "           'revol_bal_joint',\n",
    "           'sec_app_fico_range_low',\n",
    "           'sec_app_fico_range_low', \n",
    "           'sec_app_fico_range_high',\n",
    "           'sec_app_earliest_cr_line',\n",
    "           'sec_app_inq_last_6mths',\n",
    "           'sec_app_mort_acc ',\n",
    "           'sec_app_open_acc',\n",
    "           'sec_app_revol_util',\n",
    "           'sec_app_num_rev_accts',\n",
    "           'sec_app_chargeoff_within_12_mths',\n",
    "           'sec_app_collections_12_mths_ex_med',\n",
    "           'sec_app_mths_since_last_major_derog']\n",
    "\n",
    "target = ['loan_status']\n",
    "\n",
    "# TODO: emp_title?\n",
    "#       verification_status?\n",
    "#       zip? addr_state?\n",
    "#      fico?\n",
    "#      last_credit_pull_d. <--- important to see if using old credit report\n",
    "#.     application_type <--- may need to be split for ind vs joint\n",
    "\n",
    "col_leak = ['funded_amnt_inv', 'int_rate', 'grade', 'sub_grade', 'issue_d', 'pymnt_plan', 'out_prncp', 'out_prncp_inv']\n"
   ]
  },
  {
   "cell_type": "code",
   "execution_count": 6,
   "id": "instrumental-apache",
   "metadata": {
    "scrolled": false
   },
   "outputs": [
    {
     "data": {
      "text/plain": [
       "array(['INDIVIDUAL', 'JOINT', 'DIRECT_PAY'], dtype=object)"
      ]
     },
     "execution_count": 6,
     "metadata": {},
     "output_type": "execute_result"
    }
   ],
   "source": [
    "data['application_type'].unique()"
   ]
  },
  {
   "cell_type": "code",
   "execution_count": 24,
   "id": "regular-logic",
   "metadata": {},
   "outputs": [],
   "source": [
    "import importlib"
   ]
  },
  {
   "cell_type": "code",
   "execution_count": 20,
   "id": "agreed-weekly",
   "metadata": {},
   "outputs": [
    {
     "data": {
      "text/plain": [
       "<module 'src.pipeline' from '/Users/vinsonmccready/galvanize/loan-default-predictor/src/pipeline.py'>"
      ]
     },
     "execution_count": 20,
     "metadata": {},
     "output_type": "execute_result"
    }
   ],
   "source": [
    "importlib.reload(pipeline)"
   ]
  },
  {
   "cell_type": "code",
   "execution_count": 95,
   "id": "outdoor-paste",
   "metadata": {
    "scrolled": true
   },
   "outputs": [],
   "source": [
    "data_test = data[X_short]"
   ]
  },
  {
   "cell_type": "code",
   "execution_count": 96,
   "id": "elementary-storm",
   "metadata": {},
   "outputs": [],
   "source": [
    "data_test = data_test.dropna()"
   ]
  },
  {
   "cell_type": "code",
   "execution_count": 97,
   "id": "floating-mayor",
   "metadata": {},
   "outputs": [],
   "source": [
    "categorical = ['home_ownership','sub_grade', 'term', 'purpose', 'verification_status']\n",
    "X = data_test.drop('loan_status', axis=1)\n",
    "X = pd.get_dummies(X, columns=categorical, drop_first=True)  \n",
    "# X = X.drop(['term' ], axis=1)\n"
   ]
  },
  {
   "cell_type": "code",
   "execution_count": 98,
   "id": "permanent-storage",
   "metadata": {},
   "outputs": [],
   "source": [
    "y = data_test['loan_status']\n",
    "y = y.apply(lambda x: 1 if x=='Charged Off' else 0)"
   ]
  },
  {
   "cell_type": "code",
   "execution_count": 16,
   "id": "integrated-tuition",
   "metadata": {
    "scrolled": false
   },
   "outputs": [],
   "source": [
    "X, y = pipeline.create_Xy(data, X_columns)\n"
   ]
  },
  {
   "cell_type": "code",
   "execution_count": 104,
   "id": "afraid-penny",
   "metadata": {},
   "outputs": [
    {
     "data": {
      "text/html": [
       "<div>\n",
       "<style scoped>\n",
       "    .dataframe tbody tr th:only-of-type {\n",
       "        vertical-align: middle;\n",
       "    }\n",
       "\n",
       "    .dataframe tbody tr th {\n",
       "        vertical-align: top;\n",
       "    }\n",
       "\n",
       "    .dataframe thead th {\n",
       "        text-align: right;\n",
       "    }\n",
       "</style>\n",
       "<table border=\"1\" class=\"dataframe\">\n",
       "  <thead>\n",
       "    <tr style=\"text-align: right;\">\n",
       "      <th></th>\n",
       "      <th>loan_amnt</th>\n",
       "      <th>int_rate</th>\n",
       "      <th>installment</th>\n",
       "      <th>annual_inc</th>\n",
       "      <th>dti</th>\n",
       "      <th>delinq_2yrs</th>\n",
       "      <th>fico_range_low</th>\n",
       "      <th>mo_sin_old_il_acct</th>\n",
       "      <th>mo_sin_old_rev_tl_op</th>\n",
       "      <th>mort_acc</th>\n",
       "      <th>...</th>\n",
       "      <th>purpose_major_purchase</th>\n",
       "      <th>purpose_medical</th>\n",
       "      <th>purpose_moving</th>\n",
       "      <th>purpose_other</th>\n",
       "      <th>purpose_renewable_energy</th>\n",
       "      <th>purpose_small_business</th>\n",
       "      <th>purpose_vacation</th>\n",
       "      <th>purpose_wedding</th>\n",
       "      <th>verification_status_Source Verified</th>\n",
       "      <th>verification_status_Verified</th>\n",
       "    </tr>\n",
       "  </thead>\n",
       "  <tbody>\n",
       "    <tr>\n",
       "      <th>126</th>\n",
       "      <td>4500</td>\n",
       "      <td>11.31</td>\n",
       "      <td>147.99</td>\n",
       "      <td>38500.0</td>\n",
       "      <td>4.64</td>\n",
       "      <td>0</td>\n",
       "      <td>675</td>\n",
       "      <td>180.0</td>\n",
       "      <td>69.0</td>\n",
       "      <td>0.0</td>\n",
       "      <td>...</td>\n",
       "      <td>0</td>\n",
       "      <td>0</td>\n",
       "      <td>0</td>\n",
       "      <td>0</td>\n",
       "      <td>0</td>\n",
       "      <td>0</td>\n",
       "      <td>0</td>\n",
       "      <td>0</td>\n",
       "      <td>0</td>\n",
       "      <td>0</td>\n",
       "    </tr>\n",
       "    <tr>\n",
       "      <th>206</th>\n",
       "      <td>30000</td>\n",
       "      <td>15.02</td>\n",
       "      <td>1040.26</td>\n",
       "      <td>90000.0</td>\n",
       "      <td>22.23</td>\n",
       "      <td>0</td>\n",
       "      <td>695</td>\n",
       "      <td>123.0</td>\n",
       "      <td>139.0</td>\n",
       "      <td>3.0</td>\n",
       "      <td>...</td>\n",
       "      <td>0</td>\n",
       "      <td>0</td>\n",
       "      <td>0</td>\n",
       "      <td>0</td>\n",
       "      <td>0</td>\n",
       "      <td>0</td>\n",
       "      <td>0</td>\n",
       "      <td>0</td>\n",
       "      <td>0</td>\n",
       "      <td>1</td>\n",
       "    </tr>\n",
       "    <tr>\n",
       "      <th>267</th>\n",
       "      <td>2500</td>\n",
       "      <td>13.56</td>\n",
       "      <td>84.92</td>\n",
       "      <td>42000.0</td>\n",
       "      <td>15.09</td>\n",
       "      <td>0</td>\n",
       "      <td>710</td>\n",
       "      <td>177.0</td>\n",
       "      <td>177.0</td>\n",
       "      <td>0.0</td>\n",
       "      <td>...</td>\n",
       "      <td>0</td>\n",
       "      <td>0</td>\n",
       "      <td>0</td>\n",
       "      <td>1</td>\n",
       "      <td>0</td>\n",
       "      <td>0</td>\n",
       "      <td>0</td>\n",
       "      <td>0</td>\n",
       "      <td>0</td>\n",
       "      <td>0</td>\n",
       "    </tr>\n",
       "    <tr>\n",
       "      <th>277</th>\n",
       "      <td>2000</td>\n",
       "      <td>16.91</td>\n",
       "      <td>71.22</td>\n",
       "      <td>71000.0</td>\n",
       "      <td>30.39</td>\n",
       "      <td>3</td>\n",
       "      <td>705</td>\n",
       "      <td>195.0</td>\n",
       "      <td>135.0</td>\n",
       "      <td>1.0</td>\n",
       "      <td>...</td>\n",
       "      <td>0</td>\n",
       "      <td>0</td>\n",
       "      <td>0</td>\n",
       "      <td>0</td>\n",
       "      <td>0</td>\n",
       "      <td>0</td>\n",
       "      <td>0</td>\n",
       "      <td>0</td>\n",
       "      <td>1</td>\n",
       "      <td>0</td>\n",
       "    </tr>\n",
       "    <tr>\n",
       "      <th>304</th>\n",
       "      <td>20000</td>\n",
       "      <td>17.97</td>\n",
       "      <td>507.55</td>\n",
       "      <td>57000.0</td>\n",
       "      <td>22.18</td>\n",
       "      <td>0</td>\n",
       "      <td>735</td>\n",
       "      <td>78.0</td>\n",
       "      <td>284.0</td>\n",
       "      <td>1.0</td>\n",
       "      <td>...</td>\n",
       "      <td>0</td>\n",
       "      <td>0</td>\n",
       "      <td>0</td>\n",
       "      <td>0</td>\n",
       "      <td>0</td>\n",
       "      <td>0</td>\n",
       "      <td>0</td>\n",
       "      <td>0</td>\n",
       "      <td>0</td>\n",
       "      <td>0</td>\n",
       "    </tr>\n",
       "    <tr>\n",
       "      <th>...</th>\n",
       "      <td>...</td>\n",
       "      <td>...</td>\n",
       "      <td>...</td>\n",
       "      <td>...</td>\n",
       "      <td>...</td>\n",
       "      <td>...</td>\n",
       "      <td>...</td>\n",
       "      <td>...</td>\n",
       "      <td>...</td>\n",
       "      <td>...</td>\n",
       "      <td>...</td>\n",
       "      <td>...</td>\n",
       "      <td>...</td>\n",
       "      <td>...</td>\n",
       "      <td>...</td>\n",
       "      <td>...</td>\n",
       "      <td>...</td>\n",
       "      <td>...</td>\n",
       "      <td>...</td>\n",
       "      <td>...</td>\n",
       "      <td>...</td>\n",
       "    </tr>\n",
       "    <tr>\n",
       "      <th>103496</th>\n",
       "      <td>5000</td>\n",
       "      <td>21.49</td>\n",
       "      <td>189.64</td>\n",
       "      <td>43000.0</td>\n",
       "      <td>1.40</td>\n",
       "      <td>1</td>\n",
       "      <td>670</td>\n",
       "      <td>100.0</td>\n",
       "      <td>26.0</td>\n",
       "      <td>0.0</td>\n",
       "      <td>...</td>\n",
       "      <td>0</td>\n",
       "      <td>0</td>\n",
       "      <td>1</td>\n",
       "      <td>0</td>\n",
       "      <td>0</td>\n",
       "      <td>0</td>\n",
       "      <td>0</td>\n",
       "      <td>0</td>\n",
       "      <td>0</td>\n",
       "      <td>1</td>\n",
       "    </tr>\n",
       "    <tr>\n",
       "      <th>103520</th>\n",
       "      <td>32000</td>\n",
       "      <td>13.99</td>\n",
       "      <td>744.42</td>\n",
       "      <td>125000.0</td>\n",
       "      <td>29.89</td>\n",
       "      <td>1</td>\n",
       "      <td>670</td>\n",
       "      <td>124.0</td>\n",
       "      <td>251.0</td>\n",
       "      <td>7.0</td>\n",
       "      <td>...</td>\n",
       "      <td>0</td>\n",
       "      <td>0</td>\n",
       "      <td>0</td>\n",
       "      <td>0</td>\n",
       "      <td>0</td>\n",
       "      <td>0</td>\n",
       "      <td>0</td>\n",
       "      <td>0</td>\n",
       "      <td>1</td>\n",
       "      <td>0</td>\n",
       "    </tr>\n",
       "    <tr>\n",
       "      <th>103527</th>\n",
       "      <td>40000</td>\n",
       "      <td>15.59</td>\n",
       "      <td>964.03</td>\n",
       "      <td>220000.0</td>\n",
       "      <td>10.88</td>\n",
       "      <td>0</td>\n",
       "      <td>715</td>\n",
       "      <td>104.0</td>\n",
       "      <td>151.0</td>\n",
       "      <td>4.0</td>\n",
       "      <td>...</td>\n",
       "      <td>0</td>\n",
       "      <td>0</td>\n",
       "      <td>0</td>\n",
       "      <td>0</td>\n",
       "      <td>0</td>\n",
       "      <td>0</td>\n",
       "      <td>0</td>\n",
       "      <td>0</td>\n",
       "      <td>0</td>\n",
       "      <td>1</td>\n",
       "    </tr>\n",
       "    <tr>\n",
       "      <th>103531</th>\n",
       "      <td>15000</td>\n",
       "      <td>10.49</td>\n",
       "      <td>487.47</td>\n",
       "      <td>60000.0</td>\n",
       "      <td>26.40</td>\n",
       "      <td>0</td>\n",
       "      <td>680</td>\n",
       "      <td>151.0</td>\n",
       "      <td>431.0</td>\n",
       "      <td>2.0</td>\n",
       "      <td>...</td>\n",
       "      <td>0</td>\n",
       "      <td>0</td>\n",
       "      <td>0</td>\n",
       "      <td>0</td>\n",
       "      <td>0</td>\n",
       "      <td>0</td>\n",
       "      <td>0</td>\n",
       "      <td>0</td>\n",
       "      <td>0</td>\n",
       "      <td>0</td>\n",
       "    </tr>\n",
       "    <tr>\n",
       "      <th>103532</th>\n",
       "      <td>36400</td>\n",
       "      <td>14.49</td>\n",
       "      <td>856.24</td>\n",
       "      <td>95000.0</td>\n",
       "      <td>21.50</td>\n",
       "      <td>0</td>\n",
       "      <td>720</td>\n",
       "      <td>82.0</td>\n",
       "      <td>355.0</td>\n",
       "      <td>6.0</td>\n",
       "      <td>...</td>\n",
       "      <td>0</td>\n",
       "      <td>0</td>\n",
       "      <td>0</td>\n",
       "      <td>0</td>\n",
       "      <td>0</td>\n",
       "      <td>0</td>\n",
       "      <td>0</td>\n",
       "      <td>0</td>\n",
       "      <td>0</td>\n",
       "      <td>1</td>\n",
       "    </tr>\n",
       "  </tbody>\n",
       "</table>\n",
       "<p>626656 rows × 71 columns</p>\n",
       "</div>"
      ],
      "text/plain": [
       "        loan_amnt  int_rate  installment  annual_inc    dti  delinq_2yrs  \\\n",
       "126          4500     11.31       147.99     38500.0   4.64            0   \n",
       "206         30000     15.02      1040.26     90000.0  22.23            0   \n",
       "267          2500     13.56        84.92     42000.0  15.09            0   \n",
       "277          2000     16.91        71.22     71000.0  30.39            3   \n",
       "304         20000     17.97       507.55     57000.0  22.18            0   \n",
       "...           ...       ...          ...         ...    ...          ...   \n",
       "103496       5000     21.49       189.64     43000.0   1.40            1   \n",
       "103520      32000     13.99       744.42    125000.0  29.89            1   \n",
       "103527      40000     15.59       964.03    220000.0  10.88            0   \n",
       "103531      15000     10.49       487.47     60000.0  26.40            0   \n",
       "103532      36400     14.49       856.24     95000.0  21.50            0   \n",
       "\n",
       "        fico_range_low  mo_sin_old_il_acct  mo_sin_old_rev_tl_op  mort_acc  \\\n",
       "126                675               180.0                  69.0       0.0   \n",
       "206                695               123.0                 139.0       3.0   \n",
       "267                710               177.0                 177.0       0.0   \n",
       "277                705               195.0                 135.0       1.0   \n",
       "304                735                78.0                 284.0       1.0   \n",
       "...                ...                 ...                   ...       ...   \n",
       "103496             670               100.0                  26.0       0.0   \n",
       "103520             670               124.0                 251.0       7.0   \n",
       "103527             715               104.0                 151.0       4.0   \n",
       "103531             680               151.0                 431.0       2.0   \n",
       "103532             720                82.0                 355.0       6.0   \n",
       "\n",
       "        ...  purpose_major_purchase  purpose_medical  purpose_moving  \\\n",
       "126     ...                       0                0               0   \n",
       "206     ...                       0                0               0   \n",
       "267     ...                       0                0               0   \n",
       "277     ...                       0                0               0   \n",
       "304     ...                       0                0               0   \n",
       "...     ...                     ...              ...             ...   \n",
       "103496  ...                       0                0               1   \n",
       "103520  ...                       0                0               0   \n",
       "103527  ...                       0                0               0   \n",
       "103531  ...                       0                0               0   \n",
       "103532  ...                       0                0               0   \n",
       "\n",
       "        purpose_other  purpose_renewable_energy  purpose_small_business  \\\n",
       "126                 0                         0                       0   \n",
       "206                 0                         0                       0   \n",
       "267                 1                         0                       0   \n",
       "277                 0                         0                       0   \n",
       "304                 0                         0                       0   \n",
       "...               ...                       ...                     ...   \n",
       "103496              0                         0                       0   \n",
       "103520              0                         0                       0   \n",
       "103527              0                         0                       0   \n",
       "103531              0                         0                       0   \n",
       "103532              0                         0                       0   \n",
       "\n",
       "        purpose_vacation  purpose_wedding  \\\n",
       "126                    0                0   \n",
       "206                    0                0   \n",
       "267                    0                0   \n",
       "277                    0                0   \n",
       "304                    0                0   \n",
       "...                  ...              ...   \n",
       "103496                 0                0   \n",
       "103520                 0                0   \n",
       "103527                 0                0   \n",
       "103531                 0                0   \n",
       "103532                 0                0   \n",
       "\n",
       "        verification_status_Source Verified  verification_status_Verified  \n",
       "126                                       0                             0  \n",
       "206                                       0                             1  \n",
       "267                                       0                             0  \n",
       "277                                       1                             0  \n",
       "304                                       0                             0  \n",
       "...                                     ...                           ...  \n",
       "103496                                    0                             1  \n",
       "103520                                    1                             0  \n",
       "103527                                    0                             1  \n",
       "103531                                    0                             0  \n",
       "103532                                    0                             1  \n",
       "\n",
       "[626656 rows x 71 columns]"
      ]
     },
     "execution_count": 104,
     "metadata": {},
     "output_type": "execute_result"
    }
   ],
   "source": [
    "X"
   ]
  },
  {
   "cell_type": "code",
   "execution_count": 105,
   "id": "numeric-brighton",
   "metadata": {},
   "outputs": [
    {
     "data": {
      "text/plain": [
       "126       0\n",
       "206       0\n",
       "267       0\n",
       "277       0\n",
       "304       0\n",
       "         ..\n",
       "103496    0\n",
       "103520    1\n",
       "103527    0\n",
       "103531    0\n",
       "103532    1\n",
       "Name: loan_status, Length: 626656, dtype: int64"
      ]
     },
     "execution_count": 105,
     "metadata": {},
     "output_type": "execute_result"
    }
   ],
   "source": [
    "y"
   ]
  },
  {
   "cell_type": "markdown",
   "id": "conservative-source",
   "metadata": {},
   "source": [
    "## Modeling"
   ]
  },
  {
   "cell_type": "code",
   "execution_count": 40,
   "id": "behind-upper",
   "metadata": {},
   "outputs": [],
   "source": [
    "from sklearn.model_selection import train_test_split\n",
    "from sklearn.ensemble import RandomForestClassifier\n",
    "from sklearn.ensemble import GradientBoostingClassifier\n",
    "\n",
    "from sklearn.metrics import recall_score, precision_score"
   ]
  },
  {
   "cell_type": "code",
   "execution_count": 11,
   "id": "vietnamese-benchmark",
   "metadata": {},
   "outputs": [],
   "source": [
    "# from src.model import create_model, get_scores"
   ]
  },
  {
   "cell_type": "code",
   "execution_count": 206,
   "id": "wanted-motion",
   "metadata": {},
   "outputs": [],
   "source": [
    "# import src.model as modeling"
   ]
  },
  {
   "cell_type": "code",
   "execution_count": 106,
   "id": "suited-cisco",
   "metadata": {},
   "outputs": [],
   "source": [
    "X_train, X_test, y_train, y_test = train_test_split(X,y)"
   ]
  },
  {
   "cell_type": "code",
   "execution_count": 100,
   "id": "approximate-destination",
   "metadata": {
    "scrolled": true
   },
   "outputs": [],
   "source": [
    "# importlib.reload(modeling)"
   ]
  },
  {
   "cell_type": "code",
   "execution_count": 107,
   "id": "closed-wiring",
   "metadata": {
    "scrolled": false
   },
   "outputs": [
    {
     "name": "stdout",
     "output_type": "stream",
     "text": [
      "Recall: 0.06851582152786972\n",
      "Precision: 0.571507454445058\n"
     ]
    }
   ],
   "source": [
    "rf_model = RandomForestClassifier(n_estimators=500)\n",
    "rf_model.fit(X_train, y_train)\n",
    "recall = recall_score(y_test, rf_model.predict(X_test))\n",
    "precision = precision_score(y_test, rf_model.predict(X_test))\n",
    "print(f'Recall: {recall}\\nPrecision: {precision}')"
   ]
  },
  {
   "cell_type": "code",
   "execution_count": null,
   "id": "pressing-intent",
   "metadata": {},
   "outputs": [],
   "source": [
    "gb_model = GradientBoostingClassifier()\n",
    "gb_mode.fit(X_train, y_train)\n",
    "recall = recall_score(y_test, rf_model.predict(X_test))\n",
    "precision = precision_score(y_test, rf_model.predict(X_test))\n",
    "print(f'Recall: {recall}\\nPrecision: {precision}')"
   ]
  },
  {
   "cell_type": "code",
   "execution_count": 244,
   "id": "bridal-wrist",
   "metadata": {},
   "outputs": [],
   "source": [
    "y_hat = gb_model.predict(X_test)"
   ]
  },
  {
   "cell_type": "code",
   "execution_count": 85,
   "id": "simple-wichita",
   "metadata": {},
   "outputs": [],
   "source": [
    "def calculate_threshold_values(prob, y):\n",
    "    '''\n",
    "    Build dataframe of the various confusion-matrix ratios by threshold\n",
    "    from a list of predicted probabilities and actual y values\n",
    "    '''\n",
    "    df = pd.DataFrame({'prob': prob, 'y': y})\n",
    "    df.sort_values('prob', inplace=True)\n",
    "    \n",
    "    actual_p = df.y.sum()\n",
    "    actual_n = df.shape[0] - df.y.sum()\n",
    "\n",
    "    df['tn'] = (df.y == 0).cumsum()\n",
    "    df['fn'] = df.y.cumsum()\n",
    "    df['fp'] = actual_n - df.tn\n",
    "    df['tp'] = actual_p - df.fn\n",
    "\n",
    "    df['fpr'] = df.fp/(df.fp + df.tn)\n",
    "    df['tpr'] = df.tp/(df.tp + df.fn)\n",
    "    df['precision'] = df.tp/(df.tp + df.fp)\n",
    "    df = df.reset_index(drop=True)\n",
    "    return df\n",
    "    \n",
    "def plot_roc(ax, df):\n",
    "    ax.plot([1]+list(df.fpr), [1]+list(df.tpr), label=\"ROC\")\n",
    "    ax.plot([0,1],[0,1], 'k', label=\"random\")\n",
    "    ax.set_xlabel('fpr')\n",
    "    ax.set_ylabel('tpr')\n",
    "    ax.set_title('ROC Curve')\n",
    "    ax.legend()\n",
    "    \n",
    "def plot_precision_recall(ax, df):\n",
    "    ax.plot(df.tpr,df.precision, label='precision/recall')\n",
    "    #ax.plot([0,1],[0,1], 'k')\n",
    "    ax.set_xlabel('recall')\n",
    "    ax.set_ylabel('precision')\n",
    "    ax.set_title('Precision/Recall Curve')\n",
    "    ax.plot([0,1],[df.precision[0],df.precision[0]], 'k', label='random')\n",
    "    ax.set_xlim(left=0,right=1)\n",
    "    ax.set_ylim(bottom=0,top=1)"
   ]
  },
  {
   "cell_type": "code",
   "execution_count": 108,
   "id": "imported-answer",
   "metadata": {},
   "outputs": [
    {
     "data": {
      "image/png": "[encoded data removed]",
      "text/plain": [
       "<Figure size 864x432 with 2 Axes>"
      ]
     },
     "metadata": {
      "needs_background": "light"
     },
     "output_type": "display_data"
    }
   ],
   "source": [
    "fig, (ax0, ax1) = plt.subplots(1,2, figsize=(12,6))\n",
    "df = calculate_threshold_values(rf_model.predict_proba(X_test)[:,1], y_test)\n",
    "plot_roc(ax0, df)\n",
    "plot_precision_recall(ax1, df)"
   ]
  },
  {
   "cell_type": "code",
   "execution_count": 109,
   "id": "other-citizen",
   "metadata": {},
   "outputs": [],
   "source": [
    "probabilities = rf_model.predict_proba(X_test)[:,1]"
   ]
  },
  {
   "cell_type": "code",
   "execution_count": 110,
   "id": "artistic-candle",
   "metadata": {},
   "outputs": [
    {
     "data": {
      "image/png": "[encoded data removed]",
      "text/plain": [
       "<Figure size 432x288 with 1 Axes>"
      ]
     },
     "metadata": {
      "needs_background": "light"
     },
     "output_type": "display_data"
    }
   ],
   "source": [
    "fig, ax = plt.subplots()\n",
    "ax.hist(probabilities, bins=50);"
   ]
  },
  {
   "cell_type": "code",
   "execution_count": 111,
   "id": "mexican-novel",
   "metadata": {},
   "outputs": [
    {
     "data": {
      "text/plain": [
       "3622"
      ]
     },
     "execution_count": 111,
     "metadata": {},
     "output_type": "execute_result"
    }
   ],
   "source": [
    "(probabilities > .5).sum()"
   ]
  },
  {
   "cell_type": "code",
   "execution_count": 112,
   "id": "injured-tanzania",
   "metadata": {},
   "outputs": [
    {
     "data": {
      "text/plain": [
       "121221"
      ]
     },
     "execution_count": 112,
     "metadata": {},
     "output_type": "execute_result"
    }
   ],
   "source": [
    "y.sum()"
   ]
  },
  {
   "cell_type": "code",
   "execution_count": 113,
   "id": "indoor-father",
   "metadata": {},
   "outputs": [
    {
     "name": "stderr",
     "output_type": "stream",
     "text": [
      "<ipython-input-113-6ed33272057a>:13: RuntimeWarning: invalid value encountered in long_scalars\n",
      "  p = c[1][1]/(c[1][1]+c[1][0])\n"
     ]
    }
   ],
   "source": [
    "threshold = np.linspace(0,1,50)\n",
    "yhat = rf_model.predict_proba(X_test)[:,1]\n",
    "\n",
    "recall = []\n",
    "precision = []\n",
    "for t in threshold:\n",
    "    c = pd.crosstab(pd.Categorical(y_test, categories=[0,1]), \n",
    "                    pd.Categorical(yhat>t, categories=[0,1]), \n",
    "                    rownames=['actual'], \n",
    "                    colnames=['predicted'],\n",
    "                    dropna=False)\n",
    "    r = c[1][1]/(c[1][1]+c[0][1])\n",
    "    p = c[1][1]/(c[1][1]+c[1][0])\n",
    "    recall.append(r)\n",
    "    precision.append(p)\n"
   ]
  },
  {
   "cell_type": "code",
   "execution_count": 114,
   "id": "coral-runner",
   "metadata": {},
   "outputs": [
    {
     "data": {
      "image/png": "[encoded data removed]",
      "text/plain": [
       "<Figure size 720x576 with 1 Axes>"
      ]
     },
     "metadata": {
      "needs_background": "light"
     },
     "output_type": "display_data"
    }
   ],
   "source": [
    "fig, ax = plt.subplots(figsize=(10,8))\n",
    "\n",
    "ax.plot(threshold, recall, label='recall')\n",
    "ax.plot(threshold, precision, label='precision')\n",
    "# ax.vlines([.08, .85], 0,1, linestyles='--', colors='green')\n",
    "ax.legend()\n",
    "ax.set_xlabel('Threshold')\n",
    "ax.set_ylabel('Score')\n",
    "ax.set_title('Change in Precision and Recall for Thresholds')\n",
    "plt.show()"
   ]
  },
  {
   "cell_type": "code",
   "execution_count": 235,
   "id": "closed-writing",
   "metadata": {},
   "outputs": [
    {
     "data": {
      "text/plain": [
       "0.7348651191969887"
      ]
     },
     "execution_count": 235,
     "metadata": {},
     "output_type": "execute_result"
    }
   ],
   "source": [
    "recall_score(y_test, probabilities>.61)"
   ]
  },
  {
   "cell_type": "code",
   "execution_count": 231,
   "id": "occupied-consideration",
   "metadata": {},
   "outputs": [
    {
     "data": {
      "text/plain": [
       "0.6122448979591836"
      ]
     },
     "execution_count": 231,
     "metadata": {},
     "output_type": "execute_result"
    }
   ],
   "source": [
    "threshold[30]"
   ]
  },
  {
   "cell_type": "code",
   "execution_count": 118,
   "id": "humanitarian-crash",
   "metadata": {},
   "outputs": [
    {
     "data": {
      "text/plain": [
       "array(['Dec-18', 'Nov-18', 'Oct-18', 'Dec-13', 'Nov-13', 'Oct-13',\n",
       "       'Sep-13', 'Aug-13', 'Jul-13', 'Jun-13', 'May-13', 'Apr-13',\n",
       "       'Mar-13', 'Feb-13', 'Jan-13', 'Dec-12', 'Nov-12', 'Oct-12',\n",
       "       'Sep-12', 'Aug-12', 'Jul-12', 'Jun-12', 'May-12', 'Apr-12',\n",
       "       'Mar-12', 'Feb-12', 'Jan-12', 'Dec-14', 'Nov-14', 'Oct-14',\n",
       "       'Sep-14', 'Aug-14', 'Jul-14', 'Jun-14', 'May-14', 'Apr-14',\n",
       "       'Mar-14', 'Feb-14', 'Jan-14', 'Dec-15', 'Nov-15', 'Oct-15',\n",
       "       'Sep-15', 'Aug-15', 'Jul-15', 'Jun-15', 'May-15', 'Apr-15',\n",
       "       'Mar-15', 'Feb-15', 'Jan-15', 'Jun-18', 'May-18', 'Apr-18',\n",
       "       'Sep-18', 'Aug-18', 'Jul-18', 'Mar-18', 'Feb-18', 'Jan-18',\n",
       "       'Jun-20', 'May-20', 'Apr-20', 'Dec-19', 'Nov-19', 'Oct-19',\n",
       "       '20-Mar', '20-Feb', '20-Jan', 'Mar-19', 'Feb-19', 'Jan-19',\n",
       "       '19-Jun', '19-May', '19-Apr', '19-Sep', '19-Aug', '19-Jul',\n",
       "       'Mar-17', 'Feb-17', 'Jan-17', 'Jun-17', 'May-17', 'Apr-17',\n",
       "       'Sep-17', 'Aug-17', 'Jul-17', 'Dec-17', 'Nov-17', 'Oct-17',\n",
       "       'Jun-16', 'May-16', 'Apr-16', '16-Sep', '16-Aug', '16-Jul',\n",
       "       'Mar-16', 'Feb-16', 'Jan-16', 'Dec-16', 'Nov-16', 'Oct-16'],\n",
       "      dtype=object)"
      ]
     },
     "execution_count": 118,
     "metadata": {},
     "output_type": "execute_result"
    }
   ],
   "source": [
    "data['issue_d'].unique()"
   ]
  },
  {
   "cell_type": "code",
   "execution_count": 121,
   "id": "hungarian-celebration",
   "metadata": {},
   "outputs": [],
   "source": [
    "y_hat = rf_model.predict(X_test)"
   ]
  },
  {
   "cell_type": "code",
   "execution_count": 122,
   "id": "living-trading",
   "metadata": {},
   "outputs": [
    {
     "data": {
      "text/plain": [
       "array([0, 0, 0, ..., 0, 0, 0])"
      ]
     },
     "execution_count": 122,
     "metadata": {},
     "output_type": "execute_result"
    }
   ],
   "source": [
    "y_hat"
   ]
  },
  {
   "cell_type": "code",
   "execution_count": 124,
   "id": "stuffed-token",
   "metadata": {},
   "outputs": [
    {
     "ename": "SyntaxError",
     "evalue": "invalid syntax (<ipython-input-124-089979cab425>, line 1)",
     "output_type": "error",
     "traceback": [
      "\u001b[0;36m  File \u001b[0;32m\"<ipython-input-124-089979cab425>\"\u001b[0;36m, line \u001b[0;32m1\u001b[0m\n\u001b[0;31m    (y_hat == 1 && y == 1)\u001b[0m\n\u001b[0m                 ^\u001b[0m\n\u001b[0;31mSyntaxError\u001b[0m\u001b[0;31m:\u001b[0m invalid syntax\n"
     ]
    }
   ],
   "source": [
    "(y_hat == 1 && y == 1)"
   ]
  },
  {
   "cell_type": "code",
   "execution_count": null,
   "id": "obvious-needle",
   "metadata": {},
   "outputs": [],
   "source": []
  }
 ],
 "metadata": {
  "kernelspec": {
   "display_name": "Python 3",
   "language": "python",
   "name": "python3"
  },
  "language_info": {
   "codemirror_mode": {
    "name": "ipython",
    "version": 3
   },
   "file_extension": ".py",
   "mimetype": "text/x-python",
   "name": "python",
   "nbconvert_exporter": "python",
   "pygments_lexer": "ipython3",
   "version": "3.8.8"
  }
 },
 "nbformat": 4,
 "nbformat_minor": 5
}
