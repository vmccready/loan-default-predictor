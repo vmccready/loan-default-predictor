{
 "cells": [
  {
   "cell_type": "code",
   "execution_count": 1,
   "id": "radio-prior",
   "metadata": {},
   "outputs": [],
   "source": [
    "import numpy as np\n",
    "import pandas as pd\n",
    "import matplotlib.pyplot as plt\n",
    "\n",
    "from glob import iglob"
   ]
  },
  {
   "cell_type": "code",
   "execution_count": 3,
   "id": "accurate-right",
   "metadata": {},
   "outputs": [],
   "source": [
    "from src.pipeline import get_columns"
   ]
  },
  {
   "cell_type": "code",
   "execution_count": 5,
   "id": "tired-monitoring",
   "metadata": {
    "scrolled": true
   },
   "outputs": [],
   "source": [
    "data = pd.read_csv('data/all_years_sample.csv', low_memory=False)\n"
   ]
  },
  {
   "cell_type": "code",
   "execution_count": 18,
   "id": "naval-dairy",
   "metadata": {
    "scrolled": true
   },
   "outputs": [],
   "source": [
    "data = data.drop('Unnamed: 0', axis=1)"
   ]
  },
  {
   "cell_type": "code",
   "execution_count": 19,
   "id": "substantial-moore",
   "metadata": {
    "scrolled": true
   },
   "outputs": [
    {
     "data": {
      "text/plain": [
       "array(['Current', 'Charged Off', 'Fully Paid', 'Issued',\n",
       "       'In Grace Period', 'Late (31-120 days)', 'Late (16-30 days)'],\n",
       "      dtype=object)"
      ]
     },
     "execution_count": 19,
     "metadata": {},
     "output_type": "execute_result"
    }
   ],
   "source": [
    "data['loan_status'].unique()"
   ]
  },
  {
   "cell_type": "markdown",
   "id": "molecular-fisher",
   "metadata": {},
   "source": [
    "### Get data for all years"
   ]
  },
  {
   "cell_type": "code",
   "execution_count": 2,
   "id": "departmental-scanner",
   "metadata": {},
   "outputs": [],
   "source": [
    "dfs = []"
   ]
  },
  {
   "cell_type": "code",
   "execution_count": 3,
   "id": "parallel-pleasure",
   "metadata": {},
   "outputs": [],
   "source": [
    "# Get all \n",
    "for f in iglob('data/raw/' + '*.csv'):\n",
    "    temp_df = pd.read_csv(f, skiprows=[0], low_memory=False)\n",
    "    dfs.append(temp_df)"
   ]
  },
  {
   "cell_type": "code",
   "execution_count": 7,
   "id": "powered-copper",
   "metadata": {},
   "outputs": [],
   "source": [
    "# Get the columns that are consistent in all years\n",
    "\n",
    "cols = list(dfs[0].columns)\n",
    "for i in range(1,len(dfs)):\n",
    "    column_difference = set(cols).difference(set(dfs[i].columns))\n",
    "    for c in column_difference:\n",
    "        cols.remove(c)\n",
    "            "
   ]
  },
  {
   "cell_type": "code",
   "execution_count": 10,
   "id": "immune-pearl",
   "metadata": {
    "scrolled": true
   },
   "outputs": [],
   "source": [
    "data = dfs[0][cols]\n",
    "for i in range(1, len(dfs)):\n",
    "    data = data.append(dfs[i][cols])"
   ]
  },
  {
   "cell_type": "code",
   "execution_count": 14,
   "id": "annoying-shower",
   "metadata": {},
   "outputs": [],
   "source": [
    "# Create a sample dataset to make initial models simpler\n",
    "\n",
    "data.sample(100000).to_csv('data/all_years_sample.csv')"
   ]
  },
  {
   "cell_type": "code",
   "execution_count": 15,
   "id": "sensitive-edmonton",
   "metadata": {},
   "outputs": [],
   "source": [
    "# Save all data into one csv\n",
    "\n",
    "data.to_csv('data/all_years.csv')"
   ]
  },
  {
   "cell_type": "code",
   "execution_count": 13,
   "id": "norman-cover",
   "metadata": {
    "scrolled": true
   },
   "outputs": [
    {
     "data": {
      "text/plain": [
       "(2854472, 126)"
      ]
     },
     "execution_count": 13,
     "metadata": {},
     "output_type": "execute_result"
    }
   ],
   "source": [
    "data.shape"
   ]
  },
  {
   "cell_type": "code",
   "execution_count": 10,
   "id": "chicken-wright",
   "metadata": {},
   "outputs": [],
   "source": [
    "missing_cols = set()\n",
    "for i in range(len(dfs)):\n",
    "    for c in set(dfs[i].columns):\n",
    "        if c not in cols:\n",
    "            missing_cols.add(c)"
   ]
  },
  {
   "cell_type": "markdown",
   "id": "electric-peoples",
   "metadata": {},
   "source": [
    "### Exploration"
   ]
  },
  {
   "cell_type": "code",
   "execution_count": 13,
   "id": "musical-nomination",
   "metadata": {},
   "outputs": [
    {
     "data": {
      "text/plain": [
       "['id',\n",
       " 'member_id',\n",
       " 'loan_amnt',\n",
       " 'funded_amnt',\n",
       " 'funded_amnt_inv',\n",
       " 'term',\n",
       " 'int_rate',\n",
       " 'installment',\n",
       " 'grade',\n",
       " 'sub_grade',\n",
       " 'emp_title',\n",
       " 'emp_length',\n",
       " 'home_ownership',\n",
       " 'annual_inc',\n",
       " 'verification_status',\n",
       " 'issue_d',\n",
       " 'loan_status',\n",
       " 'pymnt_plan',\n",
       " 'url',\n",
       " 'desc',\n",
       " 'purpose',\n",
       " 'title',\n",
       " 'zip_code',\n",
       " 'addr_state',\n",
       " 'dti',\n",
       " 'delinq_2yrs',\n",
       " 'earliest_cr_line',\n",
       " 'fico_range_low',\n",
       " 'fico_range_high',\n",
       " 'inq_last_6mths',\n",
       " 'mths_since_last_delinq',\n",
       " 'mths_since_last_record',\n",
       " 'open_acc',\n",
       " 'pub_rec',\n",
       " 'revol_bal',\n",
       " 'revol_util',\n",
       " 'total_acc',\n",
       " 'initial_list_status',\n",
       " 'out_prncp',\n",
       " 'out_prncp_inv',\n",
       " 'total_pymnt',\n",
       " 'total_pymnt_inv',\n",
       " 'total_rec_prncp',\n",
       " 'total_rec_int',\n",
       " 'total_rec_late_fee',\n",
       " 'recoveries',\n",
       " 'collection_recovery_fee',\n",
       " 'last_pymnt_d',\n",
       " 'last_pymnt_amnt',\n",
       " 'next_pymnt_d',\n",
       " 'last_credit_pull_d',\n",
       " 'last_fico_range_high',\n",
       " 'last_fico_range_low',\n",
       " 'collections_12_mths_ex_med',\n",
       " 'mths_since_last_major_derog',\n",
       " 'policy_code',\n",
       " 'application_type',\n",
       " 'annual_inc_joint',\n",
       " 'dti_joint',\n",
       " 'verification_status_joint',\n",
       " 'acc_now_delinq',\n",
       " 'tot_coll_amt',\n",
       " 'tot_cur_bal',\n",
       " 'open_acc_6m',\n",
       " 'open_il_12m',\n",
       " 'open_il_24m',\n",
       " 'mths_since_rcnt_il',\n",
       " 'total_bal_il',\n",
       " 'il_util',\n",
       " 'open_rv_12m',\n",
       " 'open_rv_24m',\n",
       " 'max_bal_bc',\n",
       " 'all_util',\n",
       " 'total_rev_hi_lim',\n",
       " 'inq_fi',\n",
       " 'total_cu_tl',\n",
       " 'inq_last_12m',\n",
       " 'acc_open_past_24mths',\n",
       " 'avg_cur_bal',\n",
       " 'bc_open_to_buy',\n",
       " 'bc_util',\n",
       " 'chargeoff_within_12_mths',\n",
       " 'delinq_amnt',\n",
       " 'mo_sin_old_il_acct',\n",
       " 'mo_sin_old_rev_tl_op',\n",
       " 'mo_sin_rcnt_rev_tl_op',\n",
       " 'mo_sin_rcnt_tl',\n",
       " 'mort_acc',\n",
       " 'mths_since_recent_bc',\n",
       " 'mths_since_recent_bc_dlq',\n",
       " 'mths_since_recent_inq',\n",
       " 'mths_since_recent_revol_delinq',\n",
       " 'num_accts_ever_120_pd',\n",
       " 'num_actv_bc_tl',\n",
       " 'num_actv_rev_tl',\n",
       " 'num_bc_sats',\n",
       " 'num_bc_tl',\n",
       " 'num_il_tl',\n",
       " 'num_op_rev_tl',\n",
       " 'num_rev_accts',\n",
       " 'num_rev_tl_bal_gt_0',\n",
       " 'num_sats',\n",
       " 'num_tl_120dpd_2m',\n",
       " 'num_tl_30dpd',\n",
       " 'num_tl_90g_dpd_24m',\n",
       " 'num_tl_op_past_12m',\n",
       " 'pct_tl_nvr_dlq',\n",
       " 'percent_bc_gt_75',\n",
       " 'pub_rec_bankruptcies',\n",
       " 'tax_liens',\n",
       " 'tot_hi_cred_lim',\n",
       " 'total_bal_ex_mort',\n",
       " 'total_bc_limit',\n",
       " 'total_il_high_credit_limit',\n",
       " 'revol_bal_joint',\n",
       " 'sec_app_fico_range_low',\n",
       " 'sec_app_fico_range_high',\n",
       " 'sec_app_earliest_cr_line',\n",
       " 'sec_app_inq_last_6mths',\n",
       " 'sec_app_mort_acc',\n",
       " 'sec_app_open_acc',\n",
       " 'sec_app_revol_util',\n",
       " 'sec_app_num_rev_accts',\n",
       " 'sec_app_chargeoff_within_12_mths',\n",
       " 'sec_app_collections_12_mths_ex_med',\n",
       " 'sec_app_mths_since_last_major_derog']"
      ]
     },
     "execution_count": 13,
     "metadata": {},
     "output_type": "execute_result"
    }
   ],
   "source": [
    "columns"
   ]
  },
  {
   "cell_type": "code",
   "execution_count": 14,
   "id": "pressing-french",
   "metadata": {},
   "outputs": [],
   "source": [
    "import pickle"
   ]
  },
  {
   "cell_type": "code",
   "execution_count": 16,
   "id": "hourly-magic",
   "metadata": {},
   "outputs": [],
   "source": [
    "with open('data/columns_in_all.pickle', 'wb') as handle:\n",
    "    pickle.dump(columns, handle)"
   ]
  },
  {
   "cell_type": "code",
   "execution_count": 18,
   "id": "remarkable-obligation",
   "metadata": {},
   "outputs": [],
   "source": [
    "with open('data/columns_in_all.pickle', 'rb') as handle:\n",
    "    cols = pickle.load(handle)"
   ]
  },
  {
   "cell_type": "code",
   "execution_count": 49,
   "id": "elect-archive",
   "metadata": {},
   "outputs": [],
   "source": [
    "data = data[cols]"
   ]
  },
  {
   "cell_type": "code",
   "execution_count": 50,
   "id": "intermediate-welding",
   "metadata": {
    "scrolled": true
   },
   "outputs": [
    {
     "data": {
      "text/plain": [
       "Index(['id', 'member_id', 'loan_amnt', 'funded_amnt', 'funded_amnt_inv',\n",
       "       'term', 'int_rate', 'installment', 'grade', 'sub_grade',\n",
       "       ...\n",
       "       'sec_app_fico_range_high', 'sec_app_earliest_cr_line',\n",
       "       'sec_app_inq_last_6mths', 'sec_app_mort_acc', 'sec_app_open_acc',\n",
       "       'sec_app_revol_util', 'sec_app_num_rev_accts',\n",
       "       'sec_app_chargeoff_within_12_mths',\n",
       "       'sec_app_collections_12_mths_ex_med',\n",
       "       'sec_app_mths_since_last_major_derog'],\n",
       "      dtype='object', length=126)"
      ]
     },
     "execution_count": 50,
     "metadata": {},
     "output_type": "execute_result"
    }
   ],
   "source": [
    "data.columns"
   ]
  },
  {
   "cell_type": "code",
   "execution_count": 82,
   "id": "convinced-elimination",
   "metadata": {},
   "outputs": [
    {
     "name": "stdout",
     "output_type": "stream",
     "text": [
      "<class 'pandas.core.frame.DataFrame'>\n",
      "RangeIndex: 133887 entries, 0 to 133886\n",
      "Data columns (total 16 columns):\n",
      " #   Column                               Non-Null Count   Dtype  \n",
      "---  ------                               --------------   -----  \n",
      " 0   tot_hi_cred_lim                      133887 non-null  int64  \n",
      " 1   total_bal_ex_mort                    133887 non-null  int64  \n",
      " 2   total_bc_limit                       133887 non-null  int64  \n",
      " 3   total_il_high_credit_limit           133887 non-null  int64  \n",
      " 4   revol_bal_joint                      0 non-null       float64\n",
      " 5   sec_app_fico_range_low               0 non-null       float64\n",
      " 6   sec_app_fico_range_high              0 non-null       float64\n",
      " 7   sec_app_earliest_cr_line             0 non-null       float64\n",
      " 8   sec_app_inq_last_6mths               0 non-null       float64\n",
      " 9   sec_app_mort_acc                     0 non-null       float64\n",
      " 10  sec_app_open_acc                     0 non-null       float64\n",
      " 11  sec_app_revol_util                   0 non-null       float64\n",
      " 12  sec_app_num_rev_accts                0 non-null       float64\n",
      " 13  sec_app_chargeoff_within_12_mths     0 non-null       float64\n",
      " 14  sec_app_collections_12_mths_ex_med   0 non-null       float64\n",
      " 15  sec_app_mths_since_last_major_derog  0 non-null       float64\n",
      "dtypes: float64(12), int64(4)\n",
      "memory usage: 16.3 MB\n"
     ]
    }
   ],
   "source": [
    "data.iloc[:,110:130].info()"
   ]
  },
  {
   "cell_type": "code",
   "execution_count": 87,
   "id": "narrow-description",
   "metadata": {},
   "outputs": [],
   "source": [
    "# Columns to use:\n",
    "X_joint = ['application_type',\n",
    "           'annual_inc_joint',\n",
    "           'dti_joint',\n",
    "           'verification_status_joint',\n",
    "           'revol_bal_joint',\n",
    "           'sec_app_fico_range_low',\n",
    "           'sec_app_fico_range_low', \n",
    "           'sec_app_fico_range_high',\n",
    "           'sec_app_earliest_cr_line',\n",
    "           'sec_app_inq_last_6mths',\n",
    "           'sec_app_mort_acc ',\n",
    "           'sec_app_open_acc',\n",
    "           'sec_app_revol_util',\n",
    "           'sec_app_num_rev_accts',\n",
    "           'sec_app_chargeoff_within_12_mths',\n",
    "           'sec_app_collections_12_mths_ex_med',\n",
    "           'sec_app_mths_since_last_major_derog']\n",
    "             \n",
    "X_columns = ['loan_amnt', \n",
    "             'term', \n",
    "             'int_rate', \n",
    "             'installment', \n",
    "             'emp_length',\n",
    "             'home_ownership',\n",
    "             'annual_inc',\n",
    "             'dti',\n",
    "             'delinq_2yrs',\n",
    "             'earliest_cr_line',\n",
    "             'inq_last_6mths',\n",
    "             'mths_since_last_delinq',\n",
    "             'mths_since_last_record',\n",
    "             'open_acc',\n",
    "             'pub_rec',\n",
    "             'revol_bal',\n",
    "             'revol_util',\n",
    "             'total_acc',\n",
    "             'collections_12_mths_ex_med',\n",
    "             'mths_since_last_major_derog',\n",
    "             'acc_now_delinq',\n",
    "             'tot_coll_amt',\n",
    "             'il_util',\n",
    "             'open_rv_12m',\n",
    "             'open_rv_24m',\n",
    "             'max_bal_bc',\n",
    "             'all_util',\n",
    "             'total_rev_hi_lim',\n",
    "             'inq_fi', \n",
    "             'total_cu_tl',\n",
    "             'inq_last_12m',\n",
    "             'acc_open_past_24mths',\n",
    "             'avg_cur_bal',\n",
    "             'bc_open_to_buy',\n",
    "             'bc_util',\n",
    "             'chargeoff_within_12_mths',\n",
    "             'delinq_amnt',\n",
    "             'mo_sin_old_il_acct',\n",
    "             'mo_sin_old_rev_tl_op',\n",
    "             'mo_sin_rcnt_rev_tl_op',\n",
    "             'mo_sin_rcnt_tl',\n",
    "             'mort_acc',\n",
    "             'mths_since_recent_bc',\n",
    "             'mths_since_recent_bc_dlq',\n",
    "             'mths_since_recent_inq',\n",
    "             'mths_since_recent_revol_delinq',\n",
    "             'num_accts_ever_120_pd',\n",
    "             'num_actv_bc_tl',\n",
    "             'num_actv_rev_tl',\n",
    "             'num_bc_sats',\n",
    "             'num_bc_tl',\n",
    "             'num_il_tl',\n",
    "             'num_op_rev_tl',\n",
    "             'num_rev_accts',\n",
    "             'num_rev_tl_bal_gt_0',\n",
    "             'num_sats',\n",
    "             'num_tl_120dpd_2m', #may be leakage\n",
    "             'num_tl_30dpd', #may be leakage\n",
    "             'num_tl_90g_dpd_24m',\n",
    "             'num_tl_op_past_12m',\n",
    "             'pct_tl_nvr_dlq',\n",
    "             'percent_bc_gt_75',\n",
    "             'pub_rec_bankruptcies',\n",
    "             'tax_liens',\n",
    "             'tot_hi_cred_lim',\n",
    "             'total_bal_ex_mort',\n",
    "             'total_bc_limit',\n",
    "             'total_il_high_credit_limit']\n",
    "\n",
    "target = ['issue_d']\n",
    "# TODO: emp_title?\n",
    "#       verification_status?\n",
    "#       zip? addr_state?\n",
    "#      fico?\n",
    "#      last_credit_pull_d. <--- important to see if using old credit report\n",
    "#.     application_type <--- may need to be split for ind vs joint\n",
    "\n",
    "\n",
    "# Useless columns:\n",
    "col_drop = ['member_id', 'funded_amnt', 'emp_title', 'url']\n",
    "\n",
    "\n",
    "col_leak = ['funded_amnt_inv', 'int_rate', 'grade', 'sub_grade', 'issue_d', 'pymnt_plan', 'out_prncp', 'out_prncp_inv']\n",
    "\n",
    "target = ['loan_status']"
   ]
  },
  {
   "cell_type": "code",
   "execution_count": 89,
   "id": "backed-somalia",
   "metadata": {},
   "outputs": [
    {
     "name": "stdout",
     "output_type": "stream",
     "text": [
      "<class 'pandas.core.frame.DataFrame'>\n",
      "RangeIndex: 133887 entries, 0 to 133886\n",
      "Data columns (total 68 columns):\n",
      " #   Column                          Non-Null Count   Dtype  \n",
      "---  ------                          --------------   -----  \n",
      " 0   loan_amnt                       133887 non-null  int64  \n",
      " 1   term                            133887 non-null  object \n",
      " 2   int_rate                        133887 non-null  object \n",
      " 3   installment                     133887 non-null  float64\n",
      " 4   emp_length                      124943 non-null  object \n",
      " 5   home_ownership                  133887 non-null  object \n",
      " 6   annual_inc                      133887 non-null  float64\n",
      " 7   dti                             133887 non-null  float64\n",
      " 8   delinq_2yrs                     133887 non-null  int64  \n",
      " 9   earliest_cr_line                133887 non-null  object \n",
      " 10  inq_last_6mths                  133886 non-null  float64\n",
      " 11  mths_since_last_delinq          69322 non-null   float64\n",
      " 12  mths_since_last_record          23671 non-null   float64\n",
      " 13  open_acc                        133887 non-null  int64  \n",
      " 14  pub_rec                         133887 non-null  int64  \n",
      " 15  revol_bal                       133887 non-null  int64  \n",
      " 16  revol_util                      133816 non-null  object \n",
      " 17  total_acc                       133887 non-null  int64  \n",
      " 18  collections_12_mths_ex_med      133887 non-null  int64  \n",
      " 19  mths_since_last_major_derog     38074 non-null   float64\n",
      " 20  acc_now_delinq                  133887 non-null  int64  \n",
      " 21  tot_coll_amt                    133887 non-null  int64  \n",
      " 22  il_util                         116008 non-null  float64\n",
      " 23  open_rv_12m                     133826 non-null  float64\n",
      " 24  open_rv_24m                     133826 non-null  float64\n",
      " 25  max_bal_bc                      133826 non-null  float64\n",
      " 26  all_util                        133820 non-null  float64\n",
      " 27  total_rev_hi_lim                133887 non-null  int64  \n",
      " 28  inq_fi                          133826 non-null  float64\n",
      " 29  total_cu_tl                     133825 non-null  float64\n",
      " 30  inq_last_12m                    133825 non-null  float64\n",
      " 31  acc_open_past_24mths            133887 non-null  int64  \n",
      " 32  avg_cur_bal                     133887 non-null  int64  \n",
      " 33  bc_open_to_buy                  132776 non-null  float64\n",
      " 34  bc_util                         132712 non-null  float64\n",
      " 35  chargeoff_within_12_mths        133887 non-null  int64  \n",
      " 36  delinq_amnt                     133887 non-null  int64  \n",
      " 37  mo_sin_old_il_acct              130241 non-null  float64\n",
      " 38  mo_sin_old_rev_tl_op            133887 non-null  int64  \n",
      " 39  mo_sin_rcnt_rev_tl_op           133887 non-null  int64  \n",
      " 40  mo_sin_rcnt_tl                  133887 non-null  int64  \n",
      " 41  mort_acc                        133887 non-null  int64  \n",
      " 42  mths_since_recent_bc            132843 non-null  float64\n",
      " 43  mths_since_recent_bc_dlq        33756 non-null   float64\n",
      " 44  mths_since_recent_inq           120089 non-null  float64\n",
      " 45  mths_since_recent_revol_delinq  47783 non-null   float64\n",
      " 46  num_accts_ever_120_pd           133887 non-null  int64  \n",
      " 47  num_actv_bc_tl                  133887 non-null  int64  \n",
      " 48  num_actv_rev_tl                 133887 non-null  int64  \n",
      " 49  num_bc_sats                     133887 non-null  int64  \n",
      " 50  num_bc_tl                       133887 non-null  int64  \n",
      " 51  num_il_tl                       133887 non-null  int64  \n",
      " 52  num_op_rev_tl                   133887 non-null  int64  \n",
      " 53  num_rev_accts                   133887 non-null  int64  \n",
      " 54  num_rev_tl_bal_gt_0             133887 non-null  int64  \n",
      " 55  num_sats                        133887 non-null  int64  \n",
      " 56  num_tl_120dpd_2m                126266 non-null  float64\n",
      " 57  num_tl_30dpd                    133887 non-null  int64  \n",
      " 58  num_tl_90g_dpd_24m              133887 non-null  int64  \n",
      " 59  num_tl_op_past_12m              133887 non-null  int64  \n",
      " 60  pct_tl_nvr_dlq                  133887 non-null  float64\n",
      " 61  percent_bc_gt_75                132758 non-null  float64\n",
      " 62  pub_rec_bankruptcies            133887 non-null  int64  \n",
      " 63  tax_liens                       133887 non-null  int64  \n",
      " 64  tot_hi_cred_lim                 133887 non-null  int64  \n",
      " 65  total_bal_ex_mort               133887 non-null  int64  \n",
      " 66  total_bc_limit                  133887 non-null  int64  \n",
      " 67  total_il_high_credit_limit      133887 non-null  int64  \n",
      "dtypes: float64(25), int64(37), object(6)\n",
      "memory usage: 69.5+ MB\n"
     ]
    }
   ],
   "source": [
    "data[X_columns].info()"
   ]
  },
  {
   "cell_type": "code",
   "execution_count": 61,
   "id": "blond-economy",
   "metadata": {
    "scrolled": true
   },
   "outputs": [
    {
     "data": {
      "text/plain": [
       "0     NaN\n",
       "1     NaN\n",
       "2     NaN\n",
       "3     NaN\n",
       "4     NaN\n",
       "5     NaN\n",
       "6     NaN\n",
       "7     NaN\n",
       "8     NaN\n",
       "9     NaN\n",
       "10    NaN\n",
       "Name: desc, dtype: object"
      ]
     },
     "execution_count": 61,
     "metadata": {},
     "output_type": "execute_result"
    }
   ],
   "source": [
    "data.loc[:10,'desc']"
   ]
  },
  {
   "cell_type": "code",
   "execution_count": 72,
   "id": "color-highway",
   "metadata": {
    "scrolled": false
   },
   "outputs": [
    {
     "data": {
      "text/plain": [
       "<AxesSubplot:>"
      ]
     },
     "execution_count": 72,
     "metadata": {},
     "output_type": "execute_result"
    },
    {
     "data": {
      "image/png": "[encoded data removed]",
      "text/plain": [
       "<Figure size 432x288 with 1 Axes>"
      ]
     },
     "metadata": {
      "needs_background": "light"
     },
     "output_type": "display_data"
    }
   ],
   "source": [
    "data['application_type'].hist()"
   ]
  },
  {
   "cell_type": "code",
   "execution_count": 62,
   "id": "functional-brazil",
   "metadata": {
    "scrolled": true
   },
   "outputs": [
    {
     "data": {
      "text/plain": [
       "133877"
      ]
     },
     "execution_count": 62,
     "metadata": {},
     "output_type": "execute_result"
    }
   ],
   "source": [
    "data['desc'].isna().sum()"
   ]
  },
  {
   "cell_type": "code",
   "execution_count": 63,
   "id": "impressed-detail",
   "metadata": {},
   "outputs": [
    {
     "data": {
      "text/plain": [
       "133887"
      ]
     },
     "execution_count": 63,
     "metadata": {},
     "output_type": "execute_result"
    }
   ],
   "source": [
    "len(data)"
   ]
  },
  {
   "cell_type": "code",
   "execution_count": 53,
   "id": "educational-metadata",
   "metadata": {},
   "outputs": [
    {
     "data": {
      "text/plain": [
       "array(['Current', 'Fully Paid', 'Late (31-120 days)', 'Charged Off',\n",
       "       'Late (16-30 days)', 'In Grace Period', 'Default'], dtype=object)"
      ]
     },
     "execution_count": 53,
     "metadata": {},
     "output_type": "execute_result"
    }
   ],
   "source": [
    "data['loan_status'].unique()"
   ]
  },
  {
   "cell_type": "code",
   "execution_count": 55,
   "id": "governmental-excitement",
   "metadata": {
    "scrolled": true
   },
   "outputs": [
    {
     "data": {
      "text/plain": [
       "<AxesSubplot:>"
      ]
     },
     "execution_count": 55,
     "metadata": {},
     "output_type": "execute_result"
    },
    {
     "data": {
      "image/png": "[encoded data removed]",
      "text/plain": [
       "<Figure size 432x288 with 1 Axes>"
      ]
     },
     "metadata": {
      "needs_background": "light"
     },
     "output_type": "display_data"
    }
   ],
   "source": [
    "data['loan_status'][data['loan_status'].apply(lambda x: x in ['Fully Paid', 'Charged Off'])].hist()"
   ]
  },
  {
   "cell_type": "code",
   "execution_count": 56,
   "id": "sweet-turning",
   "metadata": {},
   "outputs": [
    {
     "data": {
      "text/html": [
       "<div>\n",
       "<style scoped>\n",
       "    .dataframe tbody tr th:only-of-type {\n",
       "        vertical-align: middle;\n",
       "    }\n",
       "\n",
       "    .dataframe tbody tr th {\n",
       "        vertical-align: top;\n",
       "    }\n",
       "\n",
       "    .dataframe thead th {\n",
       "        text-align: right;\n",
       "    }\n",
       "</style>\n",
       "<table border=\"1\" class=\"dataframe\">\n",
       "  <thead>\n",
       "    <tr style=\"text-align: right;\">\n",
       "      <th></th>\n",
       "      <th>id</th>\n",
       "      <th>member_id</th>\n",
       "      <th>loan_amnt</th>\n",
       "      <th>funded_amnt</th>\n",
       "      <th>funded_amnt_inv</th>\n",
       "      <th>installment</th>\n",
       "      <th>annual_inc</th>\n",
       "      <th>dti</th>\n",
       "      <th>delinq_2yrs</th>\n",
       "      <th>fico_range_low</th>\n",
       "      <th>...</th>\n",
       "      <th>sec_app_fico_range_high</th>\n",
       "      <th>sec_app_earliest_cr_line</th>\n",
       "      <th>sec_app_inq_last_6mths</th>\n",
       "      <th>sec_app_mort_acc</th>\n",
       "      <th>sec_app_open_acc</th>\n",
       "      <th>sec_app_revol_util</th>\n",
       "      <th>sec_app_num_rev_accts</th>\n",
       "      <th>sec_app_chargeoff_within_12_mths</th>\n",
       "      <th>sec_app_collections_12_mths_ex_med</th>\n",
       "      <th>sec_app_mths_since_last_major_derog</th>\n",
       "    </tr>\n",
       "  </thead>\n",
       "  <tbody>\n",
       "    <tr>\n",
       "      <th>id</th>\n",
       "      <td>1.000000</td>\n",
       "      <td>NaN</td>\n",
       "      <td>-0.039486</td>\n",
       "      <td>-0.039486</td>\n",
       "      <td>-0.039705</td>\n",
       "      <td>-0.032644</td>\n",
       "      <td>-0.024995</td>\n",
       "      <td>0.006478</td>\n",
       "      <td>-0.001504</td>\n",
       "      <td>0.014099</td>\n",
       "      <td>...</td>\n",
       "      <td>NaN</td>\n",
       "      <td>NaN</td>\n",
       "      <td>NaN</td>\n",
       "      <td>NaN</td>\n",
       "      <td>NaN</td>\n",
       "      <td>NaN</td>\n",
       "      <td>NaN</td>\n",
       "      <td>NaN</td>\n",
       "      <td>NaN</td>\n",
       "      <td>NaN</td>\n",
       "    </tr>\n",
       "    <tr>\n",
       "      <th>member_id</th>\n",
       "      <td>NaN</td>\n",
       "      <td>NaN</td>\n",
       "      <td>NaN</td>\n",
       "      <td>NaN</td>\n",
       "      <td>NaN</td>\n",
       "      <td>NaN</td>\n",
       "      <td>NaN</td>\n",
       "      <td>NaN</td>\n",
       "      <td>NaN</td>\n",
       "      <td>NaN</td>\n",
       "      <td>...</td>\n",
       "      <td>NaN</td>\n",
       "      <td>NaN</td>\n",
       "      <td>NaN</td>\n",
       "      <td>NaN</td>\n",
       "      <td>NaN</td>\n",
       "      <td>NaN</td>\n",
       "      <td>NaN</td>\n",
       "      <td>NaN</td>\n",
       "      <td>NaN</td>\n",
       "      <td>NaN</td>\n",
       "    </tr>\n",
       "    <tr>\n",
       "      <th>loan_amnt</th>\n",
       "      <td>-0.039486</td>\n",
       "      <td>NaN</td>\n",
       "      <td>1.000000</td>\n",
       "      <td>1.000000</td>\n",
       "      <td>0.999991</td>\n",
       "      <td>0.944055</td>\n",
       "      <td>0.303144</td>\n",
       "      <td>0.000296</td>\n",
       "      <td>-0.005336</td>\n",
       "      <td>0.114813</td>\n",
       "      <td>...</td>\n",
       "      <td>NaN</td>\n",
       "      <td>NaN</td>\n",
       "      <td>NaN</td>\n",
       "      <td>NaN</td>\n",
       "      <td>NaN</td>\n",
       "      <td>NaN</td>\n",
       "      <td>NaN</td>\n",
       "      <td>NaN</td>\n",
       "      <td>NaN</td>\n",
       "      <td>NaN</td>\n",
       "    </tr>\n",
       "    <tr>\n",
       "      <th>funded_amnt</th>\n",
       "      <td>-0.039486</td>\n",
       "      <td>NaN</td>\n",
       "      <td>1.000000</td>\n",
       "      <td>1.000000</td>\n",
       "      <td>0.999991</td>\n",
       "      <td>0.944055</td>\n",
       "      <td>0.303144</td>\n",
       "      <td>0.000296</td>\n",
       "      <td>-0.005336</td>\n",
       "      <td>0.114813</td>\n",
       "      <td>...</td>\n",
       "      <td>NaN</td>\n",
       "      <td>NaN</td>\n",
       "      <td>NaN</td>\n",
       "      <td>NaN</td>\n",
       "      <td>NaN</td>\n",
       "      <td>NaN</td>\n",
       "      <td>NaN</td>\n",
       "      <td>NaN</td>\n",
       "      <td>NaN</td>\n",
       "      <td>NaN</td>\n",
       "    </tr>\n",
       "    <tr>\n",
       "      <th>funded_amnt_inv</th>\n",
       "      <td>-0.039705</td>\n",
       "      <td>NaN</td>\n",
       "      <td>0.999991</td>\n",
       "      <td>0.999991</td>\n",
       "      <td>1.000000</td>\n",
       "      <td>0.943942</td>\n",
       "      <td>0.303205</td>\n",
       "      <td>0.000227</td>\n",
       "      <td>-0.005389</td>\n",
       "      <td>0.115038</td>\n",
       "      <td>...</td>\n",
       "      <td>NaN</td>\n",
       "      <td>NaN</td>\n",
       "      <td>NaN</td>\n",
       "      <td>NaN</td>\n",
       "      <td>NaN</td>\n",
       "      <td>NaN</td>\n",
       "      <td>NaN</td>\n",
       "      <td>NaN</td>\n",
       "      <td>NaN</td>\n",
       "      <td>NaN</td>\n",
       "    </tr>\n",
       "    <tr>\n",
       "      <th>...</th>\n",
       "      <td>...</td>\n",
       "      <td>...</td>\n",
       "      <td>...</td>\n",
       "      <td>...</td>\n",
       "      <td>...</td>\n",
       "      <td>...</td>\n",
       "      <td>...</td>\n",
       "      <td>...</td>\n",
       "      <td>...</td>\n",
       "      <td>...</td>\n",
       "      <td>...</td>\n",
       "      <td>...</td>\n",
       "      <td>...</td>\n",
       "      <td>...</td>\n",
       "      <td>...</td>\n",
       "      <td>...</td>\n",
       "      <td>...</td>\n",
       "      <td>...</td>\n",
       "      <td>...</td>\n",
       "      <td>...</td>\n",
       "      <td>...</td>\n",
       "    </tr>\n",
       "    <tr>\n",
       "      <th>sec_app_revol_util</th>\n",
       "      <td>NaN</td>\n",
       "      <td>NaN</td>\n",
       "      <td>NaN</td>\n",
       "      <td>NaN</td>\n",
       "      <td>NaN</td>\n",
       "      <td>NaN</td>\n",
       "      <td>NaN</td>\n",
       "      <td>NaN</td>\n",
       "      <td>NaN</td>\n",
       "      <td>NaN</td>\n",
       "      <td>...</td>\n",
       "      <td>NaN</td>\n",
       "      <td>NaN</td>\n",
       "      <td>NaN</td>\n",
       "      <td>NaN</td>\n",
       "      <td>NaN</td>\n",
       "      <td>NaN</td>\n",
       "      <td>NaN</td>\n",
       "      <td>NaN</td>\n",
       "      <td>NaN</td>\n",
       "      <td>NaN</td>\n",
       "    </tr>\n",
       "    <tr>\n",
       "      <th>sec_app_num_rev_accts</th>\n",
       "      <td>NaN</td>\n",
       "      <td>NaN</td>\n",
       "      <td>NaN</td>\n",
       "      <td>NaN</td>\n",
       "      <td>NaN</td>\n",
       "      <td>NaN</td>\n",
       "      <td>NaN</td>\n",
       "      <td>NaN</td>\n",
       "      <td>NaN</td>\n",
       "      <td>NaN</td>\n",
       "      <td>...</td>\n",
       "      <td>NaN</td>\n",
       "      <td>NaN</td>\n",
       "      <td>NaN</td>\n",
       "      <td>NaN</td>\n",
       "      <td>NaN</td>\n",
       "      <td>NaN</td>\n",
       "      <td>NaN</td>\n",
       "      <td>NaN</td>\n",
       "      <td>NaN</td>\n",
       "      <td>NaN</td>\n",
       "    </tr>\n",
       "    <tr>\n",
       "      <th>sec_app_chargeoff_within_12_mths</th>\n",
       "      <td>NaN</td>\n",
       "      <td>NaN</td>\n",
       "      <td>NaN</td>\n",
       "      <td>NaN</td>\n",
       "      <td>NaN</td>\n",
       "      <td>NaN</td>\n",
       "      <td>NaN</td>\n",
       "      <td>NaN</td>\n",
       "      <td>NaN</td>\n",
       "      <td>NaN</td>\n",
       "      <td>...</td>\n",
       "      <td>NaN</td>\n",
       "      <td>NaN</td>\n",
       "      <td>NaN</td>\n",
       "      <td>NaN</td>\n",
       "      <td>NaN</td>\n",
       "      <td>NaN</td>\n",
       "      <td>NaN</td>\n",
       "      <td>NaN</td>\n",
       "      <td>NaN</td>\n",
       "      <td>NaN</td>\n",
       "    </tr>\n",
       "    <tr>\n",
       "      <th>sec_app_collections_12_mths_ex_med</th>\n",
       "      <td>NaN</td>\n",
       "      <td>NaN</td>\n",
       "      <td>NaN</td>\n",
       "      <td>NaN</td>\n",
       "      <td>NaN</td>\n",
       "      <td>NaN</td>\n",
       "      <td>NaN</td>\n",
       "      <td>NaN</td>\n",
       "      <td>NaN</td>\n",
       "      <td>NaN</td>\n",
       "      <td>...</td>\n",
       "      <td>NaN</td>\n",
       "      <td>NaN</td>\n",
       "      <td>NaN</td>\n",
       "      <td>NaN</td>\n",
       "      <td>NaN</td>\n",
       "      <td>NaN</td>\n",
       "      <td>NaN</td>\n",
       "      <td>NaN</td>\n",
       "      <td>NaN</td>\n",
       "      <td>NaN</td>\n",
       "    </tr>\n",
       "    <tr>\n",
       "      <th>sec_app_mths_since_last_major_derog</th>\n",
       "      <td>NaN</td>\n",
       "      <td>NaN</td>\n",
       "      <td>NaN</td>\n",
       "      <td>NaN</td>\n",
       "      <td>NaN</td>\n",
       "      <td>NaN</td>\n",
       "      <td>NaN</td>\n",
       "      <td>NaN</td>\n",
       "      <td>NaN</td>\n",
       "      <td>NaN</td>\n",
       "      <td>...</td>\n",
       "      <td>NaN</td>\n",
       "      <td>NaN</td>\n",
       "      <td>NaN</td>\n",
       "      <td>NaN</td>\n",
       "      <td>NaN</td>\n",
       "      <td>NaN</td>\n",
       "      <td>NaN</td>\n",
       "      <td>NaN</td>\n",
       "      <td>NaN</td>\n",
       "      <td>NaN</td>\n",
       "    </tr>\n",
       "  </tbody>\n",
       "</table>\n",
       "<p>101 rows × 101 columns</p>\n",
       "</div>"
      ],
      "text/plain": [
       "                                           id  member_id  loan_amnt  \\\n",
       "id                                   1.000000        NaN  -0.039486   \n",
       "member_id                                 NaN        NaN        NaN   \n",
       "loan_amnt                           -0.039486        NaN   1.000000   \n",
       "funded_amnt                         -0.039486        NaN   1.000000   \n",
       "funded_amnt_inv                     -0.039705        NaN   0.999991   \n",
       "...                                       ...        ...        ...   \n",
       "sec_app_revol_util                        NaN        NaN        NaN   \n",
       "sec_app_num_rev_accts                     NaN        NaN        NaN   \n",
       "sec_app_chargeoff_within_12_mths          NaN        NaN        NaN   \n",
       "sec_app_collections_12_mths_ex_med        NaN        NaN        NaN   \n",
       "sec_app_mths_since_last_major_derog       NaN        NaN        NaN   \n",
       "\n",
       "                                     funded_amnt  funded_amnt_inv  \\\n",
       "id                                     -0.039486        -0.039705   \n",
       "member_id                                    NaN              NaN   \n",
       "loan_amnt                               1.000000         0.999991   \n",
       "funded_amnt                             1.000000         0.999991   \n",
       "funded_amnt_inv                         0.999991         1.000000   \n",
       "...                                          ...              ...   \n",
       "sec_app_revol_util                           NaN              NaN   \n",
       "sec_app_num_rev_accts                        NaN              NaN   \n",
       "sec_app_chargeoff_within_12_mths             NaN              NaN   \n",
       "sec_app_collections_12_mths_ex_med           NaN              NaN   \n",
       "sec_app_mths_since_last_major_derog          NaN              NaN   \n",
       "\n",
       "                                     installment  annual_inc       dti  \\\n",
       "id                                     -0.032644   -0.024995  0.006478   \n",
       "member_id                                    NaN         NaN       NaN   \n",
       "loan_amnt                               0.944055    0.303144  0.000296   \n",
       "funded_amnt                             0.944055    0.303144  0.000296   \n",
       "funded_amnt_inv                         0.943942    0.303205  0.000227   \n",
       "...                                          ...         ...       ...   \n",
       "sec_app_revol_util                           NaN         NaN       NaN   \n",
       "sec_app_num_rev_accts                        NaN         NaN       NaN   \n",
       "sec_app_chargeoff_within_12_mths             NaN         NaN       NaN   \n",
       "sec_app_collections_12_mths_ex_med           NaN         NaN       NaN   \n",
       "sec_app_mths_since_last_major_derog          NaN         NaN       NaN   \n",
       "\n",
       "                                     delinq_2yrs  fico_range_low  ...  \\\n",
       "id                                     -0.001504        0.014099  ...   \n",
       "member_id                                    NaN             NaN  ...   \n",
       "loan_amnt                              -0.005336        0.114813  ...   \n",
       "funded_amnt                            -0.005336        0.114813  ...   \n",
       "funded_amnt_inv                        -0.005389        0.115038  ...   \n",
       "...                                          ...             ...  ...   \n",
       "sec_app_revol_util                           NaN             NaN  ...   \n",
       "sec_app_num_rev_accts                        NaN             NaN  ...   \n",
       "sec_app_chargeoff_within_12_mths             NaN             NaN  ...   \n",
       "sec_app_collections_12_mths_ex_med           NaN             NaN  ...   \n",
       "sec_app_mths_since_last_major_derog          NaN             NaN  ...   \n",
       "\n",
       "                                     sec_app_fico_range_high  \\\n",
       "id                                                       NaN   \n",
       "member_id                                                NaN   \n",
       "loan_amnt                                                NaN   \n",
       "funded_amnt                                              NaN   \n",
       "funded_amnt_inv                                          NaN   \n",
       "...                                                      ...   \n",
       "sec_app_revol_util                                       NaN   \n",
       "sec_app_num_rev_accts                                    NaN   \n",
       "sec_app_chargeoff_within_12_mths                         NaN   \n",
       "sec_app_collections_12_mths_ex_med                       NaN   \n",
       "sec_app_mths_since_last_major_derog                      NaN   \n",
       "\n",
       "                                     sec_app_earliest_cr_line  \\\n",
       "id                                                        NaN   \n",
       "member_id                                                 NaN   \n",
       "loan_amnt                                                 NaN   \n",
       "funded_amnt                                               NaN   \n",
       "funded_amnt_inv                                           NaN   \n",
       "...                                                       ...   \n",
       "sec_app_revol_util                                        NaN   \n",
       "sec_app_num_rev_accts                                     NaN   \n",
       "sec_app_chargeoff_within_12_mths                          NaN   \n",
       "sec_app_collections_12_mths_ex_med                        NaN   \n",
       "sec_app_mths_since_last_major_derog                       NaN   \n",
       "\n",
       "                                     sec_app_inq_last_6mths  sec_app_mort_acc  \\\n",
       "id                                                      NaN               NaN   \n",
       "member_id                                               NaN               NaN   \n",
       "loan_amnt                                               NaN               NaN   \n",
       "funded_amnt                                             NaN               NaN   \n",
       "funded_amnt_inv                                         NaN               NaN   \n",
       "...                                                     ...               ...   \n",
       "sec_app_revol_util                                      NaN               NaN   \n",
       "sec_app_num_rev_accts                                   NaN               NaN   \n",
       "sec_app_chargeoff_within_12_mths                        NaN               NaN   \n",
       "sec_app_collections_12_mths_ex_med                      NaN               NaN   \n",
       "sec_app_mths_since_last_major_derog                     NaN               NaN   \n",
       "\n",
       "                                     sec_app_open_acc  sec_app_revol_util  \\\n",
       "id                                                NaN                 NaN   \n",
       "member_id                                         NaN                 NaN   \n",
       "loan_amnt                                         NaN                 NaN   \n",
       "funded_amnt                                       NaN                 NaN   \n",
       "funded_amnt_inv                                   NaN                 NaN   \n",
       "...                                               ...                 ...   \n",
       "sec_app_revol_util                                NaN                 NaN   \n",
       "sec_app_num_rev_accts                             NaN                 NaN   \n",
       "sec_app_chargeoff_within_12_mths                  NaN                 NaN   \n",
       "sec_app_collections_12_mths_ex_med                NaN                 NaN   \n",
       "sec_app_mths_since_last_major_derog               NaN                 NaN   \n",
       "\n",
       "                                     sec_app_num_rev_accts  \\\n",
       "id                                                     NaN   \n",
       "member_id                                              NaN   \n",
       "loan_amnt                                              NaN   \n",
       "funded_amnt                                            NaN   \n",
       "funded_amnt_inv                                        NaN   \n",
       "...                                                    ...   \n",
       "sec_app_revol_util                                     NaN   \n",
       "sec_app_num_rev_accts                                  NaN   \n",
       "sec_app_chargeoff_within_12_mths                       NaN   \n",
       "sec_app_collections_12_mths_ex_med                     NaN   \n",
       "sec_app_mths_since_last_major_derog                    NaN   \n",
       "\n",
       "                                     sec_app_chargeoff_within_12_mths  \\\n",
       "id                                                                NaN   \n",
       "member_id                                                         NaN   \n",
       "loan_amnt                                                         NaN   \n",
       "funded_amnt                                                       NaN   \n",
       "funded_amnt_inv                                                   NaN   \n",
       "...                                                               ...   \n",
       "sec_app_revol_util                                                NaN   \n",
       "sec_app_num_rev_accts                                             NaN   \n",
       "sec_app_chargeoff_within_12_mths                                  NaN   \n",
       "sec_app_collections_12_mths_ex_med                                NaN   \n",
       "sec_app_mths_since_last_major_derog                               NaN   \n",
       "\n",
       "                                     sec_app_collections_12_mths_ex_med  \\\n",
       "id                                                                  NaN   \n",
       "member_id                                                           NaN   \n",
       "loan_amnt                                                           NaN   \n",
       "funded_amnt                                                         NaN   \n",
       "funded_amnt_inv                                                     NaN   \n",
       "...                                                                 ...   \n",
       "sec_app_revol_util                                                  NaN   \n",
       "sec_app_num_rev_accts                                               NaN   \n",
       "sec_app_chargeoff_within_12_mths                                    NaN   \n",
       "sec_app_collections_12_mths_ex_med                                  NaN   \n",
       "sec_app_mths_since_last_major_derog                                 NaN   \n",
       "\n",
       "                                     sec_app_mths_since_last_major_derog  \n",
       "id                                                                   NaN  \n",
       "member_id                                                            NaN  \n",
       "loan_amnt                                                            NaN  \n",
       "funded_amnt                                                          NaN  \n",
       "funded_amnt_inv                                                      NaN  \n",
       "...                                                                  ...  \n",
       "sec_app_revol_util                                                   NaN  \n",
       "sec_app_num_rev_accts                                                NaN  \n",
       "sec_app_chargeoff_within_12_mths                                     NaN  \n",
       "sec_app_collections_12_mths_ex_med                                   NaN  \n",
       "sec_app_mths_since_last_major_derog                                  NaN  \n",
       "\n",
       "[101 rows x 101 columns]"
      ]
     },
     "execution_count": 56,
     "metadata": {},
     "output_type": "execute_result"
    }
   ],
   "source": [
    "data.corr()"
   ]
  },
  {
   "cell_type": "code",
   "execution_count": null,
   "id": "suitable-designation",
   "metadata": {},
   "outputs": [],
   "source": []
  }
 ],
 "metadata": {
  "kernelspec": {
   "display_name": "Python 3",
   "language": "python",
   "name": "python3"
  },
  "language_info": {
   "codemirror_mode": {
    "name": "ipython",
    "version": 3
   },
   "file_extension": ".py",
   "mimetype": "text/x-python",
   "name": "python",
   "nbconvert_exporter": "python",
   "pygments_lexer": "ipython3",
   "version": "3.8.8"
  }
 },
 "nbformat": 4,
 "nbformat_minor": 5
}
