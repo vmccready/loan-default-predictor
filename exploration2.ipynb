{
 "cells": [
  {
   "cell_type": "code",
   "execution_count": 1,
   "id": "assigned-acceptance",
   "metadata": {},
   "outputs": [],
   "source": [
    "import numpy as np\n",
    "import pandas as pd\n",
    "import matplotlib.pyplot as plt\n",
    "import re\n",
    "\n",
    "from glob import iglob"
   ]
  },
  {
   "cell_type": "code",
   "execution_count": 2,
   "id": "humanitarian-floating",
   "metadata": {},
   "outputs": [],
   "source": [
    "data = pd.read_csv('data/raw/LoanStats3d_securev1.csv',skiprows=[0], low_memory=False)"
   ]
  },
  {
   "cell_type": "code",
   "execution_count": 3,
   "id": "needed-smith",
   "metadata": {
    "scrolled": false
   },
   "outputs": [
    {
     "data": {
      "text/html": [
       "<div>\n",
       "<style scoped>\n",
       "    .dataframe tbody tr th:only-of-type {\n",
       "        vertical-align: middle;\n",
       "    }\n",
       "\n",
       "    .dataframe tbody tr th {\n",
       "        vertical-align: top;\n",
       "    }\n",
       "\n",
       "    .dataframe thead th {\n",
       "        text-align: right;\n",
       "    }\n",
       "</style>\n",
       "<table border=\"1\" class=\"dataframe\">\n",
       "  <thead>\n",
       "    <tr style=\"text-align: right;\">\n",
       "      <th></th>\n",
       "      <th>id</th>\n",
       "      <th>member_id</th>\n",
       "      <th>loan_amnt</th>\n",
       "      <th>funded_amnt</th>\n",
       "      <th>funded_amnt_inv</th>\n",
       "      <th>term</th>\n",
       "      <th>int_rate</th>\n",
       "      <th>installment</th>\n",
       "      <th>grade</th>\n",
       "      <th>sub_grade</th>\n",
       "      <th>...</th>\n",
       "      <th>sec_app_earliest_cr_line</th>\n",
       "      <th>sec_app_inq_last_6mths</th>\n",
       "      <th>sec_app_mort_acc</th>\n",
       "      <th>sec_app_open_acc</th>\n",
       "      <th>sec_app_revol_util</th>\n",
       "      <th>sec_app_open_il_6m</th>\n",
       "      <th>sec_app_num_rev_accts</th>\n",
       "      <th>sec_app_chargeoff_within_12_mths</th>\n",
       "      <th>sec_app_collections_12_mths_ex_med</th>\n",
       "      <th>sec_app_mths_since_last_major_derog</th>\n",
       "    </tr>\n",
       "  </thead>\n",
       "  <tbody>\n",
       "    <tr>\n",
       "      <th>0</th>\n",
       "      <td>68407277</td>\n",
       "      <td>NaN</td>\n",
       "      <td>3600</td>\n",
       "      <td>3600</td>\n",
       "      <td>3600.0</td>\n",
       "      <td>36 months</td>\n",
       "      <td>13.99%</td>\n",
       "      <td>123.03</td>\n",
       "      <td>C</td>\n",
       "      <td>C4</td>\n",
       "      <td>...</td>\n",
       "      <td>NaN</td>\n",
       "      <td>NaN</td>\n",
       "      <td>NaN</td>\n",
       "      <td>NaN</td>\n",
       "      <td>NaN</td>\n",
       "      <td>NaN</td>\n",
       "      <td>NaN</td>\n",
       "      <td>NaN</td>\n",
       "      <td>NaN</td>\n",
       "      <td>NaN</td>\n",
       "    </tr>\n",
       "    <tr>\n",
       "      <th>1</th>\n",
       "      <td>66310712</td>\n",
       "      <td>NaN</td>\n",
       "      <td>35000</td>\n",
       "      <td>35000</td>\n",
       "      <td>35000.0</td>\n",
       "      <td>60 months</td>\n",
       "      <td>14.85%</td>\n",
       "      <td>829.90</td>\n",
       "      <td>C</td>\n",
       "      <td>C5</td>\n",
       "      <td>...</td>\n",
       "      <td>NaN</td>\n",
       "      <td>NaN</td>\n",
       "      <td>NaN</td>\n",
       "      <td>NaN</td>\n",
       "      <td>NaN</td>\n",
       "      <td>NaN</td>\n",
       "      <td>NaN</td>\n",
       "      <td>NaN</td>\n",
       "      <td>NaN</td>\n",
       "      <td>NaN</td>\n",
       "    </tr>\n",
       "    <tr>\n",
       "      <th>2</th>\n",
       "      <td>68566886</td>\n",
       "      <td>NaN</td>\n",
       "      <td>29900</td>\n",
       "      <td>29900</td>\n",
       "      <td>29900.0</td>\n",
       "      <td>60 months</td>\n",
       "      <td>12.88%</td>\n",
       "      <td>678.49</td>\n",
       "      <td>C</td>\n",
       "      <td>C2</td>\n",
       "      <td>...</td>\n",
       "      <td>NaN</td>\n",
       "      <td>NaN</td>\n",
       "      <td>NaN</td>\n",
       "      <td>NaN</td>\n",
       "      <td>NaN</td>\n",
       "      <td>NaN</td>\n",
       "      <td>NaN</td>\n",
       "      <td>NaN</td>\n",
       "      <td>NaN</td>\n",
       "      <td>NaN</td>\n",
       "    </tr>\n",
       "    <tr>\n",
       "      <th>3</th>\n",
       "      <td>68495092</td>\n",
       "      <td>NaN</td>\n",
       "      <td>8650</td>\n",
       "      <td>8650</td>\n",
       "      <td>8650.0</td>\n",
       "      <td>36 months</td>\n",
       "      <td>19.89%</td>\n",
       "      <td>320.99</td>\n",
       "      <td>E</td>\n",
       "      <td>E3</td>\n",
       "      <td>...</td>\n",
       "      <td>NaN</td>\n",
       "      <td>NaN</td>\n",
       "      <td>NaN</td>\n",
       "      <td>NaN</td>\n",
       "      <td>NaN</td>\n",
       "      <td>NaN</td>\n",
       "      <td>NaN</td>\n",
       "      <td>NaN</td>\n",
       "      <td>NaN</td>\n",
       "      <td>NaN</td>\n",
       "    </tr>\n",
       "    <tr>\n",
       "      <th>4</th>\n",
       "      <td>68577849</td>\n",
       "      <td>NaN</td>\n",
       "      <td>18000</td>\n",
       "      <td>18000</td>\n",
       "      <td>18000.0</td>\n",
       "      <td>60 months</td>\n",
       "      <td>11.99%</td>\n",
       "      <td>400.31</td>\n",
       "      <td>C</td>\n",
       "      <td>C1</td>\n",
       "      <td>...</td>\n",
       "      <td>NaN</td>\n",
       "      <td>NaN</td>\n",
       "      <td>NaN</td>\n",
       "      <td>NaN</td>\n",
       "      <td>NaN</td>\n",
       "      <td>NaN</td>\n",
       "      <td>NaN</td>\n",
       "      <td>NaN</td>\n",
       "      <td>NaN</td>\n",
       "      <td>NaN</td>\n",
       "    </tr>\n",
       "  </tbody>\n",
       "</table>\n",
       "<p>5 rows × 128 columns</p>\n",
       "</div>"
      ],
      "text/plain": [
       "         id  member_id  loan_amnt  funded_amnt  funded_amnt_inv        term  \\\n",
       "0  68407277        NaN       3600         3600           3600.0   36 months   \n",
       "1  66310712        NaN      35000        35000          35000.0   60 months   \n",
       "2  68566886        NaN      29900        29900          29900.0   60 months   \n",
       "3  68495092        NaN       8650         8650           8650.0   36 months   \n",
       "4  68577849        NaN      18000        18000          18000.0   60 months   \n",
       "\n",
       "  int_rate  installment grade sub_grade  ... sec_app_earliest_cr_line  \\\n",
       "0   13.99%       123.03     C        C4  ...                      NaN   \n",
       "1   14.85%       829.90     C        C5  ...                      NaN   \n",
       "2   12.88%       678.49     C        C2  ...                      NaN   \n",
       "3   19.89%       320.99     E        E3  ...                      NaN   \n",
       "4   11.99%       400.31     C        C1  ...                      NaN   \n",
       "\n",
       "  sec_app_inq_last_6mths sec_app_mort_acc  sec_app_open_acc  \\\n",
       "0                    NaN              NaN               NaN   \n",
       "1                    NaN              NaN               NaN   \n",
       "2                    NaN              NaN               NaN   \n",
       "3                    NaN              NaN               NaN   \n",
       "4                    NaN              NaN               NaN   \n",
       "\n",
       "  sec_app_revol_util sec_app_open_il_6m sec_app_num_rev_accts  \\\n",
       "0                NaN                NaN                   NaN   \n",
       "1                NaN                NaN                   NaN   \n",
       "2                NaN                NaN                   NaN   \n",
       "3                NaN                NaN                   NaN   \n",
       "4                NaN                NaN                   NaN   \n",
       "\n",
       "  sec_app_chargeoff_within_12_mths sec_app_collections_12_mths_ex_med  \\\n",
       "0                              NaN                                NaN   \n",
       "1                              NaN                                NaN   \n",
       "2                              NaN                                NaN   \n",
       "3                              NaN                                NaN   \n",
       "4                              NaN                                NaN   \n",
       "\n",
       "  sec_app_mths_since_last_major_derog  \n",
       "0                                 NaN  \n",
       "1                                 NaN  \n",
       "2                                 NaN  \n",
       "3                                 NaN  \n",
       "4                                 NaN  \n",
       "\n",
       "[5 rows x 128 columns]"
      ]
     },
     "execution_count": 3,
     "metadata": {},
     "output_type": "execute_result"
    }
   ],
   "source": [
    "data.head()"
   ]
  },
  {
   "cell_type": "code",
   "execution_count": 4,
   "id": "presidential-custody",
   "metadata": {},
   "outputs": [
    {
     "data": {
      "text/plain": [
       "Current               240003\n",
       "Fully Paid            123078\n",
       "Charged Off            44186\n",
       "Late (31-120 days)      7617\n",
       "In Grace Period         4749\n",
       "Late (16-30 days)       1451\n",
       "Default                   11\n",
       "Name: loan_status, dtype: int64"
      ]
     },
     "execution_count": 4,
     "metadata": {},
     "output_type": "execute_result"
    }
   ],
   "source": [
    "data['loan_status'].value_counts()"
   ]
  },
  {
   "cell_type": "code",
   "execution_count": 5,
   "id": "necessary-cliff",
   "metadata": {},
   "outputs": [],
   "source": [
    "data = data[data['loan_status'].str.lower().isin(['fully paid', 'charged off'])]"
   ]
  },
  {
   "cell_type": "code",
   "execution_count": 6,
   "id": "operating-pencil",
   "metadata": {},
   "outputs": [
    {
     "data": {
      "text/plain": [
       "INDIVIDUAL    167111\n",
       "JOINT            153\n",
       "Name: application_type, dtype: int64"
      ]
     },
     "execution_count": 6,
     "metadata": {},
     "output_type": "execute_result"
    }
   ],
   "source": [
    "data['application_type'].value_counts()"
   ]
  },
  {
   "cell_type": "code",
   "execution_count": 7,
   "id": "communist-messenger",
   "metadata": {},
   "outputs": [],
   "source": [
    "data = data[data['application_type'].str.lower()=='individual']"
   ]
  },
  {
   "cell_type": "code",
   "execution_count": 8,
   "id": "sealed-hughes",
   "metadata": {},
   "outputs": [
    {
     "data": {
      "text/plain": [
       "167111"
      ]
     },
     "execution_count": 8,
     "metadata": {},
     "output_type": "execute_result"
    }
   ],
   "source": [
    "data.shape[0]"
   ]
  },
  {
   "cell_type": "code",
   "execution_count": 9,
   "id": "lesbian-stopping",
   "metadata": {},
   "outputs": [
    {
     "data": {
      "text/plain": [
       "18740.0"
      ]
     },
     "execution_count": 9,
     "metadata": {},
     "output_type": "execute_result"
    }
   ],
   "source": [
    "(data['open_il_6m'][data['open_il_6m'].isnull() == False]).sum()"
   ]
  },
  {
   "cell_type": "code",
   "execution_count": 10,
   "id": "infrared-ridge",
   "metadata": {
    "scrolled": true
   },
   "outputs": [
    {
     "data": {
      "text/plain": [
       "member_id                              1.000000\n",
       "desc                                   0.999868\n",
       "mths_since_last_delinq                 0.483762\n",
       "mths_since_last_record                 0.807517\n",
       "next_pymnt_d                           1.000000\n",
       "mths_since_last_major_derog            0.697913\n",
       "annual_inc_joint                       1.000000\n",
       "dti_joint                              1.000000\n",
       "verification_status_joint              1.000000\n",
       "open_acc_6m                            0.961343\n",
       "open_il_6m                             0.961343\n",
       "open_il_12m                            0.961343\n",
       "open_il_24m                            0.961343\n",
       "mths_since_rcnt_il                     0.962205\n",
       "total_bal_il                           0.961343\n",
       "il_util                                0.966029\n",
       "open_rv_12m                            0.961343\n",
       "open_rv_24m                            0.961343\n",
       "max_bal_bc                             0.961343\n",
       "all_util                               0.961343\n",
       "inq_fi                                 0.961343\n",
       "total_cu_tl                            0.961343\n",
       "inq_last_12m                           0.961343\n",
       "mths_since_recent_bc_dlq               0.739054\n",
       "mths_since_recent_revol_delinq         0.639569\n",
       "revol_bal_joint                        1.000000\n",
       "sec_app_fico_range_low                 1.000000\n",
       "sec_app_fico_range_high                1.000000\n",
       "sec_app_earliest_cr_line               1.000000\n",
       "sec_app_inq_last_6mths                 1.000000\n",
       "sec_app_mort_acc                       1.000000\n",
       "sec_app_open_acc                       1.000000\n",
       "sec_app_revol_util                     1.000000\n",
       "sec_app_open_il_6m                     1.000000\n",
       "sec_app_num_rev_accts                  1.000000\n",
       "sec_app_chargeoff_within_12_mths       1.000000\n",
       "sec_app_collections_12_mths_ex_med     1.000000\n",
       "sec_app_mths_since_last_major_derog    1.000000\n",
       "dtype: float64"
      ]
     },
     "execution_count": 10,
     "metadata": {},
     "output_type": "execute_result"
    }
   ],
   "source": [
    "# Columns with missing data\n",
    "\n",
    "data[data.columns[data.isnull().sum()/data.shape[0] > .2]].isnull().sum()/data.shape[0]"
   ]
  },
  {
   "cell_type": "code",
   "execution_count": 11,
   "id": "important-advancement",
   "metadata": {},
   "outputs": [],
   "source": [
    "drop = ['member_id', 'desc', 'next_pymnt_d', 'annual_inc_joint', 'dti_joint', 'verification_status_joint', \n",
    "        'revol_bal_joint', 'sec_app_fico_range_low', \n",
    "        'sec_app_fico_range_high',\n",
    "        'sec_app_earliest_cr_line', \n",
    "        'sec_app_inq_last_6mths',\n",
    "        'sec_app_mort_acc', \n",
    "        'sec_app_open_acc',\n",
    "        'sec_app_revol_util',\n",
    "        'sec_app_open_il_6m', \n",
    "        'sec_app_num_rev_accts',\n",
    "        'sec_app_chargeoff_within_12_mths',\n",
    "        'sec_app_collections_12_mths_ex_med',\n",
    "        'sec_app_mths_since_last_major_derog',\n",
    "        'funded_amnt_inv', \n",
    "        'grade',\n",
    "        'emp_title', \n",
    "        'emp_length',\n",
    "        'pymnt_plan',\n",
    "        'url',\n",
    "        'title',\n",
    "        'zip_code',\n",
    "        'addr_state',\n",
    "        'earliest_cr_line',\n",
    "        'fico_range_high',\n",
    "        'initial_list_status',\n",
    "        'out_prncp',\n",
    "        'out_prncp_inv',\n",
    "        'total_pymnt',\n",
    "        'total_pymnt_inv',\n",
    "        'total_rec_prncp',\n",
    "        'total_rec_int',\n",
    "        'total_rec_late_fee',\n",
    "        'recoveries',\n",
    "        'collection_recovery_fee',\n",
    "        'last_credit_pull_d', \n",
    "        'last_pymnt_d',\n",
    "        'last_pymnt_amnt',\n",
    "        'next_pymnt_d',\n",
    "        'acc_now_delinq',\n",
    "        'tot_coll_amt',\n",
    "        'tot_cur_bal',\n",
    "        'delinq_amnt' \n",
    "       ]\n",
    "data = data.drop(drop, axis=1)"
   ]
  },
  {
   "cell_type": "code",
   "execution_count": 12,
   "id": "cardiovascular-colorado",
   "metadata": {},
   "outputs": [
    {
     "data": {
      "text/plain": [
       "array(['debt_consolidation', 'major_purchase', 'small_business', 'other',\n",
       "       'credit_card', 'house', 'home_improvement', 'vacation', 'car',\n",
       "       'moving', 'medical', 'renewable_energy', 'wedding', 'educational'],\n",
       "      dtype=object)"
      ]
     },
     "execution_count": 12,
     "metadata": {},
     "output_type": "execute_result"
    }
   ],
   "source": [
    "data.purpose.unique()"
   ]
  },
  {
   "cell_type": "code",
   "execution_count": 13,
   "id": "confused-differential",
   "metadata": {},
   "outputs": [
    {
     "data": {
      "text/plain": [
       "array([' 60 months', ' 36 months'], dtype=object)"
      ]
     },
     "execution_count": 13,
     "metadata": {},
     "output_type": "execute_result"
    }
   ],
   "source": [
    "data.term.unique()"
   ]
  },
  {
   "cell_type": "code",
   "execution_count": 15,
   "id": "valuable-operation",
   "metadata": {},
   "outputs": [],
   "source": [
    "terms = {' 60 months': 60, ' 36 months': 36}\n",
    "data['term'] = data['term'].apply(lambda x: terms[x])"
   ]
  },
  {
   "cell_type": "code",
   "execution_count": 18,
   "id": "expected-inquiry",
   "metadata": {},
   "outputs": [],
   "source": [
    "def convert_pct(x):\n",
    "    \"\"\"\n",
    "    Converts string with % to a float, handles 'None's.\n",
    "    \"\"\"\n",
    "    if x is None or pd.isnull(x):\n",
    "        return None\n",
    "    return float(re.sub('%', '', x))"
   ]
  },
  {
   "cell_type": "code",
   "execution_count": 19,
   "id": "secure-beatles",
   "metadata": {
    "scrolled": true
   },
   "outputs": [],
   "source": [
    "percent = ['revol_util', 'int_rate']\n",
    "for p in percent:\n",
    "    data[p] = data[p].apply(convert_pct)"
   ]
  },
  {
   "cell_type": "code",
   "execution_count": 20,
   "id": "warming-season",
   "metadata": {},
   "outputs": [
    {
     "name": "stdout",
     "output_type": "stream",
     "text": [
      "'mths_since_last_delinq': number of missing values '80842' ==> '48.376%'\n",
      "'mths_since_last_record': number of missing values '134945' ==> '80.752%'\n",
      "'revol_util': number of missing values '75' ==> '0.045%'\n",
      "'last_credit_pull_d': number of missing values '2' ==> '0.001%'\n",
      "'mths_since_last_major_derog': number of missing values '116629' ==> '69.791%'\n",
      "'open_acc_6m': number of missing values '160651' ==> '96.134%'\n",
      "'open_il_6m': number of missing values '160651' ==> '96.134%'\n",
      "'open_il_12m': number of missing values '160651' ==> '96.134%'\n",
      "'open_il_24m': number of missing values '160651' ==> '96.134%'\n",
      "'mths_since_rcnt_il': number of missing values '160795' ==> '96.220%'\n",
      "'total_bal_il': number of missing values '160651' ==> '96.134%'\n",
      "'il_util': number of missing values '161434' ==> '96.603%'\n",
      "'open_rv_12m': number of missing values '160651' ==> '96.134%'\n",
      "'open_rv_24m': number of missing values '160651' ==> '96.134%'\n",
      "'max_bal_bc': number of missing values '160651' ==> '96.134%'\n",
      "'all_util': number of missing values '160651' ==> '96.134%'\n",
      "'inq_fi': number of missing values '160651' ==> '96.134%'\n",
      "'total_cu_tl': number of missing values '160651' ==> '96.134%'\n",
      "'inq_last_12m': number of missing values '160651' ==> '96.134%'\n",
      "'bc_open_to_buy': number of missing values '1739' ==> '1.041%'\n",
      "'bc_util': number of missing values '1851' ==> '1.108%'\n",
      "'mo_sin_old_il_acct': number of missing values '4222' ==> '2.526%'\n",
      "'mths_since_recent_bc': number of missing values '1661' ==> '0.994%'\n",
      "'mths_since_recent_bc_dlq': number of missing values '123504' ==> '73.905%'\n",
      "'mths_since_recent_inq': number of missing values '13906' ==> '8.321%'\n",
      "'mths_since_recent_revol_delinq': number of missing values '106879' ==> '63.957%'\n",
      "'num_rev_accts': number of missing values '1' ==> '0.001%'\n",
      "'num_tl_120dpd_2m': number of missing values '7713' ==> '4.615%'\n",
      "'percent_bc_gt_75': number of missing values '1859' ==> '1.112%'\n"
     ]
    }
   ],
   "source": [
    "# Missing values\n",
    "for column in data.columns:\n",
    "    if data[column].isna().sum() != 0:\n",
    "        missing = data[column].isna().sum()\n",
    "        portion = (missing / data.shape[0]) * 100\n",
    "        print(f\"'{column}': number of missing values '{missing}' ==> '{portion:.3f}%'\")"
   ]
  },
  {
   "cell_type": "code",
   "execution_count": 42,
   "id": "objective-battle",
   "metadata": {},
   "outputs": [
    {
     "data": {
      "text/plain": [
       "<AxesSubplot:>"
      ]
     },
     "execution_count": 42,
     "metadata": {},
     "output_type": "execute_result"
    },
    {
     "data": {
      "image/png": "[encoded data removed]",
      "text/plain": [
       "<Figure size 432x288 with 1 Axes>"
      ]
     },
     "metadata": {
      "needs_background": "light"
     },
     "output_type": "display_data"
    }
   ],
   "source": [
    "fig, ax = plt.subplots()\n",
    "\n",
    "data[data['mths_since_last_major_derog'].isna()]['loan_status'].hist(ax = ax, alpha=.5, color='blue')\n",
    "data[~data['mths_since_last_major_derog'].isna()]['loan_status'].hist(ax = ax, alpha=.5, color='green')"
   ]
  },
  {
   "cell_type": "code",
   "execution_count": 39,
   "id": "derived-cookie",
   "metadata": {},
   "outputs": [
    {
     "data": {
      "text/plain": [
       "<AxesSubplot:>"
      ]
     },
     "execution_count": 39,
     "metadata": {},
     "output_type": "execute_result"
    },
    {
     "data": {
      "image/png": "[encoded data removed]",
      "text/plain": [
       "<Figure size 432x288 with 1 Axes>"
      ]
     },
     "metadata": {
      "needs_background": "light"
     },
     "output_type": "display_data"
    }
   ],
   "source": [
    "data['mths_since_last_major_derog'].hist(bins = 50)"
   ]
  },
  {
   "cell_type": "code",
   "execution_count": 24,
   "id": "entertaining-daily",
   "metadata": {
    "scrolled": false
   },
   "outputs": [
    {
     "data": {
      "text/plain": [
       "array(['Dec-15', 'Nov-15', 'Oct-15', 'Sep-15', 'Aug-15', 'Jul-15',\n",
       "       'Jun-15', 'May-15', 'Apr-15', 'Mar-15', 'Feb-15', 'Jan-15'],\n",
       "      dtype=object)"
      ]
     },
     "execution_count": 24,
     "metadata": {},
     "output_type": "execute_result"
    }
   ],
   "source": [
    "data['issue_d'].unique()"
   ]
  },
  {
   "cell_type": "code",
   "execution_count": 23,
   "id": "russian-worse",
   "metadata": {},
   "outputs": [
    {
     "data": {
      "text/plain": [
       "array(['Dec-15'], dtype=object)"
      ]
     },
     "execution_count": 23,
     "metadata": {},
     "output_type": "execute_result"
    }
   ],
   "source": [
    "data[~data['open_acc_6m'].isna()]['issue_d'].unique()"
   ]
  },
  {
   "cell_type": "code",
   "execution_count": 43,
   "id": "grand-advantage",
   "metadata": {},
   "outputs": [
    {
     "name": "stdout",
     "output_type": "stream",
     "text": [
      "<class 'pandas.core.frame.DataFrame'>\n",
      "Int64Index: 167111 entries, 2 to 421094\n",
      "Data columns (total 82 columns):\n",
      " #   Column                          Non-Null Count   Dtype  \n",
      "---  ------                          --------------   -----  \n",
      " 0   id                              167111 non-null  int64  \n",
      " 1   loan_amnt                       167111 non-null  int64  \n",
      " 2   funded_amnt                     167111 non-null  int64  \n",
      " 3   term                            167111 non-null  int64  \n",
      " 4   int_rate                        167111 non-null  float64\n",
      " 5   installment                     167111 non-null  float64\n",
      " 6   sub_grade                       167111 non-null  object \n",
      " 7   home_ownership                  167111 non-null  object \n",
      " 8   annual_inc                      167111 non-null  float64\n",
      " 9   verification_status             167111 non-null  object \n",
      " 10  issue_d                         167111 non-null  object \n",
      " 11  loan_status                     167111 non-null  object \n",
      " 12  purpose                         167111 non-null  object \n",
      " 13  dti                             167111 non-null  float64\n",
      " 14  delinq_2yrs                     167111 non-null  int64  \n",
      " 15  fico_range_low                  167111 non-null  int64  \n",
      " 16  inq_last_6mths                  167111 non-null  int64  \n",
      " 17  mths_since_last_delinq          86269 non-null   float64\n",
      " 18  mths_since_last_record          32166 non-null   float64\n",
      " 19  open_acc                        167111 non-null  int64  \n",
      " 20  pub_rec                         167111 non-null  int64  \n",
      " 21  revol_bal                       167111 non-null  int64  \n",
      " 22  revol_util                      167036 non-null  float64\n",
      " 23  total_acc                       167111 non-null  int64  \n",
      " 24  last_credit_pull_d              167109 non-null  object \n",
      " 25  last_fico_range_high            167111 non-null  int64  \n",
      " 26  last_fico_range_low             167111 non-null  int64  \n",
      " 27  collections_12_mths_ex_med      167111 non-null  int64  \n",
      " 28  mths_since_last_major_derog     50482 non-null   float64\n",
      " 29  policy_code                     167111 non-null  int64  \n",
      " 30  application_type                167111 non-null  object \n",
      " 31  open_acc_6m                     6460 non-null    float64\n",
      " 32  open_il_6m                      6460 non-null    float64\n",
      " 33  open_il_12m                     6460 non-null    float64\n",
      " 34  open_il_24m                     6460 non-null    float64\n",
      " 35  mths_since_rcnt_il              6316 non-null    float64\n",
      " 36  total_bal_il                    6460 non-null    float64\n",
      " 37  il_util                         5677 non-null    float64\n",
      " 38  open_rv_12m                     6460 non-null    float64\n",
      " 39  open_rv_24m                     6460 non-null    float64\n",
      " 40  max_bal_bc                      6460 non-null    float64\n",
      " 41  all_util                        6460 non-null    float64\n",
      " 42  total_rev_hi_lim                167111 non-null  int64  \n",
      " 43  inq_fi                          6460 non-null    float64\n",
      " 44  total_cu_tl                     6460 non-null    float64\n",
      " 45  inq_last_12m                    6460 non-null    float64\n",
      " 46  acc_open_past_24mths            167111 non-null  int64  \n",
      " 47  avg_cur_bal                     167111 non-null  int64  \n",
      " 48  bc_open_to_buy                  165372 non-null  float64\n",
      " 49  bc_util                         165260 non-null  float64\n",
      " 50  chargeoff_within_12_mths        167111 non-null  int64  \n",
      " 51  mo_sin_old_il_acct              162889 non-null  float64\n",
      " 52  mo_sin_old_rev_tl_op            167111 non-null  int64  \n",
      " 53  mo_sin_rcnt_rev_tl_op           167111 non-null  int64  \n",
      " 54  mo_sin_rcnt_tl                  167111 non-null  int64  \n",
      " 55  mort_acc                        167111 non-null  int64  \n",
      " 56  mths_since_recent_bc            165450 non-null  float64\n",
      " 57  mths_since_recent_bc_dlq        43607 non-null   float64\n",
      " 58  mths_since_recent_inq           153205 non-null  float64\n",
      " 59  mths_since_recent_revol_delinq  60232 non-null   float64\n",
      " 60  num_accts_ever_120_pd           167111 non-null  int64  \n",
      " 61  num_actv_bc_tl                  167111 non-null  int64  \n",
      " 62  num_actv_rev_tl                 167111 non-null  int64  \n",
      " 63  num_bc_sats                     167111 non-null  int64  \n",
      " 64  num_bc_tl                       167111 non-null  int64  \n",
      " 65  num_il_tl                       167111 non-null  int64  \n",
      " 66  num_op_rev_tl                   167111 non-null  int64  \n",
      " 67  num_rev_accts                   167110 non-null  float64\n",
      " 68  num_rev_tl_bal_gt_0             167111 non-null  int64  \n",
      " 69  num_sats                        167111 non-null  int64  \n",
      " 70  num_tl_120dpd_2m                159398 non-null  float64\n",
      " 71  num_tl_30dpd                    167111 non-null  int64  \n",
      " 72  num_tl_90g_dpd_24m              167111 non-null  int64  \n",
      " 73  num_tl_op_past_12m              167111 non-null  int64  \n",
      " 74  pct_tl_nvr_dlq                  167111 non-null  float64\n",
      " 75  percent_bc_gt_75                165252 non-null  float64\n",
      " 76  pub_rec_bankruptcies            167111 non-null  int64  \n",
      " 77  tax_liens                       167111 non-null  int64  \n",
      " 78  tot_hi_cred_lim                 167111 non-null  int64  \n",
      " 79  total_bal_ex_mort               167111 non-null  int64  \n",
      " 80  total_bc_limit                  167111 non-null  int64  \n",
      " 81  total_il_high_credit_limit      167111 non-null  int64  \n",
      "dtypes: float64(33), int64(41), object(8)\n",
      "memory usage: 105.8+ MB\n"
     ]
    }
   ],
   "source": [
    "data.info()"
   ]
  },
  {
   "cell_type": "code",
   "execution_count": 45,
   "id": "furnished-suite",
   "metadata": {},
   "outputs": [],
   "source": [
    "drop = ['last_credit_pull_d', 'application_type', 'issue_d', 'id']\n",
    "data = data.drop(drop, axis=1)"
   ]
  },
  {
   "cell_type": "code",
   "execution_count": 46,
   "id": "attractive-agriculture",
   "metadata": {},
   "outputs": [],
   "source": [
    "X = data.drop('loan_status', axis=1)\n",
    "y = data['loan_status']"
   ]
  },
  {
   "cell_type": "code",
   "execution_count": 48,
   "id": "fuzzy-title",
   "metadata": {},
   "outputs": [],
   "source": [
    "X.fillna(value=0.0, inplace=True)"
   ]
  },
  {
   "cell_type": "code",
   "execution_count": 51,
   "id": "insured-climate",
   "metadata": {},
   "outputs": [],
   "source": [
    "y = y.apply(lambda x: 1 if x=='Charged Off' else 0)"
   ]
  },
  {
   "cell_type": "code",
   "execution_count": 53,
   "id": "eleven-noise",
   "metadata": {},
   "outputs": [],
   "source": [
    "dummies = ['sub_grade', 'verification_status', 'purpose','home_ownership']\n",
    "X = pd.get_dummies(X, columns=dummies, drop_first=True)"
   ]
  },
  {
   "cell_type": "code",
   "execution_count": null,
   "id": "annoying-toilet",
   "metadata": {},
   "outputs": [],
   "source": [
    "# data['earliest_cr_line'] = data.earliest_cr_line.str.split('-', expand=True)[1]"
   ]
  },
  {
   "cell_type": "code",
   "execution_count": 29,
   "id": "liquid-motor",
   "metadata": {},
   "outputs": [],
   "source": [
    "data = data[X_columns]"
   ]
  },
  {
   "cell_type": "code",
   "execution_count": 54,
   "id": "spatial-complement",
   "metadata": {},
   "outputs": [],
   "source": [
    "from sklearn.model_selection import train_test_split\n",
    "from sklearn.ensemble import RandomForestClassifier\n",
    "from sklearn.ensemble import GradientBoostingClassifier\n",
    "\n",
    "from sklearn.metrics import recall_score, precision_score"
   ]
  },
  {
   "cell_type": "code",
   "execution_count": 55,
   "id": "continuous-gender",
   "metadata": {},
   "outputs": [],
   "source": [
    "X_train, X_test, y_train, y_test = train_test_split(X,y)"
   ]
  },
  {
   "cell_type": "code",
   "execution_count": 56,
   "id": "unable-virgin",
   "metadata": {},
   "outputs": [
    {
     "name": "stdout",
     "output_type": "stream",
     "text": [
      "Recall: 0.9019996397045578\n",
      "Precision: 0.8921158129175947\n"
     ]
    }
   ],
   "source": [
    "rf_model = RandomForestClassifier()\n",
    "rf_model.fit(X_train, y_train)\n",
    "recall = recall_score(y_test, rf_model.predict(X_test))\n",
    "precision = precision_score(y_test, rf_model.predict(X_test))\n",
    "print(f'Recall: {recall}\\nPrecision: {precision}')"
   ]
  },
  {
   "cell_type": "code",
   "execution_count": 58,
   "id": "charged-aberdeen",
   "metadata": {},
   "outputs": [
    {
     "name": "stdout",
     "output_type": "stream",
     "text": [
      "Recall: 0.9019996397045578\n",
      "Precision: 0.8921158129175947\n"
     ]
    }
   ],
   "source": [
    "gb_model = GradientBoostingClassifier()\n",
    "gb_model.fit(X_train, y_train)\n",
    "recall = recall_score(y_test, rf_model.predict(X_test))\n",
    "precision = precision_score(y_test, rf_model.predict(X_test))\n",
    "print(f'Recall: {recall}\\nPrecision: {precision}')"
   ]
  },
  {
   "cell_type": "code",
   "execution_count": 59,
   "id": "statutory-southeast",
   "metadata": {},
   "outputs": [],
   "source": [
    "def calculate_threshold_values(prob, y):\n",
    "    '''\n",
    "    Build dataframe of the various confusion-matrix ratios by threshold\n",
    "    from a list of predicted probabilities and actual y values\n",
    "    '''\n",
    "    df = pd.DataFrame({'prob': prob, 'y': y})\n",
    "    df.sort_values('prob', inplace=True)\n",
    "    \n",
    "    actual_p = df.y.sum()\n",
    "    actual_n = df.shape[0] - df.y.sum()\n",
    "\n",
    "    df['tn'] = (df.y == 0).cumsum()\n",
    "    df['fn'] = df.y.cumsum()\n",
    "    df['fp'] = actual_n - df.tn\n",
    "    df['tp'] = actual_p - df.fn\n",
    "\n",
    "    df['fpr'] = df.fp/(df.fp + df.tn)\n",
    "    df['tpr'] = df.tp/(df.tp + df.fn)\n",
    "    df['precision'] = df.tp/(df.tp + df.fp)\n",
    "    df = df.reset_index(drop=True)\n",
    "    return df\n",
    "    \n",
    "def plot_roc(ax, df):\n",
    "    ax.plot([1]+list(df.fpr), [1]+list(df.tpr), label=\"ROC\")\n",
    "    ax.plot([0,1],[0,1], 'k', label=\"random\")\n",
    "    ax.set_xlabel('fpr')\n",
    "    ax.set_ylabel('tpr')\n",
    "    ax.set_title('ROC Curve')\n",
    "    ax.legend()\n",
    "    \n",
    "def plot_precision_recall(ax, df):\n",
    "    ax.plot(df.tpr,df.precision, label='precision/recall')\n",
    "    #ax.plot([0,1],[0,1], 'k')\n",
    "    ax.set_xlabel('recall')\n",
    "    ax.set_ylabel('precision')\n",
    "    ax.set_title('Precision/Recall Curve')\n",
    "    ax.plot([0,1],[df.precision[0],df.precision[0]], 'k', label='random')\n",
    "    ax.set_xlim(left=0,right=1)\n",
    "    ax.set_ylim(bottom=0,top=1)"
   ]
  },
  {
   "cell_type": "code",
   "execution_count": 60,
   "id": "ceramic-cache",
   "metadata": {},
   "outputs": [
    {
     "data": {
      "image/png": "[encoded data removed]",
      "text/plain": [
       "<Figure size 864x432 with 2 Axes>"
      ]
     },
     "metadata": {
      "needs_background": "light"
     },
     "output_type": "display_data"
    }
   ],
   "source": [
    "fig, (ax0, ax1) = plt.subplots(1,2, figsize=(12,6))\n",
    "df = calculate_threshold_values(rf_model.predict_proba(X_test)[:,1], y_test)\n",
    "plot_roc(ax0, df)\n",
    "plot_precision_recall(ax1, df)"
   ]
  },
  {
   "cell_type": "code",
   "execution_count": 61,
   "id": "joint-expansion",
   "metadata": {},
   "outputs": [],
   "source": [
    "probabilities = rf_model.predict_proba(X_test)[:,1]"
   ]
  },
  {
   "cell_type": "code",
   "execution_count": 62,
   "id": "bacterial-humanity",
   "metadata": {},
   "outputs": [
    {
     "data": {
      "image/png": "[encoded data removed]",
      "text/plain": [
       "<Figure size 432x288 with 1 Axes>"
      ]
     },
     "metadata": {
      "needs_background": "light"
     },
     "output_type": "display_data"
    }
   ],
   "source": [
    "fig, ax = plt.subplots()\n",
    "ax.hist(probabilities, bins=50);"
   ]
  },
  {
   "cell_type": "code",
   "execution_count": 63,
   "id": "likely-qualification",
   "metadata": {},
   "outputs": [
    {
     "data": {
      "text/plain": [
       "11225"
      ]
     },
     "execution_count": 63,
     "metadata": {},
     "output_type": "execute_result"
    }
   ],
   "source": [
    "(probabilities > .5).sum()"
   ]
  },
  {
   "cell_type": "code",
   "execution_count": 64,
   "id": "treated-raleigh",
   "metadata": {},
   "outputs": [
    {
     "data": {
      "text/plain": [
       "44142"
      ]
     },
     "execution_count": 64,
     "metadata": {},
     "output_type": "execute_result"
    }
   ],
   "source": [
    "y.sum()"
   ]
  },
  {
   "cell_type": "code",
   "execution_count": 65,
   "id": "distinct-creator",
   "metadata": {},
   "outputs": [
    {
     "name": "stderr",
     "output_type": "stream",
     "text": [
      "<ipython-input-65-6ed33272057a>:13: RuntimeWarning: invalid value encountered in long_scalars\n",
      "  p = c[1][1]/(c[1][1]+c[1][0])\n"
     ]
    }
   ],
   "source": [
    "threshold = np.linspace(0,1,50)\n",
    "yhat = rf_model.predict_proba(X_test)[:,1]\n",
    "\n",
    "recall = []\n",
    "precision = []\n",
    "for t in threshold:\n",
    "    c = pd.crosstab(pd.Categorical(y_test, categories=[0,1]), \n",
    "                    pd.Categorical(yhat>t, categories=[0,1]), \n",
    "                    rownames=['actual'], \n",
    "                    colnames=['predicted'],\n",
    "                    dropna=False)\n",
    "    r = c[1][1]/(c[1][1]+c[0][1])\n",
    "    p = c[1][1]/(c[1][1]+c[1][0])\n",
    "    recall.append(r)\n",
    "    precision.append(p)"
   ]
  },
  {
   "cell_type": "code",
   "execution_count": 66,
   "id": "small-lighter",
   "metadata": {},
   "outputs": [
    {
     "data": {
      "image/png": "[encoded data removed]",
      "text/plain": [
       "<Figure size 720x576 with 1 Axes>"
      ]
     },
     "metadata": {
      "needs_background": "light"
     },
     "output_type": "display_data"
    }
   ],
   "source": [
    "fig, ax = plt.subplots(figsize=(10,8))\n",
    "\n",
    "ax.plot(threshold, recall, label='recall')\n",
    "ax.plot(threshold, precision, label='precision')\n",
    "# ax.vlines([.08, .85], 0,1, linestyles='--', colors='green')\n",
    "ax.legend()\n",
    "ax.set_xlabel('Threshold')\n",
    "ax.set_ylabel('Score')\n",
    "ax.set_title('Change in Precision and Recall for Thresholds')\n",
    "plt.show()"
   ]
  },
  {
   "cell_type": "code",
   "execution_count": 68,
   "id": "laden-plant",
   "metadata": {
    "scrolled": false
   },
   "outputs": [
    {
     "name": "stdout",
     "output_type": "stream",
     "text": [
      "<class 'pandas.core.frame.DataFrame'>\n",
      "Int64Index: 167111 entries, 2 to 421094\n",
      "Data columns (total 79 columns):\n",
      " #   Column                          Non-Null Count   Dtype  \n",
      "---  ------                          --------------   -----  \n",
      " 0   id                              167111 non-null  int64  \n",
      " 1   loan_amnt                       167111 non-null  int64  \n",
      " 2   funded_amnt                     167111 non-null  int64  \n",
      " 3   term                            167111 non-null  int64  \n",
      " 4   int_rate                        167111 non-null  float64\n",
      " 5   installment                     167111 non-null  float64\n",
      " 6   sub_grade                       167111 non-null  object \n",
      " 7   home_ownership                  167111 non-null  object \n",
      " 8   annual_inc                      167111 non-null  float64\n",
      " 9   verification_status             167111 non-null  object \n",
      " 10  loan_status                     167111 non-null  object \n",
      " 11  purpose                         167111 non-null  object \n",
      " 12  dti                             167111 non-null  float64\n",
      " 13  delinq_2yrs                     167111 non-null  int64  \n",
      " 14  fico_range_low                  167111 non-null  int64  \n",
      " 15  inq_last_6mths                  167111 non-null  int64  \n",
      " 16  mths_since_last_delinq          86269 non-null   float64\n",
      " 17  mths_since_last_record          32166 non-null   float64\n",
      " 18  open_acc                        167111 non-null  int64  \n",
      " 19  pub_rec                         167111 non-null  int64  \n",
      " 20  revol_bal                       167111 non-null  int64  \n",
      " 21  revol_util                      167036 non-null  float64\n",
      " 22  total_acc                       167111 non-null  int64  \n",
      " 23  last_fico_range_high            167111 non-null  int64  \n",
      " 24  last_fico_range_low             167111 non-null  int64  \n",
      " 25  collections_12_mths_ex_med      167111 non-null  int64  \n",
      " 26  mths_since_last_major_derog     50482 non-null   float64\n",
      " 27  policy_code                     167111 non-null  int64  \n",
      " 28  open_acc_6m                     6460 non-null    float64\n",
      " 29  open_il_6m                      6460 non-null    float64\n",
      " 30  open_il_12m                     6460 non-null    float64\n",
      " 31  open_il_24m                     6460 non-null    float64\n",
      " 32  mths_since_rcnt_il              6316 non-null    float64\n",
      " 33  total_bal_il                    6460 non-null    float64\n",
      " 34  il_util                         5677 non-null    float64\n",
      " 35  open_rv_12m                     6460 non-null    float64\n",
      " 36  open_rv_24m                     6460 non-null    float64\n",
      " 37  max_bal_bc                      6460 non-null    float64\n",
      " 38  all_util                        6460 non-null    float64\n",
      " 39  total_rev_hi_lim                167111 non-null  int64  \n",
      " 40  inq_fi                          6460 non-null    float64\n",
      " 41  total_cu_tl                     6460 non-null    float64\n",
      " 42  inq_last_12m                    6460 non-null    float64\n",
      " 43  acc_open_past_24mths            167111 non-null  int64  \n",
      " 44  avg_cur_bal                     167111 non-null  int64  \n",
      " 45  bc_open_to_buy                  165372 non-null  float64\n",
      " 46  bc_util                         165260 non-null  float64\n",
      " 47  chargeoff_within_12_mths        167111 non-null  int64  \n",
      " 48  mo_sin_old_il_acct              162889 non-null  float64\n",
      " 49  mo_sin_old_rev_tl_op            167111 non-null  int64  \n",
      " 50  mo_sin_rcnt_rev_tl_op           167111 non-null  int64  \n",
      " 51  mo_sin_rcnt_tl                  167111 non-null  int64  \n",
      " 52  mort_acc                        167111 non-null  int64  \n",
      " 53  mths_since_recent_bc            165450 non-null  float64\n",
      " 54  mths_since_recent_bc_dlq        43607 non-null   float64\n",
      " 55  mths_since_recent_inq           153205 non-null  float64\n",
      " 56  mths_since_recent_revol_delinq  60232 non-null   float64\n",
      " 57  num_accts_ever_120_pd           167111 non-null  int64  \n",
      " 58  num_actv_bc_tl                  167111 non-null  int64  \n",
      " 59  num_actv_rev_tl                 167111 non-null  int64  \n",
      " 60  num_bc_sats                     167111 non-null  int64  \n",
      " 61  num_bc_tl                       167111 non-null  int64  \n",
      " 62  num_il_tl                       167111 non-null  int64  \n",
      " 63  num_op_rev_tl                   167111 non-null  int64  \n",
      " 64  num_rev_accts                   167110 non-null  float64\n",
      " 65  num_rev_tl_bal_gt_0             167111 non-null  int64  \n",
      " 66  num_sats                        167111 non-null  int64  \n",
      " 67  num_tl_120dpd_2m                159398 non-null  float64\n",
      " 68  num_tl_30dpd                    167111 non-null  int64  \n",
      " 69  num_tl_90g_dpd_24m              167111 non-null  int64  \n",
      " 70  num_tl_op_past_12m              167111 non-null  int64  \n",
      " 71  pct_tl_nvr_dlq                  167111 non-null  float64\n",
      " 72  percent_bc_gt_75                165252 non-null  float64\n",
      " 73  pub_rec_bankruptcies            167111 non-null  int64  \n",
      " 74  tax_liens                       167111 non-null  int64  \n",
      " 75  tot_hi_cred_lim                 167111 non-null  int64  \n",
      " 76  total_bal_ex_mort               167111 non-null  int64  \n",
      " 77  total_bc_limit                  167111 non-null  int64  \n",
      " 78  total_il_high_credit_limit      167111 non-null  int64  \n",
      "dtypes: float64(33), int64(41), object(5)\n",
      "memory usage: 102.0+ MB\n"
     ]
    }
   ],
   "source": [
    "data.info()"
   ]
  },
  {
   "cell_type": "code",
   "execution_count": null,
   "id": "employed-profit",
   "metadata": {},
   "outputs": [],
   "source": []
  }
 ],
 "metadata": {
  "kernelspec": {
   "display_name": "Python 3",
   "language": "python",
   "name": "python3"
  },
  "language_info": {
   "codemirror_mode": {
    "name": "ipython",
    "version": 3
   },
   "file_extension": ".py",
   "mimetype": "text/x-python",
   "name": "python",
   "nbconvert_exporter": "python",
   "pygments_lexer": "ipython3",
   "version": "3.8.8"
  }
 },
 "nbformat": 4,
 "nbformat_minor": 5
}
