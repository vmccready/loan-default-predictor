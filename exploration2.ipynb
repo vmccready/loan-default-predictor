{
 "cells": [
  {
   "cell_type": "code",
   "execution_count": 1,
   "id": "assigned-acceptance",
   "metadata": {},
   "outputs": [],
   "source": [
    "import numpy as np\n",
    "import pandas as pd\n",
    "import matplotlib.pyplot as plt\n",
    "import re\n",
    "\n",
    "from glob import iglob"
   ]
  },
  {
   "cell_type": "code",
   "execution_count": 2,
   "id": "alternative-outside",
   "metadata": {},
   "outputs": [],
   "source": [
    "dfs = []\n",
    "\n",
    "# Read all files into dataframes\n",
    "for f in iglob('data/raw/' + '*.csv'):\n",
    "    temp_df = pd.read_csv(f, skiprows=[0], low_memory=False)\n",
    "    dfs.append(temp_df)"
   ]
  },
  {
   "cell_type": "code",
   "execution_count": 3,
   "id": "laughing-spank",
   "metadata": {},
   "outputs": [],
   "source": [
    "# Get the columns that are consistent in all years\n",
    "dropped_cols = []\n",
    "cols = list(dfs[0].columns)\n",
    "for i in range(1,len(dfs)):\n",
    "    column_difference = set(cols).difference(set(dfs[i].columns))\n",
    "    for c in column_difference:\n",
    "        cols.remove(c)\n",
    "        dropped_cols.append(c)"
   ]
  },
  {
   "cell_type": "code",
   "execution_count": 4,
   "id": "healthy-latest",
   "metadata": {},
   "outputs": [
    {
     "data": {
      "text/plain": [
       "['hardship_start_date',\n",
       " 'debt_settlement_flag',\n",
       " 'hardship_loan_status',\n",
       " 'hardship_last_payment_amount',\n",
       " 'debt_settlement_flag_date',\n",
       " 'hardship_end_date',\n",
       " 'orig_projected_additional_accrued_interest',\n",
       " 'settlement_status',\n",
       " 'payment_plan_start_date',\n",
       " 'deferral_term',\n",
       " 'open_act_il',\n",
       " 'hardship_status',\n",
       " 'hardship_amount',\n",
       " 'hardship_reason',\n",
       " 'hardship_payoff_balance_amount',\n",
       " 'settlement_amount',\n",
       " 'settlement_term',\n",
       " 'sec_app_open_act_il',\n",
       " 'hardship_dpd',\n",
       " 'settlement_date',\n",
       " 'hardship_type',\n",
       " 'disbursement_method',\n",
       " 'hardship_length',\n",
       " 'hardship_flag',\n",
       " 'settlement_percentage']"
      ]
     },
     "execution_count": 4,
     "metadata": {},
     "output_type": "execute_result"
    }
   ],
   "source": [
    "dropped_cols"
   ]
  },
  {
   "cell_type": "code",
   "execution_count": 317,
   "id": "representative-milwaukee",
   "metadata": {},
   "outputs": [],
   "source": [
    "data = dfs[0][cols]\n",
    "for i in range(1, len(dfs)):\n",
    "    data = data.append(dfs[i][cols])"
   ]
  },
  {
   "cell_type": "code",
   "execution_count": 318,
   "id": "activated-offer",
   "metadata": {},
   "outputs": [],
   "source": [
    "data = data.reset_index(drop=True)"
   ]
  },
  {
   "cell_type": "code",
   "execution_count": 2,
   "id": "humanitarian-floating",
   "metadata": {},
   "outputs": [],
   "source": [
    "# data for 2015: 128 columns\n",
    "# data = pd.read_csv('data/raw/LoanStats3d_securev1.csv',skiprows=[0], low_memory=False)"
   ]
  },
  {
   "cell_type": "code",
   "execution_count": 319,
   "id": "needed-smith",
   "metadata": {
    "scrolled": true
   },
   "outputs": [
    {
     "data": {
      "text/html": [
       "<div>\n",
       "<style scoped>\n",
       "    .dataframe tbody tr th:only-of-type {\n",
       "        vertical-align: middle;\n",
       "    }\n",
       "\n",
       "    .dataframe tbody tr th {\n",
       "        vertical-align: top;\n",
       "    }\n",
       "\n",
       "    .dataframe thead th {\n",
       "        text-align: right;\n",
       "    }\n",
       "</style>\n",
       "<table border=\"1\" class=\"dataframe\">\n",
       "  <thead>\n",
       "    <tr style=\"text-align: right;\">\n",
       "      <th></th>\n",
       "      <th>id</th>\n",
       "      <th>member_id</th>\n",
       "      <th>loan_amnt</th>\n",
       "      <th>funded_amnt</th>\n",
       "      <th>funded_amnt_inv</th>\n",
       "      <th>term</th>\n",
       "      <th>int_rate</th>\n",
       "      <th>installment</th>\n",
       "      <th>grade</th>\n",
       "      <th>sub_grade</th>\n",
       "      <th>...</th>\n",
       "      <th>sec_app_fico_range_high</th>\n",
       "      <th>sec_app_earliest_cr_line</th>\n",
       "      <th>sec_app_inq_last_6mths</th>\n",
       "      <th>sec_app_mort_acc</th>\n",
       "      <th>sec_app_open_acc</th>\n",
       "      <th>sec_app_revol_util</th>\n",
       "      <th>sec_app_num_rev_accts</th>\n",
       "      <th>sec_app_chargeoff_within_12_mths</th>\n",
       "      <th>sec_app_collections_12_mths_ex_med</th>\n",
       "      <th>sec_app_mths_since_last_major_derog</th>\n",
       "    </tr>\n",
       "  </thead>\n",
       "  <tbody>\n",
       "    <tr>\n",
       "      <th>0</th>\n",
       "      <td>145217616</td>\n",
       "      <td>NaN</td>\n",
       "      <td>10000</td>\n",
       "      <td>10000</td>\n",
       "      <td>10000.0</td>\n",
       "      <td>36 months</td>\n",
       "      <td>10.33%</td>\n",
       "      <td>324.23</td>\n",
       "      <td>B</td>\n",
       "      <td>B1</td>\n",
       "      <td>...</td>\n",
       "      <td>NaN</td>\n",
       "      <td>NaN</td>\n",
       "      <td>NaN</td>\n",
       "      <td>NaN</td>\n",
       "      <td>NaN</td>\n",
       "      <td>NaN</td>\n",
       "      <td>NaN</td>\n",
       "      <td>NaN</td>\n",
       "      <td>NaN</td>\n",
       "      <td>NaN</td>\n",
       "    </tr>\n",
       "    <tr>\n",
       "      <th>1</th>\n",
       "      <td>145640422</td>\n",
       "      <td>NaN</td>\n",
       "      <td>2500</td>\n",
       "      <td>2500</td>\n",
       "      <td>2500.0</td>\n",
       "      <td>36 months</td>\n",
       "      <td>13.56%</td>\n",
       "      <td>84.92</td>\n",
       "      <td>C</td>\n",
       "      <td>C1</td>\n",
       "      <td>...</td>\n",
       "      <td>NaN</td>\n",
       "      <td>NaN</td>\n",
       "      <td>NaN</td>\n",
       "      <td>NaN</td>\n",
       "      <td>NaN</td>\n",
       "      <td>NaN</td>\n",
       "      <td>NaN</td>\n",
       "      <td>NaN</td>\n",
       "      <td>NaN</td>\n",
       "      <td>NaN</td>\n",
       "    </tr>\n",
       "    <tr>\n",
       "      <th>2</th>\n",
       "      <td>145630143</td>\n",
       "      <td>NaN</td>\n",
       "      <td>12000</td>\n",
       "      <td>12000</td>\n",
       "      <td>12000.0</td>\n",
       "      <td>60 months</td>\n",
       "      <td>13.56%</td>\n",
       "      <td>276.49</td>\n",
       "      <td>C</td>\n",
       "      <td>C1</td>\n",
       "      <td>...</td>\n",
       "      <td>NaN</td>\n",
       "      <td>NaN</td>\n",
       "      <td>NaN</td>\n",
       "      <td>NaN</td>\n",
       "      <td>NaN</td>\n",
       "      <td>NaN</td>\n",
       "      <td>NaN</td>\n",
       "      <td>NaN</td>\n",
       "      <td>NaN</td>\n",
       "      <td>NaN</td>\n",
       "    </tr>\n",
       "    <tr>\n",
       "      <th>3</th>\n",
       "      <td>145127870</td>\n",
       "      <td>NaN</td>\n",
       "      <td>15000</td>\n",
       "      <td>15000</td>\n",
       "      <td>14975.0</td>\n",
       "      <td>60 months</td>\n",
       "      <td>14.47%</td>\n",
       "      <td>352.69</td>\n",
       "      <td>C</td>\n",
       "      <td>C2</td>\n",
       "      <td>...</td>\n",
       "      <td>664.0</td>\n",
       "      <td>Oct-99</td>\n",
       "      <td>0.0</td>\n",
       "      <td>0.0</td>\n",
       "      <td>16.0</td>\n",
       "      <td>48.8</td>\n",
       "      <td>15.0</td>\n",
       "      <td>0.0</td>\n",
       "      <td>0.0</td>\n",
       "      <td>NaN</td>\n",
       "    </tr>\n",
       "    <tr>\n",
       "      <th>4</th>\n",
       "      <td>145558466</td>\n",
       "      <td>NaN</td>\n",
       "      <td>16000</td>\n",
       "      <td>16000</td>\n",
       "      <td>16000.0</td>\n",
       "      <td>60 months</td>\n",
       "      <td>17.97%</td>\n",
       "      <td>406.04</td>\n",
       "      <td>D</td>\n",
       "      <td>D1</td>\n",
       "      <td>...</td>\n",
       "      <td>NaN</td>\n",
       "      <td>NaN</td>\n",
       "      <td>NaN</td>\n",
       "      <td>NaN</td>\n",
       "      <td>NaN</td>\n",
       "      <td>NaN</td>\n",
       "      <td>NaN</td>\n",
       "      <td>NaN</td>\n",
       "      <td>NaN</td>\n",
       "      <td>NaN</td>\n",
       "    </tr>\n",
       "  </tbody>\n",
       "</table>\n",
       "<p>5 rows × 126 columns</p>\n",
       "</div>"
      ],
      "text/plain": [
       "          id  member_id  loan_amnt  funded_amnt  funded_amnt_inv        term  \\\n",
       "0  145217616        NaN      10000        10000          10000.0   36 months   \n",
       "1  145640422        NaN       2500         2500           2500.0   36 months   \n",
       "2  145630143        NaN      12000        12000          12000.0   60 months   \n",
       "3  145127870        NaN      15000        15000          14975.0   60 months   \n",
       "4  145558466        NaN      16000        16000          16000.0   60 months   \n",
       "\n",
       "  int_rate  installment grade sub_grade  ... sec_app_fico_range_high  \\\n",
       "0   10.33%       324.23     B        B1  ...                     NaN   \n",
       "1   13.56%        84.92     C        C1  ...                     NaN   \n",
       "2   13.56%       276.49     C        C1  ...                     NaN   \n",
       "3   14.47%       352.69     C        C2  ...                   664.0   \n",
       "4   17.97%       406.04     D        D1  ...                     NaN   \n",
       "\n",
       "  sec_app_earliest_cr_line sec_app_inq_last_6mths  sec_app_mort_acc  \\\n",
       "0                      NaN                    NaN               NaN   \n",
       "1                      NaN                    NaN               NaN   \n",
       "2                      NaN                    NaN               NaN   \n",
       "3                   Oct-99                    0.0               0.0   \n",
       "4                      NaN                    NaN               NaN   \n",
       "\n",
       "  sec_app_open_acc sec_app_revol_util sec_app_num_rev_accts  \\\n",
       "0              NaN                NaN                   NaN   \n",
       "1              NaN                NaN                   NaN   \n",
       "2              NaN                NaN                   NaN   \n",
       "3             16.0               48.8                  15.0   \n",
       "4              NaN                NaN                   NaN   \n",
       "\n",
       "  sec_app_chargeoff_within_12_mths sec_app_collections_12_mths_ex_med  \\\n",
       "0                              NaN                                NaN   \n",
       "1                              NaN                                NaN   \n",
       "2                              NaN                                NaN   \n",
       "3                              0.0                                0.0   \n",
       "4                              NaN                                NaN   \n",
       "\n",
       "  sec_app_mths_since_last_major_derog  \n",
       "0                                 NaN  \n",
       "1                                 NaN  \n",
       "2                                 NaN  \n",
       "3                                 NaN  \n",
       "4                                 NaN  \n",
       "\n",
       "[5 rows x 126 columns]"
      ]
     },
     "execution_count": 319,
     "metadata": {},
     "output_type": "execute_result"
    }
   ],
   "source": [
    "data.head()"
   ]
  },
  {
   "cell_type": "code",
   "execution_count": 320,
   "id": "presidential-custody",
   "metadata": {},
   "outputs": [
    {
     "data": {
      "text/plain": [
       "Current               2086919\n",
       "Fully Paid             552459\n",
       "Charged Off            131231\n",
       "Late (31-120 days)      32304\n",
       "In Grace Period         22089\n",
       "Issued                  21294\n",
       "Late (16-30 days)        8147\n",
       "Default                    29\n",
       "Name: loan_status, dtype: int64"
      ]
     },
     "execution_count": 320,
     "metadata": {},
     "output_type": "execute_result"
    }
   ],
   "source": [
    "data['loan_status'].value_counts()"
   ]
  },
  {
   "cell_type": "code",
   "execution_count": 321,
   "id": "necessary-cliff",
   "metadata": {},
   "outputs": [],
   "source": [
    "data = data[data['loan_status'].str.lower().isin(['fully paid', 'charged off'])]"
   ]
  },
  {
   "cell_type": "code",
   "execution_count": 322,
   "id": "operating-pencil",
   "metadata": {},
   "outputs": [
    {
     "data": {
      "text/plain": [
       "INDIVIDUAL    595373\n",
       "Individual     77967\n",
       "Joint App       8214\n",
       "JOINT           1411\n",
       "DIRECT_PAY       725\n",
       "Name: application_type, dtype: int64"
      ]
     },
     "execution_count": 322,
     "metadata": {},
     "output_type": "execute_result"
    }
   ],
   "source": [
    "data['application_type'].value_counts()"
   ]
  },
  {
   "cell_type": "code",
   "execution_count": 323,
   "id": "communist-messenger",
   "metadata": {},
   "outputs": [],
   "source": [
    "data = data[data['application_type'].str.lower()=='individual']"
   ]
  },
  {
   "cell_type": "code",
   "execution_count": 324,
   "id": "sealed-hughes",
   "metadata": {},
   "outputs": [
    {
     "data": {
      "text/plain": [
       "673340"
      ]
     },
     "execution_count": 324,
     "metadata": {},
     "output_type": "execute_result"
    }
   ],
   "source": [
    "data.shape[0]"
   ]
  },
  {
   "cell_type": "code",
   "execution_count": 325,
   "id": "lesbian-stopping",
   "metadata": {},
   "outputs": [],
   "source": [
    "# (data['open_il_6m'][data['open_il_6m'].isnull() == False]).sum()"
   ]
  },
  {
   "cell_type": "code",
   "execution_count": 326,
   "id": "infrared-ridge",
   "metadata": {
    "scrolled": true
   },
   "outputs": [
    {
     "data": {
      "text/plain": [
       "member_id                              1.000000\n",
       "desc                                   0.864689\n",
       "mths_since_last_delinq                 0.515172\n",
       "mths_since_last_record                 0.838423\n",
       "next_pymnt_d                           1.000000\n",
       "mths_since_last_major_derog            0.743672\n",
       "annual_inc_joint                       1.000000\n",
       "dti_joint                              1.000000\n",
       "verification_status_joint              1.000000\n",
       "open_acc_6m                            0.752694\n",
       "open_il_12m                            0.752693\n",
       "open_il_24m                            0.752693\n",
       "mths_since_rcnt_il                     0.758284\n",
       "total_bal_il                           0.752693\n",
       "il_util                                0.786271\n",
       "open_rv_12m                            0.752693\n",
       "open_rv_24m                            0.752693\n",
       "max_bal_bc                             0.752693\n",
       "all_util                               0.752730\n",
       "inq_fi                                 0.752693\n",
       "total_cu_tl                            0.752694\n",
       "inq_last_12m                           0.752694\n",
       "mths_since_recent_bc_dlq               0.762184\n",
       "mths_since_recent_revol_delinq         0.665093\n",
       "revol_bal_joint                        1.000000\n",
       "sec_app_fico_range_low                 1.000000\n",
       "sec_app_fico_range_high                1.000000\n",
       "sec_app_earliest_cr_line               1.000000\n",
       "sec_app_inq_last_6mths                 1.000000\n",
       "sec_app_mort_acc                       1.000000\n",
       "sec_app_open_acc                       1.000000\n",
       "sec_app_revol_util                     1.000000\n",
       "sec_app_num_rev_accts                  1.000000\n",
       "sec_app_chargeoff_within_12_mths       1.000000\n",
       "sec_app_collections_12_mths_ex_med     1.000000\n",
       "sec_app_mths_since_last_major_derog    1.000000\n",
       "dtype: float64"
      ]
     },
     "execution_count": 326,
     "metadata": {},
     "output_type": "execute_result"
    }
   ],
   "source": [
    "# Columns with missing data\n",
    "\n",
    "data[data.columns[data.isnull().sum()/data.shape[0] > .2]].isnull().sum()/data.shape[0]"
   ]
  },
  {
   "cell_type": "code",
   "execution_count": 327,
   "id": "important-advancement",
   "metadata": {},
   "outputs": [],
   "source": [
    "drop = ['member_id', \n",
    "        'desc', 'next_pymnt_d', 'annual_inc_joint', 'dti_joint', 'verification_status_joint', \n",
    "        'revol_bal_joint', 'sec_app_fico_range_low', \n",
    "        'sec_app_fico_range_high',\n",
    "        'sec_app_earliest_cr_line', \n",
    "        'sec_app_inq_last_6mths',\n",
    "        'sec_app_mort_acc', \n",
    "        'sec_app_open_acc',\n",
    "        'sec_app_revol_util',\n",
    "#         'sec_app_open_il_6m', \n",
    "        'sec_app_num_rev_accts',\n",
    "        'sec_app_chargeoff_within_12_mths',\n",
    "        'sec_app_collections_12_mths_ex_med',\n",
    "        'sec_app_mths_since_last_major_derog',\n",
    "        'funded_amnt_inv', \n",
    "        'grade',\n",
    "        'emp_title', \n",
    "        'emp_length',\n",
    "        'pymnt_plan',\n",
    "        'url',\n",
    "        'title',\n",
    "        'zip_code',\n",
    "        'addr_state',\n",
    "        'earliest_cr_line',\n",
    "        'fico_range_high',\n",
    "        'initial_list_status',\n",
    "        'out_prncp',\n",
    "        'out_prncp_inv',\n",
    "        'total_pymnt',\n",
    "        'total_pymnt_inv',\n",
    "        'total_rec_prncp',\n",
    "        'total_rec_int',\n",
    "        'total_rec_late_fee',\n",
    "        'recoveries',\n",
    "        'collection_recovery_fee',\n",
    "        'last_credit_pull_d', \n",
    "        'last_pymnt_d',\n",
    "        'last_pymnt_amnt',\n",
    "        'next_pymnt_d',\n",
    "        'acc_now_delinq',\n",
    "        'tot_coll_amt',\n",
    "        'tot_cur_bal',\n",
    "        'delinq_amnt' \n",
    "       ]\n",
    "# data = data.drop(drop, axis=1)"
   ]
  },
  {
   "cell_type": "code",
   "execution_count": 328,
   "id": "cardiovascular-colorado",
   "metadata": {},
   "outputs": [
    {
     "data": {
      "text/plain": [
       "array(['credit_card', 'debt_consolidation', 'other', 'house',\n",
       "       'small_business', 'moving', 'home_improvement', 'car', 'vacation',\n",
       "       'medical', 'major_purchase', 'renewable_energy', 'wedding',\n",
       "       'educational'], dtype=object)"
      ]
     },
     "execution_count": 328,
     "metadata": {},
     "output_type": "execute_result"
    }
   ],
   "source": [
    "data.purpose.unique()"
   ]
  },
  {
   "cell_type": "code",
   "execution_count": 329,
   "id": "confused-differential",
   "metadata": {},
   "outputs": [
    {
     "data": {
      "text/plain": [
       "array([' 36 months', ' 60 months'], dtype=object)"
      ]
     },
     "execution_count": 329,
     "metadata": {},
     "output_type": "execute_result"
    }
   ],
   "source": [
    "data.term.unique()"
   ]
  },
  {
   "cell_type": "code",
   "execution_count": 330,
   "id": "valuable-operation",
   "metadata": {},
   "outputs": [],
   "source": [
    "terms = {' 60 months': 60, ' 36 months': 36}\n",
    "data['term'] = data['term'].apply(lambda x: terms[x])"
   ]
  },
  {
   "cell_type": "code",
   "execution_count": 331,
   "id": "expected-inquiry",
   "metadata": {},
   "outputs": [],
   "source": [
    "def convert_pct(x):\n",
    "    \"\"\"\n",
    "    Converts string with % to a float, handles 'None's.\n",
    "    \"\"\"\n",
    "    if x is None or pd.isnull(x):\n",
    "        return None\n",
    "    return float(re.sub('%', '', x))"
   ]
  },
  {
   "cell_type": "code",
   "execution_count": 332,
   "id": "secure-beatles",
   "metadata": {
    "scrolled": true
   },
   "outputs": [],
   "source": [
    "percent = ['revol_util', 'int_rate']\n",
    "for p in percent:\n",
    "    data[p] = data[p].apply(convert_pct)"
   ]
  },
  {
   "cell_type": "code",
   "execution_count": 333,
   "id": "efficient-pixel",
   "metadata": {},
   "outputs": [],
   "source": [
    "# Create year column\n",
    "\n",
    "def get_year(s):\n",
    "    m = re.search('\\d+', s)\n",
    "    return int(m[0])"
   ]
  },
  {
   "cell_type": "code",
   "execution_count": 334,
   "id": "listed-workplace",
   "metadata": {},
   "outputs": [],
   "source": [
    "data['year'] = data['issue_d'].apply(get_year)"
   ]
  },
  {
   "cell_type": "code",
   "execution_count": null,
   "id": "allied-melissa",
   "metadata": {},
   "outputs": [],
   "source": []
  },
  {
   "cell_type": "code",
   "execution_count": 201,
   "id": "warming-season",
   "metadata": {},
   "outputs": [
    {
     "name": "stdout",
     "output_type": "stream",
     "text": [
      "'inq_last_6mths': number of missing values '1' ==> '0.000%'\n",
      "'mths_since_last_delinq': number of missing values '346886' ==> '51.517%'\n",
      "'mths_since_last_record': number of missing values '564544' ==> '83.842%'\n",
      "'revol_util': number of missing values '434' ==> '0.064%'\n",
      "'mths_since_last_major_derog': number of missing values '500744' ==> '74.367%'\n",
      "'open_acc_6m': number of missing values '506819' ==> '75.269%'\n",
      "'open_il_12m': number of missing values '506818' ==> '75.269%'\n",
      "'open_il_24m': number of missing values '506818' ==> '75.269%'\n",
      "'mths_since_rcnt_il': number of missing values '510583' ==> '75.828%'\n",
      "'total_bal_il': number of missing values '506818' ==> '75.269%'\n",
      "'il_util': number of missing values '529428' ==> '78.627%'\n",
      "'open_rv_12m': number of missing values '506818' ==> '75.269%'\n",
      "'open_rv_24m': number of missing values '506818' ==> '75.269%'\n",
      "'max_bal_bc': number of missing values '506818' ==> '75.269%'\n",
      "'all_util': number of missing values '506843' ==> '75.273%'\n",
      "'total_rev_hi_lim': number of missing values '27444' ==> '4.076%'\n",
      "'inq_fi': number of missing values '506818' ==> '75.269%'\n",
      "'total_cu_tl': number of missing values '506819' ==> '75.269%'\n",
      "'inq_last_12m': number of missing values '506819' ==> '75.269%'\n",
      "'acc_open_past_24mths': number of missing values '7494' ==> '1.113%'\n",
      "'avg_cur_bal': number of missing values '27463' ==> '4.079%'\n",
      "'bc_open_to_buy': number of missing values '14570' ==> '2.164%'\n",
      "'bc_util': number of missing values '15001' ==> '2.228%'\n",
      "'mo_sin_old_il_acct': number of missing values '46286' ==> '6.874%'\n",
      "'mo_sin_old_rev_tl_op': number of missing values '27445' ==> '4.076%'\n",
      "'mo_sin_rcnt_rev_tl_op': number of missing values '27445' ==> '4.076%'\n",
      "'mo_sin_rcnt_tl': number of missing values '27444' ==> '4.076%'\n",
      "'mort_acc': number of missing values '7494' ==> '1.113%'\n",
      "'mths_since_recent_bc': number of missing values '14016' ==> '2.082%'\n",
      "'mths_since_recent_bc_dlq': number of missing values '513209' ==> '76.218%'\n",
      "'mths_since_recent_inq': number of missing values '66954' ==> '9.944%'\n",
      "'mths_since_recent_revol_delinq': number of missing values '447834' ==> '66.509%'\n",
      "'num_accts_ever_120_pd': number of missing values '27444' ==> '4.076%'\n",
      "'num_actv_bc_tl': number of missing values '27444' ==> '4.076%'\n",
      "'num_actv_rev_tl': number of missing values '27444' ==> '4.076%'\n",
      "'num_bc_sats': number of missing values '16039' ==> '2.382%'\n",
      "'num_bc_tl': number of missing values '27444' ==> '4.076%'\n",
      "'num_il_tl': number of missing values '27444' ==> '4.076%'\n",
      "'num_op_rev_tl': number of missing values '27444' ==> '4.076%'\n",
      "'num_rev_accts': number of missing values '27445' ==> '4.076%'\n",
      "'num_rev_tl_bal_gt_0': number of missing values '27444' ==> '4.076%'\n",
      "'num_sats': number of missing values '16039' ==> '2.382%'\n",
      "'num_tl_120dpd_2m': number of missing values '48428' ==> '7.192%'\n",
      "'num_tl_30dpd': number of missing values '27444' ==> '4.076%'\n",
      "'num_tl_90g_dpd_24m': number of missing values '27444' ==> '4.076%'\n",
      "'num_tl_op_past_12m': number of missing values '27444' ==> '4.076%'\n",
      "'pct_tl_nvr_dlq': number of missing values '27576' ==> '4.095%'\n",
      "'percent_bc_gt_75': number of missing values '14796' ==> '2.197%'\n",
      "'tot_hi_cred_lim': number of missing values '27444' ==> '4.076%'\n",
      "'total_bal_ex_mort': number of missing values '7494' ==> '1.113%'\n",
      "'total_bc_limit': number of missing values '7494' ==> '1.113%'\n",
      "'total_il_high_credit_limit': number of missing values '27444' ==> '4.076%'\n"
     ]
    }
   ],
   "source": [
    "# Missing values\n",
    "for column in data.columns:\n",
    "    if data[column].isna().sum() != 0:\n",
    "        missing = data[column].isna().sum()\n",
    "        portion = (missing / data.shape[0]) * 100\n",
    "        print(f\"'{column}': number of missing values '{missing}' ==> '{portion:.3f}%'\")"
   ]
  },
  {
   "cell_type": "code",
   "execution_count": 153,
   "id": "objective-battle",
   "metadata": {},
   "outputs": [
    {
     "data": {
      "text/plain": [
       "<AxesSubplot:>"
      ]
     },
     "execution_count": 153,
     "metadata": {},
     "output_type": "execute_result"
    },
    {
     "data": {
      "image/png": "[encoded data removed]",
      "text/plain": [
       "<Figure size 432x288 with 1 Axes>"
      ]
     },
     "metadata": {
      "needs_background": "light"
     },
     "output_type": "display_data"
    }
   ],
   "source": [
    "fig, ax = plt.subplots()\n",
    "\n",
    "data[data['mths_since_last_major_derog'].isna()]['loan_status'].hist(ax = ax, alpha=.5, color='blue')\n",
    "data[~data['mths_since_last_major_derog'].isna()]['loan_status'].hist(ax = ax, alpha=.5, color='green')"
   ]
  },
  {
   "cell_type": "code",
   "execution_count": 154,
   "id": "derived-cookie",
   "metadata": {},
   "outputs": [
    {
     "data": {
      "text/plain": [
       "<AxesSubplot:>"
      ]
     },
     "execution_count": 154,
     "metadata": {},
     "output_type": "execute_result"
    },
    {
     "data": {
      "image/png": "[encoded data removed]",
      "text/plain": [
       "<Figure size 432x288 with 1 Axes>"
      ]
     },
     "metadata": {
      "needs_background": "light"
     },
     "output_type": "display_data"
    }
   ],
   "source": [
    "data['mths_since_last_major_derog'].hist(bins = 50)"
   ]
  },
  {
   "cell_type": "code",
   "execution_count": 196,
   "id": "working-bloom",
   "metadata": {},
   "outputs": [
    {
     "data": {
      "text/plain": [
       "array([18, 13, 12, 14, 15, 20, 19, 17, 16])"
      ]
     },
     "execution_count": 196,
     "metadata": {},
     "output_type": "execute_result"
    }
   ],
   "source": [
    "# Create Test and Validation Set\n",
    "\n",
    "data['year'].unique()"
   ]
  },
  {
   "cell_type": "code",
   "execution_count": 228,
   "id": "severe-error",
   "metadata": {},
   "outputs": [
    {
     "data": {
      "text/plain": [
       "<BarContainer object of 9 artists>"
      ]
     },
     "execution_count": 228,
     "metadata": {},
     "output_type": "execute_result"
    },
    {
     "data": {
      "image/png": "[encoded data removed]",
      "text/plain": [
       "<Figure size 432x288 with 1 Axes>"
      ]
     },
     "metadata": {
      "needs_background": "light"
     },
     "output_type": "display_data"
    }
   ],
   "source": [
    "fig, ax = plt.subplots()\n",
    "\n",
    "ax.bar(data['year'].value_counts().index,data['year'].value_counts() )"
   ]
  },
  {
   "cell_type": "code",
   "execution_count": 400,
   "id": "sufficient-entrepreneur",
   "metadata": {},
   "outputs": [
    {
     "data": {
      "text/plain": [
       "0.23773873526004694"
      ]
     },
     "execution_count": 400,
     "metadata": {},
     "output_type": "execute_result"
    }
   ],
   "source": [
    "(data['year'] >= 16).sum()/data.shape[0]"
   ]
  },
  {
   "cell_type": "code",
   "execution_count": 233,
   "id": "common-alliance",
   "metadata": {},
   "outputs": [
    {
     "data": {
      "text/plain": [
       "0.08287779507415319"
      ]
     },
     "execution_count": 233,
     "metadata": {},
     "output_type": "execute_result"
    }
   ],
   "source": [
    "(data[data['year'] >= 17]['loan_status']=='Charged Off').sum()/data[data['year'] >= 17].shape[0]"
   ]
  },
  {
   "cell_type": "code",
   "execution_count": 234,
   "id": "pressed-sweet",
   "metadata": {},
   "outputs": [
    {
     "data": {
      "text/plain": [
       "0.2085436880049994"
      ]
     },
     "execution_count": 234,
     "metadata": {},
     "output_type": "execute_result"
    }
   ],
   "source": [
    "(data[data['year'] < 17]['loan_status']=='Charged Off').sum()/data[data['year'] < 17].shape[0]"
   ]
  },
  {
   "cell_type": "code",
   "execution_count": 246,
   "id": "generous-deviation",
   "metadata": {},
   "outputs": [
    {
     "data": {
      "text/plain": [
       "year\n",
       "12    0.164491\n",
       "13    0.160649\n",
       "14    0.205134\n",
       "15    0.264148\n",
       "16    0.202681\n",
       "17    0.118006\n",
       "18    0.051843\n",
       "19    0.044889\n",
       "20    0.008303\n",
       "Name: year, dtype: float64"
      ]
     },
     "execution_count": 246,
     "metadata": {},
     "output_type": "execute_result"
    }
   ],
   "source": [
    "data[data['loan_status']=='Charged Off'].groupby('year')['year'].count()/data.groupby('year')['year'].count()"
   ]
  },
  {
   "cell_type": "code",
   "execution_count": null,
   "id": "marine-proceeding",
   "metadata": {},
   "outputs": [],
   "source": [
    "validation = data"
   ]
  },
  {
   "cell_type": "code",
   "execution_count": null,
   "id": "southern-frederick",
   "metadata": {},
   "outputs": [],
   "source": []
  },
  {
   "cell_type": "code",
   "execution_count": 335,
   "id": "configured-croatia",
   "metadata": {},
   "outputs": [],
   "source": [
    "drop.extend([\n",
    "    'application_type', \n",
    "    'issue_d', \n",
    "    'id',\n",
    "    'loan_status',\n",
    "    'year'])"
   ]
  },
  {
   "cell_type": "code",
   "execution_count": 336,
   "id": "attractive-agriculture",
   "metadata": {},
   "outputs": [],
   "source": [
    "\n",
    "X = data.drop(drop, axis=1)\n",
    "y = data['loan_status']"
   ]
  },
  {
   "cell_type": "code",
   "execution_count": 337,
   "id": "fuzzy-title",
   "metadata": {},
   "outputs": [],
   "source": [
    "X.fillna(value=0.0, inplace=True)"
   ]
  },
  {
   "cell_type": "code",
   "execution_count": 338,
   "id": "insured-climate",
   "metadata": {},
   "outputs": [],
   "source": [
    "y = y.apply(lambda x: 1 if x=='Charged Off' else 0)"
   ]
  },
  {
   "cell_type": "code",
   "execution_count": 339,
   "id": "eleven-noise",
   "metadata": {},
   "outputs": [],
   "source": [
    "dummies = ['sub_grade', 'verification_status', 'purpose','home_ownership']\n",
    "X = pd.get_dummies(X, columns=dummies, drop_first=True)"
   ]
  },
  {
   "cell_type": "code",
   "execution_count": 264,
   "id": "annoying-toilet",
   "metadata": {},
   "outputs": [],
   "source": [
    "# data['earliest_cr_line'] = data.earliest_cr_line.str.split('-', expand=True)[1]"
   ]
  },
  {
   "cell_type": "code",
   "execution_count": 265,
   "id": "spatial-complement",
   "metadata": {},
   "outputs": [],
   "source": [
    "from sklearn.model_selection import train_test_split\n",
    "from sklearn.ensemble import RandomForestClassifier\n",
    "from sklearn.ensemble import GradientBoostingClassifier\n",
    "\n",
    "from sklearn.metrics import recall_score, precision_score"
   ]
  },
  {
   "cell_type": "code",
   "execution_count": 340,
   "id": "continuous-gender",
   "metadata": {},
   "outputs": [],
   "source": [
    "X_train, X_test, y_train, y_test = train_test_split(X,y)"
   ]
  },
  {
   "cell_type": "code",
   "execution_count": 267,
   "id": "unable-virgin",
   "metadata": {},
   "outputs": [
    {
     "name": "stdout",
     "output_type": "stream",
     "text": [
      "Recall: 0.8221436984687868\n",
      "Precision: 0.8043913386304361\n"
     ]
    }
   ],
   "source": [
    "rf_model = RandomForestClassifier()\n",
    "rf_model.fit(X_train, y_train)\n",
    "recall = recall_score(y_test, rf_model.predict(X_test))\n",
    "precision = precision_score(y_test, rf_model.predict(X_test))\n",
    "print(f'Recall: {recall}\\nPrecision: {precision}')"
   ]
  },
  {
   "cell_type": "code",
   "execution_count": 268,
   "id": "charged-aberdeen",
   "metadata": {},
   "outputs": [
    {
     "name": "stdout",
     "output_type": "stream",
     "text": [
      "Recall: 0.8221436984687868\n",
      "Precision: 0.8043913386304361\n"
     ]
    }
   ],
   "source": [
    "gb_model = GradientBoostingClassifier()\n",
    "gb_model.fit(X_train, y_train)\n",
    "recall = recall_score(y_test, rf_model.predict(X_test))\n",
    "precision = precision_score(y_test, rf_model.predict(X_test))\n",
    "print(f'Recall: {recall}\\nPrecision: {precision}')"
   ]
  },
  {
   "cell_type": "code",
   "execution_count": 269,
   "id": "equivalent-garden",
   "metadata": {},
   "outputs": [
    {
     "name": "stdout",
     "output_type": "stream",
     "text": [
      "Recall: 0.8307296509825801\n",
      "Precision: 0.8003643313623604\n"
     ]
    }
   ],
   "source": [
    "recall = recall_score(y_test, gb_model.predict(X_test))\n",
    "precision = precision_score(y_test, gb_model.predict(X_test))\n",
    "print(f'Recall: {recall}\\nPrecision: {precision}')"
   ]
  },
  {
   "cell_type": "code",
   "execution_count": 270,
   "id": "statutory-southeast",
   "metadata": {},
   "outputs": [],
   "source": [
    "def calculate_threshold_values(prob, y):\n",
    "    '''\n",
    "    Build dataframe of the various confusion-matrix ratios by threshold\n",
    "    from a list of predicted probabilities and actual y values\n",
    "    '''\n",
    "    df = pd.DataFrame({'prob': prob, 'y': y})\n",
    "    df.sort_values('prob', inplace=True)\n",
    "    \n",
    "    actual_p = df.y.sum()\n",
    "    actual_n = df.shape[0] - df.y.sum()\n",
    "\n",
    "    df['tn'] = (df.y == 0).cumsum()\n",
    "    df['fn'] = df.y.cumsum()\n",
    "    df['fp'] = actual_n - df.tn\n",
    "    df['tp'] = actual_p - df.fn\n",
    "\n",
    "    df['fpr'] = df.fp/(df.fp + df.tn)\n",
    "    df['tpr'] = df.tp/(df.tp + df.fn)\n",
    "    df['precision'] = df.tp/(df.tp + df.fp)\n",
    "    df = df.reset_index(drop=True)\n",
    "    return df\n",
    "    \n",
    "def plot_roc(ax, df):\n",
    "    ax.plot([1]+list(df.fpr), [1]+list(df.tpr), label=\"ROC\")\n",
    "    ax.plot([0,1],[0,1], 'k', label=\"random\")\n",
    "    ax.set_xlabel('fpr')\n",
    "    ax.set_ylabel('tpr')\n",
    "    ax.set_title('ROC Curve')\n",
    "    ax.legend()\n",
    "    \n",
    "def plot_precision_recall(ax, df):\n",
    "    ax.plot(df.tpr,df.precision, label='precision/recall')\n",
    "    #ax.plot([0,1],[0,1], 'k')\n",
    "    ax.set_xlabel('recall')\n",
    "    ax.set_ylabel('precision')\n",
    "    ax.set_title('Precision/Recall Curve')\n",
    "    ax.plot([0,1],[df.precision[0],df.precision[0]], 'k', label='random')\n",
    "    ax.set_xlim(left=0,right=1)\n",
    "    ax.set_ylim(bottom=0,top=1)"
   ]
  },
  {
   "cell_type": "code",
   "execution_count": 271,
   "id": "ceramic-cache",
   "metadata": {},
   "outputs": [
    {
     "data": {
      "image/png": "[encoded data removed]",
      "text/plain": [
       "<Figure size 864x432 with 2 Axes>"
      ]
     },
     "metadata": {
      "needs_background": "light"
     },
     "output_type": "display_data"
    }
   ],
   "source": [
    "fig, (ax0, ax1) = plt.subplots(1,2, figsize=(12,6))\n",
    "df = calculate_threshold_values(rf_model.predict_proba(X_test)[:,1], y_test)\n",
    "plot_roc(ax0, df)\n",
    "plot_precision_recall(ax1, df)"
   ]
  },
  {
   "cell_type": "code",
   "execution_count": 341,
   "id": "joint-expansion",
   "metadata": {},
   "outputs": [],
   "source": [
    "probabilities = rf_model.predict_proba(X_test)"
   ]
  },
  {
   "cell_type": "code",
   "execution_count": 342,
   "id": "bacterial-humanity",
   "metadata": {},
   "outputs": [
    {
     "data": {
      "image/png": "[encoded data removed]",
      "text/plain": [
       "<Figure size 432x288 with 1 Axes>"
      ]
     },
     "metadata": {
      "needs_background": "light"
     },
     "output_type": "display_data"
    }
   ],
   "source": [
    "fig, ax = plt.subplots()\n",
    "ax.hist(probabilities[:,1], bins=50);"
   ]
  },
  {
   "cell_type": "code",
   "execution_count": 274,
   "id": "likely-qualification",
   "metadata": {},
   "outputs": [
    {
     "data": {
      "text/plain": [
       "167955"
      ]
     },
     "execution_count": 274,
     "metadata": {},
     "output_type": "execute_result"
    }
   ],
   "source": [
    "(probabilities > .5).sum()"
   ]
  },
  {
   "cell_type": "code",
   "execution_count": 275,
   "id": "treated-raleigh",
   "metadata": {},
   "outputs": [
    {
     "data": {
      "text/plain": [
       "130007"
      ]
     },
     "execution_count": 275,
     "metadata": {},
     "output_type": "execute_result"
    }
   ],
   "source": [
    "y.sum()"
   ]
  },
  {
   "cell_type": "code",
   "execution_count": 276,
   "id": "distinct-creator",
   "metadata": {},
   "outputs": [
    {
     "name": "stderr",
     "output_type": "stream",
     "text": [
      "<ipython-input-276-6ed33272057a>:13: RuntimeWarning: invalid value encountered in long_scalars\n",
      "  p = c[1][1]/(c[1][1]+c[1][0])\n"
     ]
    }
   ],
   "source": [
    "threshold = np.linspace(0,1,50)\n",
    "yhat = rf_model.predict_proba(X_test)[:,1]\n",
    "\n",
    "recall = []\n",
    "precision = []\n",
    "for t in threshold:\n",
    "    c = pd.crosstab(pd.Categorical(y_test, categories=[0,1]), \n",
    "                    pd.Categorical(yhat>t, categories=[0,1]), \n",
    "                    rownames=['actual'], \n",
    "                    colnames=['predicted'],\n",
    "                    dropna=False)\n",
    "    r = c[1][1]/(c[1][1]+c[0][1])\n",
    "    p = c[1][1]/(c[1][1]+c[1][0])\n",
    "    recall.append(r)\n",
    "    precision.append(p)"
   ]
  },
  {
   "cell_type": "code",
   "execution_count": 277,
   "id": "small-lighter",
   "metadata": {},
   "outputs": [
    {
     "data": {
      "image/png": "[encoded data removed]",
      "text/plain": [
       "<Figure size 720x576 with 1 Axes>"
      ]
     },
     "metadata": {
      "needs_background": "light"
     },
     "output_type": "display_data"
    }
   ],
   "source": [
    "fig, ax = plt.subplots(figsize=(10,8))\n",
    "\n",
    "ax.plot(threshold, recall, label='recall')\n",
    "ax.plot(threshold, precision, label='precision')\n",
    "# ax.vlines([.08, .85], 0,1, linestyles='--', colors='green')\n",
    "ax.legend()\n",
    "ax.set_xlabel('Threshold')\n",
    "ax.set_ylabel('Score')\n",
    "ax.set_title('Change in Precision and Recall for Thresholds')\n",
    "plt.show()"
   ]
  },
  {
   "cell_type": "code",
   "execution_count": 278,
   "id": "diagnostic-lyric",
   "metadata": {},
   "outputs": [],
   "source": [
    "y_prob = rf_model.predict_proba(X_test)[:,1]"
   ]
  },
  {
   "cell_type": "code",
   "execution_count": 279,
   "id": "employed-profit",
   "metadata": {},
   "outputs": [],
   "source": [
    "# make predictions based on probabilities and threshold\n",
    "def predict(model, X, threshold=0.5):\n",
    "    '''Return prediction of the fitted binary-classifier model model on X using\n",
    "    the specifed `threshold`. NB: class 1 is the positive class'''\n",
    "    return np.where(model.predict_proba(X)[:,1] > threshold, 1, 0)\n",
    "\n",
    "# create confusion matrix with a given model and Xtest\n",
    "def confusion_matrix(model, X, y,  threshold=0.5):\n",
    "    cf = pd.crosstab(y, predict(model, X, threshold), dropna=False)\n",
    "    cf = cf.add(pd.DataFrame([[0,0],[0,0]], columns=[0, 1], index=[0, 1]), fill_value=0)\n",
    "    cf.index.name = 'actual'\n",
    "    cf.columns.name = 'predicted'\n",
    "    return cf\n",
    "\n",
    "# calculate the payout for a given probability threshold\n",
    "def calculate_payout(cb_matrix, model, X, y, threshold):\n",
    "    return (confusion_matrix(model, X, y, threshold) * cb_matrix).values.sum()"
   ]
  },
  {
   "cell_type": "code",
   "execution_count": 280,
   "id": "sudden-reader",
   "metadata": {},
   "outputs": [
    {
     "data": {
      "text/plain": [
       "array([0, 1])"
      ]
     },
     "execution_count": 280,
     "metadata": {},
     "output_type": "execute_result"
    }
   ],
   "source": [
    "rf_model.classes_"
   ]
  },
  {
   "cell_type": "code",
   "execution_count": 281,
   "id": "african-clause",
   "metadata": {
    "scrolled": true
   },
   "outputs": [],
   "source": [
    "cf = confusion_matrix(rf_model, X_test, y_test)"
   ]
  },
  {
   "cell_type": "code",
   "execution_count": 282,
   "id": "durable-bachelor",
   "metadata": {},
   "outputs": [
    {
     "data": {
      "text/html": [
       "<div>\n",
       "<style scoped>\n",
       "    .dataframe tbody tr th:only-of-type {\n",
       "        vertical-align: middle;\n",
       "    }\n",
       "\n",
       "    .dataframe tbody tr th {\n",
       "        vertical-align: top;\n",
       "    }\n",
       "\n",
       "    .dataframe thead th {\n",
       "        text-align: right;\n",
       "    }\n",
       "</style>\n",
       "<table border=\"1\" class=\"dataframe\">\n",
       "  <thead>\n",
       "    <tr style=\"text-align: right;\">\n",
       "      <th>predicted</th>\n",
       "      <th>0</th>\n",
       "      <th>1</th>\n",
       "    </tr>\n",
       "    <tr>\n",
       "      <th>actual</th>\n",
       "      <th></th>\n",
       "      <th></th>\n",
       "    </tr>\n",
       "  </thead>\n",
       "  <tbody>\n",
       "    <tr>\n",
       "      <th>0</th>\n",
       "      <td>129623</td>\n",
       "      <td>6450</td>\n",
       "    </tr>\n",
       "    <tr>\n",
       "      <th>1</th>\n",
       "      <td>5738</td>\n",
       "      <td>26524</td>\n",
       "    </tr>\n",
       "  </tbody>\n",
       "</table>\n",
       "</div>"
      ],
      "text/plain": [
       "predicted       0      1\n",
       "actual                  \n",
       "0          129623   6450\n",
       "1            5738  26524"
      ]
     },
     "execution_count": 282,
     "metadata": {},
     "output_type": "execute_result"
    }
   ],
   "source": [
    "cf"
   ]
  },
  {
   "cell_type": "code",
   "execution_count": 283,
   "id": "apart-finnish",
   "metadata": {},
   "outputs": [],
   "source": [
    "cb_matrix = pd.DataFrame([[0, -20], [0, 10]], columns=[0, 1], index=[0,1])\n",
    "cb_matrix.index.name = 'actual'\n",
    "cb_matrix.columns.name = 'predicted'"
   ]
  },
  {
   "cell_type": "code",
   "execution_count": 284,
   "id": "detailed-retention",
   "metadata": {},
   "outputs": [
    {
     "data": {
      "text/html": [
       "<div>\n",
       "<style scoped>\n",
       "    .dataframe tbody tr th:only-of-type {\n",
       "        vertical-align: middle;\n",
       "    }\n",
       "\n",
       "    .dataframe tbody tr th {\n",
       "        vertical-align: top;\n",
       "    }\n",
       "\n",
       "    .dataframe thead th {\n",
       "        text-align: right;\n",
       "    }\n",
       "</style>\n",
       "<table border=\"1\" class=\"dataframe\">\n",
       "  <thead>\n",
       "    <tr style=\"text-align: right;\">\n",
       "      <th>predicted</th>\n",
       "      <th>0</th>\n",
       "      <th>1</th>\n",
       "    </tr>\n",
       "    <tr>\n",
       "      <th>actual</th>\n",
       "      <th></th>\n",
       "      <th></th>\n",
       "    </tr>\n",
       "  </thead>\n",
       "  <tbody>\n",
       "    <tr>\n",
       "      <th>0</th>\n",
       "      <td>0</td>\n",
       "      <td>-20</td>\n",
       "    </tr>\n",
       "    <tr>\n",
       "      <th>1</th>\n",
       "      <td>0</td>\n",
       "      <td>10</td>\n",
       "    </tr>\n",
       "  </tbody>\n",
       "</table>\n",
       "</div>"
      ],
      "text/plain": [
       "predicted  0   1\n",
       "actual          \n",
       "0          0 -20\n",
       "1          0  10"
      ]
     },
     "execution_count": 284,
     "metadata": {},
     "output_type": "execute_result"
    }
   ],
   "source": [
    "cb_matrix"
   ]
  },
  {
   "cell_type": "code",
   "execution_count": 285,
   "id": "accurate-discipline",
   "metadata": {},
   "outputs": [
    {
     "data": {
      "text/plain": [
       "136240"
      ]
     },
     "execution_count": 285,
     "metadata": {},
     "output_type": "execute_result"
    }
   ],
   "source": [
    "calculate_payout(cb_matrix, rf_model, X_test, y_test, .5)"
   ]
  },
  {
   "cell_type": "code",
   "execution_count": 286,
   "id": "duplicate-phrase",
   "metadata": {},
   "outputs": [
    {
     "data": {
      "text/plain": [
       "201360"
      ]
     },
     "execution_count": 286,
     "metadata": {},
     "output_type": "execute_result"
    }
   ],
   "source": [
    "-10*6414 + 26550 * 10"
   ]
  },
  {
   "cell_type": "code",
   "execution_count": 287,
   "id": "mighty-headset",
   "metadata": {},
   "outputs": [],
   "source": [
    "# Cost benefit\n",
    "def get_profits(model, X, y):\n",
    "    cb_matrix = pd.DataFrame([[0, -20], [0, 10]], columns=[0, 1], index=[0,1])\n",
    "    cb_matrix.index.name = 'actual'\n",
    "    cb_matrix.columns.name = 'predicted'\n",
    "    # calculate the payout with a the cost benefit matrix, \n",
    "    # given threshhold, model, and X\n",
    "    thresholds = np.arange(0.0, 1.0, 0.05)\n",
    "    profits = []\n",
    "    for threshold in thresholds:\n",
    "        profits.append(calculate_payout(cb_matrix, model, X, y, threshold))\n",
    "    return profits\n",
    "    \n",
    "    \n",
    "def profit_curve(profits, ax):\n",
    "    thresholds = np.arange(0.0, 1.0, 0.05)\n",
    "    ax.plot(thresholds, profits)\n",
    "    ax.set_xlabel('Thresholds')\n",
    "    ax.set_ylabel('Profits')\n",
    "    ax.set_title('Profit Curve')\n",
    "    print(profits)"
   ]
  },
  {
   "cell_type": "code",
   "execution_count": 290,
   "id": "statutory-wrong",
   "metadata": {},
   "outputs": [],
   "source": [
    "profits = get_profits(rf_model, X_test, y_test)"
   ]
  },
  {
   "cell_type": "code",
   "execution_count": 296,
   "id": "palestinian-vertex",
   "metadata": {
    "scrolled": false
   },
   "outputs": [
    {
     "data": {
      "text/plain": [
       "(-250000.0, 200000.0)"
      ]
     },
     "execution_count": 296,
     "metadata": {},
     "output_type": "execute_result"
    },
    {
     "data": {
      "image/png": "[encoded data removed]",
      "text/plain": [
       "<Figure size 864x576 with 1 Axes>"
      ]
     },
     "metadata": {
      "needs_background": "light"
     },
     "output_type": "display_data"
    }
   ],
   "source": [
    "fig, ax = plt.subplots(figsize=(12, 8))\n",
    "thresholds = np.arange(0.0, 1.0, 0.05)\n",
    "ax.plot(thresholds, profits)\n",
    "ax.set_xlabel('Thresholds')\n",
    "ax.set_ylabel('Profits')\n",
    "ax.set_title('Profit Curve')\n",
    "ax.set_ylim(-250000, 200000)"
   ]
  },
  {
   "cell_type": "code",
   "execution_count": 343,
   "id": "floral-courtesy",
   "metadata": {},
   "outputs": [],
   "source": [
    "def get_yhat(probs, threshold):\n",
    "    return probs > threshold"
   ]
  },
  {
   "cell_type": "code",
   "execution_count": 344,
   "id": "split-humanity",
   "metadata": {},
   "outputs": [],
   "source": [
    "def get_cf_arrays(y_true, y_hat):\n",
    "    true_positive = (y_true == 1) & (y_hat==1)\n",
    "    true_negative = (y_true == 0) & (y_hat==0)\n",
    "    false_positive = (y_true == 0) & (y_hat==1)\n",
    "    false_negative = (y_true == 1) & (y_hat==0)\n",
    "    return true_positive, true_negative, false_positive, false_negative"
   ]
  },
  {
   "cell_type": "code",
   "execution_count": 345,
   "id": "impressive-citizenship",
   "metadata": {},
   "outputs": [],
   "source": [
    "tp, tn, fp, fn = get_cf_arrays(y_test, get_yhat(probabilities[:,1], .65))"
   ]
  },
  {
   "cell_type": "code",
   "execution_count": 346,
   "id": "above-charm",
   "metadata": {},
   "outputs": [
    {
     "data": {
      "text/plain": [
       "168335"
      ]
     },
     "execution_count": 346,
     "metadata": {},
     "output_type": "execute_result"
    }
   ],
   "source": [
    "tp.sum() + tn.sum() + fp.sum() + fn.sum()"
   ]
  },
  {
   "cell_type": "code",
   "execution_count": 347,
   "id": "wooden-transformation",
   "metadata": {},
   "outputs": [
    {
     "data": {
      "text/plain": [
       "168335"
      ]
     },
     "execution_count": 347,
     "metadata": {},
     "output_type": "execute_result"
    }
   ],
   "source": [
    "y_test.shape[0]"
   ]
  },
  {
   "cell_type": "code",
   "execution_count": 348,
   "id": "attended-driver",
   "metadata": {
    "scrolled": true
   },
   "outputs": [
    {
     "data": {
      "text/html": [
       "<div>\n",
       "<style scoped>\n",
       "    .dataframe tbody tr th:only-of-type {\n",
       "        vertical-align: middle;\n",
       "    }\n",
       "\n",
       "    .dataframe tbody tr th {\n",
       "        vertical-align: top;\n",
       "    }\n",
       "\n",
       "    .dataframe thead th {\n",
       "        text-align: right;\n",
       "    }\n",
       "</style>\n",
       "<table border=\"1\" class=\"dataframe\">\n",
       "  <thead>\n",
       "    <tr style=\"text-align: right;\">\n",
       "      <th></th>\n",
       "      <th>id</th>\n",
       "      <th>member_id</th>\n",
       "      <th>loan_amnt</th>\n",
       "      <th>funded_amnt</th>\n",
       "      <th>funded_amnt_inv</th>\n",
       "      <th>term</th>\n",
       "      <th>int_rate</th>\n",
       "      <th>installment</th>\n",
       "      <th>grade</th>\n",
       "      <th>sub_grade</th>\n",
       "      <th>...</th>\n",
       "      <th>sec_app_earliest_cr_line</th>\n",
       "      <th>sec_app_inq_last_6mths</th>\n",
       "      <th>sec_app_mort_acc</th>\n",
       "      <th>sec_app_open_acc</th>\n",
       "      <th>sec_app_revol_util</th>\n",
       "      <th>sec_app_num_rev_accts</th>\n",
       "      <th>sec_app_chargeoff_within_12_mths</th>\n",
       "      <th>sec_app_collections_12_mths_ex_med</th>\n",
       "      <th>sec_app_mths_since_last_major_derog</th>\n",
       "      <th>year</th>\n",
       "    </tr>\n",
       "  </thead>\n",
       "  <tbody>\n",
       "    <tr>\n",
       "      <th>230834</th>\n",
       "      <td>4535404</td>\n",
       "      <td>NaN</td>\n",
       "      <td>17600</td>\n",
       "      <td>17600</td>\n",
       "      <td>17600.0</td>\n",
       "      <td>36</td>\n",
       "      <td>7.90</td>\n",
       "      <td>550.71</td>\n",
       "      <td>A</td>\n",
       "      <td>A4</td>\n",
       "      <td>...</td>\n",
       "      <td>NaN</td>\n",
       "      <td>NaN</td>\n",
       "      <td>NaN</td>\n",
       "      <td>NaN</td>\n",
       "      <td>NaN</td>\n",
       "      <td>NaN</td>\n",
       "      <td>NaN</td>\n",
       "      <td>NaN</td>\n",
       "      <td>NaN</td>\n",
       "      <td>13</td>\n",
       "    </tr>\n",
       "    <tr>\n",
       "      <th>2474937</th>\n",
       "      <td>78869115</td>\n",
       "      <td>NaN</td>\n",
       "      <td>18000</td>\n",
       "      <td>18000</td>\n",
       "      <td>18000.0</td>\n",
       "      <td>36</td>\n",
       "      <td>13.67</td>\n",
       "      <td>612.32</td>\n",
       "      <td>C</td>\n",
       "      <td>C3</td>\n",
       "      <td>...</td>\n",
       "      <td>NaN</td>\n",
       "      <td>NaN</td>\n",
       "      <td>NaN</td>\n",
       "      <td>NaN</td>\n",
       "      <td>NaN</td>\n",
       "      <td>NaN</td>\n",
       "      <td>NaN</td>\n",
       "      <td>NaN</td>\n",
       "      <td>NaN</td>\n",
       "      <td>16</td>\n",
       "    </tr>\n",
       "    <tr>\n",
       "      <th>249340</th>\n",
       "      <td>3379310</td>\n",
       "      <td>NaN</td>\n",
       "      <td>4650</td>\n",
       "      <td>4650</td>\n",
       "      <td>4650.0</td>\n",
       "      <td>36</td>\n",
       "      <td>16.29</td>\n",
       "      <td>164.15</td>\n",
       "      <td>C</td>\n",
       "      <td>C4</td>\n",
       "      <td>...</td>\n",
       "      <td>NaN</td>\n",
       "      <td>NaN</td>\n",
       "      <td>NaN</td>\n",
       "      <td>NaN</td>\n",
       "      <td>NaN</td>\n",
       "      <td>NaN</td>\n",
       "      <td>NaN</td>\n",
       "      <td>NaN</td>\n",
       "      <td>NaN</td>\n",
       "      <td>13</td>\n",
       "    </tr>\n",
       "    <tr>\n",
       "      <th>1478936</th>\n",
       "      <td>159580185</td>\n",
       "      <td>NaN</td>\n",
       "      <td>22325</td>\n",
       "      <td>22325</td>\n",
       "      <td>22325.0</td>\n",
       "      <td>60</td>\n",
       "      <td>20.55</td>\n",
       "      <td>598.33</td>\n",
       "      <td>D</td>\n",
       "      <td>D2</td>\n",
       "      <td>...</td>\n",
       "      <td>NaN</td>\n",
       "      <td>NaN</td>\n",
       "      <td>NaN</td>\n",
       "      <td>NaN</td>\n",
       "      <td>NaN</td>\n",
       "      <td>NaN</td>\n",
       "      <td>NaN</td>\n",
       "      <td>NaN</td>\n",
       "      <td>NaN</td>\n",
       "      <td>19</td>\n",
       "    </tr>\n",
       "    <tr>\n",
       "      <th>454194</th>\n",
       "      <td>19165963</td>\n",
       "      <td>NaN</td>\n",
       "      <td>10000</td>\n",
       "      <td>10000</td>\n",
       "      <td>10000.0</td>\n",
       "      <td>60</td>\n",
       "      <td>14.49</td>\n",
       "      <td>235.24</td>\n",
       "      <td>C</td>\n",
       "      <td>C4</td>\n",
       "      <td>...</td>\n",
       "      <td>NaN</td>\n",
       "      <td>NaN</td>\n",
       "      <td>NaN</td>\n",
       "      <td>NaN</td>\n",
       "      <td>NaN</td>\n",
       "      <td>NaN</td>\n",
       "      <td>NaN</td>\n",
       "      <td>NaN</td>\n",
       "      <td>NaN</td>\n",
       "      <td>14</td>\n",
       "    </tr>\n",
       "    <tr>\n",
       "      <th>...</th>\n",
       "      <td>...</td>\n",
       "      <td>...</td>\n",
       "      <td>...</td>\n",
       "      <td>...</td>\n",
       "      <td>...</td>\n",
       "      <td>...</td>\n",
       "      <td>...</td>\n",
       "      <td>...</td>\n",
       "      <td>...</td>\n",
       "      <td>...</td>\n",
       "      <td>...</td>\n",
       "      <td>...</td>\n",
       "      <td>...</td>\n",
       "      <td>...</td>\n",
       "      <td>...</td>\n",
       "      <td>...</td>\n",
       "      <td>...</td>\n",
       "      <td>...</td>\n",
       "      <td>...</td>\n",
       "      <td>...</td>\n",
       "      <td>...</td>\n",
       "    </tr>\n",
       "    <tr>\n",
       "      <th>2634924</th>\n",
       "      <td>75104057</td>\n",
       "      <td>NaN</td>\n",
       "      <td>7350</td>\n",
       "      <td>7350</td>\n",
       "      <td>7350.0</td>\n",
       "      <td>36</td>\n",
       "      <td>19.53</td>\n",
       "      <td>271.40</td>\n",
       "      <td>D</td>\n",
       "      <td>D5</td>\n",
       "      <td>...</td>\n",
       "      <td>NaN</td>\n",
       "      <td>NaN</td>\n",
       "      <td>NaN</td>\n",
       "      <td>NaN</td>\n",
       "      <td>NaN</td>\n",
       "      <td>NaN</td>\n",
       "      <td>NaN</td>\n",
       "      <td>NaN</td>\n",
       "      <td>NaN</td>\n",
       "      <td>16</td>\n",
       "    </tr>\n",
       "    <tr>\n",
       "      <th>452099</th>\n",
       "      <td>19127753</td>\n",
       "      <td>NaN</td>\n",
       "      <td>16525</td>\n",
       "      <td>16525</td>\n",
       "      <td>16525.0</td>\n",
       "      <td>60</td>\n",
       "      <td>19.52</td>\n",
       "      <td>433.41</td>\n",
       "      <td>E</td>\n",
       "      <td>E2</td>\n",
       "      <td>...</td>\n",
       "      <td>NaN</td>\n",
       "      <td>NaN</td>\n",
       "      <td>NaN</td>\n",
       "      <td>NaN</td>\n",
       "      <td>NaN</td>\n",
       "      <td>NaN</td>\n",
       "      <td>NaN</td>\n",
       "      <td>NaN</td>\n",
       "      <td>NaN</td>\n",
       "      <td>14</td>\n",
       "    </tr>\n",
       "    <tr>\n",
       "      <th>637297</th>\n",
       "      <td>63446874</td>\n",
       "      <td>NaN</td>\n",
       "      <td>1100</td>\n",
       "      <td>1100</td>\n",
       "      <td>1100.0</td>\n",
       "      <td>36</td>\n",
       "      <td>17.57</td>\n",
       "      <td>39.54</td>\n",
       "      <td>D</td>\n",
       "      <td>D4</td>\n",
       "      <td>...</td>\n",
       "      <td>NaN</td>\n",
       "      <td>NaN</td>\n",
       "      <td>NaN</td>\n",
       "      <td>NaN</td>\n",
       "      <td>NaN</td>\n",
       "      <td>NaN</td>\n",
       "      <td>NaN</td>\n",
       "      <td>NaN</td>\n",
       "      <td>NaN</td>\n",
       "      <td>15</td>\n",
       "    </tr>\n",
       "    <tr>\n",
       "      <th>581095</th>\n",
       "      <td>66420629</td>\n",
       "      <td>NaN</td>\n",
       "      <td>10000</td>\n",
       "      <td>10000</td>\n",
       "      <td>10000.0</td>\n",
       "      <td>60</td>\n",
       "      <td>9.76</td>\n",
       "      <td>211.30</td>\n",
       "      <td>B</td>\n",
       "      <td>B3</td>\n",
       "      <td>...</td>\n",
       "      <td>NaN</td>\n",
       "      <td>NaN</td>\n",
       "      <td>NaN</td>\n",
       "      <td>NaN</td>\n",
       "      <td>NaN</td>\n",
       "      <td>NaN</td>\n",
       "      <td>NaN</td>\n",
       "      <td>NaN</td>\n",
       "      <td>NaN</td>\n",
       "      <td>15</td>\n",
       "    </tr>\n",
       "    <tr>\n",
       "      <th>149752</th>\n",
       "      <td>8854681</td>\n",
       "      <td>NaN</td>\n",
       "      <td>12000</td>\n",
       "      <td>12000</td>\n",
       "      <td>12000.0</td>\n",
       "      <td>60</td>\n",
       "      <td>19.20</td>\n",
       "      <td>312.61</td>\n",
       "      <td>D</td>\n",
       "      <td>D3</td>\n",
       "      <td>...</td>\n",
       "      <td>NaN</td>\n",
       "      <td>NaN</td>\n",
       "      <td>NaN</td>\n",
       "      <td>NaN</td>\n",
       "      <td>NaN</td>\n",
       "      <td>NaN</td>\n",
       "      <td>NaN</td>\n",
       "      <td>NaN</td>\n",
       "      <td>NaN</td>\n",
       "      <td>13</td>\n",
       "    </tr>\n",
       "  </tbody>\n",
       "</table>\n",
       "<p>29329 rows × 127 columns</p>\n",
       "</div>"
      ],
      "text/plain": [
       "                id  member_id  loan_amnt  funded_amnt  funded_amnt_inv  term  \\\n",
       "230834     4535404        NaN      17600        17600          17600.0    36   \n",
       "2474937   78869115        NaN      18000        18000          18000.0    36   \n",
       "249340     3379310        NaN       4650         4650           4650.0    36   \n",
       "1478936  159580185        NaN      22325        22325          22325.0    60   \n",
       "454194    19165963        NaN      10000        10000          10000.0    60   \n",
       "...            ...        ...        ...          ...              ...   ...   \n",
       "2634924   75104057        NaN       7350         7350           7350.0    36   \n",
       "452099    19127753        NaN      16525        16525          16525.0    60   \n",
       "637297    63446874        NaN       1100         1100           1100.0    36   \n",
       "581095    66420629        NaN      10000        10000          10000.0    60   \n",
       "149752     8854681        NaN      12000        12000          12000.0    60   \n",
       "\n",
       "         int_rate  installment grade sub_grade  ... sec_app_earliest_cr_line  \\\n",
       "230834       7.90       550.71     A        A4  ...                      NaN   \n",
       "2474937     13.67       612.32     C        C3  ...                      NaN   \n",
       "249340      16.29       164.15     C        C4  ...                      NaN   \n",
       "1478936     20.55       598.33     D        D2  ...                      NaN   \n",
       "454194      14.49       235.24     C        C4  ...                      NaN   \n",
       "...           ...          ...   ...       ...  ...                      ...   \n",
       "2634924     19.53       271.40     D        D5  ...                      NaN   \n",
       "452099      19.52       433.41     E        E2  ...                      NaN   \n",
       "637297      17.57        39.54     D        D4  ...                      NaN   \n",
       "581095       9.76       211.30     B        B3  ...                      NaN   \n",
       "149752      19.20       312.61     D        D3  ...                      NaN   \n",
       "\n",
       "        sec_app_inq_last_6mths sec_app_mort_acc  sec_app_open_acc  \\\n",
       "230834                     NaN              NaN               NaN   \n",
       "2474937                    NaN              NaN               NaN   \n",
       "249340                     NaN              NaN               NaN   \n",
       "1478936                    NaN              NaN               NaN   \n",
       "454194                     NaN              NaN               NaN   \n",
       "...                        ...              ...               ...   \n",
       "2634924                    NaN              NaN               NaN   \n",
       "452099                     NaN              NaN               NaN   \n",
       "637297                     NaN              NaN               NaN   \n",
       "581095                     NaN              NaN               NaN   \n",
       "149752                     NaN              NaN               NaN   \n",
       "\n",
       "        sec_app_revol_util sec_app_num_rev_accts  \\\n",
       "230834                 NaN                   NaN   \n",
       "2474937                NaN                   NaN   \n",
       "249340                 NaN                   NaN   \n",
       "1478936                NaN                   NaN   \n",
       "454194                 NaN                   NaN   \n",
       "...                    ...                   ...   \n",
       "2634924                NaN                   NaN   \n",
       "452099                 NaN                   NaN   \n",
       "637297                 NaN                   NaN   \n",
       "581095                 NaN                   NaN   \n",
       "149752                 NaN                   NaN   \n",
       "\n",
       "        sec_app_chargeoff_within_12_mths sec_app_collections_12_mths_ex_med  \\\n",
       "230834                               NaN                                NaN   \n",
       "2474937                              NaN                                NaN   \n",
       "249340                               NaN                                NaN   \n",
       "1478936                              NaN                                NaN   \n",
       "454194                               NaN                                NaN   \n",
       "...                                  ...                                ...   \n",
       "2634924                              NaN                                NaN   \n",
       "452099                               NaN                                NaN   \n",
       "637297                               NaN                                NaN   \n",
       "581095                               NaN                                NaN   \n",
       "149752                               NaN                                NaN   \n",
       "\n",
       "        sec_app_mths_since_last_major_derog year  \n",
       "230834                                  NaN   13  \n",
       "2474937                                 NaN   16  \n",
       "249340                                  NaN   13  \n",
       "1478936                                 NaN   19  \n",
       "454194                                  NaN   14  \n",
       "...                                     ...  ...  \n",
       "2634924                                 NaN   16  \n",
       "452099                                  NaN   14  \n",
       "637297                                  NaN   15  \n",
       "581095                                  NaN   15  \n",
       "149752                                  NaN   13  \n",
       "\n",
       "[29329 rows x 127 columns]"
      ]
     },
     "execution_count": 348,
     "metadata": {},
     "output_type": "execute_result"
    }
   ],
   "source": [
    "data.loc[y_test.index[tp]]"
   ]
  },
  {
   "cell_type": "code",
   "execution_count": 355,
   "id": "painful-corporation",
   "metadata": {},
   "outputs": [],
   "source": [
    "payment = [\n",
    "    'loan_amnt', \n",
    "    'funded_amnt',\n",
    "    'out_prncp',\n",
    "    'out_prncp_inv',\n",
    "    'total_pymnt',\n",
    "    'total_pymnt_inv',\n",
    "    'total_rec_prncp',\n",
    "    'total_rec_int',\n",
    "    'total_rec_late_fee']"
   ]
  },
  {
   "cell_type": "code",
   "execution_count": 356,
   "id": "billion-custom",
   "metadata": {},
   "outputs": [
    {
     "data": {
      "text/html": [
       "<div>\n",
       "<style scoped>\n",
       "    .dataframe tbody tr th:only-of-type {\n",
       "        vertical-align: middle;\n",
       "    }\n",
       "\n",
       "    .dataframe tbody tr th {\n",
       "        vertical-align: top;\n",
       "    }\n",
       "\n",
       "    .dataframe thead th {\n",
       "        text-align: right;\n",
       "    }\n",
       "</style>\n",
       "<table border=\"1\" class=\"dataframe\">\n",
       "  <thead>\n",
       "    <tr style=\"text-align: right;\">\n",
       "      <th></th>\n",
       "      <th>loan_amnt</th>\n",
       "      <th>funded_amnt</th>\n",
       "      <th>out_prncp</th>\n",
       "      <th>out_prncp_inv</th>\n",
       "      <th>total_pymnt</th>\n",
       "      <th>total_pymnt_inv</th>\n",
       "      <th>total_rec_prncp</th>\n",
       "      <th>total_rec_int</th>\n",
       "      <th>total_rec_late_fee</th>\n",
       "    </tr>\n",
       "  </thead>\n",
       "  <tbody>\n",
       "    <tr>\n",
       "      <th>230834</th>\n",
       "      <td>17600</td>\n",
       "      <td>17600</td>\n",
       "      <td>0.0</td>\n",
       "      <td>0.0</td>\n",
       "      <td>15250.80</td>\n",
       "      <td>15250.80</td>\n",
       "      <td>12287.22</td>\n",
       "      <td>2031.24</td>\n",
       "      <td>0.00</td>\n",
       "    </tr>\n",
       "    <tr>\n",
       "      <th>2474937</th>\n",
       "      <td>18000</td>\n",
       "      <td>18000</td>\n",
       "      <td>0.0</td>\n",
       "      <td>0.0</td>\n",
       "      <td>3677.20</td>\n",
       "      <td>3677.20</td>\n",
       "      <td>2509.42</td>\n",
       "      <td>1137.16</td>\n",
       "      <td>30.62</td>\n",
       "    </tr>\n",
       "    <tr>\n",
       "      <th>249340</th>\n",
       "      <td>4650</td>\n",
       "      <td>4650</td>\n",
       "      <td>0.0</td>\n",
       "      <td>0.0</td>\n",
       "      <td>3620.40</td>\n",
       "      <td>3620.40</td>\n",
       "      <td>2303.04</td>\n",
       "      <td>979.12</td>\n",
       "      <td>0.00</td>\n",
       "    </tr>\n",
       "    <tr>\n",
       "      <th>1478936</th>\n",
       "      <td>22325</td>\n",
       "      <td>22325</td>\n",
       "      <td>0.0</td>\n",
       "      <td>0.0</td>\n",
       "      <td>572.84</td>\n",
       "      <td>572.84</td>\n",
       "      <td>177.78</td>\n",
       "      <td>395.06</td>\n",
       "      <td>0.00</td>\n",
       "    </tr>\n",
       "    <tr>\n",
       "      <th>454194</th>\n",
       "      <td>10000</td>\n",
       "      <td>10000</td>\n",
       "      <td>0.0</td>\n",
       "      <td>0.0</td>\n",
       "      <td>5797.73</td>\n",
       "      <td>5797.73</td>\n",
       "      <td>2572.51</td>\n",
       "      <td>2132.29</td>\n",
       "      <td>0.00</td>\n",
       "    </tr>\n",
       "    <tr>\n",
       "      <th>...</th>\n",
       "      <td>...</td>\n",
       "      <td>...</td>\n",
       "      <td>...</td>\n",
       "      <td>...</td>\n",
       "      <td>...</td>\n",
       "      <td>...</td>\n",
       "      <td>...</td>\n",
       "      <td>...</td>\n",
       "      <td>...</td>\n",
       "    </tr>\n",
       "    <tr>\n",
       "      <th>2634924</th>\n",
       "      <td>7350</td>\n",
       "      <td>7350</td>\n",
       "      <td>0.0</td>\n",
       "      <td>0.0</td>\n",
       "      <td>1456.48</td>\n",
       "      <td>1456.48</td>\n",
       "      <td>462.78</td>\n",
       "      <td>300.32</td>\n",
       "      <td>0.00</td>\n",
       "    </tr>\n",
       "    <tr>\n",
       "      <th>452099</th>\n",
       "      <td>16525</td>\n",
       "      <td>16525</td>\n",
       "      <td>0.0</td>\n",
       "      <td>0.0</td>\n",
       "      <td>10764.49</td>\n",
       "      <td>10764.49</td>\n",
       "      <td>4312.36</td>\n",
       "      <td>5222.66</td>\n",
       "      <td>0.00</td>\n",
       "    </tr>\n",
       "    <tr>\n",
       "      <th>637297</th>\n",
       "      <td>1100</td>\n",
       "      <td>1100</td>\n",
       "      <td>0.0</td>\n",
       "      <td>0.0</td>\n",
       "      <td>590.95</td>\n",
       "      <td>590.95</td>\n",
       "      <td>389.93</td>\n",
       "      <td>201.02</td>\n",
       "      <td>0.00</td>\n",
       "    </tr>\n",
       "    <tr>\n",
       "      <th>581095</th>\n",
       "      <td>10000</td>\n",
       "      <td>10000</td>\n",
       "      <td>0.0</td>\n",
       "      <td>0.0</td>\n",
       "      <td>1983.13</td>\n",
       "      <td>1983.13</td>\n",
       "      <td>660.49</td>\n",
       "      <td>390.59</td>\n",
       "      <td>0.00</td>\n",
       "    </tr>\n",
       "    <tr>\n",
       "      <th>149752</th>\n",
       "      <td>12000</td>\n",
       "      <td>12000</td>\n",
       "      <td>0.0</td>\n",
       "      <td>0.0</td>\n",
       "      <td>9851.94</td>\n",
       "      <td>9851.94</td>\n",
       "      <td>4654.91</td>\n",
       "      <td>4458.27</td>\n",
       "      <td>0.00</td>\n",
       "    </tr>\n",
       "  </tbody>\n",
       "</table>\n",
       "<p>29329 rows × 9 columns</p>\n",
       "</div>"
      ],
      "text/plain": [
       "         loan_amnt  funded_amnt  out_prncp  out_prncp_inv  total_pymnt  \\\n",
       "230834       17600        17600        0.0            0.0     15250.80   \n",
       "2474937      18000        18000        0.0            0.0      3677.20   \n",
       "249340        4650         4650        0.0            0.0      3620.40   \n",
       "1478936      22325        22325        0.0            0.0       572.84   \n",
       "454194       10000        10000        0.0            0.0      5797.73   \n",
       "...            ...          ...        ...            ...          ...   \n",
       "2634924       7350         7350        0.0            0.0      1456.48   \n",
       "452099       16525        16525        0.0            0.0     10764.49   \n",
       "637297        1100         1100        0.0            0.0       590.95   \n",
       "581095       10000        10000        0.0            0.0      1983.13   \n",
       "149752       12000        12000        0.0            0.0      9851.94   \n",
       "\n",
       "         total_pymnt_inv  total_rec_prncp  total_rec_int  total_rec_late_fee  \n",
       "230834          15250.80         12287.22        2031.24                0.00  \n",
       "2474937          3677.20          2509.42        1137.16               30.62  \n",
       "249340           3620.40          2303.04         979.12                0.00  \n",
       "1478936           572.84           177.78         395.06                0.00  \n",
       "454194           5797.73          2572.51        2132.29                0.00  \n",
       "...                  ...              ...            ...                 ...  \n",
       "2634924          1456.48           462.78         300.32                0.00  \n",
       "452099          10764.49          4312.36        5222.66                0.00  \n",
       "637297            590.95           389.93         201.02                0.00  \n",
       "581095           1983.13           660.49         390.59                0.00  \n",
       "149752           9851.94          4654.91        4458.27                0.00  \n",
       "\n",
       "[29329 rows x 9 columns]"
      ]
     },
     "execution_count": 356,
     "metadata": {},
     "output_type": "execute_result"
    }
   ],
   "source": [
    "data.loc[y_test.index[tp]][payment]"
   ]
  },
  {
   "cell_type": "code",
   "execution_count": 358,
   "id": "smart-planet",
   "metadata": {},
   "outputs": [
    {
     "data": {
      "text/html": [
       "<div>\n",
       "<style scoped>\n",
       "    .dataframe tbody tr th:only-of-type {\n",
       "        vertical-align: middle;\n",
       "    }\n",
       "\n",
       "    .dataframe tbody tr th {\n",
       "        vertical-align: top;\n",
       "    }\n",
       "\n",
       "    .dataframe thead th {\n",
       "        text-align: right;\n",
       "    }\n",
       "</style>\n",
       "<table border=\"1\" class=\"dataframe\">\n",
       "  <thead>\n",
       "    <tr style=\"text-align: right;\">\n",
       "      <th></th>\n",
       "      <th>loan_amnt</th>\n",
       "      <th>funded_amnt</th>\n",
       "      <th>out_prncp</th>\n",
       "      <th>out_prncp_inv</th>\n",
       "      <th>total_pymnt</th>\n",
       "      <th>total_pymnt_inv</th>\n",
       "      <th>total_rec_prncp</th>\n",
       "      <th>total_rec_int</th>\n",
       "      <th>total_rec_late_fee</th>\n",
       "    </tr>\n",
       "  </thead>\n",
       "  <tbody>\n",
       "    <tr>\n",
       "      <th>178659</th>\n",
       "      <td>5000</td>\n",
       "      <td>3400</td>\n",
       "      <td>0.0</td>\n",
       "      <td>0.0</td>\n",
       "      <td>3643.290000</td>\n",
       "      <td>3643.29</td>\n",
       "      <td>3400.00</td>\n",
       "      <td>243.29</td>\n",
       "      <td>0.0</td>\n",
       "    </tr>\n",
       "    <tr>\n",
       "      <th>179511</th>\n",
       "      <td>2875</td>\n",
       "      <td>2850</td>\n",
       "      <td>0.0</td>\n",
       "      <td>0.0</td>\n",
       "      <td>3181.145363</td>\n",
       "      <td>3181.15</td>\n",
       "      <td>2850.00</td>\n",
       "      <td>331.15</td>\n",
       "      <td>0.0</td>\n",
       "    </tr>\n",
       "    <tr>\n",
       "      <th>220369</th>\n",
       "      <td>32000</td>\n",
       "      <td>31900</td>\n",
       "      <td>0.0</td>\n",
       "      <td>0.0</td>\n",
       "      <td>33855.959850</td>\n",
       "      <td>33829.43</td>\n",
       "      <td>31900.00</td>\n",
       "      <td>1955.96</td>\n",
       "      <td>0.0</td>\n",
       "    </tr>\n",
       "    <tr>\n",
       "      <th>221038</th>\n",
       "      <td>25000</td>\n",
       "      <td>24975</td>\n",
       "      <td>0.0</td>\n",
       "      <td>0.0</td>\n",
       "      <td>26453.004910</td>\n",
       "      <td>26453.00</td>\n",
       "      <td>24975.00</td>\n",
       "      <td>1478.00</td>\n",
       "      <td>0.0</td>\n",
       "    </tr>\n",
       "    <tr>\n",
       "      <th>221199</th>\n",
       "      <td>27500</td>\n",
       "      <td>27475</td>\n",
       "      <td>0.0</td>\n",
       "      <td>0.0</td>\n",
       "      <td>38023.089990</td>\n",
       "      <td>38023.09</td>\n",
       "      <td>27475.00</td>\n",
       "      <td>10548.09</td>\n",
       "      <td>0.0</td>\n",
       "    </tr>\n",
       "    <tr>\n",
       "      <th>...</th>\n",
       "      <td>...</td>\n",
       "      <td>...</td>\n",
       "      <td>...</td>\n",
       "      <td>...</td>\n",
       "      <td>...</td>\n",
       "      <td>...</td>\n",
       "      <td>...</td>\n",
       "      <td>...</td>\n",
       "      <td>...</td>\n",
       "    </tr>\n",
       "    <tr>\n",
       "      <th>316580</th>\n",
       "      <td>20000</td>\n",
       "      <td>13675</td>\n",
       "      <td>0.0</td>\n",
       "      <td>0.0</td>\n",
       "      <td>14786.731120</td>\n",
       "      <td>7217.66</td>\n",
       "      <td>13675.00</td>\n",
       "      <td>1111.73</td>\n",
       "      <td>0.0</td>\n",
       "    </tr>\n",
       "    <tr>\n",
       "      <th>316582</th>\n",
       "      <td>17500</td>\n",
       "      <td>16800</td>\n",
       "      <td>0.0</td>\n",
       "      <td>0.0</td>\n",
       "      <td>4711.000000</td>\n",
       "      <td>4703.99</td>\n",
       "      <td>1662.30</td>\n",
       "      <td>3042.60</td>\n",
       "      <td>0.0</td>\n",
       "    </tr>\n",
       "    <tr>\n",
       "      <th>316583</th>\n",
       "      <td>35000</td>\n",
       "      <td>22550</td>\n",
       "      <td>0.0</td>\n",
       "      <td>0.0</td>\n",
       "      <td>22724.800000</td>\n",
       "      <td>22724.80</td>\n",
       "      <td>14480.92</td>\n",
       "      <td>8232.35</td>\n",
       "      <td>0.0</td>\n",
       "    </tr>\n",
       "    <tr>\n",
       "      <th>316586</th>\n",
       "      <td>20000</td>\n",
       "      <td>12675</td>\n",
       "      <td>0.0</td>\n",
       "      <td>0.0</td>\n",
       "      <td>17801.931680</td>\n",
       "      <td>17801.93</td>\n",
       "      <td>12675.00</td>\n",
       "      <td>5126.93</td>\n",
       "      <td>0.0</td>\n",
       "    </tr>\n",
       "    <tr>\n",
       "      <th>316592</th>\n",
       "      <td>12000</td>\n",
       "      <td>7775</td>\n",
       "      <td>0.0</td>\n",
       "      <td>0.0</td>\n",
       "      <td>11163.948260</td>\n",
       "      <td>11163.95</td>\n",
       "      <td>7775.00</td>\n",
       "      <td>3388.95</td>\n",
       "      <td>0.0</td>\n",
       "    </tr>\n",
       "  </tbody>\n",
       "</table>\n",
       "<p>61 rows × 9 columns</p>\n",
       "</div>"
      ],
      "text/plain": [
       "        loan_amnt  funded_amnt  out_prncp  out_prncp_inv   total_pymnt  \\\n",
       "178659       5000         3400        0.0            0.0   3643.290000   \n",
       "179511       2875         2850        0.0            0.0   3181.145363   \n",
       "220369      32000        31900        0.0            0.0  33855.959850   \n",
       "221038      25000        24975        0.0            0.0  26453.004910   \n",
       "221199      27500        27475        0.0            0.0  38023.089990   \n",
       "...           ...          ...        ...            ...           ...   \n",
       "316580      20000        13675        0.0            0.0  14786.731120   \n",
       "316582      17500        16800        0.0            0.0   4711.000000   \n",
       "316583      35000        22550        0.0            0.0  22724.800000   \n",
       "316586      20000        12675        0.0            0.0  17801.931680   \n",
       "316592      12000         7775        0.0            0.0  11163.948260   \n",
       "\n",
       "        total_pymnt_inv  total_rec_prncp  total_rec_int  total_rec_late_fee  \n",
       "178659          3643.29          3400.00         243.29                 0.0  \n",
       "179511          3181.15          2850.00         331.15                 0.0  \n",
       "220369         33829.43         31900.00        1955.96                 0.0  \n",
       "221038         26453.00         24975.00        1478.00                 0.0  \n",
       "221199         38023.09         27475.00       10548.09                 0.0  \n",
       "...                 ...              ...            ...                 ...  \n",
       "316580          7217.66         13675.00        1111.73                 0.0  \n",
       "316582          4703.99          1662.30        3042.60                 0.0  \n",
       "316583         22724.80         14480.92        8232.35                 0.0  \n",
       "316586         17801.93         12675.00        5126.93                 0.0  \n",
       "316592         11163.95          7775.00        3388.95                 0.0  \n",
       "\n",
       "[61 rows x 9 columns]"
      ]
     },
     "execution_count": 358,
     "metadata": {},
     "output_type": "execute_result"
    }
   ],
   "source": [
    "data[data.loan_amnt != data.funded_amnt][payment]"
   ]
  },
  {
   "cell_type": "code",
   "execution_count": 360,
   "id": "happy-crack",
   "metadata": {},
   "outputs": [
    {
     "name": "stdout",
     "output_type": "stream",
     "text": [
      "<class 'pandas.core.frame.DataFrame'>\n",
      "Int64Index: 673340 entries, 126 to 2854458\n",
      "Data columns (total 9 columns):\n",
      " #   Column              Non-Null Count   Dtype  \n",
      "---  ------              --------------   -----  \n",
      " 0   loan_amnt           673340 non-null  int64  \n",
      " 1   funded_amnt         673340 non-null  int64  \n",
      " 2   out_prncp           673340 non-null  float64\n",
      " 3   out_prncp_inv       673340 non-null  float64\n",
      " 4   total_pymnt         673340 non-null  float64\n",
      " 5   total_pymnt_inv     673340 non-null  float64\n",
      " 6   total_rec_prncp     673340 non-null  float64\n",
      " 7   total_rec_int       673340 non-null  float64\n",
      " 8   total_rec_late_fee  673340 non-null  float64\n",
      "dtypes: float64(7), int64(2)\n",
      "memory usage: 67.5 MB\n"
     ]
    }
   ],
   "source": [
    "data.loc[:,payment].info()"
   ]
  },
  {
   "cell_type": "code",
   "execution_count": 381,
   "id": "american-conjunction",
   "metadata": {
    "scrolled": true
   },
   "outputs": [
    {
     "data": {
      "text/plain": [
       "12041.977308466025"
      ]
     },
     "execution_count": 381,
     "metadata": {},
     "output_type": "execute_result"
    }
   ],
   "source": [
    "(data.loc[y_test.index[tp]]['funded_amnt'].sum()-data.loc[y_test.index[tp]]['total_rec_prncp'].sum())/y_test.index[tp].shape[0]"
   ]
  },
  {
   "cell_type": "code",
   "execution_count": 382,
   "id": "scheduled-vermont",
   "metadata": {},
   "outputs": [
    {
     "data": {
      "text/plain": [
       "2283844.46"
      ]
     },
     "execution_count": 382,
     "metadata": {},
     "output_type": "execute_result"
    }
   ],
   "source": [
    "data.loc[y_test.index[fp]]['total_rec_int'].sum()"
   ]
  },
  {
   "cell_type": "code",
   "execution_count": 391,
   "id": "extended-plaintiff",
   "metadata": {},
   "outputs": [],
   "source": [
    "def potential_principal_saved(tp, fp, interest=False):\n",
    "    # Principal remaining\n",
    "    funded = data.loc[y_test.index[tp]]['funded_amnt'].sum()\n",
    "    princ_rec = data.loc[y_test.index[tp]]['total_rec_prncp'].sum()\n",
    "    int_rec = data.loc[y_test.index[tp]]['total_rec_int'].sum()\n",
    "    missed_int = data.loc[y_test.index[fp]]['total_rec_int'].sum()\n",
    "    saved = funded - princ_rec - missed_int\n",
    "    if interest:\n",
    "        saved -= int_rec\n",
    "    return saved\n",
    "    "
   ]
  },
  {
   "cell_type": "code",
   "execution_count": 392,
   "id": "boolean-newton",
   "metadata": {},
   "outputs": [],
   "source": [
    "savings = []\n",
    "for t in threshold:\n",
    "    tp, tn, fp, fn = get_cf_arrays(y_test, get_yhat(probabilities[:,1], t))\n",
    "    savings.append(potential_principal_saved(tp, fp))"
   ]
  },
  {
   "cell_type": "code",
   "execution_count": 393,
   "id": "wrapped-investor",
   "metadata": {},
   "outputs": [
    {
     "data": {
      "text/plain": [
       "[<matplotlib.lines.Line2D at 0x3796a5e50>]"
      ]
     },
     "execution_count": 393,
     "metadata": {},
     "output_type": "execute_result"
    },
    {
     "data": {
      "image/png": "[encoded data removed]",
      "text/plain": [
       "<Figure size 432x288 with 1 Axes>"
      ]
     },
     "metadata": {
      "needs_background": "light"
     },
     "output_type": "display_data"
    }
   ],
   "source": [
    "fig, ax = plt.subplots()\n",
    "\n",
    "ax.plot(threshold, savings)"
   ]
  },
  {
   "cell_type": "code",
   "execution_count": 398,
   "id": "stupid-conditioning",
   "metadata": {},
   "outputs": [],
   "source": [
    "savings = []\n",
    "for t in threshold:\n",
    "    tp, tn, fp, fn = get_cf_arrays(y_test, get_yhat(probabilities[:,1], t))\n",
    "    savings.append(potential_principal_saved(tp, fp, True))\n"
   ]
  },
  {
   "cell_type": "code",
   "execution_count": 399,
   "id": "electoral-soldier",
   "metadata": {},
   "outputs": [
    {
     "data": {
      "text/plain": [
       "Text(0.5, 0, 'Threshold')"
      ]
     },
     "execution_count": 399,
     "metadata": {},
     "output_type": "execute_result"
    },
    {
     "data": {
      "image/png": "[encoded data removed]",
      "text/plain": [
       "<Figure size 576x432 with 1 Axes>"
      ]
     },
     "metadata": {
      "needs_background": "light"
     },
     "output_type": "display_data"
    }
   ],
   "source": [
    "fig, ax = plt.subplots(figsize=(8,6))\n",
    "\n",
    "ax.plot(threshold, savings)\n",
    "ax.set_xlabel('Threshold')\n",
    "ax.set_ylabel('Dollars Saved')"
   ]
  },
  {
   "cell_type": "code",
   "execution_count": 396,
   "id": "brazilian-question",
   "metadata": {},
   "outputs": [
    {
     "data": {
      "text/plain": [
       "0.3877551020408163"
      ]
     },
     "execution_count": 396,
     "metadata": {},
     "output_type": "execute_result"
    }
   ],
   "source": [
    "threshold[np.argmax(savings)]"
   ]
  },
  {
   "cell_type": "code",
   "execution_count": null,
   "id": "dominant-youth",
   "metadata": {},
   "outputs": [],
   "source": []
  }
 ],
 "metadata": {
  "kernelspec": {
   "display_name": "Python 3",
   "language": "python",
   "name": "python3"
  },
  "language_info": {
   "codemirror_mode": {
    "name": "ipython",
    "version": 3
   },
   "file_extension": ".py",
   "mimetype": "text/x-python",
   "name": "python",
   "nbconvert_exporter": "python",
   "pygments_lexer": "ipython3",
   "version": "3.8.8"
  }
 },
 "nbformat": 4,
 "nbformat_minor": 5
}
